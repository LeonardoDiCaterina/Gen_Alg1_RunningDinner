{
 "cells": [
  {
   "cell_type": "markdown",
   "metadata": {},
   "source": [
    "# 🧬 Demo: Genetic Algorithm Individual Class\n",
    "\n",
    "This notebook demonstrates the functionality of the `Individual` abstract base class and a concrete subclass `BinaryIndividual`. The goal is to show how this flexible design supports mutation, crossover, fitness evaluation, and operator overloading for use in genetic algorithms.\n",
    "\n",
    "## 🧱 Class Overview\n",
    "\n",
    "- `Individual`: An abstract class that defines a genetic algorithm individual.\n",
    "  - Includes pluggable methods: `random_representation`, `mutation`, `crossover`, `calculate_fitness`, and `semantic_key`.\n",
    "  - Overloads key operators for convenience:\n",
    "    - `@` → Crossover (e.g., `child = parent1 @ parent2`)\n",
    "    - `**` → Multiple self-crossovers (e.g., `clones = parent ** 3`)\n",
    "    - `()` → Evaluate fitness (e.g., `fitness = individual()`)\n",
    "    - Comparison (`<`, `>`, etc.) based on fitness\n",
    "    - Hashing and equality via `semantic_key` for use in sets and dictionaries\n",
    "\n",
    "- `BinaryIndividual`: A concrete implementation where the genome is a list of 0s and 1s.\n",
    "  - Fitness is defined as the number of 1s (maximize ones).\n",
    "  - Mutation flips a single bit.\n",
    "  - Crossover combines parts of the genome from two parents.\n",
    "\n",
    "## ✅ Features Demonstrated\n",
    "\n",
    "1. **Random Initialization**\n",
    "   - Create individuals with random binary genomes.\n",
    "\n",
    "2. **Fitness Evaluation**\n",
    "   - Automatically lazily computed and cached.\n",
    "\n",
    "3. **Mutation**\n",
    "   - Use `mutation()` to modify an individual in-place.\n",
    "\n",
    "4. **Crossover**\n",
    "   - Use the `@` operator (or `crossover()`) to generate a child from two parents.\n",
    "\n",
    "5. **Iteration**\n",
    "   - Use a `for` loop to generate several mutated versions from an individual.\n",
    "\n",
    "6. **Operator Overloading**\n",
    "   - Use Python syntax sugar for fitness, crossover, and comparisons.\n",
    "\n",
    "7. **Sorting Individuals**\n",
    "   - Individuals are comparable by fitness, so they can be sorted.\n",
    "\n",
    "8. **Using Sets**\n",
    "   - `Individual` instances are hashable via `semantic_key`, allowing deduplication in sets or as dictionary keys.\n",
    "\n",
    "This modular and extensible framework allows for easy implementation of different genome types and evolutionary strategies."
   ]
  },
  {
   "cell_type": "code",
   "execution_count": 1,
   "metadata": {},
   "outputs": [],
   "source": [
    "from abc import ABC, abstractmethod\n",
    "from copy import deepcopy\n",
    "import random"
   ]
  },
  {
   "cell_type": "code",
   "execution_count": 2,
   "metadata": {},
   "outputs": [
    {
     "name": "stdout",
     "output_type": "stream",
     "text": [
      "['/opt/anaconda3/envs/CIFO/lib/python312.zip', '/opt/anaconda3/envs/CIFO/lib/python3.12', '/opt/anaconda3/envs/CIFO/lib/python3.12/lib-dynload', '', '/opt/anaconda3/envs/CIFO/lib/python3.12/site-packages']\n"
     ]
    }
   ],
   "source": [
    "# import a script in another directory\n",
    "import sys\n",
    "import os\n",
    "relative_path = os.path.join(\"..\", \"Classes\")\n",
    "print(sys.path)\n",
    "sys.path.append(relative_path)\n",
    "#sorted(os.listdir(relative_pathhgggggfffddwwddssddbbbbbbeeeeeeeaaaaaaaaaatttttttrrrrrrriiiiiizzzzzzzzzzzzz))\n",
    "from Individual import Individual"
   ]
  },
  {
   "cell_type": "code",
   "execution_count": 6,
   "metadata": {},
   "outputs": [],
   "source": [
    "class BinaryIndividual(Individual):\n",
    "    def __init__(self, genome_length=10):\n",
    "        super().__init__()\n",
    "        self.genome_length = genome_length\n",
    "        self.genome = [0] * genome_length\n",
    "        self.random_representation()\n",
    "\n",
    "    def random_representation(self):\n",
    "        self.genome = [random.choice([0, 1]) for _ in range(self.genome_length)]\n",
    "\n",
    "    def check_representation(self):\n",
    "        return all(g in [0, 1] for g in self.genome)\n",
    "\n",
    "    def calculate_fitness(self):\n",
    "        return sum(self.genome)  # Maximize number of 1s\n",
    "\n",
    "    def mutation(self):\n",
    "        idx = random.randint(0, self.genome_length - 1)\n",
    "        self.genome[idx] = 1 - self.genome[idx]  # Flip bit\n",
    "        return self\n",
    "\n",
    "    def crossover(self, other):\n",
    "        pivot = random.randint(1, self.genome_length - 1)\n",
    "        child = self.copy_Individual()\n",
    "        child.genome = self.genome[:pivot] + other.genome[pivot:]\n",
    "        return child\n",
    "\n",
    "    def semantic_key(self):\n",
    "        return tuple(self.genome)"
   ]
  },
  {
   "cell_type": "markdown",
   "metadata": {},
   "source": [
    "# Testing Features"
   ]
  },
  {
   "cell_type": "markdown",
   "metadata": {},
   "source": [
    "## Create two individuals\n"
   ]
  },
  {
   "cell_type": "code",
   "execution_count": 7,
   "metadata": {},
   "outputs": [
    {
     "name": "stdout",
     "output_type": "stream",
     "text": [
      "Individual 1: [0, 1, 1, 0, 0, 0, 0, 1, 0, 1]\n",
      "Fitness 1: 4.0\n",
      "Individual 2: [1, 1, 0, 0, 0, 0, 0, 0, 0, 1]\n",
      "Fitness 2: 3.0\n"
     ]
    }
   ],
   "source": [
    "ind1 = BinaryIndividual()\n",
    "ind2 = BinaryIndividual()\n",
    "\n",
    "print(\"Individual 1:\", ind1.genome)\n",
    "print(\"Fitness 1:\", float(ind1))\n",
    "\n",
    "print(\"Individual 2:\", ind2.genome)\n",
    "print(\"Fitness 2:\", float(ind2))"
   ]
  },
  {
   "cell_type": "markdown",
   "metadata": {},
   "source": [
    "## Crossover\n"
   ]
  },
  {
   "cell_type": "code",
   "execution_count": 10,
   "metadata": {},
   "outputs": [
    {
     "name": "stdout",
     "output_type": "stream",
     "text": [
      "\n",
      "Child (crossover): [0, 1, 0, 0, 0, 0, 0, 0, 0, 1]\n",
      "Fitness (child): 2.0\n"
     ]
    }
   ],
   "source": [
    "child = ind1 @ ind2\n",
    "print(\"\\nChild (crossover):\", child.genome)\n",
    "print(\"Fitness (child):\", float(child))"
   ]
  },
  {
   "cell_type": "markdown",
   "metadata": {},
   "source": [
    "## Mutation\n"
   ]
  },
  {
   "cell_type": "code",
   "execution_count": 12,
   "metadata": {},
   "outputs": [
    {
     "name": "stdout",
     "output_type": "stream",
     "text": [
      "\n",
      "Mutated Individual: [0, 0, 1, 0, 0, 0, 0, 1, 0, 1]\n",
      "Fitness (mutated): 3.0\n"
     ]
    }
   ],
   "source": [
    "mutant = ind1.copy_Individual()\n",
    "mutant.mutation()\n",
    "print(\"\\nMutated Individual:\", mutant.genome)\n",
    "print(\"Fitness (mutated):\", float(mutant))"
   ]
  },
  {
   "cell_type": "markdown",
   "metadata": {},
   "source": [
    "## Iteration (generate mutated versions)"
   ]
  },
  {
   "cell_type": "code",
   "execution_count": 14,
   "metadata": {},
   "outputs": [
    {
     "name": "stdout",
     "output_type": "stream",
     "text": [
      "\n",
      "Multiple Mutations:\n",
      "Mutation 1: [0, 0, 1, 0, 0, 0, 0, 1, 0, 1] Fitness: 3.0\n",
      "Mutation 2: [0, 1, 1, 0, 0, 0, 0, 1, 1, 1] Fitness: 5.0\n",
      "Mutation 3: [0, 1, 1, 0, 0, 0, 1, 1, 0, 1] Fitness: 5.0\n",
      "Mutation 4: [0, 1, 1, 0, 0, 1, 0, 1, 0, 1] Fitness: 5.0\n",
      "Mutation 5: [0, 0, 1, 0, 0, 0, 0, 1, 0, 1] Fitness: 3.0\n"
     ]
    }
   ],
   "source": [
    "print(\"\\nMultiple Mutations:\")\n",
    "for i, m in enumerate(ind1):\n",
    "    print(f\"Mutation {i+1}:\", m.genome, \"Fitness:\", float(m))"
   ]
  },
  {
   "cell_type": "markdown",
   "metadata": {},
   "source": [
    "## Operator Overloading"
   ]
  },
  {
   "cell_type": "code",
   "execution_count": 16,
   "metadata": {},
   "outputs": [
    {
     "name": "stdout",
     "output_type": "stream",
     "text": [
      "\n",
      "Using ** Operator for Self-Crossover\n",
      "Clone 1: [0, 1, 1, 0, 0, 0, 0, 1, 0, 1]\n",
      "Clone 2: [0, 1, 1, 0, 0, 0, 0, 1, 0, 1]\n",
      "Clone 3: [0, 1, 1, 0, 0, 0, 0, 1, 0, 1]\n"
     ]
    }
   ],
   "source": [
    "print(\"\\nUsing ** Operator for Self-Crossover\")\n",
    "clones = ind1 ** 3\n",
    "for i, c in enumerate(clones):\n",
    "    print(f\"Clone {i+1}:\", c.genome)"
   ]
  },
  {
   "cell_type": "markdown",
   "metadata": {},
   "source": [
    "## Comparison\n"
   ]
  },
  {
   "cell_type": "code",
   "execution_count": 17,
   "metadata": {},
   "outputs": [
    {
     "name": "stdout",
     "output_type": "stream",
     "text": [
      "\n",
      "Is Individual 1 better than Individual 2? True\n"
     ]
    }
   ],
   "source": [
    "print(\"\\nIs Individual 1 better than Individual 2?\", ind1 > ind2)"
   ]
  },
  {
   "cell_type": "markdown",
   "metadata": {},
   "source": [
    "## Sorting and Deduplication via Set"
   ]
  },
  {
   "cell_type": "code",
   "execution_count": 18,
   "metadata": {},
   "outputs": [
    {
     "name": "stdout",
     "output_type": "stream",
     "text": [
      "\n",
      "=== Sorting Individuals by Fitness ===\n",
      "Ind 1: Genome = [0, 0, 0, 0, 0, 0, 0, 0, 0, 0], Fitness = 0.0\n",
      "Ind 2: Genome = [0, 1, 0, 1, 0, 1, 1, 0, 1, 0], Fitness = 5.0\n",
      "Ind 3: Genome = [0, 1, 1, 1, 0, 0, 0, 0, 0, 1], Fitness = 4.0\n",
      "Ind 4: Genome = [0, 1, 1, 0, 0, 1, 0, 0, 1, 1], Fitness = 5.0\n",
      "Ind 5: Genome = [0, 0, 0, 0, 1, 0, 0, 1, 1, 1], Fitness = 4.0\n",
      "\n",
      "Sorted by fitness (ascending):\n",
      "Rank 1: Genome = [0, 0, 0, 0, 0, 0, 0, 0, 0, 0], Fitness = 0.0\n",
      "Rank 2: Genome = [0, 1, 1, 1, 0, 0, 0, 0, 0, 1], Fitness = 4.0\n",
      "Rank 3: Genome = [0, 0, 0, 0, 1, 0, 0, 1, 1, 1], Fitness = 4.0\n",
      "Rank 4: Genome = [0, 1, 0, 1, 0, 1, 1, 0, 1, 0], Fitness = 5.0\n",
      "Rank 5: Genome = [0, 1, 1, 0, 0, 1, 0, 0, 1, 1], Fitness = 5.0\n"
     ]
    }
   ],
   "source": [
    "print(\"\\n=== Sorting Individuals by Fitness ===\")\n",
    "individuals = [BinaryIndividual() for _ in range(5)]\n",
    "\n",
    "for i, ind in enumerate(individuals):\n",
    "    print(f\"Ind {i+1}: Genome = {ind.genome}, Fitness = {float(ind)}\")\n",
    "\n",
    "sorted_individuals = sorted(individuals)\n",
    "print(\"\\nSorted by fitness (ascending):\")\n",
    "for i, ind in enumerate(sorted_individuals):\n",
    "    print(f\"Rank {i+1}: Genome = {ind.genome}, Fitness = {float(ind)}\")"
   ]
  },
  {
   "cell_type": "markdown",
   "metadata": {},
   "source": [
    "## Storing Unique Individuals in a Set"
   ]
  },
  {
   "cell_type": "code",
   "execution_count": 20,
   "metadata": {},
   "outputs": [
    {
     "name": "stdout",
     "output_type": "stream",
     "text": [
      "\n",
      "=== Deduplication with Set ===\n",
      "Unique 1: Genome = [1, 0, 0, 1, 1, 0, 0, 1, 1, 0], Fitness = 5.0\n",
      "Unique 2: Genome = [0, 0, 1, 0, 0, 1, 0, 1, 0, 0], Fitness = 3.0\n",
      "\n",
      "Total unique individuals: 2\n"
     ]
    }
   ],
   "source": [
    "print(\"\\n=== Deduplication with Set ===\")\n",
    "ind1 = BinaryIndividual()\n",
    "ind2 = ind1.copy_Individual(delete_fitness=False)  # Exact copy\n",
    "\n",
    "# Mutate a third individual to likely get a different genome\n",
    "ind3 = BinaryIndividual()\n",
    "ind3.mutation()\n",
    "\n",
    "ind_set = {ind1, ind2, ind3}\n",
    "\n",
    "for i, ind in enumerate(ind_set):\n",
    "    print(f\"Unique {i+1}: Genome = {ind.genome}, Fitness = {float(ind)}\")\n",
    "\n",
    "print(f\"\\nTotal unique individuals: {len(ind_set)}\")"
   ]
  }
 ],
 "metadata": {
  "kernelspec": {
   "display_name": "CIFO",
   "language": "python",
   "name": "python3"
  },
  "language_info": {
   "codemirror_mode": {
    "name": "ipython",
    "version": 3
   },
   "file_extension": ".py",
   "mimetype": "text/x-python",
   "name": "python",
   "nbconvert_exporter": "python",
   "pygments_lexer": "ipython3",
   "version": "3.12.9"
  }
 },
 "nbformat": 4,
 "nbformat_minor": 2
}
