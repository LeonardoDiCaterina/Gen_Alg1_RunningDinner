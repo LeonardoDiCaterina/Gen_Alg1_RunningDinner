{
 "cells": [
  {
   "cell_type": "markdown",
   "metadata": {},
   "source": [
    "# 🧬 Demo: Genetic Algorithm Individual Class\n",
    "\n",
    "This notebook demonstrates the functionality of the `Individual` abstract base class and a concrete subclass `BinaryIndividual`. The goal is to show how this flexible design supports mutation, crossover, fitness evaluation, and operator overloading for use in genetic algorithms.\n",
    "\n",
    "## 🧱 Class Overview\n",
    "\n",
    "- `Individual`: An abstract class that defines a genetic algorithm individual.\n",
    "  - Includes pluggable methods: `random_representation`, `mutation`, `crossover`, `calculate_fitness`, and `semantic_key`.\n",
    "  - Overloads key operators for convenience:\n",
    "    - `@` → Crossover (e.g., `child = parent1 @ parent2`)\n",
    "    - `**` → Multiple self-crossovers (e.g., `clones = parent ** 3`)\n",
    "    - `()` → Evaluate fitness (e.g., `fitness = individual()`)\n",
    "    - Comparison (`<`, `>`, etc.) based on fitness\n",
    "    - Hashing and equality via `semantic_key` for use in sets and dictionaries\n",
    "\n",
    "- `BinaryIndividual`: A concrete implementation where the genome is a list of 0s and 1s.\n",
    "  - Fitness is defined as the number of 1s (maximize ones).\n",
    "  - Mutation flips a single bit.\n",
    "  - Crossover combines parts of the genome from two parents.\n",
    "\n",
    "## ✅ Features Demonstrated\n",
    "\n",
    "1. **Random Initialization**\n",
    "   - Create individuals with random binary genomes.\n",
    "\n",
    "2. **Fitness Evaluation**\n",
    "   - Automatically lazily computed and cached.\n",
    "\n",
    "3. **Mutation**\n",
    "   - Use `mutation()` to modify an individual in-place.\n",
    "\n",
    "4. **Crossover**\n",
    "   - Use the `@` operator (or `crossover()`) to generate a child from two parents.\n",
    "\n",
    "5. **Iteration**\n",
    "   - Use a `for` loop to generate several mutated versions from an individual.\n",
    "\n",
    "6. **Operator Overloading**\n",
    "   - Use Python syntax sugar for fitness, crossover, and comparisons.\n",
    "\n",
    "7. **Sorting Individuals**\n",
    "   - Individuals are comparable by fitness, so they can be sorted.\n",
    "\n",
    "8. **Using Sets**\n",
    "   - `Individual` instances are hashable via `semantic_key`, allowing deduplication in sets or as dictionary keys.\n",
    "\n",
    "This modular and extensible framework allows for easy implementation of different genome types and evolutionary strategies."
   ]
  },
  {
   "cell_type": "code",
   "execution_count": null,
   "metadata": {},
   "outputs": [],
   "source": [
    "from abc import ABC, abstractmethod\n",
    "from copy import deepcopy\n",
    "import random"
   ]
  },
  {
   "cell_type": "code",
   "execution_count": null,
   "metadata": {},
   "outputs": [],
   "source": [
    "# import a script in another directory\n",
    "import sys\n",
    "import os\n",
    "#relative_path = os.path.join(\"..\", \"Classes\")\n",
    "print(sys.path)\n",
    "#sorted(os.listdir(relative_pathhgggggfffddwwddssddbbbbbbeeeeeeeaaaaaaaaaatttttttrrrrrrriiiiiizzzzzzzzzzzzz))\n"
   ]
  },
  {
   "cell_type": "code",
   "execution_count": null,
   "metadata": {},
   "outputs": [],
   "source": [
    "#Individual.py\n",
    "from abc import ABC, abstractmethod\n",
    "from copy import deepcopy\n",
    "\n",
    "\n",
    "class Individual(ABC):\n",
    "\n",
    "    def __init__(self):\n",
    "        self._mutation_probability = 0.5\n",
    "        self._crossover_probability = 0.5\n",
    "        self.mutation_count = 5\n",
    "        self._fitness = None\n",
    "\n",
    "    @property\n",
    "    def mutation_probability(self):\n",
    "        return self._mutation_probability\n",
    "\n",
    "    @mutation_probability.setter\n",
    "    def mutation_probability(self, value):\n",
    "        if not isinstance(value, (int, float)):\n",
    "            raise TypeError(\"Mutation probability must be an int or float.\")\n",
    "        if not (0 <= value <= 1):\n",
    "            raise ValueError(\"Mutation probability must be between 0 and 1.\")\n",
    "        self._mutation_probability = value\n",
    "\n",
    "    @property\n",
    "    def crossover_probability(self):\n",
    "        return self._crossover_probability\n",
    "\n",
    "    @crossover_probability.setter\n",
    "    def crossover_probability(self, value):\n",
    "        if not isinstance(value, (int, float)):\n",
    "            raise TypeError(\"Crossover probability must be an int or float.\")\n",
    "        if not (0 <= value <= 1):\n",
    "            raise ValueError(\"Crossover probability must be between 0 and 1.\")\n",
    "        self._crossover_probability = value\n",
    "\n",
    "    @abstractmethod\n",
    "    def random_representation(self) -> None:\n",
    "        \"\"\" Generate a random representation of the individual.\"\"\"\n",
    "        pass\n",
    "    \n",
    "    @abstractmethod\n",
    "    def check_representation(self) -> bool:\n",
    "        \"\"\" Check if the representation is valid.\"\"\"\n",
    "        return True\n",
    "    @property\n",
    "    def fitness(self):\n",
    "        if self._fitness is None:\n",
    "            self._fitness = self.calculate_fitness()  # Only calculate when needed but once it is calculated it is stored\n",
    "        return self._fitness\n",
    "    \n",
    "    @abstractmethod\n",
    "    def calculate_fitness(self):\n",
    "        pass\n",
    "    \n",
    "    # Method for mutation\n",
    "    @abstractmethod\n",
    "    def mutation(self):\n",
    "        pass\n",
    "\n",
    "    # Method for crossover\n",
    "    @abstractmethod\n",
    "    def crossover(self, other):\n",
    "        pass\n",
    "    \n",
    "    \n",
    "    \n",
    "    @abstractmethod\n",
    "    def semantic_key(self):\n",
    "        \"\"\"Return a hashable object that defines semantic equivalence.\n",
    "        This is used to check if two individuals are semantically equivalent.\n",
    "        In Grouping problems for example, the semantic key is the ordered set of the elements in the genome.\n",
    "\n",
    "        Returns:\n",
    "            hashable: A hashable object that defines semantic equivalence.\n",
    "        \n",
    "        \"\"\"\n",
    "        pass\n",
    "\n",
    "    def __hash__(self):\n",
    "        return hash(self.semantic_key())    \n",
    "\n",
    "\n",
    "    def __iter__(self):\n",
    "        for _ in range(self.mutation_count):\n",
    "            yield next(self)\n",
    "        \n",
    "    def __next__(self):\n",
    "        copy = self.copy_Individual(delete_fitness=True)\n",
    "        copy.mutation()\n",
    "        return copy\n",
    "\n",
    "\n",
    "    def __matmul__(self, other):\n",
    "        return self.crossover(other)\n",
    "    \n",
    "    def __pow__(self, power):\n",
    "         return [self.crossover(self) for _ in range(power)]\n",
    "\n",
    "    def __call__(self):\n",
    "        return self.fitness\n",
    "\n",
    "    def __float__(self):\n",
    "        return float(self.fitness) if self.fitness is not None else float('-inf')\n",
    "\n",
    "    # Comparison Methods\n",
    "    def __eq__(self, other):\n",
    "        if not isinstance(other, Individual):\n",
    "            return False\n",
    "        return self.semantic_key() == other.semantic_key()\n",
    "\n",
    "    def __ne__(self, other):\n",
    "        return not self.__eq__(other)\n",
    "\n",
    "    def __lt__(self, other):\n",
    "        return float(self) < float(other)\n",
    "    \n",
    "    def __le__(self, other):\n",
    "        return float(self) <= float(other)\n",
    "    \n",
    "    def __gt__(self, other):\n",
    "        return float(self) > float(other)\n",
    "    \n",
    "    def __ge__(self, other):\n",
    "        return float(self) >= float(other)\n",
    "    \n",
    "    \n",
    "    def __len__(self):\n",
    "        \"\"\" Return the length of the genome. \"\"\"\n",
    "        return len(self.genome)\n",
    "\n",
    "    # String Representation\n",
    "    def __str__(self):\n",
    "        return f\"Fitness: {self.fitness}\"\n",
    "    \n",
    "    # Deep Copy\n",
    "    def copy_Individual(self, delete_fitness=True):\n",
    "        \"\"\"\n",
    "        Returns a deep copy of the individual, optionally deleting the fitness attribute.\n",
    "        This is useful for creating a new individual that is a copy of the current one and are ready to be mutated or crossed over.\n",
    "        The fitness of the new individual will be set to None if delete_fitness is True.\n",
    "        This is necessary because the fitness of the new individual will be calculated again after mutation or crossover.\n",
    "        \n",
    "        Args:\n",
    "            delete_fitness (bool): If True, the fitness of the new individual will be set to None.\n",
    "        Returns:\n",
    "            Individual: A deep copy of the individual.\n",
    "        \n",
    "        \"\"\"\n",
    "        new_individual = deepcopy(self)\n",
    "        if delete_fitness:\n",
    "            new_individual._fitness = None\n",
    "        return new_individual\n"
   ]
  },
  {
   "cell_type": "code",
   "execution_count": null,
   "metadata": {},
   "outputs": [],
   "source": [
    "import os\n",
    "import pandas as pd\n",
    "os.chdir(os.pardir) # comment if you are running this more than once\n",
    "data_matrix_df = pd.read_csv('data/distance_matrix_official.csv', index_col=0)\n",
    "data_matrix_np = data_matrix_df.to_numpy()\n",
    "data_matrix_np.shape"
   ]
  },
  {
   "cell_type": "code",
   "execution_count": null,
   "metadata": {},
   "outputs": [],
   "source": [
    "from Genetic_algorithm.fitness import ResourceFitness\n",
    "from Genetic_algorithm.genome import Genome\n",
    "\n",
    "MyFitness = ResourceFitness(data_matrix_np)"
   ]
  },
  {
   "cell_type": "code",
   "execution_count": null,
   "metadata": {},
   "outputs": [],
   "source": [
    "my_genome = Genome()"
   ]
  },
  {
   "cell_type": "code",
   "execution_count": null,
   "metadata": {},
   "outputs": [],
   "source": [
    "from copy import deepcopy\n",
    "from Genetic_algorithm.mutations import logistic_mutation, social_mutation\n",
    "import random\n",
    "\n",
    "class BinaryIndividual(Individual):\n",
    "    def __init__(self, genome_class, fitness_instance):\n",
    "        super().__init__()\n",
    "        self.genome_class = genome_class\n",
    "        self.random_representation()\n",
    "        self.fitness_instance = fitness_instance\n",
    "\n",
    "    def random_representation(self):\n",
    "        self.genome = self.genome_class()\n",
    "\n",
    "    def check_representation(self):\n",
    "        return True\n",
    "\n",
    "    def calculate_fitness(self):\n",
    "    \n",
    "        return self.fitness_instance.evaluate(self.genome)\n",
    "\n",
    "    def mutation(self):\n",
    "        new_genome = None\n",
    "        if random.random() < self.prob_social_mutation:\n",
    "            new_genome =  social_mutation(self.genome)\n",
    "            \n",
    "        else:\n",
    "            new_genome  = logistic_mutation(self.genome)\n",
    "        \n",
    "        new_individual = self.copy_Individual(delete_fitness=True)\n",
    "        new_individual.genome = new_genome\n",
    "        return new_individual\n",
    "    \n",
    "\n",
    "    def crossover(self, other):\n",
    "        return deepcopy(self),deepcopy(other)\n",
    "\n",
    "    def semantic_key(self):\n",
    "        return self.genome.semantic_key()"
   ]
  },
  {
   "cell_type": "code",
   "execution_count": null,
   "metadata": {},
   "outputs": [],
   "source": [
    "'''class BinaryIndividual(Individual):\n",
    "    def __init__(self, genome_length=10):\n",
    "        super().__init__()\n",
    "        self.genome_length = genome_length\n",
    "        self.genome = [0] * genome_length\n",
    "        self.random_representation()\n",
    "\n",
    "    def random_representation(self):\n",
    "        self.genome = [random.choice([0, 1]) for _ in range(self.genome_length)]\n",
    "\n",
    "    def check_representation(self):\n",
    "        return all(g in [0, 1] for g in self.genome)\n",
    "\n",
    "    def calculate_fitness(self):\n",
    "        return sum(self.genome)  # Maximize number of 1s\n",
    "\n",
    "    def mutation(self):\n",
    "        idx = random.randint(0, self.genome_length - 1)\n",
    "        self.genome[idx] = 1 - self.genome[idx]  # Flip bit\n",
    "        return self\n",
    "\n",
    "    def crossover(self, other):\n",
    "        pivot = random.randint(1, self.genome_length - 1)\n",
    "        child = self.copy_Individual()\n",
    "        child.genome = self.genome[:pivot] + other.genome[pivot:]\n",
    "        return child\n",
    "\n",
    "    def semantic_key(self):\n",
    "        return tuple(self.genome)'''"
   ]
  },
  {
   "cell_type": "markdown",
   "metadata": {},
   "source": [
    "# Testing Features"
   ]
  },
  {
   "cell_type": "markdown",
   "metadata": {},
   "source": [
    "## Create two individuals\n"
   ]
  },
  {
   "cell_type": "code",
   "execution_count": null,
   "metadata": {},
   "outputs": [],
   "source": [
    "ind1 = BinaryIndividual(Genome, MyFitness)\n",
    "ind2 = BinaryIndividual(Genome, MyFitness)\n",
    "\n",
    "print(\"Individual 1:\", ind1.genome)\n",
    "print(\"Fitness 1:\", float(ind1))\n",
    "\n",
    "print(\"Individual 2:\", ind2.genome)\n",
    "print(\"Fitness 2:\", float(ind2))"
   ]
  },
  {
   "cell_type": "markdown",
   "metadata": {},
   "source": [
    "## Crossover\n"
   ]
  },
  {
   "cell_type": "code",
   "execution_count": null,
   "metadata": {},
   "outputs": [],
   "source": [
    "child1, child2 = ind1 @ ind2\n",
    "print(\"Child (crossover):\", child1.genome)\n",
    "print(\"Fitness (child):\", float(child1))"
   ]
  },
  {
   "cell_type": "markdown",
   "metadata": {},
   "source": [
    "## Mutation\n"
   ]
  },
  {
   "cell_type": "code",
   "execution_count": null,
   "metadata": {},
   "outputs": [],
   "source": [
    "mutant = ind1.copy_Individual()\n",
    "mutant.mutation()\n",
    "print(\"\\nMutated Individual:\", mutant.genome)\n",
    "print(\"Fitness (mutated):\", float(mutant))"
   ]
  },
  {
   "cell_type": "markdown",
   "metadata": {},
   "source": [
    "## Iteration (generate mutated versions)"
   ]
  },
  {
   "cell_type": "code",
   "execution_count": null,
   "metadata": {},
   "outputs": [],
   "source": [
    "print(\"\\nMultiple Mutations:\")\n",
    "for i, m in enumerate(ind1):\n",
    "    print(f\"Mutation {i+1}:\", m.genome, \"Fitness:\", float(m))"
   ]
  },
  {
   "cell_type": "markdown",
   "metadata": {},
   "source": [
    "## Operator Overloading"
   ]
  },
  {
   "cell_type": "code",
   "execution_count": null,
   "metadata": {},
   "outputs": [],
   "source": [
    "print(\"\\nUsing ** Operator for Self-Crossover\")\n",
    "clones = ind1 ** 3\n",
    "for i, (clone1, clone2) in enumerate(clones):\n",
    "    print(f\"Clone pair {i+1}: Lengths = {len(clone1)}, {len(clone2)}\")"
   ]
  },
  {
   "cell_type": "markdown",
   "metadata": {},
   "source": [
    "## Comparison\n"
   ]
  },
  {
   "cell_type": "code",
   "execution_count": null,
   "metadata": {},
   "outputs": [],
   "source": [
    "print(\"\\nIs Individual 1 better than Individual 2?\", ind1 > ind2)"
   ]
  },
  {
   "cell_type": "markdown",
   "metadata": {},
   "source": [
    "## Sorting and Deduplication via Set"
   ]
  },
  {
   "cell_type": "code",
   "execution_count": null,
   "metadata": {},
   "outputs": [],
   "source": [
    "print(\"\\n=== Sorting Individuals by Fitness ===\")\n",
    "individuals = [BinaryIndividual() for _ in range(5)]\n",
    "\n",
    "for i, ind in enumerate(individuals):\n",
    "    print(f\"Ind {i+1}: Genome = {ind.genome}, Fitness = {float(ind)}\")\n",
    "\n",
    "sorted_individuals = sorted(individuals)\n",
    "print(\"\\nSorted by fitness (ascending):\")\n",
    "for i, ind in enumerate(sorted_individuals):\n",
    "    print(f\"Rank {i+1}: Genome = {ind.genome}, Fitness = {float(ind)}\")"
   ]
  },
  {
   "cell_type": "markdown",
   "metadata": {},
   "source": [
    "## Storing Unique Individuals in a Set"
   ]
  },
  {
   "cell_type": "code",
   "execution_count": null,
   "metadata": {},
   "outputs": [],
   "source": [
    "print(\"\\n=== Deduplication with Set ===\")\n",
    "ind1 = BinaryIndividual()\n",
    "ind2 = ind1.copy_Individual(delete_fitness=False)  # Exact copy\n",
    "\n",
    "# Mutate a third individual to likely get a different genome\n",
    "ind3 = BinaryIndividual()\n",
    "ind3.mutation()\n",
    "\n",
    "ind_set = {ind1, ind2, ind3}\n",
    "\n",
    "for i, ind in enumerate(ind_set):\n",
    "    print(f\"Unique {i+1}: Genome = {ind.genome}, Fitness = {float(ind)}\")\n",
    "\n",
    "print(f\"\\nTotal unique individuals: {len(ind_set)}\")"
   ]
  }
 ],
 "metadata": {
  "kernelspec": {
   "display_name": "CIFO",
   "language": "python",
   "name": "python3"
  },
  "language_info": {
   "codemirror_mode": {
    "name": "ipython",
    "version": 3
   },
   "file_extension": ".py",
   "mimetype": "text/x-python",
   "name": "python",
   "nbconvert_exporter": "python",
   "pygments_lexer": "ipython3",
   "version": "3.12.9"
  }
 },
 "nbformat": 4,
 "nbformat_minor": 2
}
