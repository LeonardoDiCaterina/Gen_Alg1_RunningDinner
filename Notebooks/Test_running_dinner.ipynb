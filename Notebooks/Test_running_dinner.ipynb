{
 "cells": [
  {
   "cell_type": "code",
   "execution_count": 1,
   "id": "1c7d7c60",
   "metadata": {},
   "outputs": [],
   "source": [
    "import time\n",
    "from running_dinner_ga.ga_algorithm import run_ga\n",
    "from running_dinner_ga.Individual_RD import IndividualRD\n",
    "import pandas as pd"
   ]
  },
  {
   "cell_type": "code",
   "execution_count": 2,
   "id": "26248c5b",
   "metadata": {},
   "outputs": [
    {
     "name": "stdout",
     "output_type": "stream",
     "text": [
      "Single-ind fitness: 2.372 (computed in 0.0175s)\n"
     ]
    }
   ],
   "source": [
    "import time\n",
    "from running_dinner_ga.ga_algorithm import run_ga\n",
    "from running_dinner_ga.Individual_RD import IndividualRD\n",
    "import pandas as pd\n",
    "\n",
    "coords_df = pd.read_csv('Data/coordinates_map.csv', index_col='Index')\n",
    "house_coords = coords_df[['Latitude','Longitude']].values[:10]\n",
    "\n",
    "# Create one individual and randomize it\n",
    "ind = IndividualRD(house_coords, n_participants=18, capacity_of_houses=6, a=1.0)\n",
    "ind.random_representation()\n",
    "\n",
    "# Time its fitness\n",
    "t0 = time.perf_counter()\n",
    "fit = ind.fitness\n",
    "t1 = time.perf_counter()\n",
    "print(f\"Single-ind fitness: {fit:.3f} (computed in {t1-t0:.4f}s)\")"
   ]
  },
  {
   "cell_type": "code",
   "execution_count": 3,
   "id": "9ce7b086",
   "metadata": {},
   "outputs": [
    {
     "name": "stdout",
     "output_type": "stream",
     "text": [
      "\n",
      ">>> Generation 1/1 start\n",
      "   loop 10: new_pop size = 20\n",
      "<<< Generation 1 done in 0.487s (loops: 10)\n",
      "\n",
      "GA complete.\n",
      "Total elapsed: 0.5080469070235267\n"
     ]
    }
   ],
   "source": [
    "import time, pandas as pd\n",
    "from running_dinner_ga.ga_algorithm import run_ga\n",
    "\n",
    "coords_df    = pd.read_csv('Data/coordinates_map.csv', index_col='Index')\n",
    "house_coords = coords_df[['Latitude','Longitude']].values[:10]\n",
    "\n",
    "t0 = time.perf_counter()\n",
    "_  = run_ga(\n",
    "    pop_size=20,\n",
    "    house_coords=house_coords,\n",
    "    n_participants=18,\n",
    "    capacity=6,\n",
    "    a=1.0,\n",
    "    generations=1,\n",
    "    selection_method='tournament',\n",
    "    tournament_size=3\n",
    ")\n",
    "print(\"Total elapsed:\", time.perf_counter() - t0)"
   ]
  },
  {
   "cell_type": "code",
   "execution_count": 1,
   "id": "2abd72eb",
   "metadata": {},
   "outputs": [
    {
     "name": "stdout",
     "output_type": "stream",
     "text": [
      "\n",
      ">>> Generation 1/10 start\n",
      "   loop 10: new_pop size = 20\n",
      "<<< Generation 1 done in 0.539s (loops: 10)\n",
      "\n",
      ">>> Generation 2/10 start\n",
      "   loop 10: new_pop size = 20\n",
      "<<< Generation 2 done in 0.454s (loops: 10)\n",
      "\n",
      ">>> Generation 3/10 start\n",
      "   loop 10: new_pop size = 20\n",
      "<<< Generation 3 done in 0.328s (loops: 10)\n",
      "\n",
      ">>> Generation 4/10 start\n",
      "   loop 10: new_pop size = 20\n",
      "<<< Generation 4 done in 0.564s (loops: 10)\n",
      "\n",
      ">>> Generation 5/10 start\n",
      "   loop 10: new_pop size = 20\n",
      "<<< Generation 5 done in 0.531s (loops: 10)\n",
      "\n",
      ">>> Generation 6/10 start\n",
      "   loop 10: new_pop size = 20\n",
      "<<< Generation 6 done in 0.137s (loops: 10)\n",
      "\n",
      ">>> Generation 7/10 start\n",
      "   loop 10: new_pop size = 20\n",
      "<<< Generation 7 done in 0.167s (loops: 10)\n",
      "\n",
      ">>> Generation 8/10 start\n",
      "   loop 10: new_pop size = 20\n",
      "<<< Generation 8 done in 0.170s (loops: 10)\n",
      "\n",
      ">>> Generation 9/10 start\n",
      "   loop 10: new_pop size = 20\n",
      "<<< Generation 9 done in 0.192s (loops: 10)\n",
      "\n",
      ">>> Generation 10/10 start\n",
      "   loop 10: new_pop size = 20\n",
      "<<< Generation 10 done in 0.449s (loops: 10)\n",
      "\n",
      "GA complete.\n",
      "Best fitness: 2.100453162056126\n",
      "Best genome: [ 2  1 -1  1  2  2  1  0  0  0  0  9  4 13 16 13 10 15 14 12  6  8  3 11\n",
      "  7  1 17  2  3 14  6  5  2  7 11 10 17  9  1  5 15 12  0 16  4  8  1  8\n",
      "  2  6  5 12 13  7 15 14 11  0  4  9 17 16 10  3]\n"
     ]
    }
   ],
   "source": [
    "# === RUN 10 GENERATIONS & SHOW BEST GENOME ===\n",
    "\n",
    "from running_dinner_ga.ga_algorithm import run_ga\n",
    "import pandas as pd\n",
    "\n",
    "# 1) Reload coordinates (first 10 as houses)\n",
    "coords_df    = pd.read_csv('Data/coordinates_map.csv', index_col='Index')\n",
    "house_coords = coords_df[['Latitude','Longitude']].values[:10]\n",
    "\n",
    "# 2) GA parameters\n",
    "n_participants = 18\n",
    "capacity       = 6\n",
    "a               = 1.0\n",
    "pop_size        = 20\n",
    "generations     = 10\n",
    "tournament_k    = 3\n",
    "\n",
    "# 3) Run the GA for 10 gens\n",
    "final_population = run_ga(\n",
    "    pop_size=pop_size,\n",
    "    house_coords=house_coords,\n",
    "    n_participants=n_participants,\n",
    "    capacity=capacity,\n",
    "    a=a,\n",
    "    generations=generations,\n",
    "    selection_method='tournament',\n",
    "    tournament_size=tournament_k\n",
    ")\n",
    "\n",
    "# 4) Find and print the best solution’s genome\n",
    "best = min(final_population, key=lambda ind: ind.fitness)\n",
    "print(\"Best fitness:\", best.fitness)\n",
    "print(\"Best genome:\", best.solution.genome)"
   ]
  }
 ],
 "metadata": {
  "kernelspec": {
   "display_name": "Cifo_RunningDinner",
   "language": "python",
   "name": "python3"
  },
  "language_info": {
   "codemirror_mode": {
    "name": "ipython",
    "version": 3
   },
   "file_extension": ".py",
   "mimetype": "text/x-python",
   "name": "python",
   "nbconvert_exporter": "python",
   "pygments_lexer": "ipython3",
   "version": "3.12.10"
  }
 },
 "nbformat": 4,
 "nbformat_minor": 5
}
