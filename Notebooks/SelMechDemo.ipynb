{
 "cells": [
  {
   "cell_type": "markdown",
   "metadata": {},
   "source": [
    "# 🧬 Demo: Genetic Algorithm Individual Class\n",
    "\n",
    "This notebook demonstrates the functionality of the `Individual` abstract base class and a concrete subclass `BinaryIndividual`. The goal is to show how this flexible design supports mutation, crossover, fitness evaluation, and operator overloading for use in genetic algorithms.\n",
    "\n",
    "## 🧱 Class Overview\n",
    "\n",
    "- `Individual`: An abstract class that defines a genetic algorithm individual.\n",
    "  - Includes pluggable methods: `random_representation`, `mutation`, `crossover`, `calculate_fitness`, and `semantic_key`.\n",
    "  - Overloads key operators for convenience:\n",
    "    - `@` → Crossover (e.g., `child = parent1 @ parent2`)\n",
    "    - `**` → Multiple self-crossovers (e.g., `clones = parent ** 3`)\n",
    "    - `()` → Evaluate fitness (e.g., `fitness = individual()`)\n",
    "    - Comparison (`<`, `>`, etc.) based on fitness\n",
    "    - Hashing and equality via `semantic_key` for use in sets and dictionaries\n",
    "\n",
    "- `BinaryIndividual`: A concrete implementation where the genome is a list of 0s and 1s.\n",
    "  - Fitness is defined as the number of 1s (maximize ones).\n",
    "  - Mutation flips a single bit.\n",
    "  - Crossover combines parts of the genome from two parents.\n",
    "\n",
    "## ✅ Features Demonstrated\n",
    "\n",
    "1. **Random Initialization**\n",
    "   - Create individuals with random binary genomes.\n",
    "\n",
    "2. **Fitness Evaluation**\n",
    "   - Automatically lazily computed and cached.\n",
    "\n",
    "3. **Mutation**\n",
    "   - Use `mutation()` to modify an individual in-place.\n",
    "\n",
    "4. **Crossover**\n",
    "   - Use the `@` operator (or `crossover()`) to generate a child from two parents.\n",
    "\n",
    "5. **Iteration**\n",
    "   - Use a `for` loop to generate several mutated versions from an individual.\n",
    "\n",
    "6. **Operator Overloading**\n",
    "   - Use Python syntax sugar for fitness, crossover, and comparisons.\n",
    "\n",
    "7. **Sorting Individuals**\n",
    "   - Individuals are comparable by fitness, so they can be sorted.\n",
    "\n",
    "8. **Using Sets**\n",
    "   - `Individual` instances are hashable via `semantic_key`, allowing deduplication in sets or as dictionary keys.\n",
    "\n",
    "This modular and extensible framework allows for easy implementation of different genome types and evolutionary strategies."
   ]
  },
  {
   "cell_type": "code",
   "execution_count": 2,
   "metadata": {},
   "outputs": [],
   "source": [
    "from abc import ABC, abstractmethod\n",
    "from copy import deepcopy\n",
    "import random"
   ]
  },
  {
   "cell_type": "code",
   "execution_count": null,
   "metadata": {},
   "outputs": [
    {
     "name": "stdout",
     "output_type": "stream",
     "text": [
      "['/opt/anaconda3/envs/Cifo_RunningDinner/lib/python312.zip', '/opt/anaconda3/envs/Cifo_RunningDinner/lib/python3.12', '/opt/anaconda3/envs/Cifo_RunningDinner/lib/python3.12/lib-dynload', '', '/opt/anaconda3/envs/Cifo_RunningDinner/lib/python3.12/site-packages']\n"
     ]
    }
   ],
   "source": [
    "# import a script in another directory\n",
    "import sys\n",
    "import os\n",
    "from typing import List, Callable\n",
    "import pandas as pd\n",
    "relative_path = os.path.join(\"..\", \"Classes\")\n",
    "print(sys.path)\n",
    "sys.path.append(relative_path)\n",
    "#sorted(os.listdir(relative_pathhgggggfffddwwddssddbbbbbbeeeeeeeaaaaaaaaaatttttttrrrrrrriiiiiizzzzzzzzzzzzz))\n",
    "from Individual import Individual"
   ]
  },
  {
   "cell_type": "code",
   "execution_count": null,
   "metadata": {},
   "outputs": [],
   "source": [
    "from ga_runner import genetic_algorithm_runs_to_csv, tournament_selection\n",
    "from BinaryIndividual import BinaryIndividual      # your concrete class\n",
    "\n",
    "# ❶  Factory that builds a fresh population for *every* run\n",
    "POP_SIZE = 50\n",
    "pop_factory = lambda: [BinaryIndividual() for _ in range(POP_SIZE)]\n",
    "\n",
    "# ❷  Wrap the selector so its signature matches genetic_algorithm(pop, maximization)\n",
    "selector = lambda pop, maxim: tournament_selection(pop, k=5, minimise=not maxim)\n",
    "\n",
    "# ❸  Launch, say, 3 runs of 100 generations each\n",
    "genetic_algorithm_runs_to_csv(\n",
    "    run_count=3,\n",
    "    pop_factory=pop_factory,\n",
    "    max_gen=100,\n",
    "    selection_algorithm=selector,\n",
    "    csv_path=\"ga_runs.csv\",\n",
    "    maximization=False,     # set True if higher fitness is better\n",
    "    verbose=True\n",
    ")\n",
    "\n",
    "# -> 'ga_runs.csv' now contains:\n",
    "#    Gen_1,Best_1,Gen_2,Best_2,Gen_3,Best_3\n",
    "#     1,0.883,1,0.901,1,0.879\n",
    "#     2,0.872,2,0.893,2,0.866\n",
    "#     ...\n"
   ]
  },
  {
   "cell_type": "code",
   "execution_count": 4,
   "metadata": {},
   "outputs": [],
   "source": [
    "# selection.py  \n",
    "def tournament_selection(\n",
    "    population: List[Individual],\n",
    "    k: int = 3,\n",
    "    minimise: bool = True\n",
    ") -> Individual:\n",
    "    \"\"\"\n",
    "    k-way tournament (with replacement). Returns the best contestant.\n",
    "\n",
    "    Parameters\n",
    "    ----------\n",
    "    population : List[Individual]\n",
    "        Current population (e.g., list of BinaryIndividual objects).\n",
    "    k : int, default 3\n",
    "        Tournament size.\n",
    "    minimise : bool, default True\n",
    "        Set False if higher fitness is better.\n",
    "\n",
    "    Returns\n",
    "    -------\n",
    "    Individual\n",
    "        The tournament winner.\n",
    "    \"\"\"\n",
    "    contestants = random.choices(population, k=k)\n",
    "    key_fn = (lambda ind: ind.fitness) if minimise else (lambda ind: -ind.fitness)\n",
    "    return min(contestants, key=key_fn)\n",
    "\n",
    "\n",
    "def rank_selection(\n",
    "    population: List[Individual],\n",
    "    minimise: bool = True\n",
    ") -> Individual:\n",
    "    \"\"\"\n",
    "    Rank-based roulette selection.\n",
    "\n",
    "    1. Sort population by fitness.\n",
    "    2. Assign weights N, N-1, …, 1 (best gets highest weight).\n",
    "    3. Sample one individual proportionally to its weight.\n",
    "\n",
    "    Parameters\n",
    "    ----------\n",
    "    population : List[Individual]\n",
    "        Current population.\n",
    "    minimise : bool, default True\n",
    "        Set False if higher fitness is better.\n",
    "\n",
    "    Returns\n",
    "    -------\n",
    "    Individual\n",
    "        The selected individual.\n",
    "    \"\"\"\n",
    "    ranked = sorted(population,\n",
    "                    key=lambda ind: ind.fitness,\n",
    "                    reverse=not minimise)   # best first\n",
    "    n = len(ranked)\n",
    "    weights = list(range(n, 0, -1))\n",
    "    return random.choices(ranked, weights=weights, k=1)[0]\n"
   ]
  },
  {
   "cell_type": "code",
   "execution_count": 5,
   "metadata": {},
   "outputs": [],
   "source": [
    "class BinaryIndividual(Individual):\n",
    "    def __init__(self, genome_length=10):\n",
    "        super().__init__()\n",
    "        self.genome_length = genome_length\n",
    "        self.genome = [0] * genome_length\n",
    "        self.random_representation()\n",
    "\n",
    "    def random_representation(self):\n",
    "        self.genome = [random.choice([0, 1]) for _ in range(self.genome_length)]\n",
    "\n",
    "    def check_representation(self):\n",
    "        return all(g in [0, 1] for g in self.genome)\n",
    "\n",
    "    def calculate_fitness(self):\n",
    "        return sum(self.genome)  # Maximize number of 1s\n",
    "\n",
    "    def mutation(self):\n",
    "        idx = random.randint(0, self.genome_length - 1)\n",
    "        self.genome[idx] = 1 - self.genome[idx]  # Flip bit\n",
    "        return self\n",
    "\n",
    "    def crossover(self, other):\n",
    "        pivot = random.randint(1, self.genome_length - 1)\n",
    "        child = self.copy_Individual()\n",
    "        child.genome = self.genome[:pivot] + other.genome[pivot:]\n",
    "        return child\n",
    "\n",
    "    def semantic_key(self):\n",
    "        return tuple(self.genome)"
   ]
  },
  {
   "cell_type": "markdown",
   "metadata": {},
   "source": [
    "# Testing Features"
   ]
  },
  {
   "cell_type": "markdown",
   "metadata": {},
   "source": [
    "## Create two individuals\n"
   ]
  },
  {
   "cell_type": "code",
   "execution_count": 6,
   "metadata": {},
   "outputs": [
    {
     "name": "stdout",
     "output_type": "stream",
     "text": [
      "Individual 1: [1, 0, 1, 1, 1, 1, 0, 1, 0, 0]\n",
      "Fitness 1: 6.0\n",
      "Individual 2: [1, 0, 1, 0, 0, 0, 0, 1, 0, 1]\n",
      "Fitness 2: 4.0\n"
     ]
    }
   ],
   "source": [
    "ind1 = BinaryIndividual()\n",
    "ind2 = BinaryIndividual()\n",
    "\n",
    "print(\"Individual 1:\", ind1.genome)\n",
    "print(\"Fitness 1:\", float(ind1))\n",
    "\n",
    "print(\"Individual 2:\", ind2.genome)\n",
    "print(\"Fitness 2:\", float(ind2))"
   ]
  },
  {
   "cell_type": "markdown",
   "metadata": {},
   "source": [
    "## Crossover\n"
   ]
  },
  {
   "cell_type": "code",
   "execution_count": 7,
   "metadata": {},
   "outputs": [
    {
     "name": "stdout",
     "output_type": "stream",
     "text": [
      "\n",
      "Child (crossover): [1, 0, 1, 1, 1, 1, 0, 1, 0, 1]\n",
      "Fitness (child): 7.0\n"
     ]
    }
   ],
   "source": [
    "child = ind1 @ ind2\n",
    "print(\"\\nChild (crossover):\", child.genome)\n",
    "print(\"Fitness (child):\", float(child))"
   ]
  },
  {
   "cell_type": "markdown",
   "metadata": {},
   "source": [
    "## Mutation\n"
   ]
  },
  {
   "cell_type": "code",
   "execution_count": 8,
   "metadata": {},
   "outputs": [
    {
     "name": "stdout",
     "output_type": "stream",
     "text": [
      "\n",
      "Mutated Individual: [1, 0, 1, 0, 1, 1, 0, 1, 0, 0]\n",
      "Fitness (mutated): 5.0\n"
     ]
    }
   ],
   "source": [
    "mutant = ind1.copy_Individual()\n",
    "mutant.mutation()\n",
    "print(\"\\nMutated Individual:\", mutant.genome)\n",
    "print(\"Fitness (mutated):\", float(mutant))"
   ]
  },
  {
   "cell_type": "markdown",
   "metadata": {},
   "source": [
    "## Iteration (generate mutated versions)"
   ]
  },
  {
   "cell_type": "code",
   "execution_count": 9,
   "metadata": {},
   "outputs": [
    {
     "name": "stdout",
     "output_type": "stream",
     "text": [
      "\n",
      "Multiple Mutations:\n",
      "Mutation 1: [1, 0, 1, 1, 1, 1, 0, 1, 0, 1] Fitness: 7.0\n",
      "Mutation 2: [1, 0, 1, 1, 1, 1, 1, 1, 0, 0] Fitness: 7.0\n",
      "Mutation 3: [1, 0, 1, 1, 1, 1, 0, 0, 0, 0] Fitness: 5.0\n",
      "Mutation 4: [1, 0, 1, 1, 1, 1, 0, 1, 1, 0] Fitness: 7.0\n",
      "Mutation 5: [1, 1, 1, 1, 1, 1, 0, 1, 0, 0] Fitness: 7.0\n"
     ]
    }
   ],
   "source": [
    "print(\"\\nMultiple Mutations:\")\n",
    "for i, m in enumerate(ind1):\n",
    "    print(f\"Mutation {i+1}:\", m.genome, \"Fitness:\", float(m))"
   ]
  },
  {
   "cell_type": "markdown",
   "metadata": {},
   "source": [
    "## Operator Overloading"
   ]
  },
  {
   "cell_type": "code",
   "execution_count": 10,
   "metadata": {},
   "outputs": [
    {
     "name": "stdout",
     "output_type": "stream",
     "text": [
      "\n",
      "Using ** Operator for Self-Crossover\n",
      "Clone 1: [1, 0, 1, 1, 1, 1, 0, 1, 0, 0]\n",
      "Clone 2: [1, 0, 1, 1, 1, 1, 0, 1, 0, 0]\n",
      "Clone 3: [1, 0, 1, 1, 1, 1, 0, 1, 0, 0]\n"
     ]
    }
   ],
   "source": [
    "print(\"\\nUsing ** Operator for Self-Crossover\")\n",
    "clones = ind1 ** 3\n",
    "for i, c in enumerate(clones):\n",
    "    print(f\"Clone {i+1}:\", c.genome)"
   ]
  },
  {
   "cell_type": "markdown",
   "metadata": {},
   "source": [
    "## Comparison\n"
   ]
  },
  {
   "cell_type": "code",
   "execution_count": 11,
   "metadata": {},
   "outputs": [
    {
     "name": "stdout",
     "output_type": "stream",
     "text": [
      "\n",
      "Is Individual 1 better than Individual 2? True\n"
     ]
    }
   ],
   "source": [
    "print(\"\\nIs Individual 1 better than Individual 2?\", ind1 > ind2)"
   ]
  },
  {
   "cell_type": "markdown",
   "metadata": {},
   "source": [
    "## Sorting and Deduplication via Set"
   ]
  },
  {
   "cell_type": "code",
   "execution_count": 12,
   "metadata": {},
   "outputs": [
    {
     "name": "stdout",
     "output_type": "stream",
     "text": [
      "\n",
      "=== Sorting Individuals by Fitness ===\n",
      "Ind 1: Genome = [0, 1, 1, 0, 1, 0, 1, 0, 1, 0], Fitness = 5.0\n",
      "Ind 2: Genome = [1, 1, 0, 1, 1, 0, 0, 1, 1, 1], Fitness = 7.0\n",
      "Ind 3: Genome = [0, 0, 0, 0, 1, 0, 0, 0, 0, 1], Fitness = 2.0\n",
      "Ind 4: Genome = [1, 0, 1, 1, 1, 1, 0, 0, 1, 0], Fitness = 6.0\n",
      "Ind 5: Genome = [1, 1, 1, 0, 1, 0, 0, 0, 0, 0], Fitness = 4.0\n",
      "\n",
      "Sorted by fitness (ascending):\n",
      "Rank 1: Genome = [0, 0, 0, 0, 1, 0, 0, 0, 0, 1], Fitness = 2.0\n",
      "Rank 2: Genome = [1, 1, 1, 0, 1, 0, 0, 0, 0, 0], Fitness = 4.0\n",
      "Rank 3: Genome = [0, 1, 1, 0, 1, 0, 1, 0, 1, 0], Fitness = 5.0\n",
      "Rank 4: Genome = [1, 0, 1, 1, 1, 1, 0, 0, 1, 0], Fitness = 6.0\n",
      "Rank 5: Genome = [1, 1, 0, 1, 1, 0, 0, 1, 1, 1], Fitness = 7.0\n"
     ]
    }
   ],
   "source": [
    "print(\"\\n=== Sorting Individuals by Fitness ===\")\n",
    "individuals = [BinaryIndividual() for _ in range(5)]\n",
    "\n",
    "for i, ind in enumerate(individuals):\n",
    "    print(f\"Ind {i+1}: Genome = {ind.genome}, Fitness = {float(ind)}\")\n",
    "\n",
    "sorted_individuals = sorted(individuals)\n",
    "print(\"\\nSorted by fitness (ascending):\")\n",
    "for i, ind in enumerate(sorted_individuals):\n",
    "    print(f\"Rank {i+1}: Genome = {ind.genome}, Fitness = {float(ind)}\")"
   ]
  },
  {
   "cell_type": "markdown",
   "metadata": {},
   "source": [
    "## Storing Unique Individuals in a Set"
   ]
  },
  {
   "cell_type": "code",
   "execution_count": 13,
   "metadata": {},
   "outputs": [
    {
     "name": "stdout",
     "output_type": "stream",
     "text": [
      "\n",
      "=== Deduplication with Set ===\n",
      "Unique 1: Genome = [1, 1, 0, 0, 0, 1, 1, 1, 1, 0], Fitness = 6.0\n",
      "Unique 2: Genome = [0, 1, 0, 0, 1, 1, 0, 0, 1, 0], Fitness = 4.0\n",
      "\n",
      "Total unique individuals: 2\n"
     ]
    }
   ],
   "source": [
    "print(\"\\n=== Deduplication with Set ===\")\n",
    "ind1 = BinaryIndividual()\n",
    "ind2 = ind1.copy_Individual(delete_fitness=False)  # Exact copy\n",
    "\n",
    "# Mutate a third individual to likely get a different genome\n",
    "ind3 = BinaryIndividual()\n",
    "ind3.mutation()\n",
    "\n",
    "ind_set = {ind1, ind2, ind3}\n",
    "\n",
    "for i, ind in enumerate(ind_set):\n",
    "    print(f\"Unique {i+1}: Genome = {ind.genome}, Fitness = {float(ind)}\")\n",
    "\n",
    "print(f\"\\nTotal unique individuals: {len(ind_set)}\")"
   ]
  },
  {
   "cell_type": "markdown",
   "metadata": {},
   "source": [
    "## Selection Mechanisms"
   ]
  },
  {
   "cell_type": "code",
   "execution_count": 14,
   "metadata": {},
   "outputs": [],
   "source": [
    "# Parameter values only for illustration\n",
    "POP_SIZE = 50\n",
    "\n",
    "population = [BinaryIndividual() for _ in range(POP_SIZE)]"
   ]
  },
  {
   "cell_type": "code",
   "execution_count": 46,
   "metadata": {},
   "outputs": [
    {
     "name": "stdout",
     "output_type": "stream",
     "text": [
      "Tournament winner fitness : 3\n",
      "Rank-based winner fitness : 4\n"
     ]
    }
   ],
   "source": [
    "# run the two selection mechanisms\n",
    "winner_tournament = tournament_selection(population, k=5)   # play with k\n",
    "winner_rank       = rank_selection(population)\n",
    "\n",
    "print(\"Tournament winner fitness :\", winner_tournament.fitness)\n",
    "print(\"Rank-based winner fitness :\", winner_rank.fitness)"
   ]
  },
  {
   "cell_type": "code",
   "execution_count": 57,
   "metadata": {},
   "outputs": [
    {
     "name": "stdout",
     "output_type": "stream",
     "text": [
      "Avg fitness (tournament): 3.64\n",
      "Avg fitness (rank)      : 4.18\n"
     ]
    }
   ],
   "source": [
    "import numpy as np\n",
    "\n",
    "def sample(selector, n=50):\n",
    "    return np.mean([selector(population).fitness for _ in range(n)])\n",
    "\n",
    "print(\"Avg fitness (tournament):\", sample(lambda pop: tournament_selection(pop, k=3)))\n",
    "print(\"Avg fitness (rank)      :\", sample(rank_selection))\n"
   ]
  },
  {
   "cell_type": "markdown",
   "metadata": {},
   "source": [
    "## Run GA"
   ]
  },
  {
   "cell_type": "code",
   "execution_count": null,
   "metadata": {},
   "outputs": [],
   "source": [
    "from Solution import Solution\n",
    "\n",
    "def genetic_algorithm(\n",
    "    initial_population: list[Solution],\n",
    "    max_gen: int,\n",
    "    selection_algorithm: Callable,\n",
    "    maximization: bool = False,\n",
    "    xo_prob: float = 0.9,\n",
    "    mut_prob: float = 0.2,\n",
    "    elitism: bool = True,\n",
    "    verbose: bool = False,\n",
    "):\n",
    "    \"\"\"\n",
    "    Executes a genetic algorithm to optimize a population of solutions.\n",
    "\n",
    "    Args:\n",
    "        initial_population (list[Solution]): The starting population of solutions.\n",
    "        max_gen (int): The maximum number of generations to evolve.\n",
    "        selection_algorithm (Callable): Function used for selecting individuals.\n",
    "        maximization (bool, optional): If True, maximizes the fitness function; otherwise, minimizes. Defaults to False.\n",
    "        xo_prob (float, optional): Probability of applying crossover. Defaults to 0.9.\n",
    "        mut_prob (float, optional): Probability of applying mutation. Defaults to 0.2.\n",
    "        elitism (bool, optional): If True, carries the best individual to the next generation. Defaults to True.\n",
    "        verbose (bool, optional): If True, prints detailed logs for debugging. Defaults to False.\n",
    "\n",
    "    Returns:\n",
    "        Solution: The best solution found on the last population after evolving for max_gen generations.\n",
    "        list[float]: The fitness of the best individual over the generations\n",
    "    \"\"\"\n",
    "    best_fitness_over_gens = []\n",
    "\n",
    "    # 1. Initialize a population with N individuals\n",
    "    population = initial_population\n",
    "\n",
    "    # 2. Repeat until termination condition\n",
    "    for gen in range(1, max_gen + 1):\n",
    "        if verbose:\n",
    "            print(f'-------------- Generation: {gen} --------------')\n",
    "\n",
    "        # 2.1. Create an empty population P'\n",
    "        new_population = []\n",
    "\n",
    "        # 2.2. If using elitism, insert best individual from P into P'\n",
    "        if elitism:\n",
    "            new_population.append(deepcopy(get_best_ind(population, maximization)))\n",
    "        \n",
    "        # 2.3. Repeat until P' contains N individuals\n",
    "        while len(new_population) < len(population):\n",
    "            # 2.3.1. Choose 2 individuals from P using a selection algorithm\n",
    "            first_ind = selection_algorithm(population, maximization)\n",
    "            second_ind = selection_algorithm(population, maximization)\n",
    "\n",
    "            if verbose:\n",
    "                print(f'Selected individuals:\\n{first_ind}\\n{second_ind}')\n",
    "\n",
    "            # 2.3.2. Choose an operator between crossover and replication\n",
    "            # 2.3.3. Apply the operator to generate the offspring\n",
    "            if random.random() < xo_prob:\n",
    "                offspring1, offspring2 = first_ind.crossover(second_ind)\n",
    "                if verbose:\n",
    "                    print(f'Applied crossover')\n",
    "            else:\n",
    "                offspring1, offspring2 = deepcopy(first_ind), deepcopy(second_ind)\n",
    "                if verbose:\n",
    "                    print(f'Applied replication')\n",
    "            \n",
    "            if verbose:\n",
    "                print(f'Offspring:\\n{offspring1}\\n{offspring2}')\n",
    "            \n",
    "            # 2.3.4. Apply mutation to the offspring\n",
    "            first_new_ind = offspring1.mutation(mut_prob)\n",
    "            # 2.3.5. Insert the mutated individuals into P'\n",
    "            new_population.append(first_new_ind)\n",
    "\n",
    "            if verbose:\n",
    "                print(f'First mutated individual: {first_new_ind}')\n",
    "            \n",
    "            if len(new_population) < len(population):\n",
    "                second_new_ind = offspring2.mutation(mut_prob)\n",
    "                new_population.append(second_new_ind)\n",
    "                if verbose:\n",
    "                    print(f'Second mutated individual: {first_new_ind}')\n",
    "        \n",
    "        # 2.4. Replace P with P'\n",
    "        population = new_population\n",
    "\n",
    "        if verbose:\n",
    "            print(f'Final best individual in generation: {get_best_ind(population, maximization).fitness()}')\n",
    "        \n",
    "        best_ind = get_best_ind(population, maximization)\n",
    "        best_fitness_over_gens.append(best_ind.fitness())\n",
    "\n",
    "    # 3. Return the best individual in P + the best individual fitness over generations\n",
    "    return get_best_ind(population, maximization), best_fitness_over_gens"
   ]
  },
  {
   "cell_type": "code",
   "execution_count": null,
   "metadata": {},
   "outputs": [],
   "source": [
    "# run GA many times & collect results\n",
    "def genetic_algorithm_runs_to_csv(\n",
    "    run_count: int,\n",
    "    pop_factory: Callable[[], List[Individual]],\n",
    "    max_gen: int,\n",
    "    selection_algorithm: Callable,\n",
    "    csv_path: str = \"ga_results.csv\",\n",
    "    maximization: bool = False,\n",
    "    xo_prob: float = 0.9,\n",
    "    mut_prob: float = 0.2,\n",
    "    elitism: bool = True,\n",
    "    verbose: bool = False,\n",
    "):\n",
    "    \"\"\"\n",
    "    Executes the GA `run_count` times.  After *each* run it appends two\n",
    "    columns to `csv_path`:\n",
    "\n",
    "        Gen_<run_id>   – generation numbers 1 … max_gen\n",
    "        Best_<run_id>  – best fitness in that generation\n",
    "\n",
    "    Existing columns are never overwritten; new runs get the next free id.\n",
    "    The function returns the final DataFrame for convenience.\n",
    "    \"\"\"\n",
    "\n",
    "    # load the results table\n",
    "    if os.path.isfile(csv_path):\n",
    "        df = pd.read_csv(csv_path)\n",
    "        # count how many runs are already stored\n",
    "        existing = len([c for c in df.columns if c.startswith(\"Best_\")])\n",
    "    else:\n",
    "        # first time: start with an empty table\n",
    "        df = pd.DataFrame()\n",
    "        existing = 0\n",
    "\n",
    "    # guaranteed generation index for *all* runs\n",
    "    gen_index = list(range(1, max_gen + 1))\n",
    "\n",
    "    # Execute the runs\n",
    "    for run_offset in range(run_count):\n",
    "        run_id = existing + run_offset + 1          # 1-based, monotonic\n",
    "\n",
    "        # Create fresh initial population\n",
    "        population = pop_factory()\n",
    "\n",
    "        # Evolve it\n",
    "        _, best_trace = genetic_algorithm(\n",
    "            initial_population=population,\n",
    "            max_gen=max_gen,\n",
    "            selection_algorithm=selection_algorithm,\n",
    "            maximization=maximization,\n",
    "            xo_prob=xo_prob,\n",
    "            mut_prob=mut_prob,\n",
    "            elitism=elitism,\n",
    "            verbose=verbose,\n",
    "        )\n",
    "\n",
    "        # Append two new columns\n",
    "        df[f\"Gen_{run_id}\"]  = gen_index\n",
    "        df[f\"Best_{run_id}\"] = best_trace\n",
    "\n",
    "        # (optional) autosave after every run\n",
    "        df.to_csv(csv_path, index=False)\n",
    "\n",
    "        if verbose:\n",
    "            print(f\"Run {run_id} finished – results written to '{csv_path}'\")\n",
    "\n",
    "    return df"
   ]
  }
 ],
 "metadata": {
  "kernelspec": {
   "display_name": "Cifo_RunningDinner",
   "language": "python",
   "name": "python3"
  },
  "language_info": {
   "codemirror_mode": {
    "name": "ipython",
    "version": 3
   },
   "file_extension": ".py",
   "mimetype": "text/x-python",
   "name": "python",
   "nbconvert_exporter": "python",
   "pygments_lexer": "ipython3",
   "version": "3.12.10"
  }
 },
 "nbformat": 4,
 "nbformat_minor": 2
}
