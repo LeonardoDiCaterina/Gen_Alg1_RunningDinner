{
 "cells": [
  {
   "cell_type": "code",
   "execution_count": 1,
   "id": "a8ac85f6",
   "metadata": {},
   "outputs": [
    {
     "data": {
      "text/plain": [
       "(68, 68)"
      ]
     },
     "execution_count": 1,
     "metadata": {},
     "output_type": "execute_result"
    }
   ],
   "source": [
    "import os\n",
    "import pandas as pd\n",
    "import random\n",
    "from copy import deepcopy\n",
    "os.chdir(os.pardir) # comment if you are running this more than once\n",
    "data_matrix_df = pd.read_csv('data/distance_matrix_official.csv', index_col=0)\n",
    "data_matrix_np = data_matrix_df.to_numpy()\n",
    "data_matrix_np.shape"
   ]
  },
  {
   "cell_type": "code",
   "execution_count": 2,
   "id": "aaa664ce",
   "metadata": {},
   "outputs": [],
   "source": [
    "from Genetic_algorithm.fitness import ResourceFitness\n",
    "from Genetic_algorithm.genome import Genome\n",
    "from Genetic_algorithm.solution_rd import SolutionRD\n",
    "from Genetic_algorithm.mutations import logistic_mutation, social_mutation, logistic_mutation_2\n",
    "from Genetic_algorithm.crossovers import social_crossover, logistic_crossover_2, full_crossover\n",
    "from Genetic_algorithm.selection_algorithms import tournament_selection,rank_selection\n",
    "\n",
    "my_fitness = ResourceFitness(data_matrix_np)\n",
    "\n",
    "first_solution = SolutionRD(my_fitness, Genome, [logistic_mutation, social_mutation], [logistic_crossover_2, social_crossover])\n",
    "secomnd_solution = SolutionRD(my_fitness, Genome, [logistic_mutation, social_mutation], [logistic_crossover_2, social_crossover])"
   ]
  },
  {
   "cell_type": "code",
   "execution_count": 3,
   "id": "ccaf74b3",
   "metadata": {},
   "outputs": [
    {
     "name": "stderr",
     "output_type": "stream",
     "text": [
      "Runnig genetic alogrithm:  45%|████▌     | 45/100 [00:11<00:13,  4.06 generation/s]\n"
     ]
    },
    {
     "ename": "KeyboardInterrupt",
     "evalue": "",
     "output_type": "error",
     "traceback": [
      "\u001b[31m---------------------------------------------------------------------------\u001b[39m",
      "\u001b[31mKeyboardInterrupt\u001b[39m                         Traceback (most recent call last)",
      "\u001b[36mCell\u001b[39m\u001b[36m \u001b[39m\u001b[32mIn[3]\u001b[39m\u001b[32m, line 112\u001b[39m\n\u001b[32m    109\u001b[39m     \u001b[38;5;28;01mreturn\u001b[39;00m best_individual\n\u001b[32m    111\u001b[39m \u001b[38;5;66;03m# Example usage\u001b[39;00m\n\u001b[32m--> \u001b[39m\u001b[32m112\u001b[39m best_solution = \u001b[43mgenetic_algorithm\u001b[49m\u001b[43m(\u001b[49m\n\u001b[32m    113\u001b[39m \u001b[43m    \u001b[49m\u001b[43mgen_count\u001b[49m\u001b[43m=\u001b[49m\u001b[32;43m100\u001b[39;49m\u001b[43m,\u001b[49m\n\u001b[32m    114\u001b[39m \u001b[43m    \u001b[49m\u001b[43mselection_algorithm\u001b[49m\u001b[43m=\u001b[49m\u001b[43mtournament_selection\u001b[49m\u001b[43m,\u001b[49m\n\u001b[32m    115\u001b[39m \u001b[43m    \u001b[49m\u001b[43mmutation_algorithms\u001b[49m\u001b[43m=\u001b[49m\u001b[43m[\u001b[49m\u001b[43mlogistic_mutation\u001b[49m\u001b[43m,\u001b[49m\u001b[43m \u001b[49m\u001b[43msocial_mutation\u001b[49m\u001b[43m]\u001b[49m\u001b[43m,\u001b[49m\n\u001b[32m    116\u001b[39m \u001b[43m    \u001b[49m\u001b[43mcrossover_algorithms\u001b[49m\u001b[43m=\u001b[49m\u001b[43m[\u001b[49m\u001b[43mlogistic_crossover_2\u001b[49m\u001b[43m,\u001b[49m\u001b[43m \u001b[49m\u001b[43mfull_crossover\u001b[49m\u001b[43m]\u001b[49m\u001b[43m,\u001b[49m\n\u001b[32m    117\u001b[39m \u001b[43m    \u001b[49m\u001b[43mfitness_instance\u001b[49m\u001b[43m=\u001b[49m\u001b[43mmy_fitness\u001b[49m\u001b[43m,\u001b[49m\n\u001b[32m    118\u001b[39m \u001b[43m    \u001b[49m\u001b[43mGenome_class\u001b[49m\u001b[43m=\u001b[49m\u001b[43mGenome\u001b[49m\u001b[43m,\u001b[49m\n\u001b[32m    119\u001b[39m \u001b[43m    \u001b[49m\u001b[43mmaximization\u001b[49m\u001b[43m=\u001b[49m\u001b[38;5;28;43;01mFalse\u001b[39;49;00m\u001b[43m,\u001b[49m\n\u001b[32m    120\u001b[39m \u001b[43m    \u001b[49m\u001b[43mxo_prob\u001b[49m\u001b[43m=\u001b[49m\u001b[32;43m0.9\u001b[39;49m\u001b[43m,\u001b[49m\n\u001b[32m    121\u001b[39m \u001b[43m    \u001b[49m\u001b[43mmut_prob\u001b[49m\u001b[43m=\u001b[49m\u001b[32;43m0.2\u001b[39;49m\u001b[43m,\u001b[49m\n\u001b[32m    122\u001b[39m \u001b[43m    \u001b[49m\u001b[43msocial_mutation_prob\u001b[49m\u001b[43m=\u001b[49m\u001b[32;43m0.2\u001b[39;49m\u001b[43m,\u001b[49m\n\u001b[32m    123\u001b[39m \u001b[43m    \u001b[49m\u001b[43msocial_crossover_prob\u001b[49m\u001b[43m=\u001b[49m\u001b[32;43m0.2\u001b[39;49m\u001b[43m,\u001b[49m\n\u001b[32m    124\u001b[39m \u001b[43m    \u001b[49m\u001b[43mpopulation_size\u001b[49m\u001b[43m=\u001b[49m\u001b[32;43m10\u001b[39;49m\u001b[43m,\u001b[49m\n\u001b[32m    125\u001b[39m \u001b[43m    \u001b[49m\u001b[43melitism\u001b[49m\u001b[43m=\u001b[49m\u001b[38;5;28;43;01mTrue\u001b[39;49;00m\n\u001b[32m    126\u001b[39m \u001b[43m)\u001b[49m\n\u001b[32m    127\u001b[39m \u001b[38;5;28mprint\u001b[39m(\u001b[33m\"\u001b[39m\u001b[33mBest Solution Genome:\u001b[39m\u001b[33m\"\u001b[39m, best_solution.genome)\n\u001b[32m    128\u001b[39m \u001b[38;5;28mprint\u001b[39m(\u001b[33m\"\u001b[39m\u001b[33mBest Solution Fitness:\u001b[39m\u001b[33m\"\u001b[39m, \u001b[38;5;28mfloat\u001b[39m(best_solution))\n",
      "\u001b[36mCell\u001b[39m\u001b[36m \u001b[39m\u001b[32mIn[3]\u001b[39m\u001b[32m, line 85\u001b[39m, in \u001b[36mgenetic_algorithm\u001b[39m\u001b[34m(gen_count, selection_algorithm, mutation_algorithms, crossover_algorithms, fitness_instance, Genome_class, maximization, xo_prob, mut_prob, social_mutation_prob, social_crossover_prob, population_size, elitism, save_logs)\u001b[39m\n\u001b[32m     83\u001b[39m \u001b[38;5;66;03m# Elitism\u001b[39;00m\n\u001b[32m     84\u001b[39m \u001b[38;5;28;01mif\u001b[39;00m elitism:\n\u001b[32m---> \u001b[39m\u001b[32m85\u001b[39m     best_individual = \u001b[38;5;28;43mmin\u001b[39;49m\u001b[43m(\u001b[49m\u001b[43mnew_population\u001b[49m\u001b[43m)\u001b[49m \u001b[38;5;28;01mif\u001b[39;00m \u001b[38;5;129;01mnot\u001b[39;00m maximization \u001b[38;5;28;01melse\u001b[39;00m \u001b[38;5;28mmax\u001b[39m(new_population)\n\u001b[32m     86\u001b[39m     new_population[\u001b[32m0\u001b[39m] = best_individual\n\u001b[32m     89\u001b[39m GA_population = new_population\n",
      "\u001b[36mFile \u001b[39m\u001b[32m~/Gen_Alg1_RunningDinner/Genetic_algorithm/base_individual.py:116\u001b[39m, in \u001b[36mIndividual.__lt__\u001b[39m\u001b[34m(self, other)\u001b[39m\n\u001b[32m    115\u001b[39m \u001b[38;5;28;01mdef\u001b[39;00m\u001b[38;5;250m \u001b[39m\u001b[34m__lt__\u001b[39m(\u001b[38;5;28mself\u001b[39m, other):\n\u001b[32m--> \u001b[39m\u001b[32m116\u001b[39m     \u001b[38;5;28;01mreturn\u001b[39;00m \u001b[38;5;28;43mfloat\u001b[39;49m\u001b[43m(\u001b[49m\u001b[38;5;28;43mself\u001b[39;49m\u001b[43m)\u001b[49m < \u001b[38;5;28mfloat\u001b[39m(other)\n",
      "\u001b[36mFile \u001b[39m\u001b[32m~/Gen_Alg1_RunningDinner/Genetic_algorithm/base_individual.py:104\u001b[39m, in \u001b[36mIndividual.__float__\u001b[39m\u001b[34m(self)\u001b[39m\n\u001b[32m    103\u001b[39m \u001b[38;5;28;01mdef\u001b[39;00m\u001b[38;5;250m \u001b[39m\u001b[34m__float__\u001b[39m(\u001b[38;5;28mself\u001b[39m):\n\u001b[32m--> \u001b[39m\u001b[32m104\u001b[39m     \u001b[38;5;28;01mreturn\u001b[39;00m \u001b[38;5;28mfloat\u001b[39m(\u001b[38;5;28mself\u001b[39m.fitness) \u001b[38;5;28;01mif\u001b[39;00m \u001b[38;5;28;43mself\u001b[39;49m\u001b[43m.\u001b[49m\u001b[43mfitness\u001b[49m \u001b[38;5;129;01mis\u001b[39;00m \u001b[38;5;129;01mnot\u001b[39;00m \u001b[38;5;28;01mNone\u001b[39;00m \u001b[38;5;28;01melse\u001b[39;00m \u001b[38;5;28mfloat\u001b[39m(\u001b[33m'\u001b[39m\u001b[33m-inf\u001b[39m\u001b[33m'\u001b[39m)\n",
      "\u001b[36mFile \u001b[39m\u001b[32m~/Gen_Alg1_RunningDinner/Genetic_algorithm/base_individual.py:50\u001b[39m, in \u001b[36mIndividual.fitness\u001b[39m\u001b[34m(self)\u001b[39m\n\u001b[32m     47\u001b[39m \u001b[38;5;129m@property\u001b[39m\n\u001b[32m     48\u001b[39m \u001b[38;5;28;01mdef\u001b[39;00m\u001b[38;5;250m \u001b[39m\u001b[34mfitness\u001b[39m(\u001b[38;5;28mself\u001b[39m):\n\u001b[32m     49\u001b[39m     \u001b[38;5;28;01mif\u001b[39;00m \u001b[38;5;28mself\u001b[39m._fitness \u001b[38;5;129;01mis\u001b[39;00m \u001b[38;5;28;01mNone\u001b[39;00m:\n\u001b[32m---> \u001b[39m\u001b[32m50\u001b[39m         \u001b[38;5;28mself\u001b[39m._fitness = \u001b[38;5;28;43mself\u001b[39;49m\u001b[43m.\u001b[49m\u001b[43mcalculate_fitness\u001b[49m\u001b[43m(\u001b[49m\u001b[43m)\u001b[49m  \u001b[38;5;66;03m# Only calculate when needed but once it is calculated it is stored\u001b[39;00m\n\u001b[32m     51\u001b[39m     \u001b[38;5;28;01mreturn\u001b[39;00m \u001b[38;5;28mself\u001b[39m._fitness\n",
      "\u001b[36mFile \u001b[39m\u001b[32m~/Gen_Alg1_RunningDinner/Genetic_algorithm/solution_rd.py:58\u001b[39m, in \u001b[36mSolutionRD.calculate_fitness\u001b[39m\u001b[34m(self)\u001b[39m\n\u001b[32m     57\u001b[39m \u001b[38;5;28;01mdef\u001b[39;00m\u001b[38;5;250m \u001b[39m\u001b[34mcalculate_fitness\u001b[39m(\u001b[38;5;28mself\u001b[39m):\n\u001b[32m---> \u001b[39m\u001b[32m58\u001b[39m     result = \u001b[38;5;28;43mself\u001b[39;49m\u001b[43m.\u001b[49m\u001b[43mfitness_instance\u001b[49m\u001b[43m.\u001b[49m\u001b[43mevaluate\u001b[49m\u001b[43m(\u001b[49m\u001b[38;5;28;43mself\u001b[39;49m\u001b[43m.\u001b[49m\u001b[43mgenome\u001b[49m\u001b[43m)\u001b[49m\n\u001b[32m     59\u001b[39m     \u001b[38;5;28;01mreturn\u001b[39;00m result\n",
      "\u001b[36mFile \u001b[39m\u001b[32m~/Gen_Alg1_RunningDinner/Genetic_algorithm/fitness.py:33\u001b[39m, in \u001b[36mResourceFitness.evaluate\u001b[39m\u001b[34m(self, genome)\u001b[39m\n\u001b[32m     30\u001b[39m \u001b[38;5;28;01mdef\u001b[39;00m\u001b[38;5;250m \u001b[39m\u001b[34mevaluate\u001b[39m(\u001b[38;5;28mself\u001b[39m, genome):\n\u001b[32m     32\u001b[39m     social_score = \u001b[38;5;28mself\u001b[39m._calculate_social_fitness(genome)\n\u001b[32m---> \u001b[39m\u001b[32m33\u001b[39m     logistic_score = \u001b[38;5;28;43mself\u001b[39;49m\u001b[43m.\u001b[49m\u001b[43m_calculate_logistic_fitness\u001b[49m\u001b[43m(\u001b[49m\u001b[43mgenome\u001b[49m\u001b[43m)\u001b[49m\n\u001b[32m     34\u001b[39m     \u001b[38;5;28mself\u001b[39m.number_of_calls += \u001b[32m1\u001b[39m\n\u001b[32m     35\u001b[39m     \u001b[38;5;28;01mreturn\u001b[39;00m \u001b[38;5;28mself\u001b[39m.alpha * social_score + \u001b[38;5;28mself\u001b[39m.beta * logistic_score\n",
      "\u001b[36mFile \u001b[39m\u001b[32m~/Gen_Alg1_RunningDinner/Genetic_algorithm/fitness.py:102\u001b[39m, in \u001b[36mResourceFitness._calculate_logistic_fitness\u001b[39m\u001b[34m(self, genome)\u001b[39m\n\u001b[32m     98\u001b[39m total_distance = \u001b[32m0.0\u001b[39m\n\u001b[32m    100\u001b[39m \u001b[38;5;28;01mfor\u001b[39;00m partecipant \u001b[38;5;129;01min\u001b[39;00m \u001b[38;5;28mrange\u001b[39m(config.N_PARTICIPANTS):\n\u001b[32m    101\u001b[39m     \u001b[38;5;66;03m# build their ordered stops\u001b[39;00m\n\u001b[32m--> \u001b[39m\u001b[32m102\u001b[39m     itinerary = \u001b[43mgenome\u001b[49m\u001b[43m.\u001b[49m\u001b[43mget_partecipant_itinerary\u001b[49m\u001b[43m(\u001b[49m\u001b[43mpartecipant\u001b[49m\u001b[43m)\u001b[49m\n\u001b[32m    103\u001b[39m     stops = [h \u001b[38;5;28;01mfor\u001b[39;00m (_, h) \u001b[38;5;129;01min\u001b[39;00m itinerary \u001b[38;5;28;01mif\u001b[39;00m h != -\u001b[32m1\u001b[39m]\n\u001b[32m    104\u001b[39m     \u001b[38;5;28;01mif\u001b[39;00m \u001b[38;5;129;01mnot\u001b[39;00m stops:\n",
      "\u001b[36mFile \u001b[39m\u001b[32m~/Gen_Alg1_RunningDinner/Genetic_algorithm/genome.py:429\u001b[39m, in \u001b[36mGenome.get_partecipant_itinerary\u001b[39m\u001b[34m(self, participant)\u001b[39m\n\u001b[32m    427\u001b[39m \u001b[38;5;28;01mtry\u001b[39;00m:\n\u001b[32m    428\u001b[39m     house = \u001b[38;5;28mself\u001b[39m.locate_participant_at_given_course(c, participant)\n\u001b[32m--> \u001b[39m\u001b[32m429\u001b[39m     itinerary[c] = (c, house)\n\u001b[32m    430\u001b[39m \u001b[38;5;28;01mexcept\u001b[39;00m \u001b[38;5;167;01mValueError\u001b[39;00m:\n\u001b[32m    431\u001b[39m     \u001b[38;5;28;01mpass\u001b[39;00m\n",
      "\u001b[31mKeyboardInterrupt\u001b[39m: "
     ]
    }
   ],
   "source": [
    "import tqdm\n",
    "def genetic_algorithm(\n",
    "    gen_count: int,\n",
    "    selection_algorithm: list[callable],\n",
    "    mutation_algorithms: list[callable],\n",
    "    crossover_algorithms: list[callable],\n",
    "    fitness_instance: ResourceFitness,\n",
    "    Genome_class: Genome,\n",
    "    maximization: bool = False,\n",
    "    xo_prob: float = 0.9,\n",
    "    mut_prob: float = 0.2,\n",
    "    social_mutation_prob: float = 0.2,\n",
    "    social_crossover_prob: float = 0.2,\n",
    "    population_size: int = 10,\n",
    "    elitism: bool = True,\n",
    "    save_logs: bool = False,\n",
    "):\n",
    "    \"\"\"\n",
    "    Genetic Algorithm for solving optimization problems.\n",
    "    This function implements a genetic algorithm that evolves a population of solutions\n",
    "    over a specified number of generations. It uses selection, mutation, and crossover\n",
    "    algorithms to create new solutions and improve the population's fitness.\n",
    "    The algorithm can be configured with various parameters, including the number of\n",
    "    generations, selection method, mutation and crossover probabilities, and whether\n",
    "    to use elitism.\n",
    "\n",
    "    Args:\n",
    "        gen_count (int): number of generations to evolve.\n",
    "        selection_algorithm (list[callable]): selection algorithm to use.\n",
    "        mutation_algorithms (list[callable]): choose from Genetic_algotithm.mutations\n",
    "        crossover_algorithms (list[callable]): choose from Genetic_algorithm.crossovers\n",
    "        fitness_instance (ResourceFitness): instancee of the fitness class (it's important to instanciate it before as it holds the data matrix)\n",
    "        Genome_class (Genome): class of the genome to be used (will be instanciated in the function)\n",
    "        maximization (bool, optional): _description_. Defaults to False.\n",
    "        xo_prob (float, optional): _description_. Defaults to 0.9.\n",
    "        mut_prob (float, optional): _description_. Defaults to 0.2.\n",
    "        social_mutation_prob (float, optional): _description_. Defaults to 0.2.\n",
    "        social_crossover_prob (float, optional): _description_. Defaults to 0.2.\n",
    "        elitism (bool, optional): _description_. Defaults to True.\n",
    "        verbose (bool, optional): _description_. Defaults to False.\n",
    "        \n",
    "    \"\"\"\n",
    "    \n",
    "    \n",
    "    \n",
    "    first_solution = SolutionRD(fitness_instance, Genome_class, mutation_algorithms, crossover_algorithms)\n",
    "    \n",
    "    first_solution.prob_social_mutation = social_mutation_prob\n",
    "    first_solution.prob_social_crossover = social_crossover_prob\n",
    "    first_solution.initial_population = population_size\n",
    "    \n",
    "    GA_population = [random_solution for random_solution in first_solution]\n",
    "    \n",
    "        \n",
    "    for generation in tqdm.tqdm(range(gen_count), desc=\"Runnig genetic alogrithm\", unit=\" generation\"):\n",
    "        fitness_instance.number_of_calls = 0\n",
    "        if save_logs:\n",
    "            logs = []\n",
    "        # Selection\n",
    "        selected_individuals = [selection_algorithm(GA_population, maximization) for _ in range(population_size)]\n",
    "        \n",
    "\n",
    "        # Crossover\n",
    "        new_population = []\n",
    "        for i in range(0, population_size):\n",
    "            for j in range(i+1, population_size):\n",
    "                if random.random() < xo_prob:\n",
    "                    parent1 = selected_individuals[i]\n",
    "                    parent2 = selected_individuals[j]\n",
    "                    child1, child2 = parent1 @ parent2\n",
    "                    new_population.append(child1)\n",
    "                    new_population.append(child2)\n",
    "        \n",
    "        if not new_population:\n",
    "            new_population = selected_individuals.copy()\n",
    "                   \n",
    "        \n",
    "        # Mutation\n",
    "        for individual in new_population:\n",
    "            if random.random() < mut_prob:\n",
    "                individual.mutation()\n",
    "        \n",
    "        # Elitism\n",
    "        if elitism:\n",
    "            best_individual = min(new_population) if not maximization else max(new_population)\n",
    "            new_population[0] = best_individual\n",
    "        \n",
    "        \n",
    "        GA_population = new_population\n",
    "        if save_logs:\n",
    "            \n",
    "            n_fitness_calls = fitness_instance.number_of_calls\n",
    "            best_individual_of_generation = min(GA_population) if not maximization else max(GA_population)\n",
    "            best_logistic_fitness = fitness_instance._calculate_logistic_fitness(best_individual_of_generation.genome)\n",
    "            best_social_fitness = fitness_instance._calculate_social_fitness(best_individual_of_generation.genome)\n",
    "            row = [n_fitness_calls, float(best_individual_of_generation), best_logistic_fitness, best_social_fitness]\n",
    "            logs.append(row)\n",
    "        \n",
    "            logs_df = pd.DataFrame(logs, columns=['n_fitness_calls', 'best_individual_fitness', 'best_logistic_fitness', 'best_social_fitness'])\n",
    "            logs_df['cumulative_calls'] = logs_df['n_fitness_calls'].cumsum()\n",
    "            \n",
    "            # add here the savin of the logs\n",
    "            #logs_df.to_csv('logs.csv', index=False)\n",
    "            \n",
    "       \n",
    "    best_individual = min(GA_population) if not maximization else max(GA_population)\n",
    "    if save_logs:\n",
    "        return best_individual, logs_df\n",
    "    return best_individual\n",
    "\n",
    "# Example usage\n",
    "best_solution = genetic_algorithm(\n",
    "    gen_count=100,\n",
    "    selection_algorithm=tournament_selection,\n",
    "    mutation_algorithms=[logistic_mutation, social_mutation],\n",
    "    crossover_algorithms=[logistic_crossover_2, full_crossover],\n",
    "    fitness_instance=my_fitness,\n",
    "    Genome_class=Genome,\n",
    "    maximization=False,\n",
    "    xo_prob=0.9,\n",
    "    mut_prob=0.2,\n",
    "    social_mutation_prob=0.2,\n",
    "    social_crossover_prob=0.2,\n",
    "    population_size=10,\n",
    "    elitism=True\n",
    ")\n",
    "print(\"Best Solution Genome:\", best_solution.genome)\n",
    "print(\"Best Solution Fitness:\", float(best_solution))\n",
    "print(\"Average distance:\", best_solution.fitness_instance._calculate_social_fitness(best_solution.genome))"
   ]
  },
  {
   "cell_type": "code",
   "execution_count": null,
   "id": "76db85c8",
   "metadata": {},
   "outputs": [
    {
     "name": "stderr",
     "output_type": "stream",
     "text": [
      "Running grid search:   0%|          | 0/192 [00:00<?, ? combination/s]"
     ]
    },
    {
     "name": "stdout",
     "output_type": "stream",
     "text": [
      "Genome fully rebuilt\n",
      "Genome fully rebuilt\n",
      "Genome fully rebuilt\n",
      "Genome fixed after 1 passes\n",
      "Genome fully rebuilt\n",
      "Genome fully rebuilt\n",
      "Genome fixed after 6 passes\n",
      "Genome fully rebuilt\n"
     ]
    },
    {
     "name": "stderr",
     "output_type": "stream",
     "text": []
    },
    {
     "name": "stdout",
     "output_type": "stream",
     "text": [
      "Genome fully rebuilt\n",
      "Genome fixed after 3 passes\n",
      "Genome fixed after 0 passes\n",
      "Genome fixed after 0 passes\n"
     ]
    },
    {
     "name": "stderr",
     "output_type": "stream",
     "text": []
    },
    {
     "name": "stdout",
     "output_type": "stream",
     "text": [
      "Genome fixed after 0 passes\n"
     ]
    },
    {
     "name": "stderr",
     "output_type": "stream",
     "text": [
      "\n"
     ]
    },
    {
     "name": "stdout",
     "output_type": "stream",
     "text": [
      "Genome fully rebuilt\n",
      "Genome fixed after 1 passes\n"
     ]
    },
    {
     "name": "stderr",
     "output_type": "stream",
     "text": [
      "Runnig genetic alogrithm:   4%|▍         | 4/100 [00:00<00:22,  4.32 generation/s]\u001b[A"
     ]
    },
    {
     "name": "stdout",
     "output_type": "stream",
     "text": [
      "Genome fully rebuilt\n",
      "Genome fixed after 0 passes\n"
     ]
    },
    {
     "name": "stderr",
     "output_type": "stream",
     "text": []
    },
    {
     "name": "stdout",
     "output_type": "stream",
     "text": [
      "Genome fixed after 1 passes\n",
      "Genome fixed after 0 passes\n"
     ]
    },
    {
     "name": "stderr",
     "output_type": "stream",
     "text": []
    },
    {
     "name": "stdout",
     "output_type": "stream",
     "text": [
      "Genome fixed after 0 passes\n"
     ]
    },
    {
     "name": "stderr",
     "output_type": "stream",
     "text": []
    },
    {
     "name": "stdout",
     "output_type": "stream",
     "text": [
      "Genome fixed after 0 passes\n"
     ]
    },
    {
     "name": "stderr",
     "output_type": "stream",
     "text": []
    },
    {
     "name": "stdout",
     "output_type": "stream",
     "text": [
      "Genome fixed after 1 passes\n",
      "Genome fixed after 0 passes\n",
      "Genome fixed after 0 passes\n",
      "Genome fixed after 1 passes\n",
      "Genome fixed after 3 passes\n",
      "Genome fixed after 1 passes\n",
      "Genome fully rebuilt\n",
      "Genome fixed after 1 passes\n"
     ]
    },
    {
     "name": "stderr",
     "output_type": "stream",
     "text": []
    },
    {
     "name": "stdout",
     "output_type": "stream",
     "text": [
      "Genome fully rebuilt\n",
      "Genome fixed after 0 passes\n",
      "Genome fixed after 0 passes\n",
      "Genome fully rebuilt\n",
      "Genome fully rebuilt\n",
      "Genome fully rebuilt\n",
      "Genome fixed after 0 passes\n"
     ]
    },
    {
     "name": "stderr",
     "output_type": "stream",
     "text": []
    },
    {
     "name": "stdout",
     "output_type": "stream",
     "text": [
      "Genome fixed after 0 passes\n",
      "Genome fully rebuilt\n"
     ]
    },
    {
     "name": "stderr",
     "output_type": "stream",
     "text": []
    },
    {
     "name": "stdout",
     "output_type": "stream",
     "text": [
      "Genome fixed after 0 passes\n",
      "Genome fixed after 3 passes\n",
      "Genome fully rebuilt\n",
      "Genome fixed after 0 passes\n",
      "Genome fixed after 0 passes\n"
     ]
    },
    {
     "name": "stderr",
     "output_type": "stream",
     "text": []
    },
    {
     "name": "stdout",
     "output_type": "stream",
     "text": [
      "Genome fixed after 7 passes\n",
      "Genome fixed after 0 passes\n",
      "Genome fully rebuilt\n"
     ]
    },
    {
     "name": "stderr",
     "output_type": "stream",
     "text": []
    },
    {
     "name": "stdout",
     "output_type": "stream",
     "text": [
      "Genome fixed after 1 passes\n",
      "Genome fixed after 0 passes\n",
      "Genome fixed after 1 passes\n",
      "Genome fully rebuilt\n",
      "Genome fixed after 0 passes\n",
      "Genome fixed after 9 passes\n"
     ]
    },
    {
     "name": "stderr",
     "output_type": "stream",
     "text": []
    },
    {
     "name": "stdout",
     "output_type": "stream",
     "text": [
      "Genome fully rebuilt\n",
      "Genome fixed after 0 passes\n",
      "Genome fixed after 2 passes\n",
      "Genome fixed after 0 passes\n",
      "Genome fixed after 0 passes\n",
      "Genome fixed after 0 passes\n",
      "Genome fixed after 4 passes\n",
      "Genome fixed after 0 passes\n",
      "Genome fixed after 1 passes\n",
      "Genome fully rebuilt\n"
     ]
    },
    {
     "name": "stderr",
     "output_type": "stream",
     "text": [
      "\n"
     ]
    },
    {
     "name": "stdout",
     "output_type": "stream",
     "text": [
      "Genome fully rebuilt\n",
      "Genome fully rebuilt\n"
     ]
    },
    {
     "name": "stderr",
     "output_type": "stream",
     "text": [
      "Runnig genetic alogrithm:  35%|███▌      | 35/100 [00:07<00:14,  4.60 generation/s]\u001b[A\n",
      "Runnig genetic alogrithm:  37%|███▋      | 37/100 [00:07<00:11,  5.31 generation/s]"
     ]
    },
    {
     "name": "stdout",
     "output_type": "stream",
     "text": [
      "Genome fully rebuilt\n",
      "Genome fully rebuilt\n",
      "Genome fixed after 2 passes\n",
      "Genome fixed after 1 passes\n",
      "Genome fixed after 0 passes\n"
     ]
    },
    {
     "name": "stderr",
     "output_type": "stream",
     "text": [
      "\u001b[A"
     ]
    },
    {
     "name": "stdout",
     "output_type": "stream",
     "text": [
      "Genome fixed after 0 passes\n",
      "Genome fixed after 4 passes\n",
      "Genome fully rebuilt\n",
      "Genome fixed after 9 passes\n",
      "Genome fixed after 0 passes\n",
      "Genome fixed after 3 passes\n"
     ]
    },
    {
     "name": "stderr",
     "output_type": "stream",
     "text": []
    },
    {
     "name": "stdout",
     "output_type": "stream",
     "text": [
      "Genome fully rebuilt\n"
     ]
    },
    {
     "name": "stderr",
     "output_type": "stream",
     "text": [
      "\n",
      "Runnig genetic alogrithm:  44%|████▍     | 44/100 [00:08<00:11,  4.73 generation/s]"
     ]
    },
    {
     "name": "stdout",
     "output_type": "stream",
     "text": [
      "Genome fixed after 6 passes\n"
     ]
    },
    {
     "name": "stderr",
     "output_type": "stream",
     "text": [
      "\u001b[A"
     ]
    },
    {
     "name": "stdout",
     "output_type": "stream",
     "text": [
      "Genome fully rebuilt\n",
      "Genome fully rebuilt\n",
      "Genome fixed after 2 passes\n"
     ]
    },
    {
     "name": "stderr",
     "output_type": "stream",
     "text": []
    },
    {
     "name": "stdout",
     "output_type": "stream",
     "text": [
      "Genome fully rebuilt\n",
      "Genome fixed after 2 passes\n",
      "Genome fully rebuilt\n",
      "Genome fixed after 0 passes\n",
      "Genome fixed after 0 passes\n",
      "Genome fixed after 7 passes\n",
      "Genome fully rebuilt\n"
     ]
    },
    {
     "name": "stderr",
     "output_type": "stream",
     "text": []
    },
    {
     "name": "stdout",
     "output_type": "stream",
     "text": [
      "Genome fully rebuilt\n",
      "Genome fixed after 0 passes\n"
     ]
    },
    {
     "name": "stderr",
     "output_type": "stream",
     "text": []
    },
    {
     "name": "stdout",
     "output_type": "stream",
     "text": [
      "Genome fixed after 0 passes\n"
     ]
    },
    {
     "name": "stderr",
     "output_type": "stream",
     "text": [
      "\n",
      "Runnig genetic alogrithm:  56%|█████▌    | 56/100 [00:10<00:08,  5.47 generation/s]"
     ]
    },
    {
     "name": "stdout",
     "output_type": "stream",
     "text": [
      "Genome fully rebuilt\n",
      "Genome fixed after 6 passes\n"
     ]
    },
    {
     "name": "stderr",
     "output_type": "stream",
     "text": [
      "\u001b[A"
     ]
    },
    {
     "name": "stdout",
     "output_type": "stream",
     "text": [
      "Genome fully rebuilt\n",
      "Genome fully rebuilt\n",
      "Genome fully rebuilt\n"
     ]
    },
    {
     "name": "stderr",
     "output_type": "stream",
     "text": []
    },
    {
     "name": "stdout",
     "output_type": "stream",
     "text": [
      "Genome fully rebuilt\n",
      "Genome fully rebuilt\n",
      "Genome fully rebuilt\n"
     ]
    },
    {
     "name": "stderr",
     "output_type": "stream",
     "text": []
    },
    {
     "name": "stdout",
     "output_type": "stream",
     "text": [
      "Genome fixed after 0 passes\n",
      "Genome fully rebuilt\n"
     ]
    },
    {
     "name": "stderr",
     "output_type": "stream",
     "text": []
    },
    {
     "name": "stdout",
     "output_type": "stream",
     "text": [
      "Genome fixed after 0 passes\n"
     ]
    },
    {
     "name": "stderr",
     "output_type": "stream",
     "text": []
    },
    {
     "name": "stdout",
     "output_type": "stream",
     "text": [
      "Genome fixed after 1 passes\n"
     ]
    },
    {
     "name": "stderr",
     "output_type": "stream",
     "text": []
    },
    {
     "name": "stdout",
     "output_type": "stream",
     "text": [
      "Genome fully rebuilt\n",
      "Genome fixed after 4 passes\n"
     ]
    },
    {
     "name": "stderr",
     "output_type": "stream",
     "text": []
    },
    {
     "name": "stdout",
     "output_type": "stream",
     "text": [
      "Genome fixed after 3 passes\n"
     ]
    },
    {
     "name": "stderr",
     "output_type": "stream",
     "text": []
    },
    {
     "name": "stdout",
     "output_type": "stream",
     "text": [
      "Genome fully rebuilt\n",
      "Genome fixed after 5 passes\n",
      "Genome fully rebuilt\n"
     ]
    },
    {
     "name": "stderr",
     "output_type": "stream",
     "text": []
    },
    {
     "name": "stdout",
     "output_type": "stream",
     "text": [
      "Genome fixed after 0 passes\n",
      "Genome fixed after 3 passes\n"
     ]
    },
    {
     "name": "stderr",
     "output_type": "stream",
     "text": []
    },
    {
     "name": "stdout",
     "output_type": "stream",
     "text": [
      "Genome fixed after 2 passes\n",
      "Genome fixed after 3 passes\n"
     ]
    },
    {
     "name": "stderr",
     "output_type": "stream",
     "text": []
    },
    {
     "name": "stdout",
     "output_type": "stream",
     "text": [
      "Genome fixed after 5 passes\n",
      "Genome fixed after 0 passes\n",
      "Genome fixed after 0 passes\n",
      "Genome fixed after 0 passes\n",
      "Genome fixed after 0 passes\n",
      "Genome fixed after 0 passes\n"
     ]
    },
    {
     "name": "stderr",
     "output_type": "stream",
     "text": []
    },
    {
     "name": "stdout",
     "output_type": "stream",
     "text": [
      "Genome fixed after 1 passes\n"
     ]
    },
    {
     "name": "stderr",
     "output_type": "stream",
     "text": []
    },
    {
     "name": "stdout",
     "output_type": "stream",
     "text": [
      "Genome fully rebuilt\n"
     ]
    },
    {
     "name": "stderr",
     "output_type": "stream",
     "text": [
      "Runnig genetic alogrithm: 100%|██████████| 100/100 [00:18<00:00,  5.36 generation/s]\n",
      "Running grid search:   1%|          | 1/192 [00:18<1:00:23, 18.97s/ combination]"
     ]
    },
    {
     "name": "stdout",
     "output_type": "stream",
     "text": [
      "Genome fully rebuilt\n",
      "Genome fully rebuilt\n",
      "Genome fully rebuilt\n",
      "Genome fully rebuilt\n",
      "Genome fixed after 8 passes\n",
      "Genome fixed after 0 passes\n",
      "Genome fixed after 0 passes\n",
      "Genome fixed after 0 passes\n"
     ]
    },
    {
     "name": "stderr",
     "output_type": "stream",
     "text": []
    },
    {
     "name": "stdout",
     "output_type": "stream",
     "text": [
      "Genome fixed after 3 passes\n",
      "Genome fixed after 0 passes\n",
      "Genome fully rebuilt\n",
      "Genome fully rebuilt\n",
      "Genome fully rebuilt\n",
      "Genome fully rebuilt\n",
      "Genome fully rebuilt\n",
      "Genome fully rebuilt\n",
      "Genome fully rebuilt\n",
      "Genome fully rebuilt\n",
      "Genome fully rebuilt\n",
      "Genome fully rebuilt\n"
     ]
    },
    {
     "name": "stderr",
     "output_type": "stream",
     "text": [
      "\n",
      "Runnig genetic alogrithm:   3%|▎         | 3/100 [00:01<00:44,  2.17 generation/s]"
     ]
    },
    {
     "name": "stdout",
     "output_type": "stream",
     "text": [
      "Genome fully rebuilt\n",
      "Genome fixed after 9 passes\n",
      "Genome fixed after 4 passes\n",
      "Genome fixed after 0 passes\n",
      "Genome fully rebuilt\n",
      "Genome fully rebuilt\n"
     ]
    },
    {
     "name": "stderr",
     "output_type": "stream",
     "text": [
      "\u001b[A"
     ]
    },
    {
     "name": "stdout",
     "output_type": "stream",
     "text": [
      "Genome fixed after 4 passes\n",
      "Genome fully rebuilt\n",
      "Genome fixed after 0 passes\n",
      "Genome fully rebuilt\n",
      "Genome fixed after 0 passes\n"
     ]
    },
    {
     "name": "stderr",
     "output_type": "stream",
     "text": []
    },
    {
     "name": "stdout",
     "output_type": "stream",
     "text": [
      "Genome fixed after 5 passes\n",
      "Genome fixed after 7 passes\n",
      "Genome fixed after 1 passes\n",
      "Genome fixed after 0 passes\n"
     ]
    },
    {
     "name": "stderr",
     "output_type": "stream",
     "text": []
    },
    {
     "name": "stdout",
     "output_type": "stream",
     "text": [
      "Genome fully rebuilt\n",
      "Genome fixed after 0 passes\n"
     ]
    },
    {
     "name": "stderr",
     "output_type": "stream",
     "text": []
    },
    {
     "name": "stdout",
     "output_type": "stream",
     "text": [
      "Genome fixed after 0 passes\n"
     ]
    },
    {
     "name": "stderr",
     "output_type": "stream",
     "text": []
    },
    {
     "name": "stdout",
     "output_type": "stream",
     "text": [
      "Genome fixed after 4 passes\n",
      "Genome fixed after 1 passes\n"
     ]
    },
    {
     "name": "stderr",
     "output_type": "stream",
     "text": []
    },
    {
     "name": "stdout",
     "output_type": "stream",
     "text": [
      "Genome fixed after 3 passes\n",
      "Genome fixed after 0 passes\n"
     ]
    },
    {
     "name": "stderr",
     "output_type": "stream",
     "text": []
    },
    {
     "name": "stdout",
     "output_type": "stream",
     "text": [
      "Genome fully rebuilt\n",
      "Genome fully rebuilt\n"
     ]
    },
    {
     "name": "stderr",
     "output_type": "stream",
     "text": [
      "\n"
     ]
    },
    {
     "name": "stdout",
     "output_type": "stream",
     "text": [
      "Genome fixed after 1 passes\n",
      "Genome fully rebuilt\n",
      "Genome fixed after 0 passes\n"
     ]
    },
    {
     "name": "stderr",
     "output_type": "stream",
     "text": [
      "Runnig genetic alogrithm:  25%|██▌       | 25/100 [00:05<00:11,  6.32 generation/s]\u001b[A"
     ]
    },
    {
     "name": "stdout",
     "output_type": "stream",
     "text": [
      "Genome fixed after 0 passes\n"
     ]
    },
    {
     "name": "stderr",
     "output_type": "stream",
     "text": []
    },
    {
     "name": "stdout",
     "output_type": "stream",
     "text": [
      "Genome fixed after 0 passes\n"
     ]
    },
    {
     "name": "stderr",
     "output_type": "stream",
     "text": []
    },
    {
     "name": "stdout",
     "output_type": "stream",
     "text": [
      "Genome fixed after 3 passes\n",
      "Genome fixed after 0 passes\n"
     ]
    },
    {
     "name": "stderr",
     "output_type": "stream",
     "text": []
    },
    {
     "name": "stdout",
     "output_type": "stream",
     "text": [
      "Genome fully rebuilt\n"
     ]
    },
    {
     "name": "stderr",
     "output_type": "stream",
     "text": []
    },
    {
     "name": "stdout",
     "output_type": "stream",
     "text": [
      "Genome fixed after 7 passes\n",
      "Genome fixed after 0 passes\n"
     ]
    },
    {
     "name": "stderr",
     "output_type": "stream",
     "text": []
    },
    {
     "name": "stdout",
     "output_type": "stream",
     "text": [
      "Genome fixed after 3 passes\n",
      "Genome fixed after 2 passes\n"
     ]
    },
    {
     "name": "stderr",
     "output_type": "stream",
     "text": []
    },
    {
     "name": "stdout",
     "output_type": "stream",
     "text": [
      "Genome fully rebuilt\n",
      "Genome fixed after 0 passes\n"
     ]
    },
    {
     "name": "stderr",
     "output_type": "stream",
     "text": [
      "\n",
      "Runnig genetic alogrithm:  49%|████▉     | 49/100 [00:10<00:10,  4.73 generation/s]"
     ]
    },
    {
     "name": "stdout",
     "output_type": "stream",
     "text": [
      "Genome fixed after 0 passes\n"
     ]
    },
    {
     "name": "stderr",
     "output_type": "stream",
     "text": [
      "\u001b[A"
     ]
    },
    {
     "name": "stdout",
     "output_type": "stream",
     "text": [
      "Genome fixed after"
     ]
    },
    {
     "name": "stderr",
     "output_type": "stream",
     "text": [
      "\n"
     ]
    },
    {
     "name": "stdout",
     "output_type": "stream",
     "text": [
      " 2 passes\n"
     ]
    },
    {
     "name": "stderr",
     "output_type": "stream",
     "text": [
      "Runnig genetic alogrithm:  52%|█████▏    | 52/100 [00:11<00:11,  4.24 generation/s]\u001b[A"
     ]
    },
    {
     "name": "stdout",
     "output_type": "stream",
     "text": [
      "Genome fully rebuilt\n",
      "Genome fully rebuilt\n",
      "Genome fixed after 0 passes\n"
     ]
    },
    {
     "name": "stderr",
     "output_type": "stream",
     "text": [
      "\n"
     ]
    },
    {
     "name": "stdout",
     "output_type": "stream",
     "text": [
      "Genome fixed after 2 passes\n"
     ]
    },
    {
     "name": "stderr",
     "output_type": "stream",
     "text": [
      "Runnig genetic alogrithm:  58%|█████▊    | 58/100 [00:12<00:06,  6.03 generation/s]\u001b[A"
     ]
    },
    {
     "name": "stdout",
     "output_type": "stream",
     "text": [
      "Genome fixed after 7 passes\n",
      "Genome fixed after 0 passes\n"
     ]
    },
    {
     "name": "stderr",
     "output_type": "stream",
     "text": []
    },
    {
     "name": "stdout",
     "output_type": "stream",
     "text": [
      "Genome fixed after 2 passes\n",
      "Genome fixed after 0 passes\n",
      "Genome fixed after 0 passes\n"
     ]
    },
    {
     "name": "stderr",
     "output_type": "stream",
     "text": []
    },
    {
     "name": "stdout",
     "output_type": "stream",
     "text": [
      "Genome fixed after 8 passes\n"
     ]
    },
    {
     "name": "stderr",
     "output_type": "stream",
     "text": []
    },
    {
     "name": "stdout",
     "output_type": "stream",
     "text": [
      "Genome fully rebuilt\n",
      "Genome fully rebuilt\n"
     ]
    },
    {
     "name": "stderr",
     "output_type": "stream",
     "text": []
    },
    {
     "name": "stdout",
     "output_type": "stream",
     "text": [
      "Genome fixed after 3 passes\n",
      "Genome fully rebuilt\n",
      "Genome fully rebuilt\n",
      "Genome fixed after 0 passes\n",
      "Genome fully rebuilt\n",
      "Genome fully rebuilt\n"
     ]
    },
    {
     "name": "stderr",
     "output_type": "stream",
     "text": []
    },
    {
     "name": "stdout",
     "output_type": "stream",
     "text": [
      "Genome fully rebuilt\n"
     ]
    },
    {
     "name": "stderr",
     "output_type": "stream",
     "text": []
    },
    {
     "name": "stdout",
     "output_type": "stream",
     "text": [
      "Genome fixed after 0 passes\n",
      "Genome fixed after 0 passes\n",
      "Genome fixed after 0 passes\n"
     ]
    },
    {
     "name": "stderr",
     "output_type": "stream",
     "text": []
    },
    {
     "name": "stdout",
     "output_type": "stream",
     "text": [
      "Genome fixed after 1 passes\n"
     ]
    },
    {
     "name": "stderr",
     "output_type": "stream",
     "text": []
    },
    {
     "name": "stdout",
     "output_type": "stream",
     "text": [
      "Genome fixed after 0 passes\n"
     ]
    },
    {
     "name": "stderr",
     "output_type": "stream",
     "text": []
    },
    {
     "name": "stdout",
     "output_type": "stream",
     "text": [
      "Genome fixed after 9 passes\n",
      "Genome fixed after 9 passes\n",
      "Genome fixed after 1 passes\n",
      "Genome fixed after 0 passes\n",
      "Genome fully rebuilt\n",
      "Genome fixed after 0 passes\n",
      "Genome fixed after 0 passes\n",
      "Genome fixed after 0 passes\n"
     ]
    },
    {
     "name": "stderr",
     "output_type": "stream",
     "text": []
    },
    {
     "name": "stdout",
     "output_type": "stream",
     "text": [
      "Genome fixed after 1 passes\n",
      "Genome fixed after 0 passes\n",
      "Genome fully rebuilt\n"
     ]
    },
    {
     "name": "stderr",
     "output_type": "stream",
     "text": []
    },
    {
     "name": "stdout",
     "output_type": "stream",
     "text": [
      "Genome fixed after 0 passes\n",
      "Genome fully rebuilt\n",
      "Genome fully rebuilt\n",
      "Genome fully rebuilt\n",
      "Genome fixed after 0 passes\n",
      "Genome fully rebuilt\n"
     ]
    },
    {
     "name": "stderr",
     "output_type": "stream",
     "text": []
    },
    {
     "name": "stdout",
     "output_type": "stream",
     "text": [
      "Genome fully rebuilt\n"
     ]
    },
    {
     "name": "stderr",
     "output_type": "stream",
     "text": [
      "Runnig genetic alogrithm: 100%|██████████| 100/100 [00:20<00:00,  4.90 generation/s]\n",
      "Running grid search:   1%|          | 2/192 [00:40<1:03:56, 20.19s/ combination]"
     ]
    },
    {
     "name": "stdout",
     "output_type": "stream",
     "text": [
      "Genome fully rebuilt\n",
      "Genome fixed after 3 passes\n",
      "Genome fixed after 4 passes\n",
      "Genome fixed after 1 passes\n",
      "Genome fixed after 8 passes\n",
      "Genome fully rebuilt\n",
      "Genome fixed after 4 passes\n",
      "Genome fixed after 7 passes\n",
      "Genome fixed after 1 passes\n",
      "Genome fully rebuilt\n",
      "Genome fully rebuilt\n"
     ]
    },
    {
     "name": "stderr",
     "output_type": "stream",
     "text": []
    },
    {
     "name": "stdout",
     "output_type": "stream",
     "text": [
      "Genome fully rebuilt\n",
      "Genome fixed after 0 passes\n",
      "Genome fixed after 0 passes\n",
      "Genome fully rebuilt\n",
      "Genome fixed after 6 passes\n",
      "Genome fully rebuilt\n",
      "Genome fixed after 1 passes\n"
     ]
    },
    {
     "name": "stderr",
     "output_type": "stream",
     "text": []
    },
    {
     "name": "stdout",
     "output_type": "stream",
     "text": [
      "Genome fully rebuilt\n",
      "Genome fixed after 0 passes\n",
      "Genome fully rebuilt\n",
      "Genome fixed after 0 passes\n",
      "Genome fixed after 0 passes\n",
      "Genome fixed after 0 passes\n",
      "Genome fixed after 0 passes\n",
      "Genome fixed after 1 passes\n",
      "Genome fixed after 0 passes\n",
      "Genome fully rebuilt\n",
      "Genome fully rebuilt\n",
      "Genome fully rebuilt\n",
      "Genome fixed after 7 passes\n",
      "Genome fully rebuilt\n",
      "Genome fixed after 9 passes\n",
      "Genome fixed after 7 passes\n",
      "Genome fixed after 0 passes\n",
      "Genome fixed after 0 passes\n",
      "Genome fixed after 3 passes\n",
      "Genome fully rebuilt\n",
      "Genome fully rebuilt\n",
      "Genome fixed after 0 passes\n"
     ]
    },
    {
     "name": "stderr",
     "output_type": "stream",
     "text": []
    },
    {
     "name": "stdout",
     "output_type": "stream",
     "text": [
      "Genome fixed after 3 passes\n",
      "Genome fully rebuilt\n",
      "Genome fixed after 2 passes\n",
      "Genome fixed after 6 passes\n",
      "Genome fully rebuilt\n",
      "Genome fully rebuilt\n",
      "Genome fully rebuilt\n",
      "Genome fully rebuilt\n",
      "Genome fixed after 0 passes\n",
      "Genome fully rebuilt\n",
      "Genome fixed after 0 passes\n"
     ]
    },
    {
     "name": "stderr",
     "output_type": "stream",
     "text": []
    },
    {
     "name": "stdout",
     "output_type": "stream",
     "text": [
      "Genome fully rebuilt\n",
      "Genome fixed after 0 passes\n",
      "Genome fully rebuilt\n",
      "Genome fixed after 0 passes\n",
      "Genome fixed after 8 passes\n",
      "Genome fixed after 0 passes\n",
      "Genome fixed after 1 passes\n",
      "Genome fixed after 5 passes\n",
      "Genome fully rebuilt\n",
      "Genome fixed after 0 passes\n",
      "Genome fixed after 0 passes\n",
      "Genome fully rebuilt\n"
     ]
    },
    {
     "name": "stderr",
     "output_type": "stream",
     "text": []
    },
    {
     "name": "stdout",
     "output_type": "stream",
     "text": [
      "Genome fixed after 2 passes\n",
      "Genome fixed after 6 passes\n",
      "Genome fixed after 0 passes\n",
      "Genome fully rebuilt\n"
     ]
    },
    {
     "name": "stderr",
     "output_type": "stream",
     "text": []
    },
    {
     "name": "stdout",
     "output_type": "stream",
     "text": [
      "Genome fully rebuilt\n",
      "Genome fixed after 0 passes\n",
      "Genome fully rebuilt\n",
      "Genome fixed after 0 passes\n"
     ]
    },
    {
     "name": "stderr",
     "output_type": "stream",
     "text": []
    },
    {
     "name": "stdout",
     "output_type": "stream",
     "text": [
      "Genome fully rebuilt\n",
      "Genome fixed after 0 passes\n",
      "Genome fixed after 2 passes\n",
      "Genome fixed after 0 passes\n",
      "Genome fully rebuilt\n",
      "Genome fixed after 0 passes\n",
      "Genome fixed after 0 passes\n",
      "Genome fully rebuilt\n",
      "Genome fully rebuilt\n",
      "Genome fixed after 0 passes\n",
      "Genome fixed after 0 passes\n"
     ]
    },
    {
     "name": "stderr",
     "output_type": "stream",
     "text": []
    },
    {
     "name": "stdout",
     "output_type": "stream",
     "text": [
      "Genome fully rebuilt\n",
      "Genome fixed after 0 passes\n",
      "Genome fixed after 0 passes\n",
      "Genome fixed after 0 passes\n",
      "Genome fully rebuilt\n",
      "Genome fixed after 0 passes\n",
      "Genome fully rebuilt\n"
     ]
    },
    {
     "name": "stderr",
     "output_type": "stream",
     "text": []
    },
    {
     "name": "stdout",
     "output_type": "stream",
     "text": [
      "Genome fixed after 0 passes\n",
      "Genome fully rebuilt\n",
      "Genome fixed after 1 passes\n",
      "Genome fully rebuilt\n",
      "Genome fixed after 0 passes\n"
     ]
    },
    {
     "name": "stderr",
     "output_type": "stream",
     "text": []
    },
    {
     "name": "stdout",
     "output_type": "stream",
     "text": [
      "Genome fixed after 0 passes\n",
      "Genome fixed after 0 passes\n",
      "Genome fixed after 0 passes\n",
      "Genome fixed after 0 passes\n"
     ]
    },
    {
     "name": "stderr",
     "output_type": "stream",
     "text": [
      "\n"
     ]
    },
    {
     "name": "stdout",
     "output_type": "stream",
     "text": [
      "Genome fixed after 0 passes\n",
      "Genome fixed after 0 passes\n"
     ]
    },
    {
     "name": "stderr",
     "output_type": "stream",
     "text": [
      "Runnig genetic alogrithm:  19%|█▉        | 19/100 [00:07<00:17,  4.68 generation/s]\u001b[A"
     ]
    },
    {
     "name": "stdout",
     "output_type": "stream",
     "text": [
      "Genome fixed after 0 passes\n",
      "Genome fully rebuilt\n",
      "Genome fixed after 4 passes\n"
     ]
    },
    {
     "name": "stderr",
     "output_type": "stream",
     "text": []
    },
    {
     "name": "stdout",
     "output_type": "stream",
     "text": [
      "Genome fully rebuilt\n",
      "Genome fully rebuilt\n",
      "Genome fully rebuilt\n"
     ]
    },
    {
     "name": "stderr",
     "output_type": "stream",
     "text": []
    },
    {
     "name": "stdout",
     "output_type": "stream",
     "text": [
      "Genome fixed after 0 passes\n",
      "Genome fully rebuilt\n",
      "Genome fully rebuilt\n"
     ]
    },
    {
     "name": "stderr",
     "output_type": "stream",
     "text": []
    },
    {
     "name": "stdout",
     "output_type": "stream",
     "text": [
      "Genome fully rebuilt\n",
      "Genome fully rebuilt\n",
      "Genome fully rebuilt\n"
     ]
    },
    {
     "name": "stderr",
     "output_type": "stream",
     "text": []
    },
    {
     "name": "stdout",
     "output_type": "stream",
     "text": [
      "Genome fixed after 0 passes\n"
     ]
    },
    {
     "name": "stderr",
     "output_type": "stream",
     "text": []
    },
    {
     "name": "stdout",
     "output_type": "stream",
     "text": [
      "Genome fully rebuilt\n",
      "Genome fixed after 0 passes\n",
      "Genome fixed after 0 passes\n",
      "Genome fully rebuilt\n",
      "Genome fully rebuilt\n",
      "Genome fully rebuilt\n",
      "Genome fully rebuilt\n",
      "Genome fixed after 6 passes\n",
      "Genome fully rebuilt\n",
      "Genome fixed after 0 passes\n"
     ]
    },
    {
     "name": "stderr",
     "output_type": "stream",
     "text": []
    },
    {
     "name": "stdout",
     "output_type": "stream",
     "text": [
      "Genome fixed after 0 passes\n"
     ]
    },
    {
     "name": "stderr",
     "output_type": "stream",
     "text": []
    },
    {
     "name": "stdout",
     "output_type": "stream",
     "text": [
      "Genome fixed after 0 passes\n",
      "Genome fixed after 0 passes\n"
     ]
    },
    {
     "name": "stderr",
     "output_type": "stream",
     "text": []
    },
    {
     "name": "stdout",
     "output_type": "stream",
     "text": [
      "Genome fixed after 2 passes\n",
      "Genome fixed after 0 passes\n",
      "Genome fixed after 7 passes\n",
      "Genome fixed after 0 passes\n",
      "Genome fixed after 2 passes\n",
      "Genome fixed after 4 passes\n"
     ]
    },
    {
     "name": "stderr",
     "output_type": "stream",
     "text": []
    },
    {
     "name": "stdout",
     "output_type": "stream",
     "text": [
      "Genome fully rebuilt\n",
      "Genome fully rebuilt\n"
     ]
    },
    {
     "name": "stderr",
     "output_type": "stream",
     "text": []
    },
    {
     "name": "stdout",
     "output_type": "stream",
     "text": [
      "Genome fully rebuilt\n",
      "Genome fixed after 0 passes\n"
     ]
    },
    {
     "name": "stderr",
     "output_type": "stream",
     "text": [
      "\n"
     ]
    },
    {
     "name": "stdout",
     "output_type": "stream",
     "text": [
      "Genome fully rebuilt\n"
     ]
    },
    {
     "name": "stderr",
     "output_type": "stream",
     "text": [
      "Runnig genetic alogrithm:  41%|████      | 41/100 [00:13<00:16,  3.61 generation/s]\u001b[A"
     ]
    },
    {
     "name": "stdout",
     "output_type": "stream",
     "text": [
      "Genome fixed after 5 passes\n",
      "Genome fully rebuilt\n",
      "Genome fixed after 7 passes\n",
      "Genome fixed after 3 passes\n"
     ]
    },
    {
     "name": "stderr",
     "output_type": "stream",
     "text": []
    },
    {
     "name": "stdout",
     "output_type": "stream",
     "text": [
      "Genome fully rebuilt\n",
      "Genome fully rebuilt\n",
      "Genome fixed after 2 passes\n"
     ]
    },
    {
     "name": "stderr",
     "output_type": "stream",
     "text": []
    },
    {
     "name": "stdout",
     "output_type": "stream",
     "text": [
      "Genome fixed after 0 passes\n"
     ]
    },
    {
     "name": "stderr",
     "output_type": "stream",
     "text": []
    },
    {
     "name": "stdout",
     "output_type": "stream",
     "text": [
      "Genome fixed after 0 passes\n",
      "Genome fixed after 0 passes\n"
     ]
    },
    {
     "name": "stderr",
     "output_type": "stream",
     "text": []
    },
    {
     "name": "stdout",
     "output_type": "stream",
     "text": [
      "Genome fully rebuilt\n",
      "Genome fully rebuilt\n",
      "Genome fixed after 0 passes\n",
      "Genome fixed after 0 passes\n"
     ]
    },
    {
     "name": "stderr",
     "output_type": "stream",
     "text": []
    },
    {
     "name": "stdout",
     "output_type": "stream",
     "text": [
      "Genome fixed after 4 passes\n",
      "Genome fixed after 0 passes\n",
      "Genome fixed after 0 passes\n",
      "Genome fixed after 2 passes\n",
      "Genome fully rebuilt\n",
      "Genome fixed after 1 passes\n"
     ]
    },
    {
     "name": "stderr",
     "output_type": "stream",
     "text": []
    },
    {
     "name": "stdout",
     "output_type": "stream",
     "text": [
      "Genome fully rebuilt\n"
     ]
    },
    {
     "name": "stderr",
     "output_type": "stream",
     "text": []
    },
    {
     "name": "stdout",
     "output_type": "stream",
     "text": [
      "Genome fixed after 1 passes\n"
     ]
    },
    {
     "name": "stderr",
     "output_type": "stream",
     "text": []
    },
    {
     "name": "stdout",
     "output_type": "stream",
     "text": [
      "Genome fully rebuilt\n"
     ]
    },
    {
     "name": "stderr",
     "output_type": "stream",
     "text": []
    },
    {
     "name": "stdout",
     "output_type": "stream",
     "text": [
      "Genome fully rebuilt\n",
      "Genome fixed after 0 passes\n",
      "Genome fixed after 0 passes\n"
     ]
    },
    {
     "name": "stderr",
     "output_type": "stream",
     "text": []
    },
    {
     "name": "stdout",
     "output_type": "stream",
     "text": [
      "Genome fixed after 0 passes\n",
      "Genome fixed after 0 passes\n"
     ]
    },
    {
     "name": "stderr",
     "output_type": "stream",
     "text": [
      "\n",
      "Runnig genetic alogrithm:  62%|██████▏   | 62/100 [00:19<00:13,  2.89 generation/s]"
     ]
    },
    {
     "name": "stdout",
     "output_type": "stream",
     "text": [
      "Genome fixed after 0 passes\n",
      "Genome fixed after 0 passes\n"
     ]
    },
    {
     "name": "stderr",
     "output_type": "stream",
     "text": [
      "\u001b[A"
     ]
    },
    {
     "name": "stdout",
     "output_type": "stream",
     "text": [
      "Genome fully rebuilt\n",
      "Genome fixed after 0 passes\n"
     ]
    },
    {
     "name": "stderr",
     "output_type": "stream",
     "text": []
    },
    {
     "name": "stdout",
     "output_type": "stream",
     "text": [
      "Genome fully rebuilt\n"
     ]
    },
    {
     "name": "stderr",
     "output_type": "stream",
     "text": []
    },
    {
     "name": "stdout",
     "output_type": "stream",
     "text": [
      "Genome fixed after 0 passes\n"
     ]
    },
    {
     "name": "stderr",
     "output_type": "stream",
     "text": []
    },
    {
     "name": "stdout",
     "output_type": "stream",
     "text": [
      "Genome fixed after 4 passes\n"
     ]
    },
    {
     "name": "stderr",
     "output_type": "stream",
     "text": []
    },
    {
     "name": "stdout",
     "output_type": "stream",
     "text": [
      "Genome fixed after 0 passes\n",
      "Genome fixed after 0 passes\n"
     ]
    },
    {
     "name": "stderr",
     "output_type": "stream",
     "text": []
    },
    {
     "name": "stdout",
     "output_type": "stream",
     "text": [
      "Genome fixed after 0 passes\n",
      "Genome fully rebuilt\n"
     ]
    },
    {
     "name": "stderr",
     "output_type": "stream",
     "text": []
    },
    {
     "name": "stdout",
     "output_type": "stream",
     "text": [
      "Genome fixed after 0 passes\n",
      "Genome fixed after 5 passes\n"
     ]
    },
    {
     "name": "stderr",
     "output_type": "stream",
     "text": []
    },
    {
     "name": "stdout",
     "output_type": "stream",
     "text": [
      "Genome fixed after 0 passes\n",
      "Genome fully rebuilt\n"
     ]
    },
    {
     "name": "stderr",
     "output_type": "stream",
     "text": []
    },
    {
     "name": "stdout",
     "output_type": "stream",
     "text": [
      "Genome fully rebuilt\n",
      "Genome fully rebuilt\n"
     ]
    },
    {
     "name": "stderr",
     "output_type": "stream",
     "text": []
    },
    {
     "name": "stdout",
     "output_type": "stream",
     "text": [
      "Genome fixed after 0 passes\n",
      "Genome fully rebuilt\n"
     ]
    },
    {
     "name": "stderr",
     "output_type": "stream",
     "text": []
    },
    {
     "name": "stdout",
     "output_type": "stream",
     "text": [
      "Genome fixed after 0 passes\n",
      "Genome fixed after 3 passes\n"
     ]
    },
    {
     "name": "stderr",
     "output_type": "stream",
     "text": []
    },
    {
     "name": "stdout",
     "output_type": "stream",
     "text": [
      "Genome fixed after 0 passes\n"
     ]
    },
    {
     "name": "stderr",
     "output_type": "stream",
     "text": []
    },
    {
     "name": "stdout",
     "output_type": "stream",
     "text": [
      "Genome fixed after 1 passes\n"
     ]
    },
    {
     "name": "stderr",
     "output_type": "stream",
     "text": []
    },
    {
     "name": "stdout",
     "output_type": "stream",
     "text": [
      "Genome fixed after 0 passes\n",
      "Genome fixed after 0 passes\n",
      "Genome fixed after 1 passes\n",
      "Genome fixed after 0 passes\n",
      "Genome fully rebuilt\n",
      "Genome fixed after 0 passes\n"
     ]
    },
    {
     "name": "stderr",
     "output_type": "stream",
     "text": []
    },
    {
     "name": "stdout",
     "output_type": "stream",
     "text": [
      "Genome fixed after 8 passes\n",
      "Genome fixed after 0 passes\n",
      "Genome fixed after 0 passes\n"
     ]
    },
    {
     "name": "stderr",
     "output_type": "stream",
     "text": []
    },
    {
     "name": "stdout",
     "output_type": "stream",
     "text": [
      "Genome fixed after 0 passes\n"
     ]
    },
    {
     "name": "stderr",
     "output_type": "stream",
     "text": []
    },
    {
     "name": "stdout",
     "output_type": "stream",
     "text": [
      "Genome fixed after 0 passes\n",
      "Genome fixed after 0 passes\n",
      "Genome fixed after 2 passes\n",
      "Genome fixed after 0 passes\n"
     ]
    },
    {
     "name": "stderr",
     "output_type": "stream",
     "text": []
    },
    {
     "name": "stdout",
     "output_type": "stream",
     "text": [
      "Genome fixed after 0 passes\n",
      "Genome fixed after 0 passes\n"
     ]
    },
    {
     "name": "stderr",
     "output_type": "stream",
     "text": [
      "\n"
     ]
    },
    {
     "name": "stdout",
     "output_type": "stream",
     "text": [
      "Genome fixed after 0 passes\n",
      "Genome fully rebuilt\n",
      "Genome fully rebuilt\n"
     ]
    },
    {
     "name": "stderr",
     "output_type": "stream",
     "text": [
      "Runnig genetic alogrithm: 100%|██████████| 100/100 [00:29<00:00,  3.39 generation/s][A\n",
      "Running grid search:   2%|▏         | 3/192 [01:09<1:17:20, 24.55s/ combination]"
     ]
    },
    {
     "name": "stdout",
     "output_type": "stream",
     "text": [
      "Genome fully rebuilt\n",
      "Genome fixed after 8 passes\n",
      "Genome fixed after 0 passes\n",
      "Genome fixed after 2 passes\n",
      "Genome fixed after 3 passes\n",
      "Genome fixed after 2 passes\n",
      "Genome fixed after 0 passes\n",
      "Genome fixed after 0 passes\n",
      "Genome fixed after 7 passes\n",
      "Genome fully rebuilt\n",
      "Genome fixed after 1 passes\n"
     ]
    },
    {
     "name": "stderr",
     "output_type": "stream",
     "text": []
    },
    {
     "name": "stdout",
     "output_type": "stream",
     "text": [
      "Genome fully rebuilt\n",
      "Genome fixed after 5 passes\n",
      "Genome fixed after 9 passes\n",
      "Genome fixed after 2 passes\n",
      "Genome fixed after 3 passes\n",
      "Genome fully rebuilt\n",
      "Genome fully rebuilt\n",
      "Genome fixed after 7 passes\n",
      "Genome fully rebuilt\n",
      "Genome fully rebuilt\n",
      "Genome fully rebuilt\n",
      "Genome fixed after 0 passes\n",
      "Genome fixed after 0 passes\n",
      "Genome fixed after 0 passes\n",
      "Genome fixed after 5 passes\n",
      "Genome fixed after 3 passes\n",
      "Genome fixed after 5 passes\n"
     ]
    },
    {
     "name": "stderr",
     "output_type": "stream",
     "text": []
    },
    {
     "name": "stdout",
     "output_type": "stream",
     "text": [
      "Genome fully rebuilt\n",
      "Genome fully rebuilt\n",
      "Genome fully rebuilt\n",
      "Genome fixed after 5 passes\n",
      "Genome fixed after 1 passes\n",
      "Genome fixed after 0 passes\n",
      "Genome fixed after 0 passes\n",
      "Genome fixed after 0 passes\n",
      "Genome fully rebuilt\n",
      "Genome fully rebuilt\n",
      "Genome fully rebuilt\n",
      "Genome fixed after 5 passes\n",
      "Genome fully rebuilt\n",
      "Genome fixed after 5 passes\n",
      "Genome fully rebuilt\n",
      "Genome fully rebuilt\n",
      "Genome fully rebuilt\n",
      "Genome fixed after 8 passes\n",
      "Genome fixed after 0 passes\n",
      "Genome fixed after 0 passes\n"
     ]
    },
    {
     "name": "stderr",
     "output_type": "stream",
     "text": []
    },
    {
     "name": "stdout",
     "output_type": "stream",
     "text": [
      "Genome fully rebuilt\n",
      "Genome fixed after 0 passes\n",
      "Genome fully rebuilt\n",
      "Genome fully rebuilt\n",
      "Genome fixed after 0 passes\n",
      "Genome fully rebuilt\n",
      "Genome fixed after 0 passes\n",
      "Genome fully rebuilt\n",
      "Genome fixed after 2 passes\n",
      "Genome fully rebuilt\n",
      "Genome fixed after 0 passes\n",
      "Genome fixed after 5 passes\n",
      "Genome fixed after 0 passes\n",
      "Genome fixed after 0 passes\n",
      "Genome fully rebuilt\n"
     ]
    },
    {
     "name": "stderr",
     "output_type": "stream",
     "text": []
    },
    {
     "name": "stdout",
     "output_type": "stream",
     "text": [
      "Genome fixed after 0 passes\n",
      "Genome fixed after 1 passes\n",
      "Genome fixed after 0 passes\n",
      "Genome fixed after 0 passes\n",
      "Genome fully rebuilt\n",
      "Genome fixed after 2 passes\n",
      "Genome fully rebuilt\n",
      "Genome fully rebuilt\n",
      "Genome fixed after 0 passes\n",
      "Genome fixed after 0 passes\n"
     ]
    },
    {
     "name": "stderr",
     "output_type": "stream",
     "text": []
    },
    {
     "name": "stdout",
     "output_type": "stream",
     "text": [
      "Genome fixed after 8 passes\n",
      "Genome fixed after 9 passes\n",
      "Genome fixed after 0 passes\n",
      "Genome fully rebuilt\n",
      "Genome fixed after 0 passes\n",
      "Genome fixed after 7 passes\n",
      "Genome fully rebuilt\n",
      "Genome fixed after 0 passes\n",
      "Genome fixed after 4 passes\n",
      "Genome fully rebuilt\n",
      "Genome fixed after 0 passes\n",
      "Genome fixed after 0 passes\n",
      "Genome fully rebuilt\n",
      "Genome fully rebuilt\n",
      "Genome fully rebuilt\n",
      "Genome fixed after 0 passes\n",
      "Genome fixed after 3 passes\n"
     ]
    },
    {
     "name": "stderr",
     "output_type": "stream",
     "text": []
    },
    {
     "name": "stdout",
     "output_type": "stream",
     "text": [
      "Genome fully rebuilt\n"
     ]
    },
    {
     "name": "stderr",
     "output_type": "stream",
     "text": []
    },
    {
     "name": "stdout",
     "output_type": "stream",
     "text": [
      "Genome fixed after 0 passes\n",
      "Genome fixed after 5 passes\n",
      "Genome fixed after 0 passes\n"
     ]
    },
    {
     "name": "stderr",
     "output_type": "stream",
     "text": []
    },
    {
     "name": "stdout",
     "output_type": "stream",
     "text": [
      "Genome fixed after 0 passes\n",
      "Genome fixed after 0 passes\n",
      "Genome fixed after 5 passes\n"
     ]
    },
    {
     "name": "stderr",
     "output_type": "stream",
     "text": []
    },
    {
     "name": "stdout",
     "output_type": "stream",
     "text": [
      "Genome fully rebuilt\n"
     ]
    },
    {
     "name": "stderr",
     "output_type": "stream",
     "text": []
    },
    {
     "name": "stdout",
     "output_type": "stream",
     "text": [
      "Genome fully rebuilt\n"
     ]
    },
    {
     "name": "stderr",
     "output_type": "stream",
     "text": []
    },
    {
     "name": "stdout",
     "output_type": "stream",
     "text": [
      "Genome fixed after 0 passes\n",
      "Genome fixed after 0 passes\n",
      "Genome fixed after 0 passes\n"
     ]
    },
    {
     "name": "stderr",
     "output_type": "stream",
     "text": []
    },
    {
     "name": "stdout",
     "output_type": "stream",
     "text": [
      "Genome fixed after 3 passes\n",
      "Genome fully rebuilt\n",
      "Genome fixed after 9 passes\n",
      "Genome fully rebuilt\n",
      "Genome fully rebuilt\n"
     ]
    },
    {
     "name": "stderr",
     "output_type": "stream",
     "text": []
    },
    {
     "name": "stdout",
     "output_type": "stream",
     "text": [
      "Genome fixed after 9 passes\n",
      "Genome fixed after 7 passes\n"
     ]
    },
    {
     "name": "stderr",
     "output_type": "stream",
     "text": []
    },
    {
     "name": "stdout",
     "output_type": "stream",
     "text": [
      "Genome fixed after 0 passes\n"
     ]
    },
    {
     "name": "stderr",
     "output_type": "stream",
     "text": []
    },
    {
     "name": "stdout",
     "output_type": "stream",
     "text": [
      "Genome fixed after 0 passes\n"
     ]
    },
    {
     "name": "stderr",
     "output_type": "stream",
     "text": []
    },
    {
     "name": "stdout",
     "output_type": "stream",
     "text": [
      "Genome fully rebuilt\n",
      "Genome fixed after 0 passes\n"
     ]
    },
    {
     "name": "stderr",
     "output_type": "stream",
     "text": [
      "\n"
     ]
    },
    {
     "name": "stdout",
     "output_type": "stream",
     "text": [
      "Genome fixed after 7 passes\n",
      "Genome fully rebuilt\n"
     ]
    },
    {
     "name": "stderr",
     "output_type": "stream",
     "text": [
      "Runnig genetic alogrithm:  26%|██▌       | 26/100 [00:10<00:24,  3.08 generation/s]\u001b[A"
     ]
    },
    {
     "name": "stdout",
     "output_type": "stream",
     "text": [
      "Genome fixed after 0 passes\n",
      "Genome fixed after 8 passes\n",
      "Genome fully rebuilt\n"
     ]
    },
    {
     "name": "stderr",
     "output_type": "stream",
     "text": []
    },
    {
     "name": "stdout",
     "output_type": "stream",
     "text": [
      "Genome fixed after 9 passes\n",
      "Genome fixed after 0 passes\n",
      "Genome fixed after 4 passes\n"
     ]
    },
    {
     "name": "stderr",
     "output_type": "stream",
     "text": []
    },
    {
     "name": "stdout",
     "output_type": "stream",
     "text": [
      "Genome fully rebuilt\n",
      "Genome fully rebuilt\n"
     ]
    },
    {
     "name": "stderr",
     "output_type": "stream",
     "text": [
      "\n"
     ]
    },
    {
     "name": "stdout",
     "output_type": "stream",
     "text": [
      "Genome fixed after 1 passes\n"
     ]
    },
    {
     "name": "stderr",
     "output_type": "stream",
     "text": [
      "Runnig genetic alogrithm:  31%|███       | 31/100 [00:12<00:23,  2.97 generation/s]\u001b[A"
     ]
    },
    {
     "name": "stdout",
     "output_type": "stream",
     "text": [
      "Genome fixed after 7 passes\n",
      "Genome fixed after 0 passes\n"
     ]
    },
    {
     "name": "stderr",
     "output_type": "stream",
     "text": []
    },
    {
     "name": "stdout",
     "output_type": "stream",
     "text": [
      "Genome fixed after 0 passes\n",
      "Genome fully rebuilt\n",
      "Genome fixed after 0 passes\n",
      "Genome fully rebuilt\n"
     ]
    },
    {
     "name": "stderr",
     "output_type": "stream",
     "text": []
    },
    {
     "name": "stdout",
     "output_type": "stream",
     "text": [
      "Genome fixed after 5 passes\n"
     ]
    },
    {
     "name": "stderr",
     "output_type": "stream",
     "text": []
    },
    {
     "name": "stdout",
     "output_type": "stream",
     "text": [
      "Genome fixed after 2 passes\n"
     ]
    },
    {
     "name": "stderr",
     "output_type": "stream",
     "text": []
    },
    {
     "name": "stdout",
     "output_type": "stream",
     "text": [
      "Genome fully rebuilt\n",
      "Genome fully rebuilt\n",
      "Genome fixed after 5 passes\n",
      "Genome fixed after 2 passes\n",
      "Genome fully rebuilt\n"
     ]
    },
    {
     "name": "stderr",
     "output_type": "stream",
     "text": []
    },
    {
     "name": "stdout",
     "output_type": "stream",
     "text": [
      "Genome fixed after 3 passes\n",
      "Genome fixed after 0 passes\n",
      "Genome fully rebuilt\n",
      "Genome fully rebuilt\n",
      "Genome fully rebuilt\n"
     ]
    },
    {
     "name": "stderr",
     "output_type": "stream",
     "text": []
    },
    {
     "name": "stdout",
     "output_type": "stream",
     "text": [
      "Genome fully rebuilt\n",
      "Genome fully rebuilt\n",
      "Genome fixed after 1 passes\n",
      "Genome fixed after 6 passes\n",
      "Genome fully rebuilt\n",
      "Genome fully rebuilt\n"
     ]
    },
    {
     "name": "stderr",
     "output_type": "stream",
     "text": []
    },
    {
     "name": "stdout",
     "output_type": "stream",
     "text": [
      "Genome fixed after 0 passes\n"
     ]
    },
    {
     "name": "stderr",
     "output_type": "stream",
     "text": []
    },
    {
     "name": "stdout",
     "output_type": "stream",
     "text": [
      "Genome fully rebuilt\n",
      "Genome fixed after 0 passes\n",
      "Genome fixed after 0 passes\n"
     ]
    },
    {
     "name": "stderr",
     "output_type": "stream",
     "text": []
    },
    {
     "name": "stdout",
     "output_type": "stream",
     "text": [
      "Genome fully rebuilt\n",
      "Genome fixed after 1 passes\n"
     ]
    },
    {
     "name": "stderr",
     "output_type": "stream",
     "text": []
    },
    {
     "name": "stdout",
     "output_type": "stream",
     "text": [
      "Genome fully rebuilt\n",
      "Genome fixed after 7 passes\n",
      "Genome fixed after 0 passes\n",
      "Genome fixed after 1 passes\n"
     ]
    },
    {
     "name": "stderr",
     "output_type": "stream",
     "text": []
    },
    {
     "name": "stdout",
     "output_type": "stream",
     "text": [
      "Genome fully rebuilt\n",
      "Genome fully rebuilt\n"
     ]
    },
    {
     "name": "stderr",
     "output_type": "stream",
     "text": []
    },
    {
     "name": "stdout",
     "output_type": "stream",
     "text": [
      "Genome fixed after 1 passes\n",
      "Genome fixed after 4 passes\n"
     ]
    },
    {
     "name": "stderr",
     "output_type": "stream",
     "text": []
    },
    {
     "name": "stdout",
     "output_type": "stream",
     "text": [
      "Genome fully rebuilt\n",
      "Genome fixed after 0 passes\n",
      "Genome fixed after 0 passes\n"
     ]
    },
    {
     "name": "stderr",
     "output_type": "stream",
     "text": []
    },
    {
     "name": "stdout",
     "output_type": "stream",
     "text": [
      "Genome fixed after 0 passes\n",
      "Genome fully rebuilt\n",
      "Genome fixed after 0 passes\n"
     ]
    },
    {
     "name": "stderr",
     "output_type": "stream",
     "text": []
    },
    {
     "name": "stdout",
     "output_type": "stream",
     "text": [
      "Genome fixed after 2 passes\n",
      "Genome fixed after 0 passes\n"
     ]
    },
    {
     "name": "stderr",
     "output_type": "stream",
     "text": []
    },
    {
     "name": "stdout",
     "output_type": "stream",
     "text": [
      "Genome fixed after 5 passes\n",
      "Genome fixed after 2 passes\n"
     ]
    },
    {
     "name": "stderr",
     "output_type": "stream",
     "text": []
    },
    {
     "name": "stdout",
     "output_type": "stream",
     "text": [
      "Genome fixed after 0 passes\n"
     ]
    },
    {
     "name": "stderr",
     "output_type": "stream",
     "text": []
    },
    {
     "name": "stdout",
     "output_type": "stream",
     "text": [
      "Genome fixed after 0 passes\n",
      "Genome fully rebuilt\n",
      "Genome fixed after 5 passes\n",
      "Genome fixed after 1 passes\n",
      "Genome fixed after 0 passes\n"
     ]
    },
    {
     "name": "stderr",
     "output_type": "stream",
     "text": []
    },
    {
     "name": "stdout",
     "output_type": "stream",
     "text": [
      "Genome fixed after 5 passes\n",
      "Genome fully rebuilt\n",
      "Genome fully rebuilt\n"
     ]
    },
    {
     "name": "stderr",
     "output_type": "stream",
     "text": []
    },
    {
     "name": "stdout",
     "output_type": "stream",
     "text": [
      "Genome fully rebuilt\n",
      "Genome fully rebuilt\n"
     ]
    },
    {
     "name": "stderr",
     "output_type": "stream",
     "text": [
      "\n"
     ]
    },
    {
     "name": "stdout",
     "output_type": "stream",
     "text": [
      "Genome fully rebuilt\n"
     ]
    },
    {
     "name": "stderr",
     "output_type": "stream",
     "text": [
      "Runnig genetic alogrithm:  68%|██████▊   | 68/100 [00:28<00:15,  2.11 generation/s]\u001b[A"
     ]
    },
    {
     "name": "stdout",
     "output_type": "stream",
     "text": [
      "Genome fixed after 0 passes\n",
      "Genome fixed after 5 passes\n",
      "Genome fixed after 0 passes\n"
     ]
    },
    {
     "name": "stderr",
     "output_type": "stream",
     "text": []
    },
    {
     "name": "stdout",
     "output_type": "stream",
     "text": [
      "Genome fixed after 0 passes\n",
      "Genome fixed after 0 passes\n"
     ]
    },
    {
     "name": "stderr",
     "output_type": "stream",
     "text": []
    },
    {
     "name": "stdout",
     "output_type": "stream",
     "text": [
      "Genome fixed after 0 passes\n",
      "Genome fixed after 0 passes\n"
     ]
    },
    {
     "name": "stderr",
     "output_type": "stream",
     "text": []
    },
    {
     "name": "stdout",
     "output_type": "stream",
     "text": [
      "Genome fixed after 0 passes\n",
      "Genome fixed after 4 passes\n"
     ]
    },
    {
     "name": "stderr",
     "output_type": "stream",
     "text": []
    },
    {
     "name": "stdout",
     "output_type": "stream",
     "text": [
      "Genome fully rebuilt\n"
     ]
    },
    {
     "name": "stderr",
     "output_type": "stream",
     "text": []
    },
    {
     "name": "stdout",
     "output_type": "stream",
     "text": [
      "Genome fixed after 0 passes\n",
      "Genome fixed after 4 passes\n",
      "Genome fully rebuilt\n"
     ]
    },
    {
     "name": "stderr",
     "output_type": "stream",
     "text": []
    },
    {
     "name": "stdout",
     "output_type": "stream",
     "text": [
      "Genome fixed after 6 passes\n",
      "Genome fixed after 4 passes\n"
     ]
    },
    {
     "name": "stderr",
     "output_type": "stream",
     "text": []
    },
    {
     "name": "stdout",
     "output_type": "stream",
     "text": [
      "Genome fully rebuilt\n",
      "Genome fixed after 0 passes\n"
     ]
    },
    {
     "name": "stderr",
     "output_type": "stream",
     "text": []
    },
    {
     "name": "stdout",
     "output_type": "stream",
     "text": [
      "Genome fully rebuilt\n",
      "Genome fixed after 0 passes\n",
      "Genome fully rebuilt\n",
      "Genome fixed after 0 passes\n",
      "Genome fixed after 0 passes\n"
     ]
    },
    {
     "name": "stderr",
     "output_type": "stream",
     "text": []
    },
    {
     "name": "stdout",
     "output_type": "stream",
     "text": [
      "Genome fixed after 8 passes\n",
      "Genome fully rebuilt\n",
      "Genome fixed after 6 passes\n"
     ]
    },
    {
     "name": "stderr",
     "output_type": "stream",
     "text": []
    },
    {
     "name": "stdout",
     "output_type": "stream",
     "text": [
      "Genome fixed after 2 passes\n",
      "Genome fixed after 0 passes\n"
     ]
    },
    {
     "name": "stderr",
     "output_type": "stream",
     "text": []
    },
    {
     "name": "stdout",
     "output_type": "stream",
     "text": [
      "Genome fully rebuilt\n",
      "Genome fixed after 0 passes\n"
     ]
    },
    {
     "name": "stderr",
     "output_type": "stream",
     "text": []
    },
    {
     "name": "stdout",
     "output_type": "stream",
     "text": [
      "Genome fully rebuilt\n",
      "Genome fixed after 0 passes\n"
     ]
    },
    {
     "name": "stderr",
     "output_type": "stream",
     "text": []
    },
    {
     "name": "stdout",
     "output_type": "stream",
     "text": [
      "Genome fixed after 1 passes\n"
     ]
    },
    {
     "name": "stderr",
     "output_type": "stream",
     "text": []
    },
    {
     "name": "stdout",
     "output_type": "stream",
     "text": [
      "Genome fully rebuilt\n"
     ]
    },
    {
     "name": "stderr",
     "output_type": "stream",
     "text": []
    },
    {
     "name": "stdout",
     "output_type": "stream",
     "text": [
      "Genome fixed after 2 passes\n",
      "Genome fixed after 0 passes\n",
      "Genome fully rebuilt\n"
     ]
    },
    {
     "name": "stderr",
     "output_type": "stream",
     "text": []
    },
    {
     "name": "stdout",
     "output_type": "stream",
     "text": [
      "Genome fixed after 0 passes\n",
      "Genome fully rebuilt\n",
      "Genome fully rebuilt\n",
      "Genome fixed after 0 passes\n",
      "Genome fully rebuilt\n",
      "Genome fixed after 0 passes\n",
      "Genome fixed after 0 passes\n",
      "Genome fully rebuilt\n"
     ]
    },
    {
     "name": "stderr",
     "output_type": "stream",
     "text": []
    },
    {
     "name": "stdout",
     "output_type": "stream",
     "text": [
      "Genome fully rebuilt\n"
     ]
    },
    {
     "name": "stderr",
     "output_type": "stream",
     "text": [
      "\n",
      "Runnig genetic alogrithm: 100%|██████████| 100/100 [00:41<00:00,  3.56 generation/s]"
     ]
    },
    {
     "name": "stdout",
     "output_type": "stream",
     "text": [
      "Genome fixed after 0 passes\n",
      "Genome fixed after 0 passes\n"
     ]
    },
    {
     "name": "stderr",
     "output_type": "stream",
     "text": [
      "Runnig genetic alogrithm: 100%|██████████| 100/100 [00:41<00:00,  2.40 generation/s]\n",
      "Running grid search:   2%|▏         | 4/192 [01:51<1:38:23, 31.40s/ combination]"
     ]
    },
    {
     "name": "stdout",
     "output_type": "stream",
     "text": [
      "Genome fixed after 0 passes\n",
      "Genome fully rebuilt\n",
      "Genome fully rebuilt\n",
      "Genome fully rebuilt\n",
      "Genome fixed after 5 passes\n",
      "Genome fully rebuilt\n",
      "Genome fully rebuilt\n",
      "Genome fixed after 5 passes\n",
      "Genome fixed after 3 passes\n",
      "Genome fixed after 0 passes\n",
      "Genome fully rebuilt\n",
      "Genome fixed after 5 passes\n",
      "Genome fixed after 1 passes\n",
      "Genome fully rebuilt\n",
      "Genome fixed after 7 passes\n",
      "Genome fully rebuilt\n"
     ]
    },
    {
     "name": "stderr",
     "output_type": "stream",
     "text": []
    },
    {
     "name": "stdout",
     "output_type": "stream",
     "text": [
      "Genome fully rebuilt\n",
      "Genome fully rebuilt\n",
      "Genome fully rebuilt\n",
      "Genome fixed after 3 passes\n",
      "Genome fully rebuilt\n",
      "Genome fixed after 0 passes\n",
      "Genome fully rebuilt\n",
      "Genome fixed after 1 passes\n",
      "Genome fixed after 0 passes\n",
      "Genome fixed after 0 passes\n",
      "Genome fixed after 3 passes\n",
      "Genome fixed after 0 passes\n",
      "Genome fixed after 7 passes\n",
      "Genome fixed after 1 passes\n",
      "Genome fully rebuilt\n",
      "Genome fixed after 0 passes\n",
      "Genome fixed after 2 passes\n",
      "Genome fully rebuilt\n",
      "Genome fully rebuilt\n",
      "Genome fixed after 4 passes\n",
      "Genome fixed after 5 passes\n",
      "Genome fixed after 0 passes\n",
      "Genome fixed after 9 passes\n",
      "Genome fully rebuilt\n",
      "Genome fixed after 8 passes\n",
      "Genome fixed after 0 passes\n",
      "Genome fixed after 0 passes\n",
      "Genome fully rebuilt\n",
      "Genome fixed after 0 passes\n",
      "Genome fixed after 0 passes\n",
      "Genome fully rebuilt\n",
      "Genome fixed after 0 passes\n",
      "Genome fully rebuilt\n",
      "Genome fully rebuilt\n",
      "Genome fixed after 1 passes\n",
      "Genome fixed after 0 passes\n",
      "Genome fixed after 4 passes\n",
      "Genome fixed after 1 passes\n",
      "Genome fixed after 0 passes\n",
      "Genome fully rebuilt\n",
      "Genome fixed after 8 passes\n",
      "Genome fully rebuilt\n",
      "Genome fully rebuilt\n",
      "Genome fully rebuilt\n",
      "Genome fixed after 0 passes\n",
      "Genome fully rebuilt\n",
      "Genome fixed after 2 passes\n"
     ]
    },
    {
     "name": "stderr",
     "output_type": "stream",
     "text": []
    },
    {
     "name": "stdout",
     "output_type": "stream",
     "text": [
      "Genome fully rebuilt\n",
      "Genome fixed after 0 passes\n",
      "Genome fully rebuilt\n",
      "Genome fixed after 0 passes\n",
      "Genome fixed after 0 passes\n",
      "Genome fixed after 3 passes\n",
      "Genome fixed after 0 passes\n",
      "Genome fixed after 0 passes\n",
      "Genome fully rebuilt\n",
      "Genome fully rebuilt\n",
      "Genome fixed after 0 passes\n",
      "Genome fixed after 0 passes\n",
      "Genome fixed after 1 passes\n",
      "Genome fixed after 0 passes\n",
      "Genome fixed after 0 passes\n",
      "Genome fixed after 2 passes\n",
      "Genome fixed after 0 passes\n",
      "Genome fully rebuilt\n",
      "Genome fixed after 0 passes\n",
      "Genome fixed after 0 passes\n",
      "Genome fixed after 5 passes\n",
      "Genome fixed after 0 passes\n",
      "Genome fully rebuilt\n",
      "Genome fixed after 6 passes\n",
      "Genome fixed after 4 passes\n",
      "Genome fully rebuilt\n",
      "Genome fixed after 0 passes\n",
      "Genome fully rebuilt\n",
      "Genome fixed after 0 passes\n"
     ]
    },
    {
     "name": "stderr",
     "output_type": "stream",
     "text": []
    },
    {
     "name": "stdout",
     "output_type": "stream",
     "text": [
      "Genome fixed after 7 passes\n",
      "Genome fixed after 0 passes\n",
      "Genome fully rebuilt\n",
      "Genome fully rebuilt\n",
      "Genome fixed after 3 passes\n",
      "Genome fixed after 0 passes\n",
      "Genome fully rebuilt\n",
      "Genome fixed after 0 passes\n",
      "Genome fixed after 0 passes\n",
      "Genome fixed after 0 passes\n",
      "Genome fixed after 0 passes\n",
      "Genome fully rebuilt\n",
      "Genome fully rebuilt\n",
      "Genome fully rebuilt\n",
      "Genome fixed after 0 passes\n",
      "Genome fixed after 0 passes\n",
      "Genome fully rebuilt\n",
      "Genome fixed after 0 passes\n",
      "Genome fully rebuilt\n",
      "Genome fixed after 1 passes\n",
      "Genome fixed after 0 passes\n",
      "Genome fixed after 1 passes\n",
      "Genome fixed after 4 passes\n",
      "Genome fixed after 0 passes\n",
      "Genome fixed after 0 passes\n",
      "Genome fixed after 0 passes\n",
      "Genome fixed after 7 passes\n",
      "Genome fixed after 0 passes\n",
      "Genome fixed after 0 passes\n",
      "Genome fixed after 0 passes\n"
     ]
    },
    {
     "name": "stderr",
     "output_type": "stream",
     "text": []
    },
    {
     "name": "stdout",
     "output_type": "stream",
     "text": [
      "Genome fixed after 2 passes\n",
      "Genome fixed after 0 passes\n",
      "Genome fully rebuilt\n",
      "Genome fixed after 2 passes\n",
      "Genome fixed after 6 passes\n",
      "Genome fixed after 5 passes\n",
      "Genome fixed after 0 passes\n",
      "Genome fixed after 3 passes\n",
      "Genome fixed after 0 passes\n",
      "Genome fully rebuilt\n",
      "Genome fully rebuilt\n",
      "Genome fully rebuilt\n",
      "Genome fully rebuilt\n",
      "Genome fixed after 0 passes\n",
      "Genome fixed after 0 passes\n"
     ]
    },
    {
     "name": "stderr",
     "output_type": "stream",
     "text": []
    },
    {
     "name": "stdout",
     "output_type": "stream",
     "text": [
      "Genome fixed after 0 passes\n",
      "Genome fixed after 2 passes\n",
      "Genome fixed after 0 passes\n",
      "Genome fixed after 0 passes\n",
      "Genome fixed after 0 passes\n",
      "Genome fixed after 0 passes\n",
      "Genome fully rebuilt\n",
      "Genome fixed after 2 passes\n",
      "Genome fixed after 0 passes\n",
      "Genome fixed after 0 passes\n",
      "Genome fixed after 1 passes\n",
      "Genome fully rebuilt\n",
      "Genome fully rebuilt\n",
      "Genome fixed after 0 passes\n",
      "Genome fully rebuilt\n",
      "Genome fixed after 0 passes\n",
      "Genome fixed after 0 passes\n",
      "Genome fully rebuilt\n",
      "Genome fixed after 1 passes\n",
      "Genome fixed after 0 passes\n",
      "Genome fixed after 0 passes\n",
      "Genome fully rebuilt\n"
     ]
    },
    {
     "name": "stderr",
     "output_type": "stream",
     "text": []
    },
    {
     "name": "stdout",
     "output_type": "stream",
     "text": [
      "Genome fixed after 0 passes\n",
      "Genome fully rebuilt\n",
      "Genome fixed after 0 passes\n",
      "Genome fixed after 0 passes\n",
      "Genome fully rebuilt\n",
      "Genome fixed after 0 passes\n",
      "Genome fixed after 2 passes\n",
      "Genome fixed after 0 passes\n",
      "Genome fixed after 0 passes\n",
      "Genome fixed after 0 passes\n",
      "Genome fully rebuilt\n",
      "Genome fixed after 0 passes\n",
      "Genome fixed after 4 passes\n",
      "Genome fixed after 0 passes\n",
      "Genome fully rebuilt\n",
      "Genome fixed after 0 passes\n",
      "Genome fixed after 0 passes\n",
      "Genome fixed after 1 passes\n",
      "Genome fixed after 0 passes\n",
      "Genome fixed after 0 passes\n",
      "Genome fully rebuilt\n",
      "Genome fixed after 1 passes\n",
      "Genome fully rebuilt\n",
      "Genome fully rebuilt\n",
      "Genome fixed after 0 passes\n"
     ]
    },
    {
     "name": "stderr",
     "output_type": "stream",
     "text": []
    },
    {
     "name": "stdout",
     "output_type": "stream",
     "text": [
      "Genome fixed after 0 passes\n",
      "Genome fixed after 0 passes\n",
      "Genome fixed after 0 passes\n",
      "Genome fully rebuilt\n",
      "Genome fixed after 0 passes\n",
      "Genome fully rebuilt\n",
      "Genome fixed after 0 passes\n",
      "Genome fixed after 2 passes\n",
      "Genome fixed after 0 passes\n",
      "Genome fixed after 0 passes\n",
      "Genome fixed after 0 passes\n",
      "Genome fixed after 2 passes\n",
      "Genome fixed after 0 passes\n",
      "Genome fully rebuilt\n",
      "Genome fixed after 0 passes\n",
      "Genome fully rebuilt\n",
      "Genome fixed after 0 passes\n",
      "Genome fixed after 4 passes\n",
      "Genome fixed after 1 passes\n",
      "Genome fixed after 0 passes\n",
      "Genome fixed after 1 passes\n"
     ]
    },
    {
     "name": "stderr",
     "output_type": "stream",
     "text": []
    },
    {
     "name": "stdout",
     "output_type": "stream",
     "text": [
      "Genome fixed after 2 passes\n",
      "Genome fully rebuilt\n",
      "Genome fixed after 0 passes\n",
      "Genome fully rebuilt\n",
      "Genome fixed after 0 passes\n",
      "Genome fixed after 0 passes\n",
      "Genome fully rebuilt\n",
      "Genome fixed after 1 passes\n",
      "Genome fully rebuilt\n",
      "Genome fixed after 2 passes\n",
      "Genome fixed after 2 passes\n",
      "Genome fixed after 0 passes\n",
      "Genome fixed after 0 passes\n",
      "Genome fixed after 5 passes\n",
      "Genome fixed after 1 passes\n"
     ]
    },
    {
     "name": "stderr",
     "output_type": "stream",
     "text": []
    },
    {
     "name": "stdout",
     "output_type": "stream",
     "text": [
      "Genome fixed after 1 passes\n",
      "Genome fixed after 0 passes\n",
      "Genome fully rebuilt\n",
      "Genome fully rebuilt\n",
      "Genome fixed after 0 passes\n",
      "Genome fixed after 6 passes\n",
      "Genome fully rebuilt\n",
      "Genome fixed after 0 passes\n",
      "Genome fully rebuilt\n"
     ]
    },
    {
     "name": "stderr",
     "output_type": "stream",
     "text": []
    },
    {
     "name": "stdout",
     "output_type": "stream",
     "text": [
      "Genome fixed after 0 passes\n",
      "Genome fixed after 0 passes\n",
      "Genome fully rebuilt\n",
      "Genome fully rebuilt\n"
     ]
    },
    {
     "name": "stderr",
     "output_type": "stream",
     "text": []
    },
    {
     "name": "stdout",
     "output_type": "stream",
     "text": [
      "Genome fully rebuilt\n",
      "Genome fully rebuilt\n"
     ]
    },
    {
     "name": "stderr",
     "output_type": "stream",
     "text": []
    },
    {
     "name": "stdout",
     "output_type": "stream",
     "text": [
      "Genome fixed after 0 passes\n"
     ]
    },
    {
     "name": "stderr",
     "output_type": "stream",
     "text": []
    },
    {
     "name": "stdout",
     "output_type": "stream",
     "text": [
      "Genome fixed after 0 passes\n",
      "Genome fixed after 0 passes\n",
      "Genome fixed after 0 passes\n",
      "Genome fixed after 0 passes\n",
      "Genome fixed after 0 passes\n",
      "Genome fixed after 0 passes\n",
      "Genome fixed after 0 passes\n",
      "Genome fixed after 0 passes\n",
      "Genome fixed after 0 passes\n",
      "Genome fixed after 4 passes\n",
      "Genome fixed after 0 passes\n",
      "Genome fixed after 0 passes\n",
      "Genome fixed after 0 passes\n",
      "Genome fixed after 0 passes\n",
      "Genome fixed after 0 passes\n",
      "Genome fully rebuilt\n",
      "Genome fully rebuilt\n",
      "Genome fixed after 9 passes\n",
      "Genome fixed after 4 passes\n"
     ]
    },
    {
     "name": "stderr",
     "output_type": "stream",
     "text": []
    },
    {
     "name": "stdout",
     "output_type": "stream",
     "text": [
      "Genome fixed after 0 passes\n",
      "Genome fully rebuilt\n",
      "Genome fixed after 0 passes\n"
     ]
    },
    {
     "name": "stderr",
     "output_type": "stream",
     "text": []
    },
    {
     "name": "stdout",
     "output_type": "stream",
     "text": [
      "Genome fixed after 1 passes\n",
      "Genome fixed after 3 passes\n",
      "Genome fully rebuilt\n"
     ]
    },
    {
     "name": "stderr",
     "output_type": "stream",
     "text": []
    },
    {
     "name": "stdout",
     "output_type": "stream",
     "text": [
      "Genome fixed after 0 passes\n"
     ]
    },
    {
     "name": "stderr",
     "output_type": "stream",
     "text": []
    },
    {
     "name": "stdout",
     "output_type": "stream",
     "text": [
      "Genome fixed after 1 passes\n",
      "Genome fully rebuilt\n",
      "Genome fully rebuilt\n",
      "Genome fixed after 7 passes\n"
     ]
    },
    {
     "name": "stderr",
     "output_type": "stream",
     "text": []
    },
    {
     "name": "stdout",
     "output_type": "stream",
     "text": [
      "Genome fixed after 0 passes\n",
      "Genome fully rebuilt\n",
      "Genome fixed after 4 passes\n",
      "Genome fixed after 0 passes\n",
      "Genome fixed after 0 passes\n"
     ]
    },
    {
     "name": "stderr",
     "output_type": "stream",
     "text": []
    },
    {
     "name": "stdout",
     "output_type": "stream",
     "text": [
      "Genome fixed after 2 passes\n"
     ]
    },
    {
     "name": "stderr",
     "output_type": "stream",
     "text": []
    },
    {
     "name": "stdout",
     "output_type": "stream",
     "text": [
      "Genome fixed after 0 passes\n",
      "Genome fixed after 6 passes\n",
      "Genome fixed after 2 passes\n",
      "Genome fixed after 0 passes\n",
      "Genome fixed after 2 passes\n",
      "Genome fixed after 1 passes\n"
     ]
    },
    {
     "name": "stderr",
     "output_type": "stream",
     "text": []
    },
    {
     "name": "stdout",
     "output_type": "stream",
     "text": [
      "Genome fixed after 7 passes\n",
      "Genome fixed after 0 passes\n",
      "Genome fully rebuilt\n",
      "Genome fixed after 0 passes\n",
      "Genome fully rebuilt\n"
     ]
    },
    {
     "name": "stderr",
     "output_type": "stream",
     "text": []
    },
    {
     "name": "stdout",
     "output_type": "stream",
     "text": [
      "Genome fixed after 0 passes\n",
      "Genome fully rebuilt\n",
      "Genome fully rebuilt\n",
      "Genome fixed after 4 passes\n"
     ]
    },
    {
     "name": "stderr",
     "output_type": "stream",
     "text": []
    },
    {
     "name": "stdout",
     "output_type": "stream",
     "text": [
      "Genome fully rebuilt\n",
      "Genome fixed after 0 passes\n",
      "Genome fixed after 7 passes\n",
      "Genome fixed after 0 passes\n",
      "Genome fully rebuilt\n"
     ]
    },
    {
     "name": "stderr",
     "output_type": "stream",
     "text": []
    },
    {
     "name": "stdout",
     "output_type": "stream",
     "text": [
      "Genome fixed after 0 passes\n",
      "Genome fixed after 0 passes\n"
     ]
    },
    {
     "name": "stderr",
     "output_type": "stream",
     "text": []
    },
    {
     "name": "stdout",
     "output_type": "stream",
     "text": [
      "Genome fixed after 0 passes\n",
      "Genome fixed after 1 passes\n",
      "Genome fixed after 1 passes\n",
      "Genome fixed after 0 passes\n",
      "Genome fixed after 0 passes\n"
     ]
    },
    {
     "name": "stderr",
     "output_type": "stream",
     "text": []
    },
    {
     "name": "stdout",
     "output_type": "stream",
     "text": [
      "Genome fixed after 0 passes\n",
      "Genome fully rebuilt\n",
      "Genome fully rebuilt\n"
     ]
    },
    {
     "name": "stderr",
     "output_type": "stream",
     "text": []
    },
    {
     "name": "stdout",
     "output_type": "stream",
     "text": [
      "Genome fixed after 0 passes\n",
      "Genome fixed after 0 passes\n",
      "Genome fixed after 6 passes\n"
     ]
    },
    {
     "name": "stderr",
     "output_type": "stream",
     "text": []
    },
    {
     "name": "stdout",
     "output_type": "stream",
     "text": [
      "Genome fixed after 0 passes\n",
      "Genome fully rebuilt\n"
     ]
    },
    {
     "name": "stderr",
     "output_type": "stream",
     "text": []
    },
    {
     "name": "stdout",
     "output_type": "stream",
     "text": [
      "Genome fixed after 0 passes\n",
      "Genome fully rebuilt\n"
     ]
    },
    {
     "name": "stderr",
     "output_type": "stream",
     "text": []
    },
    {
     "name": "stdout",
     "output_type": "stream",
     "text": [
      "Genome fixed after 6 passes\n",
      "Genome fixed after 5 passes\n",
      "Genome fixed after 3 passes\n",
      "Genome fixed after 0 passes\n",
      "Genome fixed after 0 passes\n"
     ]
    },
    {
     "name": "stderr",
     "output_type": "stream",
     "text": []
    },
    {
     "name": "stdout",
     "output_type": "stream",
     "text": [
      "Genome fixed after 0 passes\n",
      "Genome fixed after 3 passes\n"
     ]
    },
    {
     "name": "stderr",
     "output_type": "stream",
     "text": []
    },
    {
     "name": "stdout",
     "output_type": "stream",
     "text": [
      "Genome fixed after 9 passes\n",
      "Genome fixed after 0 passes\n",
      "Genome fully rebuilt\n",
      "Genome fixed after 6 passes\n"
     ]
    },
    {
     "name": "stderr",
     "output_type": "stream",
     "text": []
    },
    {
     "name": "stdout",
     "output_type": "stream",
     "text": [
      "Genome fixed after 0 passes\n",
      "Genome fixed after 7 passes\n",
      "Genome fixed after 0 passes\n"
     ]
    },
    {
     "name": "stderr",
     "output_type": "stream",
     "text": []
    },
    {
     "name": "stdout",
     "output_type": "stream",
     "text": [
      "Genome fully rebuilt\n",
      "Genome fixed after 0 passes\n"
     ]
    },
    {
     "name": "stderr",
     "output_type": "stream",
     "text": []
    },
    {
     "name": "stdout",
     "output_type": "stream",
     "text": [
      "Genome fully rebuilt\n",
      "Genome fixed after 5 passes\n",
      "Genome fixed after 0 passes\n",
      "Genome fixed after 0 passes\n",
      "Genome fixed after 3 passes\n"
     ]
    },
    {
     "name": "stderr",
     "output_type": "stream",
     "text": []
    },
    {
     "name": "stdout",
     "output_type": "stream",
     "text": [
      "Genome fully rebuilt\n",
      "Genome fixed after 8 passes\n",
      "Genome fully rebuilt\n",
      "Genome fixed after 0 passes\n"
     ]
    },
    {
     "name": "stderr",
     "output_type": "stream",
     "text": []
    },
    {
     "name": "stdout",
     "output_type": "stream",
     "text": [
      "Genome fixed after 5 passes\n"
     ]
    },
    {
     "name": "stderr",
     "output_type": "stream",
     "text": []
    },
    {
     "name": "stdout",
     "output_type": "stream",
     "text": [
      "Genome fixed after 2 passes\n",
      "Genome fixed after 5 passes\n",
      "Genome fully rebuilt\n",
      "Genome fixed after 4 passes\n",
      "Genome fully rebuilt\n"
     ]
    },
    {
     "name": "stderr",
     "output_type": "stream",
     "text": []
    },
    {
     "name": "stdout",
     "output_type": "stream",
     "text": [
      "Genome fixed after 1 passes\n",
      "Genome fixed after 0 passes\n",
      "Genome fully rebuilt\n",
      "Genome fixed after 0 passes\n",
      "Genome fixed after 0 passes\n",
      "Genome fixed after 9 passes\n"
     ]
    },
    {
     "name": "stderr",
     "output_type": "stream",
     "text": []
    },
    {
     "name": "stdout",
     "output_type": "stream",
     "text": [
      "Genome fixed after 2 passes\n"
     ]
    },
    {
     "name": "stderr",
     "output_type": "stream",
     "text": []
    },
    {
     "name": "stdout",
     "output_type": "stream",
     "text": [
      "Genome fixed after 0 passes\n",
      "Genome fixed after 4 passes\n",
      "Genome fully rebuilt\n",
      "Genome fully rebuilt\n",
      "Genome fully rebuilt\n",
      "Genome fixed after 0 passes\n"
     ]
    },
    {
     "name": "stderr",
     "output_type": "stream",
     "text": []
    },
    {
     "name": "stdout",
     "output_type": "stream",
     "text": [
      "Genome fully rebuilt\n",
      "Genome fixed after 9 passes\n",
      "Genome fixed after 5 passes\n"
     ]
    },
    {
     "name": "stderr",
     "output_type": "stream",
     "text": []
    },
    {
     "name": "stdout",
     "output_type": "stream",
     "text": [
      "Genome fixed after 4 passes\n",
      "Genome fully rebuilt\n",
      "Genome fixed after 0 passes\n",
      "Genome fixed after 1 passes\n",
      "Genome fixed after 1 passes\n"
     ]
    },
    {
     "name": "stderr",
     "output_type": "stream",
     "text": []
    },
    {
     "name": "stdout",
     "output_type": "stream",
     "text": [
      "Genome fixed after 1 passes\n",
      "Genome fully rebuilt\n",
      "Genome fixed after 0 passes\n",
      "Genome fully rebuilt\n",
      "Genome fixed after 6 passes\n"
     ]
    },
    {
     "name": "stderr",
     "output_type": "stream",
     "text": []
    },
    {
     "name": "stdout",
     "output_type": "stream",
     "text": [
      "Genome fully rebuilt\n",
      "Genome fully rebuilt\n",
      "Genome fixed after 0 passes\n",
      "Genome fully rebuilt\n",
      "Genome fully rebuilt\n"
     ]
    },
    {
     "name": "stderr",
     "output_type": "stream",
     "text": []
    },
    {
     "name": "stdout",
     "output_type": "stream",
     "text": [
      "Genome fixed after 0 passes\n",
      "Genome fixed after 0 passes\n",
      "Genome fixed after 0 passes\n",
      "Genome fully rebuilt\n",
      "Genome fixed after 1 passes\n",
      "Genome fully rebuilt\n",
      "Genome fixed after 6 passes\n",
      "Genome fixed after 3 passes\n"
     ]
    },
    {
     "name": "stderr",
     "output_type": "stream",
     "text": []
    },
    {
     "name": "stdout",
     "output_type": "stream",
     "text": [
      "Genome fixed after 0 passes\n",
      "Genome fixed after 0 passes\n",
      "Genome fixed after 0 passes\n",
      "Genome fixed after 0 passes\n",
      "Genome fixed after 0 passes\n",
      "Genome fixed after 0 passes\n",
      "Genome fixed after 0 passes\n",
      "Genome fixed after 3 passes\n",
      "Genome fully rebuilt\n",
      "Genome fixed after 0 passes\n",
      "Genome fixed after 0 passes\n",
      "Genome fixed after 0 passes\n",
      "Genome fully rebuilt\n",
      "Genome fixed after 0 passes\n",
      "Genome fully rebuilt\n",
      "Genome fixed after 6 passes\n",
      "Genome fully rebuilt\n"
     ]
    },
    {
     "name": "stderr",
     "output_type": "stream",
     "text": []
    },
    {
     "name": "stdout",
     "output_type": "stream",
     "text": [
      "Genome fixed after 0 passes\n",
      "Genome fully rebuilt\n"
     ]
    },
    {
     "name": "stderr",
     "output_type": "stream",
     "text": []
    },
    {
     "name": "stdout",
     "output_type": "stream",
     "text": [
      "Genome fixed after 0 passes\n",
      "Genome fixed after 0 passes\n",
      "Genome fixed after 0 passes\n",
      "Genome fixed after 6 passes\n",
      "Genome fixed after 0 passes\n",
      "Genome fixed after 0 passes\n",
      "Genome fully rebuilt\n",
      "Genome fully rebuilt\n"
     ]
    },
    {
     "name": "stderr",
     "output_type": "stream",
     "text": []
    },
    {
     "name": "stdout",
     "output_type": "stream",
     "text": [
      "Genome fixed after 0 passes\n",
      "Genome fully rebuilt\n",
      "Genome fully rebuilt\n"
     ]
    },
    {
     "name": "stderr",
     "output_type": "stream",
     "text": []
    },
    {
     "name": "stdout",
     "output_type": "stream",
     "text": [
      "Genome fully rebuilt\n"
     ]
    },
    {
     "name": "stderr",
     "output_type": "stream",
     "text": []
    },
    {
     "name": "stdout",
     "output_type": "stream",
     "text": [
      "Genome fixed after 3 passes\n",
      "Genome fixed after 0 passes\n",
      "Genome fully rebuilt\n"
     ]
    },
    {
     "name": "stderr",
     "output_type": "stream",
     "text": []
    },
    {
     "name": "stdout",
     "output_type": "stream",
     "text": [
      "Genome fully rebuilt\n",
      "Genome fixed after 1 passes\n",
      "Genome fixed after 0 passes\n",
      "Genome fixed after 0 passes\n",
      "Genome fixed after 4 passes\n"
     ]
    },
    {
     "name": "stderr",
     "output_type": "stream",
     "text": []
    },
    {
     "name": "stdout",
     "output_type": "stream",
     "text": [
      "Genome fully rebuilt\n",
      "Genome fully rebuilt\n",
      "Genome fixed after 2 passes\n"
     ]
    },
    {
     "name": "stderr",
     "output_type": "stream",
     "text": []
    },
    {
     "name": "stdout",
     "output_type": "stream",
     "text": [
      "Genome fixed after 0 passes\n",
      "Genome fixed after 3 passes\n",
      "Genome fully rebuilt\n"
     ]
    },
    {
     "name": "stderr",
     "output_type": "stream",
     "text": []
    },
    {
     "name": "stdout",
     "output_type": "stream",
     "text": [
      "Genome fixed after 0 passes\n",
      "Genome fully rebuilt\n",
      "Genome fixed after 2 passes\n",
      "Genome fixed after 0 passes\n",
      "Genome fully rebuilt\n"
     ]
    },
    {
     "name": "stderr",
     "output_type": "stream",
     "text": []
    },
    {
     "name": "stdout",
     "output_type": "stream",
     "text": [
      "Genome fixed after 6 passes\n",
      "Genome fixed after 0 passes\n",
      "Genome fixed after 0 passes\n",
      "Genome fully rebuilt\n"
     ]
    },
    {
     "name": "stderr",
     "output_type": "stream",
     "text": []
    },
    {
     "name": "stdout",
     "output_type": "stream",
     "text": [
      "Genome fully rebuilt\n",
      "Genome fully rebuilt\n"
     ]
    },
    {
     "name": "stderr",
     "output_type": "stream",
     "text": []
    },
    {
     "name": "stdout",
     "output_type": "stream",
     "text": [
      "Genome fixed after 6 passes\n",
      "Genome fully rebuilt\n",
      "Genome fixed after 0 passes\n",
      "Genome fixed after 0 passes\n",
      "Genome fixed after 0 passes\n",
      "Genome fully rebuilt\n",
      "Genome fixed after 0 passes\n",
      "Genome fixed after 1 passes\n",
      "Genome fully rebuilt\n"
     ]
    },
    {
     "name": "stderr",
     "output_type": "stream",
     "text": []
    },
    {
     "name": "stdout",
     "output_type": "stream",
     "text": [
      "Genome fixed after 0 passes\n",
      "Genome fully rebuilt\n",
      "Genome fully rebuilt\n",
      "Genome fully rebuilt\n",
      "Genome fixed after 1 passes\n",
      "Genome fixed after 0 passes\n"
     ]
    },
    {
     "name": "stderr",
     "output_type": "stream",
     "text": []
    },
    {
     "name": "stdout",
     "output_type": "stream",
     "text": [
      "Genome fixed after 0 passes\n",
      "Genome fixed after 1 passes\n",
      "Genome fixed after 0 passes\n",
      "Genome fixed after 0 passes\n",
      "Genome fully rebuilt\n",
      "Genome fully rebuilt\n",
      "Genome fixed after 0 passes\n",
      "Genome fully rebuilt\n"
     ]
    },
    {
     "name": "stderr",
     "output_type": "stream",
     "text": []
    },
    {
     "name": "stdout",
     "output_type": "stream",
     "text": [
      "Genome fixed after 0 passes\n",
      "Genome fixed after 0 passes\n",
      "Genome fixed after 0 passes\n",
      "Genome fixed after 6 passes\n",
      "Genome fixed after 7 passes\n",
      "Genome fixed after 0 passes\n",
      "Genome fixed after 0 passes\n"
     ]
    },
    {
     "name": "stderr",
     "output_type": "stream",
     "text": []
    },
    {
     "name": "stdout",
     "output_type": "stream",
     "text": [
      "Genome fully rebuilt\n",
      "Genome fixed after 8 passes\n",
      "Genome fixed after 1 passes\n"
     ]
    },
    {
     "name": "stderr",
     "output_type": "stream",
     "text": []
    },
    {
     "name": "stdout",
     "output_type": "stream",
     "text": [
      "Genome fixed after 5 passes\n",
      "Genome fixed after 0 passes\n",
      "Genome fixed after 0 passes\n",
      "Genome fixed after 0 passes\n",
      "Genome fixed after 0 passes\n",
      "Genome fixed after 0 passes\n",
      "Genome fixed after 4 passes\n"
     ]
    },
    {
     "name": "stderr",
     "output_type": "stream",
     "text": []
    },
    {
     "name": "stdout",
     "output_type": "stream",
     "text": [
      "Genome fixed after 0 passes\n",
      "Genome fixed after 0 passes\n",
      "Genome fixed after 0 passes\n"
     ]
    },
    {
     "name": "stderr",
     "output_type": "stream",
     "text": []
    },
    {
     "name": "stdout",
     "output_type": "stream",
     "text": [
      "Genome fixed after 0 passes\n",
      "Genome fixed after 0 passes\n",
      "Genome fixed after 7 passes\n",
      "Genome fixed after 5 passes\n",
      "Genome fully rebuilt\n",
      "Genome fixed after 7 passes\n",
      "Genome fixed after 0 passes\n",
      "Genome fixed after 1 passes\n"
     ]
    },
    {
     "name": "stderr",
     "output_type": "stream",
     "text": []
    },
    {
     "name": "stdout",
     "output_type": "stream",
     "text": [
      "Genome fixed after 3 passes\n",
      "Genome fixed after 2 passes\n",
      "Genome fixed after 1 passes\n",
      "Genome fully rebuilt\n",
      "Genome fully rebuilt\n",
      "Genome fixed after 2 passes\n",
      "Genome fixed after 3 passes\n",
      "Genome fixed after 0 passes\n",
      "Genome fixed after 0 passes\n",
      "Genome fixed after 5 passes\n"
     ]
    },
    {
     "name": "stderr",
     "output_type": "stream",
     "text": []
    },
    {
     "name": "stdout",
     "output_type": "stream",
     "text": [
      "Genome fully rebuilt\n",
      "Genome fully rebuilt\n",
      "Genome fixed after 0 passes\n",
      "Genome fully rebuilt\n"
     ]
    },
    {
     "name": "stderr",
     "output_type": "stream",
     "text": []
    },
    {
     "name": "stdout",
     "output_type": "stream",
     "text": [
      "Genome fixed after 5 passes\n",
      "Genome fully rebuilt\n",
      "Genome fixed after 0 passes\n",
      "Genome fixed after 0 passes\n",
      "Genome fixed after 0 passes\n",
      "Genome fixed after 0 passes\n",
      "Genome fully rebuilt\n",
      "Genome fully rebuilt\n",
      "Genome fixed after 0 passes\n",
      "Genome fixed after 0 passes\n",
      "Genome fully rebuilt\n",
      "Genome fully rebuilt\n",
      "Genome fully rebuilt\n"
     ]
    },
    {
     "name": "stderr",
     "output_type": "stream",
     "text": []
    },
    {
     "name": "stdout",
     "output_type": "stream",
     "text": [
      "Genome fixed after 0 passes\n",
      "Genome fully rebuilt\n",
      "Genome fully rebuilt\n",
      "Genome fully rebuilt\n",
      "Genome fully rebuilt\n"
     ]
    },
    {
     "name": "stderr",
     "output_type": "stream",
     "text": []
    },
    {
     "name": "stdout",
     "output_type": "stream",
     "text": [
      "Genome fully rebuilt\n",
      "Genome fixed after 4 passes\n",
      "Genome fully rebuilt\n",
      "Genome fixed after 0 passes\n"
     ]
    },
    {
     "name": "stderr",
     "output_type": "stream",
     "text": []
    },
    {
     "name": "stdout",
     "output_type": "stream",
     "text": [
      "Genome fixed after 6 passes\n",
      "Genome fixed after 0 passes\n",
      "Genome fixed after 0 passes\n",
      "Genome fixed after 3 passes\n",
      "Genome fully rebuilt\n",
      "Genome fixed after 2 passes\n",
      "Genome fixed after 6 passes\n"
     ]
    },
    {
     "name": "stderr",
     "output_type": "stream",
     "text": []
    },
    {
     "name": "stdout",
     "output_type": "stream",
     "text": [
      "Genome fully rebuilt\n",
      "Genome fully rebuilt\n",
      "Genome fixed after 0 passes\n",
      "Genome fully rebuilt\n"
     ]
    },
    {
     "name": "stderr",
     "output_type": "stream",
     "text": []
    },
    {
     "name": "stdout",
     "output_type": "stream",
     "text": [
      "Genome fixed after 1 passes\n",
      "Genome fully rebuilt\n",
      "Genome fixed after 0 passes\n",
      "Genome fixed after 2 passes\n"
     ]
    },
    {
     "name": "stderr",
     "output_type": "stream",
     "text": []
    },
    {
     "name": "stdout",
     "output_type": "stream",
     "text": [
      "Genome fixed after 0 passes\n",
      "Genome fully rebuilt\n",
      "Genome fully rebuilt\n",
      "Genome fixed after 6 passes\n",
      "Genome fully rebuilt\n",
      "Genome fixed after 0 passes\n"
     ]
    },
    {
     "name": "stderr",
     "output_type": "stream",
     "text": []
    },
    {
     "name": "stdout",
     "output_type": "stream",
     "text": [
      "Genome fixed after 0 passes\n",
      "Genome fully rebuilt\n",
      "Genome fixed after 0 passes\n",
      "Genome fully rebuilt\n",
      "Genome fixed after 5 passes\n",
      "Genome fully rebuilt\n",
      "Genome fixed after 1 passes\n",
      "Genome fixed after 3 passes\n"
     ]
    },
    {
     "name": "stderr",
     "output_type": "stream",
     "text": []
    },
    {
     "name": "stdout",
     "output_type": "stream",
     "text": [
      "Genome fixed after 0 passes\n",
      "Genome fixed after 0 passes\n",
      "Genome fully rebuilt\n",
      "Genome fully rebuilt\n"
     ]
    },
    {
     "name": "stderr",
     "output_type": "stream",
     "text": []
    },
    {
     "name": "stdout",
     "output_type": "stream",
     "text": [
      "Genome fixed after 0 passes\n",
      "Genome fixed after 1 passes\n",
      "Genome fixed after 8 passes\n",
      "Genome fixed after 0 passes\n"
     ]
    },
    {
     "name": "stderr",
     "output_type": "stream",
     "text": []
    },
    {
     "name": "stdout",
     "output_type": "stream",
     "text": [
      "Genome fixed after 0 passes\n",
      "Genome fixed after 0 passes\n",
      "Genome fully rebuilt\n",
      "Genome fixed after 0 passes\n",
      "Genome fixed after 0 passes\n",
      "Genome fully rebuilt\n"
     ]
    },
    {
     "name": "stderr",
     "output_type": "stream",
     "text": []
    },
    {
     "name": "stdout",
     "output_type": "stream",
     "text": [
      "Genome fully rebuilt\n",
      "Genome fixed after 1 passes\n",
      "Genome fixed after 2 passes\n",
      "Genome fixed after 1 passes\n"
     ]
    },
    {
     "name": "stderr",
     "output_type": "stream",
     "text": []
    },
    {
     "name": "stdout",
     "output_type": "stream",
     "text": [
      "Genome fixed after 0 passes\n",
      "Genome fully rebuilt\n",
      "Genome fixed after 0 passes\n",
      "Genome fully rebuilt\n",
      "Genome fixed after 0 passes\n",
      "Genome fixed after 3 passes\n",
      "Genome fixed after 0 passes\n"
     ]
    },
    {
     "name": "stderr",
     "output_type": "stream",
     "text": []
    },
    {
     "name": "stdout",
     "output_type": "stream",
     "text": [
      "Genome fixed after 2 passes\n",
      "Genome fixed after 9 passes\n",
      "Genome fully rebuilt\n",
      "Genome fixed after 0 passes\n",
      "Genome fixed after 0 passes\n",
      "Genome fully rebuilt\n",
      "Genome fixed after 0 passes\n",
      "Genome fixed after 2 passes\n"
     ]
    },
    {
     "name": "stderr",
     "output_type": "stream",
     "text": []
    },
    {
     "name": "stdout",
     "output_type": "stream",
     "text": [
      "Genome fixed after 6 passes\n",
      "Genome fixed after 4 passes\n",
      "Genome fully rebuilt\n",
      "Genome fixed after 5 passes\n",
      "Genome fully rebuilt\n",
      "Genome fixed after 0 passes\n",
      "Genome fully rebuilt\n",
      "Genome fixed after 2 passes\n",
      "Genome fixed after 1 passes\n",
      "Genome fixed after 2 passes\n",
      "Genome fixed after 0 passes\n",
      "Genome fixed after 9 passes\n",
      "Genome fully rebuilt\n",
      "Genome fixed after 1 passes\n",
      "Genome fully rebuilt\n"
     ]
    },
    {
     "name": "stderr",
     "output_type": "stream",
     "text": []
    },
    {
     "name": "stdout",
     "output_type": "stream",
     "text": [
      "Genome fixed after 0 passes\n",
      "Genome fixed after 3 passes\n",
      "Genome fixed after 3 passes\n",
      "Genome fixed after 0 passes\n",
      "Genome fixed after 0 passes\n"
     ]
    },
    {
     "name": "stderr",
     "output_type": "stream",
     "text": []
    },
    {
     "name": "stdout",
     "output_type": "stream",
     "text": [
      "Genome fixed after 0 passes\n",
      "Genome fixed after 0 passes\n",
      "Genome fixed after 0 passes\n",
      "Genome fixed after 3 passes\n",
      "Genome fixed after 0 passes\n"
     ]
    },
    {
     "name": "stderr",
     "output_type": "stream",
     "text": [
      "Runnig genetic alogrithm: 100%|██████████| 100/100 [01:17<00:00,  1.30 generation/s]\n",
      "Running grid search:   3%|▎         | 5/192 [03:09<2:30:18, 48.23s/ combination]"
     ]
    },
    {
     "name": "stdout",
     "output_type": "stream",
     "text": [
      "Genome fixed after 5 passes\n",
      "Genome fully rebuilt\n",
      "Genome fixed after 2 passes\n",
      "Genome fixed after 3 passes\n",
      "Genome fixed after 5 passes\n",
      "Genome fixed after 3 passes\n",
      "Genome fixed after 7 passes\n",
      "Genome fixed after 8 passes\n",
      "Genome fixed after 3 passes\n",
      "Genome fully rebuilt\n",
      "Genome fully rebuilt\n",
      "Genome fully rebuilt\n",
      "Genome fixed after 4 passes\n",
      "Genome fixed after 3 passes\n",
      "Genome fixed after 1 passes\n",
      "Genome fixed after 1 passes\n"
     ]
    },
    {
     "name": "stderr",
     "output_type": "stream",
     "text": []
    },
    {
     "name": "stdout",
     "output_type": "stream",
     "text": [
      "Genome fully rebuilt\n",
      "Genome fixed after 9 passes\n",
      "Genome fixed after 1 passes\n",
      "Genome fully rebuilt\n",
      "Genome fully rebuilt\n",
      "Genome fully rebuilt\n",
      "Genome fixed after 0 passes\n",
      "Genome fixed after 2 passes\n",
      "Genome fixed after 9 passes\n",
      "Genome fixed after 0 passes\n",
      "Genome fixed after 5 passes\n",
      "Genome fixed after 0 passes\n",
      "Genome fixed after 0 passes\n",
      "Genome fixed after 0 passes\n",
      "Genome fully rebuilt\n",
      "Genome fully rebuilt\n",
      "Genome fixed after 5 passes\n",
      "Genome fully rebuilt\n",
      "Genome fully rebuilt\n",
      "Genome fully rebuilt\n",
      "Genome fully rebuilt\n",
      "Genome fully rebuilt\n",
      "Genome fixed after 1 passes\n",
      "Genome fixed after 0 passes\n",
      "Genome fully rebuilt\n",
      "Genome fixed after 2 passes\n",
      "Genome fixed after 1 passes\n",
      "Genome fully rebuilt\n",
      "Genome fixed after 0 passes\n",
      "Genome fixed after 0 passes\n",
      "Genome fully rebuilt\n",
      "Genome fixed after 0 passes\n",
      "Genome fixed after 0 passes\n",
      "Genome fixed after 0 passes\n",
      "Genome fixed after 0 passes\n",
      "Genome fully rebuilt\n",
      "Genome fully rebuilt\n",
      "Genome fixed after 3 passes\n",
      "Genome fully rebuilt\n"
     ]
    },
    {
     "name": "stderr",
     "output_type": "stream",
     "text": []
    },
    {
     "name": "stdout",
     "output_type": "stream",
     "text": [
      "Genome fully rebuilt\n",
      "Genome fixed after 6 passes\n",
      "Genome fixed after 0 passes\n",
      "Genome fixed after 0 passes\n",
      "Genome fully rebuilt\n",
      "Genome fully rebuilt\n",
      "Genome fixed after 0 passes\n",
      "Genome fully rebuilt\n",
      "Genome fully rebuilt\n",
      "Genome fully rebuilt\n",
      "Genome fixed after 9 passes\n",
      "Genome fixed after 2 passes\n",
      "Genome fully rebuilt\n",
      "Genome fixed after 0 passes\n",
      "Genome fixed after 0 passes\n",
      "Genome fully rebuilt\n",
      "Genome fixed after 4 passes\n",
      "Genome fixed after 3 passes\n",
      "Genome fixed after 1 passes\n",
      "Genome fixed after 0 passes\n",
      "Genome fixed after 0 passes\n",
      "Genome fixed after 0 passes\n",
      "Genome fixed after 6 passes\n",
      "Genome fully rebuilt\n",
      "Genome fixed after 0 passes\n",
      "Genome fixed after 0 passes\n",
      "Genome fixed after 7 passes\n",
      "Genome fixed after 8 passes\n",
      "Genome fixed after 0 passes\n",
      "Genome fixed after 8 passes\n",
      "Genome fixed after 8 passes\n",
      "Genome fixed after 3 passes\n",
      "Genome fixed after 1 passes\n",
      "Genome fixed after 0 passes\n",
      "Genome fixed after 0 passes\n",
      "Genome fixed after 3 passes\n",
      "Genome fixed after 1 passes\n"
     ]
    },
    {
     "name": "stderr",
     "output_type": "stream",
     "text": []
    },
    {
     "name": "stdout",
     "output_type": "stream",
     "text": [
      "Genome fully rebuilt\n",
      "Genome fully rebuilt\n",
      "Genome fixed after 0 passes\n",
      "Genome fixed after 2 passes\n",
      "Genome fixed after 0 passes\n",
      "Genome fixed after 4 passes\n",
      "Genome fully rebuilt\n",
      "Genome fully rebuilt\n",
      "Genome fixed after 0 passes\n",
      "Genome fixed after 0 passes\n",
      "Genome fully rebuilt\n",
      "Genome fully rebuilt\n",
      "Genome fixed after 7 passes\n",
      "Genome fixed after 0 passes\n",
      "Genome fully rebuilt\n",
      "Genome fixed after 0 passes\n",
      "Genome fully rebuilt\n",
      "Genome fixed after 2 passes\n",
      "Genome fully rebuilt\n",
      "Genome fully rebuilt\n",
      "Genome fixed after 0 passes\n",
      "Genome fixed after 2 passes\n",
      "Genome fully rebuilt\n",
      "Genome fixed after 2 passes\n",
      "Genome fully rebuilt\n",
      "Genome fixed after 0 passes\n",
      "Genome fully rebuilt\n",
      "Genome fixed after 0 passes\n"
     ]
    },
    {
     "name": "stderr",
     "output_type": "stream",
     "text": []
    },
    {
     "name": "stdout",
     "output_type": "stream",
     "text": [
      "Genome fully rebuilt\n",
      "Genome fixed after 4 passes\n",
      "Genome fully rebuilt\n",
      "Genome fully rebuilt\n",
      "Genome fully rebuilt\n",
      "Genome fixed after 2 passes\n",
      "Genome fully rebuilt\n",
      "Genome fixed after 3 passes\n",
      "Genome fully rebuilt\n",
      "Genome fixed after 3 passes\n",
      "Genome fixed after 0 passes\n",
      "Genome fixed after 0 passes\n",
      "Genome fixed after 2 passes\n",
      "Genome fully rebuilt\n",
      "Genome fully rebuilt\n",
      "Genome fixed after 2 passes\n",
      "Genome fixed after 3 passes\n",
      "Genome fixed after 0 passes\n",
      "Genome fully rebuilt\n",
      "Genome fixed after 0 passes\n",
      "Genome fixed after 0 passes\n",
      "Genome fully rebuilt\n",
      "Genome fixed after 8 passes\n",
      "Genome fully rebuilt\n",
      "Genome fully rebuilt\n",
      "Genome fixed after 0 passes\n",
      "Genome fixed after 0 passes\n",
      "Genome fixed after 7 passes\n",
      "Genome fully rebuilt\n",
      "Genome fixed after 9 passes\n",
      "Genome fully rebuilt\n"
     ]
    },
    {
     "name": "stderr",
     "output_type": "stream",
     "text": []
    },
    {
     "name": "stdout",
     "output_type": "stream",
     "text": [
      "Genome fully rebuilt\n",
      "Genome fixed after 2 passes\n",
      "Genome fixed after 9 passes\n",
      "Genome fully rebuilt\n",
      "Genome fixed after 1 passes\n",
      "Genome fixed after 0 passes\n",
      "Genome fully rebuilt\n",
      "Genome fully rebuilt\n",
      "Genome fixed after 0 passes\n",
      "Genome fully rebuilt\n",
      "Genome fixed after 0 passes\n",
      "Genome fixed after 0 passes\n",
      "Genome fixed after 7 passes\n",
      "Genome fixed after 0 passes\n",
      "Genome fixed after 1 passes\n",
      "Genome fixed after 2 passes\n",
      "Genome fully rebuilt\n",
      "Genome fully rebuilt\n",
      "Genome fixed after 0 passes\n",
      "Genome fully rebuilt\n",
      "Genome fully rebuilt\n",
      "Genome fully rebuilt\n",
      "Genome fixed after 1 passes\n",
      "Genome fully rebuilt\n",
      "Genome fully rebuilt\n",
      "Genome fixed after 0 passes\n",
      "Genome fixed after 3 passes\n",
      "Genome fixed after 0 passes\n",
      "Genome fixed after 3 passes\n",
      "Genome fully rebuilt\n",
      "Genome fully rebuilt\n",
      "Genome fixed after 5 passes\n"
     ]
    },
    {
     "name": "stderr",
     "output_type": "stream",
     "text": []
    },
    {
     "name": "stdout",
     "output_type": "stream",
     "text": [
      "Genome fully rebuilt\n",
      "Genome fully rebuilt\n",
      "Genome fixed after 6 passes\n",
      "Genome fully rebuilt\n",
      "Genome fixed after 0 passes\n",
      "Genome fully rebuilt\n",
      "Genome fixed after 0 passes\n",
      "Genome fixed after 0 passes\n",
      "Genome fixed after 0 passes\n",
      "Genome fixed after 0 passes\n",
      "Genome fixed after 0 passes\n",
      "Genome fully rebuilt\n",
      "Genome fixed after 0 passes\n",
      "Genome fixed after 0 passes\n",
      "Genome fixed after 3 passes\n",
      "Genome fixed after 4 passes\n",
      "Genome fixed after 0 passes\n",
      "Genome fixed after 0 passes\n",
      "Genome fixed after 0 passes\n",
      "Genome fixed after 0 passes\n",
      "Genome fixed after 0 passes\n",
      "Genome fully rebuilt\n",
      "Genome fully rebuilt\n",
      "Genome fixed after 0 passes\n"
     ]
    },
    {
     "name": "stderr",
     "output_type": "stream",
     "text": []
    },
    {
     "name": "stdout",
     "output_type": "stream",
     "text": [
      "Genome fixed after 0 passes\n",
      "Genome fixed after 3 passes\n",
      "Genome fixed after 0 passes\n",
      "Genome fully rebuilt\n",
      "Genome fully rebuilt\n",
      "Genome fixed after 0 passes\n",
      "Genome fixed after 0 passes\n",
      "Genome fixed after 0 passes\n",
      "Genome fixed after 0 passes\n",
      "Genome fixed after 0 passes\n",
      "Genome fixed after 2 passes\n",
      "Genome fixed after 0 passes\n",
      "Genome fixed after 0 passes\n",
      "Genome fully rebuilt\n",
      "Genome fixed after 0 passes\n",
      "Genome fixed after 0 passes\n",
      "Genome fixed after 0 passes\n",
      "Genome fixed after 3 passes\n",
      "Genome fixed after 0 passes\n",
      "Genome fixed after 0 passes\n",
      "Genome fully rebuilt\n",
      "Genome fully rebuilt\n"
     ]
    },
    {
     "name": "stderr",
     "output_type": "stream",
     "text": []
    },
    {
     "name": "stdout",
     "output_type": "stream",
     "text": [
      "Genome fixed after 0 passes\n",
      "Genome fully rebuilt\n",
      "Genome fixed after 0 passes\n",
      "Genome fixed after 0 passes\n",
      "Genome fixed after 0 passes\n",
      "Genome fixed after 0 passes\n",
      "Genome fixed after 0 passes\n",
      "Genome fixed after 0 passes\n",
      "Genome fixed after 0 passes\n",
      "Genome fixed after 0 passes\n",
      "Genome fixed after 0 passes\n",
      "Genome fully rebuilt\n",
      "Genome fixed after 0 passes\n",
      "Genome fixed after 2 passes\n",
      "Genome fixed after 0 passes\n",
      "Genome fixed after 4 passes\n",
      "Genome fully rebuilt\n",
      "Genome fixed after 0 passes\n",
      "Genome fixed after 0 passes\n",
      "Genome fixed after 0 passes\n",
      "Genome fixed after 0 passes\n",
      "Genome fixed after 0 passes\n",
      "Genome fixed after 1 passes\n",
      "Genome fixed after 0 passes\n",
      "Genome fixed after 7 passes\n",
      "Genome fixed after 5 passes\n",
      "Genome fixed after 0 passes\n",
      "Genome fully rebuilt\n",
      "Genome fixed after 0 passes\n",
      "Genome fully rebuilt\n",
      "Genome fully rebuilt\n",
      "Genome fixed after 0 passes\n"
     ]
    },
    {
     "name": "stderr",
     "output_type": "stream",
     "text": []
    },
    {
     "name": "stdout",
     "output_type": "stream",
     "text": [
      "Genome fixed after 0 passes\n",
      "Genome fixed after 0 passes\n",
      "Genome fixed after 0 passes\n",
      "Genome fixed after 8 passes\n",
      "Genome fixed after 0 passes\n",
      "Genome fixed after 0 passes\n",
      "Genome fully rebuilt\n",
      "Genome fixed after 9 passes\n",
      "Genome fully rebuilt\n",
      "Genome fully rebuilt\n",
      "Genome fixed after 4 passes\n",
      "Genome fully rebuilt\n",
      "Genome fully rebuilt\n"
     ]
    },
    {
     "name": "stderr",
     "output_type": "stream",
     "text": []
    },
    {
     "name": "stdout",
     "output_type": "stream",
     "text": [
      "Genome fixed after 0 passes\n",
      "Genome fixed after 0 passes\n",
      "Genome fixed after 0 passes\n",
      "Genome fixed after 0 passes\n",
      "Genome fixed after 0 passes\n",
      "Genome fixed after 0 passes\n",
      "Genome fixed after 0 passes\n",
      "Genome fixed after 0 passes\n",
      "Genome fixed after 0 passes\n",
      "Genome fixed after 0 passes\n",
      "Genome fully rebuilt\n",
      "Genome fixed after 6 passes\n",
      "Genome fixed after 0 passes\n",
      "Genome fully rebuilt\n",
      "Genome fixed after 0 passes\n",
      "Genome fully rebuilt\n",
      "Genome fixed after 0 passes\n",
      "Genome fully rebuilt\n",
      "Genome fixed after 0 passes\n"
     ]
    },
    {
     "name": "stderr",
     "output_type": "stream",
     "text": []
    },
    {
     "name": "stdout",
     "output_type": "stream",
     "text": [
      "Genome fully rebuilt\n",
      "Genome fixed after 5 passes\n",
      "Genome fixed after 6 passes\n",
      "Genome fully rebuilt\n",
      "Genome fixed after 3 passes\n",
      "Genome fixed after 0 passes\n",
      "Genome fixed after 0 passes\n",
      "Genome fixed after 0 passes\n",
      "Genome fixed after 0 passes\n",
      "Genome fixed after 0 passes\n",
      "Genome fixed after 0 passes\n",
      "Genome fully rebuilt\n",
      "Genome fixed after 0 passes\n",
      "Genome fixed after 4 passes\n",
      "Genome fixed after 3 passes\n",
      "Genome fixed after 0 passes\n",
      "Genome fixed after 4 passes\n",
      "Genome fixed after 0 passes\n"
     ]
    },
    {
     "name": "stderr",
     "output_type": "stream",
     "text": []
    },
    {
     "name": "stdout",
     "output_type": "stream",
     "text": [
      "Genome fixed after 0 passes\n",
      "Genome fixed after 0 passes\n",
      "Genome fixed after 0 passes\n",
      "Genome fully rebuilt\n",
      "Genome fixed after 0 passes\n",
      "Genome fully rebuilt\n",
      "Genome fixed after 0 passes\n",
      "Genome fixed after 0 passes\n",
      "Genome fixed after 0 passes\n",
      "Genome fixed after 0 passes\n",
      "Genome fixed after 0 passes\n",
      "Genome fixed after 0 passes\n",
      "Genome fixed after 0 passes\n",
      "Genome fixed after 0 passes\n",
      "Genome fixed after 0 passes\n",
      "Genome fixed after 0 passes\n",
      "Genome fixed after 2 passes\n",
      "Genome fixed after 1 passes\n",
      "Genome fully rebuilt\n"
     ]
    },
    {
     "name": "stderr",
     "output_type": "stream",
     "text": []
    },
    {
     "name": "stdout",
     "output_type": "stream",
     "text": [
      "Genome fixed after 0 passes\n",
      "Genome fixed after 4 passes\n",
      "Genome fixed after 0 passes\n",
      "Genome fully rebuilt\n",
      "Genome fixed after 2 passes\n",
      "Genome fixed after 8 passes\n",
      "Genome fixed after 5 passes\n",
      "Genome fixed after 0 passes\n",
      "Genome fixed after 0 passes\n",
      "Genome fixed after 2 passes\n",
      "Genome fully rebuilt\n",
      "Genome fully rebuilt\n"
     ]
    },
    {
     "name": "stderr",
     "output_type": "stream",
     "text": []
    },
    {
     "name": "stdout",
     "output_type": "stream",
     "text": [
      "Genome fixed after 0 passes\n",
      "Genome fixed after 0 passes\n",
      "Genome fully rebuilt\n",
      "Genome fixed after 0 passes\n",
      "Genome fixed after 0 passes\n",
      "Genome fixed after 0 passes\n",
      "Genome fixed after 0 passes\n",
      "Genome fixed after 1 passes\n",
      "Genome fully rebuilt\n"
     ]
    },
    {
     "name": "stderr",
     "output_type": "stream",
     "text": []
    },
    {
     "name": "stdout",
     "output_type": "stream",
     "text": [
      "Genome fixed after 0 passes\n",
      "Genome fully rebuilt\n",
      "Genome fully rebuilt\n",
      "Genome fully rebuilt\n",
      "Genome fixed after 0 passes\n",
      "Genome fixed after 0 passes\n",
      "Genome fixed after 0 passes\n",
      "Genome fixed after 0 passes\n",
      "Genome fully rebuilt\n",
      "Genome fixed after 0 passes\n",
      "Genome fixed after 0 passes\n",
      "Genome fixed after 0 passes\n",
      "Genome fully rebuilt\n",
      "Genome fixed after 3 passes\n",
      "Genome fully rebuilt\n",
      "Genome fully rebuilt\n",
      "Genome fixed after 2 passes\n"
     ]
    },
    {
     "name": "stderr",
     "output_type": "stream",
     "text": []
    },
    {
     "name": "stdout",
     "output_type": "stream",
     "text": [
      "Genome fully rebuilt\n",
      "Genome fixed after 1 passes\n",
      "Genome fixed after 0 passes\n",
      "Genome fully rebuilt\n",
      "Genome fixed after 4 passes\n",
      "Genome fixed after 0 passes\n",
      "Genome fixed after 0 passes\n",
      "Genome fully rebuilt\n",
      "Genome fully rebuilt\n",
      "Genome fixed after 0 passes\n",
      "Genome fixed after 0 passes\n",
      "Genome fully rebuilt\n",
      "Genome fully rebuilt\n",
      "Genome fixed after 0 passes\n",
      "Genome fixed after 0 passes\n",
      "Genome fixed after 0 passes\n",
      "Genome fixed after 0 passes\n",
      "Genome fixed after 0 passes\n",
      "Genome fixed after 2 passes\n"
     ]
    },
    {
     "name": "stderr",
     "output_type": "stream",
     "text": []
    },
    {
     "name": "stdout",
     "output_type": "stream",
     "text": [
      "Genome fully rebuilt\n",
      "Genome fully rebuilt\n",
      "Genome fixed after 0 passes\n",
      "Genome fixed after 0 passes\n",
      "Genome fixed after 3 passes\n",
      "Genome fully rebuilt\n",
      "Genome fixed after 4 passes\n",
      "Genome fully rebuilt\n"
     ]
    },
    {
     "name": "stderr",
     "output_type": "stream",
     "text": []
    },
    {
     "name": "stdout",
     "output_type": "stream",
     "text": [
      "Genome fully rebuilt\n"
     ]
    },
    {
     "name": "stderr",
     "output_type": "stream",
     "text": []
    },
    {
     "name": "stdout",
     "output_type": "stream",
     "text": [
      "Genome fully rebuilt\n",
      "Genome fully rebuilt\n",
      "Genome fully rebuilt\n",
      "Genome fully rebuilt\n",
      "Genome fixed after 9 passes\n"
     ]
    },
    {
     "name": "stderr",
     "output_type": "stream",
     "text": []
    },
    {
     "name": "stdout",
     "output_type": "stream",
     "text": [
      "Genome fixed after 0 passes\n",
      "Genome fully rebuilt\n",
      "Genome fixed after 0 passes\n"
     ]
    },
    {
     "name": "stderr",
     "output_type": "stream",
     "text": [
      "\n"
     ]
    },
    {
     "name": "stdout",
     "output_type": "stream",
     "text": [
      "Genome fixed after 2 passes\n",
      "Genome fixed after 1 passes\n",
      "Genome fully rebuilt\n",
      "Genome fully rebuilt\n"
     ]
    },
    {
     "name": "stderr",
     "output_type": "stream",
     "text": [
      "Runnig genetic alogrithm:  24%|██▍       | 24/100 [00:10<00:42,  1.77 generation/s]\u001b[A"
     ]
    },
    {
     "name": "stdout",
     "output_type": "stream",
     "text": [
      "Genome fixed after 1 passes\n",
      "Genome fixed after 1 passes\n",
      "Genome fixed after 0 passes\n",
      "Genome fully rebuilt\n",
      "Genome fixed after 2 passes\n",
      "Genome fixed after 2 passes\n",
      "Genome fixed after 1 passes\n",
      "Genome fixed after 0 passes\n",
      "Genome fully rebuilt\n",
      "Genome fully rebuilt\n",
      "Genome fixed after 1 passes\n"
     ]
    },
    {
     "name": "stderr",
     "output_type": "stream",
     "text": []
    },
    {
     "name": "stdout",
     "output_type": "stream",
     "text": [
      "Genome fixed after 0 passes\n",
      "Genome fixed after 4 passes\n",
      "Genome fixed after 0 passes\n",
      "Genome fixed after 0 passes\n",
      "Genome fully rebuilt\n",
      "Genome fixed after 9 passes\n",
      "Genome fixed after 1 passes\n",
      "Genome fixed after 0 passes\n",
      "Genome fixed after 0 passes\n",
      "Genome fixed after 5 passes\n",
      "Genome fixed after 0 passes\n",
      "Genome fixed after 6 passes\n"
     ]
    },
    {
     "name": "stderr",
     "output_type": "stream",
     "text": []
    },
    {
     "name": "stdout",
     "output_type": "stream",
     "text": [
      "Genome fully rebuilt\n",
      "Genome fixed after 0 passes\n",
      "Genome fixed after 0 passes\n",
      "Genome fixed after 0 passes\n",
      "Genome fixed after 0 passes\n"
     ]
    },
    {
     "name": "stderr",
     "output_type": "stream",
     "text": []
    },
    {
     "name": "stdout",
     "output_type": "stream",
     "text": [
      "Genome fully rebuilt\n",
      "Genome fixed after 0 passes\n",
      "Genome fixed after 0 passes\n",
      "Genome fixed after 0 passes\n"
     ]
    },
    {
     "name": "stderr",
     "output_type": "stream",
     "text": [
      "\n",
      "Runnig genetic alogrithm:  29%|██▉       | 29/100 [00:12<00:21,  3.26 generation/s]"
     ]
    },
    {
     "name": "stdout",
     "output_type": "stream",
     "text": [
      "Genome fixed after 0 passes\n",
      "Genome fixed after 0 passes\n",
      "Genome fixed after 0 passes\n",
      "Genome fully rebuilt\n",
      "Genome fully rebuilt\n",
      "Genome fixed after 0 passes\n"
     ]
    },
    {
     "name": "stderr",
     "output_type": "stream",
     "text": [
      "\u001b[A"
     ]
    },
    {
     "name": "stdout",
     "output_type": "stream",
     "text": [
      "Genome fixed after 0 passes\n",
      "Genome fixed after 0 passes\n",
      "Genome fixed after 0 passes\n",
      "Genome fixed after 1 passes\n",
      "Genome fully rebuilt\n",
      "Genome fixed after 0 passes\n",
      "Genome fixed after 5 passes\n"
     ]
    },
    {
     "name": "stderr",
     "output_type": "stream",
     "text": []
    },
    {
     "name": "stdout",
     "output_type": "stream",
     "text": [
      "Genome fully rebuilt\n",
      "Genome fixed after 0 passes\n",
      "Genome fixed after 0 passes\n"
     ]
    },
    {
     "name": "stderr",
     "output_type": "stream",
     "text": []
    },
    {
     "name": "stdout",
     "output_type": "stream",
     "text": [
      "Genome fully rebuilt\n"
     ]
    },
    {
     "name": "stderr",
     "output_type": "stream",
     "text": []
    },
    {
     "name": "stdout",
     "output_type": "stream",
     "text": [
      "Genome fixed after 8 passes\n",
      "Genome fixed after 8 passes\n",
      "Genome fixed after 0 passes\n"
     ]
    },
    {
     "name": "stderr",
     "output_type": "stream",
     "text": []
    },
    {
     "name": "stdout",
     "output_type": "stream",
     "text": [
      "Genome fully rebuilt\n",
      "Genome fixed after 0 passes\n",
      "Genome fixed after 0 passes\n",
      "Genome fixed after 4 passes\n",
      "Genome fixed after 0 passes\n",
      "Genome fully rebuilt\n"
     ]
    },
    {
     "name": "stderr",
     "output_type": "stream",
     "text": []
    },
    {
     "name": "stdout",
     "output_type": "stream",
     "text": [
      "Genome fully rebuilt\n",
      "Genome fixed after 0 passes\n",
      "Genome fixed after 0 passes\n"
     ]
    },
    {
     "name": "stderr",
     "output_type": "stream",
     "text": []
    },
    {
     "name": "stdout",
     "output_type": "stream",
     "text": [
      "Genome fixed after 2 passes\n",
      "Genome fully rebuilt\n"
     ]
    },
    {
     "name": "stderr",
     "output_type": "stream",
     "text": []
    },
    {
     "name": "stdout",
     "output_type": "stream",
     "text": [
      "Genome fixed after 5 passes\n"
     ]
    },
    {
     "name": "stderr",
     "output_type": "stream",
     "text": []
    },
    {
     "name": "stdout",
     "output_type": "stream",
     "text": [
      "Genome fully rebuilt\n",
      "Genome fully rebuilt\n",
      "Genome fixed after 3 passes\n",
      "Genome fixed after 5 passes\n"
     ]
    },
    {
     "name": "stderr",
     "output_type": "stream",
     "text": []
    },
    {
     "name": "stdout",
     "output_type": "stream",
     "text": [
      "Genome fully rebuilt\n",
      "Genome fixed after 8 passes\n"
     ]
    },
    {
     "name": "stderr",
     "output_type": "stream",
     "text": []
    },
    {
     "name": "stdout",
     "output_type": "stream",
     "text": [
      "Genome fixed after 3 passes\n",
      "Genome fixed after 0 passes\n",
      "Genome fully rebuilt\n",
      "Genome fixed after 4 passes\n"
     ]
    },
    {
     "name": "stderr",
     "output_type": "stream",
     "text": []
    },
    {
     "name": "stdout",
     "output_type": "stream",
     "text": [
      "Genome fixed after 3 passes\n",
      "Genome fully rebuilt\n"
     ]
    },
    {
     "name": "stderr",
     "output_type": "stream",
     "text": []
    },
    {
     "name": "stdout",
     "output_type": "stream",
     "text": [
      "Genome fully rebuilt\n",
      "Genome fixed after 1 passes\n",
      "Genome fixed after 2 passes\n",
      "Genome fixed after 0 passes\n"
     ]
    },
    {
     "name": "stderr",
     "output_type": "stream",
     "text": []
    },
    {
     "name": "stdout",
     "output_type": "stream",
     "text": [
      "Genome fully rebuilt\n",
      "Genome fully rebuilt\n"
     ]
    },
    {
     "name": "stderr",
     "output_type": "stream",
     "text": []
    },
    {
     "name": "stdout",
     "output_type": "stream",
     "text": [
      "Genome fixed after 1 passes\n",
      "Genome fixed after 0 passes\n",
      "Genome fixed after 0 passes\n"
     ]
    },
    {
     "name": "stderr",
     "output_type": "stream",
     "text": []
    },
    {
     "name": "stdout",
     "output_type": "stream",
     "text": [
      "Genome fixed after 0 passes\n",
      "Genome fixed after 7 passes\n",
      "Genome fixed after 0 passes\n",
      "Genome fixed after 0 passes\n",
      "Genome fixed after 5 passes\n"
     ]
    },
    {
     "name": "stderr",
     "output_type": "stream",
     "text": []
    },
    {
     "name": "stdout",
     "output_type": "stream",
     "text": [
      "Genome fixed after 0 passes\n",
      "Genome fixed after 1 passes\n",
      "Genome fixed after 1 passes\n",
      "Genome fully rebuilt\n",
      "Genome fixed after 8 passes\n",
      "Genome fully rebuilt\n"
     ]
    },
    {
     "name": "stderr",
     "output_type": "stream",
     "text": []
    },
    {
     "name": "stdout",
     "output_type": "stream",
     "text": [
      "Genome fixed after 4 passes\n",
      "Genome fixed after 0 passes\n",
      "Genome fixed after 3 passes\n"
     ]
    },
    {
     "name": "stderr",
     "output_type": "stream",
     "text": []
    },
    {
     "name": "stdout",
     "output_type": "stream",
     "text": [
      "Genome fully rebuilt\n",
      "Genome fixed after 7 passes\n",
      "Genome fixed after 3 passes\n",
      "Genome fixed after 0 passes\n",
      "Genome fixed after 3 passes\n"
     ]
    },
    {
     "name": "stderr",
     "output_type": "stream",
     "text": []
    },
    {
     "name": "stdout",
     "output_type": "stream",
     "text": [
      "Genome fully rebuilt\n",
      "Genome fully rebuilt\n",
      "Genome fully rebuilt\n",
      "Genome fully rebuilt\n",
      "Genome fixed after 5 passes\n",
      "Genome fixed after 5 passes\n"
     ]
    },
    {
     "name": "stderr",
     "output_type": "stream",
     "text": []
    },
    {
     "name": "stdout",
     "output_type": "stream",
     "text": [
      "Genome fully rebuilt\n",
      "Genome fully rebuilt\n",
      "Genome fixed after 0 passes\n"
     ]
    },
    {
     "name": "stderr",
     "output_type": "stream",
     "text": []
    },
    {
     "name": "stdout",
     "output_type": "stream",
     "text": [
      "Genome fixed after 0 passes\n",
      "Genome fixed after 0 passes\n",
      "Genome fixed after 5 passes\n",
      "Genome fixed after 0 passes\n",
      "Genome fixed after 3 passes\n"
     ]
    },
    {
     "name": "stderr",
     "output_type": "stream",
     "text": []
    },
    {
     "name": "stdout",
     "output_type": "stream",
     "text": [
      "Genome fully rebuilt\n"
     ]
    },
    {
     "name": "stderr",
     "output_type": "stream",
     "text": []
    },
    {
     "name": "stdout",
     "output_type": "stream",
     "text": [
      "Genome fixed after 6 passes\n",
      "Genome fixed after 0 passes\n",
      "Genome fully rebuilt\n",
      "Genome fully rebuilt\n",
      "Genome fully rebuilt\n"
     ]
    },
    {
     "name": "stderr",
     "output_type": "stream",
     "text": []
    },
    {
     "name": "stdout",
     "output_type": "stream",
     "text": [
      "Genome fixed after 1 passes\n",
      "Genome fixed after 0 passes\n",
      "Genome fixed after 9 passes\n",
      "Genome fully rebuilt\n",
      "Genome fixed after 7 passes\n"
     ]
    },
    {
     "name": "stderr",
     "output_type": "stream",
     "text": []
    },
    {
     "name": "stdout",
     "output_type": "stream",
     "text": [
      "Genome fixed after 0 passes\n",
      "Genome fixed after 9 passes\n",
      "Genome fixed after 1 passes\n",
      "Genome fixed after 1 passes\n",
      "Genome fully rebuilt\n",
      "Genome fixed after 0 passes\n",
      "Genome fixed after 4 passes\n",
      "Genome fixed after 0 passes\n"
     ]
    },
    {
     "name": "stderr",
     "output_type": "stream",
     "text": []
    },
    {
     "name": "stdout",
     "output_type": "stream",
     "text": [
      "Genome fixed after 2 passes\n",
      "Genome fixed after 2 passes\n",
      "Genome fixed after 0 passes\n",
      "Genome fully rebuilt\n"
     ]
    },
    {
     "name": "stderr",
     "output_type": "stream",
     "text": []
    },
    {
     "name": "stdout",
     "output_type": "stream",
     "text": [
      "Genome fixed after 0 passes\n",
      "Genome fully rebuilt\n",
      "Genome fixed after 0 passes\n",
      "Genome fixed after 6 passes\n",
      "Genome fully rebuilt\n",
      "Genome fixed after 0 passes\n",
      "Genome fully rebuilt\n"
     ]
    },
    {
     "name": "stderr",
     "output_type": "stream",
     "text": []
    },
    {
     "name": "stdout",
     "output_type": "stream",
     "text": [
      "Genome fixed after 4 passes\n",
      "Genome fully rebuilt\n",
      "Genome fully rebuilt\n",
      "Genome fully rebuilt\n",
      "Genome fixed after 0 passes\n"
     ]
    },
    {
     "name": "stderr",
     "output_type": "stream",
     "text": [
      "\n",
      "Runnig genetic alogrithm:  65%|██████▌   | 65/100 [00:23<00:10,  3.27 generation/s]"
     ]
    },
    {
     "name": "stdout",
     "output_type": "stream",
     "text": [
      "Genome fixed after 0 passes\n",
      "Genome fixed after 1 passes\n"
     ]
    },
    {
     "name": "stderr",
     "output_type": "stream",
     "text": [
      "\u001b[A"
     ]
    },
    {
     "name": "stdout",
     "output_type": "stream",
     "text": [
      "Genome fully rebuilt\n",
      "Genome fully rebuilt\n",
      "Genome fully rebuilt\n",
      "Genome fully rebuilt\n",
      "Genome fully rebuilt\n"
     ]
    },
    {
     "name": "stderr",
     "output_type": "stream",
     "text": []
    },
    {
     "name": "stdout",
     "output_type": "stream",
     "text": [
      "Genome fully rebuilt\n",
      "Genome fully rebuilt\n",
      "Genome fully rebuilt\n",
      "Genome fixed after 2 passes\n",
      "Genome fixed after 2 passes\n",
      "Genome fully rebuilt\n",
      "Genome fixed after 5 passes\n",
      "Genome fixed after 9 passes\n"
     ]
    },
    {
     "name": "stderr",
     "output_type": "stream",
     "text": []
    },
    {
     "name": "stdout",
     "output_type": "stream",
     "text": [
      "Genome fully rebuilt\n",
      "Genome fixed after 1 passes\n",
      "Genome fully rebuilt\n",
      "Genome fixed after 0 passes\n",
      "Genome fully rebuilt\n",
      "Genome fixed after 9 passes\n"
     ]
    },
    {
     "name": "stderr",
     "output_type": "stream",
     "text": []
    },
    {
     "name": "stdout",
     "output_type": "stream",
     "text": [
      "Genome fully rebuilt\n",
      "Genome fixed after 7 passes\n",
      "Genome fixed after 0 passes\n"
     ]
    },
    {
     "name": "stderr",
     "output_type": "stream",
     "text": []
    },
    {
     "name": "stdout",
     "output_type": "stream",
     "text": [
      "Genome fully rebuilt\n"
     ]
    },
    {
     "name": "stderr",
     "output_type": "stream",
     "text": []
    },
    {
     "name": "stdout",
     "output_type": "stream",
     "text": [
      "Genome fixed after 0 passes\n",
      "Genome fixed after 0 passes\n"
     ]
    },
    {
     "name": "stderr",
     "output_type": "stream",
     "text": []
    },
    {
     "name": "stdout",
     "output_type": "stream",
     "text": [
      "Genome fully rebuilt\n",
      "Genome fixed after 4 passes\n",
      "Genome fully rebuilt\n",
      "Genome fixed after 2 passes\n",
      "Genome fully rebuilt\n",
      "Genome fixed after 3 passes\n",
      "Genome fixed after 8 passes\n",
      "Genome fully rebuilt\n"
     ]
    },
    {
     "name": "stderr",
     "output_type": "stream",
     "text": []
    },
    {
     "name": "stdout",
     "output_type": "stream",
     "text": [
      "Genome fully rebuilt\n",
      "Genome fully rebuilt\n",
      "Genome fixed after 0 passes\n",
      "Genome fully rebuilt\n"
     ]
    },
    {
     "name": "stderr",
     "output_type": "stream",
     "text": []
    },
    {
     "name": "stdout",
     "output_type": "stream",
     "text": [
      "Genome fully rebuilt\n",
      "Genome fixed after 0 passes\n",
      "Genome fixed after 0 passes\n",
      "Genome fully rebuilt\n",
      "Genome fully rebuilt\n",
      "Genome fully rebuilt\n"
     ]
    },
    {
     "name": "stderr",
     "output_type": "stream",
     "text": []
    },
    {
     "name": "stdout",
     "output_type": "stream",
     "text": [
      "Genome fully rebuilt\n",
      "Genome fully rebuilt\n"
     ]
    },
    {
     "name": "stderr",
     "output_type": "stream",
     "text": []
    },
    {
     "name": "stdout",
     "output_type": "stream",
     "text": [
      "Genome fixed after 1 passes\n",
      "Genome fully rebuilt\n",
      "Genome fixed after 3 passes\n"
     ]
    },
    {
     "name": "stderr",
     "output_type": "stream",
     "text": []
    },
    {
     "name": "stdout",
     "output_type": "stream",
     "text": [
      "Genome fully rebuilt\n"
     ]
    },
    {
     "name": "stderr",
     "output_type": "stream",
     "text": []
    },
    {
     "name": "stdout",
     "output_type": "stream",
     "text": [
      "Genome fully rebuilt\n",
      "Genome fully rebuilt\n",
      "Genome fully rebuilt\n"
     ]
    },
    {
     "name": "stderr",
     "output_type": "stream",
     "text": []
    },
    {
     "name": "stdout",
     "output_type": "stream",
     "text": [
      "Genome fixed after 8 passes\n",
      "Genome fully rebuilt\n",
      "Genome fixed after 1 passes\n",
      "Genome fixed after 2 passes\n",
      "Genome fixed after 8 passes\n",
      "Genome fixed after 0 passes\n",
      "Genome fixed after 7 passes\n"
     ]
    },
    {
     "name": "stderr",
     "output_type": "stream",
     "text": []
    },
    {
     "name": "stdout",
     "output_type": "stream",
     "text": [
      "Genome fixed after 0 passes\n",
      "Genome fixed after 0 passes\n",
      "Genome fully rebuilt\n",
      "Genome fixed after 0 passes\n"
     ]
    },
    {
     "name": "stderr",
     "output_type": "stream",
     "text": []
    },
    {
     "name": "stdout",
     "output_type": "stream",
     "text": [
      "Genome fully rebuilt\n",
      "Genome fully rebuilt\n"
     ]
    },
    {
     "name": "stderr",
     "output_type": "stream",
     "text": []
    },
    {
     "name": "stdout",
     "output_type": "stream",
     "text": [
      "Genome fixed after 0 passes\n",
      "Genome fixed after 0 passes\n"
     ]
    },
    {
     "name": "stderr",
     "output_type": "stream",
     "text": []
    },
    {
     "name": "stdout",
     "output_type": "stream",
     "text": [
      "Genome fixed after 0 passes\n",
      "Genome fixed after 0 passes\n",
      "Genome fixed after 0 passes\n",
      "Genome fixed after 0 passes\n",
      "Genome fully rebuilt\n",
      "Genome fixed after 0 passes\n",
      "Genome fully rebuilt\n",
      "Genome fixed after 0 passes\n",
      "Genome fixed after 2 passes\n",
      "Genome fully rebuilt\n"
     ]
    },
    {
     "name": "stderr",
     "output_type": "stream",
     "text": []
    },
    {
     "name": "stdout",
     "output_type": "stream",
     "text": [
      "Genome fully rebuilt\n",
      "Genome fixed after 0 passes\n",
      "Genome fully rebuilt\n"
     ]
    },
    {
     "name": "stderr",
     "output_type": "stream",
     "text": []
    },
    {
     "name": "stdout",
     "output_type": "stream",
     "text": [
      "Genome fully rebuilt\n",
      "Genome fixed after 1 passes\n",
      "Genome fixed after 0 passes\n"
     ]
    },
    {
     "name": "stderr",
     "output_type": "stream",
     "text": []
    },
    {
     "name": "stdout",
     "output_type": "stream",
     "text": [
      "Genome fixed after 0 passes\n",
      "Genome fixed after 0 passes\n",
      "Genome fixed after 4 passes\n"
     ]
    },
    {
     "name": "stderr",
     "output_type": "stream",
     "text": []
    },
    {
     "name": "stdout",
     "output_type": "stream",
     "text": [
      "Genome fully rebuilt\n",
      "Genome fixed after 7 passes\n",
      "Genome fully rebuilt\n",
      "Genome fixed after 2 passes\n"
     ]
    },
    {
     "name": "stderr",
     "output_type": "stream",
     "text": []
    },
    {
     "name": "stdout",
     "output_type": "stream",
     "text": [
      "Genome fixed after 4 passes\n",
      "Genome fixed after 0 passes\n",
      "Genome fully rebuilt\n",
      "Genome fixed after 0 passes\n",
      "Genome fully rebuilt\n"
     ]
    },
    {
     "name": "stderr",
     "output_type": "stream",
     "text": [
      "\n"
     ]
    },
    {
     "name": "stdout",
     "output_type": "stream",
     "text": [
      "Genome fixed after 1 passes\n"
     ]
    },
    {
     "name": "stderr",
     "output_type": "stream",
     "text": [
      "Runnig genetic alogrithm:  97%|█████████▋| 97/100 [00:36<00:01,  2.01 generation/s]\u001b[A"
     ]
    },
    {
     "name": "stdout",
     "output_type": "stream",
     "text": [
      "Genome fully rebuilt\n",
      "Genome fully rebuilt\n",
      "Genome fully rebuilt\n",
      "Genome fixed after 7 passes\n",
      "Genome fixed after 0 passes\n"
     ]
    },
    {
     "name": "stderr",
     "output_type": "stream",
     "text": []
    },
    {
     "name": "stdout",
     "output_type": "stream",
     "text": [
      "Genome fixed after 0 passes\n",
      "Genome fixed after 2 passes\n",
      "Genome fixed after 5 passes\n",
      "Genome fully rebuilt\n",
      "Genome fully rebuilt\n"
     ]
    },
    {
     "name": "stderr",
     "output_type": "stream",
     "text": []
    },
    {
     "name": "stdout",
     "output_type": "stream",
     "text": [
      "Genome fully rebuilt\n",
      "Genome fixed after 0 passes\n"
     ]
    },
    {
     "name": "stderr",
     "output_type": "stream",
     "text": [
      "Runnig genetic alogrithm: 100%|██████████| 100/100 [00:39<00:00,  2.56 generation/s]\n",
      "Running grid search:   3%|▎         | 6/192 [03:49<2:20:20, 45.27s/ combination]"
     ]
    },
    {
     "name": "stdout",
     "output_type": "stream",
     "text": [
      "Genome fully rebuilt\n",
      "Genome fixed after 0 passes\n",
      "Genome fully rebuilt\n",
      "Genome fixed after 9 passes\n",
      "Genome fixed after 1 passes\n",
      "Genome fully rebuilt\n",
      "Genome fixed after 6 passes\n",
      "Genome fully rebuilt\n"
     ]
    },
    {
     "name": "stderr",
     "output_type": "stream",
     "text": []
    },
    {
     "name": "stdout",
     "output_type": "stream",
     "text": [
      "Genome fixed after 0 passes\n",
      "Genome fixed after 1 passes\n",
      "Genome fixed after 2 passes\n",
      "Genome fully rebuilt\n",
      "Genome fully rebuilt\n",
      "Genome fully rebuilt\n",
      "Genome fixed after 9 passes\n",
      "Genome fully rebuilt\n",
      "Genome fully rebuilt\n",
      "Genome fixed after 3 passes\n",
      "Genome fully rebuilt\n"
     ]
    },
    {
     "name": "stderr",
     "output_type": "stream",
     "text": []
    },
    {
     "name": "stdout",
     "output_type": "stream",
     "text": [
      "Genome fully rebuilt\n",
      "Genome fixed after 3 passes\n",
      "Genome fully rebuilt\n",
      "Genome fixed after 1 passes\n",
      "Genome fixed after 5 passes\n",
      "Genome fixed after 0 passes\n",
      "Genome fully rebuilt\n",
      "Genome fixed after 0 passes\n",
      "Genome fixed after 0 passes\n"
     ]
    },
    {
     "name": "stderr",
     "output_type": "stream",
     "text": []
    },
    {
     "name": "stdout",
     "output_type": "stream",
     "text": [
      "Genome fixed after 0 passes\n",
      "Genome fixed after 6 passes\n",
      "Genome fully rebuilt\n",
      "Genome fixed after 3 passes\n",
      "Genome fully rebuilt\n",
      "Genome fully rebuilt\n",
      "Genome fully rebuilt\n"
     ]
    },
    {
     "name": "stderr",
     "output_type": "stream",
     "text": [
      "\n"
     ]
    },
    {
     "name": "stdout",
     "output_type": "stream",
     "text": [
      "Genome fixed after 3 passes\n",
      "Genome fixed after 2 passes\n",
      "Genome fixed after 0 passes\n",
      "Genome fixed after 0 passes\n",
      "Genome fixed after 0 passes\n"
     ]
    },
    {
     "name": "stderr",
     "output_type": "stream",
     "text": [
      "Runnig genetic alogrithm:   5%|▌         | 5/100 [00:01<00:28,  3.32 generation/s]\u001b[A"
     ]
    },
    {
     "name": "stdout",
     "output_type": "stream",
     "text": [
      "Genome fully rebuilt\n",
      "Genome fully rebuilt\n",
      "Genome fully rebuilt\n",
      "Genome fully rebuilt\n",
      "Genome fully rebuilt\n",
      "Genome fixed after 2 passes\n",
      "Genome fixed after 0 passes\n",
      "Genome fixed after 0 passes\n"
     ]
    },
    {
     "name": "stderr",
     "output_type": "stream",
     "text": []
    },
    {
     "name": "stdout",
     "output_type": "stream",
     "text": [
      "Genome fixed after 2 passes\n",
      "Genome fixed after 8 passes\n",
      "Genome fully rebuilt\n",
      "Genome fully rebuilt\n",
      "Genome fixed after 7 passes\n",
      "Genome fixed after 0 passes\n",
      "Genome fully rebuilt\n"
     ]
    },
    {
     "name": "stderr",
     "output_type": "stream",
     "text": []
    },
    {
     "name": "stdout",
     "output_type": "stream",
     "text": [
      "Genome fixed after 0 passes\n",
      "Genome fixed after 1 passes\n"
     ]
    },
    {
     "name": "stderr",
     "output_type": "stream",
     "text": []
    },
    {
     "name": "stdout",
     "output_type": "stream",
     "text": [
      "Genome fixed after 0 passes\n",
      "Genome fixed after 2 passes\n",
      "Genome fully rebuilt\n",
      "Genome fully rebuilt\n",
      "Genome fixed after 0 passes\n"
     ]
    },
    {
     "name": "stderr",
     "output_type": "stream",
     "text": []
    },
    {
     "name": "stdout",
     "output_type": "stream",
     "text": [
      "Genome fixed after 9 passes\n",
      "Genome fixed after 0 passes\n",
      "Genome fixed after 0 passes\n",
      "Genome fixed after 0 passes\n",
      "Genome fixed after 0 passes\n",
      "Genome fixed after 0 passes\n"
     ]
    },
    {
     "name": "stderr",
     "output_type": "stream",
     "text": [
      "\n"
     ]
    },
    {
     "name": "stdout",
     "output_type": "stream",
     "text": [
      "Genome fixed after 0 passes\n",
      "Genome fixed after 0 passes\n",
      "Genome fixed after 0 passes\n",
      "Genome fixed after 0 passes\n"
     ]
    },
    {
     "name": "stderr",
     "output_type": "stream",
     "text": [
      "Runnig genetic alogrithm:  14%|█▍        | 14/100 [00:04<00:24,  3.58 generation/s]\u001b[A"
     ]
    },
    {
     "name": "stdout",
     "output_type": "stream",
     "text": [
      "Genome fixed after 2 passes\n",
      "Genome fixed after 7 passes\n",
      "Genome fixed after 4 passes\n",
      "Genome fixed after 0 passes\n",
      "Genome fixed after 0 passes\n",
      "Genome fixed after 2 passes\n",
      "Genome fully rebuilt\n",
      "Genome fixed after 0 passes\n",
      "Genome fixed after 0 passes\n",
      "Genome fixed after 0 passes\n",
      "Genome fixed after 0 passes\n"
     ]
    },
    {
     "name": "stderr",
     "output_type": "stream",
     "text": []
    },
    {
     "name": "stdout",
     "output_type": "stream",
     "text": [
      "Genome fixed after 0 passes\n",
      "Genome fixed after 9 passes\n",
      "Genome fixed after 7 passes\n",
      "Genome fixed after 1 passes\n"
     ]
    },
    {
     "name": "stderr",
     "output_type": "stream",
     "text": []
    },
    {
     "name": "stdout",
     "output_type": "stream",
     "text": [
      "Genome fully rebuilt\n",
      "Genome fixed after 9 passes\n",
      "Genome fully rebuilt\n",
      "Genome fixed after 0 passes\n",
      "Genome fixed after 0 passes\n",
      "Genome fixed after 0 passes\n",
      "Genome fixed after 0 passes\n",
      "Genome fixed after 0 passes\n",
      "Genome fixed after 0 passes\n",
      "Genome fully rebuilt\n"
     ]
    },
    {
     "name": "stderr",
     "output_type": "stream",
     "text": []
    },
    {
     "name": "stdout",
     "output_type": "stream",
     "text": [
      "Genome fixed after 1 passes\n",
      "Genome fixed after 0 passes\n",
      "Genome fixed after 0 passes\n",
      "Genome fully rebuilt\n",
      "Genome fully rebuilt\n",
      "Genome fixed after 0 passes\n",
      "Genome fixed after 0 passes\n",
      "Genome fixed after 0 passes\n",
      "Genome fixed after 0 passes\n",
      "Genome fixed after 2 passes\n",
      "Genome fully rebuilt\n",
      "Genome fixed after 5 passes\n",
      "Genome fixed after 0 passes\n",
      "Genome fixed after 0 passes\n",
      "Genome fixed after 0 passes\n",
      "Genome fixed after 0 passes\n",
      "Genome fixed after 7 passes\n"
     ]
    },
    {
     "name": "stderr",
     "output_type": "stream",
     "text": []
    },
    {
     "name": "stdout",
     "output_type": "stream",
     "text": [
      "Genome fixed after 0 passes\n",
      "Genome fully rebuilt\n",
      "Genome fixed after 0 passes\n",
      "Genome fixed after 0 passes\n",
      "Genome fixed after 3 passes\n",
      "Genome fixed after 1 passes\n",
      "Genome fixed after 0 passes\n",
      "Genome fixed after 4 passes\n",
      "Genome fixed after 3 passes\n",
      "Genome fixed after 1 passes\n"
     ]
    },
    {
     "name": "stderr",
     "output_type": "stream",
     "text": [
      "\n"
     ]
    },
    {
     "name": "stdout",
     "output_type": "stream",
     "text": [
      "Genome fixed after 2 passes\n",
      "Genome fully rebuilt\n"
     ]
    },
    {
     "name": "stderr",
     "output_type": "stream",
     "text": [
      "Runnig genetic alogrithm:  25%|██▌       | 25/100 [00:06<00:10,  6.86 generation/s]\u001b[A"
     ]
    },
    {
     "name": "stdout",
     "output_type": "stream",
     "text": [
      "Genome fixed after 2 passes\n",
      "Genome fully rebuilt\n",
      "Genome fully rebuilt\n",
      "Genome fully rebuilt\n",
      "Genome fully rebuilt\n",
      "Genome fixed after 0 passes\n",
      "Genome fixed after 0 passes\n"
     ]
    },
    {
     "name": "stderr",
     "output_type": "stream",
     "text": []
    },
    {
     "name": "stdout",
     "output_type": "stream",
     "text": [
      "Genome fully rebuilt\n",
      "Genome fully rebuilt\n",
      "Genome fixed after 0 passes\n",
      "Genome fixed after 4 passes\n",
      "Genome fully rebuilt\n",
      "Genome fixed after 0 passes\n",
      "Genome fully rebuilt\n",
      "Genome fully rebuilt\n",
      "Genome fixed after 0 passes\n"
     ]
    },
    {
     "name": "stderr",
     "output_type": "stream",
     "text": []
    },
    {
     "name": "stdout",
     "output_type": "stream",
     "text": [
      "Genome fixed after 5 passes\n",
      "Genome fixed after 0 passes\n",
      "Genome fixed after 4 passes\n",
      "Genome fully rebuilt\n",
      "Genome fixed after 0 passes\n",
      "Genome fully rebuilt\n",
      "Genome fixed after 1 passes\n",
      "Genome fixed after 0 passes\n",
      "Genome fixed after 1 passes\n",
      "Genome fixed after 0 passes\n",
      "Genome fixed after 5 passes\n",
      "Genome fixed after 8 passes\n",
      "Genome fixed after 0 passes\n",
      "Genome fixed after 0 passes\n",
      "Genome fixed after 0 passes\n"
     ]
    },
    {
     "name": "stderr",
     "output_type": "stream",
     "text": []
    },
    {
     "name": "stdout",
     "output_type": "stream",
     "text": [
      "Genome fully rebuilt\n",
      "Genome fixed after 0 passes\n",
      "Genome fully rebuilt\n",
      "Genome fixed after 0 passes\n",
      "Genome fixed after 0 passes\n",
      "Genome fixed after 2 passes\n",
      "Genome fully rebuilt\n",
      "Genome fixed after 0 passes\n",
      "Genome fixed after 0 passes\n"
     ]
    },
    {
     "name": "stderr",
     "output_type": "stream",
     "text": []
    },
    {
     "name": "stdout",
     "output_type": "stream",
     "text": [
      "Genome fixed after 3 passes\n",
      "Genome fully rebuilt\n",
      "Genome fixed after 2 passes\n",
      "Genome fixed after 0 passes\n",
      "Genome fixed after 2 passes\n",
      "Genome fixed after 5 passes\n",
      "Genome fixed after 6 passes\n",
      "Genome fixed after 0 passes\n",
      "Genome fixed after 0 passes\n",
      "Genome fixed after 6 passes\n",
      "Genome fully rebuilt\n",
      "Genome fixed after 0 passes\n"
     ]
    },
    {
     "name": "stderr",
     "output_type": "stream",
     "text": []
    },
    {
     "name": "stdout",
     "output_type": "stream",
     "text": [
      "Genome fixed after 0 passes\n",
      "Genome fully rebuilt\n",
      "Genome fixed after 0 passes\n",
      "Genome fully rebuilt\n",
      "Genome fixed after 0 passes\n",
      "Genome fully rebuilt\n",
      "Genome fully rebuilt\n",
      "Genome fixed after 0 passes\n",
      "Genome fully rebuilt\n",
      "Genome fully rebuilt\n",
      "Genome fixed after 1 passes\n",
      "Genome fully rebuilt\n"
     ]
    },
    {
     "name": "stderr",
     "output_type": "stream",
     "text": [
      "\n"
     ]
    },
    {
     "name": "stdout",
     "output_type": "stream",
     "text": [
      "Genome fixed after 0 passes\n",
      "Genome fully rebuilt\n",
      "Genome fixed after 6 passes\n",
      "Genome fully rebuilt\n"
     ]
    },
    {
     "name": "stderr",
     "output_type": "stream",
     "text": [
      "Runnig genetic alogrithm:  42%|████▏     | 42/100 [00:10<00:18,  3.10 generation/s]\u001b[A"
     ]
    },
    {
     "name": "stdout",
     "output_type": "stream",
     "text": [
      "Genome fully rebuilt\n",
      "Genome fully rebuilt\n",
      "Genome fully rebuilt\n"
     ]
    },
    {
     "name": "stderr",
     "output_type": "stream",
     "text": []
    },
    {
     "name": "stdout",
     "output_type": "stream",
     "text": [
      "Genome fixed after 0 passes\n",
      "Genome fully rebuilt\n",
      "Genome fixed after 0 passes\n",
      "Genome fixed after 0 passes\n",
      "Genome fully rebuilt\n",
      "Genome fixed after 0 passes\n"
     ]
    },
    {
     "name": "stderr",
     "output_type": "stream",
     "text": []
    },
    {
     "name": "stdout",
     "output_type": "stream",
     "text": [
      "Genome fixed after 0 passes\n",
      "Genome fixed after 0 passes\n",
      "Genome fully rebuilt\n",
      "Genome fixed after 0 passes\n",
      "Genome fully rebuilt\n"
     ]
    },
    {
     "name": "stderr",
     "output_type": "stream",
     "text": []
    },
    {
     "name": "stdout",
     "output_type": "stream",
     "text": [
      "Genome fixed after 0 passes\n",
      "Genome fixed after 0 passes\n",
      "Genome fully rebuilt\n",
      "Genome fixed after 0 passes\n",
      "Genome fully rebuilt\n",
      "Genome fully rebuilt\n",
      "Genome fixed after 0 passes\n"
     ]
    },
    {
     "name": "stderr",
     "output_type": "stream",
     "text": []
    },
    {
     "name": "stdout",
     "output_type": "stream",
     "text": [
      "Genome fixed after 0 passes\n",
      "Genome fully rebuilt\n",
      "Genome fully rebuilt\n",
      "Genome fixed after 0 passes\n"
     ]
    },
    {
     "name": "stderr",
     "output_type": "stream",
     "text": []
    },
    {
     "name": "stdout",
     "output_type": "stream",
     "text": [
      "Genome fully rebuilt\n",
      "Genome fixed after 6 passes\n",
      "Genome fully rebuilt\n",
      "Genome fixed after 0 passes\n"
     ]
    },
    {
     "name": "stderr",
     "output_type": "stream",
     "text": []
    },
    {
     "name": "stdout",
     "output_type": "stream",
     "text": [
      "Genome fixed after 1 passes\n",
      "Genome fixed after 0 passes\n",
      "Genome fixed after 0 passes\n",
      "Genome fully rebuilt\n",
      "Genome fixed after 0 passes\n"
     ]
    },
    {
     "name": "stderr",
     "output_type": "stream",
     "text": []
    },
    {
     "name": "stdout",
     "output_type": "stream",
     "text": [
      "Genome fixed after 0 passes\n",
      "Genome fixed after 6 passes\n",
      "Genome fixed after 0 passes\n",
      "Genome fully rebuilt\n",
      "Genome fixed after 0 passes\n",
      "Genome fixed after 2 passes\n",
      "Genome fixed after 0 passes\n",
      "Genome fixed after 0 passes\n",
      "Genome fixed after 0 passes\n"
     ]
    },
    {
     "name": "stderr",
     "output_type": "stream",
     "text": []
    },
    {
     "name": "stdout",
     "output_type": "stream",
     "text": [
      "Genome fixed after 5 passes\n",
      "Genome fixed after 6 passes\n"
     ]
    },
    {
     "name": "stderr",
     "output_type": "stream",
     "text": []
    },
    {
     "name": "stdout",
     "output_type": "stream",
     "text": [
      "Genome fixed after 6 passes\n",
      "Genome fully rebuilt\n",
      "Genome fixed after 3 passes\n",
      "Genome fully rebuilt\n",
      "Genome fixed after 0 passes\n",
      "Genome fully rebuilt\n",
      "Genome fully rebuilt\n",
      "Genome fixed after 0 passes\n"
     ]
    },
    {
     "name": "stderr",
     "output_type": "stream",
     "text": []
    },
    {
     "name": "stdout",
     "output_type": "stream",
     "text": [
      "Genome fixed after 0 passes\n",
      "Genome fixed after 7 passes\n",
      "Genome fully rebuilt\n",
      "Genome fixed after 2 passes\n",
      "Genome fixed after 0 passes\n",
      "Genome fixed after 4 passes\n",
      "Genome fully rebuilt\n",
      "Genome fully rebuilt\n",
      "Genome fixed after 0 passes\n"
     ]
    },
    {
     "name": "stderr",
     "output_type": "stream",
     "text": []
    },
    {
     "name": "stdout",
     "output_type": "stream",
     "text": [
      "Genome fixed after 0 passes\n",
      "Genome fixed after 1 passes\n",
      "Genome fixed after 1 passes\n",
      "Genome fixed after 0 passes\n",
      "Genome fixed after 3 passes\n",
      "Genome fixed after 1 passes\n",
      "Genome fixed after 0 passes\n",
      "Genome fully rebuilt\n",
      "Genome fixed after 0 passes\n",
      "Genome fixed after 1 passes\n",
      "Genome fixed after 0 passes\n",
      "Genome fully rebuilt\n",
      "Genome fixed after 0 passes\n",
      "Genome fixed after 0 passes\n"
     ]
    },
    {
     "name": "stderr",
     "output_type": "stream",
     "text": [
      "\n",
      "Runnig genetic alogrithm:  63%|██████▎   | 63/100 [00:19<00:08,  4.55 generation/s]"
     ]
    },
    {
     "name": "stdout",
     "output_type": "stream",
     "text": [
      "Genome fixed after 1 passes\n",
      "Genome fixed after 0 passes\n",
      "Genome fixed after 0 passes\n",
      "Genome fixed after 0 passes\n",
      "Genome fully rebuilt\n",
      "Genome fully rebuilt\n",
      "Genome fixed after 0 passes\n"
     ]
    },
    {
     "name": "stderr",
     "output_type": "stream",
     "text": [
      "\u001b[A"
     ]
    },
    {
     "name": "stdout",
     "output_type": "stream",
     "text": [
      "Genome fixed after 2 passes\n",
      "Genome fixed after 4 passes\n",
      "Genome fixed after 0 passes\n",
      "Genome fully rebuilt\n",
      "Genome fixed after 0 passes\n",
      "Genome fully rebuilt\n"
     ]
    },
    {
     "name": "stderr",
     "output_type": "stream",
     "text": []
    },
    {
     "name": "stdout",
     "output_type": "stream",
     "text": [
      "Genome fixed after 1 passes\n",
      "Genome fully rebuilt\n",
      "Genome fully rebuilt\n",
      "Genome fully rebuilt\n",
      "Genome fully rebuilt\n",
      "Genome fixed after 0 passes\n",
      "Genome fixed after 0 passes\n",
      "Genome fully rebuilt\n",
      "Genome fixed after 1 passes\n"
     ]
    },
    {
     "name": "stderr",
     "output_type": "stream",
     "text": []
    },
    {
     "name": "stdout",
     "output_type": "stream",
     "text": [
      "Genome fully rebuilt\n",
      "Genome fixed after 3 passes\n",
      "Genome fixed after 0 passes\n",
      "Genome fixed after 0 passes\n",
      "Genome fixed after 0 passes\n",
      "Genome fixed after 0 passes\n",
      "Genome fixed after 1 passes\n"
     ]
    },
    {
     "name": "stderr",
     "output_type": "stream",
     "text": []
    },
    {
     "name": "stdout",
     "output_type": "stream",
     "text": [
      "Genome fixed after 1 passes\n",
      "Genome fixed after 4 passes\n",
      "Genome fully rebuilt\n",
      "Genome fixed after 0 passes\n",
      "Genome fixed after 0 passes\n"
     ]
    },
    {
     "name": "stderr",
     "output_type": "stream",
     "text": []
    },
    {
     "name": "stdout",
     "output_type": "stream",
     "text": [
      "Genome fixed after 0 passes\n",
      "Genome fixed after 0 passes\n",
      "Genome fixed after 4 passes\n",
      "Genome fixed after 0 passes\n"
     ]
    },
    {
     "name": "stderr",
     "output_type": "stream",
     "text": []
    },
    {
     "name": "stdout",
     "output_type": "stream",
     "text": [
      "Genome fully rebuilt\n",
      "Genome fixed after 4 passes\n",
      "Genome fixed after 8 passes\n",
      "Genome fixed after"
     ]
    },
    {
     "name": "stderr",
     "output_type": "stream",
     "text": [
      "\n"
     ]
    },
    {
     "name": "stdout",
     "output_type": "stream",
     "text": [
      " 0 passes\n"
     ]
    },
    {
     "name": "stderr",
     "output_type": "stream",
     "text": [
      "Runnig genetic alogrithm:  74%|███████▍  | 74/100 [00:22<00:10,  2.43 generation/s]\u001b[A"
     ]
    },
    {
     "name": "stdout",
     "output_type": "stream",
     "text": [
      "Genome fixed after 0 passes\n",
      "Genome fixed after 0 passes\n",
      "Genome fixed after 6 passes\n",
      "Genome fixed after 0 passes\n",
      "Genome fixed after 2 passes\n"
     ]
    },
    {
     "name": "stderr",
     "output_type": "stream",
     "text": [
      "\n"
     ]
    },
    {
     "name": "stdout",
     "output_type": "stream",
     "text": [
      "Genome fixed after 3 passes\n",
      "Genome fixed after 0 passes\n",
      "Genome fully rebuilt\n",
      "Genome fixed after 0 passes\n",
      "Genome fixed after 2 passes\n",
      "Genome fully rebuilt\n",
      "Genome fixed after 0 passes\n"
     ]
    },
    {
     "name": "stderr",
     "output_type": "stream",
     "text": [
      "Runnig genetic alogrithm:  79%|███████▉  | 79/100 [00:23<00:05,  3.63 generation/s]\u001b[A"
     ]
    },
    {
     "name": "stdout",
     "output_type": "stream",
     "text": [
      "Genome fixed after 4 passes\n",
      "Genome fixed after 3 passes\n",
      "Genome fixed after 0 passes\n",
      "Genome fixed after 0 passes\n"
     ]
    },
    {
     "name": "stderr",
     "output_type": "stream",
     "text": []
    },
    {
     "name": "stdout",
     "output_type": "stream",
     "text": [
      "Genome fully rebuilt\n",
      "Genome fully rebuilt\n",
      "Genome fully rebuilt\n"
     ]
    },
    {
     "name": "stderr",
     "output_type": "stream",
     "text": []
    },
    {
     "name": "stdout",
     "output_type": "stream",
     "text": [
      "Genome fully rebuilt\n",
      "Genome fully rebuilt\n",
      "Genome fully rebuilt\n",
      "Genome fully rebuilt\n",
      "Genome fixed after 2 passes\n",
      "Genome fixed after 0 passes\n",
      "Genome fixed after 0 passes\n"
     ]
    },
    {
     "name": "stderr",
     "output_type": "stream",
     "text": []
    },
    {
     "name": "stdout",
     "output_type": "stream",
     "text": [
      "Genome fixed after 4 passes\n",
      "Genome fully rebuilt\n",
      "Genome fixed after 0 passes\n",
      "Genome fixed after 0 passes\n"
     ]
    },
    {
     "name": "stderr",
     "output_type": "stream",
     "text": []
    },
    {
     "name": "stdout",
     "output_type": "stream",
     "text": [
      "Genome fully rebuilt\n",
      "Genome fully rebuilt\n",
      "Genome fully rebuilt\n",
      "Genome fixed after 2 passes\n",
      "Genome fixed after 0 passes\n",
      "Genome fully rebuilt\n",
      "Genome fixed after 0 passes\n",
      "Genome fixed after 1 passes\n",
      "Genome fully rebuilt\n",
      "Genome fixed after 0 passes\n",
      "Genome fully rebuilt\n",
      "Genome fixed after 0 passes\n",
      "Genome fixed after 2 passes\n",
      "Genome fully rebuilt\n"
     ]
    },
    {
     "name": "stderr",
     "output_type": "stream",
     "text": []
    },
    {
     "name": "stdout",
     "output_type": "stream",
     "text": [
      "Genome fixed after 0 passes\n",
      "Genome fully rebuilt\n",
      "Genome fully rebuilt\n",
      "Genome fully rebuilt\n"
     ]
    },
    {
     "name": "stderr",
     "output_type": "stream",
     "text": []
    },
    {
     "name": "stdout",
     "output_type": "stream",
     "text": [
      "Genome fixed after 0 passes\n",
      "Genome fixed after 0 passes\n"
     ]
    },
    {
     "name": "stderr",
     "output_type": "stream",
     "text": []
    },
    {
     "name": "stdout",
     "output_type": "stream",
     "text": [
      "Genome fixed after 5 passes\n",
      "Genome fixed after 4 passes\n"
     ]
    },
    {
     "name": "stderr",
     "output_type": "stream",
     "text": []
    },
    {
     "name": "stdout",
     "output_type": "stream",
     "text": [
      "Genome fixed after 1 passes\n",
      "Genome fixed after 0 passes\n",
      "Genome fully rebuilt\n",
      "Genome fixed after 8 passes\n",
      "Genome fixed after 0 passes\n",
      "Genome fixed after 0 passes\n"
     ]
    },
    {
     "name": "stderr",
     "output_type": "stream",
     "text": []
    },
    {
     "name": "stdout",
     "output_type": "stream",
     "text": [
      "Genome fixed after 5 passes\n",
      "Genome fixed after 4 passes\n",
      "Genome fully rebuilt\n",
      "Genome fully rebuilt\n",
      "Genome fixed after 0 passes\n"
     ]
    },
    {
     "name": "stderr",
     "output_type": "stream",
     "text": []
    },
    {
     "name": "stdout",
     "output_type": "stream",
     "text": [
      "Genome fixed after 0 passes\n",
      "Genome fully rebuilt\n",
      "Genome fixed after 0 passes\n",
      "Genome fully rebuilt\n"
     ]
    },
    {
     "name": "stderr",
     "output_type": "stream",
     "text": []
    },
    {
     "name": "stdout",
     "output_type": "stream",
     "text": [
      "Genome fully rebuilt\n"
     ]
    },
    {
     "name": "stderr",
     "output_type": "stream",
     "text": []
    },
    {
     "name": "stdout",
     "output_type": "stream",
     "text": [
      "Genome fixed after 5 passes\n",
      "Genome fully rebuilt\n"
     ]
    },
    {
     "name": "stderr",
     "output_type": "stream",
     "text": []
    },
    {
     "name": "stdout",
     "output_type": "stream",
     "text": [
      "Genome fixed after 0 passes\n",
      "Genome fixed after 0 passes\n",
      "Genome fixed after 0 passes\n",
      "Genome fixed after 8 passes\n"
     ]
    },
    {
     "name": "stderr",
     "output_type": "stream",
     "text": []
    },
    {
     "name": "stdout",
     "output_type": "stream",
     "text": [
      "Genome fixed after 5 passes\n",
      "Genome fixed after 0 passes\n",
      "Genome fixed after 0 passes\n",
      "Genome fixed after 2 passes\n"
     ]
    },
    {
     "name": "stderr",
     "output_type": "stream",
     "text": []
    },
    {
     "name": "stdout",
     "output_type": "stream",
     "text": [
      "Genome fixed after 0 passes\n",
      "Genome fixed after 0 passes\n",
      "Genome fixed after 0 passes\n",
      "Genome fully rebuilt\n"
     ]
    },
    {
     "name": "stderr",
     "output_type": "stream",
     "text": []
    },
    {
     "name": "stdout",
     "output_type": "stream",
     "text": [
      "Genome fixed after 0 passes\n",
      "Genome fixed after 0 passes\n",
      "Genome fixed after 3 passes\n",
      "Genome fixed after 0 passes\n"
     ]
    },
    {
     "name": "stderr",
     "output_type": "stream",
     "text": []
    },
    {
     "name": "stdout",
     "output_type": "stream",
     "text": [
      "Genome fully rebuilt\n",
      "Genome fixed after 2 passes\n",
      "Genome fully rebuilt\n",
      "Genome fixed after 0 passes\n",
      "Genome fixed after 4 passes\n",
      "Genome fixed after 2 passes\n",
      "Genome fixed after 4 passes\n",
      "Genome fixed after 0 passes\n",
      "Genome fixed after 4 passes\n",
      "Genome fully rebuilt\n",
      "Genome fully rebuilt\n"
     ]
    },
    {
     "name": "stderr",
     "output_type": "stream",
     "text": [
      "Runnig genetic alogrithm: 100%|██████████| 100/100 [00:31<00:00,  3.17 generation/s]\n",
      "Running grid search:   4%|▎         | 7/192 [04:21<2:06:35, 41.06s/ combination]"
     ]
    },
    {
     "name": "stdout",
     "output_type": "stream",
     "text": [
      "Genome fixed after 0 passes\n",
      "Genome fixed after 0 passes\n",
      "Genome fully rebuilt\n",
      "Genome fully rebuilt\n",
      "Genome fully rebuilt\n",
      "Genome fixed after 3 passes\n",
      "Genome fully rebuilt\n",
      "Genome fully rebuilt\n",
      "Genome fixed after 1 passes\n",
      "Genome fully rebuilt\n",
      "Genome fixed after 1 passes\n"
     ]
    },
    {
     "name": "stderr",
     "output_type": "stream",
     "text": []
    },
    {
     "name": "stdout",
     "output_type": "stream",
     "text": [
      "Genome fully rebuilt\n",
      "Genome fully rebuilt\n",
      "Genome fully rebuilt\n",
      "Genome fully rebuilt\n",
      "Genome fixed after 0 passes\n"
     ]
    },
    {
     "name": "stderr",
     "output_type": "stream",
     "text": []
    },
    {
     "name": "stdout",
     "output_type": "stream",
     "text": [
      "Genome fixed after 2 passes\n",
      "Genome fixed after 3 passes\n",
      "Genome fixed after 5 passes\n",
      "Genome fully rebuilt\n",
      "Genome fully rebuilt\n",
      "Genome fixed after 0 passes\n",
      "Genome fully rebuilt\n"
     ]
    },
    {
     "name": "stderr",
     "output_type": "stream",
     "text": []
    },
    {
     "name": "stdout",
     "output_type": "stream",
     "text": [
      "Genome fixed after 0 passes\n",
      "Genome fully rebuilt\n",
      "Genome fully rebuilt\n",
      "Genome fully rebuilt\n",
      "Genome fixed after 2 passes\n",
      "Genome fully rebuilt\n",
      "Genome fixed after 2 passes\n",
      "Genome fixed after 0 passes\n",
      "Genome fully rebuilt\n"
     ]
    },
    {
     "name": "stderr",
     "output_type": "stream",
     "text": []
    },
    {
     "name": "stdout",
     "output_type": "stream",
     "text": [
      "Genome fully rebuilt\n",
      "Genome fully rebuilt\n",
      "Genome fixed after 8 passes\n",
      "Genome fully rebuilt\n",
      "Genome fixed after 0 passes\n",
      "Genome fixed after 1 passes\n",
      "Genome fixed after 0 passes\n",
      "Genome fixed after 0 passes\n"
     ]
    },
    {
     "name": "stderr",
     "output_type": "stream",
     "text": []
    },
    {
     "name": "stdout",
     "output_type": "stream",
     "text": [
      "Genome fully rebuilt\n",
      "Genome fixed after 4 passes\n",
      "Genome fully rebuilt\n",
      "Genome fixed after 6 passes\n",
      "Genome fixed after 0 passes\n",
      "Genome fixed after 0 passes\n"
     ]
    },
    {
     "name": "stderr",
     "output_type": "stream",
     "text": []
    },
    {
     "name": "stdout",
     "output_type": "stream",
     "text": [
      "Genome fully rebuilt\n",
      "Genome fixed after 1 passes\n",
      "Genome fixed after 0 passes\n",
      "Genome fixed after 0 passes\n",
      "Genome fixed after 9 passes\n",
      "Genome fixed after 0 passes\n",
      "Genome fixed after 0 passes\n",
      "Genome fixed after 0 passes\n",
      "Genome fixed after 0 passes\n",
      "Genome fully rebuilt\n",
      "Genome fixed after 0 passes\n",
      "Genome fixed after 0 passes\n",
      "Genome fixed after 0 passes\n"
     ]
    },
    {
     "name": "stderr",
     "output_type": "stream",
     "text": []
    },
    {
     "name": "stdout",
     "output_type": "stream",
     "text": [
      "Genome fixed after 0 passes\n",
      "Genome fixed after 0 passes\n",
      "Genome fixed after 1 passes\n",
      "Genome fixed after 0 passes\n",
      "Genome fully rebuilt\n",
      "Genome fixed after 0 passes\n",
      "Genome fixed after 0 passes\n",
      "Genome fixed after 7 passes\n"
     ]
    },
    {
     "name": "stderr",
     "output_type": "stream",
     "text": []
    },
    {
     "name": "stdout",
     "output_type": "stream",
     "text": [
      "Genome fully rebuilt\n",
      "Genome fully rebuilt\n",
      "Genome fully rebuilt\n",
      "Genome fixed after 0 passes\n",
      "Genome fixed after 0 passes\n",
      "Genome fully rebuilt\n"
     ]
    },
    {
     "name": "stderr",
     "output_type": "stream",
     "text": []
    },
    {
     "name": "stdout",
     "output_type": "stream",
     "text": [
      "Genome fixed after 5 passes\n",
      "Genome fixed after 0 passes\n",
      "Genome fixed after 0 passes\n",
      "Genome fully rebuilt\n"
     ]
    },
    {
     "name": "stderr",
     "output_type": "stream",
     "text": []
    },
    {
     "name": "stdout",
     "output_type": "stream",
     "text": [
      "Genome fixed after 0 passes\n",
      "Genome fully rebuilt\n",
      "Genome fully rebuilt\n",
      "Genome fixed after 0 passes\n",
      "Genome fixed after 2 passes\n",
      "Genome fixed after 6 passes\n",
      "Genome fixed after 0 passes\n",
      "Genome fully rebuilt\n",
      "Genome fixed after 0 passes\n"
     ]
    },
    {
     "name": "stderr",
     "output_type": "stream",
     "text": []
    },
    {
     "name": "stdout",
     "output_type": "stream",
     "text": [
      "Genome fully rebuilt\n",
      "Genome fixed after 1 passes\n",
      "Genome fixed after 4 passes\n",
      "Genome fully rebuilt\n",
      "Genome fixed after 0 passes\n",
      "Genome fixed after 4 passes\n",
      "Genome fixed after 5 passes\n",
      "Genome fixed after 6 passes\n",
      "Genome fixed after 1 passes\n"
     ]
    },
    {
     "name": "stderr",
     "output_type": "stream",
     "text": []
    },
    {
     "name": "stdout",
     "output_type": "stream",
     "text": [
      "Genome fully rebuilt\n",
      "Genome fixed after 2 passes\n",
      "Genome fixed after 6 passes\n",
      "Genome fully rebuilt\n",
      "Genome fully rebuilt\n",
      "Genome fixed after 9 passes\n",
      "Genome fully rebuilt\n",
      "Genome fixed after 0 passes\n"
     ]
    },
    {
     "name": "stderr",
     "output_type": "stream",
     "text": []
    },
    {
     "name": "stdout",
     "output_type": "stream",
     "text": [
      "Genome fixed after 2 passes\n",
      "Genome fixed after 0 passes\n",
      "Genome fixed after 5 passes\n",
      "Genome fully rebuilt\n",
      "Genome fixed after 5 passes\n",
      "Genome fixed after 0 passes\n"
     ]
    },
    {
     "name": "stderr",
     "output_type": "stream",
     "text": []
    },
    {
     "name": "stdout",
     "output_type": "stream",
     "text": [
      "Genome fully rebuilt\n",
      "Genome fully rebuilt\n",
      "Genome fixed after 6 passes\n",
      "Genome fixed after 1 passes\n"
     ]
    },
    {
     "name": "stderr",
     "output_type": "stream",
     "text": []
    },
    {
     "name": "stdout",
     "output_type": "stream",
     "text": [
      "Genome fully rebuilt\n",
      "Genome fixed after 0 passes\n",
      "Genome fixed after 0 passes\n",
      "Genome fixed after 2 passes\n",
      "Genome fully rebuilt\n",
      "Genome fixed after 0 passes\n"
     ]
    },
    {
     "name": "stderr",
     "output_type": "stream",
     "text": []
    },
    {
     "name": "stdout",
     "output_type": "stream",
     "text": [
      "Genome fully rebuilt\n",
      "Genome fixed after 0 passes\n",
      "Genome fixed after 6 passes\n",
      "Genome fully rebuilt\n"
     ]
    },
    {
     "name": "stderr",
     "output_type": "stream",
     "text": []
    },
    {
     "name": "stdout",
     "output_type": "stream",
     "text": [
      "Genome fixed after 0 passes\n",
      "Genome fixed after 0 passes\n",
      "Genome fixed after 0 passes\n",
      "Genome fixed after 0 passes\n",
      "Genome fixed after 0 passes\n",
      "Genome fixed after 0 passes\n",
      "Genome fixed after 0 passes\n",
      "Genome fixed after 2 passes\n",
      "Genome fully rebuilt\n",
      "Genome fully rebuilt\n",
      "Genome fixed after 0 passes\n",
      "Genome fixed after 0 passes\n",
      "Genome fixed after 0 passes\n",
      "Genome fixed after 0 passes\n",
      "Genome fully rebuilt\n",
      "Genome fixed after 0 passes\n"
     ]
    },
    {
     "name": "stderr",
     "output_type": "stream",
     "text": []
    },
    {
     "name": "stdout",
     "output_type": "stream",
     "text": [
      "Genome fixed after 0 passes\n",
      "Genome fixed after 0 passes\n",
      "Genome fully rebuilt\n",
      "Genome fully rebuilt\n",
      "Genome fixed after 0 passes\n",
      "Genome fixed after 0 passes\n",
      "Genome fixed after 0 passes\n",
      "Genome fixed after 7 passes\n",
      "Genome fixed after 1 passes\n",
      "Genome fixed after 0 passes\n",
      "Genome fully rebuilt\n"
     ]
    },
    {
     "name": "stderr",
     "output_type": "stream",
     "text": []
    },
    {
     "name": "stdout",
     "output_type": "stream",
     "text": [
      "Genome fully rebuilt\n",
      "Genome fixed after 0 passes\n",
      "Genome fully rebuilt\n",
      "Genome fully rebuilt\n",
      "Genome fixed after 0 passes\n",
      "Genome fully rebuilt\n",
      "Genome fixed after 0 passes\n",
      "Genome fixed after 0 passes\n",
      "Genome fixed after 0 passes\n"
     ]
    },
    {
     "name": "stderr",
     "output_type": "stream",
     "text": []
    },
    {
     "name": "stdout",
     "output_type": "stream",
     "text": [
      "Genome fully rebuilt\n",
      "Genome fixed after 0 passes\n",
      "Genome fixed after 0 passes\n",
      "Genome fixed after 0 passes\n",
      "Genome fixed after 0 passes\n"
     ]
    },
    {
     "name": "stderr",
     "output_type": "stream",
     "text": []
    },
    {
     "name": "stdout",
     "output_type": "stream",
     "text": [
      "Genome fixed after 4 passes\n",
      "Genome fixed after 0 passes\n",
      "Genome fully rebuilt\n",
      "Genome fully rebuilt\n",
      "Genome fully rebuilt\n"
     ]
    },
    {
     "name": "stderr",
     "output_type": "stream",
     "text": []
    },
    {
     "name": "stdout",
     "output_type": "stream",
     "text": [
      "Genome fixed after 0 passes\n",
      "Genome fixed after 0 passes\n",
      "Genome fully rebuilt\n",
      "Genome fixed after 3 passes\n"
     ]
    },
    {
     "name": "stderr",
     "output_type": "stream",
     "text": []
    },
    {
     "name": "stdout",
     "output_type": "stream",
     "text": [
      "Genome fully rebuilt\n",
      "Genome fully rebuilt\n",
      "Genome fixed after 0 passes\n",
      "Genome fixed after 0 passes\n",
      "Genome fixed after 0 passes\n"
     ]
    },
    {
     "name": "stderr",
     "output_type": "stream",
     "text": []
    },
    {
     "name": "stdout",
     "output_type": "stream",
     "text": [
      "Genome fixed after 0 passes\n",
      "Genome fixed after 3 passes\n",
      "Genome fixed after 0 passes\n",
      "Genome fixed after 0 passes\n",
      "Genome fixed after 0 passes\n",
      "Genome fixed after 0 passes\n",
      "Genome fully rebuilt\n",
      "Genome fixed after 0 passes\n",
      "Genome fixed after 0 passes\n",
      "Genome fully rebuilt\n",
      "Genome fixed after 1 passes\n",
      "Genome fixed after 0 passes\n"
     ]
    },
    {
     "name": "stderr",
     "output_type": "stream",
     "text": []
    },
    {
     "name": "stdout",
     "output_type": "stream",
     "text": [
      "Genome fixed after 0 passes\n",
      "Genome fixed after 0 passes\n",
      "Genome fixed after 0 passes\n",
      "Genome fixed after 2 passes\n",
      "Genome fixed after 0 passes\n",
      "Genome fixed after 0 passes\n",
      "Genome fixed after 3 passes\n",
      "Genome fully rebuilt\n",
      "Genome fully rebuilt\n"
     ]
    },
    {
     "name": "stderr",
     "output_type": "stream",
     "text": []
    },
    {
     "name": "stdout",
     "output_type": "stream",
     "text": [
      "Genome fixed after 4 passes\n",
      "Genome fixed after 0 passes\n",
      "Genome fully rebuilt\n",
      "Genome fixed after 0 passes\n",
      "Genome fully rebuilt\n",
      "Genome fixed after 1 passes\n",
      "Genome fixed after 4 passes\n",
      "Genome fixed after 0 passes\n",
      "Genome fixed after 0 passes\n"
     ]
    },
    {
     "name": "stderr",
     "output_type": "stream",
     "text": [
      "\n",
      "Runnig genetic alogrithm:  47%|████▋     | 47/100 [00:08<00:09,  5.35 generation/s]"
     ]
    },
    {
     "name": "stdout",
     "output_type": "stream",
     "text": [
      "Genome fixed after 0 passes\n",
      "Genome fixed after 0 passes\n",
      "Genome fixed after 0 passes\n",
      "Genome fixed after 0 passes\n",
      "Genome fixed after 0 passes\n",
      "Genome fixed after 0 passes\n",
      "Genome fully rebuilt\n"
     ]
    },
    {
     "name": "stderr",
     "output_type": "stream",
     "text": [
      "\u001b[A"
     ]
    },
    {
     "name": "stdout",
     "output_type": "stream",
     "text": [
      "Genome fixed after 0 passes\n",
      "Genome fixed after 0 passes\n",
      "Genome fixed after 0 passes\n",
      "Genome fixed after 0 passes\n",
      "Genome fixed after 4 passes\n",
      "Genome fixed after 0 passes\n",
      "Genome fixed after 0 passes\n",
      "Genome fixed after 0 passes\n",
      "Genome fixed after 0 passes\n",
      "Genome fixed after 5 passes\n",
      "Genome fixed after 4 passes\n"
     ]
    },
    {
     "name": "stderr",
     "output_type": "stream",
     "text": []
    },
    {
     "name": "stdout",
     "output_type": "stream",
     "text": [
      "Genome fully rebuilt\n",
      "Genome fully rebuilt\n",
      "Genome fixed after 0 passes\n",
      "Genome fixed after 0 passes\n",
      "Genome fixed after 0 passes\n",
      "Genome fixed after 2 passes\n",
      "Genome fully rebuilt\n",
      "Genome fixed after 0 passes\n",
      "Genome fixed after 2 passes\n",
      "Genome fixed after 0 passes\n",
      "Genome fully rebuilt\n",
      "Genome fully rebuilt\n",
      "Genome fully rebuilt\n"
     ]
    },
    {
     "name": "stderr",
     "output_type": "stream",
     "text": []
    },
    {
     "name": "stdout",
     "output_type": "stream",
     "text": [
      "Genome fixed after 0 passes\n",
      "Genome fixed after 4 passes\n",
      "Genome fixed after 3 passes\n",
      "Genome fixed after 0 passes\n",
      "Genome fully rebuilt\n",
      "Genome fixed after 0 passes\n",
      "Genome fully rebuilt\n",
      "Genome fixed after 3 passes\n",
      "Genome fixed after 0 passes\n",
      "Genome fixed after 0 passes\n",
      "Genome fixed after 0 passes\n",
      "Genome fixed after 5 passes\n",
      "Genome fixed after 8 passes\n",
      "Genome fixed after 0 passes\n",
      "Genome fixed after 8 passes\n",
      "Genome fully rebuilt\n",
      "Genome fixed after 0 passes\n",
      "Genome fixed after 9 passes\n",
      "Genome fixed after 0 passes\n",
      "Genome fully rebuilt\n",
      "Genome fixed after 0 passes\n"
     ]
    },
    {
     "name": "stderr",
     "output_type": "stream",
     "text": []
    },
    {
     "name": "stdout",
     "output_type": "stream",
     "text": [
      "Genome fixed after 0 passes\n",
      "Genome fixed after 0 passes\n",
      "Genome fixed after 5 passes\n",
      "Genome fixed after 8 passes\n",
      "Genome fixed after 0 passes\n",
      "Genome fixed after 0 passes\n",
      "Genome fixed after 0 passes\n",
      "Genome fixed after 0 passes\n",
      "Genome fixed after 0 passes\n",
      "Genome fixed after 3 passes\n"
     ]
    },
    {
     "name": "stderr",
     "output_type": "stream",
     "text": []
    },
    {
     "name": "stdout",
     "output_type": "stream",
     "text": [
      "Genome fixed after 4 passes\n",
      "Genome fixed after 0 passes\n",
      "Genome fully rebuilt\n",
      "Genome fixed after 0 passes\n",
      "Genome fully rebuilt\n",
      "Genome fixed after 2 passes\n",
      "Genome fully rebuilt\n",
      "Genome fixed after 0 passes\n",
      "Genome fixed after 0 passes\n",
      "Genome fixed after 0 passes\n"
     ]
    },
    {
     "name": "stderr",
     "output_type": "stream",
     "text": []
    },
    {
     "name": "stdout",
     "output_type": "stream",
     "text": [
      "Genome fully rebuilt\n",
      "Genome fixed after 0 passes\n",
      "Genome fixed after 4 passes\n",
      "Genome fixed after 0 passes\n",
      "Genome fixed after 3 passes\n",
      "Genome fully rebuilt\n",
      "Genome fully rebuilt\n",
      "Genome fully rebuilt\n"
     ]
    },
    {
     "name": "stderr",
     "output_type": "stream",
     "text": []
    },
    {
     "name": "stdout",
     "output_type": "stream",
     "text": [
      "Genome fixed after 6 passes\n",
      "Genome fixed after 6 passes\n",
      "Genome fixed after 0 passes\n",
      "Genome fixed after 0 passes\n",
      "Genome fully rebuilt\n",
      "Genome fully rebuilt\n",
      "Genome fixed after 0 passes\n",
      "Genome fully rebuilt\n"
     ]
    },
    {
     "name": "stderr",
     "output_type": "stream",
     "text": []
    },
    {
     "name": "stdout",
     "output_type": "stream",
     "text": [
      "Genome fully rebuilt\n",
      "Genome fully rebuilt\n",
      "Genome fixed after 8 passes\n",
      "Genome fixed after 1 passes\n",
      "Genome fixed after 0 passes\n",
      "Genome fully rebuilt\n",
      "Genome fixed after 1 passes\n",
      "Genome fixed after 6 passes\n",
      "Genome fixed after 1 passes\n"
     ]
    },
    {
     "name": "stderr",
     "output_type": "stream",
     "text": []
    },
    {
     "name": "stdout",
     "output_type": "stream",
     "text": [
      "Genome fixed after 7 passes\n",
      "Genome fixed after 0 passes\n",
      "Genome fixed after 0 passes\n",
      "Genome fully rebuilt\n",
      "Genome fixed after 2 passes\n",
      "Genome fully rebuilt\n",
      "Genome fully rebuilt\n",
      "Genome fixed after 5 passes\n",
      "Genome fully rebuilt\n",
      "Genome fixed after 4 passes\n"
     ]
    },
    {
     "name": "stderr",
     "output_type": "stream",
     "text": []
    },
    {
     "name": "stdout",
     "output_type": "stream",
     "text": [
      "Genome fixed after 0 passes\n",
      "Genome fully rebuilt\n",
      "Genome fully rebuilt\n",
      "Genome fixed after 3 passes\n",
      "Genome fixed after 0 passes\n",
      "Genome fully rebuilt\n",
      "Genome fixed after 0 passes\n",
      "Genome fixed after 2 passes\n",
      "Genome fixed after 9 passes\n",
      "Genome fully rebuilt\n",
      "Genome fixed after 2 passes\n",
      "Genome fixed after 1 passes\n",
      "Genome fixed after 8 passes\n"
     ]
    },
    {
     "name": "stderr",
     "output_type": "stream",
     "text": []
    },
    {
     "name": "stdout",
     "output_type": "stream",
     "text": [
      "Genome fully rebuilt\n",
      "Genome fully rebuilt\n",
      "Genome fixed after 3 passes\n",
      "Genome fixed after 0 passes\n",
      "Genome fixed after 6 passes\n",
      "Genome fully rebuilt\n",
      "Genome fixed after 7 passes\n",
      "Genome fixed after 1 passes\n",
      "Genome fixed after 0 passes\n",
      "Genome fixed after 5 passes\n",
      "Genome fully rebuilt\n",
      "Genome fixed after 3 passes\n",
      "Genome fixed after 8 passes\n",
      "Genome fully rebuilt\n"
     ]
    },
    {
     "name": "stderr",
     "output_type": "stream",
     "text": []
    },
    {
     "name": "stdout",
     "output_type": "stream",
     "text": [
      "Genome fully rebuilt\n",
      "Genome fully rebuilt\n",
      "Genome fixed after 0 passes\n",
      "Genome fixed after 0 passes\n"
     ]
    },
    {
     "name": "stderr",
     "output_type": "stream",
     "text": []
    },
    {
     "name": "stdout",
     "output_type": "stream",
     "text": [
      "Genome fixed after 3 passes\n",
      "Genome fixed after 0 passes\n",
      "Genome fixed after 0 passes\n",
      "Genome fixed after 0 passes\n",
      "Genome fixed after 0 passes\n"
     ]
    },
    {
     "name": "stderr",
     "output_type": "stream",
     "text": []
    },
    {
     "name": "stdout",
     "output_type": "stream",
     "text": [
      "Genome fully rebuilt\n",
      "Genome fixed after 0 passes\n"
     ]
    },
    {
     "name": "stderr",
     "output_type": "stream",
     "text": []
    },
    {
     "name": "stdout",
     "output_type": "stream",
     "text": [
      "Genome fully rebuilt\n",
      "Genome fixed after 1 passes\n",
      "Genome fixed after 3 passes\n",
      "Genome fixed after 0 passes\n",
      "Genome fixed after 0 passes\n",
      "Genome fully rebuilt\n"
     ]
    },
    {
     "name": "stderr",
     "output_type": "stream",
     "text": [
      "\n"
     ]
    },
    {
     "name": "stdout",
     "output_type": "stream",
     "text": [
      "Genome fully rebuilt\n",
      "Genome fixed after 0 passes\n"
     ]
    },
    {
     "name": "stderr",
     "output_type": "stream",
     "text": [
      "Runnig genetic alogrithm:  71%|███████   | 71/100 [00:14<00:10,  2.76 generation/s]\u001b[A"
     ]
    },
    {
     "name": "stdout",
     "output_type": "stream",
     "text": [
      "Genome fixed after 0 passes\n",
      "Genome fixed after 0 passes\n",
      "Genome fully rebuilt\n",
      "Genome fixed after 0 passes\n",
      "Genome fixed after 2 passes\n",
      "Genome fixed after 3 passes\n"
     ]
    },
    {
     "name": "stderr",
     "output_type": "stream",
     "text": []
    },
    {
     "name": "stdout",
     "output_type": "stream",
     "text": [
      "Genome fixed after 2 passes\n",
      "Genome fully rebuilt\n",
      "Genome fixed after 0 passes\n",
      "Genome fixed after 1 passes\n",
      "Genome fixed after 0 passes\n",
      "Genome fully rebuilt\n",
      "Genome fixed after 4 passes\n",
      "Genome fully rebuilt\n",
      "Genome fully rebuilt\n",
      "Genome fixed after 0 passes\n",
      "Genome fully rebuilt\n",
      "Genome fixed after 1 passes\n"
     ]
    },
    {
     "name": "stderr",
     "output_type": "stream",
     "text": [
      "\n"
     ]
    },
    {
     "name": "stdout",
     "output_type": "stream",
     "text": [
      "Genome fixed after 4 passes\n",
      "Genome fixed after 0 passes\n",
      "Genome fully rebuilt\n",
      "Genome fully rebuilt\n",
      "Genome fixed after 0 passes\n",
      "Genome fully rebuilt\n",
      "Genome fully rebuilt\n"
     ]
    },
    {
     "name": "stderr",
     "output_type": "stream",
     "text": [
      "Runnig genetic alogrithm:  74%|███████▍  | 74/100 [00:15<00:08,  3.22 generation/s]\u001b[A"
     ]
    },
    {
     "name": "stdout",
     "output_type": "stream",
     "text": [
      "Genome fixed after 7 passes\n",
      "Genome fixed after 3 passes\n",
      "Genome fully rebuilt\n",
      "Genome fixed after 0 passes\n",
      "Genome fixed after 0 passes\n",
      "Genome fixed after 0 passes\n",
      "Genome fixed after 0 passes\n",
      "Genome fixed after 0 passes\n",
      "Genome fixed after 0 passes\n",
      "Genome fixed after 3 passes\n",
      "Genome fully rebuilt\n"
     ]
    },
    {
     "name": "stderr",
     "output_type": "stream",
     "text": []
    },
    {
     "name": "stdout",
     "output_type": "stream",
     "text": [
      "Genome fixed after 2 passes\n",
      "Genome fixed after 4 passes\n",
      "Genome fixed after 0 passes\n",
      "Genome fixed after 4 passes\n",
      "Genome fully rebuilt\n"
     ]
    },
    {
     "name": "stderr",
     "output_type": "stream",
     "text": [
      "\n",
      "Runnig genetic alogrithm:  79%|███████▉  | 79/100 [00:17<00:08,  2.54 generation/s]"
     ]
    },
    {
     "name": "stdout",
     "output_type": "stream",
     "text": [
      "Genome fully rebuilt\n",
      "Genome fully rebuilt\n"
     ]
    },
    {
     "name": "stderr",
     "output_type": "stream",
     "text": [
      "\u001b[A"
     ]
    },
    {
     "name": "stdout",
     "output_type": "stream",
     "text": [
      "Genome fixed after 0 passes\n",
      "Genome fixed after 3 passes\n",
      "Genome fully rebuilt\n",
      "Genome fixed after 8 passes\n",
      "Genome fully rebuilt\n",
      "Genome fixed after 6 passes\n"
     ]
    },
    {
     "name": "stderr",
     "output_type": "stream",
     "text": []
    },
    {
     "name": "stdout",
     "output_type": "stream",
     "text": [
      "Genome fixed after 0 passes\n",
      "Genome fixed after 0 passes\n",
      "Genome fixed after 5 passes\n",
      "Genome fixed after 0 passes\n",
      "Genome fully rebuilt\n",
      "Genome fully rebuilt\n",
      "Genome fully rebuilt\n",
      "Genome fully rebuilt\n",
      "Genome fixed after 0 passes\n",
      "Genome fixed after 0 passes\n",
      "Genome fully rebuilt\n"
     ]
    },
    {
     "name": "stderr",
     "output_type": "stream",
     "text": []
    },
    {
     "name": "stdout",
     "output_type": "stream",
     "text": [
      "Genome fully rebuilt\n",
      "Genome fixed after 0 passes\n",
      "Genome fixed after 3 passes\n",
      "Genome fixed after 0 passes\n",
      "Genome fixed after 0 passes\n",
      "Genome fixed after 2 passes\n",
      "Genome fixed after 0 passes\n",
      "Genome fixed after 5 passes\n"
     ]
    },
    {
     "name": "stderr",
     "output_type": "stream",
     "text": []
    },
    {
     "name": "stdout",
     "output_type": "stream",
     "text": [
      "Genome fixed after 9 passes\n",
      "Genome fully rebuilt\n",
      "Genome fixed after 0 passes\n",
      "Genome fully rebuilt\n",
      "Genome fixed after 1 passes\n",
      "Genome fixed after 0 passes\n",
      "Genome fixed after 0 passes\n",
      "Genome fixed after 0 passes\n",
      "Genome fixed after 0 passes\n"
     ]
    },
    {
     "name": "stderr",
     "output_type": "stream",
     "text": []
    },
    {
     "name": "stdout",
     "output_type": "stream",
     "text": [
      "Genome fully rebuilt\n",
      "Genome fixed after 2 passes\n",
      "Genome fully rebuilt\n",
      "Genome fixed after 0 passes\n",
      "Genome fully rebuilt\n",
      "Genome fixed after 0 passes\n",
      "Genome fully rebuilt\n",
      "Genome fully rebuilt\n",
      "Genome fully rebuilt\n",
      "Genome fixed after 2 passes\n",
      "Genome fixed after 0 passes\n"
     ]
    },
    {
     "name": "stderr",
     "output_type": "stream",
     "text": []
    },
    {
     "name": "stdout",
     "output_type": "stream",
     "text": [
      "Genome fully rebuilt\n",
      "Genome fixed after 3 passes\n",
      "Genome fixed after 7 passes\n",
      "Genome fully rebuilt\n",
      "Genome fully rebuilt\n",
      "Genome fixed after 0 passes\n",
      "Genome fixed after 6 passes\n"
     ]
    },
    {
     "name": "stderr",
     "output_type": "stream",
     "text": []
    },
    {
     "name": "stdout",
     "output_type": "stream",
     "text": [
      "Genome fully rebuilt\n",
      "Genome fixed after 0 passes\n",
      "Genome fixed after 0 passes\n"
     ]
    },
    {
     "name": "stderr",
     "output_type": "stream",
     "text": []
    },
    {
     "name": "stdout",
     "output_type": "stream",
     "text": [
      "Genome fixed after 6 passes\n",
      "Genome fixed after 3 passes\n"
     ]
    },
    {
     "name": "stderr",
     "output_type": "stream",
     "text": []
    },
    {
     "name": "stdout",
     "output_type": "stream",
     "text": [
      "Genome fixed after 5 passes\n",
      "Genome fixed after 3 passes\n",
      "Genome fixed after 4 passes\n",
      "Genome fixed after 3 passes\n"
     ]
    },
    {
     "name": "stderr",
     "output_type": "stream",
     "text": []
    },
    {
     "name": "stdout",
     "output_type": "stream",
     "text": [
      "Genome fixed after 0 passes\n",
      "Genome fixed after 0 passes\n",
      "Genome fixed after 0 passes\n",
      "Genome fully rebuilt\n",
      "Genome fully rebuilt\n",
      "Genome fixed after 0 passes\n",
      "Genome fixed after 0 passes\n",
      "Genome fixed after 0 passes\n",
      "Genome fixed after 0 passes\n"
     ]
    },
    {
     "name": "stderr",
     "output_type": "stream",
     "text": []
    },
    {
     "name": "stdout",
     "output_type": "stream",
     "text": [
      "Genome fixed after 0 passes\n",
      "Genome fixed after 0 passes\n",
      "Genome fixed after 0 passes\n"
     ]
    },
    {
     "name": "stderr",
     "output_type": "stream",
     "text": []
    },
    {
     "name": "stdout",
     "output_type": "stream",
     "text": [
      "Genome fixed after 1 passes\n",
      "Genome fixed after 0 passes\n",
      "Genome fixed after 0 passes\n",
      "Genome fixed after 3 passes\n",
      "Genome fully rebuilt\n"
     ]
    },
    {
     "name": "stderr",
     "output_type": "stream",
     "text": [
      "\n",
      "Runnig genetic alogrithm:  94%|█████████▍| 94/100 [00:22<00:01,  3.26 generation/s]"
     ]
    },
    {
     "name": "stdout",
     "output_type": "stream",
     "text": [
      "Genome fully rebuilt\n",
      "Genome fixed after 0 passes\n",
      "Genome fixed after 0 passes\n",
      "Genome fixed after 7 passes\n",
      "Genome fully rebuilt\n",
      "Genome fixed after 1 passes\n"
     ]
    },
    {
     "name": "stderr",
     "output_type": "stream",
     "text": [
      "\u001b[A"
     ]
    },
    {
     "name": "stdout",
     "output_type": "stream",
     "text": [
      "Genome fully rebuilt\n",
      "Genome fixed after 2 passes\n"
     ]
    },
    {
     "name": "stderr",
     "output_type": "stream",
     "text": []
    },
    {
     "name": "stdout",
     "output_type": "stream",
     "text": [
      "Genome fully rebuilt\n",
      "Genome fixed after 0 passes\n",
      "Genome fully rebuilt\n"
     ]
    },
    {
     "name": "stderr",
     "output_type": "stream",
     "text": [
      "\n",
      "Runnig genetic alogrithm:  99%|█████████▉| 99/100 [00:24<00:00,  2.88 generation/s]"
     ]
    },
    {
     "name": "stdout",
     "output_type": "stream",
     "text": [
      "Genome fully rebuilt\n",
      "Genome fixed after 0 passes\n",
      "Genome fixed after 0 passes\n"
     ]
    },
    {
     "name": "stderr",
     "output_type": "stream",
     "text": [
      "\u001b[A"
     ]
    },
    {
     "name": "stdout",
     "output_type": "stream",
     "text": [
      "Genome fully rebuilt\n",
      "Genome fully rebuilt\n",
      "Genome fixed after 7 passes\n",
      "Genome fully rebuilt\n"
     ]
    },
    {
     "name": "stderr",
     "output_type": "stream",
     "text": [
      "Runnig genetic alogrithm: 100%|██████████| 100/100 [00:24<00:00,  4.02 generation/s]\n",
      "Running grid search:   4%|▍         | 8/192 [04:46<1:50:20, 35.98s/ combination]"
     ]
    },
    {
     "name": "stdout",
     "output_type": "stream",
     "text": [
      "Genome fully rebuilt\n",
      "Genome fixed after 3 passes\n",
      "Genome fully rebuilt\n",
      "Genome fully rebuilt\n",
      "Genome fixed after 0 passes\n",
      "Genome fully rebuilt\n",
      "Genome fully rebuilt\n",
      "Genome fixed after 1 passes\n",
      "Genome fixed after 7 passes\n",
      "Genome fixed after 0 passes\n",
      "Genome fully rebuilt\n"
     ]
    },
    {
     "name": "stderr",
     "output_type": "stream",
     "text": []
    },
    {
     "name": "stdout",
     "output_type": "stream",
     "text": [
      "Genome fixed after 3 passes\n",
      "Genome fully rebuilt\n",
      "Genome fixed after 0 passes\n",
      "Genome fully rebuilt\n",
      "Genome fixed after 6 passes\n",
      "Genome fully rebuilt\n",
      "Genome fully rebuilt\n",
      "Genome fully rebuilt\n",
      "Genome fully rebuilt\n",
      "Genome fully rebuilt\n",
      "Genome fixed after 5 passes\n",
      "Genome fixed after 9 passes\n",
      "Genome fixed after 4 passes\n",
      "Genome fully rebuilt\n",
      "Genome fixed after 4 passes\n",
      "Genome fixed after 0 passes\n",
      "Genome fully rebuilt\n",
      "Genome fixed after 0 passes\n",
      "Genome fully rebuilt\n",
      "Genome fixed after 0 passes\n",
      "Genome fixed after 0 passes\n",
      "Genome fixed after 0 passes\n",
      "Genome fixed after 2 passes\n"
     ]
    },
    {
     "name": "stderr",
     "output_type": "stream",
     "text": []
    },
    {
     "name": "stdout",
     "output_type": "stream",
     "text": [
      "Genome fixed after 4 passes\n",
      "Genome fixed after 2 passes\n",
      "Genome fixed after 0 passes\n",
      "Genome fixed after 1 passes\n",
      "Genome fully rebuilt\n",
      "Genome fixed after 1 passes\n",
      "Genome fully rebuilt\n",
      "Genome fixed after 2 passes\n",
      "Genome fixed after 4 passes\n",
      "Genome fixed after 1 passes\n",
      "Genome fixed after 3 passes\n",
      "Genome fully rebuilt\n",
      "Genome fully rebuilt\n",
      "Genome fully rebuilt\n",
      "Genome fully rebuilt\n",
      "Genome fully rebuilt\n",
      "Genome fixed after 5 passes\n",
      "Genome fixed after 0 passes\n",
      "Genome fully rebuilt\n",
      "Genome fully rebuilt\n",
      "Genome fixed after 3 passes\n",
      "Genome fixed after 0 passes\n",
      "Genome fixed after 0 passes\n",
      "Genome fully rebuilt\n"
     ]
    },
    {
     "name": "stderr",
     "output_type": "stream",
     "text": []
    },
    {
     "name": "stdout",
     "output_type": "stream",
     "text": [
      "Genome fixed after 2 passes\n",
      "Genome fully rebuilt\n",
      "Genome fully rebuilt\n",
      "Genome fully rebuilt\n",
      "Genome fully rebuilt\n",
      "Genome fixed after 1 passes\n",
      "Genome fully rebuilt\n",
      "Genome fixed after 2 passes\n",
      "Genome fixed after 2 passes\n",
      "Genome fixed after 0 passes\n",
      "Genome fully rebuilt\n"
     ]
    },
    {
     "name": "stderr",
     "output_type": "stream",
     "text": []
    },
    {
     "name": "stdout",
     "output_type": "stream",
     "text": [
      "Genome fixed after 1 passes\n",
      "Genome fully rebuilt\n",
      "Genome fixed after 0 passes\n",
      "Genome fixed after 0 passes\n",
      "Genome fully rebuilt\n",
      "Genome fixed after 8 passes\n",
      "Genome fixed after 2 passes\n",
      "Genome fully rebuilt\n",
      "Genome fully rebuilt\n",
      "Genome fixed after 9 passes\n",
      "Genome fixed after 4 passes\n",
      "Genome fixed after 0 passes\n",
      "Genome fixed after 0 passes\n",
      "Genome fixed after 3 passes\n"
     ]
    },
    {
     "name": "stderr",
     "output_type": "stream",
     "text": []
    },
    {
     "name": "stdout",
     "output_type": "stream",
     "text": [
      "Genome fully rebuilt\n",
      "Genome fixed after 0 passes\n",
      "Genome fully rebuilt\n",
      "Genome fixed after 3 passes\n",
      "Genome fully rebuilt\n"
     ]
    },
    {
     "name": "stderr",
     "output_type": "stream",
     "text": []
    },
    {
     "name": "stdout",
     "output_type": "stream",
     "text": [
      "Genome fully rebuilt\n",
      "Genome fixed after 5 passes\n",
      "Genome fully rebuilt\n",
      "Genome fixed after 6 passes\n",
      "Genome fixed after 1 passes\n",
      "Genome fully rebuilt\n",
      "Genome fully rebuilt\n",
      "Genome fixed after 6 passes\n",
      "Genome fully rebuilt\n",
      "Genome fixed after 2 passes\n",
      "Genome fixed after 0 passes\n",
      "Genome fixed after 5 passes\n",
      "Genome fully rebuilt\n",
      "Genome fixed after 5 passes\n",
      "Genome fixed after 1 passes\n",
      "Genome fully rebuilt\n",
      "Genome fully rebuilt\n",
      "Genome fixed after 0 passes\n"
     ]
    },
    {
     "name": "stderr",
     "output_type": "stream",
     "text": []
    },
    {
     "name": "stdout",
     "output_type": "stream",
     "text": [
      "Genome fully rebuilt\n",
      "Genome fixed after 4 passes\n",
      "Genome fixed after 0 passes\n",
      "Genome fully rebuilt\n",
      "Genome fixed after 5 passes\n",
      "Genome fully rebuilt\n",
      "Genome fixed after 0 passes\n",
      "Genome fixed after 4 passes\n",
      "Genome fixed after 4 passes\n",
      "Genome fully rebuilt\n",
      "Genome fixed after 0 passes\n"
     ]
    },
    {
     "name": "stderr",
     "output_type": "stream",
     "text": []
    },
    {
     "name": "stdout",
     "output_type": "stream",
     "text": [
      "Genome fixed after 0 passes\n",
      "Genome fixed after 0 passes\n",
      "Genome fully rebuilt\n",
      "Genome fully rebuilt\n",
      "Genome fully rebuilt\n",
      "Genome fixed after 2 passes\n"
     ]
    },
    {
     "name": "stderr",
     "output_type": "stream",
     "text": []
    },
    {
     "name": "stdout",
     "output_type": "stream",
     "text": [
      "Genome fixed after 0 passes\n",
      "Genome fixed after 0 passes\n",
      "Genome fixed after 0 passes\n",
      "Genome fixed after 0 passes\n",
      "Genome fixed after 0 passes\n",
      "Genome fixed after 7 passes\n",
      "Genome fixed after 0 passes\n",
      "Genome fixed after 0 passes\n",
      "Genome fixed after 0 passes\n",
      "Genome fully rebuilt\n",
      "Genome fixed after 0 passes\n",
      "Genome fixed after 0 passes\n"
     ]
    },
    {
     "name": "stderr",
     "output_type": "stream",
     "text": []
    },
    {
     "name": "stdout",
     "output_type": "stream",
     "text": [
      "Genome fixed after 0 passes\n",
      "Genome fully rebuilt\n",
      "Genome fixed after 0 passes\n",
      "Genome fixed after 0 passes\n",
      "Genome fixed after 0 passes\n",
      "Genome fixed after 0 passes\n",
      "Genome fully rebuilt\n",
      "Genome fixed after 0 passes\n",
      "Genome fully rebuilt\n",
      "Genome fully rebuilt\n",
      "Genome fixed after 7 passes\n"
     ]
    },
    {
     "name": "stderr",
     "output_type": "stream",
     "text": []
    },
    {
     "name": "stdout",
     "output_type": "stream",
     "text": [
      "Genome fixed after 5 passes\n",
      "Genome fully rebuilt\n",
      "Genome fixed after 7 passes\n",
      "Genome fully rebuilt\n",
      "Genome fully rebuilt\n",
      "Genome fixed after 4 passes\n",
      "Genome fixed after 7 passes\n",
      "Genome fixed after 1 passes\n",
      "Genome fixed after 7 passes\n",
      "Genome fully rebuilt\n",
      "Genome fully rebuilt\n",
      "Genome fixed after 0 passes\n",
      "Genome fixed after 0 passes\n",
      "Genome fixed after 0 passes\n",
      "Genome fixed after 0 passes\n",
      "Genome fully rebuilt\n"
     ]
    },
    {
     "name": "stderr",
     "output_type": "stream",
     "text": []
    },
    {
     "name": "stdout",
     "output_type": "stream",
     "text": [
      "Genome fully rebuilt\n",
      "Genome fully rebuilt\n",
      "Genome fully rebuilt\n",
      "Genome fully rebuilt\n",
      "Genome fixed after 0 passes\n",
      "Genome fixed after 2 passes\n",
      "Genome fixed after 1 passes\n",
      "Genome fully rebuilt\n"
     ]
    },
    {
     "name": "stderr",
     "output_type": "stream",
     "text": []
    },
    {
     "name": "stdout",
     "output_type": "stream",
     "text": [
      "Genome fixed after 4 passes\n",
      "Genome fixed after 1 passes\n",
      "Genome fixed after 5 passes\n",
      "Genome fully rebuilt\n",
      "Genome fully rebuilt\n",
      "Genome fixed after 2 passes\n",
      "Genome fixed after 1 passes\n",
      "Genome fixed after 2 passes\n",
      "Genome fixed after 2 passes\n",
      "Genome fully rebuilt\n",
      "Genome fully rebuilt\n",
      "Genome fixed after 6 passes\n",
      "Genome fully rebuilt\n",
      "Genome fully rebuilt\n",
      "Genome fully rebuilt\n",
      "Genome fixed after 0 passes\n",
      "Genome fully rebuilt\n",
      "Genome fully rebuilt\n",
      "Genome fixed after 7 passes\n",
      "Genome fully rebuilt\n",
      "Genome fixed after 3 passes\n",
      "Genome fully rebuilt\n",
      "Genome fixed after 0 passes\n"
     ]
    },
    {
     "name": "stderr",
     "output_type": "stream",
     "text": []
    },
    {
     "name": "stdout",
     "output_type": "stream",
     "text": [
      "Genome fixed after 6 passes\n",
      "Genome fully rebuilt\n",
      "Genome fully rebuilt\n",
      "Genome fully rebuilt\n",
      "Genome fixed after 1 passes\n",
      "Genome fixed after 0 passes\n",
      "Genome fully rebuilt\n",
      "Genome fully rebuilt\n",
      "Genome fully rebuilt\n",
      "Genome fixed after 7 passes\n",
      "Genome fixed after 0 passes\n",
      "Genome fully rebuilt\n"
     ]
    },
    {
     "name": "stderr",
     "output_type": "stream",
     "text": []
    },
    {
     "name": "stdout",
     "output_type": "stream",
     "text": [
      "Genome fully rebuilt\n",
      "Genome fixed after 2 passes\n",
      "Genome fully rebuilt\n",
      "Genome fixed after 0 passes\n",
      "Genome fully rebuilt\n",
      "Genome fully rebuilt\n",
      "Genome fixed after 5 passes\n"
     ]
    },
    {
     "name": "stderr",
     "output_type": "stream",
     "text": []
    },
    {
     "name": "stdout",
     "output_type": "stream",
     "text": [
      "Genome fully rebuilt\n",
      "Genome fixed after 2 passes\n",
      "Genome fixed after 9 passes\n",
      "Genome fixed after 1 passes\n",
      "Genome fixed after 0 passes\n",
      "Genome fixed after 0 passes\n",
      "Genome fixed after 0 passes\n",
      "Genome fully rebuilt\n",
      "Genome fixed after 7 passes\n"
     ]
    },
    {
     "name": "stderr",
     "output_type": "stream",
     "text": []
    },
    {
     "name": "stdout",
     "output_type": "stream",
     "text": [
      "Genome fixed after 0 passes\n",
      "Genome fully rebuilt\n",
      "Genome fixed after 0 passes\n",
      "Genome fixed after 0 passes\n",
      "Genome fixed after 0 passes\n",
      "Genome fully rebuilt\n",
      "Genome fixed after 0 passes\n",
      "Genome fully rebuilt\n",
      "Genome fully rebuilt\n",
      "Genome fully rebuilt\n",
      "Genome fully rebuilt\n",
      "Genome fixed after 3 passes\n",
      "Genome fixed after 0 passes\n",
      "Genome fully rebuilt\n",
      "Genome fixed after 5 passes\n",
      "Genome fixed after 0 passes\n",
      "Genome fixed after 2 passes\n"
     ]
    },
    {
     "name": "stderr",
     "output_type": "stream",
     "text": []
    },
    {
     "name": "stdout",
     "output_type": "stream",
     "text": [
      "Genome fully rebuilt\n",
      "Genome fixed after 0 passes\n",
      "Genome fixed after 1 passes\n",
      "Genome fixed after 0 passes\n",
      "Genome fixed after 0 passes\n",
      "Genome fixed after 7 passes\n",
      "Genome fully rebuilt\n",
      "Genome fixed after 0 passes\n",
      "Genome fully rebuilt\n",
      "Genome fixed after 9 passes\n",
      "Genome fully rebuilt\n",
      "Genome fully rebuilt\n",
      "Genome fixed after 0 passes\n",
      "Genome fixed after 4 passes\n",
      "Genome fixed after 2 passes\n"
     ]
    },
    {
     "name": "stderr",
     "output_type": "stream",
     "text": []
    },
    {
     "name": "stdout",
     "output_type": "stream",
     "text": [
      "Genome fully rebuilt\n",
      "Genome fully rebuilt\n",
      "Genome fixed after 1 passes\n",
      "Genome fixed after 0 passes\n",
      "Genome fixed after 0 passes\n",
      "Genome fully rebuilt\n",
      "Genome fully rebuilt\n"
     ]
    },
    {
     "name": "stderr",
     "output_type": "stream",
     "text": []
    },
    {
     "name": "stdout",
     "output_type": "stream",
     "text": [
      "Genome fixed after 9 passes\n",
      "Genome fixed after 5 passes\n",
      "Genome fixed after 1 passes\n"
     ]
    },
    {
     "name": "stderr",
     "output_type": "stream",
     "text": []
    },
    {
     "name": "stdout",
     "output_type": "stream",
     "text": [
      "Genome fully rebuilt\n",
      "Genome fixed after 0 passes\n",
      "Genome fixed after 0 passes\n",
      "Genome fixed after 0 passes\n",
      "Genome fixed after 4 passes\n",
      "Genome fully rebuilt\n",
      "Genome fixed after 5 passes\n",
      "Genome fully rebuilt\n",
      "Genome fully rebuilt\n",
      "Genome fully rebuilt\n"
     ]
    },
    {
     "name": "stderr",
     "output_type": "stream",
     "text": []
    },
    {
     "name": "stdout",
     "output_type": "stream",
     "text": [
      "Genome fully rebuilt\n",
      "Genome fixed after 2 passes\n",
      "Genome fully rebuilt\n",
      "Genome fixed after 2 passes\n",
      "Genome fixed after 1 passes\n",
      "Genome fully rebuilt\n",
      "Genome fixed after 0 passes\n",
      "Genome fixed after 2 passes\n",
      "Genome fully rebuilt\n",
      "Genome fixed after 0 passes\n",
      "Genome fully rebuilt\n",
      "Genome fixed after 0 passes\n",
      "Genome fixed after 0 passes\n",
      "Genome fully rebuilt\n"
     ]
    },
    {
     "name": "stderr",
     "output_type": "stream",
     "text": []
    },
    {
     "name": "stdout",
     "output_type": "stream",
     "text": [
      "Genome fixed after 0 passes\n",
      "Genome fixed after 0 passes\n",
      "Genome fixed after 3 passes\n",
      "Genome fully rebuilt\n",
      "Genome fixed after 0 passes\n",
      "Genome fixed after 0 passes\n",
      "Genome fully rebuilt\n",
      "Genome fixed after 0 passes\n",
      "Genome fixed after 0 passes\n",
      "Genome fixed after 3 passes\n",
      "Genome fully rebuilt\n",
      "Genome fixed after 0 passes\n",
      "Genome fully rebuilt\n",
      "Genome fixed after 0 passes\n",
      "Genome fixed after 0 passes\n",
      "Genome fixed after 0 passes\n",
      "Genome fully rebuilt\n",
      "Genome fixed after 0 passes\n",
      "Genome fixed after 0 passes\n",
      "Genome fixed after 0 passes\n",
      "Genome fixed after 0 passes\n",
      "Genome fixed after 9 passes\n",
      "Genome fully rebuilt\n"
     ]
    },
    {
     "name": "stderr",
     "output_type": "stream",
     "text": []
    },
    {
     "name": "stdout",
     "output_type": "stream",
     "text": [
      "Genome fully rebuilt\n",
      "Genome fixed after 0 passes\n",
      "Genome fully rebuilt\n",
      "Genome fixed after 4 passes\n",
      "Genome fixed after 0 passes\n",
      "Genome fixed after 0 passes\n",
      "Genome fixed after 0 passes\n",
      "Genome fixed after 0 passes\n",
      "Genome fully rebuilt\n",
      "Genome fixed after 0 passes\n",
      "Genome fully rebuilt\n",
      "Genome fixed after 7 passes\n",
      "Genome fixed after 2 passes\n",
      "Genome fixed after 8 passes\n",
      "Genome fixed after 0 passes\n",
      "Genome fixed after 6 passes\n"
     ]
    },
    {
     "name": "stderr",
     "output_type": "stream",
     "text": []
    },
    {
     "name": "stdout",
     "output_type": "stream",
     "text": [
      "Genome fully rebuilt\n",
      "Genome fixed after 0 passes\n",
      "Genome fully rebuilt\n",
      "Genome fixed after 0 passes\n",
      "Genome fully rebuilt\n",
      "Genome fixed after 4 passes\n",
      "Genome fixed after 0 passes\n",
      "Genome fully rebuilt\n",
      "Genome fixed after 1 passes\n",
      "Genome fully rebuilt\n",
      "Genome fixed after 1 passes\n",
      "Genome fully rebuilt\n",
      "Genome fixed after 5 passes\n",
      "Genome fixed after 0 passes\n",
      "Genome fully rebuilt\n",
      "Genome fixed after 0 passes\n",
      "Genome fixed after 0 passes\n",
      "Genome fixed after 0 passes\n",
      "Genome fixed after 0 passes\n",
      "Genome fixed after 5 passes\n",
      "Genome fixed after 0 passes\n",
      "Genome fully rebuilt\n",
      "Genome fully rebuilt\n",
      "Genome fully rebuilt\n",
      "Genome fully rebuilt\n",
      "Genome fixed after 0 passes\n"
     ]
    },
    {
     "name": "stderr",
     "output_type": "stream",
     "text": []
    },
    {
     "name": "stdout",
     "output_type": "stream",
     "text": [
      "Genome fixed after 4 passes\n",
      "Genome fully rebuilt\n",
      "Genome fixed after 0 passes\n",
      "Genome fixed after 0 passes\n",
      "Genome fully rebuilt\n",
      "Genome fixed after 0 passes\n",
      "Genome fixed after 1 passes\n",
      "Genome fully rebuilt\n",
      "Genome fixed after 3 passes\n"
     ]
    },
    {
     "name": "stderr",
     "output_type": "stream",
     "text": []
    },
    {
     "name": "stdout",
     "output_type": "stream",
     "text": [
      "Genome fixed after 5 passes\n",
      "Genome fully rebuilt\n",
      "Genome fixed after 1 passes\n",
      "Genome fully rebuilt\n",
      "Genome fixed after 0 passes\n",
      "Genome fixed after 0 passes\n",
      "Genome fixed after 6 passes\n",
      "Genome fully rebuilt\n"
     ]
    },
    {
     "name": "stderr",
     "output_type": "stream",
     "text": []
    },
    {
     "name": "stdout",
     "output_type": "stream",
     "text": [
      "Genome fixed after 3 passes\n",
      "Genome fixed after 0 passes\n",
      "Genome fixed after 0 passes\n",
      "Genome fixed after 0 passes\n",
      "Genome fixed after 0 passes\n",
      "Genome fully rebuilt\n",
      "Genome fixed after 0 passes\n"
     ]
    },
    {
     "name": "stderr",
     "output_type": "stream",
     "text": []
    },
    {
     "name": "stdout",
     "output_type": "stream",
     "text": [
      "Genome fixed after 5 passes\n",
      "Genome fixed after 0 passes\n",
      "Genome fully rebuilt\n",
      "Genome fixed after 0 passes\n",
      "Genome fixed after 0 passes\n",
      "Genome fixed after 0 passes\n",
      "Genome fixed after 6 passes\n",
      "Genome fully rebuilt\n",
      "Genome fixed after 4 passes\n",
      "Genome fixed after 0 passes\n",
      "Genome fully rebuilt\n",
      "Genome fixed after 0 passes\n",
      "Genome fixed after 7 passes\n",
      "Genome fixed after 3 passes\n"
     ]
    },
    {
     "name": "stderr",
     "output_type": "stream",
     "text": []
    },
    {
     "name": "stdout",
     "output_type": "stream",
     "text": [
      "Genome fixed after 3 passes\n",
      "Genome fixed after 0 passes\n",
      "Genome fully rebuilt\n",
      "Genome fixed after 0 passes\n",
      "Genome fully rebuilt\n",
      "Genome fully rebuilt\n",
      "Genome fixed after 5 passes\n",
      "Genome fixed after 5 passes\n",
      "Genome fixed after 0 passes\n",
      "Genome fixed after 2 passes\n",
      "Genome fully rebuilt\n",
      "Genome fixed after 0 passes\n",
      "Genome fully rebuilt\n",
      "Genome fixed after 2 passes\n",
      "Genome fixed after 4 passes\n",
      "Genome fixed after 5 passes\n",
      "Genome fixed after 1 passes\n",
      "Genome fixed after 0 passes\n"
     ]
    },
    {
     "name": "stderr",
     "output_type": "stream",
     "text": [
      "\n",
      "Runnig genetic alogrithm:  36%|███▌      | 36/100 [00:20<00:20,  3.14 generation/s]"
     ]
    },
    {
     "name": "stdout",
     "output_type": "stream",
     "text": [
      "Genome fully rebuilt\n",
      "Genome fixed after 7 passes\n",
      "Genome fully rebuilt\n",
      "Genome fully rebuilt\n",
      "Genome fixed after 3 passes\n",
      "Genome fixed after 0 passes\n",
      "Genome fully rebuilt\n",
      "Genome fixed after 0 passes\n",
      "Genome fully rebuilt\n",
      "Genome fixed after 6 passes\n",
      "Genome fully rebuilt\n",
      "Genome fixed after 0 passes\n",
      "Genome fully rebuilt\n"
     ]
    },
    {
     "name": "stderr",
     "output_type": "stream",
     "text": [
      "\u001b[A"
     ]
    },
    {
     "name": "stdout",
     "output_type": "stream",
     "text": [
      "Genome fixed after 0 passes\n",
      "Genome fixed after 2 passes\n",
      "Genome fixed after 3 passes\n",
      "Genome fixed after 1 passes\n",
      "Genome fixed after 4 passes\n",
      "Genome fixed after 0 passes\n",
      "Genome fixed after 3 passes\n",
      "Genome fixed after 1 passes\n",
      "Genome fixed after 7 passes\n",
      "Genome fully rebuilt\n",
      "Genome fully rebuilt\n",
      "Genome fixed after 3 passes\n",
      "Genome fully rebuilt\n",
      "Genome fully rebuilt\n",
      "Genome fixed after 7 passes\n"
     ]
    },
    {
     "name": "stderr",
     "output_type": "stream",
     "text": []
    },
    {
     "name": "stdout",
     "output_type": "stream",
     "text": [
      "Genome fully rebuilt\n",
      "Genome fully rebuilt\n",
      "Genome fixed after 3 passes\n",
      "Genome fully rebuilt\n",
      "Genome fully rebuilt\n",
      "Genome fixed after 1 passes\n",
      "Genome fixed after 0 passes\n",
      "Genome fully rebuilt\n",
      "Genome fully rebuilt\n",
      "Genome fully rebuilt\n",
      "Genome fully rebuilt\n",
      "Genome fully rebuilt\n",
      "Genome fully rebuilt\n",
      "Genome fixed after 0 passes\n",
      "Genome fully rebuilt\n",
      "Genome fixed after 1 passes\n",
      "Genome fixed after 1 passes\n",
      "Genome fully rebuilt\n",
      "Genome fixed after 0 passes\n",
      "Genome fully rebuilt\n",
      "Genome fully rebuilt\n",
      "Genome fixed after 0 passes\n",
      "Genome fully rebuilt\n",
      "Genome fully rebuilt\n",
      "Genome fixed after 0 passes\n",
      "Genome fixed after 0 passes\n",
      "Genome fixed after 2 passes\n",
      "Genome fixed after 0 passes\n",
      "Genome fixed after 3 passes\n",
      "Genome fixed after 0 passes\n"
     ]
    },
    {
     "name": "stderr",
     "output_type": "stream",
     "text": []
    },
    {
     "name": "stdout",
     "output_type": "stream",
     "text": [
      "Genome fixed after 0 passes\n",
      "Genome fixed after 0 passes\n",
      "Genome fully rebuilt\n",
      "Genome fixed after 9 passes\n",
      "Genome fixed after 0 passes\n",
      "Genome fixed after 0 passes\n",
      "Genome fixed after 0 passes\n",
      "Genome fixed after 0 passes\n",
      "Genome fixed after 0 passes\n",
      "Genome fixed after 1 passes\n"
     ]
    },
    {
     "name": "stderr",
     "output_type": "stream",
     "text": [
      "\n",
      "Runnig genetic alogrithm:  40%|████      | 40/100 [00:22<00:24,  2.50 generation/s]"
     ]
    },
    {
     "name": "stdout",
     "output_type": "stream",
     "text": [
      "Genome fully rebuilt\n"
     ]
    },
    {
     "name": "stderr",
     "output_type": "stream",
     "text": [
      "\u001b[A"
     ]
    },
    {
     "name": "stdout",
     "output_type": "stream",
     "text": [
      "Genome fixed after 0 passes\n",
      "Genome fixed after 0 passes\n",
      "Genome fixed after 0 passes\n",
      "Genome fixed after 2 passes\n",
      "Genome fully rebuilt\n",
      "Genome fixed after 0 passes\n",
      "Genome fully rebuilt\n",
      "Genome fixed after 0 passes\n",
      "Genome fully rebuilt\n",
      "Genome fixed after 1 passes\n",
      "Genome fixed after 0 passes\n",
      "Genome fixed after 6 passes\n",
      "Genome fully rebuilt\n",
      "Genome fixed after 4 passes\n",
      "Genome fixed after 8 passes\n",
      "Genome fixed after 0 passes\n",
      "Genome fixed after 6 passes\n"
     ]
    },
    {
     "name": "stderr",
     "output_type": "stream",
     "text": []
    },
    {
     "name": "stdout",
     "output_type": "stream",
     "text": [
      "Genome fixed after 4 passes\n",
      "Genome fixed after 3 passes\n",
      "Genome fully rebuilt\n",
      "Genome fixed after 0 passes\n",
      "Genome fixed after 0 passes\n",
      "Genome fixed after 5 passes\n",
      "Genome fully rebuilt\n",
      "Genome fixed after 1 passes\n",
      "Genome fixed after 0 passes\n",
      "Genome fixed after 0 passes\n",
      "Genome fixed after 4 passes\n",
      "Genome fixed after 0 passes\n",
      "Genome fixed after 0 passes\n",
      "Genome fixed after 1 passes\n"
     ]
    },
    {
     "name": "stderr",
     "output_type": "stream",
     "text": []
    },
    {
     "name": "stdout",
     "output_type": "stream",
     "text": [
      "Genome fixed after 0 passes\n",
      "Genome fully rebuilt\n",
      "Genome fixed after 0 passes\n",
      "Genome fixed after 0 passes\n",
      "Genome fixed after 0 passes\n",
      "Genome fully rebuilt\n",
      "Genome fixed after 3 passes\n",
      "Genome fixed after 5 passes\n",
      "Genome fixed after 0 passes\n",
      "Genome fully rebuilt\n",
      "Genome fully rebuilt\n",
      "Genome fully rebuilt\n",
      "Genome fixed after 0 passes\n",
      "Genome fixed after 2 passes\n",
      "Genome fixed after 4 passes\n",
      "Genome fixed after 4 passes\n",
      "Genome fixed after 0 passes\n"
     ]
    },
    {
     "name": "stderr",
     "output_type": "stream",
     "text": []
    },
    {
     "name": "stdout",
     "output_type": "stream",
     "text": [
      "Genome fully rebuilt\n",
      "Genome fully rebuilt\n",
      "Genome fixed after 4 passes\n",
      "Genome fully rebuilt\n",
      "Genome fixed after 5 passes\n",
      "Genome fixed after 2 passes\n",
      "Genome fully rebuilt\n",
      "Genome fully rebuilt\n",
      "Genome fully rebuilt\n",
      "Genome fixed after 0 passes\n",
      "Genome fixed after 1 passes\n",
      "Genome fixed after 0 passes\n",
      "Genome fixed after 0 passes\n",
      "Genome fully rebuilt\n"
     ]
    },
    {
     "name": "stderr",
     "output_type": "stream",
     "text": []
    },
    {
     "name": "stdout",
     "output_type": "stream",
     "text": [
      "Genome fully rebuilt\n",
      "Genome fully rebuilt\n",
      "Genome fixed after 0 passes\n",
      "Genome fully rebuilt\n",
      "Genome fixed after 2 passes\n",
      "Genome fixed after 0 passes\n",
      "Genome fixed after 1 passes\n",
      "Genome fully rebuilt\n",
      "Genome fixed after 3 passes\n"
     ]
    },
    {
     "name": "stderr",
     "output_type": "stream",
     "text": []
    },
    {
     "name": "stdout",
     "output_type": "stream",
     "text": [
      "Genome fully rebuilt\n",
      "Genome fixed after 2 passes\n",
      "Genome fully rebuilt\n",
      "Genome fixed after 0 passes\n",
      "Genome fixed after 0 passes\n",
      "Genome fully rebuilt\n",
      "Genome fully rebuilt\n",
      "Genome fully rebuilt\n",
      "Genome fixed after 2 passes\n",
      "Genome fixed after 0 passes\n"
     ]
    },
    {
     "name": "stderr",
     "output_type": "stream",
     "text": []
    },
    {
     "name": "stdout",
     "output_type": "stream",
     "text": [
      "Genome fixed after 2 passes\n",
      "Genome fixed after 1 passes\n",
      "Genome fully rebuilt\n",
      "Genome fully rebuilt\n"
     ]
    },
    {
     "name": "stderr",
     "output_type": "stream",
     "text": []
    },
    {
     "name": "stdout",
     "output_type": "stream",
     "text": [
      "Genome fixed after 7 passes\n",
      "Genome fully rebuilt\n",
      "Genome fully rebuilt\n",
      "Genome fully rebuilt\n",
      "Genome fully rebuilt\n",
      "Genome fixed after 0 passes\n",
      "Genome fixed after 0 passes\n",
      "Genome fully rebuilt\n",
      "Genome fixed after 1 passes\n",
      "Genome fixed after 0 passes\n",
      "Genome fixed after 0 passes\n",
      "Genome fully rebuilt\n",
      "Genome fixed after 4 passes\n"
     ]
    },
    {
     "name": "stderr",
     "output_type": "stream",
     "text": [
      "\n",
      "Runnig genetic alogrithm:  48%|████▊     | 48/100 [00:27<00:28,  1.85 generation/s]"
     ]
    },
    {
     "name": "stdout",
     "output_type": "stream",
     "text": [
      "Genome fully rebuilt\n",
      "Genome fixed after 1 passes\n"
     ]
    },
    {
     "name": "stderr",
     "output_type": "stream",
     "text": [
      "\u001b[A"
     ]
    },
    {
     "name": "stdout",
     "output_type": "stream",
     "text": [
      "Genome fixed after 0 passes\n",
      "Genome fully rebuilt\n",
      "Genome fully rebuilt\n",
      "Genome fixed after 2 passes\n",
      "Genome fixed after 5 passes\n",
      "Genome fixed after 6 passes\n",
      "Genome fixed after 3 passes\n",
      "Genome fixed after 1 passes\n",
      "Genome fully rebuilt\n",
      "Genome fixed after 0 passes\n",
      "Genome fully rebuilt\n"
     ]
    },
    {
     "name": "stderr",
     "output_type": "stream",
     "text": []
    },
    {
     "name": "stdout",
     "output_type": "stream",
     "text": [
      "Genome fixed after 0 passes\n",
      "Genome fully rebuilt\n",
      "Genome fixed after 8 passes\n",
      "Genome fully rebuilt\n",
      "Genome fully rebuilt\n",
      "Genome fixed after 7 passes\n",
      "Genome fixed after 0 passes\n",
      "Genome fully rebuilt\n",
      "Genome fixed after 2 passes\n",
      "Genome fully rebuilt\n",
      "Genome fixed after 0 passes\n"
     ]
    },
    {
     "name": "stderr",
     "output_type": "stream",
     "text": []
    },
    {
     "name": "stdout",
     "output_type": "stream",
     "text": [
      "Genome fully rebuilt\n",
      "Genome fully rebuilt\n",
      "Genome fixed after 0 passes\n",
      "Genome fixed after 1 passes\n",
      "Genome fixed after 0 passes\n",
      "Genome fully rebuilt\n",
      "Genome fixed after 1 passes\n",
      "Genome fully rebuilt\n",
      "Genome fully rebuilt\n"
     ]
    },
    {
     "name": "stderr",
     "output_type": "stream",
     "text": []
    },
    {
     "name": "stdout",
     "output_type": "stream",
     "text": [
      "Genome fixed after 0 passes\n",
      "Genome fully rebuilt\n",
      "Genome fixed after 0 passes\n",
      "Genome fully rebuilt\n",
      "Genome fully rebuilt\n",
      "Genome fully rebuilt\n",
      "Genome fully rebuilt\n",
      "Genome fully rebuilt\n",
      "Genome fully rebuilt\n",
      "Genome fully rebuilt\n"
     ]
    },
    {
     "name": "stderr",
     "output_type": "stream",
     "text": []
    },
    {
     "name": "stdout",
     "output_type": "stream",
     "text": [
      "Genome fully rebuilt\n",
      "Genome fixed after 3 passes\n",
      "Genome fully rebuilt\n",
      "Genome fixed after 4 passes\n",
      "Genome fixed after 5 passes\n",
      "Genome fully rebuilt\n",
      "Genome fully rebuilt\n",
      "Genome fully rebuilt\n",
      "Genome fully rebuilt\n",
      "Genome fixed after 8 passes\n",
      "Genome fixed after 0 passes\n"
     ]
    },
    {
     "name": "stderr",
     "output_type": "stream",
     "text": [
      "\n",
      "Runnig genetic alogrithm:  56%|█████▌    | 56/100 [00:30<00:14,  3.03 generation/s]"
     ]
    },
    {
     "name": "stdout",
     "output_type": "stream",
     "text": [
      "Genome fixed after 9 passes\n",
      "Genome fixed after 2 passes\n",
      "Genome fixed after 0 passes\n",
      "Genome fixed after 8 passes\n",
      "Genome fully rebuilt\n",
      "Genome fixed after 1 passes\n",
      "Genome fully rebuilt\n"
     ]
    },
    {
     "name": "stderr",
     "output_type": "stream",
     "text": [
      "\u001b[A"
     ]
    },
    {
     "name": "stdout",
     "output_type": "stream",
     "text": [
      "Genome fixed after 2 passes\n",
      "Genome fully rebuilt\n",
      "Genome fixed after 1 passes\n",
      "Genome fixed after 0 passes\n",
      "Genome fully rebuilt\n",
      "Genome fixed after 0 passes\n",
      "Genome fixed after 2 passes\n",
      "Genome fixed after 0 passes\n",
      "Genome fixed after 0 passes\n",
      "Genome fully rebuilt\n",
      "Genome fully rebuilt\n",
      "Genome fixed after 1 passes\n",
      "Genome fixed after 2 passes\n"
     ]
    },
    {
     "name": "stderr",
     "output_type": "stream",
     "text": []
    },
    {
     "name": "stdout",
     "output_type": "stream",
     "text": [
      "Genome fully rebuilt\n",
      "Genome fully rebuilt\n",
      "Genome fixed after 5 passes\n",
      "Genome fixed after 0 passes\n"
     ]
    },
    {
     "name": "stderr",
     "output_type": "stream",
     "text": []
    },
    {
     "name": "stdout",
     "output_type": "stream",
     "text": [
      "Genome fully rebuilt\n",
      "Genome fixed after 1 passes\n",
      "Genome fully rebuilt\n",
      "Genome fully rebuilt\n",
      "Genome fixed after 0 passes\n",
      "Genome fully rebuilt\n",
      "Genome fixed after 0 passes\n"
     ]
    },
    {
     "name": "stderr",
     "output_type": "stream",
     "text": []
    },
    {
     "name": "stdout",
     "output_type": "stream",
     "text": [
      "Genome fixed after 2 passes\n",
      "Genome fixed after 0 passes\n",
      "Genome fixed after 3 passes\n",
      "Genome fixed after 0 passes\n",
      "Genome fully rebuilt\n",
      "Genome fully rebuilt\n",
      "Genome fully rebuilt\n",
      "Genome fixed after 0 passes\n",
      "Genome fully rebuilt\n",
      "Genome fully rebuilt\n",
      "Genome fixed after 1 passes\n"
     ]
    },
    {
     "name": "stderr",
     "output_type": "stream",
     "text": []
    },
    {
     "name": "stdout",
     "output_type": "stream",
     "text": [
      "Genome fixed after 4 passes\n",
      "Genome fixed after 0 passes\n",
      "Genome fixed after 0 passes\n",
      "Genome fixed after 3 passes\n",
      "Genome fixed after 5 passes\n",
      "Genome fixed after 0 passes\n",
      "Genome fixed after 0 passes\n",
      "Genome fixed after 9 passes\n",
      "Genome fixed after 2 passes\n",
      "Genome fully rebuilt\n",
      "Genome fixed after 4 passes\n",
      "Genome fixed after 1 passes\n",
      "Genome fixed after 0 passes\n",
      "Genome fully rebuilt\n"
     ]
    },
    {
     "name": "stderr",
     "output_type": "stream",
     "text": []
    },
    {
     "name": "stdout",
     "output_type": "stream",
     "text": [
      "Genome fixed after 5 passes\n",
      "Genome fixed after 7 passes\n",
      "Genome fully rebuilt\n",
      "Genome fully rebuilt\n",
      "Genome fixed after 1 passes\n",
      "Genome fully rebuilt\n",
      "Genome fixed after 0 passes\n",
      "Genome fully rebuilt\n",
      "Genome fixed after 2 passes\n",
      "Genome fixed after 1 passes\n",
      "Genome fixed after 2 passes\n",
      "Genome fully rebuilt\n",
      "Genome fixed after 0 passes\n",
      "Genome fixed after 0 passes\n",
      "Genome fixed after 0 passes\n",
      "Genome fixed after 2 passes\n",
      "Genome fully rebuilt\n",
      "Genome fully rebuilt\n",
      "Genome fully rebuilt\n",
      "Genome fully rebuilt\n",
      "Genome fully rebuilt\n",
      "Genome fixed after 0 passes\n",
      "Genome fully rebuilt\n",
      "Genome fully rebuilt\n",
      "Genome fixed after 2 passes\n",
      "Genome fixed after 6 passes\n"
     ]
    },
    {
     "name": "stderr",
     "output_type": "stream",
     "text": []
    },
    {
     "name": "stdout",
     "output_type": "stream",
     "text": [
      "Genome fully rebuilt\n",
      "Genome fixed after 0 passes\n",
      "Genome fixed after 0 passes\n",
      "Genome fully rebuilt\n",
      "Genome fixed after 4 passes\n",
      "Genome fixed after 0 passes\n",
      "Genome fully rebuilt\n",
      "Genome fully rebuilt\n",
      "Genome fixed after 0 passes\n",
      "Genome fully rebuilt\n",
      "Genome fixed after 0 passes\n"
     ]
    },
    {
     "name": "stderr",
     "output_type": "stream",
     "text": []
    },
    {
     "name": "stdout",
     "output_type": "stream",
     "text": [
      "Genome fixed after 0 passes\n",
      "Genome fixed after 0 passes\n",
      "Genome fixed after 2 passes\n",
      "Genome fully rebuilt\n",
      "Genome fully rebuilt\n",
      "Genome fully rebuilt\n",
      "Genome fully rebuilt\n",
      "Genome fully rebuilt\n",
      "Genome fixed after 6 passes\n"
     ]
    },
    {
     "name": "stderr",
     "output_type": "stream",
     "text": []
    },
    {
     "name": "stdout",
     "output_type": "stream",
     "text": [
      "Genome fixed after 4 passes\n",
      "Genome fixed after 1 passes\n",
      "Genome fully rebuilt\n",
      "Genome fully rebuilt\n",
      "Genome fully rebuilt\n",
      "Genome fixed after 0 passes\n"
     ]
    },
    {
     "name": "stderr",
     "output_type": "stream",
     "text": []
    },
    {
     "name": "stdout",
     "output_type": "stream",
     "text": [
      "Genome fully rebuilt\n",
      "Genome fully rebuilt\n",
      "Genome fixed after 9 passes\n",
      "Genome fixed after 0 passes\n",
      "Genome fixed after 0 passes\n",
      "Genome fixed after 8 passes\n",
      "Genome fully rebuilt\n",
      "Genome fully rebuilt\n",
      "Genome fixed after 0 passes\n",
      "Genome fixed after 6 passes\n",
      "Genome fixed after 0 passes\n",
      "Genome fixed after 4 passes\n"
     ]
    },
    {
     "name": "stderr",
     "output_type": "stream",
     "text": [
      "\n"
     ]
    },
    {
     "name": "stdout",
     "output_type": "stream",
     "text": [
      "Genome fixed after 0 passes\n",
      "Genome fixed after 1 passes\n",
      "Genome fully rebuilt\n",
      "Genome fixed after 0 passes\n",
      "Genome fixed after 3 passes\n",
      "Genome fixed after 0 passes\n"
     ]
    },
    {
     "name": "stderr",
     "output_type": "stream",
     "text": [
      "Runnig genetic alogrithm:  73%|███████▎  | 73/100 [00:35<00:07,  3.78 generation/s]\u001b[A"
     ]
    },
    {
     "name": "stdout",
     "output_type": "stream",
     "text": [
      "Genome fully rebuilt\n",
      "Genome fixed after 0 passes\n",
      "Genome fixed after 0 passes\n",
      "Genome fully rebuilt\n",
      "Genome fixed after 0 passes\n",
      "Genome fixed after 0 passes\n",
      "Genome fixed after 3 passes\n",
      "Genome fully rebuilt\n",
      "Genome fully rebuilt\n"
     ]
    },
    {
     "name": "stderr",
     "output_type": "stream",
     "text": []
    },
    {
     "name": "stdout",
     "output_type": "stream",
     "text": [
      "Genome fixed after 8 passes\n",
      "Genome fixed after 1 passes\n",
      "Genome fixed after 5 passes\n",
      "Genome fully rebuilt\n",
      "Genome fixed after 0 passes\n",
      "Genome fixed after 2 passes\n",
      "Genome fixed after 1 passes\n",
      "Genome fixed after 0 passes\n"
     ]
    },
    {
     "name": "stderr",
     "output_type": "stream",
     "text": []
    },
    {
     "name": "stdout",
     "output_type": "stream",
     "text": [
      "Genome fixed after 2 passes\n",
      "Genome fixed after 0 passes\n",
      "Genome fixed after 3 passes\n",
      "Genome fixed after 2 passes\n",
      "Genome fully rebuilt\n",
      "Genome fully rebuilt\n",
      "Genome fixed after 8 passes\n",
      "Genome fully rebuilt\n",
      "Genome fixed after 0 passes\n",
      "Genome fully rebuilt\n",
      "Genome fully rebuilt\n"
     ]
    },
    {
     "name": "stderr",
     "output_type": "stream",
     "text": []
    },
    {
     "name": "stdout",
     "output_type": "stream",
     "text": [
      "Genome fully rebuilt\n",
      "Genome fully rebuilt\n",
      "Genome fixed after 3 passes\n",
      "Genome fixed after 3 passes\n",
      "Genome fixed after 0 passes\n",
      "Genome fixed after 2 passes\n",
      "Genome fixed after 2 passes\n",
      "Genome fixed after 7 passes\n",
      "Genome fixed after 1 passes\n",
      "Genome fixed after 0 passes\n",
      "Genome fully rebuilt\n",
      "Genome fully rebuilt\n",
      "Genome fixed after 0 passes\n",
      "Genome fixed after 0 passes\n",
      "Genome fixed after 4 passes\n",
      "Genome fully rebuilt\n",
      "Genome fixed after 6 passes\n",
      "Genome fixed after 9 passes\n",
      "Genome fixed after 7 passes\n",
      "Genome fixed after 5 passes\n",
      "Genome fully rebuilt\n"
     ]
    },
    {
     "name": "stderr",
     "output_type": "stream",
     "text": []
    },
    {
     "name": "stdout",
     "output_type": "stream",
     "text": [
      "Genome fully rebuilt\n",
      "Genome fixed after 0 passes\n",
      "Genome fixed after 2 passes\n",
      "Genome fully rebuilt\n",
      "Genome fixed after 1 passes\n",
      "Genome fixed after 0 passes\n",
      "Genome fixed after 9 passes\n",
      "Genome fully rebuilt\n"
     ]
    },
    {
     "name": "stderr",
     "output_type": "stream",
     "text": []
    },
    {
     "name": "stdout",
     "output_type": "stream",
     "text": [
      "Genome fixed after 4 passes\n",
      "Genome fixed after 0 passes\n",
      "Genome fixed after 0 passes\n",
      "Genome fixed after 0 passes\n"
     ]
    },
    {
     "name": "stderr",
     "output_type": "stream",
     "text": []
    },
    {
     "name": "stdout",
     "output_type": "stream",
     "text": [
      "Genome fixed after 2 passes\n",
      "Genome fixed after 0 passes\n",
      "Genome fully rebuilt\n",
      "Genome fixed after 1 passes\n",
      "Genome fully rebuilt\n",
      "Genome fixed after 1 passes\n"
     ]
    },
    {
     "name": "stderr",
     "output_type": "stream",
     "text": []
    },
    {
     "name": "stdout",
     "output_type": "stream",
     "text": [
      "Genome fixed after 0 passes\n",
      "Genome fixed after 0 passes\n",
      "Genome fixed after 0 passes\n",
      "Genome fixed after 0 passes\n",
      "Genome fully rebuilt\n",
      "Genome fully rebuilt\n",
      "Genome fixed after 9 passes\n",
      "Genome fixed after 0 passes\n"
     ]
    },
    {
     "name": "stderr",
     "output_type": "stream",
     "text": []
    },
    {
     "name": "stdout",
     "output_type": "stream",
     "text": [
      "Genome fixed after 0 passes\n",
      "Genome fixed after 1 passes\n",
      "Genome fully rebuilt\n",
      "Genome fixed after 0 passes\n",
      "Genome fixed after 6 passes\n",
      "Genome fixed after 8 passes\n",
      "Genome fixed after 0 passes\n",
      "Genome fully rebuilt\n",
      "Genome fully rebuilt\n",
      "Genome fully rebuilt\n"
     ]
    },
    {
     "name": "stderr",
     "output_type": "stream",
     "text": []
    },
    {
     "name": "stdout",
     "output_type": "stream",
     "text": [
      "Genome fully rebuilt\n",
      "Genome fixed after 6 passes\n",
      "Genome fixed after 3 passes\n",
      "Genome fixed after 0 passes\n",
      "Genome fixed after 0 passes\n",
      "Genome fixed after 4 passes\n",
      "Genome fixed after 2 passes\n",
      "Genome fully rebuilt\n"
     ]
    },
    {
     "name": "stderr",
     "output_type": "stream",
     "text": []
    },
    {
     "name": "stdout",
     "output_type": "stream",
     "text": [
      "Genome fully rebuilt\n",
      "Genome fully rebuilt\n",
      "Genome fixed after 6 passes\n",
      "Genome fixed after 7 passes\n",
      "Genome fixed after 6 passes\n",
      "Genome fully rebuilt\n",
      "Genome fully rebuilt\n",
      "Genome fixed after 0 passes\n",
      "Genome fixed after 0 passes\n"
     ]
    },
    {
     "name": "stderr",
     "output_type": "stream",
     "text": []
    },
    {
     "name": "stdout",
     "output_type": "stream",
     "text": [
      "Genome fully rebuilt\n",
      "Genome fixed after 2 passes\n",
      "Genome fixed after 1 passes\n",
      "Genome fixed after 2 passes\n",
      "Genome fixed after 0 passes\n",
      "Genome fully rebuilt\n",
      "Genome fixed after 0 passes\n"
     ]
    },
    {
     "name": "stderr",
     "output_type": "stream",
     "text": [
      "\n"
     ]
    },
    {
     "name": "stdout",
     "output_type": "stream",
     "text": [
      "Genome fully rebuilt\n",
      "Genome fully rebuilt\n",
      "Genome fixed after 2 passes\n",
      "Genome fixed after 4 passes\n",
      "Genome fixed after 0 passes\n"
     ]
    },
    {
     "name": "stderr",
     "output_type": "stream",
     "text": [
      "Runnig genetic alogrithm:  88%|████████▊ | 88/100 [00:41<00:03,  3.40 generation/s]\u001b[A"
     ]
    },
    {
     "name": "stdout",
     "output_type": "stream",
     "text": [
      "Genome fully rebuilt\n",
      "Genome fixed after 5 passes\n",
      "Genome fixed after 0 passes\n",
      "Genome fixed after 0 passes\n",
      "Genome fixed after 4 passes\n",
      "Genome fully rebuilt\n",
      "Genome fixed after 0 passes\n",
      "Genome fully rebuilt\n",
      "Genome fully rebuilt\n",
      "Genome fully rebuilt\n",
      "Genome fully rebuilt\n",
      "Genome fixed after 0 passes\n"
     ]
    },
    {
     "name": "stderr",
     "output_type": "stream",
     "text": []
    },
    {
     "name": "stdout",
     "output_type": "stream",
     "text": [
      "Genome fully rebuilt\n",
      "Genome fully rebuilt\n",
      "Genome fixed after 3 passes\n",
      "Genome fixed after 0 passes\n",
      "Genome fixed after 0 passes\n",
      "Genome fully rebuilt\n",
      "Genome fixed after 0 passes\n",
      "Genome fully rebuilt\n",
      "Genome fixed after 0 passes\n",
      "Genome fully rebuilt\n",
      "Genome fully rebuilt\n",
      "Genome fixed after 0 passes\n",
      "Genome fixed after 2 passes\n",
      "Genome fixed after 0 passes\n",
      "Genome fully rebuilt\n",
      "Genome fully rebuilt\n",
      "Genome fixed after 0 passes\n"
     ]
    },
    {
     "name": "stderr",
     "output_type": "stream",
     "text": []
    },
    {
     "name": "stdout",
     "output_type": "stream",
     "text": [
      "Genome fixed after 3 passes\n",
      "Genome fixed after 2 passes\n",
      "Genome fully rebuilt\n",
      "Genome fixed after 2 passes\n",
      "Genome fully rebuilt\n",
      "Genome fixed after 0 passes\n",
      "Genome fixed after 2 passes\n",
      "Genome fully rebuilt\n",
      "Genome fixed after 0 passes\n",
      "Genome fully rebuilt\n",
      "Genome fully rebuilt\n",
      "Genome fixed after 0 passes\n",
      "Genome fixed after 8 passes\n"
     ]
    },
    {
     "name": "stderr",
     "output_type": "stream",
     "text": []
    },
    {
     "name": "stdout",
     "output_type": "stream",
     "text": [
      "Genome fully rebuilt\n",
      "Genome fixed after 0 passes\n",
      "Genome fully rebuilt\n"
     ]
    },
    {
     "name": "stderr",
     "output_type": "stream",
     "text": []
    },
    {
     "name": "stdout",
     "output_type": "stream",
     "text": [
      "Genome fixed after 8 passes\n",
      "Genome fixed after 0 passes\n",
      "Genome fixed after 3 passes\n",
      "Genome fully rebuilt\n",
      "Genome fully rebuilt\n",
      "Genome fully rebuilt\n",
      "Genome fully rebuilt\n",
      "Genome fully rebuilt\n",
      "Genome fully rebuilt\n",
      "Genome fixed after 3 passes\n",
      "Genome fixed after 3 passes\n",
      "Genome fixed after 1 passes\n",
      "Genome fixed after 0 passes\n",
      "Genome fixed after 7 passes\n",
      "Genome fully rebuilt\n"
     ]
    },
    {
     "name": "stderr",
     "output_type": "stream",
     "text": []
    },
    {
     "name": "stdout",
     "output_type": "stream",
     "text": [
      "Genome fully rebuilt\n",
      "Genome fixed after 0 passes\n",
      "Genome fixed after 0 passes\n",
      "Genome fixed after 1 passes\n",
      "Genome fully rebuilt\n",
      "Genome fixed after 0 passes\n",
      "Genome fixed after 3 passes\n",
      "Genome fixed after 0 passes\n",
      "Genome fully rebuilt\n",
      "Genome fully rebuilt\n",
      "Genome fixed after 0 passes\n",
      "Genome fully rebuilt\n",
      "Genome fixed after 0 passes\n",
      "Genome fixed after 7 passes\n"
     ]
    },
    {
     "name": "stderr",
     "output_type": "stream",
     "text": []
    },
    {
     "name": "stdout",
     "output_type": "stream",
     "text": [
      "Genome fixed after 0 passes\n",
      "Genome fully rebuilt\n",
      "Genome fixed after 0 passes\n",
      "Genome fully rebuilt\n",
      "Genome fixed after 5 passes\n",
      "Genome fully rebuilt\n",
      "Genome fixed after 0 passes\n"
     ]
    },
    {
     "name": "stderr",
     "output_type": "stream",
     "text": []
    },
    {
     "name": "stdout",
     "output_type": "stream",
     "text": [
      "Genome fixed after 3 passes\n",
      "Genome fixed after 0 passes\n",
      "Genome fixed after 0 passes\n",
      "Genome fully rebuilt\n",
      "Genome fully rebuilt\n",
      "Genome fixed after 0 passes\n",
      "Genome fixed after 4 passes\n",
      "Genome fixed after 0 passes\n",
      "Genome fully rebuilt\n"
     ]
    },
    {
     "name": "stderr",
     "output_type": "stream",
     "text": []
    },
    {
     "name": "stdout",
     "output_type": "stream",
     "text": [
      "Genome fully rebuilt\n",
      "Genome fixed after 0 passes\n",
      "Genome fixed after 0 passes\n",
      "Genome fixed after 1 passes\n",
      "Genome fixed after 1 passes\n",
      "Genome fixed after 0 passes\n",
      "Genome fixed after 9 passes\n",
      "Genome fixed after 0 passes\n",
      "Genome fully rebuilt\n",
      "Genome fixed after 0 passes\n",
      "Genome fully rebuilt\n"
     ]
    },
    {
     "name": "stderr",
     "output_type": "stream",
     "text": [
      "Runnig genetic alogrithm: 100%|██████████| 100/100 [00:46<00:00,  2.16 generation/s]\n",
      "Running grid search:   5%|▍         | 9/192 [05:33<2:00:18, 39.44s/ combination]"
     ]
    },
    {
     "name": "stdout",
     "output_type": "stream",
     "text": [
      "Genome fixed after 6 passes\n",
      "Genome fully rebuilt\n",
      "Genome fixed after 9 passes\n",
      "Genome fully rebuilt\n",
      "Genome fixed after 6 passes\n",
      "Genome fixed after 2 passes\n",
      "Genome fully rebuilt\n",
      "Genome fixed after 1 passes\n",
      "Genome fixed after 0 passes\n",
      "Genome fixed after 0 passes\n",
      "Genome fully rebuilt\n",
      "Genome fully rebuilt\n"
     ]
    },
    {
     "name": "stderr",
     "output_type": "stream",
     "text": []
    },
    {
     "name": "stdout",
     "output_type": "stream",
     "text": [
      "Genome fully rebuilt\n",
      "Genome fixed after 3 passes\n",
      "Genome fixed after 0 passes\n",
      "Genome fixed after 0 passes\n",
      "Genome fixed after 6 passes\n",
      "Genome fixed after 0 passes\n",
      "Genome fully rebuilt\n",
      "Genome fixed after 0 passes\n",
      "Genome fully rebuilt\n",
      "Genome fully rebuilt\n",
      "Genome fixed after 0 passes\n",
      "Genome fixed after 1 passes\n",
      "Genome fixed after 0 passes\n",
      "Genome fixed after 1 passes\n",
      "Genome fully rebuilt\n",
      "Genome fully rebuilt\n",
      "Genome fixed after 9 passes\n",
      "Genome fixed after 0 passes\n",
      "Genome fixed after 1 passes\n",
      "Genome fixed after 5 passes\n",
      "Genome fixed after 1 passes\n",
      "Genome fully rebuilt\n",
      "Genome fixed after 0 passes\n",
      "Genome fixed after 0 passes\n",
      "Genome fixed after 3 passes\n",
      "Genome fully rebuilt\n"
     ]
    },
    {
     "name": "stderr",
     "output_type": "stream",
     "text": []
    },
    {
     "name": "stdout",
     "output_type": "stream",
     "text": [
      "Genome fully rebuilt\n",
      "Genome fully rebuilt\n",
      "Genome fully rebuilt\n",
      "Genome fully rebuilt\n",
      "Genome fixed after 4 passes\n",
      "Genome fully rebuilt\n",
      "Genome fixed after 6 passes\n",
      "Genome fixed after 4 passes\n",
      "Genome fixed after 6 passes\n",
      "Genome fixed after 0 passes\n",
      "Genome fixed after 4 passes\n",
      "Genome fixed after 2 passes\n",
      "Genome fixed after 2 passes\n",
      "Genome fixed after 0 passes\n",
      "Genome fixed after 0 passes\n",
      "Genome fixed after 0 passes\n",
      "Genome fixed after 0 passes\n",
      "Genome fixed after 0 passes\n",
      "Genome fixed after 3 passes\n",
      "Genome fixed after 0 passes\n"
     ]
    },
    {
     "name": "stderr",
     "output_type": "stream",
     "text": []
    },
    {
     "name": "stdout",
     "output_type": "stream",
     "text": [
      "Genome fixed after 1 passes\n",
      "Genome fixed after 0 passes\n",
      "Genome fixed after 5 passes\n",
      "Genome fixed after 3 passes\n",
      "Genome fully rebuilt\n",
      "Genome fixed after 0 passes\n",
      "Genome fixed after 0 passes\n",
      "Genome fixed after 4 passes\n",
      "Genome fully rebuilt\n",
      "Genome fully rebuilt\n",
      "Genome fixed after 1 passes\n",
      "Genome fixed after 0 passes\n",
      "Genome fixed after 0 passes\n",
      "Genome fixed after 0 passes\n",
      "Genome fixed after 3 passes\n",
      "Genome fully rebuilt\n",
      "Genome fixed after 0 passes\n"
     ]
    },
    {
     "name": "stderr",
     "output_type": "stream",
     "text": []
    },
    {
     "name": "stdout",
     "output_type": "stream",
     "text": [
      "Genome fixed after 0 passes\n",
      "Genome fixed after 3 passes\n",
      "Genome fully rebuilt\n",
      "Genome fully rebuilt\n",
      "Genome fully rebuilt\n",
      "Genome fixed after 4 passes\n",
      "Genome fully rebuilt\n",
      "Genome fully rebuilt\n",
      "Genome fixed after 3 passes\n",
      "Genome fixed after 1 passes\n",
      "Genome fixed after 1 passes\n",
      "Genome fully rebuilt\n"
     ]
    },
    {
     "name": "stderr",
     "output_type": "stream",
     "text": []
    },
    {
     "name": "stdout",
     "output_type": "stream",
     "text": [
      "Genome fixed after 0 passes\n",
      "Genome fixed after 3 passes\n",
      "Genome fixed after 0 passes\n",
      "Genome fixed after 8 passes\n",
      "Genome fixed after 0 passes\n",
      "Genome fixed after 0 passes\n",
      "Genome fully rebuilt\n",
      "Genome fully rebuilt\n",
      "Genome fully rebuilt\n",
      "Genome fully rebuilt\n",
      "Genome fixed after 0 passes\n",
      "Genome fixed after 2 passes\n",
      "Genome fixed after 1 passes\n",
      "Genome fully rebuilt\n",
      "Genome fixed after 0 passes\n",
      "Genome fully rebuilt\n",
      "Genome fully rebuilt\n",
      "Genome fully rebuilt\n",
      "Genome fixed after 0 passes\n",
      "Genome fixed after 0 passes\n",
      "Genome fixed after 1 passes\n",
      "Genome fully rebuilt\n",
      "Genome fixed after 0 passes\n",
      "Genome fully rebuilt\n",
      "Genome fixed after 4 passes\n",
      "Genome fixed after 4 passes\n",
      "Genome fixed after 4 passes\n",
      "Genome fixed after 4 passes\n"
     ]
    },
    {
     "name": "stderr",
     "output_type": "stream",
     "text": []
    },
    {
     "name": "stdout",
     "output_type": "stream",
     "text": [
      "Genome fully rebuilt\n",
      "Genome fixed after 0 passes\n",
      "Genome fixed after 0 passes\n",
      "Genome fixed after 5 passes\n",
      "Genome fixed after 6 passes\n",
      "Genome fixed after 0 passes\n",
      "Genome fixed after 2 passes\n",
      "Genome fixed after 0 passes\n",
      "Genome fixed after 0 passes\n",
      "Genome fixed after 0 passes\n",
      "Genome fully rebuilt\n",
      "Genome fully rebuilt\n"
     ]
    },
    {
     "name": "stderr",
     "output_type": "stream",
     "text": []
    },
    {
     "name": "stdout",
     "output_type": "stream",
     "text": [
      "Genome fully rebuilt\n",
      "Genome fully rebuilt\n",
      "Genome fixed after 2 passes\n",
      "Genome fully rebuilt\n",
      "Genome fully rebuilt\n",
      "Genome fixed after 1 passes\n",
      "Genome fixed after 0 passes\n",
      "Genome fixed after 8 passes\n",
      "Genome fixed after 0 passes\n",
      "Genome fixed after 0 passes\n",
      "Genome fully rebuilt\n",
      "Genome fixed after 0 passes\n",
      "Genome fully rebuilt\n",
      "Genome fully rebuilt\n",
      "Genome fixed after 0 passes\n",
      "Genome fully rebuilt\n",
      "Genome fully rebuilt\n",
      "Genome fully rebuilt\n",
      "Genome fixed after 4 passes\n",
      "Genome fully rebuilt\n",
      "Genome fully rebuilt\n",
      "Genome fully rebuilt\n",
      "Genome fixed after 2 passes\n"
     ]
    },
    {
     "name": "stderr",
     "output_type": "stream",
     "text": []
    },
    {
     "name": "stdout",
     "output_type": "stream",
     "text": [
      "Genome fully rebuilt\n",
      "Genome fully rebuilt\n",
      "Genome fully rebuilt\n",
      "Genome fixed after 3 passes\n",
      "Genome fixed after 8 passes\n",
      "Genome fully rebuilt\n",
      "Genome fixed after 0 passes\n",
      "Genome fixed after 5 passes\n",
      "Genome fixed after 0 passes\n",
      "Genome fixed after 5 passes\n",
      "Genome fixed after 0 passes\n",
      "Genome fully rebuilt\n",
      "Genome fully rebuilt\n",
      "Genome fully rebuilt\n",
      "Genome fixed after 2 passes\n",
      "Genome fixed after 9 passes\n",
      "Genome fixed after 7 passes\n",
      "Genome fully rebuilt\n",
      "Genome fixed after 5 passes\n",
      "Genome fully rebuilt\n",
      "Genome fixed after 0 passes\n",
      "Genome fixed after 0 passes\n",
      "Genome fully rebuilt\n",
      "Genome fully rebuilt\n",
      "Genome fixed after 3 passes\n",
      "Genome fully rebuilt\n",
      "Genome fully rebuilt\n",
      "Genome fixed after 0 passes\n",
      "Genome fixed after 0 passes\n",
      "Genome fixed after 1 passes\n",
      "Genome fixed after 3 passes\n",
      "Genome fully rebuilt\n",
      "Genome fully rebuilt\n",
      "Genome fixed after 1 passes\n",
      "Genome fixed after 7 passes\n",
      "Genome fixed after 7 passes\n",
      "Genome fixed after 0 passes\n",
      "Genome fully rebuilt\n",
      "Genome fully rebuilt\n",
      "Genome fixed after 0 passes\n"
     ]
    },
    {
     "name": "stderr",
     "output_type": "stream",
     "text": []
    },
    {
     "name": "stdout",
     "output_type": "stream",
     "text": [
      "Genome fixed after 1 passes\n",
      "Genome fixed after 0 passes\n",
      "Genome fully rebuilt\n",
      "Genome fixed after 4 passes\n",
      "Genome fully rebuilt\n",
      "Genome fixed after 3 passes\n",
      "Genome fixed after 4 passes\n",
      "Genome fixed after 0 passes\n",
      "Genome fully rebuilt\n",
      "Genome fixed after 0 passes\n",
      "Genome fully rebuilt\n",
      "Genome fixed after 0 passes\n",
      "Genome fully rebuilt\n",
      "Genome fixed after 8 passes\n",
      "Genome fixed after 5 passes\n",
      "Genome fixed after 1 passes\n",
      "Genome fixed after 4 passes\n",
      "Genome fixed after 0 passes\n",
      "Genome fixed after 0 passes\n",
      "Genome fixed after 0 passes\n",
      "Genome fixed after 0 passes\n",
      "Genome fully rebuilt\n"
     ]
    },
    {
     "name": "stderr",
     "output_type": "stream",
     "text": []
    },
    {
     "name": "stdout",
     "output_type": "stream",
     "text": [
      "Genome fixed after 0 passes\n",
      "Genome fixed after 9 passes\n",
      "Genome fixed after 8 passes\n",
      "Genome fixed after 0 passes\n",
      "Genome fully rebuilt\n",
      "Genome fixed after 8 passes\n",
      "Genome fixed after 3 passes\n",
      "Genome fixed after 0 passes\n",
      "Genome fixed after 0 passes\n",
      "Genome fully rebuilt\n",
      "Genome fully rebuilt\n",
      "Genome fixed after 1 passes\n",
      "Genome fixed after 0 passes\n",
      "Genome fully rebuilt\n",
      "Genome fixed after 0 passes\n",
      "Genome fixed after 0 passes\n",
      "Genome fixed after 0 passes\n",
      "Genome fixed after 0 passes\n",
      "Genome fixed after 0 passes\n"
     ]
    },
    {
     "name": "stderr",
     "output_type": "stream",
     "text": []
    },
    {
     "name": "stdout",
     "output_type": "stream",
     "text": [
      "Genome fixed after 6 passes\n",
      "Genome fully rebuilt\n",
      "Genome fixed after 0 passes\n",
      "Genome fixed after 0 passes\n",
      "Genome fully rebuilt\n",
      "Genome fixed after 3 passes\n",
      "Genome fixed after 3 passes\n",
      "Genome fixed after 4 passes\n",
      "Genome fully rebuilt\n",
      "Genome fixed after 4 passes\n",
      "Genome fixed after 0 passes\n",
      "Genome fixed after 0 passes\n",
      "Genome fixed after 0 passes\n",
      "Genome fixed after 0 passes\n",
      "Genome fully rebuilt\n",
      "Genome fixed after 0 passes\n",
      "Genome fixed after 1 passes\n",
      "Genome fully rebuilt\n"
     ]
    },
    {
     "name": "stderr",
     "output_type": "stream",
     "text": []
    },
    {
     "name": "stdout",
     "output_type": "stream",
     "text": [
      "Genome fixed after 4 passes\n",
      "Genome fully rebuilt\n",
      "Genome fully rebuilt\n",
      "Genome fixed after 0 passes\n",
      "Genome fixed after 1 passes\n",
      "Genome fixed after 0 passes\n",
      "Genome fully rebuilt\n",
      "Genome fixed after 5 passes\n",
      "Genome fixed after 0 passes\n",
      "Genome fixed after 0 passes\n",
      "Genome fully rebuilt\n",
      "Genome fixed after 9 passes\n",
      "Genome fixed after 0 passes\n",
      "Genome fully rebuilt\n",
      "Genome fully rebuilt\n",
      "Genome fixed after 2 passes\n",
      "Genome fully rebuilt\n",
      "Genome fixed after 5 passes\n",
      "Genome fully rebuilt\n",
      "Genome fixed after 0 passes\n",
      "Genome fixed after 2 passes\n",
      "Genome fixed after 1 passes\n",
      "Genome fixed after 0 passes\n",
      "Genome fully rebuilt\n",
      "Genome fixed after 0 passes\n"
     ]
    },
    {
     "name": "stderr",
     "output_type": "stream",
     "text": []
    },
    {
     "name": "stdout",
     "output_type": "stream",
     "text": [
      "Genome fixed after 0 passes\n",
      "Genome fixed after 0 passes\n",
      "Genome fixed after 1 passes\n",
      "Genome fixed after 1 passes\n",
      "Genome fixed after 0 passes\n",
      "Genome fully rebuilt\n",
      "Genome fully rebuilt\n",
      "Genome fixed after 0 passes\n",
      "Genome fully rebuilt\n",
      "Genome fixed after 3 passes\n",
      "Genome fixed after 0 passes\n",
      "Genome fully rebuilt\n",
      "Genome fixed after 0 passes\n",
      "Genome fixed after 0 passes\n",
      "Genome fixed after 3 passes\n",
      "Genome fully rebuilt\n",
      "Genome fixed after 8 passes\n",
      "Genome fully rebuilt\n",
      "Genome fully rebuilt\n"
     ]
    },
    {
     "name": "stderr",
     "output_type": "stream",
     "text": []
    },
    {
     "name": "stdout",
     "output_type": "stream",
     "text": [
      "Genome fixed after 0 passes\n",
      "Genome fully rebuilt\n",
      "Genome fixed after 0 passes\n",
      "Genome fixed after 0 passes\n",
      "Genome fully rebuilt\n",
      "Genome fixed after 0 passes\n",
      "Genome fully rebuilt\n",
      "Genome fixed after 6 passes\n",
      "Genome fixed after 0 passes\n",
      "Genome fully rebuilt\n",
      "Genome fixed after 2 passes\n",
      "Genome fully rebuilt\n",
      "Genome fixed after 3 passes\n",
      "Genome fully rebuilt\n",
      "Genome fully rebuilt\n",
      "Genome fixed after 0 passes\n",
      "Genome fixed after 8 passes\n",
      "Genome fixed after 0 passes\n",
      "Genome fixed after 5 passes\n",
      "Genome fixed after 0 passes\n",
      "Genome fixed after 2 passes\n"
     ]
    },
    {
     "name": "stderr",
     "output_type": "stream",
     "text": []
    },
    {
     "name": "stdout",
     "output_type": "stream",
     "text": [
      "Genome fully rebuilt\n",
      "Genome fixed after 0 passes\n",
      "Genome fully rebuilt\n",
      "Genome fixed after 0 passes\n",
      "Genome fixed after 0 passes\n",
      "Genome fixed after 2 passes\n",
      "Genome fully rebuilt\n",
      "Genome fixed after 1 passes\n",
      "Genome fixed after 0 passes\n",
      "Genome fixed after 2 passes\n",
      "Genome fully rebuilt\n",
      "Genome fixed after 6 passes\n",
      "Genome fully rebuilt\n",
      "Genome fixed after 0 passes\n",
      "Genome fully rebuilt\n",
      "Genome fully rebuilt\n",
      "Genome fixed after 0 passes\n",
      "Genome fixed after 0 passes\n"
     ]
    },
    {
     "name": "stderr",
     "output_type": "stream",
     "text": []
    },
    {
     "name": "stdout",
     "output_type": "stream",
     "text": [
      "Genome fully rebuilt\n",
      "Genome fully rebuilt\n",
      "Genome fixed after 0 passes\n",
      "Genome fixed after 2 passes\n",
      "Genome fixed after 3 passes\n",
      "Genome fully rebuilt\n",
      "Genome fully rebuilt\n",
      "Genome fully rebuilt\n",
      "Genome fixed after 6 passes\n",
      "Genome fixed after 3 passes\n",
      "Genome fixed after 1 passes\n",
      "Genome fully rebuilt\n",
      "Genome fixed after 1 passes\n",
      "Genome fully rebuilt\n",
      "Genome fixed after 0 passes\n",
      "Genome fixed after 0 passes\n",
      "Genome fully rebuilt\n",
      "Genome fully rebuilt\n",
      "Genome fixed after 4 passes\n",
      "Genome fully rebuilt\n",
      "Genome fully rebuilt\n",
      "Genome fully rebuilt\n",
      "Genome fully rebuilt\n"
     ]
    },
    {
     "name": "stderr",
     "output_type": "stream",
     "text": []
    },
    {
     "name": "stdout",
     "output_type": "stream",
     "text": [
      "Genome fully rebuilt\n",
      "Genome fully rebuilt\n",
      "Genome fixed after 6 passes\n",
      "Genome fully rebuilt\n",
      "Genome fixed after 9 passes\n",
      "Genome fully rebuilt\n",
      "Genome fixed after 0 passes\n",
      "Genome fixed after 0 passes\n",
      "Genome fixed after 1 passes\n",
      "Genome fully rebuilt\n",
      "Genome fixed after 1 passes\n",
      "Genome fully rebuilt\n",
      "Genome fully rebuilt\n",
      "Genome fixed after 0 passes\n",
      "Genome fixed after 0 passes\n",
      "Genome fully rebuilt\n",
      "Genome fixed after 2 passes\n",
      "Genome fixed after 0 passes\n",
      "Genome fixed after 6 passes\n",
      "Genome fully rebuilt\n",
      "Genome fully rebuilt\n"
     ]
    },
    {
     "name": "stderr",
     "output_type": "stream",
     "text": []
    },
    {
     "name": "stdout",
     "output_type": "stream",
     "text": [
      "Genome fixed after 1 passes\n",
      "Genome fixed after 4 passes\n",
      "Genome fixed after 0 passes\n",
      "Genome fully rebuilt\n",
      "Genome fixed after 1 passes\n",
      "Genome fixed after 0 passes\n",
      "Genome fully rebuilt\n",
      "Genome fixed after 7 passes\n",
      "Genome fully rebuilt\n"
     ]
    },
    {
     "name": "stderr",
     "output_type": "stream",
     "text": []
    },
    {
     "name": "stdout",
     "output_type": "stream",
     "text": [
      "Genome fully rebuilt\n",
      "Genome fully rebuilt\n",
      "Genome fixed after 2 passes\n",
      "Genome fully rebuilt\n",
      "Genome fixed after 0 passes\n",
      "Genome fully rebuilt\n",
      "Genome fixed after 0 passes\n",
      "Genome fully rebuilt\n",
      "Genome fixed after 3 passes\n",
      "Genome fully rebuilt\n",
      "Genome fixed after 6 passes\n",
      "Genome fully rebuilt\n",
      "Genome fixed after 6 passes\n",
      "Genome fully rebuilt\n",
      "Genome fixed after 4 passes\n",
      "Genome fixed after 0 passes\n"
     ]
    },
    {
     "name": "stderr",
     "output_type": "stream",
     "text": []
    },
    {
     "name": "stdout",
     "output_type": "stream",
     "text": [
      "Genome fixed after 0 passes\n",
      "Genome fixed after 4 passes\n",
      "Genome fully rebuilt\n",
      "Genome fixed after 2 passes\n",
      "Genome fully rebuilt\n",
      "Genome fully rebuilt\n",
      "Genome fixed after 0 passes\n",
      "Genome fully rebuilt\n",
      "Genome fixed after 5 passes\n",
      "Genome fixed after 5 passes\n",
      "Genome fixed after 7 passes\n"
     ]
    },
    {
     "name": "stderr",
     "output_type": "stream",
     "text": []
    },
    {
     "name": "stdout",
     "output_type": "stream",
     "text": [
      "Genome fixed after 4 passes\n",
      "Genome fully rebuilt\n"
     ]
    },
    {
     "name": "stderr",
     "output_type": "stream",
     "text": []
    },
    {
     "name": "stdout",
     "output_type": "stream",
     "text": [
      "Genome fixed after 0 passes\n",
      "Genome fixed after 0 passes\n",
      "Genome fixed after 0 passes\n",
      "Genome fully rebuilt\n",
      "Genome fully rebuilt\n",
      "Genome fixed after 0 passes\n",
      "Genome fixed after 0 passes\n",
      "Genome fixed after 4 passes\n",
      "Genome fully rebuilt\n",
      "Genome fully rebuilt\n",
      "Genome fixed after 2 passes\n",
      "Genome fixed after 6 passes\n",
      "Genome fixed after 1 passes\n",
      "Genome fixed after 5 passes\n",
      "Genome fixed after 0 passes\n",
      "Genome fully rebuilt\n",
      "Genome fully rebuilt\n",
      "Genome fixed after 0 passes\n",
      "Genome fully rebuilt\n",
      "Genome fully rebuilt\n",
      "Genome fixed after 3 passes\n",
      "Genome fully rebuilt\n",
      "Genome fixed after 0 passes\n"
     ]
    },
    {
     "name": "stderr",
     "output_type": "stream",
     "text": []
    },
    {
     "name": "stdout",
     "output_type": "stream",
     "text": [
      "Genome fixed after 1 passes\n",
      "Genome fully rebuilt\n",
      "Genome fixed after 0 passes\n",
      "Genome fixed after 0 passes\n",
      "Genome fixed after 2 passes\n",
      "Genome fixed after 0 passes\n",
      "Genome fixed after 0 passes\n",
      "Genome fixed after 0 passes\n",
      "Genome fixed after 5 passes\n",
      "Genome fixed after 0 passes\n"
     ]
    },
    {
     "name": "stderr",
     "output_type": "stream",
     "text": []
    },
    {
     "name": "stdout",
     "output_type": "stream",
     "text": [
      "Genome fixed after 6 passes\n",
      "Genome fixed after 0 passes\n",
      "Genome fully rebuilt\n",
      "Genome fixed after 0 passes\n",
      "Genome fixed after 0 passes\n",
      "Genome fixed after 0 passes\n",
      "Genome fixed after 0 passes\n",
      "Genome fixed after 5 passes\n",
      "Genome fixed after 0 passes\n",
      "Genome fixed after 1 passes\n",
      "Genome fixed after 4 passes\n",
      "Genome fixed after 0 passes\n",
      "Genome fixed after 0 passes\n",
      "Genome fixed after 0 passes\n",
      "Genome fixed after 4 passes\n"
     ]
    },
    {
     "name": "stderr",
     "output_type": "stream",
     "text": []
    },
    {
     "name": "stdout",
     "output_type": "stream",
     "text": [
      "Genome fixed after 0 passes\n",
      "Genome fixed after 0 passes\n",
      "Genome fixed after 2 passes\n",
      "Genome fixed after 0 passes\n"
     ]
    },
    {
     "name": "stderr",
     "output_type": "stream",
     "text": []
    },
    {
     "name": "stdout",
     "output_type": "stream",
     "text": [
      "Genome fully rebuilt\n",
      "Genome fully rebuilt\n",
      "Genome fully rebuilt\n",
      "Genome fixed after 0 passes\n",
      "Genome fixed after 0 passes\n",
      "Genome fixed after 0 passes\n",
      "Genome fully rebuilt\n",
      "Genome fixed after 0 passes\n",
      "Genome fully rebuilt\n",
      "Genome fixed after 7 passes\n",
      "Genome fixed after 4 passes\n",
      "Genome fixed after 1 passes\n",
      "Genome fixed after 0 passes\n",
      "Genome fixed after 0 passes\n"
     ]
    },
    {
     "name": "stderr",
     "output_type": "stream",
     "text": []
    },
    {
     "name": "stdout",
     "output_type": "stream",
     "text": [
      "Genome fixed after 0 passes\n",
      "Genome fully rebuilt\n",
      "Genome fixed after 1 passes\n",
      "Genome fully rebuilt\n",
      "Genome fully rebuilt\n",
      "Genome fully rebuilt\n"
     ]
    },
    {
     "name": "stderr",
     "output_type": "stream",
     "text": []
    },
    {
     "name": "stdout",
     "output_type": "stream",
     "text": [
      "Genome fixed after 0 passes\n",
      "Genome fixed after 4 passes\n",
      "Genome fully rebuilt\n",
      "Genome fully rebuilt\n"
     ]
    },
    {
     "name": "stderr",
     "output_type": "stream",
     "text": []
    },
    {
     "name": "stdout",
     "output_type": "stream",
     "text": [
      "Genome fixed after 0 passes\n",
      "Genome fixed after 0 passes\n",
      "Genome fixed after 0 passes\n",
      "Genome fixed after 3 passes\n",
      "Genome fixed after 7 passes\n",
      "Genome fully rebuilt\n",
      "Genome fully rebuilt\n",
      "Genome fixed after 1 passes\n"
     ]
    },
    {
     "name": "stderr",
     "output_type": "stream",
     "text": []
    },
    {
     "name": "stdout",
     "output_type": "stream",
     "text": [
      "Genome fixed after 4 passes\n",
      "Genome fixed after 1 passes\n",
      "Genome fixed after 0 passes\n",
      "Genome fully rebuilt\n",
      "Genome fixed after 4 passes\n",
      "Genome fully rebuilt\n",
      "Genome fixed after 6 passes\n",
      "Genome fully rebuilt\n",
      "Genome fixed after 7 passes\n",
      "Genome fully rebuilt\n",
      "Genome fixed after 2 passes\n",
      "Genome fixed after 0 passes\n",
      "Genome fully rebuilt\n",
      "Genome fixed after 0 passes\n",
      "Genome fixed after 3 passes\n",
      "Genome fully rebuilt\n",
      "Genome fixed after 0 passes\n",
      "Genome fully rebuilt\n",
      "Genome fixed after 0 passes\n",
      "Genome fully rebuilt\n"
     ]
    },
    {
     "name": "stderr",
     "output_type": "stream",
     "text": []
    },
    {
     "name": "stdout",
     "output_type": "stream",
     "text": [
      "Genome fully rebuilt\n",
      "Genome fixed after 8 passes\n",
      "Genome fixed after 0 passes\n",
      "Genome fixed after 1 passes\n",
      "Genome fully rebuilt\n",
      "Genome fixed after 6 passes\n",
      "Genome fixed after 0 passes\n",
      "Genome fully rebuilt\n",
      "Genome fully rebuilt\n",
      "Genome fixed after 0 passes\n"
     ]
    },
    {
     "name": "stderr",
     "output_type": "stream",
     "text": []
    },
    {
     "name": "stdout",
     "output_type": "stream",
     "text": [
      "Genome fixed after 0 passes\n",
      "Genome fixed after 0 passes\n",
      "Genome fixed after 0 passes\n",
      "Genome fixed after 0 passes\n",
      "Genome fixed after 0 passes\n",
      "Genome fixed after 4 passes\n",
      "Genome fixed after 1 passes\n",
      "Genome fixed after 0 passes\n",
      "Genome fully rebuilt\n",
      "Genome fixed after 0 passes\n",
      "Genome fixed after 0 passes\n",
      "Genome fully rebuilt\n",
      "Genome fully rebuilt\n",
      "Genome fully rebuilt\n",
      "Genome fixed after 8 passes\n",
      "Genome fully rebuilt\n",
      "Genome fully rebuilt\n",
      "Genome fully rebuilt\n",
      "Genome fully rebuilt\n",
      "Genome fully rebuilt\n",
      "Genome fully rebuilt\n",
      "Genome fixed after 4 passes\n"
     ]
    },
    {
     "name": "stderr",
     "output_type": "stream",
     "text": []
    },
    {
     "name": "stdout",
     "output_type": "stream",
     "text": [
      "Genome fixed after 0 passes\n",
      "Genome fixed after 0 passes\n",
      "Genome fixed after 0 passes\n",
      "Genome fixed after 0 passes\n",
      "Genome fixed after 4 passes\n",
      "Genome fixed after 8 passes\n",
      "Genome fixed after 8 passes\n",
      "Genome fixed after 4 passes\n"
     ]
    },
    {
     "name": "stderr",
     "output_type": "stream",
     "text": []
    },
    {
     "name": "stdout",
     "output_type": "stream",
     "text": [
      "Genome fully rebuilt\n",
      "Genome fixed after 0 passes\n",
      "Genome fully rebuilt\n",
      "Genome fixed after 6 passes\n",
      "Genome fixed after 2 passes\n",
      "Genome fixed after 0 passes\n",
      "Genome fully rebuilt\n",
      "Genome fully rebuilt\n",
      "Genome fully rebuilt\n",
      "Genome fixed after 5 passes\n",
      "Genome fully rebuilt\n",
      "Genome fixed after 4 passes\n",
      "Genome fixed after 0 passes\n",
      "Genome fixed after 0 passes\n",
      "Genome fixed after 1 passes\n",
      "Genome fixed after 3 passes\n",
      "Genome fully rebuilt\n",
      "Genome fixed after 6 passes\n",
      "Genome fixed after 9 passes\n",
      "Genome fully rebuilt\n"
     ]
    },
    {
     "name": "stderr",
     "output_type": "stream",
     "text": []
    },
    {
     "name": "stdout",
     "output_type": "stream",
     "text": [
      "Genome fixed after 4 passes\n",
      "Genome fully rebuilt\n",
      "Genome fixed after 9 passes\n",
      "Genome fixed after 0 passes\n",
      "Genome fully rebuilt\n",
      "Genome fixed after 2 passes\n",
      "Genome fixed after 5 passes\n"
     ]
    },
    {
     "name": "stderr",
     "output_type": "stream",
     "text": []
    },
    {
     "name": "stdout",
     "output_type": "stream",
     "text": [
      "Genome fixed after 0 passes\n",
      "Genome fixed after 2 passes\n",
      "Genome fixed after 3 passes\n",
      "Genome fully rebuilt\n",
      "Genome fixed after 0 passes\n",
      "Genome fully rebuilt\n",
      "Genome fixed after 2 passes\n",
      "Genome fully rebuilt\n",
      "Genome fully rebuilt\n",
      "Genome fully rebuilt\n",
      "Genome fully rebuilt\n",
      "Genome fully rebuilt\n",
      "Genome fully rebuilt\n",
      "Genome fixed after 0 passes\n",
      "Genome fully rebuilt\n",
      "Genome fixed after 3 passes\n",
      "Genome fixed after 3 passes\n"
     ]
    },
    {
     "name": "stderr",
     "output_type": "stream",
     "text": []
    },
    {
     "name": "stdout",
     "output_type": "stream",
     "text": [
      "Genome fixed after 0 passes\n",
      "Genome fully rebuilt\n",
      "Genome fixed after 1 passes\n",
      "Genome fixed after 0 passes\n",
      "Genome fixed after 6 passes\n",
      "Genome fixed after 0 passes\n",
      "Genome fully rebuilt\n",
      "Genome fully rebuilt\n",
      "Genome fixed after 0 passes\n",
      "Genome fixed after 0 passes\n",
      "Genome fully rebuilt\n",
      "Genome fully rebuilt\n",
      "Genome fixed after 0 passes\n"
     ]
    },
    {
     "name": "stderr",
     "output_type": "stream",
     "text": []
    },
    {
     "name": "stdout",
     "output_type": "stream",
     "text": [
      "Genome fixed after 0 passes\n",
      "Genome fully rebuilt\n",
      "Genome fixed after 0 passes\n",
      "Genome fixed after 0 passes\n",
      "Genome fully rebuilt\n",
      "Genome fully rebuilt\n",
      "Genome fixed after 0 passes\n",
      "Genome fixed after 3 passes\n",
      "Genome fully rebuilt\n",
      "Genome fixed after 0 passes\n",
      "Genome fixed after 0 passes\n",
      "Genome fixed after 0 passes\n",
      "Genome fixed after 0 passes\n",
      "Genome fixed after 0 passes\n",
      "Genome fully rebuilt\n",
      "Genome fixed after 0 passes\n"
     ]
    },
    {
     "name": "stderr",
     "output_type": "stream",
     "text": []
    },
    {
     "name": "stdout",
     "output_type": "stream",
     "text": [
      "Genome fully rebuilt\n",
      "Genome fully rebuilt\n",
      "Genome fully rebuilt\n",
      "Genome fixed after 0 passes\n",
      "Genome fixed after 2 passes\n",
      "Genome fully rebuilt\n",
      "Genome fixed after 1 passes\n",
      "Genome fixed after 2 passes\n",
      "Genome fixed after 2 passes\n",
      "Genome fully rebuilt\n",
      "Genome fully rebuilt\n",
      "Genome fixed after 0 passes\n"
     ]
    },
    {
     "name": "stderr",
     "output_type": "stream",
     "text": []
    },
    {
     "name": "stdout",
     "output_type": "stream",
     "text": [
      "Genome fully rebuilt\n",
      "Genome fixed after 2 passes\n",
      "Genome fully rebuilt\n",
      "Genome fixed after 1 passes\n",
      "Genome fixed after 4 passes\n",
      "Genome fully rebuilt\n",
      "Genome fixed after 5 passes\n",
      "Genome fully rebuilt\n",
      "Genome fixed after 0 passes\n",
      "Genome fully rebuilt\n",
      "Genome fixed after 0 passes\n",
      "Genome fixed after 0 passes\n",
      "Genome fully rebuilt\n",
      "Genome fixed after 0 passes\n",
      "Genome fully rebuilt\n"
     ]
    },
    {
     "name": "stderr",
     "output_type": "stream",
     "text": [
      "\n"
     ]
    },
    {
     "name": "stdout",
     "output_type": "stream",
     "text": [
      "Genome fully rebuilt\n",
      "Genome fully rebuilt\n",
      "Genome fixed after 0 passes\n",
      "Genome fixed after 2 passes\n",
      "Genome fully rebuilt\n",
      "Genome fixed after 6 passes\n"
     ]
    },
    {
     "name": "stderr",
     "output_type": "stream",
     "text": [
      "Runnig genetic alogrithm:  44%|████▍     | 44/100 [00:25<00:34,  1.61 generation/s]\u001b[A"
     ]
    },
    {
     "name": "stdout",
     "output_type": "stream",
     "text": [
      "Genome fixed after 6 passes\n",
      "Genome fixed after 1 passes\n",
      "Genome fixed after 0 passes\n",
      "Genome fully rebuilt\n",
      "Genome fixed after 6 passes\n",
      "Genome fully rebuilt\n",
      "Genome fixed after 1 passes\n",
      "Genome fully rebuilt\n",
      "Genome fully rebuilt\n"
     ]
    },
    {
     "name": "stderr",
     "output_type": "stream",
     "text": []
    },
    {
     "name": "stdout",
     "output_type": "stream",
     "text": [
      "Genome fixed after 0 passes\n",
      "Genome fully rebuilt\n",
      "Genome fixed after 0 passes\n",
      "Genome fixed after 0 passes\n",
      "Genome fixed after 0 passes\n",
      "Genome fixed after 0 passes\n",
      "Genome fixed after 0 passes\n",
      "Genome fixed after 0 passes\n",
      "Genome fixed after 7 passes\n",
      "Genome fully rebuilt\n",
      "Genome fully rebuilt\n"
     ]
    },
    {
     "name": "stderr",
     "output_type": "stream",
     "text": []
    },
    {
     "name": "stdout",
     "output_type": "stream",
     "text": [
      "Genome fixed after 6 passes\n",
      "Genome fully rebuilt\n",
      "Genome fixed after 0 passes\n",
      "Genome fully rebuilt\n",
      "Genome fixed after 0 passes\n"
     ]
    },
    {
     "name": "stderr",
     "output_type": "stream",
     "text": []
    },
    {
     "name": "stdout",
     "output_type": "stream",
     "text": [
      "Genome fixed after 1 passes\n",
      "Genome fixed after 4 passes\n",
      "Genome fixed after 9 passes\n",
      "Genome fixed after 2 passes\n"
     ]
    },
    {
     "name": "stderr",
     "output_type": "stream",
     "text": []
    },
    {
     "name": "stdout",
     "output_type": "stream",
     "text": [
      "Genome fixed after 6 passes\n",
      "Genome fully rebuilt\n",
      "Genome fixed after 6 passes\n",
      "Genome fixed after 0 passes\n",
      "Genome fully rebuilt\n",
      "Genome fully rebuilt\n",
      "Genome fixed after 2 passes\n",
      "Genome fixed after 8 passes\n",
      "Genome fully rebuilt\n",
      "Genome fixed after 4 passes\n",
      "Genome fixed after 1 passes\n",
      "Genome fixed after 5 passes\n",
      "Genome fully rebuilt\n",
      "Genome fully rebuilt\n",
      "Genome fully rebuilt\n",
      "Genome fixed after 0 passes\n",
      "Genome fixed after 2 passes\n",
      "Genome fixed after 8 passes\n",
      "Genome fixed after 4 passes\n",
      "Genome fully rebuilt\n",
      "Genome fully rebuilt\n",
      "Genome fixed after 0 passes\n",
      "Genome fixed after 2 passes\n",
      "Genome fully rebuilt\n",
      "Genome fully rebuilt\n",
      "Genome fully rebuilt\n"
     ]
    },
    {
     "name": "stderr",
     "output_type": "stream",
     "text": []
    },
    {
     "name": "stdout",
     "output_type": "stream",
     "text": [
      "Genome fixed after 3 passes\n",
      "Genome fixed after 8 passes\n",
      "Genome fully rebuilt\n",
      "Genome fixed after 6 passes\n",
      "Genome fixed after 4 passes\n",
      "Genome fixed after 1 passes\n",
      "Genome fixed after 2 passes\n",
      "Genome fully rebuilt\n",
      "Genome fully rebuilt\n",
      "Genome fully rebuilt\n",
      "Genome fixed after 1 passes\n",
      "Genome fully rebuilt\n",
      "Genome fixed after 2 passes\n",
      "Genome fully rebuilt\n"
     ]
    },
    {
     "name": "stderr",
     "output_type": "stream",
     "text": []
    },
    {
     "name": "stdout",
     "output_type": "stream",
     "text": [
      "Genome fixed after 1 passes\n",
      "Genome fixed after 3 passes\n",
      "Genome fixed after 3 passes\n",
      "Genome fully rebuilt\n",
      "Genome fixed after 2 passes\n",
      "Genome fixed after 4 passes\n",
      "Genome fixed after 1 passes\n",
      "Genome fixed after 2 passes\n",
      "Genome fixed after 2 passes\n",
      "Genome fixed after 1 passes\n",
      "Genome fully rebuilt\n",
      "Genome fully rebuilt\n",
      "Genome fixed after 4 passes\n",
      "Genome fixed after 1 passes\n",
      "Genome fully rebuilt\n",
      "Genome fully rebuilt\n",
      "Genome fully rebuilt\n",
      "Genome fixed after 4 passes\n"
     ]
    },
    {
     "name": "stderr",
     "output_type": "stream",
     "text": [
      "\n",
      "Runnig genetic alogrithm:  52%|█████▏    | 52/100 [00:31<00:36,  1.33 generation/s]"
     ]
    },
    {
     "name": "stdout",
     "output_type": "stream",
     "text": [
      "Genome fully rebuilt\n",
      "Genome fully rebuilt\n",
      "Genome fixed after 6 passes\n",
      "Genome fully rebuilt\n",
      "Genome fixed after 0 passes\n",
      "Genome fixed after 1 passes\n",
      "Genome fully rebuilt\n",
      "Genome fully rebuilt\n",
      "Genome fully rebuilt\n",
      "Genome fixed after 0 passes\n",
      "Genome fixed after 1 passes\n",
      "Genome fully rebuilt\n",
      "Genome fixed after 0 passes\n"
     ]
    },
    {
     "name": "stderr",
     "output_type": "stream",
     "text": [
      "\u001b[A"
     ]
    },
    {
     "name": "stdout",
     "output_type": "stream",
     "text": [
      "Genome fixed after 6 passes\n",
      "Genome fixed after 0 passes\n",
      "Genome fully rebuilt\n",
      "Genome fully rebuilt\n",
      "Genome fixed after 0 passes\n",
      "Genome fixed after 8 passes\n",
      "Genome fixed after 4 passes\n",
      "Genome fixed after 2 passes\n",
      "Genome fully rebuilt\n",
      "Genome fixed after 1 passes\n",
      "Genome fixed after 5 passes\n",
      "Genome fully rebuilt\n",
      "Genome fixed after 0 passes\n",
      "Genome fully rebuilt\n",
      "Genome fully rebuilt\n",
      "Genome fully rebuilt\n",
      "Genome fixed after 9 passes\n",
      "Genome fully rebuilt\n",
      "Genome fixed after 0 passes\n",
      "Genome fully rebuilt\n",
      "Genome fully rebuilt\n",
      "Genome fixed after 0 passes\n",
      "Genome fixed after 8 passes\n",
      "Genome fixed after 0 passes\n",
      "Genome fixed after 0 passes\n"
     ]
    },
    {
     "name": "stderr",
     "output_type": "stream",
     "text": []
    },
    {
     "name": "stdout",
     "output_type": "stream",
     "text": [
      "Genome fully rebuilt\n",
      "Genome fixed after 0 passes\n",
      "Genome fully rebuilt\n",
      "Genome fully rebuilt\n",
      "Genome fixed after 5 passes\n",
      "Genome fully rebuilt\n",
      "Genome fixed after 0 passes\n",
      "Genome fixed after 0 passes\n",
      "Genome fixed after 0 passes\n",
      "Genome fully rebuilt\n",
      "Genome fixed after 1 passes\n",
      "Genome fixed after 1 passes\n",
      "Genome fixed after 0 passes\n",
      "Genome fixed after 0 passes\n",
      "Genome fully rebuilt\n"
     ]
    },
    {
     "name": "stderr",
     "output_type": "stream",
     "text": []
    },
    {
     "name": "stdout",
     "output_type": "stream",
     "text": [
      "Genome fixed after 0 passes\n",
      "Genome fixed after 5 passes\n",
      "Genome fully rebuilt\n",
      "Genome fully rebuilt\n",
      "Genome fixed after 0 passes\n",
      "Genome fully rebuilt\n",
      "Genome fixed after 0 passes\n",
      "Genome fixed after 0 passes\n",
      "Genome fixed after 1 passes\n",
      "Genome fixed after 6 passes\n",
      "Genome fixed after 0 passes\n",
      "Genome fully rebuilt\n",
      "Genome fully rebuilt\n",
      "Genome fully rebuilt\n",
      "Genome fixed after 1 passes\n",
      "Genome fixed after 0 passes\n",
      "Genome fully rebuilt\n",
      "Genome fully rebuilt\n",
      "Genome fixed after 5 passes\n",
      "Genome fully rebuilt\n",
      "Genome fixed after 1 passes\n",
      "Genome fully rebuilt\n",
      "Genome fixed after 0 passes\n",
      "Genome fixed after 0 passes\n",
      "Genome fully rebuilt\n",
      "Genome fully rebuilt\n",
      "Genome fully rebuilt\n",
      "Genome fixed after 0 passes\n",
      "Genome fully rebuilt\n",
      "Genome fully rebuilt\n",
      "Genome fixed after 0 passes\n",
      "Genome fixed after 1 passes\n",
      "Genome fixed after 9 passes\n",
      "Genome fixed after 1 passes\n",
      "Genome fully rebuilt\n",
      "Genome fixed after 0 passes\n",
      "Genome fully rebuilt\n",
      "Genome fully rebuilt\n",
      "Genome fixed after 1 passes\n",
      "Genome fully rebuilt\n",
      "Genome fully rebuilt\n"
     ]
    },
    {
     "name": "stderr",
     "output_type": "stream",
     "text": []
    },
    {
     "name": "stdout",
     "output_type": "stream",
     "text": [
      "Genome fixed after 0 passes\n",
      "Genome fixed after 0 passes\n",
      "Genome fixed after 4 passes\n",
      "Genome fixed after 7 passes\n",
      "Genome fixed after 2 passes\n",
      "Genome fully rebuilt\n",
      "Genome fixed after 4 passes\n",
      "Genome fully rebuilt\n",
      "Genome fixed after 0 passes\n",
      "Genome fully rebuilt\n",
      "Genome fixed after 1 passes\n",
      "Genome fully rebuilt\n",
      "Genome fully rebuilt\n",
      "Genome fully rebuilt\n",
      "Genome fixed after 3 passes\n"
     ]
    },
    {
     "name": "stderr",
     "output_type": "stream",
     "text": []
    },
    {
     "name": "stdout",
     "output_type": "stream",
     "text": [
      "Genome fully rebuilt\n",
      "Genome fully rebuilt\n",
      "Genome fully rebuilt\n",
      "Genome fixed after 3 passes\n",
      "Genome fully rebuilt\n",
      "Genome fully rebuilt\n",
      "Genome fixed after 6 passes\n",
      "Genome fixed after 0 passes\n",
      "Genome fixed after 0 passes\n",
      "Genome fixed after 0 passes\n",
      "Genome fixed after 0 passes\n",
      "Genome fixed after 0 passes\n",
      "Genome fixed after 0 passes\n",
      "Genome fully rebuilt\n",
      "Genome fixed after 0 passes\n",
      "Genome fully rebuilt\n",
      "Genome fixed after 1 passes\n",
      "Genome fully rebuilt\n",
      "Genome fully rebuilt\n"
     ]
    },
    {
     "name": "stderr",
     "output_type": "stream",
     "text": []
    },
    {
     "name": "stdout",
     "output_type": "stream",
     "text": [
      "Genome fixed after 0 passes\n",
      "Genome fully rebuilt\n",
      "Genome fully rebuilt\n",
      "Genome fixed after 0 passes\n",
      "Genome fixed after 0 passes\n",
      "Genome fixed after 0 passes\n",
      "Genome fully rebuilt\n",
      "Genome fixed after 0 passes\n",
      "Genome fully rebuilt\n",
      "Genome fixed after 4 passes\n",
      "Genome fixed after 1 passes\n",
      "Genome fixed after 0 passes\n",
      "Genome fixed after 6 passes\n",
      "Genome fixed after 0 passes\n",
      "Genome fully rebuilt\n",
      "Genome fixed after 0 passes\n",
      "Genome fully rebuilt\n",
      "Genome fully rebuilt\n",
      "Genome fully rebuilt\n",
      "Genome fixed after 6 passes\n",
      "Genome fixed after 3 passes\n",
      "Genome fully rebuilt\n"
     ]
    },
    {
     "name": "stderr",
     "output_type": "stream",
     "text": []
    },
    {
     "name": "stdout",
     "output_type": "stream",
     "text": [
      "Genome fully rebuilt\n",
      "Genome fixed after 6 passes\n",
      "Genome fixed after 0 passes\n",
      "Genome fully rebuilt\n",
      "Genome fixed after 0 passes\n",
      "Genome fully rebuilt\n",
      "Genome fixed after 0 passes\n",
      "Genome fixed after 0 passes\n",
      "Genome fully rebuilt\n",
      "Genome fixed after 7 passes\n",
      "Genome fully rebuilt\n",
      "Genome fixed after 9 passes\n",
      "Genome fully rebuilt\n",
      "Genome fixed after 9 passes\n",
      "Genome fixed after 0 passes\n",
      "Genome fixed after 7 passes\n",
      "Genome fixed after 0 passes\n",
      "Genome fixed after 0 passes\n",
      "Genome fixed after 0 passes\n",
      "Genome fixed after 0 passes\n",
      "Genome fixed after 0 passes\n",
      "Genome fixed after 2 passes\n",
      "Genome fixed after 5 passes\n",
      "Genome fixed after 0 passes\n",
      "Genome fully rebuilt\n",
      "Genome fixed after 1 passes\n",
      "Genome fully rebuilt\n"
     ]
    },
    {
     "name": "stderr",
     "output_type": "stream",
     "text": []
    },
    {
     "name": "stdout",
     "output_type": "stream",
     "text": [
      "Genome fully rebuilt\n",
      "Genome fixed after 2 passes\n",
      "Genome fixed after 0 passes\n",
      "Genome fully rebuilt\n",
      "Genome fixed after 1 passes\n",
      "Genome fixed after 2 passes\n",
      "Genome fully rebuilt\n",
      "Genome fixed after 2 passes\n",
      "Genome fixed after 7 passes\n",
      "Genome fixed after 0 passes\n",
      "Genome fixed after 0 passes\n",
      "Genome fixed after 2 passes\n",
      "Genome fixed after 0 passes\n",
      "Genome fixed after 0 passes\n",
      "Genome fixed after 0 passes\n",
      "Genome fixed after 2 passes\n",
      "Genome fixed after 9 passes\n"
     ]
    },
    {
     "name": "stderr",
     "output_type": "stream",
     "text": []
    },
    {
     "name": "stdout",
     "output_type": "stream",
     "text": [
      "Genome fully rebuilt\n",
      "Genome fixed after 5 passes\n",
      "Genome fully rebuilt\n",
      "Genome fully rebuilt\n",
      "Genome fixed after 6 passes\n",
      "Genome fully rebuilt\n",
      "Genome fixed after 6 passes\n",
      "Genome fully rebuilt\n",
      "Genome fixed after 3 passes\n",
      "Genome fixed after 0 passes\n",
      "Genome fixed after 0 passes\n",
      "Genome fixed after 0 passes\n",
      "Genome fixed after 8 passes\n",
      "Genome fully rebuilt\n",
      "Genome fully rebuilt\n",
      "Genome fixed after 2 passes\n",
      "Genome fully rebuilt\n"
     ]
    },
    {
     "name": "stderr",
     "output_type": "stream",
     "text": []
    },
    {
     "name": "stdout",
     "output_type": "stream",
     "text": [
      "Genome fixed after 2 passes\n",
      "Genome fixed after 0 passes\n",
      "Genome fixed after 8 passes\n",
      "Genome fixed after 4 passes\n",
      "Genome fixed after 0 passes\n",
      "Genome fixed after 7 passes\n",
      "Genome fixed after 1 passes\n",
      "Genome fully rebuilt\n",
      "Genome fixed after 4 passes\n"
     ]
    },
    {
     "name": "stderr",
     "output_type": "stream",
     "text": []
    },
    {
     "name": "stdout",
     "output_type": "stream",
     "text": [
      "Genome fully rebuilt\n",
      "Genome fixed after 2 passes\n",
      "Genome fixed after 0 passes\n",
      "Genome fixed after 0 passes\n",
      "Genome fixed after 1 passes\n",
      "Genome fixed after 0 passes\n",
      "Genome fixed after 0 passes\n",
      "Genome fully rebuilt\n",
      "Genome fixed after 1 passes\n",
      "Genome fixed after 0 passes\n",
      "Genome fixed after 0 passes\n",
      "Genome fixed after 0 passes\n",
      "Genome fixed after 0 passes\n",
      "Genome fixed after 0 passes\n",
      "Genome fully rebuilt\n",
      "Genome fully rebuilt\n",
      "Genome fixed after 1 passes\n"
     ]
    },
    {
     "name": "stderr",
     "output_type": "stream",
     "text": []
    },
    {
     "name": "stdout",
     "output_type": "stream",
     "text": [
      "Genome fully rebuilt\n",
      "Genome fully rebuilt\n",
      "Genome fixed after 4 passes\n",
      "Genome fixed after 3 passes\n",
      "Genome fixed after 0 passes\n",
      "Genome fixed after 4 passes\n",
      "Genome fully rebuilt\n",
      "Genome fixed after 0 passes\n",
      "Genome fully rebuilt\n",
      "Genome fixed after 0 passes\n",
      "Genome fixed after 0 passes\n",
      "Genome fixed after 0 passes\n",
      "Genome fixed after 6 passes\n",
      "Genome fixed after 0 passes\n",
      "Genome fixed after 0 passes\n",
      "Genome fully rebuilt\n",
      "Genome fixed after 0 passes\n",
      "Genome fully rebuilt\n",
      "Genome fully rebuilt\n",
      "Genome fixed after 5 passes\n",
      "Genome fully rebuilt\n"
     ]
    },
    {
     "name": "stderr",
     "output_type": "stream",
     "text": []
    },
    {
     "name": "stdout",
     "output_type": "stream",
     "text": [
      "Genome fixed after 0 passes\n",
      "Genome fully rebuilt\n",
      "Genome fixed after 0 passes\n",
      "Genome fixed after 0 passes\n",
      "Genome fixed after 1 passes\n",
      "Genome fixed after 0 passes\n",
      "Genome fixed after 0 passes\n",
      "Genome fixed after 0 passes\n",
      "Genome fully rebuilt\n",
      "Genome fixed after 0 passes\n",
      "Genome fixed after 0 passes\n",
      "Genome fixed after 0 passes\n",
      "Genome fully rebuilt\n",
      "Genome fully rebuilt\n",
      "Genome fully rebuilt\n",
      "Genome fully rebuilt\n"
     ]
    },
    {
     "name": "stderr",
     "output_type": "stream",
     "text": []
    },
    {
     "name": "stdout",
     "output_type": "stream",
     "text": [
      "Genome fixed after 0 passes\n",
      "Genome fixed after 3 passes\n",
      "Genome fixed after 0 passes\n",
      "Genome fixed after 0 passes\n",
      "Genome fixed after 0 passes\n",
      "Genome fixed after 0 passes\n",
      "Genome fixed after 4 passes\n",
      "Genome fully rebuilt\n",
      "Genome fixed after 0 passes\n",
      "Genome fixed after 0 passes\n",
      "Genome fully rebuilt\n",
      "Genome fully rebuilt\n",
      "Genome fully rebuilt\n",
      "Genome fixed after 0 passes\n"
     ]
    },
    {
     "name": "stderr",
     "output_type": "stream",
     "text": []
    },
    {
     "name": "stdout",
     "output_type": "stream",
     "text": [
      "Genome fully rebuilt\n",
      "Genome fixed after 0 passes\n",
      "Genome fixed after 0 passes\n",
      "Genome fixed after 4 passes\n",
      "Genome fixed after 0 passes\n",
      "Genome fixed after 0 passes\n",
      "Genome fixed after 0 passes\n",
      "Genome fully rebuilt\n",
      "Genome fully rebuilt\n"
     ]
    },
    {
     "name": "stderr",
     "output_type": "stream",
     "text": []
    },
    {
     "name": "stdout",
     "output_type": "stream",
     "text": [
      "Genome fully rebuilt\n",
      "Genome fixed after 0 passes\n",
      "Genome fixed after 1 passes\n"
     ]
    },
    {
     "name": "stderr",
     "output_type": "stream",
     "text": []
    },
    {
     "name": "stdout",
     "output_type": "stream",
     "text": [
      "Genome fixed after 2 passes\n",
      "Genome fixed after 0 passes\n",
      "Genome fixed after 0 passes\n",
      "Genome fixed after 9 passes\n",
      "Genome fixed after 5 passes\n",
      "Genome fixed after 0 passes\n",
      "Genome fully rebuilt\n",
      "Genome fixed after 0 passes\n"
     ]
    },
    {
     "name": "stderr",
     "output_type": "stream",
     "text": []
    },
    {
     "name": "stdout",
     "output_type": "stream",
     "text": [
      "Genome fixed after 0 passes\n",
      "Genome fixed after 3 passes\n",
      "Genome fixed after 0 passes\n",
      "Genome fixed after 1 passes\n",
      "Genome fully rebuilt\n",
      "Genome fixed after 1 passes\n",
      "Genome fixed after 0 passes\n",
      "Genome fully rebuilt\n",
      "Genome fixed after 0 passes\n",
      "Genome fixed after 0 passes\n",
      "Genome fixed after 0 passes\n",
      "Genome fixed after 0 passes\n",
      "Genome fully rebuilt\n",
      "Genome fixed after 0 passes\n",
      "Genome fully rebuilt\n",
      "Genome fully rebuilt\n",
      "Genome fixed after 9 passes\n",
      "Genome fixed after 0 passes\n"
     ]
    },
    {
     "name": "stderr",
     "output_type": "stream",
     "text": []
    },
    {
     "name": "stdout",
     "output_type": "stream",
     "text": [
      "Genome fixed after 4 passes\n",
      "Genome fixed after 0 passes\n",
      "Genome fixed after 0 passes\n",
      "Genome fixed after 1 passes\n",
      "Genome fixed after 3 passes\n",
      "Genome fixed after 0 passes\n",
      "Genome fixed after 8 passes\n",
      "Genome fixed after 0 passes\n",
      "Genome fixed after 0 passes\n",
      "Genome fixed after 0 passes\n",
      "Genome fixed after 9 passes\n"
     ]
    },
    {
     "name": "stderr",
     "output_type": "stream",
     "text": []
    },
    {
     "name": "stdout",
     "output_type": "stream",
     "text": [
      "Genome fully rebuilt\n",
      "Genome fixed after 0 passes\n",
      "Genome fixed after 0 passes\n",
      "Genome fixed after 5 passes\n",
      "Genome fixed after 2 passes\n",
      "Genome fully rebuilt\n"
     ]
    },
    {
     "name": "stderr",
     "output_type": "stream",
     "text": [
      "\n"
     ]
    },
    {
     "name": "stdout",
     "output_type": "stream",
     "text": [
      "Genome fully rebuilt\n",
      "Genome fixed after 7 passes\n",
      "Genome fully rebuilt\n",
      "Genome fully rebuilt\n",
      "Genome fully rebuilt\n",
      "Genome fully rebuilt\n",
      "Genome fully rebuilt\n",
      "Genome fixed after 0 passes\n",
      "Genome fully rebuilt\n",
      "Genome fully rebuilt\n",
      "Genome fixed after 3 passes\n"
     ]
    },
    {
     "name": "stderr",
     "output_type": "stream",
     "text": [
      "Runnig genetic alogrithm:  75%|███████▌  | 75/100 [00:42<00:09,  2.57 generation/s]\u001b[A\n"
     ]
    },
    {
     "name": "stdout",
     "output_type": "stream",
     "text": [
      "Genome fully rebuilt\n",
      "Genome fixed after 0 passes\n",
      "Genome fixed after 1 passes\n",
      "Genome fully rebuilt\n",
      "Genome fully rebuilt\n",
      "Genome fixed after 8 passes\n",
      "Genome fixed after 0 passes\n",
      "Genome fixed after 0 passes\n",
      "Genome fully rebuilt\n",
      "Genome fixed after 0 passes\n",
      "Genome fully rebuilt\n",
      "Genome fully rebuilt\n",
      "Genome fixed after 0 passes\n",
      "Genome fixed after 8 passes\n"
     ]
    },
    {
     "name": "stderr",
     "output_type": "stream",
     "text": [
      "Runnig genetic alogrithm:  76%|███████▌  | 76/100 [00:42<00:08,  2.83 generation/s]\u001b[A"
     ]
    },
    {
     "name": "stdout",
     "output_type": "stream",
     "text": [
      "Genome fully rebuilt\n",
      "Genome fixed after 0 passes\n",
      "Genome fully rebuilt\n",
      "Genome fully rebuilt\n",
      "Genome fixed after 7 passes\n",
      "Genome fully rebuilt\n",
      "Genome fixed after 1 passes\n",
      "Genome fixed after 0 passes\n",
      "Genome fixed after 4 passes\n",
      "Genome fixed after 0 passes\n",
      "Genome fully rebuilt\n",
      "Genome fixed after 1 passes\n",
      "Genome fixed after 0 passes\n",
      "Genome fixed after 0 passes\n",
      "Genome fixed after 9 passes\n",
      "Genome fixed after 3 passes\n",
      "Genome fully rebuilt\n",
      "Genome fully rebuilt\n",
      "Genome fully rebuilt\n",
      "Genome fully rebuilt\n",
      "Genome fully rebuilt\n"
     ]
    },
    {
     "name": "stderr",
     "output_type": "stream",
     "text": []
    },
    {
     "name": "stdout",
     "output_type": "stream",
     "text": [
      "Genome fully rebuilt\n",
      "Genome fixed after 2 passes\n",
      "Genome fixed after 3 passes\n",
      "Genome fully rebuilt\n",
      "Genome fixed after 2 passes\n",
      "Genome fully rebuilt\n",
      "Genome fixed after 2 passes\n",
      "Genome fully rebuilt\n",
      "Genome fixed after 1 passes\n",
      "Genome fixed after 7 passes\n"
     ]
    },
    {
     "name": "stderr",
     "output_type": "stream",
     "text": [
      "\n"
     ]
    },
    {
     "name": "stdout",
     "output_type": "stream",
     "text": [
      "Genome fully rebuilt\n",
      "Genome fixed after 4 passes\n",
      "Genome fixed after 0 passes\n",
      "Genome fully rebuilt\n",
      "Genome fixed after 2 passes\n",
      "Genome fixed after 5 passes\n"
     ]
    },
    {
     "name": "stderr",
     "output_type": "stream",
     "text": [
      "Runnig genetic alogrithm:  78%|███████▊  | 78/100 [00:44<00:14,  1.49 generation/s]\u001b[A"
     ]
    },
    {
     "name": "stdout",
     "output_type": "stream",
     "text": [
      "Genome fixed after 0 passes\n",
      "Genome fixed after 0 passes\n",
      "Genome fully rebuilt\n",
      "Genome fully rebuilt\n",
      "Genome fixed after 0 passes\n",
      "Genome fixed after 5 passes\n",
      "Genome fixed after 1 passes\n",
      "Genome fully rebuilt\n",
      "Genome fixed after 0 passes\n",
      "Genome fully rebuilt\n",
      "Genome fixed after 3 passes\n"
     ]
    },
    {
     "name": "stderr",
     "output_type": "stream",
     "text": []
    },
    {
     "name": "stdout",
     "output_type": "stream",
     "text": [
      "Genome fully rebuilt\n",
      "Genome fixed after 8 passes\n",
      "Genome fully rebuilt\n",
      "Genome fully rebuilt\n",
      "Genome fully rebuilt\n",
      "Genome fully rebuilt\n",
      "Genome fully rebuilt\n",
      "Genome fixed after 3 passes\n",
      "Genome fixed after 3 passes\n",
      "Genome fixed after 0 passes\n",
      "Genome fixed after 1 passes\n",
      "Genome fixed after 1 passes\n",
      "Genome fixed after 0 passes\n",
      "Genome fixed after 2 passes\n",
      "Genome fixed after 0 passes\n",
      "Genome fixed after 2 passes\n",
      "Genome fixed after 0 passes\n",
      "Genome fixed after 0 passes\n",
      "Genome fully rebuilt\n",
      "Genome fixed after 9 passes\n",
      "Genome fixed after 0 passes\n",
      "Genome fixed after 2 passes\n"
     ]
    },
    {
     "name": "stderr",
     "output_type": "stream",
     "text": []
    },
    {
     "name": "stdout",
     "output_type": "stream",
     "text": [
      "Genome fixed after 0 passes\n",
      "Genome fixed after 0 passes\n",
      "Genome fully rebuilt\n",
      "Genome fixed after 1 passes\n",
      "Genome fully rebuilt\n",
      "Genome fully rebuilt\n",
      "Genome fixed after 5 passes\n",
      "Genome fixed after 0 passes\n",
      "Genome fixed after 2 passes\n",
      "Genome fixed after 2 passes\n",
      "Genome fully rebuilt\n"
     ]
    },
    {
     "name": "stderr",
     "output_type": "stream",
     "text": []
    },
    {
     "name": "stdout",
     "output_type": "stream",
     "text": [
      "Genome fixed after 0 passes\n",
      "Genome fixed after 4 passes\n",
      "Genome fixed after 0 passes\n",
      "Genome fixed after 0 passes\n",
      "Genome fully rebuilt\n",
      "Genome fixed after 5 passes\n",
      "Genome fixed after 0 passes\n",
      "Genome fully rebuilt\n",
      "Genome fixed after 0 passes\n",
      "Genome fully rebuilt\n",
      "Genome fixed after 6 passes\n",
      "Genome fixed after 0 passes\n",
      "Genome fixed after 0 passes\n",
      "Genome fixed after 1 passes\n",
      "Genome fixed after 0 passes\n",
      "Genome fixed after 5 passes\n",
      "Genome fixed after 9 passes\n",
      "Genome fixed after 3 passes\n",
      "Genome fixed after 0 passes\n",
      "Genome fully rebuilt\n",
      "Genome fully rebuilt\n",
      "Genome fully rebuilt\n",
      "Genome fixed after 0 passes\n",
      "Genome fully rebuilt\n"
     ]
    },
    {
     "name": "stderr",
     "output_type": "stream",
     "text": []
    },
    {
     "name": "stdout",
     "output_type": "stream",
     "text": [
      "Genome fixed after 0 passes\n",
      "Genome fixed after 0 passes\n",
      "Genome fixed after 0 passes\n",
      "Genome fixed after 0 passes\n",
      "Genome fixed after 0 passes\n",
      "Genome fixed after 5 passes\n",
      "Genome fixed after 8 passes\n",
      "Genome fully rebuilt\n"
     ]
    },
    {
     "name": "stderr",
     "output_type": "stream",
     "text": []
    },
    {
     "name": "stdout",
     "output_type": "stream",
     "text": [
      "Genome fixed after 2 passes\n",
      "Genome fixed after 3 passes\n",
      "Genome fixed after 0 passes\n",
      "Genome fixed after 1 passes\n",
      "Genome fixed after 8 passes\n",
      "Genome fully rebuilt\n",
      "Genome fully rebuilt\n",
      "Genome fixed after 0 passes\n",
      "Genome fixed after 0 passes\n",
      "Genome fixed after 0 passes\n",
      "Genome fixed after 0 passes\n",
      "Genome fixed after 0 passes\n"
     ]
    },
    {
     "name": "stderr",
     "output_type": "stream",
     "text": []
    },
    {
     "name": "stdout",
     "output_type": "stream",
     "text": [
      "Genome fully rebuilt\n",
      "Genome fully rebuilt\n",
      "Genome fixed after 2 passes\n",
      "Genome fixed after 0 passes\n",
      "Genome fixed after 0 passes\n",
      "Genome fully rebuilt\n",
      "Genome fixed after 0 passes\n",
      "Genome fixed after 0 passes\n",
      "Genome fully rebuilt\n",
      "Genome fixed after 0 passes\n",
      "Genome fixed after 0 passes\n"
     ]
    },
    {
     "name": "stderr",
     "output_type": "stream",
     "text": []
    },
    {
     "name": "stdout",
     "output_type": "stream",
     "text": [
      "Genome fixed after 0 passes\n",
      "Genome fixed after 9 passes\n",
      "Genome fixed after 0 passes\n",
      "Genome fully rebuilt\n",
      "Genome fixed after 0 passes\n",
      "Genome fixed after 0 passes\n",
      "Genome fixed after 0 passes\n",
      "Genome fixed after 1 passes\n",
      "Genome fully rebuilt\n",
      "Genome fully rebuilt\n",
      "Genome fixed after 0 passes\n",
      "Genome fully rebuilt\n",
      "Genome fixed after 2 passes\n",
      "Genome fixed after 2 passes\n",
      "Genome fully rebuilt\n"
     ]
    },
    {
     "name": "stderr",
     "output_type": "stream",
     "text": []
    },
    {
     "name": "stdout",
     "output_type": "stream",
     "text": [
      "Genome fully rebuilt\n",
      "Genome fully rebuilt\n",
      "Genome fixed after 0 passes\n",
      "Genome fixed after 0 passes\n",
      "Genome fully rebuilt\n"
     ]
    },
    {
     "name": "stderr",
     "output_type": "stream",
     "text": []
    },
    {
     "name": "stdout",
     "output_type": "stream",
     "text": [
      "Genome fixed after 4 passes\n",
      "Genome fixed after 0 passes\n",
      "Genome fixed after 2 passes\n",
      "Genome fixed after 0 passes\n",
      "Genome fixed after 0 passes\n"
     ]
    },
    {
     "name": "stderr",
     "output_type": "stream",
     "text": []
    },
    {
     "name": "stdout",
     "output_type": "stream",
     "text": [
      "Genome fixed after 0 passes\n",
      "Genome fully rebuilt\n",
      "Genome fully rebuilt\n",
      "Genome fixed after 0 passes\n",
      "Genome fixed after 0 passes\n",
      "Genome fully rebuilt\n",
      "Genome fixed after 0 passes\n",
      "Genome fixed after 2 passes\n",
      "Genome fully rebuilt\n",
      "Genome fully rebuilt\n",
      "Genome fixed after 4 passes\n",
      "Genome fully rebuilt\n",
      "Genome fixed after 0 passes\n",
      "Genome fixed after 0 passes\n",
      "Genome fully rebuilt\n",
      "Genome fixed after 3 passes\n"
     ]
    },
    {
     "name": "stderr",
     "output_type": "stream",
     "text": [
      "\n",
      "Runnig genetic alogrithm:  91%|█████████ | 91/100 [00:53<00:04,  1.91 generation/s]"
     ]
    },
    {
     "name": "stdout",
     "output_type": "stream",
     "text": [
      "Genome fully rebuilt\n",
      "Genome fixed after 1 passes\n",
      "Genome fixed after 0 passes\n",
      "Genome fixed after 0 passes\n",
      "Genome fixed after 8 passes\n",
      "Genome fully rebuilt\n"
     ]
    },
    {
     "name": "stderr",
     "output_type": "stream",
     "text": [
      "\u001b[A"
     ]
    },
    {
     "name": "stdout",
     "output_type": "stream",
     "text": [
      "Genome fully rebuilt\n",
      "Genome fixed after 2 passes\n",
      "Genome fixed after 2 passes\n",
      "Genome fixed after 0 passes\n",
      "Genome fully rebuilt\n",
      "Genome fully rebuilt\n",
      "Genome fixed after 0 passes\n",
      "Genome fully rebuilt\n"
     ]
    },
    {
     "name": "stderr",
     "output_type": "stream",
     "text": []
    },
    {
     "name": "stdout",
     "output_type": "stream",
     "text": [
      "Genome fully rebuilt\n",
      "Genome fixed after 0 passes\n",
      "Genome fixed after 5 passes\n",
      "Genome fully rebuilt\n",
      "Genome fixed after 7 passes\n",
      "Genome fixed after 0 passes\n",
      "Genome fixed after 0 passes\n",
      "Genome fixed after 0 passes\n",
      "Genome fully rebuilt\n"
     ]
    },
    {
     "name": "stderr",
     "output_type": "stream",
     "text": []
    },
    {
     "name": "stdout",
     "output_type": "stream",
     "text": [
      "Genome fully rebuilt\n",
      "Genome fixed after 8 passes\n"
     ]
    },
    {
     "name": "stderr",
     "output_type": "stream",
     "text": []
    },
    {
     "name": "stdout",
     "output_type": "stream",
     "text": [
      "Genome fixed after 0 passes\n",
      "Genome fixed after 0 passes\n"
     ]
    },
    {
     "name": "stderr",
     "output_type": "stream",
     "text": []
    },
    {
     "name": "stdout",
     "output_type": "stream",
     "text": [
      "Genome fully rebuilt\n",
      "Genome fixed after 5 passes\n",
      "Genome fixed after 0 passes\n",
      "Genome fixed after 3 passes\n",
      "Genome fully rebuilt\n",
      "Genome fixed after 0 passes\n",
      "Genome fixed after 0 passes\n",
      "Genome fixed after 0 passes\n",
      "Genome fixed after 0 passes\n",
      "Genome fixed after 5 passes\n"
     ]
    },
    {
     "name": "stderr",
     "output_type": "stream",
     "text": []
    },
    {
     "name": "stdout",
     "output_type": "stream",
     "text": [
      "Genome fully rebuilt\n",
      "Genome fixed after 0 passes\n",
      "Genome fixed after 0 passes\n",
      "Genome fixed after 2 passes\n",
      "Genome fixed after 0 passes\n",
      "Genome fixed after 0 passes\n",
      "Genome fully rebuilt\n",
      "Genome fully rebuilt\n",
      "Genome fixed after 0 passes\n",
      "Genome fully rebuilt\n",
      "Genome fully rebuilt\n",
      "Genome fixed after 0 passes\n",
      "Genome fixed after 0 passes\n",
      "Genome fixed after 5 passes\n",
      "Genome fixed after 2 passes\n"
     ]
    },
    {
     "name": "stderr",
     "output_type": "stream",
     "text": []
    },
    {
     "name": "stdout",
     "output_type": "stream",
     "text": [
      "Genome fixed after 4 passes\n",
      "Genome fixed after 7 passes\n",
      "Genome fixed after 0 passes\n",
      "Genome fully rebuilt\n",
      "Genome fixed after 1 passes\n",
      "Genome fully rebuilt\n",
      "Genome fully rebuilt\n",
      "Genome fully rebuilt\n",
      "Genome fully rebuilt\n",
      "Genome fixed after 2 passes\n",
      "Genome fixed after 4 passes\n"
     ]
    },
    {
     "name": "stderr",
     "output_type": "stream",
     "text": []
    },
    {
     "name": "stdout",
     "output_type": "stream",
     "text": [
      "Genome fully rebuilt\n",
      "Genome fully rebuilt\n",
      "Genome fixed after 0 passes\n",
      "Genome fully rebuilt\n",
      "Genome fixed after 0 passes\n",
      "Genome fully rebuilt\n",
      "Genome fixed after 0 passes\n",
      "Genome fully rebuilt\n",
      "Genome fixed after 0 passes\n",
      "Genome fully rebuilt\n",
      "Genome fixed after 0 passes\n",
      "Genome fully rebuilt\n",
      "Genome fixed after 0 passes\n",
      "Genome fixed after 3 passes\n"
     ]
    },
    {
     "name": "stderr",
     "output_type": "stream",
     "text": [
      "Runnig genetic alogrithm: 100%|██████████| 100/100 [01:01<00:00,  1.63 generation/s]\n",
      "Running grid search:   5%|▌         | 10/192 [06:35<2:20:13, 46.23s/ combination]"
     ]
    },
    {
     "name": "stdout",
     "output_type": "stream",
     "text": [
      "Genome fixed after 3 passes\n",
      "Genome fully rebuilt\n",
      "Genome fully rebuilt\n",
      "Genome fixed after 2 passes\n",
      "Genome fully rebuilt\n",
      "Genome fixed after 6 passes\n",
      "Genome fully rebuilt\n",
      "Genome fixed after 1 passes\n",
      "Genome fully rebuilt\n",
      "Genome fully rebuilt\n",
      "Genome fixed after 0 passes\n",
      "Genome fixed after 8 passes\n",
      "Genome fixed after 2 passes\n",
      "Genome fixed after 6 passes\n"
     ]
    },
    {
     "name": "stderr",
     "output_type": "stream",
     "text": []
    },
    {
     "name": "stdout",
     "output_type": "stream",
     "text": [
      "Genome fully rebuilt\n",
      "Genome fully rebuilt\n",
      "Genome fully rebuilt\n",
      "Genome fully rebuilt\n",
      "Genome fixed after 3 passes\n",
      "Genome fully rebuilt\n",
      "Genome fully rebuilt\n",
      "Genome fixed after 0 passes\n",
      "Genome fully rebuilt\n",
      "Genome fixed after 0 passes\n",
      "Genome fixed after 8 passes\n",
      "Genome fully rebuilt\n",
      "Genome fully rebuilt\n",
      "Genome fully rebuilt\n",
      "Genome fixed after 0 passes\n",
      "Genome fully rebuilt\n",
      "Genome fully rebuilt\n",
      "Genome fixed after 0 passes\n",
      "Genome fully rebuilt\n",
      "Genome fully rebuilt\n",
      "Genome fixed after 1 passes\n",
      "Genome fully rebuilt\n",
      "Genome fully rebuilt\n",
      "Genome fully rebuilt\n",
      "Genome fixed after 7 passes\n",
      "Genome fully rebuilt\n",
      "Genome fully rebuilt\n",
      "Genome fixed after 9 passes\n",
      "Genome fixed after 0 passes\n",
      "Genome fully rebuilt\n",
      "Genome fixed after 0 passes\n",
      "Genome fixed after 0 passes\n",
      "Genome fixed after 0 passes\n",
      "Genome fully rebuilt\n",
      "Genome fixed after 4 passes\n",
      "Genome fixed after 0 passes\n",
      "Genome fully rebuilt\n",
      "Genome fixed after 2 passes\n",
      "Genome fully rebuilt\n",
      "Genome fixed after 2 passes\n",
      "Genome fixed after 1 passes\n",
      "Genome fixed after 0 passes\n",
      "Genome fixed after 3 passes\n",
      "Genome fully rebuilt\n",
      "Genome fixed after 8 passes\n",
      "Genome fully rebuilt\n",
      "Genome fully rebuilt\n",
      "Genome fixed after 0 passes\n",
      "Genome fixed after 0 passes\n",
      "Genome fully rebuilt\n",
      "Genome fully rebuilt\n"
     ]
    },
    {
     "name": "stderr",
     "output_type": "stream",
     "text": []
    },
    {
     "name": "stdout",
     "output_type": "stream",
     "text": [
      "Genome fixed after 0 passes\n",
      "Genome fully rebuilt\n",
      "Genome fixed after 0 passes\n",
      "Genome fully rebuilt\n",
      "Genome fixed after 1 passes\n",
      "Genome fixed after 4 passes\n",
      "Genome fully rebuilt\n",
      "Genome fully rebuilt\n",
      "Genome fixed after 7 passes\n",
      "Genome fixed after 1 passes\n",
      "Genome fixed after 0 passes\n",
      "Genome fixed after 5 passes\n",
      "Genome fully rebuilt\n",
      "Genome fully rebuilt\n",
      "Genome fixed after 0 passes\n",
      "Genome fully rebuilt\n",
      "Genome fixed after 4 passes\n",
      "Genome fully rebuilt\n",
      "Genome fully rebuilt\n",
      "Genome fixed after 0 passes\n",
      "Genome fixed after 5 passes\n",
      "Genome fully rebuilt\n",
      "Genome fixed after 0 passes\n",
      "Genome fixed after 2 passes\n",
      "Genome fully rebuilt\n",
      "Genome fixed after 7 passes\n",
      "Genome fixed after 3 passes\n",
      "Genome fully rebuilt\n",
      "Genome fully rebuilt\n",
      "Genome fixed after 0 passes\n",
      "Genome fully rebuilt\n",
      "Genome fully rebuilt\n",
      "Genome fixed after 0 passes\n",
      "Genome fixed after 2 passes\n",
      "Genome fixed after 0 passes\n",
      "Genome fully rebuilt\n",
      "Genome fully rebuilt\n",
      "Genome fixed after 3 passes\n",
      "Genome fixed after 1 passes\n",
      "Genome fixed after 1 passes\n",
      "Genome fully rebuilt\n",
      "Genome fully rebuilt\n",
      "Genome fixed after 0 passes\n",
      "Genome fixed after 8 passes\n",
      "Genome fully rebuilt\n",
      "Genome fixed after 1 passes\n",
      "Genome fixed after 0 passes\n",
      "Genome fixed after 2 passes\n"
     ]
    },
    {
     "name": "stderr",
     "output_type": "stream",
     "text": []
    },
    {
     "name": "stdout",
     "output_type": "stream",
     "text": [
      "Genome fully rebuilt\n",
      "Genome fixed after 4 passes\n",
      "Genome fixed after 3 passes\n",
      "Genome fixed after 0 passes\n",
      "Genome fixed after 0 passes\n",
      "Genome fixed after 0 passes\n",
      "Genome fixed after 2 passes\n",
      "Genome fully rebuilt\n",
      "Genome fully rebuilt\n",
      "Genome fixed after 0 passes\n",
      "Genome fully rebuilt\n",
      "Genome fixed after 0 passes\n",
      "Genome fully rebuilt\n",
      "Genome fully rebuilt\n",
      "Genome fully rebuilt\n",
      "Genome fully rebuilt\n",
      "Genome fixed after 4 passes\n",
      "Genome fixed after 4 passes\n",
      "Genome fixed after 0 passes\n",
      "Genome fully rebuilt\n",
      "Genome fully rebuilt\n",
      "Genome fixed after 7 passes\n",
      "Genome fixed after 7 passes\n",
      "Genome fixed after 0 passes\n",
      "Genome fully rebuilt\n",
      "Genome fixed after 0 passes\n",
      "Genome fixed after 0 passes\n",
      "Genome fully rebuilt\n",
      "Genome fixed after 4 passes\n",
      "Genome fixed after 0 passes\n",
      "Genome fixed after 2 passes\n",
      "Genome fixed after 2 passes\n",
      "Genome fixed after 0 passes\n",
      "Genome fixed after 6 passes\n",
      "Genome fully rebuilt\n",
      "Genome fixed after 2 passes\n",
      "Genome fixed after 0 passes\n",
      "Genome fixed after 0 passes\n",
      "Genome fixed after 3 passes\n",
      "Genome fully rebuilt\n",
      "Genome fixed after 0 passes\n",
      "Genome fixed after 0 passes\n"
     ]
    },
    {
     "name": "stderr",
     "output_type": "stream",
     "text": []
    },
    {
     "name": "stdout",
     "output_type": "stream",
     "text": [
      "Genome fixed after 0 passes\n",
      "Genome fixed after 0 passes\n",
      "Genome fully rebuilt\n",
      "Genome fully rebuilt\n",
      "Genome fully rebuilt\n",
      "Genome fixed after 3 passes\n",
      "Genome fixed after 4 passes\n",
      "Genome fully rebuilt\n",
      "Genome fixed after 0 passes\n",
      "Genome fully rebuilt\n",
      "Genome fixed after 0 passes\n",
      "Genome fixed after 1 passes\n",
      "Genome fully rebuilt\n",
      "Genome fixed after 6 passes\n",
      "Genome fully rebuilt\n",
      "Genome fixed after 0 passes\n",
      "Genome fully rebuilt\n",
      "Genome fixed after 0 passes\n",
      "Genome fully rebuilt\n",
      "Genome fixed after 0 passes\n",
      "Genome fixed after 0 passes\n",
      "Genome fully rebuilt\n",
      "Genome fixed after 3 passes\n"
     ]
    },
    {
     "name": "stderr",
     "output_type": "stream",
     "text": [
      "\n",
      "Runnig genetic alogrithm:   4%|▍         | 4/100 [00:06<02:41,  1.68s/ generation]"
     ]
    },
    {
     "name": "stdout",
     "output_type": "stream",
     "text": [
      "Genome fixed after 5 passes\n",
      "Genome fully rebuilt\n"
     ]
    },
    {
     "name": "stderr",
     "output_type": "stream",
     "text": [
      "\u001b[A"
     ]
    },
    {
     "name": "stdout",
     "output_type": "stream",
     "text": [
      "Genome fixed after 8 passes\n",
      "Genome fixed after 2 passes\n",
      "Genome fully rebuilt\n",
      "Genome fixed after 0 passes\n",
      "Genome fully rebuilt\n",
      "Genome fixed after 0 passes\n",
      "Genome fixed after 0 passes\n",
      "Genome fully rebuilt\n",
      "Genome fully rebuilt\n",
      "Genome fixed after 0 passes\n",
      "Genome fixed after 0 passes\n",
      "Genome fixed after 0 passes\n",
      "Genome fully rebuilt\n",
      "Genome fixed after 3 passes\n",
      "Genome fixed after 0 passes\n",
      "Genome fixed after 1 passes\n",
      "Genome fully rebuilt\n",
      "Genome fully rebuilt\n",
      "Genome fixed after 0 passes\n",
      "Genome fully rebuilt\n",
      "Genome fixed after 0 passes\n",
      "Genome fixed after 1 passes\n",
      "Genome fixed after 1 passes\n",
      "Genome fixed after 6 passes\n",
      "Genome fully rebuilt\n",
      "Genome fixed after 4 passes\n",
      "Genome fully rebuilt\n",
      "Genome fixed after 7 passes\n",
      "Genome fixed after 0 passes\n",
      "Genome fully rebuilt\n",
      "Genome fixed after 0 passes\n",
      "Genome fully rebuilt\n",
      "Genome fully rebuilt\n",
      "Genome fixed after 1 passes\n",
      "Genome fixed after 2 passes\n",
      "Genome fixed after 0 passes\n",
      "Genome fully rebuilt\n",
      "Genome fixed after 6 passes\n",
      "Genome fixed after 0 passes\n",
      "Genome fully rebuilt\n",
      "Genome fixed after 2 passes\n",
      "Genome fully rebuilt\n",
      "Genome fixed after 0 passes\n",
      "Genome fixed after 1 passes\n",
      "Genome fixed after 0 passes\n",
      "Genome fixed after 0 passes\n",
      "Genome fixed after 0 passes\n",
      "Genome fully rebuilt\n",
      "Genome fixed after 1 passes\n",
      "Genome fixed after 1 passes\n",
      "Genome fixed after 0 passes\n",
      "Genome fully rebuilt\n",
      "Genome fully rebuilt\n",
      "Genome fixed after 5 passes\n",
      "Genome fully rebuilt\n",
      "Genome fixed after 0 passes\n",
      "Genome fully rebuilt\n",
      "Genome fixed after 0 passes\n",
      "Genome fixed after 8 passes\n",
      "Genome fully rebuilt\n",
      "Genome fixed after 0 passes\n",
      "Genome fixed after 0 passes\n",
      "Genome fixed after 3 passes\n",
      "Genome fixed after 0 passes\n",
      "Genome fixed after 0 passes\n"
     ]
    },
    {
     "name": "stderr",
     "output_type": "stream",
     "text": []
    },
    {
     "name": "stdout",
     "output_type": "stream",
     "text": [
      "Genome fully rebuilt\n",
      "Genome fixed after 0 passes\n",
      "Genome fully rebuilt\n",
      "Genome fixed after 0 passes\n",
      "Genome fully rebuilt\n",
      "Genome fully rebuilt\n",
      "Genome fixed after 0 passes\n",
      "Genome fully rebuilt\n",
      "Genome fully rebuilt\n",
      "Genome fixed after 7 passes\n",
      "Genome fixed after 7 passes\n",
      "Genome fixed after 6 passes\n",
      "Genome fully rebuilt\n",
      "Genome fixed after 0 passes\n",
      "Genome fixed after 4 passes\n",
      "Genome fully rebuilt\n",
      "Genome fixed after 0 passes\n",
      "Genome fully rebuilt\n",
      "Genome fully rebuilt\n",
      "Genome fixed after 7 passes\n",
      "Genome fixed after 3 passes\n",
      "Genome fixed after 5 passes\n",
      "Genome fully rebuilt\n",
      "Genome fixed after 0 passes\n",
      "Genome fully rebuilt\n",
      "Genome fully rebuilt\n",
      "Genome fixed after 5 passes\n",
      "Genome fixed after 2 passes\n",
      "Genome fixed after 1 passes\n",
      "Genome fully rebuilt\n",
      "Genome fixed after 2 passes\n",
      "Genome fixed after 3 passes\n",
      "Genome fully rebuilt\n",
      "Genome fixed after 1 passes\n",
      "Genome fixed after 8 passes\n",
      "Genome fixed after 0 passes\n",
      "Genome fully rebuilt\n",
      "Genome fixed after 0 passes\n",
      "Genome fixed after 0 passes\n",
      "Genome fixed after 3 passes\n",
      "Genome fixed after 6 passes\n",
      "Genome fixed after 2 passes\n",
      "Genome fixed after 1 passes\n",
      "Genome fixed after 0 passes\n",
      "Genome fixed after 1 passes\n",
      "Genome fixed after 0 passes\n",
      "Genome fully rebuilt\n"
     ]
    },
    {
     "name": "stderr",
     "output_type": "stream",
     "text": []
    },
    {
     "name": "stdout",
     "output_type": "stream",
     "text": [
      "Genome fixed after 0 passes\n",
      "Genome fixed after 0 passes\n",
      "Genome fixed after 0 passes\n",
      "Genome fixed after 0 passes\n",
      "Genome fully rebuilt\n",
      "Genome fixed after 0 passes\n",
      "Genome fixed after 0 passes\n",
      "Genome fully rebuilt\n",
      "Genome fixed after 4 passes\n",
      "Genome fixed after 9 passes\n",
      "Genome fixed after 0 passes\n",
      "Genome fixed after 0 passes\n",
      "Genome fixed after 2 passes\n",
      "Genome fully rebuilt\n",
      "Genome fixed after 0 passes\n",
      "Genome fixed after 0 passes\n",
      "Genome fully rebuilt\n",
      "Genome fixed after 0 passes\n",
      "Genome fixed after 2 passes\n",
      "Genome fixed after 0 passes\n",
      "Genome fixed after 1 passes\n",
      "Genome fully rebuilt\n",
      "Genome fixed after 0 passes\n",
      "Genome fully rebuilt\n",
      "Genome fixed after 0 passes\n",
      "Genome fixed after 0 passes\n",
      "Genome fully rebuilt\n",
      "Genome fully rebuilt\n",
      "Genome fixed after 0 passes\n",
      "Genome fixed after 1 passes\n",
      "Genome fixed after 0 passes\n",
      "Genome fixed after 3 passes\n",
      "Genome fully rebuilt\n",
      "Genome fully rebuilt\n",
      "Genome fixed after 1 passes\n",
      "Genome fully rebuilt\n",
      "Genome fixed after 1 passes\n",
      "Genome fixed after 7 passes\n",
      "Genome fully rebuilt\n",
      "Genome fixed after 0 passes\n",
      "Genome fixed after 4 passes\n",
      "Genome fixed after 5 passes\n",
      "Genome fully rebuilt\n",
      "Genome fixed after 7 passes\n",
      "Genome fully rebuilt\n",
      "Genome fully rebuilt\n",
      "Genome fixed after 9 passes\n",
      "Genome fixed after 0 passes\n",
      "Genome fully rebuilt\n",
      "Genome fixed after 0 passes\n"
     ]
    },
    {
     "name": "stderr",
     "output_type": "stream",
     "text": []
    },
    {
     "name": "stdout",
     "output_type": "stream",
     "text": [
      "Genome fixed after 0 passes\n",
      "Genome fixed after 9 passes\n",
      "Genome fully rebuilt\n",
      "Genome fixed after 4 passes\n",
      "Genome fixed after 5 passes\n",
      "Genome fully rebuilt\n",
      "Genome fully rebuilt\n",
      "Genome fixed after 0 passes\n",
      "Genome fully rebuilt\n",
      "Genome fixed after 6 passes\n",
      "Genome fixed after 4 passes\n",
      "Genome fully rebuilt\n",
      "Genome fixed after 8 passes\n",
      "Genome fixed after 6 passes\n",
      "Genome fixed after 0 passes\n",
      "Genome fully rebuilt\n",
      "Genome fixed after 0 passes\n",
      "Genome fixed after 0 passes\n",
      "Genome fully rebuilt\n",
      "Genome fixed after 0 passes\n",
      "Genome fixed after 8 passes\n",
      "Genome fixed after 1 passes\n",
      "Genome fixed after 7 passes\n",
      "Genome fixed after 0 passes\n",
      "Genome fully rebuilt\n",
      "Genome fixed after 0 passes\n",
      "Genome fully rebuilt\n",
      "Genome fixed after 9 passes\n",
      "Genome fully rebuilt\n",
      "Genome fully rebuilt\n",
      "Genome fully rebuilt\n",
      "Genome fixed after 0 passes\n",
      "Genome fixed after 2 passes\n",
      "Genome fully rebuilt\n",
      "Genome fixed after 0 passes\n",
      "Genome fixed after 0 passes\n",
      "Genome fully rebuilt\n",
      "Genome fixed after 0 passes\n",
      "Genome fixed after 1 passes\n",
      "Genome fixed after 0 passes\n",
      "Genome fully rebuilt\n",
      "Genome fixed after 0 passes\n",
      "Genome fixed after 0 passes\n",
      "Genome fully rebuilt\n",
      "Genome fixed after 4 passes\n",
      "Genome fixed after 0 passes\n",
      "Genome fixed after 2 passes\n",
      "Genome fully rebuilt\n",
      "Genome fixed after 2 passes\n",
      "Genome fixed after 0 passes\n"
     ]
    },
    {
     "name": "stderr",
     "output_type": "stream",
     "text": []
    },
    {
     "name": "stdout",
     "output_type": "stream",
     "text": [
      "Genome fully rebuilt\n",
      "Genome fully rebuilt\n",
      "Genome fixed after 2 passes\n",
      "Genome fixed after 0 passes\n",
      "Genome fixed after 0 passes\n",
      "Genome fully rebuilt\n",
      "Genome fixed after 1 passes\n",
      "Genome fixed after 0 passes\n",
      "Genome fully rebuilt\n",
      "Genome fixed after 2 passes\n",
      "Genome fixed after 3 passes\n",
      "Genome fixed after 0 passes\n",
      "Genome fixed after 0 passes\n",
      "Genome fixed after 2 passes\n",
      "Genome fully rebuilt\n",
      "Genome fixed after 5 passes\n",
      "Genome fully rebuilt\n",
      "Genome fixed after 0 passes\n",
      "Genome fixed after 1 passes\n",
      "Genome fixed after 7 passes\n",
      "Genome fully rebuilt\n",
      "Genome fixed after 0 passes\n",
      "Genome fixed after 0 passes\n",
      "Genome fully rebuilt\n",
      "Genome fixed after 2 passes\n",
      "Genome fixed after 0 passes\n",
      "Genome fixed after 0 passes\n",
      "Genome fixed after 8 passes\n",
      "Genome fully rebuilt\n",
      "Genome fully rebuilt\n",
      "Genome fixed after 3 passes\n",
      "Genome fully rebuilt\n",
      "Genome fixed after 0 passes\n",
      "Genome fully rebuilt\n",
      "Genome fully rebuilt\n",
      "Genome fixed after 0 passes\n",
      "Genome fully rebuilt\n",
      "Genome fixed after 3 passes\n",
      "Genome fully rebuilt\n",
      "Genome fixed after 0 passes\n",
      "Genome fixed after 0 passes\n",
      "Genome fixed after 4 passes\n",
      "Genome fixed after 2 passes\n",
      "Genome fixed after 4 passes\n",
      "Genome fixed after 6 passes\n",
      "Genome fixed after 0 passes\n",
      "Genome fully rebuilt\n",
      "Genome fully rebuilt\n",
      "Genome fully rebuilt\n",
      "Genome fixed after 4 passes\n",
      "Genome fixed after 7 passes\n",
      "Genome fixed after 0 passes\n",
      "Genome fully rebuilt\n",
      "Genome fixed after 0 passes\n",
      "Genome fixed after 0 passes\n",
      "Genome fixed after 0 passes\n",
      "Genome fixed after 6 passes\n",
      "Genome fixed after 0 passes\n",
      "Genome fixed after 0 passes\n",
      "Genome fixed after 6 passes\n",
      "Genome fixed after 3 passes\n"
     ]
    },
    {
     "name": "stderr",
     "output_type": "stream",
     "text": []
    },
    {
     "name": "stdout",
     "output_type": "stream",
     "text": [
      "Genome fully rebuilt\n",
      "Genome fixed after 0 passes\n",
      "Genome fixed after 0 passes\n",
      "Genome fixed after 0 passes\n",
      "Genome fully rebuilt\n",
      "Genome fully rebuilt\n",
      "Genome fixed after 0 passes\n",
      "Genome fixed after 0 passes\n",
      "Genome fixed after 0 passes\n",
      "Genome fixed after 0 passes\n",
      "Genome fixed after 8 passes\n",
      "Genome fully rebuilt\n",
      "Genome fully rebuilt\n",
      "Genome fixed after 0 passes\n",
      "Genome fixed after 1 passes\n",
      "Genome fully rebuilt\n",
      "Genome fixed after 0 passes\n",
      "Genome fully rebuilt\n",
      "Genome fixed after 3 passes\n",
      "Genome fixed after 1 passes\n",
      "Genome fixed after 0 passes\n",
      "Genome fixed after 0 passes\n",
      "Genome fully rebuilt\n",
      "Genome fixed after 4 passes\n",
      "Genome fixed after 0 passes\n",
      "Genome fixed after 0 passes\n",
      "Genome fixed after 3 passes\n",
      "Genome fixed after 0 passes\n",
      "Genome fixed after 0 passes\n",
      "Genome fully rebuilt\n",
      "Genome fixed after 0 passes\n",
      "Genome fully rebuilt\n",
      "Genome fixed after 0 passes\n",
      "Genome fully rebuilt\n",
      "Genome fixed after 0 passes\n",
      "Genome fully rebuilt\n",
      "Genome fixed after 0 passes\n",
      "Genome fixed after 1 passes\n",
      "Genome fixed after 1 passes\n",
      "Genome fixed after 0 passes\n"
     ]
    },
    {
     "name": "stderr",
     "output_type": "stream",
     "text": []
    },
    {
     "name": "stdout",
     "output_type": "stream",
     "text": [
      "Genome fully rebuilt\n",
      "Genome fixed after 0 passes\n",
      "Genome fully rebuilt\n",
      "Genome fixed after 1 passes\n",
      "Genome fixed after 0 passes\n",
      "Genome fully rebuilt\n",
      "Genome fixed after 0 passes\n",
      "Genome fixed after 4 passes\n",
      "Genome fully rebuilt\n",
      "Genome fixed after 0 passes\n",
      "Genome fixed after 5 passes\n",
      "Genome fixed after 0 passes\n",
      "Genome fixed after 1 passes\n",
      "Genome fully rebuilt\n",
      "Genome fixed after 4 passes\n",
      "Genome fixed after 0 passes\n",
      "Genome fixed after 2 passes\n",
      "Genome fixed after 2 passes\n",
      "Genome fully rebuilt\n",
      "Genome fixed after 5 passes\n",
      "Genome fixed after 0 passes\n",
      "Genome fixed after 4 passes\n",
      "Genome fixed after 5 passes\n",
      "Genome fixed after 3 passes\n",
      "Genome fixed after 2 passes\n",
      "Genome fully rebuilt\n",
      "Genome fully rebuilt\n",
      "Genome fixed after 2 passes\n",
      "Genome fully rebuilt\n",
      "Genome fixed after 0 passes\n",
      "Genome fixed after 0 passes\n",
      "Genome fixed after 0 passes\n",
      "Genome fixed after 9 passes\n",
      "Genome fixed after 0 passes\n",
      "Genome fixed after 0 passes\n",
      "Genome fixed after 0 passes\n",
      "Genome fixed after 1 passes\n",
      "Genome fixed after 9 passes\n",
      "Genome fully rebuilt\n",
      "Genome fully rebuilt\n",
      "Genome fixed after 0 passes\n",
      "Genome fixed after 0 passes\n",
      "Genome fixed after 5 passes\n",
      "Genome fully rebuilt\n",
      "Genome fixed after 0 passes\n",
      "Genome fully rebuilt\n",
      "Genome fully rebuilt\n",
      "Genome fixed after 0 passes\n",
      "Genome fixed after 0 passes\n",
      "Genome fixed after 0 passes\n",
      "Genome fixed after 0 passes\n",
      "Genome fixed after 0 passes\n",
      "Genome fixed after 3 passes\n",
      "Genome fully rebuilt\n"
     ]
    },
    {
     "name": "stderr",
     "output_type": "stream",
     "text": []
    },
    {
     "name": "stdout",
     "output_type": "stream",
     "text": [
      "Genome fixed after 1 passes\n",
      "Genome fully rebuilt\n",
      "Genome fixed after 7 passes\n",
      "Genome fully rebuilt\n",
      "Genome fixed after 0 passes\n",
      "Genome fully rebuilt\n",
      "Genome fixed after 0 passes\n",
      "Genome fixed after 4 passes\n",
      "Genome fixed after 1 passes\n",
      "Genome fixed after 0 passes\n",
      "Genome fixed after 3 passes\n",
      "Genome fixed after 4 passes\n",
      "Genome fully rebuilt\n",
      "Genome fully rebuilt\n",
      "Genome fully rebuilt\n",
      "Genome fixed after 0 passes\n",
      "Genome fully rebuilt\n",
      "Genome fully rebuilt\n",
      "Genome fixed after 0 passes\n",
      "Genome fixed after 8 passes\n",
      "Genome fixed after 0 passes\n",
      "Genome fully rebuilt\n",
      "Genome fully rebuilt\n",
      "Genome fixed after 1 passes\n",
      "Genome fully rebuilt\n",
      "Genome fully rebuilt\n",
      "Genome fixed after 5 passes\n",
      "Genome fixed after 6 passes\n"
     ]
    },
    {
     "name": "stderr",
     "output_type": "stream",
     "text": []
    },
    {
     "name": "stdout",
     "output_type": "stream",
     "text": [
      "Genome fully rebuilt\n",
      "Genome fully rebuilt\n",
      "Genome fixed after 0 passes\n",
      "Genome fixed after 0 passes\n",
      "Genome fixed after 0 passes\n",
      "Genome fully rebuilt\n",
      "Genome fully rebuilt\n",
      "Genome fixed after 0 passes\n",
      "Genome fixed after 2 passes\n",
      "Genome fully rebuilt\n",
      "Genome fixed after 0 passes\n",
      "Genome fully rebuilt\n",
      "Genome fixed after 0 passes\n",
      "Genome fully rebuilt\n",
      "Genome fixed after 0 passes\n",
      "Genome fixed after 0 passes\n",
      "Genome fixed after 0 passes\n",
      "Genome fully rebuilt\n",
      "Genome fully rebuilt\n",
      "Genome fully rebuilt\n",
      "Genome fixed after 2 passes\n",
      "Genome fixed after 0 passes\n",
      "Genome fully rebuilt\n",
      "Genome fixed after 0 passes\n",
      "Genome fixed after 0 passes\n",
      "Genome fixed after 0 passes\n",
      "Genome fixed after 0 passes\n",
      "Genome fully rebuilt\n",
      "Genome fully rebuilt\n",
      "Genome fixed after 1 passes\n",
      "Genome fixed after 0 passes\n",
      "Genome fully rebuilt\n",
      "Genome fully rebuilt\n",
      "Genome fixed after 0 passes\n",
      "Genome fully rebuilt\n",
      "Genome fixed after 0 passes\n",
      "Genome fixed after 2 passes\n",
      "Genome fixed after 1 passes\n",
      "Genome fixed after 6 passes\n",
      "Genome fixed after 9 passes\n",
      "Genome fixed after 6 passes\n",
      "Genome fixed after 3 passes\n",
      "Genome fully rebuilt\n",
      "Genome fixed after 0 passes\n",
      "Genome fixed after 1 passes\n",
      "Genome fixed after 0 passes\n"
     ]
    },
    {
     "name": "stderr",
     "output_type": "stream",
     "text": []
    },
    {
     "name": "stdout",
     "output_type": "stream",
     "text": [
      "Genome fixed after 0 passes\n",
      "Genome fixed after 9 passes\n",
      "Genome fully rebuilt\n",
      "Genome fixed after 0 passes\n",
      "Genome fixed after 0 passes\n",
      "Genome fixed after 0 passes\n",
      "Genome fixed after 0 passes\n",
      "Genome fixed after 0 passes\n",
      "Genome fixed after 0 passes\n",
      "Genome fixed after 0 passes\n",
      "Genome fixed after 0 passes\n",
      "Genome fixed after 0 passes\n",
      "Genome fully rebuilt\n",
      "Genome fixed after 1 passes\n",
      "Genome fixed after 0 passes\n",
      "Genome fixed after 3 passes\n",
      "Genome fully rebuilt\n",
      "Genome fully rebuilt\n",
      "Genome fully rebuilt\n"
     ]
    },
    {
     "name": "stderr",
     "output_type": "stream",
     "text": []
    },
    {
     "name": "stdout",
     "output_type": "stream",
     "text": [
      "Genome fixed after 0 passes\n",
      "Genome fixed after 0 passes\n",
      "Genome fixed after 0 passes\n",
      "Genome fixed after 0 passes\n",
      "Genome fixed after 0 passes\n",
      "Genome fixed after 0 passes\n",
      "Genome fixed after 0 passes\n",
      "Genome fixed after 0 passes\n",
      "Genome fixed after 2 passes\n",
      "Genome fixed after 0 passes\n",
      "Genome fixed after 0 passes\n",
      "Genome fixed after 0 passes\n",
      "Genome fixed after 0 passes\n",
      "Genome fixed after 0 passes\n",
      "Genome fully rebuilt\n",
      "Genome fixed after 1 passes\n",
      "Genome fully rebuilt\n",
      "Genome fixed after 3 passes\n",
      "Genome fixed after 0 passes\n",
      "Genome fixed after 0 passes\n",
      "Genome fixed after 5 passes\n"
     ]
    },
    {
     "name": "stderr",
     "output_type": "stream",
     "text": []
    },
    {
     "name": "stdout",
     "output_type": "stream",
     "text": [
      "Genome fixed after 9 passes\n",
      "Genome fixed after 0 passes\n",
      "Genome fixed after 0 passes\n",
      "Genome fixed after 0 passes\n",
      "Genome fixed after 0 passes\n",
      "Genome fixed after 0 passes\n",
      "Genome fixed after 0 passes\n",
      "Genome fixed after 0 passes\n",
      "Genome fixed after 1 passes\n",
      "Genome fixed after 0 passes\n",
      "Genome fixed after 0 passes\n",
      "Genome fixed after 0 passes\n",
      "Genome fixed after 2 passes\n",
      "Genome fixed after 2 passes\n",
      "Genome fully rebuilt\n",
      "Genome fixed after 4 passes\n",
      "Genome fully rebuilt\n",
      "Genome fully rebuilt\n",
      "Genome fixed after 0 passes\n",
      "Genome fixed after 1 passes\n"
     ]
    },
    {
     "name": "stderr",
     "output_type": "stream",
     "text": []
    },
    {
     "name": "stdout",
     "output_type": "stream",
     "text": [
      "Genome fixed after 0 passes\n",
      "Genome fixed after 0 passes\n",
      "Genome fixed after 0 passes\n",
      "Genome fixed after 0 passes\n",
      "Genome fixed after 4 passes\n",
      "Genome fixed after 7 passes\n",
      "Genome fixed after 0 passes\n",
      "Genome fixed after 0 passes\n",
      "Genome fixed after 0 passes\n",
      "Genome fixed after 0 passes\n",
      "Genome fully rebuilt\n",
      "Genome fixed after 0 passes\n",
      "Genome fully rebuilt\n",
      "Genome fully rebuilt\n",
      "Genome fixed after 0 passes\n",
      "Genome fixed after 3 passes\n",
      "Genome fixed after 0 passes\n",
      "Genome fixed after 0 passes\n"
     ]
    },
    {
     "name": "stderr",
     "output_type": "stream",
     "text": []
    },
    {
     "name": "stdout",
     "output_type": "stream",
     "text": [
      "Genome fixed after 0 passes\n",
      "Genome fixed after 0 passes\n",
      "Genome fixed after 0 passes\n",
      "Genome fixed after 0 passes\n",
      "Genome fixed after 0 passes\n",
      "Genome fixed after 0 passes\n",
      "Genome fixed after 0 passes\n",
      "Genome fixed after 0 passes\n",
      "Genome fixed after 0 passes\n",
      "Genome fixed after 0 passes\n",
      "Genome fixed after 7 passes\n",
      "Genome fully rebuilt\n",
      "Genome fully rebuilt\n",
      "Genome fully rebuilt\n",
      "Genome fixed after 2 passes\n",
      "Genome fixed after 0 passes\n",
      "Genome fixed after 2 passes\n",
      "Genome fixed after 0 passes\n",
      "Genome fixed after 0 passes\n",
      "Genome fully rebuilt\n",
      "Genome fixed after 0 passes\n",
      "Genome fully rebuilt\n"
     ]
    },
    {
     "name": "stderr",
     "output_type": "stream",
     "text": []
    },
    {
     "name": "stdout",
     "output_type": "stream",
     "text": [
      "Genome fixed after 4 passes\n",
      "Genome fixed after 0 passes\n",
      "Genome fully rebuilt\n",
      "Genome fixed after 0 passes\n",
      "Genome fixed after 0 passes\n",
      "Genome fixed after 0 passes\n",
      "Genome fixed after 1 passes\n",
      "Genome fixed after 0 passes\n",
      "Genome fixed after 0 passes\n",
      "Genome fixed after 0 passes\n",
      "Genome fully rebuilt\n",
      "Genome fully rebuilt\n",
      "Genome fully rebuilt\n",
      "Genome fixed after 0 passes\n",
      "Genome fixed after 8 passes\n",
      "Genome fixed after 1 passes\n",
      "Genome fully rebuilt\n",
      "Genome fixed after 1 passes\n",
      "Genome fully rebuilt\n"
     ]
    },
    {
     "name": "stderr",
     "output_type": "stream",
     "text": []
    },
    {
     "name": "stdout",
     "output_type": "stream",
     "text": [
      "Genome fixed after 0 passes\n",
      "Genome fixed after 0 passes\n",
      "Genome fixed after 0 passes\n",
      "Genome fixed after 2 passes\n",
      "Genome fixed after 0 passes\n",
      "Genome fixed after 0 passes\n",
      "Genome fixed after 0 passes\n",
      "Genome fixed after 0 passes\n",
      "Genome fully rebuilt\n",
      "Genome fixed after 0 passes\n",
      "Genome fully rebuilt\n",
      "Genome fixed after 7 passes\n",
      "Genome fully rebuilt\n",
      "Genome fixed after 0 passes\n",
      "Genome fully rebuilt\n",
      "Genome fixed after 0 passes\n"
     ]
    },
    {
     "name": "stderr",
     "output_type": "stream",
     "text": []
    },
    {
     "name": "stdout",
     "output_type": "stream",
     "text": [
      "Genome fixed after 0 passes\n",
      "Genome fixed after 0 passes\n",
      "Genome fixed after 0 passes\n",
      "Genome fixed after 0 passes\n",
      "Genome fixed after 0 passes\n",
      "Genome fixed after 4 passes\n",
      "Genome fully rebuilt\n",
      "Genome fixed after 0 passes\n",
      "Genome fixed after 0 passes\n",
      "Genome fixed after 6 passes\n",
      "Genome fully rebuilt\n",
      "Genome fixed after 0 passes\n",
      "Genome fixed after 9 passes\n",
      "Genome fully rebuilt\n",
      "Genome fixed after 9 passes\n"
     ]
    },
    {
     "name": "stderr",
     "output_type": "stream",
     "text": []
    },
    {
     "name": "stdout",
     "output_type": "stream",
     "text": [
      "Genome fixed after 3 passes\n",
      "Genome fixed after 1 passes\n",
      "Genome fixed after 0 passes\n",
      "Genome fixed after 5 passes\n",
      "Genome fixed after 0 passes\n",
      "Genome fixed after 3 passes\n",
      "Genome fixed after 2 passes\n",
      "Genome fixed after 0 passes\n",
      "Genome fully rebuilt\n",
      "Genome fixed after 4 passes\n",
      "Genome fully rebuilt\n",
      "Genome fully rebuilt\n",
      "Genome fixed after 3 passes\n",
      "Genome fixed after 0 passes\n",
      "Genome fixed after 0 passes\n",
      "Genome fully rebuilt\n",
      "Genome fixed after 4 passes\n",
      "Genome fixed after 5 passes\n",
      "Genome fixed after 0 passes\n",
      "Genome fully rebuilt\n",
      "Genome fully rebuilt\n",
      "Genome fixed after 0 passes\n",
      "Genome fixed after 1 passes\n"
     ]
    },
    {
     "name": "stderr",
     "output_type": "stream",
     "text": []
    },
    {
     "name": "stdout",
     "output_type": "stream",
     "text": [
      "Genome fixed after 0 passes\n",
      "Genome fixed after 0 passes\n",
      "Genome fixed after 0 passes\n",
      "Genome fully rebuilt\n",
      "Genome fully rebuilt\n",
      "Genome fixed after 0 passes\n",
      "Genome fully rebuilt\n",
      "Genome fixed after 2 passes\n",
      "Genome fully rebuilt\n",
      "Genome fixed after 0 passes\n",
      "Genome fully rebuilt\n",
      "Genome fully rebuilt\n",
      "Genome fixed after 0 passes\n",
      "Genome fixed after 0 passes\n"
     ]
    },
    {
     "name": "stderr",
     "output_type": "stream",
     "text": []
    },
    {
     "name": "stdout",
     "output_type": "stream",
     "text": [
      "Genome fixed after 8 passes\n",
      "Genome fixed after 0 passes\n",
      "Genome fully rebuilt\n",
      "Genome fixed after 2 passes\n",
      "Genome fixed after 0 passes\n",
      "Genome fixed after 0 passes\n",
      "Genome fixed after 0 passes\n",
      "Genome fixed after 0 passes\n",
      "Genome fixed after 5 passes\n",
      "Genome fixed after 0 passes\n",
      "Genome fixed after 0 passes\n",
      "Genome fully rebuilt\n",
      "Genome fully rebuilt\n",
      "Genome fully rebuilt\n",
      "Genome fixed after 0 passes\n",
      "Genome fixed after 0 passes\n",
      "Genome fixed after 8 passes\n",
      "Genome fully rebuilt\n",
      "Genome fully rebuilt\n",
      "Genome fixed after 3 passes\n",
      "Genome fixed after 1 passes\n",
      "Genome fixed after 0 passes\n",
      "Genome fixed after 0 passes\n",
      "Genome fixed after 0 passes\n",
      "Genome fixed after 0 passes\n",
      "Genome fixed after 0 passes\n",
      "Genome fully rebuilt\n",
      "Genome fixed after 2 passes\n",
      "Genome fully rebuilt\n",
      "Genome fully rebuilt\n",
      "Genome fixed after 9 passes\n",
      "Genome fixed after 1 passes\n",
      "Genome fixed after 5 passes\n",
      "Genome fixed after 2 passes\n",
      "Genome fixed after 1 passes\n",
      "Genome fixed after 0 passes\n"
     ]
    },
    {
     "name": "stderr",
     "output_type": "stream",
     "text": []
    },
    {
     "name": "stdout",
     "output_type": "stream",
     "text": [
      "Genome fixed after 3 passes\n",
      "Genome fixed after 6 passes\n",
      "Genome fully rebuilt\n",
      "Genome fully rebuilt\n",
      "Genome fully rebuilt\n",
      "Genome fixed after 3 passes\n",
      "Genome fully rebuilt\n",
      "Genome fixed after 5 passes\n",
      "Genome fixed after 9 passes\n",
      "Genome fixed after 0 passes\n",
      "Genome fixed after 0 passes\n",
      "Genome fully rebuilt\n",
      "Genome fully rebuilt\n",
      "Genome fixed after 0 passes\n",
      "Genome fixed after 0 passes\n",
      "Genome fixed after 0 passes\n",
      "Genome fully rebuilt\n",
      "Genome fully rebuilt\n",
      "Genome fully rebuilt\n",
      "Genome fixed after 0 passes\n",
      "Genome fixed after 0 passes\n",
      "Genome fixed after 9 passes\n",
      "Genome fixed after 4 passes\n",
      "Genome fixed after 0 passes\n",
      "Genome fully rebuilt\n",
      "Genome fully rebuilt\n"
     ]
    },
    {
     "name": "stderr",
     "output_type": "stream",
     "text": []
    },
    {
     "name": "stdout",
     "output_type": "stream",
     "text": [
      "Genome fixed after 6 passes\n",
      "Genome fixed after 2 passes\n",
      "Genome fixed after 0 passes\n",
      "Genome fixed after 1 passes\n",
      "Genome fully rebuilt\n",
      "Genome fixed after 3 passes\n",
      "Genome fixed after 0 passes\n",
      "Genome fixed after 0 passes\n",
      "Genome fully rebuilt\n",
      "Genome fully rebuilt\n",
      "Genome fixed after 3 passes\n",
      "Genome fully rebuilt\n",
      "Genome fixed after 4 passes\n",
      "Genome fixed after 3 passes\n",
      "Genome fully rebuilt\n",
      "Genome fixed after 0 passes\n",
      "Genome fully rebuilt\n",
      "Genome fully rebuilt\n",
      "Genome fixed after 6 passes\n",
      "Genome fixed after 9 passes\n",
      "Genome fixed after 3 passes\n",
      "Genome fixed after 4 passes\n",
      "Genome fully rebuilt\n",
      "Genome fully rebuilt\n",
      "Genome fixed after 0 passes\n",
      "Genome fully rebuilt\n",
      "Genome fully rebuilt\n",
      "Genome fixed after 0 passes\n",
      "Genome fixed after 0 passes\n",
      "Genome fully rebuilt\n",
      "Genome fixed after 0 passes\n",
      "Genome fixed after 0 passes\n",
      "Genome fully rebuilt\n",
      "Genome fully rebuilt\n",
      "Genome fixed after 0 passes\n",
      "Genome fully rebuilt\n",
      "Genome fixed after 1 passes\n",
      "Genome fully rebuilt\n",
      "Genome fully rebuilt\n",
      "Genome fully rebuilt\n",
      "Genome fixed after 0 passes\n",
      "Genome fixed after 1 passes\n"
     ]
    },
    {
     "name": "stderr",
     "output_type": "stream",
     "text": []
    },
    {
     "name": "stdout",
     "output_type": "stream",
     "text": [
      "Genome fixed after 0 passes\n",
      "Genome fixed after 0 passes\n",
      "Genome fully rebuilt\n",
      "Genome fixed after 8 passes\n",
      "Genome fixed after 2 passes\n",
      "Genome fixed after 6 passes\n",
      "Genome fixed after 0 passes\n",
      "Genome fixed after 2 passes\n",
      "Genome fixed after 2 passes\n",
      "Genome fixed after 8 passes\n",
      "Genome fixed after 9 passes\n",
      "Genome fully rebuilt\n",
      "Genome fixed after 0 passes\n",
      "Genome fixed after 3 passes\n",
      "Genome fixed after 7 passes\n",
      "Genome fixed after 0 passes\n",
      "Genome fully rebuilt\n",
      "Genome fully rebuilt\n",
      "Genome fixed after 5 passes\n",
      "Genome fully rebuilt\n",
      "Genome fixed after 0 passes\n",
      "Genome fixed after 6 passes\n"
     ]
    },
    {
     "name": "stderr",
     "output_type": "stream",
     "text": []
    },
    {
     "name": "stdout",
     "output_type": "stream",
     "text": [
      "Genome fixed after 0 passes\n",
      "Genome fixed after 0 passes\n",
      "Genome fully rebuilt\n",
      "Genome fixed after 0 passes\n",
      "Genome fixed after 1 passes\n",
      "Genome fixed after 0 passes\n",
      "Genome fixed after 7 passes\n",
      "Genome fixed after 0 passes\n",
      "Genome fixed after 1 passes\n",
      "Genome fixed after 0 passes\n",
      "Genome fixed after 6 passes\n",
      "Genome fixed after 6 passes\n",
      "Genome fully rebuilt\n",
      "Genome fully rebuilt\n",
      "Genome fully rebuilt\n",
      "Genome fixed after 0 passes\n",
      "Genome fully rebuilt\n",
      "Genome fully rebuilt\n",
      "Genome fixed after 0 passes\n",
      "Genome fixed after 0 passes\n",
      "Genome fully rebuilt\n",
      "Genome fixed after 1 passes\n"
     ]
    },
    {
     "name": "stderr",
     "output_type": "stream",
     "text": []
    },
    {
     "name": "stdout",
     "output_type": "stream",
     "text": [
      "Genome fixed after 0 passes\n",
      "Genome fixed after 5 passes\n",
      "Genome fixed after 0 passes\n",
      "Genome fixed after 9 passes\n",
      "Genome fully rebuilt\n",
      "Genome fixed after 3 passes\n",
      "Genome fixed after 0 passes\n",
      "Genome fully rebuilt\n",
      "Genome fixed after 0 passes\n",
      "Genome fixed after 4 passes\n",
      "Genome fully rebuilt\n",
      "Genome fixed after 4 passes\n",
      "Genome fixed after 4 passes\n",
      "Genome fixed after 0 passes\n",
      "Genome fixed after 8 passes\n",
      "Genome fixed after 0 passes\n",
      "Genome fully rebuilt\n",
      "Genome fully rebuilt\n",
      "Genome fixed after 0 passes\n",
      "Genome fixed after 0 passes\n"
     ]
    },
    {
     "name": "stderr",
     "output_type": "stream",
     "text": []
    },
    {
     "name": "stdout",
     "output_type": "stream",
     "text": [
      "Genome fixed after 6 passes\n",
      "Genome fully rebuilt\n",
      "Genome fixed after 0 passes\n",
      "Genome fixed after 0 passes\n",
      "Genome fully rebuilt\n",
      "Genome fixed after 0 passes\n",
      "Genome fixed after 0 passes\n",
      "Genome fully rebuilt\n",
      "Genome fully rebuilt\n",
      "Genome fixed after 0 passes\n",
      "Genome fully rebuilt\n",
      "Genome fixed after 0 passes\n",
      "Genome fixed after 0 passes\n",
      "Genome fully rebuilt\n",
      "Genome fixed after 0 passes\n",
      "Genome fixed after 0 passes\n",
      "Genome fixed after 0 passes\n",
      "Genome fixed after 2 passes\n",
      "Genome fixed after 2 passes\n",
      "Genome fixed after 1 passes\n",
      "Genome fixed after 0 passes\n",
      "Genome fixed after 0 passes\n",
      "Genome fixed after 8 passes\n",
      "Genome fixed after 0 passes\n",
      "Genome fully rebuilt\n",
      "Genome fixed after 0 passes\n",
      "Genome fixed after 7 passes\n",
      "Genome fixed after 0 passes\n",
      "Genome fixed after 0 passes\n"
     ]
    },
    {
     "name": "stderr",
     "output_type": "stream",
     "text": []
    },
    {
     "name": "stdout",
     "output_type": "stream",
     "text": [
      "Genome fixed after 2 passes\n",
      "Genome fixed after 0 passes\n",
      "Genome fixed after 0 passes\n",
      "Genome fixed after 0 passes\n",
      "Genome fully rebuilt\n",
      "Genome fixed after 0 passes\n",
      "Genome fixed after 0 passes\n",
      "Genome fixed after 0 passes\n",
      "Genome fixed after 0 passes\n",
      "Genome fully rebuilt\n",
      "Genome fixed after 0 passes\n",
      "Genome fixed after 0 passes\n",
      "Genome fixed after 0 passes\n",
      "Genome fixed after 8 passes\n",
      "Genome fully rebuilt\n",
      "Genome fixed after 0 passes\n",
      "Genome fixed after 0 passes\n",
      "Genome fixed after 0 passes\n",
      "Genome fixed after 0 passes\n",
      "Genome fixed after 0 passes\n",
      "Genome fixed after 4 passes\n",
      "Genome fixed after 6 passes\n",
      "Genome fully rebuilt\n",
      "Genome fixed after 8 passes\n",
      "Genome fixed after 2 passes\n"
     ]
    },
    {
     "name": "stderr",
     "output_type": "stream",
     "text": []
    },
    {
     "name": "stdout",
     "output_type": "stream",
     "text": [
      "Genome fixed after 0 passes\n",
      "Genome fixed after 6 passes\n",
      "Genome fixed after 6 passes\n",
      "Genome fixed after 0 passes\n",
      "Genome fixed after 0 passes\n",
      "Genome fixed after 0 passes\n",
      "Genome fixed after 0 passes\n",
      "Genome fully rebuilt\n",
      "Genome fixed after 0 passes\n",
      "Genome fixed after 4 passes\n",
      "Genome fully rebuilt\n",
      "Genome fully rebuilt\n",
      "Genome fixed after 0 passes\n",
      "Genome fixed after 0 passes\n",
      "Genome fixed after 0 passes\n",
      "Genome fixed after 2 passes\n",
      "Genome fully rebuilt\n",
      "Genome fixed after 0 passes\n",
      "Genome fixed after 7 passes\n"
     ]
    },
    {
     "name": "stderr",
     "output_type": "stream",
     "text": []
    },
    {
     "name": "stdout",
     "output_type": "stream",
     "text": [
      "Genome fixed after 0 passes\n",
      "Genome fixed after 2 passes\n",
      "Genome fixed after 0 passes\n",
      "Genome fixed after 0 passes\n",
      "Genome fully rebuilt\n",
      "Genome fixed after 0 passes\n",
      "Genome fixed after 0 passes\n",
      "Genome fixed after 1 passes\n",
      "Genome fixed after 0 passes\n",
      "Genome fully rebuilt\n",
      "Genome fixed after 0 passes\n",
      "Genome fixed after 4 passes\n",
      "Genome fixed after 0 passes\n"
     ]
    },
    {
     "name": "stderr",
     "output_type": "stream",
     "text": []
    },
    {
     "name": "stdout",
     "output_type": "stream",
     "text": [
      "Genome fully rebuilt\n",
      "Genome fixed after 4 passes\n",
      "Genome fixed after 3 passes\n",
      "Genome fixed after 3 passes\n",
      "Genome fixed after 0 passes\n",
      "Genome fixed after 3 passes\n",
      "Genome fixed after 2 passes\n",
      "Genome fully rebuilt\n",
      "Genome fully rebuilt\n",
      "Genome fully rebuilt\n",
      "Genome fixed after 0 passes\n",
      "Genome fixed after 0 passes\n",
      "Genome fixed after 0 passes\n",
      "Genome fully rebuilt\n",
      "Genome fixed after 0 passes\n",
      "Genome fixed after 0 passes\n",
      "Genome fully rebuilt\n",
      "Genome fixed after 4 passes\n",
      "Genome fully rebuilt\n",
      "Genome fully rebuilt\n",
      "Genome fixed after 0 passes\n",
      "Genome fully rebuilt\n",
      "Genome fully rebuilt\n",
      "Genome fixed after 7 passes\n",
      "Genome fixed after 1 passes\n",
      "Genome fixed after 0 passes\n",
      "Genome fixed after 0 passes\n",
      "Genome fixed after 0 passes\n",
      "Genome fully rebuilt\n",
      "Genome fixed after 0 passes\n",
      "Genome fixed after 0 passes\n",
      "Genome fixed after 0 passes\n",
      "Genome fixed after 0 passes\n",
      "Genome fully rebuilt\n",
      "Genome fixed after 4 passes\n"
     ]
    },
    {
     "name": "stderr",
     "output_type": "stream",
     "text": []
    },
    {
     "name": "stdout",
     "output_type": "stream",
     "text": [
      "Genome fixed after 0 passes\n",
      "Genome fully rebuilt\n",
      "Genome fixed after 1 passes\n",
      "Genome fully rebuilt\n",
      "Genome fully rebuilt\n",
      "Genome fixed after 1 passes\n",
      "Genome fixed after 0 passes\n",
      "Genome fixed after 0 passes\n",
      "Genome fully rebuilt\n",
      "Genome fully rebuilt\n",
      "Genome fixed after 0 passes\n",
      "Genome fully rebuilt\n",
      "Genome fixed after 1 passes\n",
      "Genome fully rebuilt\n",
      "Genome fixed after 0 passes\n",
      "Genome fully rebuilt\n",
      "Genome fully rebuilt\n",
      "Genome fixed after 6 passes\n",
      "Genome fixed after 0 passes\n",
      "Genome fixed after 0 passes\n",
      "Genome fixed after 0 passes\n",
      "Genome fixed after 3 passes\n",
      "Genome fixed after 0 passes\n",
      "Genome fully rebuilt\n",
      "Genome fixed after 2 passes\n",
      "Genome fixed after 0 passes\n",
      "Genome fixed after 0 passes\n",
      "Genome fixed after 0 passes\n",
      "Genome fixed after 4 passes\n",
      "Genome fixed after 0 passes\n",
      "Genome fully rebuilt\n"
     ]
    },
    {
     "name": "stderr",
     "output_type": "stream",
     "text": []
    },
    {
     "name": "stdout",
     "output_type": "stream",
     "text": [
      "Genome fixed after 0 passes\n",
      "Genome fixed after 0 passes\n",
      "Genome fixed after 0 passes\n",
      "Genome fixed after 4 passes\n",
      "Genome fixed after 0 passes\n",
      "Genome fixed after 0 passes\n",
      "Genome fixed after 0 passes\n",
      "Genome fully rebuilt\n",
      "Genome fixed after 6 passes\n",
      "Genome fixed after 0 passes\n",
      "Genome fixed after 2 passes\n",
      "Genome fixed after 0 passes\n",
      "Genome fixed after 8 passes\n",
      "Genome fixed after 0 passes\n",
      "Genome fixed after 0 passes\n",
      "Genome fully rebuilt\n",
      "Genome fixed after 0 passes\n",
      "Genome fixed after 0 passes\n",
      "Genome fixed after 0 passes\n",
      "Genome fixed after 0 passes\n",
      "Genome fixed after 1 passes\n",
      "Genome fixed after 1 passes\n",
      "Genome fully rebuilt\n"
     ]
    },
    {
     "name": "stderr",
     "output_type": "stream",
     "text": []
    },
    {
     "name": "stdout",
     "output_type": "stream",
     "text": [
      "Genome fixed after 4 passes\n",
      "Genome fixed after 6 passes\n",
      "Genome fixed after 0 passes\n",
      "Genome fixed after 6 passes\n",
      "Genome fixed after 0 passes\n",
      "Genome fixed after 0 passes\n",
      "Genome fixed after 1 passes\n",
      "Genome fully rebuilt\n",
      "Genome fixed after 0 passes\n",
      "Genome fully rebuilt\n",
      "Genome fixed after 0 passes\n",
      "Genome fully rebuilt\n",
      "Genome fixed after 1 passes\n",
      "Genome fixed after 0 passes\n",
      "Genome fixed after 0 passes\n",
      "Genome fixed after 1 passes\n",
      "Genome fixed after 0 passes\n",
      "Genome fixed after 0 passes\n",
      "Genome fully rebuilt\n",
      "Genome fixed after 5 passes\n",
      "Genome fully rebuilt\n",
      "Genome fully rebuilt\n",
      "Genome fully rebuilt\n",
      "Genome fixed after 7 passes\n",
      "Genome fully rebuilt\n",
      "Genome fully rebuilt\n"
     ]
    },
    {
     "name": "stderr",
     "output_type": "stream",
     "text": []
    },
    {
     "name": "stdout",
     "output_type": "stream",
     "text": [
      "Genome fixed after 1 passes\n",
      "Genome fully rebuilt\n",
      "Genome fixed after 0 passes\n",
      "Genome fixed after 0 passes\n",
      "Genome fixed after 0 passes\n",
      "Genome fixed after 0 passes\n",
      "Genome fully rebuilt\n",
      "Genome fixed after 0 passes\n",
      "Genome fixed after 0 passes\n",
      "Genome fully rebuilt\n",
      "Genome fixed after 0 passes\n",
      "Genome fully rebuilt\n",
      "Genome fixed after 0 passes\n",
      "Genome fully rebuilt\n",
      "Genome fixed after 6 passes\n",
      "Genome fixed after 7 passes\n",
      "Genome fixed after 0 passes\n",
      "Genome fully rebuilt\n",
      "Genome fixed after 2 passes\n"
     ]
    },
    {
     "name": "stderr",
     "output_type": "stream",
     "text": []
    },
    {
     "name": "stdout",
     "output_type": "stream",
     "text": [
      "Genome fixed after 3 passes\n",
      "Genome fully rebuilt\n",
      "Genome fixed after 0 passes\n",
      "Genome fixed after 0 passes\n",
      "Genome fixed after 2 passes\n",
      "Genome fully rebuilt\n",
      "Genome fixed after 0 passes\n",
      "Genome fully rebuilt\n",
      "Genome fixed after 0 passes\n",
      "Genome fixed after 0 passes\n",
      "Genome fixed after 2 passes\n",
      "Genome fixed after 0 passes\n",
      "Genome fully rebuilt\n",
      "Genome fixed after 0 passes\n",
      "Genome fixed after 0 passes\n"
     ]
    },
    {
     "name": "stderr",
     "output_type": "stream",
     "text": []
    },
    {
     "name": "stdout",
     "output_type": "stream",
     "text": [
      "Genome fixed after 4 passes\n",
      "Genome fixed after 6 passes\n",
      "Genome fixed after 0 passes\n",
      "Genome fully rebuilt\n",
      "Genome fully rebuilt\n",
      "Genome fully rebuilt\n",
      "Genome fixed after 1 passes\n",
      "Genome fixed after 0 passes\n",
      "Genome fully rebuilt\n",
      "Genome fixed after 1 passes\n",
      "Genome fixed after 0 passes\n",
      "Genome fully rebuilt\n",
      "Genome fixed after 0 passes\n",
      "Genome fixed after 4 passes\n",
      "Genome fixed after 0 passes\n",
      "Genome fixed after 4 passes\n",
      "Genome fully rebuilt\n",
      "Genome fixed after 0 passes\n",
      "Genome fully rebuilt\n",
      "Genome fully rebuilt\n",
      "Genome fully rebuilt\n",
      "Genome fixed after 0 passes\n",
      "Genome fully rebuilt\n",
      "Genome fixed after 9 passes\n",
      "Genome fully rebuilt\n",
      "Genome fixed after 3 passes\n",
      "Genome fixed after 4 passes\n",
      "Genome fully rebuilt\n",
      "Genome fixed after 1 passes\n",
      "Genome fixed after 0 passes\n",
      "Genome fixed after 1 passes\n",
      "Genome fully rebuilt\n",
      "Genome fully rebuilt\n"
     ]
    },
    {
     "name": "stderr",
     "output_type": "stream",
     "text": []
    },
    {
     "name": "stdout",
     "output_type": "stream",
     "text": [
      "Genome fully rebuilt\n",
      "Genome fixed after 2 passes\n",
      "Genome fixed after 0 passes\n",
      "Genome fixed after 9 passes\n",
      "Genome fully rebuilt\n",
      "Genome fully rebuilt\n",
      "Genome fixed after 0 passes\n",
      "Genome fixed after 0 passes\n",
      "Genome fixed after 2 passes\n",
      "Genome fixed after 5 passes\n",
      "Genome fixed after 0 passes\n",
      "Genome fixed after 0 passes\n",
      "Genome fixed after 0 passes\n",
      "Genome fixed after 0 passes\n",
      "Genome fixed after 0 passes\n",
      "Genome fixed after 2 passes\n",
      "Genome fixed after 5 passes\n",
      "Genome fixed after 0 passes\n",
      "Genome fixed after 3 passes\n",
      "Genome fully rebuilt\n",
      "Genome fully rebuilt\n",
      "Genome fixed after 6 passes\n",
      "Genome fixed after 1 passes\n",
      "Genome fixed after 6 passes\n",
      "Genome fixed after 0 passes\n",
      "Genome fully rebuilt\n",
      "Genome fully rebuilt\n",
      "Genome fully rebuilt\n",
      "Genome fully rebuilt\n",
      "Genome fixed after 0 passes\n",
      "Genome fixed after 0 passes\n",
      "Genome fixed after 0 passes\n",
      "Genome fixed after 1 passes\n",
      "Genome fixed after 1 passes\n",
      "Genome fully rebuilt\n",
      "Genome fixed after 1 passes\n",
      "Genome fixed after 0 passes\n",
      "Genome fully rebuilt\n",
      "Genome fixed after 0 passes\n"
     ]
    },
    {
     "name": "stderr",
     "output_type": "stream",
     "text": []
    },
    {
     "name": "stdout",
     "output_type": "stream",
     "text": [
      "Genome fixed after 5 passes\n",
      "Genome fixed after 7 passes\n",
      "Genome fixed after 1 passes\n",
      "Genome fully rebuilt\n",
      "Genome fixed after 0 passes\n",
      "Genome fully rebuilt\n",
      "Genome fixed after 0 passes\n",
      "Genome fully rebuilt\n",
      "Genome fully rebuilt\n",
      "Genome fixed after 2 passes\n",
      "Genome fixed after 6 passes\n",
      "Genome fixed after 3 passes\n",
      "Genome fixed after 7 passes\n",
      "Genome fixed after 6 passes\n",
      "Genome fixed after 0 passes\n",
      "Genome fixed after 1 passes\n",
      "Genome fixed after 3 passes\n",
      "Genome fixed after 4 passes\n",
      "Genome fully rebuilt\n",
      "Genome fixed after 0 passes\n",
      "Genome fixed after 3 passes\n",
      "Genome fixed after 0 passes\n",
      "Genome fixed after 6 passes\n",
      "Genome fixed after 0 passes\n",
      "Genome fully rebuilt\n",
      "Genome fully rebuilt\n",
      "Genome fully rebuilt\n",
      "Genome fully rebuilt\n",
      "Genome fixed after 0 passes\n",
      "Genome fixed after 0 passes\n",
      "Genome fully rebuilt\n",
      "Genome fixed after 1 passes\n",
      "Genome fully rebuilt\n",
      "Genome fixed after 1 passes\n",
      "Genome fully rebuilt\n",
      "Genome fixed after 2 passes\n",
      "Genome fully rebuilt\n",
      "Genome fully rebuilt\n",
      "Genome fixed after 0 passes\n",
      "Genome fully rebuilt\n"
     ]
    },
    {
     "name": "stderr",
     "output_type": "stream",
     "text": []
    },
    {
     "name": "stdout",
     "output_type": "stream",
     "text": [
      "Genome fixed after 6 passes\n",
      "Genome fully rebuilt\n",
      "Genome fully rebuilt\n",
      "Genome fixed after 2 passes\n",
      "Genome fully rebuilt\n",
      "Genome fully rebuilt\n",
      "Genome fixed after 0 passes\n",
      "Genome fixed after 0 passes\n",
      "Genome fixed after 0 passes\n",
      "Genome fixed after 5 passes\n",
      "Genome fully rebuilt\n",
      "Genome fixed after 0 passes\n",
      "Genome fixed after 4 passes\n",
      "Genome fixed after 0 passes\n",
      "Genome fully rebuilt\n",
      "Genome fixed after 1 passes\n",
      "Genome fully rebuilt\n",
      "Genome fixed after 0 passes\n",
      "Genome fixed after 0 passes\n",
      "Genome fully rebuilt\n",
      "Genome fixed after 0 passes\n",
      "Genome fully rebuilt\n",
      "Genome fixed after 1 passes\n",
      "Genome fully rebuilt\n",
      "Genome fully rebuilt\n",
      "Genome fixed after 1 passes\n",
      "Genome fixed after 0 passes\n",
      "Genome fixed after 0 passes\n",
      "Genome fixed after 0 passes\n"
     ]
    },
    {
     "name": "stderr",
     "output_type": "stream",
     "text": []
    },
    {
     "name": "stdout",
     "output_type": "stream",
     "text": [
      "Genome fixed after 2 passes\n",
      "Genome fixed after 5 passes\n",
      "Genome fully rebuilt\n",
      "Genome fixed after 0 passes\n",
      "Genome fixed after 0 passes\n",
      "Genome fixed after 0 passes\n",
      "Genome fixed after 3 passes\n",
      "Genome fixed after 3 passes\n",
      "Genome fixed after 0 passes\n",
      "Genome fully rebuilt\n",
      "Genome fully rebuilt\n",
      "Genome fully rebuilt\n",
      "Genome fixed after 8 passes\n",
      "Genome fixed after 0 passes\n",
      "Genome fixed after 0 passes\n",
      "Genome fixed after 6 passes\n",
      "Genome fixed after 9 passes\n",
      "Genome fixed after 0 passes\n",
      "Genome fixed after 0 passes\n",
      "Genome fixed after 5 passes\n",
      "Genome fully rebuilt\n",
      "Genome fixed after 0 passes\n",
      "Genome fixed after 6 passes\n",
      "Genome fixed after 4 passes\n",
      "Genome fixed after 1 passes\n",
      "Genome fixed after 0 passes\n",
      "Genome fully rebuilt\n",
      "Genome fixed after 5 passes\n",
      "Genome fixed after 0 passes\n",
      "Genome fully rebuilt\n",
      "Genome fixed after 0 passes\n",
      "Genome fixed after 8 passes\n",
      "Genome fully rebuilt\n",
      "Genome fixed after 2 passes\n",
      "Genome fixed after 0 passes\n",
      "Genome fully rebuilt\n",
      "Genome fully rebuilt\n",
      "Genome fixed after 2 passes\n"
     ]
    },
    {
     "name": "stderr",
     "output_type": "stream",
     "text": []
    },
    {
     "name": "stdout",
     "output_type": "stream",
     "text": [
      "Genome fixed after 0 passes\n",
      "Genome fully rebuilt\n",
      "Genome fully rebuilt\n",
      "Genome fixed after 0 passes\n",
      "Genome fixed after 0 passes\n",
      "Genome fully rebuilt\n",
      "Genome fixed after 0 passes\n",
      "Genome fixed after 0 passes\n",
      "Genome fixed after 0 passes\n",
      "Genome fixed after 2 passes\n",
      "Genome fixed after 1 passes\n",
      "Genome fixed after 0 passes\n",
      "Genome fixed after 0 passes\n",
      "Genome fixed after 0 passes\n",
      "Genome fixed after 4 passes\n",
      "Genome fixed after 0 passes\n",
      "Genome fixed after 0 passes\n",
      "Genome fixed after 0 passes\n",
      "Genome fully rebuilt\n"
     ]
    },
    {
     "name": "stderr",
     "output_type": "stream",
     "text": []
    },
    {
     "name": "stdout",
     "output_type": "stream",
     "text": [
      "Genome fixed after 0 passes\n",
      "Genome fixed after 0 passes\n",
      "Genome fixed after 0 passes\n",
      "Genome fixed after 0 passes\n",
      "Genome fixed after 0 passes\n",
      "Genome fixed after 0 passes\n",
      "Genome fixed after 0 passes\n",
      "Genome fixed after 2 passes\n",
      "Genome fixed after 0 passes\n",
      "Genome fixed after 2 passes\n",
      "Genome fixed after 0 passes\n",
      "Genome fixed after 0 passes\n",
      "Genome fixed after 0 passes\n",
      "Genome fixed after 2 passes\n",
      "Genome fixed after 0 passes\n",
      "Genome fully rebuilt\n",
      "Genome fixed after 0 passes\n",
      "Genome fixed after 0 passes\n",
      "Genome fixed after 1 passes\n",
      "Genome fully rebuilt\n",
      "Genome fixed after 0 passes\n",
      "Genome fully rebuilt\n",
      "Genome fixed after 1 passes\n",
      "Genome fixed after 0 passes\n",
      "Genome fully rebuilt\n",
      "Genome fixed after 7 passes\n",
      "Genome fixed after 0 passes\n",
      "Genome fixed after 0 passes\n"
     ]
    },
    {
     "name": "stderr",
     "output_type": "stream",
     "text": []
    },
    {
     "name": "stdout",
     "output_type": "stream",
     "text": [
      "Genome fully rebuilt\n",
      "Genome fixed after 7 passes\n",
      "Genome fixed after 0 passes\n",
      "Genome fixed after 0 passes\n",
      "Genome fixed after 6 passes\n",
      "Genome fully rebuilt\n",
      "Genome fixed after 2 passes\n",
      "Genome fully rebuilt\n",
      "Genome fixed after 0 passes\n",
      "Genome fixed after 4 passes\n",
      "Genome fully rebuilt\n",
      "Genome fully rebuilt\n",
      "Genome fully rebuilt\n",
      "Genome fixed after 1 passes\n",
      "Genome fixed after 0 passes\n",
      "Genome fixed after 0 passes\n",
      "Genome fixed after 0 passes\n",
      "Genome fixed after 0 passes\n",
      "Genome fixed after 0 passes\n",
      "Genome fixed after 0 passes\n",
      "Genome fixed after 5 passes\n",
      "Genome fully rebuilt\n",
      "Genome fixed after 0 passes\n",
      "Genome fully rebuilt\n"
     ]
    },
    {
     "name": "stderr",
     "output_type": "stream",
     "text": []
    },
    {
     "name": "stdout",
     "output_type": "stream",
     "text": [
      "Genome fully rebuilt\n",
      "Genome fixed after 2 passes\n",
      "Genome fixed after 0 passes\n",
      "Genome fully rebuilt\n",
      "Genome fixed after 0 passes\n",
      "Genome fully rebuilt\n",
      "Genome fully rebuilt\n",
      "Genome fixed after 4 passes\n",
      "Genome fixed after 8 passes\n",
      "Genome fully rebuilt\n",
      "Genome fixed after 0 passes\n",
      "Genome fully rebuilt\n",
      "Genome fixed after 8 passes\n",
      "Genome fixed after 0 passes\n",
      "Genome fixed after 0 passes\n",
      "Genome fixed after 7 passes\n",
      "Genome fixed after 0 passes\n",
      "Genome fully rebuilt\n",
      "Genome fixed after 6 passes\n",
      "Genome fixed after 0 passes\n",
      "Genome fixed after 0 passes\n",
      "Genome fixed after 0 passes\n",
      "Genome fixed after 0 passes\n",
      "Genome fixed after 0 passes\n",
      "Genome fully rebuilt\n",
      "Genome fully rebuilt\n",
      "Genome fixed after 0 passes\n",
      "Genome fully rebuilt\n",
      "Genome fully rebuilt\n",
      "Genome fixed after 0 passes\n",
      "Genome fixed after 0 passes\n",
      "Genome fully rebuilt\n",
      "Genome fixed after 7 passes\n",
      "Genome fully rebuilt\n",
      "Genome fixed after 0 passes\n",
      "Genome fully rebuilt\n",
      "Genome fully rebuilt\n",
      "Genome fixed after 0 passes\n",
      "Genome fixed after 4 passes\n",
      "Genome fully rebuilt\n",
      "Genome fully rebuilt\n",
      "Genome fixed after 1 passes\n",
      "Genome fully rebuilt\n",
      "Genome fully rebuilt\n"
     ]
    },
    {
     "name": "stderr",
     "output_type": "stream",
     "text": []
    },
    {
     "name": "stdout",
     "output_type": "stream",
     "text": [
      "Genome fixed after 0 passes\n",
      "Genome fully rebuilt\n",
      "Genome fixed after 0 passes\n",
      "Genome fixed after 0 passes\n",
      "Genome fully rebuilt\n",
      "Genome fixed after 0 passes\n",
      "Genome fixed after 5 passes\n",
      "Genome fully rebuilt\n",
      "Genome fixed after 0 passes\n",
      "Genome fixed after 0 passes\n",
      "Genome fully rebuilt\n",
      "Genome fully rebuilt\n",
      "Genome fixed after 0 passes\n",
      "Genome fully rebuilt\n",
      "Genome fixed after 0 passes\n",
      "Genome fixed after 0 passes\n",
      "Genome fully rebuilt\n",
      "Genome fixed after 0 passes\n",
      "Genome fully rebuilt\n",
      "Genome fixed after 0 passes\n",
      "Genome fixed after 0 passes\n",
      "Genome fixed after 0 passes\n",
      "Genome fixed after 0 passes\n",
      "Genome fixed after 0 passes\n",
      "Genome fixed after 0 passes\n",
      "Genome fully rebuilt\n",
      "Genome fixed after 0 passes\n"
     ]
    },
    {
     "name": "stderr",
     "output_type": "stream",
     "text": []
    },
    {
     "name": "stdout",
     "output_type": "stream",
     "text": [
      "Genome fixed after 7 passes\n",
      "Genome fully rebuilt\n",
      "Genome fixed after 0 passes\n",
      "Genome fixed after 0 passes\n",
      "Genome fixed after 0 passes\n",
      "Genome fully rebuilt\n",
      "Genome fully rebuilt\n",
      "Genome fixed after 1 passes\n",
      "Genome fixed after 2 passes\n",
      "Genome fixed after 0 passes\n",
      "Genome fully rebuilt\n",
      "Genome fixed after 0 passes\n",
      "Genome fully rebuilt\n",
      "Genome fully rebuilt\n",
      "Genome fully rebuilt\n",
      "Genome fixed after 3 passes\n",
      "Genome fixed after 0 passes\n",
      "Genome fixed after 3 passes\n"
     ]
    },
    {
     "name": "stderr",
     "output_type": "stream",
     "text": []
    },
    {
     "name": "stdout",
     "output_type": "stream",
     "text": [
      "Genome fully rebuilt\n",
      "Genome fixed after 3 passes\n",
      "Genome fully rebuilt\n",
      "Genome fixed after 0 passes\n",
      "Genome fully rebuilt\n",
      "Genome fixed after 0 passes\n",
      "Genome fixed after 4 passes\n",
      "Genome fixed after 2 passes\n",
      "Genome fully rebuilt\n",
      "Genome fixed after 0 passes\n",
      "Genome fixed after 0 passes\n",
      "Genome fixed after 0 passes\n",
      "Genome fixed after 2 passes\n",
      "Genome fixed after 2 passes\n",
      "Genome fixed after 4 passes\n",
      "Genome fixed after 0 passes\n",
      "Genome fixed after 0 passes\n"
     ]
    },
    {
     "name": "stderr",
     "output_type": "stream",
     "text": []
    },
    {
     "name": "stdout",
     "output_type": "stream",
     "text": [
      "Genome fixed after 0 passes\n",
      "Genome fixed after 0 passes\n",
      "Genome fixed after 0 passes\n",
      "Genome fixed after 3 passes\n",
      "Genome fully rebuilt\n",
      "Genome fixed after 0 passes\n",
      "Genome fixed after 0 passes\n",
      "Genome fixed after 0 passes\n",
      "Genome fixed after 4 passes\n",
      "Genome fixed after 0 passes\n",
      "Genome fully rebuilt\n",
      "Genome fixed after 1 passes\n",
      "Genome fixed after 0 passes\n",
      "Genome fully rebuilt\n",
      "Genome fully rebuilt\n",
      "Genome fully rebuilt\n",
      "Genome fully rebuilt\n",
      "Genome fixed after 4 passes\n",
      "Genome fixed after 3 passes\n",
      "Genome fixed after 3 passes\n",
      "Genome fixed after 8 passes\n",
      "Genome fully rebuilt\n",
      "Genome fully rebuilt\n",
      "Genome fixed after 6 passes\n"
     ]
    },
    {
     "name": "stderr",
     "output_type": "stream",
     "text": []
    },
    {
     "name": "stdout",
     "output_type": "stream",
     "text": [
      "Genome fully rebuilt\n",
      "Genome fully rebuilt\n",
      "Genome fixed after 0 passes\n",
      "Genome fixed after 8 passes\n",
      "Genome fixed after 0 passes\n",
      "Genome fixed after 0 passes\n",
      "Genome fixed after 0 passes\n",
      "Genome fixed after 0 passes\n",
      "Genome fixed after 6 passes\n",
      "Genome fixed after 0 passes\n",
      "Genome fixed after 3 passes\n",
      "Genome fully rebuilt\n",
      "Genome fixed after 2 passes\n",
      "Genome fully rebuilt\n",
      "Genome fully rebuilt\n",
      "Genome fully rebuilt\n",
      "Genome fully rebuilt\n",
      "Genome fully rebuilt\n",
      "Genome fixed after 0 passes\n"
     ]
    },
    {
     "name": "stderr",
     "output_type": "stream",
     "text": []
    },
    {
     "name": "stdout",
     "output_type": "stream",
     "text": [
      "Genome fixed after 0 passes\n",
      "Genome fixed after 0 passes\n",
      "Genome fully rebuilt\n",
      "Genome fully rebuilt\n",
      "Genome fixed after 0 passes\n",
      "Genome fixed after 0 passes\n",
      "Genome fixed after 0 passes\n",
      "Genome fixed after 0 passes\n",
      "Genome fixed after 0 passes\n",
      "Genome fixed after 0 passes\n",
      "Genome fixed after 0 passes\n",
      "Genome fixed after 6 passes\n",
      "Genome fixed after 0 passes\n",
      "Genome fixed after 0 passes\n",
      "Genome fixed after 0 passes\n",
      "Genome fixed after 1 passes\n",
      "Genome fixed after 9 passes\n",
      "Genome fixed after 0 passes\n",
      "Genome fixed after 0 passes\n",
      "Genome fixed after 0 passes\n",
      "Genome fixed after 0 passes\n",
      "Genome fully rebuilt\n",
      "Genome fixed after 5 passes\n",
      "Genome fixed after 5 passes\n",
      "Genome fully rebuilt\n",
      "Genome fixed after 2 passes\n",
      "Genome fully rebuilt\n",
      "Genome fixed after 2 passes\n",
      "Genome fixed after 1 passes\n",
      "Genome fixed after 2 passes\n",
      "Genome fully rebuilt\n",
      "Genome fixed after 8 passes\n",
      "Genome fixed after 4 passes\n",
      "Genome fully rebuilt\n",
      "Genome fixed after 0 passes\n"
     ]
    },
    {
     "name": "stderr",
     "output_type": "stream",
     "text": []
    },
    {
     "name": "stdout",
     "output_type": "stream",
     "text": [
      "Genome fully rebuilt\n",
      "Genome fixed after 0 passes\n",
      "Genome fixed after 0 passes\n",
      "Genome fixed after 0 passes\n",
      "Genome fully rebuilt\n",
      "Genome fixed after 0 passes\n",
      "Genome fixed after 0 passes\n",
      "Genome fixed after 2 passes\n",
      "Genome fixed after 0 passes\n",
      "Genome fixed after 0 passes\n",
      "Genome fixed after 4 passes\n",
      "Genome fixed after 3 passes\n",
      "Genome fully rebuilt\n",
      "Genome fixed after 0 passes\n",
      "Genome fixed after 0 passes\n",
      "Genome fully rebuilt\n",
      "Genome fixed after 2 passes\n",
      "Genome fixed after 2 passes\n",
      "Genome fixed after 0 passes\n",
      "Genome fully rebuilt\n",
      "Genome fixed after 0 passes\n",
      "Genome fixed after 0 passes\n",
      "Genome fixed after 0 passes\n",
      "Genome fully rebuilt\n",
      "Genome fully rebuilt\n",
      "Genome fully rebuilt\n",
      "Genome fixed after 8 passes\n",
      "Genome fixed after 0 passes\n"
     ]
    },
    {
     "name": "stderr",
     "output_type": "stream",
     "text": []
    },
    {
     "name": "stdout",
     "output_type": "stream",
     "text": [
      "Genome fully rebuilt\n",
      "Genome fixed after 0 passes\n",
      "Genome fully rebuilt\n",
      "Genome fixed after 1 passes\n",
      "Genome fixed after 0 passes\n",
      "Genome fixed after 0 passes\n",
      "Genome fixed after 0 passes\n",
      "Genome fixed after 0 passes\n",
      "Genome fixed after 0 passes\n",
      "Genome fixed after 0 passes\n",
      "Genome fixed after 7 passes\n",
      "Genome fully rebuilt\n",
      "Genome fixed after 0 passes\n",
      "Genome fully rebuilt\n",
      "Genome fully rebuilt\n",
      "Genome fixed after 0 passes\n",
      "Genome fixed after 0 passes\n",
      "Genome fixed after 0 passes\n",
      "Genome fully rebuilt\n",
      "Genome fully rebuilt\n",
      "Genome fully rebuilt\n",
      "Genome fixed after 9 passes\n",
      "Genome fixed after 5 passes\n",
      "Genome fixed after 0 passes\n",
      "Genome fixed after 0 passes\n",
      "Genome fixed after 3 passes\n",
      "Genome fixed after 0 passes\n",
      "Genome fixed after 0 passes\n",
      "Genome fully rebuilt\n",
      "Genome fully rebuilt\n"
     ]
    },
    {
     "name": "stderr",
     "output_type": "stream",
     "text": []
    },
    {
     "name": "stdout",
     "output_type": "stream",
     "text": [
      "Genome fully rebuilt\n",
      "Genome fixed after 0 passes\n",
      "Genome fixed after 0 passes\n",
      "Genome fixed after 0 passes\n",
      "Genome fixed after 0 passes\n",
      "Genome fixed after 0 passes\n",
      "Genome fixed after 0 passes\n",
      "Genome fixed after 1 passes\n",
      "Genome fixed after 0 passes\n",
      "Genome fully rebuilt\n",
      "Genome fully rebuilt\n",
      "Genome fixed after 6 passes\n",
      "Genome fixed after 0 passes\n",
      "Genome fixed after 0 passes\n",
      "Genome fixed after 0 passes\n",
      "Genome fixed after 0 passes\n",
      "Genome fixed after 0 passes\n",
      "Genome fixed after 0 passes\n",
      "Genome fully rebuilt\n",
      "Genome fixed after 4 passes\n",
      "Genome fixed after 0 passes\n",
      "Genome fixed after 6 passes\n",
      "Genome fixed after 1 passes\n",
      "Genome fixed after 0 passes\n",
      "Genome fully rebuilt\n",
      "Genome fully rebuilt\n"
     ]
    },
    {
     "name": "stderr",
     "output_type": "stream",
     "text": []
    },
    {
     "name": "stdout",
     "output_type": "stream",
     "text": [
      "Genome fully rebuilt\n",
      "Genome fixed after 0 passes\n",
      "Genome fixed after 0 passes\n",
      "Genome fully rebuilt\n",
      "Genome fixed after 0 passes\n",
      "Genome fixed after 0 passes\n",
      "Genome fully rebuilt\n",
      "Genome fixed after 0 passes\n",
      "Genome fixed after 0 passes\n",
      "Genome fixed after 0 passes\n",
      "Genome fixed after 0 passes\n",
      "Genome fixed after 0 passes\n",
      "Genome fixed after 2 passes\n",
      "Genome fixed after 0 passes\n",
      "Genome fixed after 3 passes\n",
      "Genome fixed after 0 passes\n",
      "Genome fixed after 0 passes\n",
      "Genome fixed after 2 passes\n",
      "Genome fixed after 0 passes\n",
      "Genome fixed after 0 passes\n",
      "Genome fixed after 0 passes\n",
      "Genome fixed after 0 passes\n",
      "Genome fixed after 6 passes\n",
      "Genome fully rebuilt\n",
      "Genome fixed after 5 passes\n",
      "Genome fixed after 0 passes\n",
      "Genome fully rebuilt\n",
      "Genome fully rebuilt\n",
      "Genome fully rebuilt\n"
     ]
    },
    {
     "name": "stderr",
     "output_type": "stream",
     "text": []
    },
    {
     "name": "stdout",
     "output_type": "stream",
     "text": [
      "Genome fixed after 0 passes\n",
      "Genome fully rebuilt\n",
      "Genome fixed after 0 passes\n",
      "Genome fixed after 0 passes\n",
      "Genome fixed after 1 passes\n",
      "Genome fixed after 2 passes\n",
      "Genome fixed after 0 passes\n",
      "Genome fixed after 0 passes\n",
      "Genome fully rebuilt\n",
      "Genome fixed after 0 passes\n",
      "Genome fixed after 2 passes\n",
      "Genome fixed after 0 passes\n",
      "Genome fixed after 0 passes\n",
      "Genome fixed after 0 passes\n",
      "Genome fixed after 0 passes\n",
      "Genome fixed after 0 passes\n",
      "Genome fully rebuilt\n",
      "Genome fixed after 0 passes\n",
      "Genome fixed after 9 passes\n",
      "Genome fully rebuilt\n",
      "Genome fixed after 5 passes\n",
      "Genome fixed after 3 passes\n",
      "Genome fixed after 0 passes\n",
      "Genome fully rebuilt\n",
      "Genome fixed after 0 passes\n",
      "Genome fixed after 5 passes\n",
      "Genome fixed after 2 passes\n",
      "Genome fixed after 4 passes\n",
      "Genome fixed after 3 passes\n",
      "Genome fully rebuilt\n",
      "Genome fixed after 0 passes\n"
     ]
    },
    {
     "name": "stderr",
     "output_type": "stream",
     "text": []
    },
    {
     "name": "stdout",
     "output_type": "stream",
     "text": [
      "Genome fully rebuilt\n",
      "Genome fixed after 5 passes\n",
      "Genome fully rebuilt\n",
      "Genome fixed after 2 passes\n",
      "Genome fully rebuilt\n",
      "Genome fixed after 4 passes\n",
      "Genome fully rebuilt\n",
      "Genome fixed after 0 passes\n",
      "Genome fully rebuilt\n",
      "Genome fixed after 2 passes\n",
      "Genome fixed after 3 passes\n",
      "Genome fully rebuilt\n",
      "Genome fully rebuilt\n",
      "Genome fixed after 0 passes\n",
      "Genome fully rebuilt\n",
      "Genome fully rebuilt\n",
      "Genome fully rebuilt\n",
      "Genome fixed after 4 passes\n",
      "Genome fixed after 0 passes\n",
      "Genome fixed after 2 passes\n",
      "Genome fixed after 0 passes\n",
      "Genome fully rebuilt\n",
      "Genome fixed after 1 passes\n",
      "Genome fixed after 0 passes\n",
      "Genome fully rebuilt\n",
      "Genome fixed after 0 passes\n",
      "Genome fixed after 0 passes\n",
      "Genome fixed after 0 passes\n"
     ]
    },
    {
     "name": "stderr",
     "output_type": "stream",
     "text": []
    },
    {
     "name": "stdout",
     "output_type": "stream",
     "text": [
      "Genome fixed after 5 passes\n",
      "Genome fixed after 1 passes\n",
      "Genome fully rebuilt\n",
      "Genome fixed after 0 passes\n",
      "Genome fixed after 0 passes\n",
      "Genome fixed after 0 passes\n",
      "Genome fixed after 0 passes\n",
      "Genome fixed after 0 passes\n",
      "Genome fully rebuilt\n",
      "Genome fixed after 0 passes\n",
      "Genome fully rebuilt\n",
      "Genome fixed after 0 passes\n",
      "Genome fixed after 0 passes\n",
      "Genome fixed after 5 passes\n",
      "Genome fully rebuilt\n",
      "Genome fixed after 0 passes\n",
      "Genome fixed after 0 passes\n",
      "Genome fixed after 0 passes\n",
      "Genome fixed after 0 passes\n",
      "Genome fully rebuilt\n",
      "Genome fully rebuilt\n",
      "Genome fixed after 9 passes\n",
      "Genome fully rebuilt\n",
      "Genome fully rebuilt\n",
      "Genome fully rebuilt\n",
      "Genome fixed after 2 passes\n",
      "Genome fixed after 0 passes\n",
      "Genome fully rebuilt\n",
      "Genome fully rebuilt\n",
      "Genome fixed after 0 passes\n",
      "Genome fixed after 3 passes\n",
      "Genome fixed after 0 passes\n",
      "Genome fully rebuilt\n"
     ]
    },
    {
     "name": "stderr",
     "output_type": "stream",
     "text": []
    },
    {
     "name": "stdout",
     "output_type": "stream",
     "text": [
      "Genome fixed after 0 passes\n",
      "Genome fixed after 0 passes\n",
      "Genome fixed after 0 passes\n",
      "Genome fixed after 0 passes\n",
      "Genome fixed after 1 passes\n",
      "Genome fixed after 2 passes\n",
      "Genome fixed after 0 passes\n",
      "Genome fixed after 2 passes\n",
      "Genome fully rebuilt\n",
      "Genome fixed after 0 passes\n",
      "Genome fixed after 2 passes\n",
      "Genome fully rebuilt\n",
      "Genome fixed after 0 passes\n",
      "Genome fixed after 8 passes\n",
      "Genome fully rebuilt\n",
      "Genome fixed after 1 passes\n",
      "Genome fixed after 0 passes\n"
     ]
    },
    {
     "name": "stderr",
     "output_type": "stream",
     "text": []
    },
    {
     "name": "stdout",
     "output_type": "stream",
     "text": [
      "Genome fully rebuilt\n",
      "Genome fixed after 1 passes\n",
      "Genome fixed after 8 passes\n",
      "Genome fixed after 1 passes\n",
      "Genome fixed after 1 passes\n",
      "Genome fixed after 4 passes\n",
      "Genome fixed after 0 passes\n",
      "Genome fixed after 2 passes\n",
      "Genome fully rebuilt\n",
      "Genome fixed after 0 passes\n",
      "Genome fully rebuilt\n",
      "Genome fully rebuilt\n",
      "Genome fixed after 0 passes\n",
      "Genome fixed after 0 passes\n",
      "Genome fixed after 0 passes\n",
      "Genome fixed after 0 passes\n",
      "Genome fully rebuilt\n",
      "Genome fully rebuilt\n",
      "Genome fixed after 0 passes\n",
      "Genome fixed after 0 passes\n",
      "Genome fixed after 0 passes\n",
      "Genome fixed after 5 passes\n",
      "Genome fully rebuilt\n"
     ]
    },
    {
     "name": "stderr",
     "output_type": "stream",
     "text": []
    },
    {
     "name": "stdout",
     "output_type": "stream",
     "text": [
      "Genome fixed after 0 passes\n",
      "Genome fully rebuilt\n",
      "Genome fixed after 0 passes\n",
      "Genome fixed after 0 passes\n",
      "Genome fixed after 0 passes\n",
      "Genome fully rebuilt\n",
      "Genome fixed after 0 passes\n",
      "Genome fully rebuilt\n",
      "Genome fully rebuilt\n",
      "Genome fully rebuilt\n",
      "Genome fully rebuilt\n",
      "Genome fixed after 0 passes\n",
      "Genome fixed after 1 passes\n",
      "Genome fully rebuilt\n"
     ]
    },
    {
     "name": "stderr",
     "output_type": "stream",
     "text": []
    },
    {
     "name": "stdout",
     "output_type": "stream",
     "text": [
      "Genome fully rebuilt\n",
      "Genome fully rebuilt\n",
      "Genome fully rebuilt\n",
      "Genome fixed after 4 passes\n",
      "Genome fixed after 0 passes\n",
      "Genome fixed after 8 passes\n",
      "Genome fully rebuilt\n",
      "Genome fully rebuilt\n",
      "Genome fixed after 0 passes\n",
      "Genome fixed after 8 passes\n",
      "Genome fixed after 0 passes\n",
      "Genome fully rebuilt\n",
      "Genome fully rebuilt\n",
      "Genome fully rebuilt\n",
      "Genome fully rebuilt\n",
      "Genome fixed after 0 passes\n",
      "Genome fully rebuilt\n",
      "Genome fully rebuilt\n",
      "Genome fully rebuilt\n",
      "Genome fixed after 0 passes\n"
     ]
    },
    {
     "name": "stderr",
     "output_type": "stream",
     "text": []
    },
    {
     "name": "stdout",
     "output_type": "stream",
     "text": [
      "Genome fixed after 4 passes\n",
      "Genome fixed after 0 passes\n",
      "Genome fixed after 1 passes\n",
      "Genome fully rebuilt\n",
      "Genome fixed after 0 passes\n",
      "Genome fixed after 7 passes\n",
      "Genome fixed after 0 passes\n",
      "Genome fixed after 0 passes\n",
      "Genome fully rebuilt\n",
      "Genome fixed after 0 passes\n",
      "Genome fixed after 0 passes\n",
      "Genome fixed after 0 passes\n",
      "Genome fully rebuilt\n",
      "Genome fixed after 8 passes\n",
      "Genome fixed after 7 passes\n",
      "Genome fully rebuilt\n",
      "Genome fully rebuilt\n",
      "Genome fixed after 0 passes\n",
      "Genome fully rebuilt\n",
      "Genome fixed after 0 passes\n",
      "Genome fixed after 0 passes\n",
      "Genome fully rebuilt\n",
      "Genome fully rebuilt\n",
      "Genome fully rebuilt\n",
      "Genome fixed after 2 passes\n",
      "Genome fully rebuilt\n"
     ]
    },
    {
     "name": "stderr",
     "output_type": "stream",
     "text": []
    },
    {
     "name": "stdout",
     "output_type": "stream",
     "text": [
      "Genome fixed after 0 passes\n",
      "Genome fully rebuilt\n",
      "Genome fully rebuilt\n",
      "Genome fixed after 0 passes\n",
      "Genome fixed after 0 passes\n",
      "Genome fixed after 0 passes\n",
      "Genome fixed after 0 passes\n",
      "Genome fixed after 0 passes\n",
      "Genome fully rebuilt\n",
      "Genome fixed after 2 passes\n",
      "Genome fully rebuilt\n",
      "Genome fixed after 0 passes\n",
      "Genome fully rebuilt\n",
      "Genome fixed after 0 passes\n",
      "Genome fixed after 0 passes\n",
      "Genome fixed after 6 passes\n",
      "Genome fully rebuilt\n",
      "Genome fixed after 0 passes\n",
      "Genome fixed after 0 passes\n",
      "Genome fully rebuilt\n",
      "Genome fixed after 5 passes\n",
      "Genome fixed after 5 passes\n",
      "Genome fully rebuilt\n"
     ]
    },
    {
     "name": "stderr",
     "output_type": "stream",
     "text": []
    },
    {
     "name": "stdout",
     "output_type": "stream",
     "text": [
      "Genome fully rebuilt\n",
      "Genome fixed after 1 passes\n",
      "Genome fixed after 0 passes\n",
      "Genome fixed after 0 passes\n",
      "Genome fully rebuilt\n",
      "Genome fully rebuilt\n",
      "Genome fixed after 0 passes\n",
      "Genome fixed after 0 passes\n",
      "Genome fixed after 1 passes\n",
      "Genome fixed after 0 passes\n",
      "Genome fixed after 4 passes\n",
      "Genome fixed after 7 passes\n",
      "Genome fully rebuilt\n",
      "Genome fixed after 0 passes\n",
      "Genome fixed after 6 passes\n",
      "Genome fixed after 5 passes\n",
      "Genome fixed after 0 passes\n",
      "Genome fully rebuilt\n",
      "Genome fixed after 0 passes\n",
      "Genome fixed after 2 passes\n",
      "Genome fully rebuilt\n",
      "Genome fully rebuilt\n",
      "Genome fixed after 7 passes\n",
      "Genome fully rebuilt\n",
      "Genome fixed after 0 passes\n",
      "Genome fixed after 9 passes\n",
      "Genome fixed after 4 passes\n"
     ]
    },
    {
     "name": "stderr",
     "output_type": "stream",
     "text": []
    },
    {
     "name": "stdout",
     "output_type": "stream",
     "text": [
      "Genome fixed after 0 passes\n",
      "Genome fixed after 0 passes\n",
      "Genome fixed after 0 passes\n",
      "Genome fully rebuilt\n",
      "Genome fixed after 0 passes\n",
      "Genome fixed after 4 passes\n",
      "Genome fixed after 0 passes\n",
      "Genome fixed after 0 passes\n",
      "Genome fully rebuilt\n",
      "Genome fully rebuilt\n",
      "Genome fully rebuilt\n",
      "Genome fixed after 0 passes\n",
      "Genome fixed after 3 passes\n",
      "Genome fixed after 0 passes\n",
      "Genome fixed after 8 passes\n",
      "Genome fixed after 0 passes\n",
      "Genome fixed after 0 passes\n",
      "Genome fixed after 0 passes\n",
      "Genome fixed after 5 passes\n",
      "Genome fully rebuilt\n",
      "Genome fixed after 0 passes\n",
      "Genome fixed after 6 passes\n",
      "Genome fully rebuilt\n",
      "Genome fully rebuilt\n",
      "Genome fixed after 0 passes\n",
      "Genome fixed after 0 passes\n",
      "Genome fully rebuilt\n",
      "Genome fully rebuilt\n",
      "Genome fully rebuilt\n",
      "Genome fixed after 0 passes\n",
      "Genome fully rebuilt\n",
      "Genome fixed after 7 passes\n",
      "Genome fully rebuilt\n",
      "Genome fixed after 5 passes\n",
      "Genome fully rebuilt\n"
     ]
    },
    {
     "name": "stderr",
     "output_type": "stream",
     "text": []
    },
    {
     "name": "stdout",
     "output_type": "stream",
     "text": [
      "Genome fully rebuilt\n",
      "Genome fixed after 0 passes\n",
      "Genome fully rebuilt\n",
      "Genome fully rebuilt\n",
      "Genome fully rebuilt\n",
      "Genome fixed after 4 passes\n",
      "Genome fully rebuilt\n",
      "Genome fixed after 0 passes\n",
      "Genome fixed after 0 passes\n",
      "Genome fixed after 0 passes\n",
      "Genome fully rebuilt\n",
      "Genome fixed after 0 passes\n",
      "Genome fully rebuilt\n",
      "Genome fully rebuilt\n",
      "Genome fixed after 0 passes\n",
      "Genome fixed after 0 passes\n",
      "Genome fixed after 6 passes\n",
      "Genome fixed after 2 passes\n",
      "Genome fixed after 2 passes\n"
     ]
    },
    {
     "name": "stderr",
     "output_type": "stream",
     "text": []
    },
    {
     "name": "stdout",
     "output_type": "stream",
     "text": [
      "Genome fully rebuilt\n",
      "Genome fixed after 0 passes\n",
      "Genome fixed after 0 passes\n",
      "Genome fully rebuilt\n",
      "Genome fully rebuilt\n",
      "Genome fixed after 0 passes\n",
      "Genome fixed after 1 passes\n",
      "Genome fully rebuilt\n",
      "Genome fixed after 2 passes\n",
      "Genome fixed after 1 passes\n",
      "Genome fixed after 0 passes\n",
      "Genome fully rebuilt\n",
      "Genome fixed after 5 passes\n",
      "Genome fixed after 0 passes\n",
      "Genome fixed after 2 passes\n",
      "Genome fixed after 3 passes\n",
      "Genome fixed after 2 passes\n",
      "Genome fixed after 5 passes\n",
      "Genome fixed after 0 passes\n"
     ]
    },
    {
     "name": "stderr",
     "output_type": "stream",
     "text": []
    },
    {
     "name": "stdout",
     "output_type": "stream",
     "text": [
      "Genome fully rebuilt\n",
      "Genome fixed after 4 passes\n",
      "Genome fully rebuilt\n",
      "Genome fully rebuilt\n",
      "Genome fixed after 7 passes\n",
      "Genome fully rebuilt\n",
      "Genome fixed after 0 passes\n",
      "Genome fixed after 8 passes\n",
      "Genome fixed after 0 passes\n",
      "Genome fixed after 3 passes\n",
      "Genome fixed after 1 passes\n",
      "Genome fixed after 3 passes\n",
      "Genome fully rebuilt\n",
      "Genome fully rebuilt\n",
      "Genome fixed after 3 passes\n",
      "Genome fully rebuilt\n",
      "Genome fixed after 0 passes\n",
      "Genome fixed after 9 passes\n",
      "Genome fully rebuilt\n",
      "Genome fully rebuilt\n",
      "Genome fixed after 2 passes\n",
      "Genome fixed after 7 passes\n"
     ]
    },
    {
     "name": "stderr",
     "output_type": "stream",
     "text": []
    },
    {
     "name": "stdout",
     "output_type": "stream",
     "text": [
      "Genome fully rebuilt\n",
      "Genome fixed after 4 passes\n",
      "Genome fixed after 2 passes\n",
      "Genome fixed after 2 passes\n",
      "Genome fixed after 0 passes\n",
      "Genome fixed after 7 passes\n",
      "Genome fixed after 0 passes\n",
      "Genome fully rebuilt\n",
      "Genome fixed after 3 passes\n",
      "Genome fixed after 5 passes\n",
      "Genome fixed after 2 passes\n",
      "Genome fully rebuilt\n",
      "Genome fully rebuilt\n",
      "Genome fully rebuilt\n",
      "Genome fixed after 7 passes\n",
      "Genome fixed after 4 passes\n",
      "Genome fully rebuilt\n",
      "Genome fixed after 7 passes\n",
      "Genome fixed after 0 passes\n",
      "Genome fully rebuilt\n",
      "Genome fully rebuilt\n",
      "Genome fixed after 0 passes\n",
      "Genome fixed after 0 passes\n",
      "Genome fixed after 0 passes\n",
      "Genome fixed after 5 passes\n",
      "Genome fully rebuilt\n",
      "Genome fixed after 0 passes\n",
      "Genome fully rebuilt\n",
      "Genome fully rebuilt\n",
      "Genome fixed after 0 passes\n",
      "Genome fixed after 7 passes\n",
      "Genome fixed after 2 passes\n",
      "Genome fully rebuilt\n",
      "Genome fully rebuilt\n",
      "Genome fixed after 2 passes\n",
      "Genome fully rebuilt\n",
      "Genome fully rebuilt\n"
     ]
    },
    {
     "name": "stderr",
     "output_type": "stream",
     "text": []
    },
    {
     "name": "stdout",
     "output_type": "stream",
     "text": [
      "Genome fixed after 2 passes\n",
      "Genome fixed after 2 passes\n",
      "Genome fully rebuilt\n",
      "Genome fixed after 2 passes\n",
      "Genome fixed after 4 passes\n",
      "Genome fixed after 0 passes\n",
      "Genome fully rebuilt\n",
      "Genome fixed after 0 passes\n",
      "Genome fixed after 0 passes\n",
      "Genome fixed after 4 passes\n",
      "Genome fixed after 3 passes\n",
      "Genome fixed after 1 passes\n",
      "Genome fully rebuilt\n",
      "Genome fully rebuilt\n",
      "Genome fixed after 3 passes\n",
      "Genome fixed after 1 passes\n",
      "Genome fully rebuilt\n",
      "Genome fixed after 0 passes\n",
      "Genome fully rebuilt\n",
      "Genome fixed after 3 passes\n",
      "Genome fixed after 5 passes\n",
      "Genome fully rebuilt\n",
      "Genome fully rebuilt\n",
      "Genome fully rebuilt\n",
      "Genome fixed after 0 passes\n",
      "Genome fixed after 0 passes\n",
      "Genome fixed after 9 passes\n",
      "Genome fixed after 0 passes\n",
      "Genome fixed after 3 passes\n",
      "Genome fully rebuilt\n",
      "Genome fully rebuilt\n",
      "Genome fixed after 9 passes\n",
      "Genome fixed after 5 passes\n",
      "Genome fully rebuilt\n",
      "Genome fully rebuilt\n",
      "Genome fixed after 0 passes\n",
      "Genome fixed after 7 passes\n",
      "Genome fully rebuilt\n",
      "Genome fully rebuilt\n",
      "Genome fixed after 3 passes\n",
      "Genome fixed after 7 passes\n",
      "Genome fixed after 0 passes\n",
      "Genome fully rebuilt\n",
      "Genome fixed after 0 passes\n",
      "Genome fully rebuilt\n",
      "Genome fixed after 3 passes\n",
      "Genome fully rebuilt\n",
      "Genome fully rebuilt\n",
      "Genome fixed after 6 passes\n",
      "Genome fixed after 7 passes\n",
      "Genome fixed after 6 passes\n",
      "Genome fully rebuilt\n",
      "Genome fixed after 0 passes\n",
      "Genome fully rebuilt\n",
      "Genome fixed after 7 passes\n",
      "Genome fixed after 3 passes\n",
      "Genome fully rebuilt\n",
      "Genome fully rebuilt\n",
      "Genome fully rebuilt\n"
     ]
    },
    {
     "name": "stderr",
     "output_type": "stream",
     "text": []
    },
    {
     "name": "stdout",
     "output_type": "stream",
     "text": [
      "Genome fully rebuilt\n",
      "Genome fixed after 0 passes\n",
      "Genome fixed after 0 passes\n",
      "Genome fully rebuilt\n",
      "Genome fully rebuilt\n",
      "Genome fully rebuilt\n",
      "Genome fully rebuilt\n",
      "Genome fully rebuilt\n",
      "Genome fully rebuilt\n",
      "Genome fixed after 3 passes\n",
      "Genome fixed after 0 passes\n",
      "Genome fixed after 1 passes\n",
      "Genome fixed after 0 passes\n",
      "Genome fully rebuilt\n",
      "Genome fixed after 0 passes\n",
      "Genome fixed after 0 passes\n",
      "Genome fixed after 0 passes\n",
      "Genome fixed after 0 passes\n",
      "Genome fully rebuilt\n",
      "Genome fully rebuilt\n",
      "Genome fixed after 2 passes\n",
      "Genome fixed after 7 passes\n",
      "Genome fixed after 6 passes\n",
      "Genome fixed after 0 passes\n",
      "Genome fixed after 2 passes\n",
      "Genome fixed after 0 passes\n",
      "Genome fixed after 1 passes\n",
      "Genome fully rebuilt\n",
      "Genome fixed after 5 passes\n",
      "Genome fixed after 0 passes\n",
      "Genome fixed after 9 passes\n",
      "Genome fixed after 0 passes\n",
      "Genome fixed after 4 passes\n",
      "Genome fixed after 2 passes\n",
      "Genome fully rebuilt\n",
      "Genome fixed after 2 passes\n",
      "Genome fixed after 0 passes\n",
      "Genome fixed after 0 passes\n",
      "Genome fully rebuilt\n",
      "Genome fixed after 6 passes\n",
      "Genome fixed after 3 passes\n"
     ]
    },
    {
     "name": "stderr",
     "output_type": "stream",
     "text": []
    },
    {
     "name": "stdout",
     "output_type": "stream",
     "text": [
      "Genome fully rebuilt\n",
      "Genome fully rebuilt\n",
      "Genome fixed after 0 passes\n",
      "Genome fully rebuilt\n",
      "Genome fixed after 5 passes\n",
      "Genome fixed after 6 passes\n",
      "Genome fully rebuilt\n",
      "Genome fully rebuilt\n",
      "Genome fully rebuilt\n",
      "Genome fully rebuilt\n",
      "Genome fixed after 9 passes\n",
      "Genome fully rebuilt\n",
      "Genome fixed after 3 passes\n",
      "Genome fully rebuilt\n",
      "Genome fully rebuilt\n",
      "Genome fixed after 4 passes\n",
      "Genome fixed after 8 passes\n",
      "Genome fixed after 5 passes\n",
      "Genome fixed after 0 passes\n",
      "Genome fixed after 2 passes\n",
      "Genome fully rebuilt\n",
      "Genome fully rebuilt\n",
      "Genome fixed after 0 passes\n",
      "Genome fixed after 1 passes\n",
      "Genome fully rebuilt\n",
      "Genome fixed after 0 passes\n",
      "Genome fixed after 2 passes\n",
      "Genome fixed after 0 passes\n",
      "Genome fixed after 9 passes\n",
      "Genome fixed after 5 passes\n"
     ]
    },
    {
     "name": "stderr",
     "output_type": "stream",
     "text": []
    },
    {
     "name": "stdout",
     "output_type": "stream",
     "text": [
      "Genome fixed after 1 passes\n",
      "Genome fully rebuilt\n",
      "Genome fixed after 0 passes\n",
      "Genome fixed after 4 passes\n",
      "Genome fixed after 5 passes\n",
      "Genome fully rebuilt\n",
      "Genome fixed after 4 passes\n",
      "Genome fixed after 3 passes\n",
      "Genome fully rebuilt\n",
      "Genome fully rebuilt\n",
      "Genome fully rebuilt\n",
      "Genome fixed after 5 passes\n",
      "Genome fixed after 8 passes\n",
      "Genome fixed after 9 passes\n",
      "Genome fixed after 0 passes\n",
      "Genome fully rebuilt\n",
      "Genome fixed after 1 passes\n",
      "Genome fully rebuilt\n",
      "Genome fully rebuilt\n",
      "Genome fixed after 3 passes\n",
      "Genome fixed after 0 passes\n",
      "Genome fully rebuilt\n",
      "Genome fully rebuilt\n",
      "Genome fixed after 9 passes\n",
      "Genome fully rebuilt\n",
      "Genome fully rebuilt\n",
      "Genome fully rebuilt\n",
      "Genome fully rebuilt\n",
      "Genome fully rebuilt\n",
      "Genome fully rebuilt\n",
      "Genome fully rebuilt\n",
      "Genome fully rebuilt\n",
      "Genome fully rebuilt\n",
      "Genome fixed after 0 passes\n",
      "Genome fully rebuilt\n",
      "Genome fixed after 0 passes\n",
      "Genome fixed after 7 passes\n",
      "Genome fixed after 4 passes\n",
      "Genome fixed after 4 passes\n",
      "Genome fixed after 0 passes\n",
      "Genome fixed after 0 passes\n",
      "Genome fully rebuilt\n",
      "Genome fixed after 0 passes\n",
      "Genome fixed after 0 passes\n",
      "Genome fully rebuilt\n",
      "Genome fully rebuilt\n",
      "Genome fixed after 0 passes\n",
      "Genome fixed after 0 passes\n",
      "Genome fixed after 2 passes\n",
      "Genome fixed after 0 passes\n",
      "Genome fully rebuilt\n"
     ]
    },
    {
     "name": "stderr",
     "output_type": "stream",
     "text": []
    },
    {
     "name": "stdout",
     "output_type": "stream",
     "text": [
      "Genome fixed after 1 passes\n",
      "Genome fixed after 0 passes\n",
      "Genome fully rebuilt\n",
      "Genome fixed after 5 passes\n",
      "Genome fixed after 7 passes\n",
      "Genome fully rebuilt\n",
      "Genome fixed after 0 passes\n",
      "Genome fully rebuilt\n",
      "Genome fully rebuilt\n",
      "Genome fully rebuilt\n",
      "Genome fixed after 0 passes\n",
      "Genome fixed after 1 passes\n",
      "Genome fixed after 1 passes\n",
      "Genome fixed after 0 passes\n",
      "Genome fully rebuilt\n",
      "Genome fixed after 2 passes\n",
      "Genome fixed after 6 passes\n",
      "Genome fixed after 3 passes\n",
      "Genome fully rebuilt\n",
      "Genome fully rebuilt\n",
      "Genome fully rebuilt\n",
      "Genome fixed after 2 passes\n",
      "Genome fixed after 2 passes\n",
      "Genome fully rebuilt\n",
      "Genome fully rebuilt\n",
      "Genome fixed after 5 passes\n",
      "Genome fully rebuilt\n",
      "Genome fully rebuilt\n",
      "Genome fixed after 2 passes\n",
      "Genome fixed after 0 passes\n",
      "Genome fixed after 9 passes\n",
      "Genome fixed after 0 passes\n",
      "Genome fully rebuilt\n"
     ]
    },
    {
     "name": "stderr",
     "output_type": "stream",
     "text": []
    },
    {
     "name": "stdout",
     "output_type": "stream",
     "text": [
      "Genome fully rebuilt\n",
      "Genome fixed after 0 passes\n",
      "Genome fully rebuilt\n",
      "Genome fixed after 8 passes\n",
      "Genome fixed after 0 passes\n",
      "Genome fully rebuilt\n",
      "Genome fully rebuilt\n",
      "Genome fixed after 0 passes\n",
      "Genome fully rebuilt\n",
      "Genome fully rebuilt\n",
      "Genome fixed after 0 passes\n",
      "Genome fully rebuilt\n",
      "Genome fixed after 0 passes\n",
      "Genome fully rebuilt\n",
      "Genome fully rebuilt\n",
      "Genome fixed after 1 passes\n",
      "Genome fully rebuilt\n",
      "Genome fully rebuilt\n",
      "Genome fixed after 1 passes\n",
      "Genome fully rebuilt\n",
      "Genome fixed after 0 passes\n",
      "Genome fully rebuilt\n",
      "Genome fixed after 0 passes\n",
      "Genome fixed after 0 passes\n",
      "Genome fully rebuilt\n",
      "Genome fixed after 2 passes\n",
      "Genome fully rebuilt\n",
      "Genome fixed after 0 passes\n",
      "Genome fixed after 0 passes\n",
      "Genome fixed after 0 passes\n",
      "Genome fully rebuilt\n",
      "Genome fixed after 0 passes\n",
      "Genome fixed after 2 passes\n",
      "Genome fixed after 1 passes\n",
      "Genome fixed after 3 passes\n",
      "Genome fixed after 0 passes\n",
      "Genome fixed after 9 passes\n"
     ]
    },
    {
     "name": "stderr",
     "output_type": "stream",
     "text": []
    },
    {
     "name": "stdout",
     "output_type": "stream",
     "text": [
      "Genome fixed after 1 passes\n",
      "Genome fixed after 0 passes\n",
      "Genome fixed after 0 passes\n",
      "Genome fixed after 0 passes\n",
      "Genome fully rebuilt\n",
      "Genome fixed after 0 passes\n",
      "Genome fixed after 0 passes\n",
      "Genome fixed after 0 passes\n",
      "Genome fixed after 0 passes\n",
      "Genome fixed after 0 passes\n",
      "Genome fixed after 6 passes\n",
      "Genome fixed after 0 passes\n",
      "Genome fixed after 1 passes\n",
      "Genome fixed after 4 passes\n",
      "Genome fully rebuilt\n",
      "Genome fixed after 0 passes\n",
      "Genome fully rebuilt\n",
      "Genome fully rebuilt\n",
      "Genome fixed after 7 passes\n",
      "Genome fixed after 5 passes\n",
      "Genome fixed after 4 passes\n",
      "Genome fully rebuilt\n",
      "Genome fixed after 0 passes\n",
      "Genome fixed after 1 passes\n",
      "Genome fixed after 0 passes\n",
      "Genome fixed after 0 passes\n",
      "Genome fixed after 1 passes\n",
      "Genome fixed after 4 passes\n",
      "Genome fully rebuilt\n",
      "Genome fixed after 0 passes\n",
      "Genome fully rebuilt\n",
      "Genome fixed after 3 passes\n",
      "Genome fixed after 0 passes\n",
      "Genome fully rebuilt\n",
      "Genome fixed after 0 passes\n",
      "Genome fixed after 7 passes\n",
      "Genome fully rebuilt\n",
      "Genome fully rebuilt\n",
      "Genome fixed after 7 passes\n",
      "Genome fixed after 0 passes\n",
      "Genome fixed after 0 passes\n",
      "Genome fixed after 1 passes\n"
     ]
    },
    {
     "name": "stderr",
     "output_type": "stream",
     "text": []
    },
    {
     "name": "stdout",
     "output_type": "stream",
     "text": [
      "Genome fixed after 0 passes\n",
      "Genome fixed after 0 passes\n",
      "Genome fixed after 0 passes\n",
      "Genome fixed after 3 passes\n",
      "Genome fixed after 6 passes\n",
      "Genome fully rebuilt\n",
      "Genome fixed after 2 passes\n",
      "Genome fixed after 1 passes\n",
      "Genome fixed after 0 passes\n",
      "Genome fixed after 0 passes\n",
      "Genome fixed after 0 passes\n",
      "Genome fully rebuilt\n",
      "Genome fixed after 3 passes\n",
      "Genome fixed after 2 passes\n",
      "Genome fixed after 0 passes\n",
      "Genome fully rebuilt\n",
      "Genome fixed after 2 passes\n",
      "Genome fixed after 0 passes\n",
      "Genome fixed after 0 passes\n",
      "Genome fixed after 0 passes\n",
      "Genome fully rebuilt\n",
      "Genome fixed after 2 passes\n",
      "Genome fully rebuilt\n",
      "Genome fixed after 0 passes\n",
      "Genome fixed after 0 passes\n",
      "Genome fixed after 0 passes\n",
      "Genome fixed after 0 passes\n",
      "Genome fixed after 0 passes\n",
      "Genome fixed after 0 passes\n",
      "Genome fully rebuilt\n",
      "Genome fixed after 0 passes\n",
      "Genome fixed after 0 passes\n",
      "Genome fully rebuilt\n",
      "Genome fixed after 2 passes\n",
      "Genome fixed after 0 passes\n",
      "Genome fully rebuilt\n",
      "Genome fixed after 4 passes\n",
      "Genome fixed after 3 passes\n",
      "Genome fixed after 1 passes\n",
      "Genome fully rebuilt\n",
      "Genome fixed after 5 passes\n",
      "Genome fixed after 5 passes\n",
      "Genome fixed after 1 passes\n"
     ]
    },
    {
     "name": "stderr",
     "output_type": "stream",
     "text": []
    },
    {
     "name": "stdout",
     "output_type": "stream",
     "text": [
      "Genome fixed after 5 passes\n",
      "Genome fixed after 7 passes\n",
      "Genome fully rebuilt\n",
      "Genome fully rebuilt\n",
      "Genome fully rebuilt\n",
      "Genome fully rebuilt\n",
      "Genome fixed after 0 passes\n",
      "Genome fixed after 0 passes\n",
      "Genome fully rebuilt\n",
      "Genome fixed after 0 passes\n",
      "Genome fixed after 0 passes\n",
      "Genome fixed after 9 passes\n",
      "Genome fully rebuilt\n",
      "Genome fully rebuilt\n",
      "Genome fixed after 0 passes\n",
      "Genome fixed after 0 passes\n",
      "Genome fixed after 6 passes\n",
      "Genome fully rebuilt\n",
      "Genome fixed after 0 passes\n",
      "Genome fixed after 0 passes\n",
      "Genome fully rebuilt\n",
      "Genome fixed after 7 passes\n",
      "Genome fixed after 4 passes\n",
      "Genome fixed after 0 passes\n",
      "Genome fully rebuilt\n",
      "Genome fixed after 0 passes\n",
      "Genome fixed after 0 passes\n",
      "Genome fixed after 4 passes\n",
      "Genome fully rebuilt\n",
      "Genome fixed after 7 passes\n",
      "Genome fixed after 0 passes\n",
      "Genome fixed after 0 passes\n",
      "Genome fixed after 0 passes\n",
      "Genome fixed after 9 passes\n"
     ]
    },
    {
     "name": "stderr",
     "output_type": "stream",
     "text": []
    },
    {
     "name": "stdout",
     "output_type": "stream",
     "text": [
      "Genome fully rebuilt\n",
      "Genome fixed after 0 passes\n",
      "Genome fully rebuilt\n",
      "Genome fixed after 0 passes\n",
      "Genome fixed after 0 passes\n",
      "Genome fully rebuilt\n",
      "Genome fixed after 0 passes\n",
      "Genome fully rebuilt\n",
      "Genome fully rebuilt\n",
      "Genome fully rebuilt\n",
      "Genome fixed after 1 passes\n",
      "Genome fixed after 2 passes\n",
      "Genome fixed after 1 passes\n",
      "Genome fixed after 4 passes\n",
      "Genome fixed after 0 passes\n",
      "Genome fully rebuilt\n",
      "Genome fixed after 6 passes\n",
      "Genome fixed after 9 passes\n"
     ]
    },
    {
     "name": "stderr",
     "output_type": "stream",
     "text": []
    },
    {
     "name": "stdout",
     "output_type": "stream",
     "text": [
      "Genome fixed after 2 passes\n",
      "Genome fixed after 4 passes\n",
      "Genome fully rebuilt\n",
      "Genome fixed after 2 passes\n",
      "Genome fixed after 3 passes\n",
      "Genome fully rebuilt\n",
      "Genome fixed after 1 passes\n",
      "Genome fully rebuilt\n",
      "Genome fully rebuilt\n",
      "Genome fixed after 0 passes\n",
      "Genome fully rebuilt\n",
      "Genome fully rebuilt\n",
      "Genome fully rebuilt\n",
      "Genome fixed after 8 passes\n",
      "Genome fixed after 0 passes\n",
      "Genome fixed after 2 passes\n",
      "Genome fixed after 0 passes\n",
      "Genome fixed after 6 passes\n",
      "Genome fully rebuilt\n",
      "Genome fixed after 4 passes\n",
      "Genome fixed after 1 passes\n",
      "Genome fixed after 5 passes\n",
      "Genome fixed after 3 passes\n",
      "Genome fixed after 0 passes\n",
      "Genome fixed after 8 passes\n",
      "Genome fixed after 0 passes\n",
      "Genome fixed after 0 passes\n",
      "Genome fixed after 6 passes\n",
      "Genome fixed after 0 passes\n",
      "Genome fully rebuilt\n"
     ]
    },
    {
     "name": "stderr",
     "output_type": "stream",
     "text": []
    },
    {
     "name": "stdout",
     "output_type": "stream",
     "text": [
      "Genome fully rebuilt\n",
      "Genome fixed after 3 passes\n",
      "Genome fixed after 3 passes\n",
      "Genome fully rebuilt\n",
      "Genome fixed after 1 passes\n",
      "Genome fully rebuilt\n",
      "Genome fixed after 1 passes\n",
      "Genome fixed after 1 passes\n",
      "Genome fixed after 0 passes\n",
      "Genome fixed after 2 passes\n",
      "Genome fixed after 0 passes\n",
      "Genome fully rebuilt\n",
      "Genome fixed after 0 passes\n",
      "Genome fixed after 0 passes\n",
      "Genome fully rebuilt\n",
      "Genome fixed after 0 passes\n",
      "Genome fixed after 6 passes\n",
      "Genome fully rebuilt\n",
      "Genome fully rebuilt\n",
      "Genome fixed after 1 passes\n",
      "Genome fully rebuilt\n",
      "Genome fully rebuilt\n",
      "Genome fully rebuilt\n",
      "Genome fully rebuilt\n",
      "Genome fully rebuilt\n",
      "Genome fixed after 0 passes\n"
     ]
    },
    {
     "name": "stderr",
     "output_type": "stream",
     "text": []
    },
    {
     "name": "stdout",
     "output_type": "stream",
     "text": [
      "Genome fully rebuilt\n",
      "Genome fixed after 9 passes\n",
      "Genome fully rebuilt\n",
      "Genome fixed after 8 passes\n",
      "Genome fixed after 0 passes\n",
      "Genome fixed after 9 passes\n",
      "Genome fully rebuilt\n",
      "Genome fixed after 4 passes\n",
      "Genome fully rebuilt\n",
      "Genome fully rebuilt\n",
      "Genome fixed after 0 passes\n",
      "Genome fixed after 7 passes\n",
      "Genome fixed after 2 passes\n",
      "Genome fixed after 6 passes\n",
      "Genome fixed after 7 passes\n",
      "Genome fixed after 0 passes\n",
      "Genome fixed after 3 passes\n",
      "Genome fully rebuilt\n",
      "Genome fixed after 3 passes\n",
      "Genome fixed after 0 passes\n"
     ]
    },
    {
     "name": "stderr",
     "output_type": "stream",
     "text": []
    },
    {
     "name": "stdout",
     "output_type": "stream",
     "text": [
      "Genome fixed after 0 passes\n",
      "Genome fixed after 4 passes\n",
      "Genome fully rebuilt\n",
      "Genome fully rebuilt\n",
      "Genome fixed after 9 passes\n",
      "Genome fixed after 0 passes\n",
      "Genome fixed after 1 passes\n",
      "Genome fully rebuilt\n",
      "Genome fully rebuilt\n",
      "Genome fully rebuilt\n",
      "Genome fixed after 0 passes\n",
      "Genome fixed after 0 passes\n",
      "Genome fixed after 3 passes\n",
      "Genome fixed after 8 passes\n",
      "Genome fixed after 1 passes\n",
      "Genome fixed after 0 passes\n",
      "Genome fixed after 3 passes\n",
      "Genome fixed after 0 passes\n",
      "Genome fixed after 9 passes\n",
      "Genome fixed after 0 passes\n",
      "Genome fixed after 0 passes\n",
      "Genome fixed after 1 passes\n",
      "Genome fixed after 1 passes\n",
      "Genome fixed after 0 passes\n",
      "Genome fixed after 3 passes\n",
      "Genome fixed after 0 passes\n",
      "Genome fully rebuilt\n",
      "Genome fully rebuilt\n",
      "Genome fully rebuilt\n",
      "Genome fixed after 0 passes\n",
      "Genome fully rebuilt\n",
      "Genome fixed after 0 passes\n"
     ]
    },
    {
     "name": "stderr",
     "output_type": "stream",
     "text": []
    },
    {
     "name": "stdout",
     "output_type": "stream",
     "text": [
      "Genome fixed after 2 passes\n",
      "Genome fully rebuilt\n",
      "Genome fully rebuilt\n",
      "Genome fixed after 0 passes\n",
      "Genome fully rebuilt\n",
      "Genome fully rebuilt\n",
      "Genome fully rebuilt\n",
      "Genome fully rebuilt\n",
      "Genome fixed after 0 passes\n",
      "Genome fixed after 1 passes\n",
      "Genome fully rebuilt\n",
      "Genome fully rebuilt\n",
      "Genome fully rebuilt\n",
      "Genome fully rebuilt\n",
      "Genome fixed after 0 passes\n",
      "Genome fixed after 7 passes\n",
      "Genome fully rebuilt\n",
      "Genome fully rebuilt\n",
      "Genome fixed after 2 passes\n",
      "Genome fully rebuilt\n",
      "Genome fixed after 0 passes\n",
      "Genome fixed after 0 passes\n",
      "Genome fully rebuilt\n",
      "Genome fixed after 0 passes\n",
      "Genome fixed after 0 passes\n",
      "Genome fixed after 5 passes\n",
      "Genome fixed after 0 passes\n",
      "Genome fully rebuilt\n",
      "Genome fixed after 2 passes\n",
      "Genome fixed after 0 passes\n",
      "Genome fixed after 0 passes\n",
      "Genome fixed after 0 passes\n",
      "Genome fixed after 2 passes\n"
     ]
    },
    {
     "name": "stderr",
     "output_type": "stream",
     "text": []
    },
    {
     "name": "stdout",
     "output_type": "stream",
     "text": [
      "Genome fully rebuilt\n",
      "Genome fully rebuilt\n",
      "Genome fixed after 9 passes\n",
      "Genome fixed after 4 passes\n",
      "Genome fixed after 5 passes\n",
      "Genome fixed after 0 passes\n",
      "Genome fixed after 1 passes\n",
      "Genome fully rebuilt\n",
      "Genome fully rebuilt\n",
      "Genome fixed after 9 passes\n",
      "Genome fixed after 0 passes\n",
      "Genome fully rebuilt\n",
      "Genome fully rebuilt\n",
      "Genome fixed after 0 passes\n",
      "Genome fixed after 3 passes\n",
      "Genome fully rebuilt\n",
      "Genome fixed after 8 passes\n",
      "Genome fully rebuilt\n",
      "Genome fully rebuilt\n",
      "Genome fully rebuilt\n",
      "Genome fixed after 0 passes\n",
      "Genome fixed after 9 passes\n",
      "Genome fixed after 0 passes\n",
      "Genome fixed after 0 passes\n",
      "Genome fully rebuilt\n",
      "Genome fully rebuilt\n",
      "Genome fully rebuilt\n",
      "Genome fixed after 0 passes\n"
     ]
    },
    {
     "name": "stderr",
     "output_type": "stream",
     "text": []
    },
    {
     "name": "stdout",
     "output_type": "stream",
     "text": [
      "Genome fixed after 1 passes\n",
      "Genome fixed after 2 passes\n",
      "Genome fixed after 0 passes\n",
      "Genome fixed after 6 passes\n",
      "Genome fully rebuilt\n",
      "Genome fixed after 7 passes\n",
      "Genome fixed after 2 passes\n",
      "Genome fixed after 2 passes\n",
      "Genome fixed after 0 passes\n",
      "Genome fixed after 0 passes\n",
      "Genome fully rebuilt\n",
      "Genome fully rebuilt\n",
      "Genome fully rebuilt\n",
      "Genome fixed after 0 passes\n",
      "Genome fixed after 0 passes\n",
      "Genome fully rebuilt\n",
      "Genome fixed after 1 passes\n",
      "Genome fully rebuilt\n",
      "Genome fixed after 4 passes\n",
      "Genome fixed after 0 passes\n",
      "Genome fixed after 0 passes\n",
      "Genome fixed after 0 passes\n",
      "Genome fixed after 0 passes\n",
      "Genome fixed after 0 passes\n",
      "Genome fully rebuilt\n",
      "Genome fixed after 0 passes\n",
      "Genome fixed after 5 passes\n",
      "Genome fixed after 2 passes\n",
      "Genome fully rebuilt\n",
      "Genome fixed after 0 passes\n",
      "Genome fully rebuilt\n",
      "Genome fixed after 2 passes\n",
      "Genome fixed after 5 passes\n"
     ]
    },
    {
     "name": "stderr",
     "output_type": "stream",
     "text": []
    },
    {
     "name": "stdout",
     "output_type": "stream",
     "text": [
      "Genome fixed after 1 passes\n",
      "Genome fixed after 0 passes\n",
      "Genome fixed after 0 passes\n",
      "Genome fixed after 0 passes\n",
      "Genome fixed after 1 passes\n",
      "Genome fixed after 0 passes\n",
      "Genome fixed after 0 passes\n",
      "Genome fixed after 0 passes\n",
      "Genome fixed after 1 passes\n",
      "Genome fixed after 0 passes\n",
      "Genome fully rebuilt\n",
      "Genome fully rebuilt\n",
      "Genome fully rebuilt\n",
      "Genome fixed after 0 passes\n",
      "Genome fixed after 7 passes\n",
      "Genome fixed after 0 passes\n",
      "Genome fixed after 0 passes\n",
      "Genome fixed after 0 passes\n",
      "Genome fixed after 0 passes\n",
      "Genome fixed after 3 passes\n",
      "Genome fixed after 0 passes\n",
      "Genome fixed after 0 passes\n",
      "Genome fully rebuilt\n",
      "Genome fixed after 0 passes\n",
      "Genome fully rebuilt\n",
      "Genome fully rebuilt\n",
      "Genome fixed after 0 passes\n"
     ]
    },
    {
     "name": "stderr",
     "output_type": "stream",
     "text": []
    },
    {
     "name": "stdout",
     "output_type": "stream",
     "text": [
      "Genome fully rebuilt\n",
      "Genome fixed after 3 passes\n",
      "Genome fixed after 0 passes\n",
      "Genome fully rebuilt\n",
      "Genome fixed after 3 passes\n",
      "Genome fully rebuilt\n",
      "Genome fixed after 0 passes\n",
      "Genome fixed after 3 passes\n",
      "Genome fixed after 7 passes\n",
      "Genome fixed after 0 passes\n",
      "Genome fully rebuilt\n",
      "Genome fixed after 0 passes\n",
      "Genome fully rebuilt\n",
      "Genome fixed after 4 passes\n",
      "Genome fixed after 0 passes\n",
      "Genome fixed after 0 passes\n",
      "Genome fixed after 6 passes\n",
      "Genome fixed after 2 passes\n",
      "Genome fully rebuilt\n",
      "Genome fully rebuilt\n",
      "Genome fixed after 4 passes\n",
      "Genome fixed after 9 passes\n",
      "Genome fixed after 0 passes\n",
      "Genome fixed after 5 passes\n"
     ]
    },
    {
     "name": "stderr",
     "output_type": "stream",
     "text": []
    },
    {
     "name": "stdout",
     "output_type": "stream",
     "text": [
      "Genome fixed after 4 passes\n",
      "Genome fixed after 0 passes\n",
      "Genome fixed after 4 passes\n",
      "Genome fixed after 0 passes\n",
      "Genome fixed after 0 passes\n",
      "Genome fixed after 0 passes\n",
      "Genome fixed after 5 passes\n",
      "Genome fixed after 0 passes\n",
      "Genome fixed after 0 passes\n",
      "Genome fully rebuilt\n",
      "Genome fully rebuilt\n",
      "Genome fixed after 8 passes\n",
      "Genome fixed after 0 passes\n",
      "Genome fixed after 0 passes\n",
      "Genome fixed after 0 passes\n",
      "Genome fixed after 0 passes\n",
      "Genome fully rebuilt\n",
      "Genome fixed after 7 passes\n",
      "Genome fixed after 0 passes\n",
      "Genome fully rebuilt\n",
      "Genome fully rebuilt\n",
      "Genome fixed after 5 passes\n",
      "Genome fixed after 0 passes\n",
      "Genome fixed after 6 passes\n",
      "Genome fixed after 0 passes\n",
      "Genome fixed after 0 passes\n",
      "Genome fully rebuilt\n",
      "Genome fixed after 3 passes\n",
      "Genome fully rebuilt\n",
      "Genome fully rebuilt\n"
     ]
    },
    {
     "name": "stderr",
     "output_type": "stream",
     "text": []
    },
    {
     "name": "stdout",
     "output_type": "stream",
     "text": [
      "Genome fixed after 0 passes\n",
      "Genome fixed after 0 passes\n",
      "Genome fixed after 0 passes\n",
      "Genome fully rebuilt\n",
      "Genome fixed after 0 passes\n",
      "Genome fixed after 0 passes\n",
      "Genome fixed after 7 passes\n",
      "Genome fixed after 0 passes\n",
      "Genome fixed after 0 passes\n",
      "Genome fixed after 1 passes\n",
      "Genome fixed after 0 passes\n",
      "Genome fully rebuilt\n",
      "Genome fixed after 0 passes\n",
      "Genome fixed after 1 passes\n",
      "Genome fixed after 1 passes\n",
      "Genome fixed after 0 passes\n",
      "Genome fixed after 3 passes\n",
      "Genome fully rebuilt\n",
      "Genome fixed after 4 passes\n",
      "Genome fully rebuilt\n",
      "Genome fully rebuilt\n",
      "Genome fixed after 0 passes\n",
      "Genome fixed after 0 passes\n",
      "Genome fixed after 0 passes\n",
      "Genome fully rebuilt\n",
      "Genome fully rebuilt\n",
      "Genome fixed after 0 passes\n",
      "Genome fixed after 0 passes\n"
     ]
    },
    {
     "name": "stderr",
     "output_type": "stream",
     "text": []
    },
    {
     "name": "stdout",
     "output_type": "stream",
     "text": [
      "Genome fixed after 0 passes\n",
      "Genome fixed after 1 passes\n",
      "Genome fixed after 0 passes\n",
      "Genome fully rebuilt\n",
      "Genome fully rebuilt\n",
      "Genome fixed after 3 passes\n",
      "Genome fixed after 0 passes\n",
      "Genome fixed after 2 passes\n",
      "Genome fixed after 3 passes\n",
      "Genome fixed after 0 passes\n",
      "Genome fixed after 6 passes\n",
      "Genome fixed after 3 passes\n",
      "Genome fully rebuilt\n",
      "Genome fixed after 0 passes\n",
      "Genome fully rebuilt\n",
      "Genome fully rebuilt\n"
     ]
    },
    {
     "name": "stderr",
     "output_type": "stream",
     "text": []
    },
    {
     "name": "stdout",
     "output_type": "stream",
     "text": [
      "Genome fixed after 0 passes\n",
      "Genome fixed after 1 passes\n",
      "Genome fixed after 3 passes\n",
      "Genome fully rebuilt\n",
      "Genome fully rebuilt\n",
      "Genome fully rebuilt\n",
      "Genome fixed after 2 passes\n",
      "Genome fixed after 0 passes\n",
      "Genome fully rebuilt\n",
      "Genome fully rebuilt\n",
      "Genome fully rebuilt\n",
      "Genome fixed after 0 passes\n",
      "Genome fixed after 2 passes\n",
      "Genome fixed after 2 passes\n",
      "Genome fixed after 4 passes\n",
      "Genome fixed after 0 passes\n",
      "Genome fully rebuilt\n",
      "Genome fully rebuilt\n",
      "Genome fully rebuilt\n",
      "Genome fully rebuilt\n",
      "Genome fixed after 0 passes\n",
      "Genome fully rebuilt\n",
      "Genome fixed after 0 passes\n",
      "Genome fixed after 5 passes\n",
      "Genome fixed after 0 passes\n",
      "Genome fixed after 0 passes\n",
      "Genome fully rebuilt\n",
      "Genome fixed after 0 passes\n",
      "Genome fixed after 1 passes\n",
      "Genome fixed after 0 passes\n"
     ]
    },
    {
     "name": "stderr",
     "output_type": "stream",
     "text": []
    },
    {
     "name": "stdout",
     "output_type": "stream",
     "text": [
      "Genome fixed after 0 passes\n",
      "Genome fixed after 2 passes\n",
      "Genome fixed after 7 passes\n",
      "Genome fixed after 3 passes\n",
      "Genome fully rebuilt\n",
      "Genome fully rebuilt\n",
      "Genome fully rebuilt\n",
      "Genome fixed after 1 passes\n",
      "Genome fixed after 4 passes\n",
      "Genome fixed after 0 passes\n",
      "Genome fixed after 0 passes\n",
      "Genome fixed after 0 passes\n",
      "Genome fixed after 1 passes\n",
      "Genome fixed after 2 passes\n",
      "Genome fully rebuilt\n",
      "Genome fully rebuilt\n",
      "Genome fully rebuilt\n",
      "Genome fixed after 0 passes\n",
      "Genome fully rebuilt\n",
      "Genome fixed after 0 passes\n",
      "Genome fixed after 4 passes\n",
      "Genome fixed after 1 passes\n",
      "Genome fixed after 4 passes\n",
      "Genome fixed after 0 passes\n"
     ]
    },
    {
     "name": "stderr",
     "output_type": "stream",
     "text": []
    },
    {
     "name": "stdout",
     "output_type": "stream",
     "text": [
      "Genome fully rebuilt\n",
      "Genome fixed after 6 passes\n",
      "Genome fixed after 0 passes\n",
      "Genome fixed after 0 passes\n",
      "Genome fixed after 1 passes\n",
      "Genome fixed after 9 passes\n",
      "Genome fully rebuilt\n",
      "Genome fixed after 0 passes\n",
      "Genome fixed after 5 passes\n",
      "Genome fully rebuilt\n",
      "Genome fixed after 8 passes\n",
      "Genome fully rebuilt\n",
      "Genome fixed after 0 passes\n",
      "Genome fixed after 0 passes\n",
      "Genome fixed after 2 passes\n",
      "Genome fixed after 0 passes\n",
      "Genome fully rebuilt\n",
      "Genome fully rebuilt\n",
      "Genome fixed after 2 passes\n",
      "Genome fully rebuilt\n",
      "Genome fixed after 0 passes\n",
      "Genome fixed after 7 passes\n",
      "Genome fully rebuilt\n",
      "Genome fully rebuilt\n",
      "Genome fixed after 0 passes\n",
      "Genome fully rebuilt\n",
      "Genome fully rebuilt\n"
     ]
    },
    {
     "name": "stderr",
     "output_type": "stream",
     "text": []
    },
    {
     "name": "stdout",
     "output_type": "stream",
     "text": [
      "Genome fixed after 1 passes\n",
      "Genome fixed after 0 passes\n",
      "Genome fully rebuilt\n",
      "Genome fully rebuilt\n",
      "Genome fully rebuilt\n",
      "Genome fully rebuilt\n",
      "Genome fully rebuilt\n",
      "Genome fully rebuilt\n",
      "Genome fixed after 0 passes\n",
      "Genome fully rebuilt\n",
      "Genome fixed after 1 passes\n",
      "Genome fixed after 0 passes\n",
      "Genome fixed after 0 passes\n",
      "Genome fixed after 1 passes\n",
      "Genome fully rebuilt\n",
      "Genome fixed after 6 passes\n",
      "Genome fixed after 0 passes\n",
      "Genome fixed after 6 passes\n",
      "Genome fully rebuilt\n",
      "Genome fixed after 1 passes\n",
      "Genome fixed after 0 passes\n",
      "Genome fully rebuilt\n",
      "Genome fixed after 3 passes\n",
      "Genome fully rebuilt\n"
     ]
    },
    {
     "name": "stderr",
     "output_type": "stream",
     "text": []
    },
    {
     "name": "stdout",
     "output_type": "stream",
     "text": [
      "Genome fully rebuilt\n",
      "Genome fixed after 0 passes\n",
      "Genome fully rebuilt\n",
      "Genome fixed after 0 passes\n",
      "Genome fully rebuilt\n",
      "Genome fully rebuilt\n",
      "Genome fixed after 2 passes\n",
      "Genome fully rebuilt\n",
      "Genome fully rebuilt\n",
      "Genome fixed after 1 passes\n",
      "Genome fixed after 0 passes\n",
      "Genome fully rebuilt\n",
      "Genome fully rebuilt\n",
      "Genome fully rebuilt\n",
      "Genome fully rebuilt\n",
      "Genome fully rebuilt\n",
      "Genome fixed after 2 passes\n",
      "Genome fully rebuilt\n"
     ]
    },
    {
     "name": "stderr",
     "output_type": "stream",
     "text": [
      "Runnig genetic alogrithm: 100%|██████████| 100/100 [04:45<00:00,  2.85s/ generation]\n",
      "Running grid search:   6%|▌         | 11/192 [11:20<6:00:26, 119.48s/ combination]"
     ]
    },
    {
     "name": "stdout",
     "output_type": "stream",
     "text": [
      "Genome fixed after 1 passes\n",
      "Genome fixed after 3 passes\n",
      "Genome fixed after 1 passes\n",
      "Genome fixed after 8 passes\n",
      "Genome fully rebuilt\n",
      "Genome fully rebuilt\n",
      "Genome fully rebuilt\n",
      "Genome fully rebuilt\n",
      "Genome fixed after 4 passes\n",
      "Genome fixed after 0 passes\n",
      "Genome fully rebuilt\n",
      "Genome fixed after 2 passes\n",
      "Genome fully rebuilt\n",
      "Genome fixed after 0 passes\n",
      "Genome fully rebuilt\n",
      "Genome fully rebuilt\n"
     ]
    },
    {
     "name": "stderr",
     "output_type": "stream",
     "text": []
    },
    {
     "name": "stdout",
     "output_type": "stream",
     "text": [
      "Genome fixed after 0 passes\n",
      "Genome fixed after 2 passes\n",
      "Genome fully rebuilt\n",
      "Genome fully rebuilt\n",
      "Genome fixed after 2 passes\n",
      "Genome fixed after 0 passes\n",
      "Genome fixed after 0 passes\n",
      "Genome fixed after 0 passes\n",
      "Genome fixed after 7 passes\n",
      "Genome fixed after 0 passes\n",
      "Genome fixed after 5 passes\n",
      "Genome fully rebuilt\n",
      "Genome fixed after 0 passes\n",
      "Genome fixed after 1 passes\n",
      "Genome fixed after 0 passes\n",
      "Genome fixed after 9 passes\n",
      "Genome fixed after 1 passes\n",
      "Genome fully rebuilt\n",
      "Genome fixed after 0 passes\n",
      "Genome fixed after 6 passes\n",
      "Genome fully rebuilt\n",
      "Genome fixed after 0 passes\n",
      "Genome fixed after 0 passes\n",
      "Genome fixed after 2 passes\n",
      "Genome fixed after 6 passes\n",
      "Genome fixed after 5 passes\n",
      "Genome fully rebuilt\n",
      "Genome fixed after 3 passes\n",
      "Genome fixed after 0 passes\n",
      "Genome fixed after 2 passes\n",
      "Genome fixed after 7 passes\n",
      "Genome fully rebuilt\n",
      "Genome fixed after 0 passes\n",
      "Genome fixed after 0 passes\n",
      "Genome fixed after 4 passes\n",
      "Genome fixed after 0 passes\n",
      "Genome fully rebuilt\n",
      "Genome fully rebuilt\n",
      "Genome fully rebuilt\n",
      "Genome fixed after 2 passes\n",
      "Genome fixed after 0 passes\n",
      "Genome fully rebuilt\n",
      "Genome fixed after 0 passes\n",
      "Genome fixed after 2 passes\n",
      "Genome fixed after 6 passes\n"
     ]
    },
    {
     "name": "stderr",
     "output_type": "stream",
     "text": []
    },
    {
     "name": "stdout",
     "output_type": "stream",
     "text": [
      "Genome fixed after 9 passes\n",
      "Genome fixed after 0 passes\n",
      "Genome fully rebuilt\n",
      "Genome fixed after 0 passes\n",
      "Genome fixed after 1 passes\n",
      "Genome fully rebuilt\n",
      "Genome fully rebuilt\n",
      "Genome fixed after 0 passes\n",
      "Genome fully rebuilt\n",
      "Genome fully rebuilt\n",
      "Genome fully rebuilt\n",
      "Genome fixed after 0 passes\n",
      "Genome fixed after 0 passes\n",
      "Genome fixed after 1 passes\n",
      "Genome fixed after 0 passes\n",
      "Genome fully rebuilt\n",
      "Genome fully rebuilt\n",
      "Genome fixed after 0 passes\n",
      "Genome fixed after 0 passes\n",
      "Genome fixed after 6 passes\n",
      "Genome fixed after 5 passes\n",
      "Genome fully rebuilt\n",
      "Genome fixed after 0 passes\n",
      "Genome fixed after 0 passes\n",
      "Genome fixed after 1 passes\n",
      "Genome fixed after 3 passes\n",
      "Genome fixed after 0 passes\n",
      "Genome fixed after 7 passes\n",
      "Genome fixed after 0 passes\n",
      "Genome fixed after 0 passes\n",
      "Genome fully rebuilt\n",
      "Genome fully rebuilt\n",
      "Genome fixed after 9 passes\n",
      "Genome fixed after 3 passes\n",
      "Genome fixed after 0 passes\n",
      "Genome fully rebuilt\n",
      "Genome fixed after 0 passes\n",
      "Genome fully rebuilt\n",
      "Genome fixed after 0 passes\n",
      "Genome fully rebuilt\n",
      "Genome fixed after 0 passes\n",
      "Genome fixed after 1 passes\n",
      "Genome fixed after 1 passes\n",
      "Genome fixed after 0 passes\n",
      "Genome fixed after 0 passes\n",
      "Genome fully rebuilt\n",
      "Genome fixed after 0 passes\n"
     ]
    },
    {
     "name": "stderr",
     "output_type": "stream",
     "text": []
    },
    {
     "name": "stdout",
     "output_type": "stream",
     "text": [
      "Genome fixed after 6 passes\n",
      "Genome fully rebuilt\n",
      "Genome fully rebuilt\n",
      "Genome fully rebuilt\n",
      "Genome fully rebuilt\n",
      "Genome fixed after 9 passes\n",
      "Genome fixed after 3 passes\n",
      "Genome fully rebuilt\n",
      "Genome fully rebuilt\n",
      "Genome fully rebuilt\n",
      "Genome fixed after 0 passes\n",
      "Genome fixed after 1 passes\n",
      "Genome fixed after 0 passes\n",
      "Genome fixed after 0 passes\n",
      "Genome fixed after 0 passes\n",
      "Genome fixed after 0 passes\n",
      "Genome fully rebuilt\n",
      "Genome fixed after 2 passes\n",
      "Genome fixed after 1 passes\n",
      "Genome fixed after 0 passes\n",
      "Genome fixed after 6 passes\n",
      "Genome fully rebuilt\n",
      "Genome fully rebuilt\n",
      "Genome fixed after 0 passes\n",
      "Genome fixed after 7 passes\n",
      "Genome fixed after 1 passes\n",
      "Genome fixed after 4 passes\n",
      "Genome fixed after 0 passes\n",
      "Genome fixed after 4 passes\n",
      "Genome fixed after 0 passes\n",
      "Genome fixed after 2 passes\n",
      "Genome fixed after 0 passes\n",
      "Genome fixed after 0 passes\n",
      "Genome fully rebuilt\n",
      "Genome fixed after 0 passes\n",
      "Genome fixed after 0 passes\n",
      "Genome fully rebuilt\n",
      "Genome fully rebuilt\n",
      "Genome fixed after 0 passes\n",
      "Genome fixed after 1 passes\n"
     ]
    },
    {
     "name": "stderr",
     "output_type": "stream",
     "text": []
    },
    {
     "name": "stdout",
     "output_type": "stream",
     "text": [
      "Genome fixed after 1 passes\n",
      "Genome fully rebuilt\n",
      "Genome fully rebuilt\n",
      "Genome fully rebuilt\n",
      "Genome fixed after 0 passes\n",
      "Genome fully rebuilt\n",
      "Genome fully rebuilt\n",
      "Genome fixed after 0 passes\n",
      "Genome fully rebuilt\n",
      "Genome fixed after 0 passes\n",
      "Genome fixed after 8 passes\n",
      "Genome fixed after 0 passes\n",
      "Genome fully rebuilt\n",
      "Genome fully rebuilt\n",
      "Genome fully rebuilt\n",
      "Genome fully rebuilt\n",
      "Genome fully rebuilt\n",
      "Genome fixed after 9 passes\n",
      "Genome fully rebuilt\n",
      "Genome fixed after 5 passes\n",
      "Genome fully rebuilt\n",
      "Genome fully rebuilt\n",
      "Genome fully rebuilt\n",
      "Genome fully rebuilt\n",
      "Genome fully rebuilt\n",
      "Genome fixed after 0 passes\n",
      "Genome fixed after 5 passes\n",
      "Genome fixed after 0 passes\n",
      "Genome fixed after 0 passes\n",
      "Genome fixed after 9 passes\n",
      "Genome fixed after 0 passes\n",
      "Genome fully rebuilt\n",
      "Genome fixed after 0 passes\n",
      "Genome fixed after 0 passes\n",
      "Genome fixed after 0 passes\n",
      "Genome fixed after 2 passes\n",
      "Genome fixed after 0 passes\n",
      "Genome fixed after 9 passes\n",
      "Genome fixed after 0 passes\n",
      "Genome fully rebuilt\n",
      "Genome fixed after 0 passes\n",
      "Genome fixed after 1 passes\n",
      "Genome fully rebuilt\n",
      "Genome fixed after 6 passes\n",
      "Genome fixed after 3 passes\n"
     ]
    },
    {
     "name": "stderr",
     "output_type": "stream",
     "text": []
    },
    {
     "name": "stdout",
     "output_type": "stream",
     "text": [
      "Genome fully rebuilt\n",
      "Genome fully rebuilt\n",
      "Genome fixed after 0 passes\n",
      "Genome fixed after 1 passes\n",
      "Genome fixed after 1 passes\n",
      "Genome fixed after 1 passes\n",
      "Genome fully rebuilt\n",
      "Genome fixed after 0 passes\n",
      "Genome fully rebuilt\n",
      "Genome fully rebuilt\n",
      "Genome fully rebuilt\n",
      "Genome fixed after 3 passes\n",
      "Genome fully rebuilt\n",
      "Genome fixed after 0 passes\n",
      "Genome fixed after 0 passes\n",
      "Genome fixed after 2 passes\n",
      "Genome fully rebuilt\n",
      "Genome fixed after 0 passes\n",
      "Genome fixed after 0 passes\n",
      "Genome fully rebuilt\n",
      "Genome fully rebuilt\n",
      "Genome fixed after 0 passes\n",
      "Genome fully rebuilt\n",
      "Genome fixed after 0 passes\n",
      "Genome fixed after 0 passes\n",
      "Genome fully rebuilt\n",
      "Genome fixed after 0 passes\n",
      "Genome fully rebuilt\n",
      "Genome fixed after 0 passes\n",
      "Genome fixed after 0 passes\n",
      "Genome fixed after 5 passes\n",
      "Genome fixed after 0 passes\n",
      "Genome fixed after 1 passes\n",
      "Genome fixed after 0 passes\n",
      "Genome fixed after 0 passes\n",
      "Genome fixed after 0 passes\n",
      "Genome fully rebuilt\n",
      "Genome fixed after 0 passes\n",
      "Genome fixed after 0 passes\n",
      "Genome fixed after 0 passes\n",
      "Genome fully rebuilt\n",
      "Genome fixed after 2 passes\n",
      "Genome fully rebuilt\n",
      "Genome fixed after 0 passes\n",
      "Genome fixed after 6 passes\n",
      "Genome fully rebuilt\n",
      "Genome fully rebuilt\n",
      "Genome fixed after 8 passes\n",
      "Genome fully rebuilt\n"
     ]
    },
    {
     "name": "stderr",
     "output_type": "stream",
     "text": []
    },
    {
     "name": "stdout",
     "output_type": "stream",
     "text": [
      "Genome fixed after 0 passes\n",
      "Genome fixed after 3 passes\n",
      "Genome fixed after 0 passes\n",
      "Genome fixed after 0 passes\n",
      "Genome fully rebuilt\n",
      "Genome fully rebuilt\n",
      "Genome fixed after 2 passes\n",
      "Genome fully rebuilt\n",
      "Genome fully rebuilt\n",
      "Genome fixed after 5 passes\n",
      "Genome fixed after 7 passes\n",
      "Genome fixed after 1 passes\n",
      "Genome fixed after 0 passes\n",
      "Genome fixed after 3 passes\n",
      "Genome fixed after 0 passes\n",
      "Genome fixed after 5 passes\n",
      "Genome fully rebuilt\n",
      "Genome fixed after 0 passes\n",
      "Genome fully rebuilt\n",
      "Genome fully rebuilt\n",
      "Genome fixed after 0 passes\n",
      "Genome fixed after 0 passes\n",
      "Genome fixed after 0 passes\n",
      "Genome fully rebuilt\n",
      "Genome fixed after 1 passes\n",
      "Genome fixed after 0 passes\n",
      "Genome fixed after 0 passes\n",
      "Genome fixed after 0 passes\n",
      "Genome fixed after 1 passes\n",
      "Genome fixed after 0 passes\n",
      "Genome fixed after 2 passes\n"
     ]
    },
    {
     "name": "stderr",
     "output_type": "stream",
     "text": []
    },
    {
     "name": "stdout",
     "output_type": "stream",
     "text": [
      "Genome fixed after 1 passes\n",
      "Genome fixed after 1 passes\n",
      "Genome fixed after 2 passes\n",
      "Genome fully rebuilt\n",
      "Genome fixed after 7 passes\n",
      "Genome fixed after 0 passes\n",
      "Genome fully rebuilt\n",
      "Genome fixed after 7 passes\n",
      "Genome fully rebuilt\n",
      "Genome fixed after 8 passes\n",
      "Genome fully rebuilt\n",
      "Genome fully rebuilt\n",
      "Genome fully rebuilt\n",
      "Genome fixed after 2 passes\n",
      "Genome fixed after 6 passes\n",
      "Genome fully rebuilt\n",
      "Genome fully rebuilt\n",
      "Genome fully rebuilt\n",
      "Genome fixed after 0 passes\n",
      "Genome fixed after 0 passes\n",
      "Genome fixed after 0 passes\n",
      "Genome fixed after 0 passes\n",
      "Genome fixed after 0 passes\n",
      "Genome fully rebuilt\n",
      "Genome fixed after 0 passes\n",
      "Genome fully rebuilt\n",
      "Genome fixed after 6 passes\n",
      "Genome fixed after 0 passes\n",
      "Genome fully rebuilt\n",
      "Genome fixed after 0 passes\n",
      "Genome fully rebuilt\n",
      "Genome fixed after 0 passes\n",
      "Genome fully rebuilt\n",
      "Genome fixed after 0 passes\n",
      "Genome fully rebuilt\n",
      "Genome fixed after 0 passes\n",
      "Genome fixed after 0 passes\n",
      "Genome fully rebuilt\n",
      "Genome fixed after 0 passes\n",
      "Genome fixed after 4 passes\n",
      "Genome fixed after 2 passes\n",
      "Genome fully rebuilt\n",
      "Genome fully rebuilt\n",
      "Genome fully rebuilt\n",
      "Genome fully rebuilt\n",
      "Genome fully rebuilt\n"
     ]
    },
    {
     "name": "stderr",
     "output_type": "stream",
     "text": []
    },
    {
     "name": "stdout",
     "output_type": "stream",
     "text": [
      "Genome fixed after 1 passes\n",
      "Genome fully rebuilt\n",
      "Genome fixed after 3 passes\n",
      "Genome fixed after 0 passes\n",
      "Genome fixed after 1 passes\n",
      "Genome fixed after 9 passes\n",
      "Genome fixed after 6 passes\n",
      "Genome fully rebuilt\n",
      "Genome fixed after 8 passes\n",
      "Genome fixed after 4 passes\n",
      "Genome fully rebuilt\n",
      "Genome fully rebuilt\n",
      "Genome fully rebuilt\n",
      "Genome fixed after 0 passes\n",
      "Genome fixed after 0 passes\n",
      "Genome fixed after 4 passes\n",
      "Genome fixed after 4 passes\n",
      "Genome fixed after 0 passes\n",
      "Genome fully rebuilt\n",
      "Genome fixed after 1 passes\n",
      "Genome fully rebuilt\n",
      "Genome fixed after 8 passes\n",
      "Genome fixed after 3 passes\n",
      "Genome fixed after 9 passes\n",
      "Genome fully rebuilt\n",
      "Genome fixed after 2 passes\n",
      "Genome fixed after 0 passes\n",
      "Genome fixed after 0 passes\n",
      "Genome fixed after 0 passes\n",
      "Genome fixed after 0 passes\n",
      "Genome fully rebuilt\n",
      "Genome fixed after 2 passes\n",
      "Genome fixed after 4 passes\n",
      "Genome fixed after 0 passes\n",
      "Genome fixed after 2 passes\n",
      "Genome fully rebuilt\n",
      "Genome fixed after 2 passes\n",
      "Genome fully rebuilt\n",
      "Genome fully rebuilt\n",
      "Genome fully rebuilt\n",
      "Genome fully rebuilt\n",
      "Genome fixed after 2 passes\n",
      "Genome fixed after 4 passes\n"
     ]
    },
    {
     "name": "stderr",
     "output_type": "stream",
     "text": []
    },
    {
     "name": "stdout",
     "output_type": "stream",
     "text": [
      "Genome fixed after 0 passes\n",
      "Genome fixed after 5 passes\n",
      "Genome fully rebuilt\n",
      "Genome fixed after 0 passes\n",
      "Genome fixed after 2 passes\n",
      "Genome fully rebuilt\n",
      "Genome fixed after 0 passes\n",
      "Genome fixed after 0 passes\n",
      "Genome fully rebuilt\n",
      "Genome fixed after 0 passes\n",
      "Genome fixed after 6 passes\n",
      "Genome fixed after 4 passes\n",
      "Genome fixed after 0 passes\n",
      "Genome fixed after 0 passes\n",
      "Genome fixed after 0 passes\n",
      "Genome fixed after 5 passes\n",
      "Genome fixed after 8 passes\n",
      "Genome fixed after 9 passes\n",
      "Genome fully rebuilt\n",
      "Genome fixed after 0 passes\n",
      "Genome fixed after 2 passes\n",
      "Genome fully rebuilt\n",
      "Genome fully rebuilt\n",
      "Genome fully rebuilt\n",
      "Genome fully rebuilt\n",
      "Genome fixed after 4 passes\n",
      "Genome fixed after 1 passes\n",
      "Genome fixed after 0 passes\n",
      "Genome fixed after 6 passes\n",
      "Genome fixed after 1 passes\n",
      "Genome fixed after 0 passes\n",
      "Genome fully rebuilt\n",
      "Genome fixed after 6 passes\n",
      "Genome fixed after 2 passes\n",
      "Genome fully rebuilt\n",
      "Genome fixed after 0 passes\n",
      "Genome fully rebuilt\n",
      "Genome fully rebuilt\n",
      "Genome fixed after 0 passes\n",
      "Genome fully rebuilt\n",
      "Genome fully rebuilt\n",
      "Genome fully rebuilt\n",
      "Genome fixed after 0 passes\n",
      "Genome fully rebuilt\n",
      "Genome fully rebuilt\n",
      "Genome fixed after 3 passes\n",
      "Genome fully rebuilt\n",
      "Genome fully rebuilt\n"
     ]
    },
    {
     "name": "stderr",
     "output_type": "stream",
     "text": []
    },
    {
     "name": "stdout",
     "output_type": "stream",
     "text": [
      "Genome fully rebuilt\n",
      "Genome fixed after 0 passes\n",
      "Genome fully rebuilt\n",
      "Genome fully rebuilt\n",
      "Genome fixed after 5 passes\n",
      "Genome fully rebuilt\n",
      "Genome fully rebuilt\n",
      "Genome fixed after 7 passes\n",
      "Genome fully rebuilt\n",
      "Genome fully rebuilt\n",
      "Genome fixed after 0 passes\n",
      "Genome fixed after 0 passes\n",
      "Genome fixed after 8 passes\n",
      "Genome fully rebuilt\n",
      "Genome fixed after 3 passes\n",
      "Genome fully rebuilt\n",
      "Genome fully rebuilt\n",
      "Genome fixed after 0 passes\n",
      "Genome fully rebuilt\n",
      "Genome fully rebuilt\n",
      "Genome fully rebuilt\n",
      "Genome fixed after 0 passes\n",
      "Genome fixed after 1 passes\n",
      "Genome fully rebuilt\n",
      "Genome fixed after 2 passes\n",
      "Genome fixed after 0 passes\n",
      "Genome fixed after 0 passes\n",
      "Genome fixed after 0 passes\n",
      "Genome fully rebuilt\n",
      "Genome fixed after 6 passes\n",
      "Genome fixed after 0 passes\n",
      "Genome fixed after 0 passes\n",
      "Genome fixed after 0 passes\n"
     ]
    },
    {
     "name": "stderr",
     "output_type": "stream",
     "text": []
    },
    {
     "name": "stdout",
     "output_type": "stream",
     "text": [
      "Genome fixed after 3 passes\n",
      "Genome fully rebuilt\n",
      "Genome fully rebuilt\n",
      "Genome fixed after 4 passes\n",
      "Genome fully rebuilt\n",
      "Genome fixed after 1 passes\n",
      "Genome fixed after 2 passes\n",
      "Genome fixed after 7 passes\n",
      "Genome fully rebuilt\n",
      "Genome fully rebuilt\n",
      "Genome fully rebuilt\n",
      "Genome fully rebuilt\n",
      "Genome fully rebuilt\n",
      "Genome fully rebuilt\n",
      "Genome fixed after 0 passes\n",
      "Genome fixed after 2 passes\n",
      "Genome fixed after 7 passes\n",
      "Genome fixed after 1 passes\n",
      "Genome fully rebuilt\n",
      "Genome fixed after 0 passes\n",
      "Genome fixed after 8 passes\n",
      "Genome fixed after 4 passes\n",
      "Genome fixed after 8 passes\n",
      "Genome fixed after 3 passes\n",
      "Genome fixed after 6 passes\n",
      "Genome fully rebuilt\n",
      "Genome fully rebuilt\n",
      "Genome fully rebuilt\n",
      "Genome fully rebuilt\n",
      "Genome fixed after 1 passes\n",
      "Genome fixed after 6 passes\n",
      "Genome fixed after 5 passes\n",
      "Genome fully rebuilt\n",
      "Genome fixed after 0 passes\n",
      "Genome fixed after 4 passes\n",
      "Genome fully rebuilt\n",
      "Genome fixed after 5 passes\n",
      "Genome fixed after 0 passes\n",
      "Genome fully rebuilt\n",
      "Genome fixed after 0 passes\n",
      "Genome fixed after 0 passes\n",
      "Genome fixed after 4 passes\n",
      "Genome fully rebuilt\n",
      "Genome fixed after 0 passes\n",
      "Genome fixed after 2 passes\n",
      "Genome fixed after 3 passes\n"
     ]
    },
    {
     "name": "stderr",
     "output_type": "stream",
     "text": []
    },
    {
     "name": "stdout",
     "output_type": "stream",
     "text": [
      "Genome fixed after 2 passes\n",
      "Genome fully rebuilt\n",
      "Genome fixed after 2 passes\n",
      "Genome fully rebuilt\n",
      "Genome fixed after 2 passes\n",
      "Genome fixed after 5 passes\n",
      "Genome fixed after 3 passes\n",
      "Genome fixed after 0 passes\n",
      "Genome fully rebuilt\n",
      "Genome fixed after 0 passes\n",
      "Genome fixed after 3 passes\n",
      "Genome fixed after 5 passes\n",
      "Genome fixed after 4 passes\n",
      "Genome fully rebuilt\n",
      "Genome fully rebuilt\n",
      "Genome fixed after 9 passes\n",
      "Genome fixed after 0 passes\n",
      "Genome fixed after 7 passes\n",
      "Genome fully rebuilt\n",
      "Genome fixed after 2 passes\n",
      "Genome fixed after 7 passes\n",
      "Genome fully rebuilt\n",
      "Genome fully rebuilt\n",
      "Genome fixed after 0 passes\n",
      "Genome fixed after 0 passes\n",
      "Genome fixed after 0 passes\n",
      "Genome fully rebuilt\n",
      "Genome fully rebuilt\n",
      "Genome fixed after 0 passes\n",
      "Genome fixed after 3 passes\n",
      "Genome fully rebuilt\n",
      "Genome fixed after 0 passes\n",
      "Genome fixed after 0 passes\n",
      "Genome fixed after 2 passes\n",
      "Genome fixed after 5 passes\n",
      "Genome fixed after 3 passes\n",
      "Genome fixed after 0 passes\n",
      "Genome fully rebuilt\n",
      "Genome fully rebuilt\n",
      "Genome fixed after 1 passes\n",
      "Genome fully rebuilt\n",
      "Genome fixed after 3 passes\n",
      "Genome fixed after 1 passes\n",
      "Genome fixed after 0 passes\n",
      "Genome fixed after 0 passes\n",
      "Genome fully rebuilt\n",
      "Genome fixed after 0 passes\n",
      "Genome fixed after 3 passes\n",
      "Genome fully rebuilt\n",
      "Genome fixed after 0 passes\n",
      "Genome fixed after 1 passes\n"
     ]
    },
    {
     "name": "stderr",
     "output_type": "stream",
     "text": []
    },
    {
     "name": "stdout",
     "output_type": "stream",
     "text": [
      "Genome fully rebuilt\n",
      "Genome fixed after 4 passes\n",
      "Genome fully rebuilt\n",
      "Genome fully rebuilt\n",
      "Genome fixed after 1 passes\n",
      "Genome fixed after 3 passes\n",
      "Genome fixed after 1 passes\n",
      "Genome fully rebuilt\n",
      "Genome fixed after 0 passes\n",
      "Genome fixed after 0 passes\n",
      "Genome fully rebuilt\n",
      "Genome fixed after 0 passes\n",
      "Genome fixed after 3 passes\n",
      "Genome fully rebuilt\n",
      "Genome fixed after 3 passes\n",
      "Genome fixed after 0 passes\n",
      "Genome fixed after 5 passes\n",
      "Genome fixed after 0 passes\n",
      "Genome fully rebuilt\n",
      "Genome fixed after 9 passes\n",
      "Genome fully rebuilt\n",
      "Genome fully rebuilt\n",
      "Genome fully rebuilt\n",
      "Genome fixed after 0 passes\n",
      "Genome fixed after 0 passes\n",
      "Genome fixed after 0 passes\n",
      "Genome fixed after 1 passes\n",
      "Genome fixed after 1 passes\n",
      "Genome fixed after 0 passes\n",
      "Genome fixed after 1 passes\n",
      "Genome fixed after 1 passes\n",
      "Genome fixed after 4 passes\n",
      "Genome fixed after 0 passes\n",
      "Genome fixed after 0 passes\n",
      "Genome fixed after 6 passes\n",
      "Genome fully rebuilt\n",
      "Genome fully rebuilt\n",
      "Genome fully rebuilt\n",
      "Genome fully rebuilt\n",
      "Genome fixed after 0 passes\n",
      "Genome fully rebuilt\n",
      "Genome fixed after 0 passes\n",
      "Genome fixed after 0 passes\n",
      "Genome fully rebuilt\n",
      "Genome fully rebuilt\n",
      "Genome fully rebuilt\n",
      "Genome fully rebuilt\n",
      "Genome fixed after 7 passes\n",
      "Genome fixed after 3 passes\n",
      "Genome fully rebuilt\n",
      "Genome fully rebuilt\n",
      "Genome fixed after 0 passes\n",
      "Genome fixed after 4 passes\n",
      "Genome fixed after 0 passes\n",
      "Genome fully rebuilt\n",
      "Genome fixed after 0 passes\n"
     ]
    },
    {
     "name": "stderr",
     "output_type": "stream",
     "text": []
    },
    {
     "name": "stdout",
     "output_type": "stream",
     "text": [
      "Genome fixed after 5 passes\n",
      "Genome fully rebuilt\n",
      "Genome fixed after 2 passes\n",
      "Genome fully rebuilt\n",
      "Genome fully rebuilt\n",
      "Genome fixed after 0 passes\n",
      "Genome fixed after 0 passes\n",
      "Genome fixed after 0 passes\n",
      "Genome fixed after 0 passes\n",
      "Genome fixed after 0 passes\n",
      "Genome fully rebuilt\n",
      "Genome fixed after 1 passes\n",
      "Genome fixed after 0 passes\n",
      "Genome fully rebuilt\n",
      "Genome fixed after 0 passes\n",
      "Genome fully rebuilt\n",
      "Genome fixed after 2 passes\n",
      "Genome fully rebuilt\n",
      "Genome fully rebuilt\n",
      "Genome fully rebuilt\n",
      "Genome fixed after 2 passes\n",
      "Genome fixed after 0 passes\n",
      "Genome fixed after 3 passes\n",
      "Genome fixed after 8 passes\n",
      "Genome fixed after 0 passes\n",
      "Genome fully rebuilt\n",
      "Genome fixed after 0 passes\n",
      "Genome fixed after 2 passes\n",
      "Genome fully rebuilt\n",
      "Genome fully rebuilt\n",
      "Genome fixed after 1 passes\n",
      "Genome fully rebuilt\n",
      "Genome fixed after 0 passes\n",
      "Genome fixed after 9 passes\n",
      "Genome fully rebuilt\n",
      "Genome fixed after 2 passes\n",
      "Genome fully rebuilt\n",
      "Genome fixed after 5 passes\n",
      "Genome fixed after 0 passes\n",
      "Genome fixed after 3 passes\n",
      "Genome fixed after 5 passes\n",
      "Genome fully rebuilt\n",
      "Genome fixed after 0 passes\n",
      "Genome fully rebuilt\n",
      "Genome fixed after 3 passes\n",
      "Genome fully rebuilt\n",
      "Genome fully rebuilt\n",
      "Genome fully rebuilt\n",
      "Genome fixed after 4 passes\n",
      "Genome fixed after 0 passes\n",
      "Genome fixed after 3 passes\n"
     ]
    },
    {
     "name": "stderr",
     "output_type": "stream",
     "text": []
    },
    {
     "name": "stdout",
     "output_type": "stream",
     "text": [
      "Genome fully rebuilt\n",
      "Genome fully rebuilt\n",
      "Genome fixed after 0 passes\n",
      "Genome fully rebuilt\n",
      "Genome fixed after 2 passes\n",
      "Genome fully rebuilt\n",
      "Genome fixed after 0 passes\n",
      "Genome fully rebuilt\n",
      "Genome fully rebuilt\n",
      "Genome fixed after 4 passes\n",
      "Genome fully rebuilt\n",
      "Genome fixed after 4 passes\n",
      "Genome fully rebuilt\n",
      "Genome fully rebuilt\n",
      "Genome fully rebuilt\n",
      "Genome fixed after 7 passes\n",
      "Genome fixed after 5 passes\n",
      "Genome fixed after 9 passes\n",
      "Genome fixed after 2 passes\n",
      "Genome fully rebuilt\n",
      "Genome fully rebuilt\n",
      "Genome fully rebuilt\n",
      "Genome fixed after 2 passes\n",
      "Genome fully rebuilt\n",
      "Genome fixed after 3 passes\n",
      "Genome fully rebuilt\n",
      "Genome fixed after 0 passes\n",
      "Genome fully rebuilt\n",
      "Genome fixed after 0 passes\n",
      "Genome fully rebuilt\n",
      "Genome fixed after 1 passes\n",
      "Genome fixed after 3 passes\n",
      "Genome fixed after 4 passes\n",
      "Genome fixed after 2 passes\n",
      "Genome fixed after 8 passes\n",
      "Genome fully rebuilt\n",
      "Genome fixed after 2 passes\n",
      "Genome fixed after 6 passes\n",
      "Genome fully rebuilt\n",
      "Genome fixed after 1 passes\n",
      "Genome fixed after 3 passes\n",
      "Genome fully rebuilt\n",
      "Genome fully rebuilt\n",
      "Genome fixed after 0 passes\n",
      "Genome fixed after 0 passes\n",
      "Genome fixed after 0 passes\n",
      "Genome fixed after 4 passes\n",
      "Genome fully rebuilt\n",
      "Genome fixed after 0 passes\n",
      "Genome fixed after 0 passes\n",
      "Genome fully rebuilt\n",
      "Genome fixed after 0 passes\n",
      "Genome fixed after 3 passes\n",
      "Genome fixed after 0 passes\n",
      "Genome fully rebuilt\n"
     ]
    },
    {
     "name": "stderr",
     "output_type": "stream",
     "text": []
    },
    {
     "name": "stdout",
     "output_type": "stream",
     "text": [
      "Genome fully rebuilt\n",
      "Genome fully rebuilt\n",
      "Genome fixed after 0 passes\n",
      "Genome fully rebuilt\n",
      "Genome fixed after 0 passes\n",
      "Genome fully rebuilt\n",
      "Genome fixed after 4 passes\n",
      "Genome fully rebuilt\n",
      "Genome fully rebuilt\n",
      "Genome fully rebuilt\n",
      "Genome fully rebuilt\n",
      "Genome fixed after 0 passes\n",
      "Genome fully rebuilt\n",
      "Genome fixed after 2 passes\n",
      "Genome fully rebuilt\n",
      "Genome fixed after 0 passes\n",
      "Genome fully rebuilt\n",
      "Genome fixed after 3 passes\n",
      "Genome fully rebuilt\n",
      "Genome fixed after 4 passes\n",
      "Genome fixed after 0 passes\n",
      "Genome fully rebuilt\n",
      "Genome fixed after 1 passes\n",
      "Genome fully rebuilt\n",
      "Genome fully rebuilt\n"
     ]
    },
    {
     "name": "stderr",
     "output_type": "stream",
     "text": []
    },
    {
     "name": "stdout",
     "output_type": "stream",
     "text": [
      "Genome fixed after 0 passes\n",
      "Genome fully rebuilt\n",
      "Genome fixed after 3 passes\n",
      "Genome fully rebuilt\n",
      "Genome fully rebuilt\n",
      "Genome fixed after 5 passes\n",
      "Genome fully rebuilt\n",
      "Genome fully rebuilt\n",
      "Genome fully rebuilt\n",
      "Genome fully rebuilt\n",
      "Genome fully rebuilt\n",
      "Genome fixed after 0 passes\n",
      "Genome fixed after 9 passes\n",
      "Genome fully rebuilt\n",
      "Genome fixed after 0 passes\n",
      "Genome fixed after 0 passes\n",
      "Genome fixed after 5 passes\n",
      "Genome fully rebuilt\n",
      "Genome fully rebuilt\n",
      "Genome fixed after 0 passes\n",
      "Genome fully rebuilt\n",
      "Genome fixed after 3 passes\n",
      "Genome fully rebuilt\n",
      "Genome fully rebuilt\n",
      "Genome fixed after 3 passes\n",
      "Genome fully rebuilt\n",
      "Genome fully rebuilt\n",
      "Genome fixed after 2 passes\n",
      "Genome fixed after 0 passes\n",
      "Genome fully rebuilt\n",
      "Genome fully rebuilt\n",
      "Genome fixed after 0 passes\n",
      "Genome fully rebuilt\n",
      "Genome fixed after 0 passes\n"
     ]
    },
    {
     "name": "stderr",
     "output_type": "stream",
     "text": []
    },
    {
     "name": "stdout",
     "output_type": "stream",
     "text": [
      "Genome fully rebuilt\n",
      "Genome fully rebuilt\n",
      "Genome fully rebuilt\n",
      "Genome fixed after 3 passes\n",
      "Genome fully rebuilt\n",
      "Genome fully rebuilt\n",
      "Genome fixed after 1 passes\n",
      "Genome fixed after 0 passes\n",
      "Genome fixed after 1 passes\n",
      "Genome fully rebuilt\n",
      "Genome fully rebuilt\n",
      "Genome fully rebuilt\n",
      "Genome fixed after 9 passes\n",
      "Genome fully rebuilt\n",
      "Genome fully rebuilt\n",
      "Genome fixed after 2 passes\n",
      "Genome fixed after 6 passes\n",
      "Genome fixed after 0 passes\n",
      "Genome fixed after 1 passes\n",
      "Genome fixed after 5 passes\n",
      "Genome fixed after 7 passes\n",
      "Genome fully rebuilt\n",
      "Genome fixed after 4 passes\n",
      "Genome fixed after 7 passes\n",
      "Genome fixed after 0 passes\n",
      "Genome fixed after 0 passes\n",
      "Genome fully rebuilt\n",
      "Genome fixed after 5 passes\n",
      "Genome fixed after 0 passes\n",
      "Genome fixed after 0 passes\n",
      "Genome fully rebuilt\n",
      "Genome fully rebuilt\n",
      "Genome fixed after 6 passes\n",
      "Genome fixed after 0 passes\n",
      "Genome fixed after 0 passes\n",
      "Genome fixed after 0 passes\n",
      "Genome fully rebuilt\n",
      "Genome fully rebuilt\n",
      "Genome fixed after 0 passes\n",
      "Genome fully rebuilt\n",
      "Genome fully rebuilt\n"
     ]
    },
    {
     "name": "stderr",
     "output_type": "stream",
     "text": []
    },
    {
     "name": "stdout",
     "output_type": "stream",
     "text": [
      "Genome fully rebuilt\n",
      "Genome fixed after 2 passes\n",
      "Genome fixed after 0 passes\n",
      "Genome fully rebuilt\n",
      "Genome fully rebuilt\n",
      "Genome fully rebuilt\n",
      "Genome fixed after 0 passes\n",
      "Genome fully rebuilt\n",
      "Genome fixed after 0 passes\n",
      "Genome fixed after 0 passes\n",
      "Genome fully rebuilt\n",
      "Genome fully rebuilt\n",
      "Genome fully rebuilt\n",
      "Genome fixed after 2 passes\n",
      "Genome fixed after 0 passes\n",
      "Genome fixed after 0 passes\n",
      "Genome fully rebuilt\n",
      "Genome fully rebuilt\n",
      "Genome fixed after 0 passes\n",
      "Genome fixed after 0 passes\n",
      "Genome fixed after 0 passes\n",
      "Genome fully rebuilt\n",
      "Genome fully rebuilt\n",
      "Genome fully rebuilt\n",
      "Genome fixed after 0 passes\n",
      "Genome fully rebuilt\n",
      "Genome fully rebuilt\n",
      "Genome fixed after 5 passes\n",
      "Genome fully rebuilt\n",
      "Genome fully rebuilt\n",
      "Genome fixed after 0 passes\n",
      "Genome fully rebuilt\n",
      "Genome fixed after 1 passes\n"
     ]
    },
    {
     "name": "stderr",
     "output_type": "stream",
     "text": []
    },
    {
     "name": "stdout",
     "output_type": "stream",
     "text": [
      "Genome fixed after 0 passes\n",
      "Genome fixed after 0 passes\n",
      "Genome fixed after 0 passes\n",
      "Genome fixed after 4 passes\n",
      "Genome fixed after 1 passes\n",
      "Genome fixed after 2 passes\n",
      "Genome fixed after 2 passes\n",
      "Genome fully rebuilt\n",
      "Genome fixed after 5 passes\n",
      "Genome fixed after 0 passes\n",
      "Genome fixed after 5 passes\n",
      "Genome fixed after 3 passes\n",
      "Genome fully rebuilt\n",
      "Genome fixed after 2 passes\n",
      "Genome fully rebuilt\n",
      "Genome fixed after 0 passes\n",
      "Genome fully rebuilt\n",
      "Genome fixed after 1 passes\n",
      "Genome fully rebuilt\n",
      "Genome fixed after 0 passes\n",
      "Genome fixed after 0 passes\n",
      "Genome fixed after 6 passes\n",
      "Genome fixed after 0 passes\n",
      "Genome fixed after 2 passes\n",
      "Genome fixed after 4 passes\n",
      "Genome fully rebuilt\n",
      "Genome fixed after 1 passes\n",
      "Genome fixed after 4 passes\n",
      "Genome fixed after 0 passes\n",
      "Genome fixed after 0 passes\n",
      "Genome fully rebuilt\n",
      "Genome fully rebuilt\n",
      "Genome fixed after 0 passes\n",
      "Genome fixed after 0 passes\n",
      "Genome fixed after 0 passes\n",
      "Genome fixed after 0 passes\n",
      "Genome fixed after 7 passes\n",
      "Genome fixed after 7 passes\n",
      "Genome fixed after 0 passes\n",
      "Genome fixed after 2 passes\n",
      "Genome fixed after 6 passes\n",
      "Genome fully rebuilt\n",
      "Genome fixed after 0 passes\n",
      "Genome fixed after 2 passes\n",
      "Genome fully rebuilt\n",
      "Genome fixed after 0 passes\n",
      "Genome fully rebuilt\n",
      "Genome fixed after 0 passes\n",
      "Genome fully rebuilt\n",
      "Genome fully rebuilt\n",
      "Genome fixed after 0 passes\n"
     ]
    },
    {
     "name": "stderr",
     "output_type": "stream",
     "text": []
    },
    {
     "name": "stdout",
     "output_type": "stream",
     "text": [
      "Genome fully rebuilt\n",
      "Genome fixed after 3 passes\n",
      "Genome fully rebuilt\n",
      "Genome fixed after 1 passes\n",
      "Genome fixed after 9 passes\n",
      "Genome fully rebuilt\n",
      "Genome fixed after 0 passes\n",
      "Genome fixed after 8 passes\n",
      "Genome fixed after 4 passes\n",
      "Genome fixed after 5 passes\n",
      "Genome fixed after 0 passes\n",
      "Genome fixed after 2 passes\n",
      "Genome fixed after 0 passes\n",
      "Genome fully rebuilt\n",
      "Genome fully rebuilt\n",
      "Genome fully rebuilt\n",
      "Genome fixed after 4 passes\n",
      "Genome fully rebuilt\n",
      "Genome fully rebuilt\n",
      "Genome fully rebuilt\n",
      "Genome fixed after 6 passes\n",
      "Genome fixed after 6 passes\n",
      "Genome fixed after 5 passes\n",
      "Genome fixed after 7 passes\n",
      "Genome fixed after 0 passes\n",
      "Genome fully rebuilt\n",
      "Genome fixed after 5 passes\n",
      "Genome fully rebuilt\n",
      "Genome fully rebuilt\n",
      "Genome fully rebuilt\n",
      "Genome fully rebuilt\n",
      "Genome fixed after 0 passes\n",
      "Genome fully rebuilt\n",
      "Genome fixed after 0 passes\n",
      "Genome fixed after 4 passes\n",
      "Genome fully rebuilt\n",
      "Genome fixed after 0 passes\n",
      "Genome fixed after 0 passes\n",
      "Genome fully rebuilt\n",
      "Genome fully rebuilt\n",
      "Genome fixed after 0 passes\n",
      "Genome fixed after 0 passes\n",
      "Genome fixed after 0 passes\n",
      "Genome fixed after 4 passes\n",
      "Genome fixed after 0 passes\n",
      "Genome fully rebuilt\n",
      "Genome fixed after 0 passes\n",
      "Genome fully rebuilt\n",
      "Genome fixed after 2 passes\n",
      "Genome fully rebuilt\n",
      "Genome fixed after 7 passes\n",
      "Genome fixed after 0 passes\n",
      "Genome fixed after 7 passes\n"
     ]
    },
    {
     "name": "stderr",
     "output_type": "stream",
     "text": []
    },
    {
     "name": "stdout",
     "output_type": "stream",
     "text": [
      "Genome fully rebuilt\n",
      "Genome fully rebuilt\n",
      "Genome fully rebuilt\n",
      "Genome fixed after 1 passes\n",
      "Genome fully rebuilt\n",
      "Genome fully rebuilt\n",
      "Genome fully rebuilt\n",
      "Genome fixed after 0 passes\n",
      "Genome fully rebuilt\n",
      "Genome fixed after 2 passes\n",
      "Genome fixed after 2 passes\n",
      "Genome fixed after 2 passes\n",
      "Genome fixed after 7 passes\n",
      "Genome fully rebuilt\n",
      "Genome fixed after 6 passes\n",
      "Genome fixed after 0 passes\n",
      "Genome fixed after 0 passes\n",
      "Genome fixed after 5 passes\n",
      "Genome fully rebuilt\n",
      "Genome fixed after 0 passes\n",
      "Genome fixed after 0 passes\n",
      "Genome fixed after 2 passes\n",
      "Genome fully rebuilt\n",
      "Genome fixed after 0 passes\n",
      "Genome fixed after 0 passes\n",
      "Genome fixed after 8 passes\n",
      "Genome fully rebuilt\n",
      "Genome fixed after 0 passes\n",
      "Genome fixed after 0 passes\n",
      "Genome fully rebuilt\n",
      "Genome fixed after 0 passes\n",
      "Genome fixed after 6 passes\n",
      "Genome fixed after 4 passes\n",
      "Genome fully rebuilt\n",
      "Genome fixed after 2 passes\n",
      "Genome fully rebuilt\n",
      "Genome fully rebuilt\n",
      "Genome fixed after 0 passes\n",
      "Genome fixed after 5 passes\n",
      "Genome fixed after 0 passes\n",
      "Genome fixed after 4 passes\n"
     ]
    },
    {
     "name": "stderr",
     "output_type": "stream",
     "text": []
    },
    {
     "name": "stdout",
     "output_type": "stream",
     "text": [
      "Genome fixed after 3 passes\n",
      "Genome fixed after 4 passes\n",
      "Genome fixed after 1 passes\n",
      "Genome fixed after 0 passes\n",
      "Genome fixed after 6 passes\n",
      "Genome fixed after 0 passes\n",
      "Genome fully rebuilt\n",
      "Genome fully rebuilt\n",
      "Genome fixed after 0 passes\n",
      "Genome fixed after 2 passes\n",
      "Genome fully rebuilt\n",
      "Genome fixed after 0 passes\n",
      "Genome fully rebuilt\n",
      "Genome fixed after 0 passes\n",
      "Genome fixed after 0 passes\n",
      "Genome fixed after 0 passes\n",
      "Genome fixed after 0 passes\n",
      "Genome fixed after 0 passes\n",
      "Genome fixed after 1 passes\n",
      "Genome fully rebuilt\n",
      "Genome fixed after 9 passes\n",
      "Genome fully rebuilt\n",
      "Genome fixed after 0 passes\n",
      "Genome fixed after 3 passes\n",
      "Genome fully rebuilt\n",
      "Genome fixed after 2 passes\n",
      "Genome fully rebuilt\n",
      "Genome fully rebuilt\n",
      "Genome fully rebuilt\n",
      "Genome fixed after 6 passes\n",
      "Genome fully rebuilt\n",
      "Genome fixed after 3 passes\n",
      "Genome fixed after 6 passes\n",
      "Genome fixed after 0 passes\n",
      "Genome fixed after 3 passes\n",
      "Genome fully rebuilt\n",
      "Genome fixed after 0 passes\n",
      "Genome fixed after 0 passes\n",
      "Genome fixed after 6 passes\n",
      "Genome fully rebuilt\n",
      "Genome fully rebuilt\n",
      "Genome fixed after 0 passes\n",
      "Genome fully rebuilt\n",
      "Genome fully rebuilt\n"
     ]
    },
    {
     "name": "stderr",
     "output_type": "stream",
     "text": []
    },
    {
     "name": "stdout",
     "output_type": "stream",
     "text": [
      "Genome fixed after 0 passes\n",
      "Genome fully rebuilt\n",
      "Genome fully rebuilt\n",
      "Genome fully rebuilt\n",
      "Genome fully rebuilt\n",
      "Genome fixed after 0 passes\n",
      "Genome fixed after 7 passes\n",
      "Genome fully rebuilt\n",
      "Genome fixed after 2 passes\n",
      "Genome fixed after 0 passes\n",
      "Genome fixed after 1 passes\n",
      "Genome fixed after 1 passes\n",
      "Genome fully rebuilt\n",
      "Genome fully rebuilt\n",
      "Genome fully rebuilt\n",
      "Genome fixed after 6 passes\n",
      "Genome fixed after 0 passes\n",
      "Genome fully rebuilt\n",
      "Genome fully rebuilt\n",
      "Genome fully rebuilt\n",
      "Genome fully rebuilt\n",
      "Genome fixed after 0 passes\n",
      "Genome fixed after 6 passes\n"
     ]
    },
    {
     "name": "stderr",
     "output_type": "stream",
     "text": []
    },
    {
     "name": "stdout",
     "output_type": "stream",
     "text": [
      "Genome fully rebuilt\n",
      "Genome fully rebuilt\n",
      "Genome fixed after 7 passes\n",
      "Genome fully rebuilt\n",
      "Genome fully rebuilt\n",
      "Genome fully rebuilt\n",
      "Genome fixed after 3 passes\n",
      "Genome fixed after 0 passes\n",
      "Genome fully rebuilt\n",
      "Genome fully rebuilt\n",
      "Genome fixed after 0 passes\n",
      "Genome fully rebuilt\n",
      "Genome fully rebuilt\n",
      "Genome fixed after 0 passes\n",
      "Genome fixed after 3 passes\n",
      "Genome fixed after 2 passes\n",
      "Genome fixed after 0 passes\n",
      "Genome fully rebuilt\n",
      "Genome fixed after 0 passes\n",
      "Genome fixed after 0 passes\n"
     ]
    },
    {
     "name": "stderr",
     "output_type": "stream",
     "text": []
    },
    {
     "name": "stdout",
     "output_type": "stream",
     "text": [
      "Genome fixed after 0 passes\n",
      "Genome fixed after 0 passes\n",
      "Genome fixed after 0 passes\n",
      "Genome fixed after 0 passes\n",
      "Genome fixed after 0 passes\n",
      "Genome fully rebuilt\n",
      "Genome fixed after 0 passes\n",
      "Genome fixed after 0 passes\n",
      "Genome fixed after 0 passes\n",
      "Genome fixed after 6 passes\n",
      "Genome fixed after 0 passes\n",
      "Genome fully rebuilt\n",
      "Genome fully rebuilt\n",
      "Genome fully rebuilt\n",
      "Genome fixed after 1 passes\n",
      "Genome fully rebuilt\n",
      "Genome fixed after 2 passes\n",
      "Genome fixed after 0 passes\n",
      "Genome fixed after 0 passes\n",
      "Genome fully rebuilt\n",
      "Genome fully rebuilt\n",
      "Genome fixed after 3 passes\n",
      "Genome fully rebuilt\n",
      "Genome fully rebuilt\n",
      "Genome fixed after 0 passes\n",
      "Genome fixed after 4 passes\n",
      "Genome fixed after 0 passes\n",
      "Genome fully rebuilt\n",
      "Genome fully rebuilt\n",
      "Genome fixed after 0 passes\n",
      "Genome fixed after 0 passes\n",
      "Genome fixed after 0 passes\n",
      "Genome fixed after 7 passes\n",
      "Genome fixed after 0 passes\n",
      "Genome fixed after 0 passes\n",
      "Genome fixed after 6 passes\n",
      "Genome fully rebuilt\n",
      "Genome fixed after 0 passes\n",
      "Genome fixed after 5 passes\n",
      "Genome fixed after 0 passes\n",
      "Genome fixed after 4 passes\n",
      "Genome fully rebuilt\n",
      "Genome fully rebuilt\n",
      "Genome fixed after 0 passes\n",
      "Genome fixed after 2 passes\n"
     ]
    },
    {
     "name": "stderr",
     "output_type": "stream",
     "text": []
    },
    {
     "name": "stdout",
     "output_type": "stream",
     "text": [
      "Genome fully rebuilt\n",
      "Genome fully rebuilt\n",
      "Genome fully rebuilt\n",
      "Genome fixed after 0 passes\n",
      "Genome fixed after 1 passes\n",
      "Genome fixed after 0 passes\n",
      "Genome fully rebuilt\n",
      "Genome fixed after 0 passes\n",
      "Genome fixed after 2 passes\n",
      "Genome fixed after 0 passes\n",
      "Genome fixed after 0 passes\n",
      "Genome fully rebuilt\n",
      "Genome fully rebuilt\n",
      "Genome fully rebuilt\n",
      "Genome fixed after 0 passes\n",
      "Genome fixed after 3 passes\n",
      "Genome fixed after 0 passes\n",
      "Genome fixed after 6 passes\n",
      "Genome fixed after 0 passes\n",
      "Genome fixed after 3 passes\n",
      "Genome fully rebuilt\n"
     ]
    },
    {
     "name": "stderr",
     "output_type": "stream",
     "text": []
    },
    {
     "name": "stdout",
     "output_type": "stream",
     "text": [
      "Genome fixed after 2 passes\n",
      "Genome fixed after 0 passes\n",
      "Genome fully rebuilt\n",
      "Genome fixed after 7 passes\n",
      "Genome fully rebuilt\n",
      "Genome fixed after 2 passes\n",
      "Genome fully rebuilt\n",
      "Genome fixed after 0 passes\n",
      "Genome fixed after 0 passes\n",
      "Genome fixed after 0 passes\n",
      "Genome fixed after 0 passes\n",
      "Genome fixed after 0 passes\n",
      "Genome fully rebuilt\n",
      "Genome fully rebuilt\n",
      "Genome fixed after 0 passes\n",
      "Genome fixed after 0 passes\n",
      "Genome fully rebuilt\n",
      "Genome fully rebuilt\n",
      "Genome fixed after 0 passes\n",
      "Genome fixed after 0 passes\n",
      "Genome fixed after 7 passes\n",
      "Genome fully rebuilt\n",
      "Genome fixed after 0 passes\n",
      "Genome fixed after 0 passes\n",
      "Genome fully rebuilt\n",
      "Genome fixed after 0 passes\n",
      "Genome fixed after 4 passes\n",
      "Genome fixed after 1 passes\n",
      "Genome fully rebuilt\n",
      "Genome fully rebuilt\n",
      "Genome fixed after 4 passes\n",
      "Genome fully rebuilt\n",
      "Genome fully rebuilt\n",
      "Genome fully rebuilt\n",
      "Genome fixed after 4 passes\n"
     ]
    },
    {
     "name": "stderr",
     "output_type": "stream",
     "text": []
    },
    {
     "name": "stdout",
     "output_type": "stream",
     "text": [
      "Genome fully rebuilt\n",
      "Genome fully rebuilt\n",
      "Genome fixed after 0 passes\n",
      "Genome fixed after 0 passes\n",
      "Genome fixed after 0 passes\n",
      "Genome fixed after 1 passes\n",
      "Genome fixed after 0 passes\n",
      "Genome fully rebuilt\n",
      "Genome fixed after 9 passes\n",
      "Genome fixed after 7 passes\n",
      "Genome fixed after 0 passes\n",
      "Genome fixed after 7 passes\n",
      "Genome fixed after 7 passes\n",
      "Genome fixed after 1 passes\n",
      "Genome fixed after 3 passes\n",
      "Genome fixed after 0 passes\n",
      "Genome fully rebuilt\n",
      "Genome fully rebuilt\n",
      "Genome fully rebuilt\n",
      "Genome fully rebuilt\n",
      "Genome fully rebuilt\n",
      "Genome fixed after 0 passes\n",
      "Genome fixed after 0 passes\n",
      "Genome fixed after 1 passes\n",
      "Genome fully rebuilt\n",
      "Genome fixed after 2 passes\n",
      "Genome fully rebuilt\n"
     ]
    },
    {
     "name": "stderr",
     "output_type": "stream",
     "text": []
    },
    {
     "name": "stdout",
     "output_type": "stream",
     "text": [
      "Genome fixed after 0 passes\n",
      "Genome fully rebuilt\n",
      "Genome fixed after 0 passes\n",
      "Genome fixed after 0 passes\n",
      "Genome fully rebuilt\n",
      "Genome fixed after 1 passes\n",
      "Genome fixed after 0 passes\n",
      "Genome fixed after 1 passes\n",
      "Genome fully rebuilt\n",
      "Genome fixed after 4 passes\n",
      "Genome fully rebuilt\n",
      "Genome fixed after 3 passes\n",
      "Genome fixed after 0 passes\n",
      "Genome fixed after 0 passes\n",
      "Genome fixed after 0 passes\n",
      "Genome fixed after 3 passes\n",
      "Genome fixed after 0 passes\n",
      "Genome fully rebuilt\n",
      "Genome fixed after 0 passes\n",
      "Genome fixed after 0 passes\n",
      "Genome fixed after 0 passes\n",
      "Genome fixed after 4 passes\n",
      "Genome fixed after 3 passes\n",
      "Genome fully rebuilt\n",
      "Genome fully rebuilt\n",
      "Genome fixed after 0 passes\n",
      "Genome fully rebuilt\n",
      "Genome fixed after 1 passes\n",
      "Genome fully rebuilt\n",
      "Genome fixed after 0 passes\n",
      "Genome fully rebuilt\n",
      "Genome fixed after 0 passes\n",
      "Genome fixed after 4 passes\n",
      "Genome fixed after 0 passes\n"
     ]
    },
    {
     "name": "stderr",
     "output_type": "stream",
     "text": []
    },
    {
     "name": "stdout",
     "output_type": "stream",
     "text": [
      "Genome fixed after 5 passes\n",
      "Genome fixed after 0 passes\n",
      "Genome fixed after 5 passes\n",
      "Genome fully rebuilt\n",
      "Genome fixed after 0 passes\n",
      "Genome fixed after 5 passes\n",
      "Genome fixed after 0 passes\n",
      "Genome fully rebuilt\n",
      "Genome fully rebuilt\n",
      "Genome fully rebuilt\n",
      "Genome fixed after 3 passes\n",
      "Genome fixed after 0 passes\n",
      "Genome fixed after 0 passes\n",
      "Genome fully rebuilt\n",
      "Genome fixed after 5 passes\n",
      "Genome fixed after 0 passes\n",
      "Genome fully rebuilt\n",
      "Genome fixed after 0 passes\n",
      "Genome fixed after 0 passes\n",
      "Genome fixed after 1 passes\n",
      "Genome fixed after 5 passes\n",
      "Genome fixed after 9 passes\n",
      "Genome fixed after 0 passes\n",
      "Genome fully rebuilt\n",
      "Genome fixed after 6 passes\n",
      "Genome fully rebuilt\n",
      "Genome fixed after 4 passes\n",
      "Genome fully rebuilt\n",
      "Genome fixed after 1 passes\n",
      "Genome fixed after 0 passes\n",
      "Genome fixed after 2 passes\n",
      "Genome fixed after 2 passes\n",
      "Genome fully rebuilt\n"
     ]
    },
    {
     "name": "stderr",
     "output_type": "stream",
     "text": []
    },
    {
     "name": "stdout",
     "output_type": "stream",
     "text": [
      "Genome fixed after 0 passes\n",
      "Genome fixed after 0 passes\n",
      "Genome fully rebuilt\n",
      "Genome fixed after 0 passes\n",
      "Genome fixed after 0 passes\n",
      "Genome fixed after 0 passes\n",
      "Genome fixed after 9 passes\n",
      "Genome fully rebuilt\n",
      "Genome fixed after 0 passes\n",
      "Genome fully rebuilt\n",
      "Genome fully rebuilt\n",
      "Genome fixed after 0 passes\n",
      "Genome fixed after 9 passes\n",
      "Genome fixed after 0 passes\n",
      "Genome fixed after 4 passes\n",
      "Genome fixed after 7 passes\n",
      "Genome fixed after 7 passes\n",
      "Genome fully rebuilt\n",
      "Genome fixed after 0 passes\n",
      "Genome fixed after 0 passes\n",
      "Genome fixed after 0 passes\n",
      "Genome fixed after 9 passes\n",
      "Genome fully rebuilt\n",
      "Genome fixed after 0 passes\n",
      "Genome fixed after 2 passes\n",
      "Genome fixed after 0 passes\n",
      "Genome fixed after 1 passes\n",
      "Genome fixed after 0 passes\n",
      "Genome fixed after 0 passes\n",
      "Genome fully rebuilt\n",
      "Genome fixed after 1 passes\n",
      "Genome fixed after 2 passes\n",
      "Genome fixed after 0 passes\n",
      "Genome fixed after 6 passes\n",
      "Genome fully rebuilt\n",
      "Genome fixed after 1 passes\n",
      "Genome fixed after 5 passes\n",
      "Genome fixed after 2 passes\n",
      "Genome fixed after 8 passes\n",
      "Genome fixed after 0 passes\n",
      "Genome fully rebuilt\n",
      "Genome fixed after 6 passes\n",
      "Genome fully rebuilt\n",
      "Genome fully rebuilt\n",
      "Genome fixed after 0 passes\n",
      "Genome fixed after 4 passes\n",
      "Genome fully rebuilt\n",
      "Genome fully rebuilt\n",
      "Genome fully rebuilt\n",
      "Genome fixed after 2 passes\n",
      "Genome fixed after 0 passes\n",
      "Genome fixed after 0 passes\n",
      "Genome fixed after 3 passes\n",
      "Genome fixed after 0 passes\n",
      "Genome fixed after 0 passes\n",
      "Genome fixed after 1 passes\n",
      "Genome fixed after 2 passes\n",
      "Genome fully rebuilt\n",
      "Genome fixed after 2 passes\n",
      "Genome fixed after 9 passes\n",
      "Genome fully rebuilt\n"
     ]
    },
    {
     "name": "stderr",
     "output_type": "stream",
     "text": []
    },
    {
     "name": "stdout",
     "output_type": "stream",
     "text": [
      "Genome fully rebuilt\n",
      "Genome fixed after 0 passes\n",
      "Genome fixed after 1 passes\n",
      "Genome fixed after 3 passes\n",
      "Genome fully rebuilt\n",
      "Genome fixed after 0 passes\n",
      "Genome fixed after 9 passes\n",
      "Genome fixed after 5 passes\n",
      "Genome fixed after 0 passes\n",
      "Genome fixed after 0 passes\n",
      "Genome fixed after 0 passes\n",
      "Genome fixed after 3 passes\n",
      "Genome fixed after 0 passes\n",
      "Genome fully rebuilt\n",
      "Genome fixed after 5 passes\n",
      "Genome fixed after 0 passes\n",
      "Genome fixed after 7 passes\n",
      "Genome fixed after 0 passes\n",
      "Genome fixed after 2 passes\n",
      "Genome fully rebuilt\n",
      "Genome fully rebuilt\n",
      "Genome fully rebuilt\n",
      "Genome fully rebuilt\n",
      "Genome fully rebuilt\n",
      "Genome fully rebuilt\n",
      "Genome fixed after 2 passes\n",
      "Genome fully rebuilt\n"
     ]
    },
    {
     "name": "stderr",
     "output_type": "stream",
     "text": []
    },
    {
     "name": "stdout",
     "output_type": "stream",
     "text": [
      "Genome fully rebuilt\n",
      "Genome fully rebuilt\n",
      "Genome fixed after 0 passes\n",
      "Genome fully rebuilt\n",
      "Genome fully rebuilt\n",
      "Genome fully rebuilt\n",
      "Genome fully rebuilt\n",
      "Genome fixed after 3 passes\n",
      "Genome fully rebuilt\n",
      "Genome fully rebuilt\n",
      "Genome fixed after 0 passes\n",
      "Genome fixed after 0 passes\n",
      "Genome fixed after 0 passes\n",
      "Genome fully rebuilt\n",
      "Genome fixed after 3 passes\n",
      "Genome fully rebuilt\n",
      "Genome fixed after 1 passes\n",
      "Genome fixed after 1 passes\n",
      "Genome fixed after 0 passes\n",
      "Genome fixed after 7 passes\n",
      "Genome fixed after 0 passes\n",
      "Genome fixed after 3 passes\n",
      "Genome fully rebuilt\n",
      "Genome fixed after 4 passes\n",
      "Genome fixed after 1 passes\n",
      "Genome fixed after 2 passes\n",
      "Genome fixed after 0 passes\n",
      "Genome fixed after 1 passes\n",
      "Genome fixed after 3 passes\n",
      "Genome fixed after 0 passes\n",
      "Genome fixed after 2 passes\n",
      "Genome fixed after 0 passes\n",
      "Genome fixed after 0 passes\n",
      "Genome fixed after 0 passes\n",
      "Genome fixed after 0 passes\n"
     ]
    },
    {
     "name": "stderr",
     "output_type": "stream",
     "text": []
    },
    {
     "name": "stdout",
     "output_type": "stream",
     "text": [
      "Genome fixed after 7 passes\n",
      "Genome fixed after 5 passes\n",
      "Genome fully rebuilt\n",
      "Genome fully rebuilt\n",
      "Genome fully rebuilt\n",
      "Genome fully rebuilt\n",
      "Genome fixed after 0 passes\n",
      "Genome fully rebuilt\n",
      "Genome fixed after 0 passes\n",
      "Genome fixed after 0 passes\n",
      "Genome fixed after 8 passes\n",
      "Genome fixed after 2 passes\n",
      "Genome fully rebuilt\n",
      "Genome fully rebuilt\n",
      "Genome fully rebuilt\n",
      "Genome fixed after 0 passes\n",
      "Genome fully rebuilt\n",
      "Genome fixed after 4 passes\n",
      "Genome fully rebuilt\n",
      "Genome fully rebuilt\n",
      "Genome fixed after 0 passes\n",
      "Genome fixed after 0 passes\n",
      "Genome fixed after 0 passes\n",
      "Genome fixed after 1 passes\n",
      "Genome fixed after 0 passes\n",
      "Genome fixed after 7 passes\n",
      "Genome fully rebuilt\n",
      "Genome fixed after 0 passes\n"
     ]
    },
    {
     "name": "stderr",
     "output_type": "stream",
     "text": []
    },
    {
     "name": "stdout",
     "output_type": "stream",
     "text": [
      "Genome fully rebuilt\n",
      "Genome fixed after 0 passes\n",
      "Genome fixed after 0 passes\n",
      "Genome fixed after 0 passes\n",
      "Genome fully rebuilt\n",
      "Genome fixed after 6 passes\n",
      "Genome fixed after 0 passes\n",
      "Genome fully rebuilt\n",
      "Genome fixed after 0 passes\n",
      "Genome fixed after 3 passes\n",
      "Genome fixed after 4 passes\n",
      "Genome fully rebuilt\n",
      "Genome fixed after 2 passes\n",
      "Genome fully rebuilt\n",
      "Genome fully rebuilt\n",
      "Genome fixed after 1 passes\n",
      "Genome fixed after 0 passes\n",
      "Genome fixed after 1 passes\n",
      "Genome fixed after 0 passes\n",
      "Genome fully rebuilt\n",
      "Genome fully rebuilt\n",
      "Genome fixed after 0 passes\n",
      "Genome fixed after 2 passes\n",
      "Genome fully rebuilt\n",
      "Genome fixed after 8 passes\n",
      "Genome fixed after 0 passes\n",
      "Genome fully rebuilt\n",
      "Genome fixed after 4 passes\n",
      "Genome fully rebuilt\n",
      "Genome fully rebuilt\n",
      "Genome fixed after 4 passes\n",
      "Genome fixed after 0 passes\n",
      "Genome fixed after 2 passes\n",
      "Genome fully rebuilt\n",
      "Genome fixed after 0 passes\n",
      "Genome fixed after 9 passes\n",
      "Genome fixed after 2 passes\n",
      "Genome fully rebuilt\n",
      "Genome fixed after 3 passes\n",
      "Genome fully rebuilt\n",
      "Genome fixed after 0 passes\n",
      "Genome fully rebuilt\n",
      "Genome fully rebuilt\n",
      "Genome fixed after 6 passes\n",
      "Genome fixed after 0 passes\n",
      "Genome fixed after 1 passes\n",
      "Genome fully rebuilt\n",
      "Genome fixed after 2 passes\n"
     ]
    },
    {
     "name": "stderr",
     "output_type": "stream",
     "text": []
    },
    {
     "name": "stdout",
     "output_type": "stream",
     "text": [
      "Genome fully rebuilt\n",
      "Genome fixed after 0 passes\n",
      "Genome fixed after 0 passes\n",
      "Genome fixed after 0 passes\n",
      "Genome fixed after 0 passes\n",
      "Genome fully rebuilt\n",
      "Genome fully rebuilt\n",
      "Genome fully rebuilt\n",
      "Genome fully rebuilt\n",
      "Genome fully rebuilt\n",
      "Genome fully rebuilt\n",
      "Genome fully rebuilt\n",
      "Genome fully rebuilt\n",
      "Genome fixed after 0 passes\n",
      "Genome fixed after 5 passes\n",
      "Genome fully rebuilt\n",
      "Genome fixed after 0 passes\n",
      "Genome fixed after 0 passes\n",
      "Genome fixed after 6 passes\n",
      "Genome fixed after 0 passes\n",
      "Genome fixed after 1 passes\n",
      "Genome fixed after 0 passes\n",
      "Genome fixed after 1 passes\n",
      "Genome fully rebuilt\n",
      "Genome fully rebuilt\n",
      "Genome fully rebuilt\n",
      "Genome fully rebuilt\n",
      "Genome fully rebuilt\n",
      "Genome fixed after 0 passes\n",
      "Genome fixed after 8 passes\n",
      "Genome fully rebuilt\n",
      "Genome fixed after 0 passes\n",
      "Genome fixed after 0 passes\n",
      "Genome fully rebuilt\n",
      "Genome fully rebuilt\n",
      "Genome fixed after 0 passes\n",
      "Genome fixed after 0 passes\n",
      "Genome fixed after 3 passes\n",
      "Genome fully rebuilt\n",
      "Genome fixed after 0 passes\n",
      "Genome fully rebuilt\n",
      "Genome fixed after 3 passes\n",
      "Genome fully rebuilt\n",
      "Genome fully rebuilt\n"
     ]
    },
    {
     "name": "stderr",
     "output_type": "stream",
     "text": [
      "Runnig genetic alogrithm:  36%|███▌      | 36/100 [00:54<01:37,  1.52s/ generation]\n",
      "Running grid search:   6%|▌         | 11/192 [12:15<3:21:50, 66.91s/ combination] \n"
     ]
    },
    {
     "ename": "KeyboardInterrupt",
     "evalue": "",
     "output_type": "error",
     "traceback": [
      "\u001b[31m---------------------------------------------------------------------------\u001b[39m",
      "\u001b[31mKeyboardInterrupt\u001b[39m                         Traceback (most recent call last)",
      "\u001b[36mCell\u001b[39m\u001b[36m \u001b[39m\u001b[32mIn[4]\u001b[39m\u001b[32m, line 37\u001b[39m\n\u001b[32m     33\u001b[39m         results.append((params, best_solution, logs_df))\n\u001b[32m     35\u001b[39m     \u001b[38;5;28;01mreturn\u001b[39;00m results    \n\u001b[32m---> \u001b[39m\u001b[32m37\u001b[39m results = \u001b[43mrun_grid_search\u001b[49m\u001b[43m(\u001b[49m\u001b[43mparameter_grids\u001b[49m\u001b[43m)\u001b[49m\n",
      "\u001b[36mCell\u001b[39m\u001b[36m \u001b[39m\u001b[32mIn[4]\u001b[39m\u001b[32m, line 32\u001b[39m, in \u001b[36mrun_grid_search\u001b[39m\u001b[34m(parameter_grids)\u001b[39m\n\u001b[32m     29\u001b[39m combinations = [\u001b[38;5;28mdict\u001b[39m(\u001b[38;5;28mzip\u001b[39m(keys, v)) \u001b[38;5;28;01mfor\u001b[39;00m v \u001b[38;5;129;01min\u001b[39;00m itertools.product(*values)]\n\u001b[32m     31\u001b[39m \u001b[38;5;28;01mfor\u001b[39;00m params \u001b[38;5;129;01min\u001b[39;00m tqdm.tqdm(combinations, desc=\u001b[33m\"\u001b[39m\u001b[33mRunning grid search\u001b[39m\u001b[33m\"\u001b[39m, unit=\u001b[33m\"\u001b[39m\u001b[33m combination\u001b[39m\u001b[33m\"\u001b[39m):\n\u001b[32m---> \u001b[39m\u001b[32m32\u001b[39m     best_solution, logs_df = \u001b[43mgenetic_algorithm\u001b[49m\u001b[43m(\u001b[49m\u001b[43m*\u001b[49m\u001b[43m*\u001b[49m\u001b[43mparams\u001b[49m\u001b[43m)\u001b[49m\n\u001b[32m     33\u001b[39m     results.append((params, best_solution, logs_df))\n\u001b[32m     35\u001b[39m \u001b[38;5;28;01mreturn\u001b[39;00m results\n",
      "\u001b[36mCell\u001b[39m\u001b[36m \u001b[39m\u001b[32mIn[3]\u001b[39m\u001b[32m, line 93\u001b[39m, in \u001b[36mgenetic_algorithm\u001b[39m\u001b[34m(gen_count, selection_algorithm, mutation_algorithms, crossover_algorithms, fitness_instance, Genome_class, maximization, xo_prob, mut_prob, social_mutation_prob, social_crossover_prob, population_size, elitism, save_logs)\u001b[39m\n\u001b[32m     90\u001b[39m \u001b[38;5;28;01mif\u001b[39;00m save_logs:\n\u001b[32m     92\u001b[39m     n_fitness_calls = fitness_instance.number_of_calls\n\u001b[32m---> \u001b[39m\u001b[32m93\u001b[39m     best_individual_of_generation = \u001b[38;5;28mmin\u001b[39m(GA_population) \u001b[38;5;28;01mif\u001b[39;00m \u001b[38;5;129;01mnot\u001b[39;00m maximization \u001b[38;5;28;01melse\u001b[39;00m \u001b[38;5;28;43mmax\u001b[39;49m\u001b[43m(\u001b[49m\u001b[43mGA_population\u001b[49m\u001b[43m)\u001b[49m\n\u001b[32m     94\u001b[39m     best_logistic_fitness = fitness_instance._calculate_logistic_fitness(best_individual_of_generation.genome)\n\u001b[32m     95\u001b[39m     best_social_fitness = fitness_instance._calculate_social_fitness(best_individual_of_generation.genome)\n",
      "\u001b[36mFile \u001b[39m\u001b[32m~/Gen_Alg1_RunningDinner/Genetic_algorithm/base_individual.py:122\u001b[39m, in \u001b[36mIndividual.__gt__\u001b[39m\u001b[34m(self, other)\u001b[39m\n\u001b[32m    121\u001b[39m \u001b[38;5;28;01mdef\u001b[39;00m\u001b[38;5;250m \u001b[39m\u001b[34m__gt__\u001b[39m(\u001b[38;5;28mself\u001b[39m, other):\n\u001b[32m--> \u001b[39m\u001b[32m122\u001b[39m     \u001b[38;5;28;01mreturn\u001b[39;00m \u001b[38;5;28;43mfloat\u001b[39;49m\u001b[43m(\u001b[49m\u001b[38;5;28;43mself\u001b[39;49m\u001b[43m)\u001b[49m > \u001b[38;5;28mfloat\u001b[39m(other)\n",
      "\u001b[36mFile \u001b[39m\u001b[32m~/Gen_Alg1_RunningDinner/Genetic_algorithm/base_individual.py:104\u001b[39m, in \u001b[36mIndividual.__float__\u001b[39m\u001b[34m(self)\u001b[39m\n\u001b[32m    103\u001b[39m \u001b[38;5;28;01mdef\u001b[39;00m\u001b[38;5;250m \u001b[39m\u001b[34m__float__\u001b[39m(\u001b[38;5;28mself\u001b[39m):\n\u001b[32m--> \u001b[39m\u001b[32m104\u001b[39m     \u001b[38;5;28;01mreturn\u001b[39;00m \u001b[38;5;28mfloat\u001b[39m(\u001b[38;5;28mself\u001b[39m.fitness) \u001b[38;5;28;01mif\u001b[39;00m \u001b[38;5;28;43mself\u001b[39;49m\u001b[43m.\u001b[49m\u001b[43mfitness\u001b[49m \u001b[38;5;129;01mis\u001b[39;00m \u001b[38;5;129;01mnot\u001b[39;00m \u001b[38;5;28;01mNone\u001b[39;00m \u001b[38;5;28;01melse\u001b[39;00m \u001b[38;5;28mfloat\u001b[39m(\u001b[33m'\u001b[39m\u001b[33m-inf\u001b[39m\u001b[33m'\u001b[39m)\n",
      "\u001b[36mFile \u001b[39m\u001b[32m~/Gen_Alg1_RunningDinner/Genetic_algorithm/base_individual.py:50\u001b[39m, in \u001b[36mIndividual.fitness\u001b[39m\u001b[34m(self)\u001b[39m\n\u001b[32m     47\u001b[39m \u001b[38;5;129m@property\u001b[39m\n\u001b[32m     48\u001b[39m \u001b[38;5;28;01mdef\u001b[39;00m\u001b[38;5;250m \u001b[39m\u001b[34mfitness\u001b[39m(\u001b[38;5;28mself\u001b[39m):\n\u001b[32m     49\u001b[39m     \u001b[38;5;28;01mif\u001b[39;00m \u001b[38;5;28mself\u001b[39m._fitness \u001b[38;5;129;01mis\u001b[39;00m \u001b[38;5;28;01mNone\u001b[39;00m:\n\u001b[32m---> \u001b[39m\u001b[32m50\u001b[39m         \u001b[38;5;28mself\u001b[39m._fitness = \u001b[38;5;28;43mself\u001b[39;49m\u001b[43m.\u001b[49m\u001b[43mcalculate_fitness\u001b[49m\u001b[43m(\u001b[49m\u001b[43m)\u001b[49m  \u001b[38;5;66;03m# Only calculate when needed but once it is calculated it is stored\u001b[39;00m\n\u001b[32m     51\u001b[39m     \u001b[38;5;28;01mreturn\u001b[39;00m \u001b[38;5;28mself\u001b[39m._fitness\n",
      "\u001b[36mFile \u001b[39m\u001b[32m~/Gen_Alg1_RunningDinner/Genetic_algorithm/solution_rd.py:58\u001b[39m, in \u001b[36mSolutionRD.calculate_fitness\u001b[39m\u001b[34m(self)\u001b[39m\n\u001b[32m     57\u001b[39m \u001b[38;5;28;01mdef\u001b[39;00m\u001b[38;5;250m \u001b[39m\u001b[34mcalculate_fitness\u001b[39m(\u001b[38;5;28mself\u001b[39m):\n\u001b[32m---> \u001b[39m\u001b[32m58\u001b[39m     result = \u001b[38;5;28;43mself\u001b[39;49m\u001b[43m.\u001b[49m\u001b[43mfitness_instance\u001b[49m\u001b[43m.\u001b[49m\u001b[43mevaluate\u001b[49m\u001b[43m(\u001b[49m\u001b[38;5;28;43mself\u001b[39;49m\u001b[43m.\u001b[49m\u001b[43mgenome\u001b[49m\u001b[43m)\u001b[49m\n\u001b[32m     59\u001b[39m     \u001b[38;5;28;01mreturn\u001b[39;00m result\n",
      "\u001b[36mFile \u001b[39m\u001b[32m~/Gen_Alg1_RunningDinner/Genetic_algorithm/fitness.py:33\u001b[39m, in \u001b[36mResourceFitness.evaluate\u001b[39m\u001b[34m(self, genome)\u001b[39m\n\u001b[32m     30\u001b[39m \u001b[38;5;28;01mdef\u001b[39;00m\u001b[38;5;250m \u001b[39m\u001b[34mevaluate\u001b[39m(\u001b[38;5;28mself\u001b[39m, genome):\n\u001b[32m     32\u001b[39m     social_score = \u001b[38;5;28mself\u001b[39m._calculate_social_fitness(genome)\n\u001b[32m---> \u001b[39m\u001b[32m33\u001b[39m     logistic_score = \u001b[38;5;28;43mself\u001b[39;49m\u001b[43m.\u001b[49m\u001b[43m_calculate_logistic_fitness\u001b[49m\u001b[43m(\u001b[49m\u001b[43mgenome\u001b[49m\u001b[43m)\u001b[49m\n\u001b[32m     34\u001b[39m     \u001b[38;5;28mself\u001b[39m.number_of_calls += \u001b[32m1\u001b[39m\n\u001b[32m     35\u001b[39m     \u001b[38;5;28;01mreturn\u001b[39;00m \u001b[38;5;28mself\u001b[39m.alpha * social_score + \u001b[38;5;28mself\u001b[39m.beta * logistic_score\n",
      "\u001b[36mFile \u001b[39m\u001b[32m~/Gen_Alg1_RunningDinner/Genetic_algorithm/fitness.py:118\u001b[39m, in \u001b[36mResourceFitness._calculate_logistic_fitness\u001b[39m\u001b[34m(self, genome)\u001b[39m\n\u001b[32m    116\u001b[39m         \u001b[38;5;28;01mif\u001b[39;00m a > b:\n\u001b[32m    117\u001b[39m             a, b = b, a\n\u001b[32m--> \u001b[39m\u001b[32m118\u001b[39m         total_distance += \u001b[38;5;28mself\u001b[39m.data_matrix[a, b]\n\u001b[32m    120\u001b[39m \u001b[38;5;28;01mif\u001b[39;00m total_distance <= \u001b[32m0\u001b[39m:\n\u001b[32m    121\u001b[39m     \u001b[38;5;28;01mreturn\u001b[39;00m \u001b[38;5;28mfloat\u001b[39m(\u001b[33m\"\u001b[39m\u001b[33minf\u001b[39m\u001b[33m\"\u001b[39m)\n",
      "\u001b[31mKeyboardInterrupt\u001b[39m: "
     ]
    }
   ],
   "source": [
    "import itertools\n",
    "\n",
    "\n",
    "parameter_grids = {\n",
    "    \n",
    "    'gen_count': [100],\n",
    "    'selection_algorithm': [tournament_selection, rank_selection],\n",
    "    'mutation_algorithms': [[logistic_mutation, social_mutation], [logistic_mutation_2, social_mutation]],\n",
    "    'crossover_algorithms': [[logistic_crossover_2, logistic_crossover_2], [full_crossover,full_crossover]],\n",
    "    'fitness_instance': [my_fitness],\n",
    "    'Genome_class': [Genome],\n",
    "    'maximization': [True],\n",
    "    'xo_prob': [0.2, 0.8],\n",
    "    'mut_prob': [0.2, 0.8],\n",
    "    'social_mutation_prob': [0.5],\n",
    "    'social_crossover_prob': [0.5],\n",
    "    'population_size': [10],\n",
    "    'elitism': [True, False],\n",
    "    'save_logs': [True],\n",
    "}\n",
    "\n",
    "# Create a list to store the results\n",
    "results = []\n",
    "# Iterate over all combinations of parameters\n",
    "\n",
    "def run_grid_search(parameter_grids):\n",
    "    keys = list(parameter_grids.keys())\n",
    "    values = [parameter_grids[key] for key in keys]\n",
    "    combinations = [dict(zip(keys, v)) for v in itertools.product(*values)]\n",
    "    \n",
    "    for params in tqdm.tqdm(combinations, desc=\"Running grid search\", unit=\" combination\"):\n",
    "        best_solution, logs_df = genetic_algorithm(**params)\n",
    "        results.append((params, best_solution, logs_df))\n",
    "    \n",
    "    return results    \n",
    "\n",
    "results = run_grid_search(parameter_grids)"
   ]
  },
  {
   "cell_type": "code",
   "execution_count": null,
   "id": "ddd440e3",
   "metadata": {},
   "outputs": [],
   "source": [
    "# save results to a CSV file\n",
    "import pandas as pd\n",
    "\n",
    "results_df = pd.DataFrame([{\n",
    "    'params': result[0],\n",
    "    'best_solution': result[1],\n",
    "    'logs_df': result[2]\n",
    "} for result in results])\n",
    "results_df.to_csv('grid_search_results.csv', index=False)\n"
   ]
  }
 ],
 "metadata": {
  "kernelspec": {
   "display_name": "Cifo_RunningDinner",
   "language": "python",
   "name": "python3"
  },
  "language_info": {
   "codemirror_mode": {
    "name": "ipython",
    "version": 3
   },
   "file_extension": ".py",
   "mimetype": "text/x-python",
   "name": "python",
   "nbconvert_exporter": "python",
   "pygments_lexer": "ipython3",
   "version": "3.12.10"
  }
 },
 "nbformat": 4,
 "nbformat_minor": 5
}
