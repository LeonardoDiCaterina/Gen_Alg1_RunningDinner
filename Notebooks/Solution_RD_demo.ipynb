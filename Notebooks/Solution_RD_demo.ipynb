{
 "cells": [
  {
   "cell_type": "markdown",
   "metadata": {},
   "source": [
    "# 🧬 Solution_RD: Genetic Algorithm Individual for Resource Distribution\n",
    "\n",
    "This notebook documents the `Solution_RD` class, a domain-specific implementation of the `Individual` abstract base class tailored for solving a resource distribution problem involving participants, houses, and courses. The objective balances logistical and social criteria using a flexible and pluggable design.\n",
    "\n",
    "## 🧱 Class Overview\n",
    "\n",
    "- `Solution_RD`: A concrete subclass of `Individual` that represents a candidate solution for assigning participants to houses and courses.\n",
    "  - Representation encodes both **house allocation** and **course enrollment**.\n",
    "  - Fitness balances two components:\n",
    "    - **Social fitness**: Encourages participant mixing across courses.\n",
    "    - **Logistic fitness**: Penalizes long distances between participant houses (based on a distance matrix).\n",
    "  - Customizable fitness trade-off via `alpha` and `beta`.\n",
    "\n",
    "## ⚙️ Parameters\n",
    "\n",
    "- `data_matrix`: A 2D numpy array of distances between participants.\n",
    "- `account_for_previous_fitness`: If `True`, tracks fitness changes over time.\n",
    "- `probability_social_mutation`: Probability of performing a social mutation.\n",
    "- `alpha`, `beta`: Weights controlling the importance of social vs. logistic fitness.\n",
    "\n",
    "## ✅ Features Demonstrated\n",
    "\n",
    "1. **Random Initialization**\n",
    "   - Genome includes both house and course assignments.\n",
    "   - Ensures constraints like house capacity and number of houses are respected.\n",
    "\n",
    "2. **Fitness Evaluation**\n",
    "   - Calculated as a weighted sum of:\n",
    "     - Social interaction score (maximize diversity in house-course assignments).\n",
    "     - Logistic penalty (minimize travel distances).\n",
    "   - Supports lazy evaluation and caching.\n",
    "\n",
    "3. **Mutation**\n",
    "   - Mutation type (social or logistic) chosen probabilistically.\n",
    "   - Mutates in-place.\n",
    "\n",
    "4. **Crossover**\n",
    "   - Combines genome segments from two parents (to be implemented or overridden if necessary).\n",
    "\n",
    "5. **Parameterization**\n",
    "   - Adjust evolutionary pressure via `alpha`, `beta`, and mutation probabilities.\n",
    "\n",
    "6. **Fitness History**\n",
    "   - Tracks `previous_fitness` and `next_fitness` for advanced evolutionary strategies.\n",
    "\n",
    "## 🧠 Design Highlights\n",
    "\n",
    "- Extends `Individual` with problem-specific logic, maintaining modularity.\n",
    "- Balances domain constraints with genetic flexibility.\n",
    "- Supports experimentation with different fitness weights and mutation strategies.\n",
    "\n",
    "This class is suitable for constrained optimization tasks in social or logistical planning domains and can be integrated seamlessly into the larger genetic algorithm framework.\n"
   ]
  },
  {
   "cell_type": "markdown",
   "metadata": {},
   "source": [
    "# Data Ingestion"
   ]
  },
  {
   "cell_type": "code",
   "execution_count": 1,
   "metadata": {},
   "outputs": [
    {
     "data": {
      "text/plain": [
       "(68, 68)"
      ]
     },
     "execution_count": 1,
     "metadata": {},
     "output_type": "execute_result"
    }
   ],
   "source": [
    "import os\n",
    "import pandas as pd\n",
    "os.chdir(os.pardir) # comment if you are running this more than once\n",
    "data_matrix_df = pd.read_csv('data/distance_matrix_official.csv', index_col=0)\n",
    "data_matrix_np = data_matrix_df.to_numpy()\n",
    "data_matrix_np.shape"
   ]
  },
  {
   "cell_type": "markdown",
   "metadata": {},
   "source": [
    "# Testing Features"
   ]
  },
  {
   "cell_type": "markdown",
   "metadata": {},
   "source": [
    "## Create two individuals\n"
   ]
  },
  {
   "cell_type": "code",
   "execution_count": 2,
   "metadata": {},
   "outputs": [],
   "source": [
    "from Genetic_algorithm.fitness import ResourceFitness\n",
    "from Genetic_algorithm.genome import Genome\n",
    "from Genetic_algorithm.solution_rd import SolutionRD\n",
    "\n",
    "my_fitness = ResourceFitness(data_matrix_np)\n",
    "my_genome = Genome()\n",
    "\n",
    "first_solution = SolutionRD(my_fitness, Genome)\n",
    "secomnd_solution = SolutionRD(my_fitness, Genome)"
   ]
  },
  {
   "cell_type": "markdown",
   "metadata": {},
   "source": [
    "## Crossover\n"
   ]
  },
  {
   "cell_type": "code",
   "execution_count": 3,
   "metadata": {},
   "outputs": [
    {
     "name": "stdout",
     "output_type": "stream",
     "text": [
      "Fitness (child): 2.8882544024619596\n",
      "Fitness (child): 2.6108554277138567\n"
     ]
    }
   ],
   "source": [
    "for _ in range(1000):\n",
    "    child1, child2 = first_solution @ secomnd_solution\n",
    "    child1.mutation()\n",
    "print(\"Fitness (child):\", float(child1))\n",
    "print(\"Fitness (child):\", float(child2))"
   ]
  },
  {
   "cell_type": "markdown",
   "metadata": {},
   "source": [
    "## Mutation\n"
   ]
  },
  {
   "cell_type": "code",
   "execution_count": 4,
   "metadata": {},
   "outputs": [
    {
     "data": {
      "text/plain": [
       "array([[0, 0, 0, 0, 0, 0, 0, 0, 0, 0],\n",
       "       [1, 0, 0, 0, 0, 0, 0, 0, 0, 0],\n",
       "       [0, 1, 0, 0, 0, 0, 0, 0, 0, 0],\n",
       "       [1, 0, 1, 0, 0, 0, 0, 0, 0, 0],\n",
       "       [1, 0, 1, 1, 0, 0, 0, 0, 0, 0],\n",
       "       [1, 1, 1, 1, 0, 0, 0, 0, 0, 0],\n",
       "       [1, 1, 0, 0, 0, 0, 0, 0, 0, 0],\n",
       "       [0, 1, 1, 1, 0, 0, 0, 0, 0, 0],\n",
       "       [1, 1, 1, 0, 0, 1, 1, 1, 0, 0],\n",
       "       [0, 1, 1, 0, 0, 0, 1, 1, 0, 0]])"
      ]
     },
     "execution_count": 4,
     "metadata": {},
     "output_type": "execute_result"
    }
   ],
   "source": [
    "my_fitness.partecipation_matrix(genome=child1.genome)"
   ]
  },
  {
   "cell_type": "code",
   "execution_count": 5,
   "metadata": {},
   "outputs": [
    {
     "name": "stdout",
     "output_type": "stream",
     "text": [
      "original Individual: 221100-108-1961453-127-1436-1085972151860-124739-1\n",
      "Mutated Individual: 221100-108-1961453-127-1436-1085972151860-124739-1\n",
      "Fitness (original): 2.8882544024619596\n",
      "Fitness (mutated): 2.8882544024619596\n"
     ]
    }
   ],
   "source": [
    "mutant = child1.copy_Individual()\n",
    "mutant.mutation()\n",
    "print(\"original Individual:\", child1.genome)\n",
    "print(\"Mutated Individual:\", mutant.genome)\n",
    "print(\"Fitness (original):\", float(child1))\n",
    "print(\"Fitness (mutated):\", float(mutant))"
   ]
  },
  {
   "cell_type": "markdown",
   "metadata": {},
   "source": [
    "## Iteration (generate mutated versions) (has to be resolved)"
   ]
  },
  {
   "cell_type": "code",
   "execution_count": 6,
   "metadata": {},
   "outputs": [
    {
     "name": "stdout",
     "output_type": "stream",
     "text": [
      "\n",
      "Multiple Mutations:\n",
      "mutating: Fitness: 2.8882544024619596\n",
      "Mutation 1: None Fitness: None\n",
      "mutating: Fitness: 2.8882544024619596\n",
      "Mutation 2: None Fitness: None\n",
      "mutating: Fitness: 2.8882544024619596\n",
      "Mutation 3: None Fitness: None\n",
      "mutating: Fitness: 2.8882544024619596\n",
      "Mutation 4: None Fitness: None\n",
      "mutating: Fitness: 2.8882544024619596\n",
      "Mutation 5: None Fitness: None\n"
     ]
    }
   ],
   "source": [
    "print(\"\\nMultiple Mutations:\")\n",
    "for i, m in enumerate(child1):\n",
    "    print(f\"Mutation {i+1}:\", m, \"Fitness:\", m)"
   ]
  },
  {
   "cell_type": "markdown",
   "metadata": {},
   "source": [
    "## Operator Overloading"
   ]
  },
  {
   "cell_type": "code",
   "execution_count": 7,
   "metadata": {},
   "outputs": [
    {
     "name": "stdout",
     "output_type": "stream",
     "text": [
      "\n",
      "Using ** Operator for Self-Crossover\n",
      "Clone 1: (<Genetic_algorithm.solution_rd.SolutionRD object at 0x10fdee300>, <Genetic_algorithm.solution_rd.SolutionRD object at 0x10fe18710>) Fitness: (<Genetic_algorithm.solution_rd.SolutionRD object at 0x10fdee300>, <Genetic_algorithm.solution_rd.SolutionRD object at 0x10fe18710>)\n",
      "Clone 2: (<Genetic_algorithm.solution_rd.SolutionRD object at 0x10fdeecf0>, <Genetic_algorithm.solution_rd.SolutionRD object at 0x10fe29940>) Fitness: (<Genetic_algorithm.solution_rd.SolutionRD object at 0x10fdeecf0>, <Genetic_algorithm.solution_rd.SolutionRD object at 0x10fe29940>)\n",
      "Clone 3: (<Genetic_algorithm.solution_rd.SolutionRD object at 0x10fe27650>, <Genetic_algorithm.solution_rd.SolutionRD object at 0x10fe33c80>) Fitness: (<Genetic_algorithm.solution_rd.SolutionRD object at 0x10fe27650>, <Genetic_algorithm.solution_rd.SolutionRD object at 0x10fe33c80>)\n"
     ]
    }
   ],
   "source": [
    "print(\"\\nUsing ** Operator for Self-Crossover\")\n",
    "clones = child1 ** 3\n",
    "for i, c1, in enumerate(clones):\n",
    "    print(f\"Clone {i+1}:\", c1, \"Fitness:\", c1)\n",
    "   "
   ]
  },
  {
   "cell_type": "markdown",
   "metadata": {},
   "source": [
    "## Comparison\n"
   ]
  },
  {
   "cell_type": "code",
   "execution_count": 8,
   "metadata": {},
   "outputs": [
    {
     "name": "stdout",
     "output_type": "stream",
     "text": [
      "\n",
      "Is Individual 1 better than Individual 2? True\n"
     ]
    }
   ],
   "source": [
    "print(\"\\nIs Individual 1 better than Individual 2?\", child1 > child2)"
   ]
  },
  {
   "cell_type": "markdown",
   "metadata": {},
   "source": [
    "## Sorting and Deduplication via Set"
   ]
  },
  {
   "cell_type": "code",
   "execution_count": 9,
   "metadata": {},
   "outputs": [
    {
     "name": "stdout",
     "output_type": "stream",
     "text": [
      "\n",
      "=== Sorting Individuals by Fitness ===\n"
     ]
    },
    {
     "ename": "NameError",
     "evalue": "name 'ind1' is not defined",
     "output_type": "error",
     "traceback": [
      "\u001b[0;31m---------------------------------------------------------------------------\u001b[0m",
      "\u001b[0;31mNameError\u001b[0m                                 Traceback (most recent call last)",
      "Cell \u001b[0;32mIn[9], line 2\u001b[0m\n\u001b[1;32m      1\u001b[0m \u001b[38;5;28mprint\u001b[39m(\u001b[38;5;124m\"\u001b[39m\u001b[38;5;130;01m\\n\u001b[39;00m\u001b[38;5;124m=== Sorting Individuals by Fitness ===\u001b[39m\u001b[38;5;124m\"\u001b[39m)\n\u001b[0;32m----> 2\u001b[0m individuals \u001b[38;5;241m=\u001b[39m [ind1 \u001b[38;5;28;01mfor\u001b[39;00m _ \u001b[38;5;129;01min\u001b[39;00m \u001b[43mind1\u001b[49m]\n\u001b[1;32m      4\u001b[0m \u001b[38;5;28;01mfor\u001b[39;00m i, ind \u001b[38;5;129;01min\u001b[39;00m \u001b[38;5;28menumerate\u001b[39m(individuals):\n\u001b[1;32m      5\u001b[0m     \u001b[38;5;28mprint\u001b[39m(\u001b[38;5;124mf\u001b[39m\u001b[38;5;124m\"\u001b[39m\u001b[38;5;124mInd \u001b[39m\u001b[38;5;132;01m{\u001b[39;00mi\u001b[38;5;241m+\u001b[39m\u001b[38;5;241m1\u001b[39m\u001b[38;5;132;01m}\u001b[39;00m\u001b[38;5;124m: Genome = \u001b[39m\u001b[38;5;132;01m{\u001b[39;00mind\u001b[38;5;241m.\u001b[39mgenome\u001b[38;5;132;01m}\u001b[39;00m\u001b[38;5;124m, Fitness = \u001b[39m\u001b[38;5;132;01m{\u001b[39;00m\u001b[38;5;28mfloat\u001b[39m(ind)\u001b[38;5;132;01m}\u001b[39;00m\u001b[38;5;124m\"\u001b[39m)\n",
      "\u001b[0;31mNameError\u001b[0m: name 'ind1' is not defined"
     ]
    }
   ],
   "source": [
    "print(\"\\n=== Sorting Individuals by Fitness ===\")\n",
    "individuals = [ind1 for _ in ind1]\n",
    "\n",
    "for i, ind in enumerate(individuals):\n",
    "    print(f\"Ind {i+1}: Genome = {ind.genome}, Fitness = {float(ind)}\")\n",
    "\n",
    "sorted_individuals = sorted(individuals)\n",
    "print(\"\\nSorted by fitness (ascending):\")\n",
    "for i, ind in enumerate(sorted_individuals):\n",
    "    print(f\"Rank {i+1}: Genome = {ind.genome}, Fitness = {float(ind)}\")"
   ]
  },
  {
   "cell_type": "markdown",
   "metadata": {},
   "source": [
    "## Storing Unique Individuals in a Set"
   ]
  },
  {
   "cell_type": "code",
   "execution_count": 10,
   "metadata": {},
   "outputs": [
    {
     "name": "stdout",
     "output_type": "stream",
     "text": [
      "\n",
      "=== Deduplication with Set ===\n",
      "Unique 1: Genome = 221100-108-1961453-127-1436-1085972151860-124739-1, Fitness = 2.8882544024619596\n",
      "\n",
      "Total unique individuals: 1\n"
     ]
    }
   ],
   "source": [
    "print(\"\\n=== Deduplication with Set ===\")\n",
    "ind2 = child1.copy_Individual(delete_fitness=False)  # Exact copy\n",
    "\n",
    "# Mutate a third individual to likely get a different genome\n",
    "ind3 = child1.copy_Individual(delete_fitness=False)\n",
    "ind3.mutation()\n",
    "\n",
    "ind_set = {child1, ind2, ind3}\n",
    "\n",
    "for i, ind in enumerate(ind_set):\n",
    "    print(f\"Unique {i+1}: Genome = {ind.genome}, Fitness = {float(ind)}\")\n",
    "\n",
    "print(f\"\\nTotal unique individuals: {len(ind_set)}\")"
   ]
  },
  {
   "cell_type": "markdown",
   "metadata": {},
   "source": [
    "# accessing the genome (removed)"
   ]
  },
  {
   "cell_type": "code",
   "execution_count": 11,
   "metadata": {},
   "outputs": [
    {
     "ename": "TypeError",
     "evalue": "'SolutionRD' object is not subscriptable",
     "output_type": "error",
     "traceback": [
      "\u001b[0;31m---------------------------------------------------------------------------\u001b[0m",
      "\u001b[0;31mTypeError\u001b[0m                                 Traceback (most recent call last)",
      "Cell \u001b[0;32mIn[11], line 1\u001b[0m\n\u001b[0;32m----> 1\u001b[0m \u001b[43mchild1\u001b[49m\u001b[43m[\u001b[49m\u001b[38;5;241;43m0\u001b[39;49m\u001b[43m:\u001b[49m\u001b[38;5;241;43m4\u001b[39;49m\u001b[43m]\u001b[49m\n",
      "\u001b[0;31mTypeError\u001b[0m: 'SolutionRD' object is not subscriptable"
     ]
    }
   ],
   "source": [
    "child1[0:4]"
   ]
  },
  {
   "cell_type": "code",
   "execution_count": 12,
   "metadata": {},
   "outputs": [
    {
     "name": "stdout",
     "output_type": "stream",
     "text": [
      "Before genome swap: [ 0  8 -1  9  6  1  4  5  3 -1  2  7 -1  4  3  6 -1  0  8  5  9  7  2  1\n",
      "  5  1  8  6  0 -1  2  4  7  3  9 -1]\n",
      "After genome swap: [ 0  8 -1  9  6  1  4  5  3 -1  2  7 -1  4  3  6 -1  0  8  5  9  7  2  1\n",
      "  5  1  8  6  0 -1  2  4  7  3  9 -1]\n"
     ]
    }
   ],
   "source": [
    "print(\"Before genome swap:\", child1.genome.course_assignments)\n",
    "child1.genome.swap_course_assignments(0,0, 1)\n",
    "print(\"After genome swap:\", child1.genome.course_assignments)"
   ]
  },
  {
   "cell_type": "code",
   "execution_count": 13,
   "metadata": {},
   "outputs": [
    {
     "name": "stdout",
     "output_type": "stream",
     "text": [
      "Error: Index out of range for course assignments.\n"
     ]
    }
   ],
   "source": [
    "try:    \n",
    "    child1.genome.swap_course_assignments(0,0, 10000)\n",
    "except IndexError as e:\n",
    "    print(\"Error:\", e)\n"
   ]
  }
 ],
 "metadata": {
  "kernelspec": {
   "display_name": "CIFO",
   "language": "python",
   "name": "python3"
  },
  "language_info": {
   "codemirror_mode": {
    "name": "ipython",
    "version": 3
   },
   "file_extension": ".py",
   "mimetype": "text/x-python",
   "name": "python",
   "nbconvert_exporter": "python",
   "pygments_lexer": "ipython3",
   "version": "3.12.9"
  }
 },
 "nbformat": 4,
 "nbformat_minor": 2
}
