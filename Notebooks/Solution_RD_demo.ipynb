{
 "cells": [
  {
   "cell_type": "markdown",
   "metadata": {},
   "source": [
    "# 🧬 Solution_RD: Genetic Algorithm Individual for Resource Distribution\n",
    "\n",
    "This notebook documents the `Solution_RD` class, a domain-specific implementation of the `Individual` abstract base class tailored for solving a resource distribution problem involving participants, houses, and courses. The objective balances logistical and social criteria using a flexible and pluggable design.\n",
    "\n",
    "## 🧱 Class Overview\n",
    "\n",
    "- `Solution_RD`: A concrete subclass of `Individual` that represents a candidate solution for assigning participants to houses and courses.\n",
    "  - Representation encodes both **house allocation** and **course enrollment**.\n",
    "  - Fitness balances two components:\n",
    "    - **Social fitness**: Encourages participant mixing across courses.\n",
    "    - **Logistic fitness**: Penalizes long distances between participant houses (based on a distance matrix).\n",
    "  - Customizable fitness trade-off via `alpha` and `beta`.\n",
    "\n",
    "## ⚙️ Parameters\n",
    "\n",
    "- `data_matrix`: A 2D numpy array of distances between participants.\n",
    "- `account_for_previous_fitness`: If `True`, tracks fitness changes over time.\n",
    "- `probability_social_mutation`: Probability of performing a social mutation.\n",
    "- `alpha`, `beta`: Weights controlling the importance of social vs. logistic fitness.\n",
    "\n",
    "## ✅ Features Demonstrated\n",
    "\n",
    "1. **Random Initialization**\n",
    "   - Genome includes both house and course assignments.\n",
    "   - Ensures constraints like house capacity and number of houses are respected.\n",
    "\n",
    "2. **Fitness Evaluation**\n",
    "   - Calculated as a weighted sum of:\n",
    "     - Social interaction score (maximize diversity in house-course assignments).\n",
    "     - Logistic penalty (minimize travel distances).\n",
    "   - Supports lazy evaluation and caching.\n",
    "\n",
    "3. **Mutation**\n",
    "   - Mutation type (social or logistic) chosen probabilistically.\n",
    "   - Mutates in-place.\n",
    "\n",
    "4. **Crossover**\n",
    "   - Combines genome segments from two parents (to be implemented or overridden if necessary).\n",
    "\n",
    "5. **Parameterization**\n",
    "   - Adjust evolutionary pressure via `alpha`, `beta`, and mutation probabilities.\n",
    "\n",
    "6. **Fitness History**\n",
    "   - Tracks `previous_fitness` and `next_fitness` for advanced evolutionary strategies.\n",
    "\n",
    "## 🧠 Design Highlights\n",
    "\n",
    "- Extends `Individual` with problem-specific logic, maintaining modularity.\n",
    "- Balances domain constraints with genetic flexibility.\n",
    "- Supports experimentation with different fitness weights and mutation strategies.\n",
    "\n",
    "This class is suitable for constrained optimization tasks in social or logistical planning domains and can be integrated seamlessly into the larger genetic algorithm framework.\n"
   ]
  },
  {
   "cell_type": "markdown",
   "metadata": {},
   "source": [
    "# Data Ingestion"
   ]
  },
  {
   "cell_type": "code",
   "execution_count": 1,
   "metadata": {},
   "outputs": [
    {
     "data": {
      "text/plain": [
       "(68, 68)"
      ]
     },
     "execution_count": 1,
     "metadata": {},
     "output_type": "execute_result"
    }
   ],
   "source": [
    "import os\n",
    "import pandas as pd\n",
    "os.chdir(os.pardir) # comment if you are running this more than once\n",
    "data_matrix_df = pd.read_csv('data/distance_matrix_official.csv', index_col=0)\n",
    "data_matrix_np = data_matrix_df.to_numpy()\n",
    "data_matrix_np.shape"
   ]
  },
  {
   "cell_type": "markdown",
   "metadata": {},
   "source": [
    "# Testing Features"
   ]
  },
  {
   "cell_type": "code",
   "execution_count": null,
   "metadata": {},
   "outputs": [],
   "source": [
    "import random\n",
    "import numpy as np\n",
    "from Genetic_algorithm.genome import Genome\n",
    "from Genetic_algorithm.fitness import ResourceFitness\n",
    "from Genetic_algorithm.mutations import logistic_mutation, social_mutation, logistic_mutation_2\n",
    "from Genetic_algorithm.corssovers import social_crossover, logistic_crossover, logistic_crossover_2\n",
    "from Genetic_algorithm.base_individual import Individual\n",
    "from copy import deepcopy\n",
    "\n",
    "class SolutionRD(Individual):\n",
    "    def __init__(self,fitness_instance,genome_class,mutation_functions, crossover_functions, prob_social_mutation=0.5, prob_social_crossover=0.5):\n",
    "        super().__init__()\n",
    "        self.prob_social_mutation = prob_social_mutation\n",
    "        self.prob_social_crossover = prob_social_crossover\n",
    "        # at some point I'll check if the genome_class is a Genome and the fitness_class is a ResourceFitness\n",
    "        # but not today\n",
    "        self.mutation_functions = mutation_functions\n",
    "        self.crossover_functions = crossover_functions\n",
    "        \n",
    "        self.genome_class = genome_class\n",
    "        self.random_representation()\n",
    "        self.fitness_instance = fitness_instance\n",
    "\n",
    "    def random_representation(self):\n",
    "        self.genome = self.genome_class()\n",
    "\n",
    "    def mutation(self):\n",
    "        new_genome = None\n",
    "        if random.random() < self.prob_social_mutation:\n",
    "            new_genome =  self.mutation_functions[0](self.genome)\n",
    "            \n",
    "        else:\n",
    "            new_genome  = self.mutation_functions[1](self.genome)\n",
    "    \n",
    "        self.genome = new_genome\n",
    "        #print(\"new genome\", self.genome)\n",
    "        #return new_individual\n",
    "        \n",
    "    def crossover(self, other):\n",
    "        \n",
    "        new_individual_1 = self.copy_Individual(delete_fitness=True)\n",
    "        new_individual_2 = other.copy_Individual(delete_fitness=True)\n",
    "        \n",
    "        new_genome_1 = None\n",
    "        new_genome_2 = None\n",
    "        \n",
    "        if random.random() < self.prob_social_crossover:\n",
    "            new_genome_1,new_genome_2 = social_crossover(self.genome, other.genome)\n",
    "        else:\n",
    "            new_genome_1,new_genome_2 = logistic_crossover(self.genome, other.genome)\n",
    "\n",
    "        new_individual_1.genome = new_genome_1\n",
    "        new_individual_2.genome = new_genome_2\n",
    "        return new_individual_1, new_individual_2\n",
    "    \n",
    "    def calculate_fitness(self):\n",
    "        result = self.fitness_instance.evaluate(self.genome)\n",
    "        return result\n",
    "    \n",
    "    def check_representation(self):\n",
    "        return True\n",
    "    \n",
    "    def semantic_key(self):\n",
    "        return self.genome.semantic_key()\n",
    "    \n",
    "    def copy_Individual(self, delete_fitness=True):\n",
    "        \"\"\"\n",
    "        Returns a deep copy of the individual, optionally deleting the fitness attribute.\n",
    "        This is useful for creating a new individual that is a copy of the current one and are ready to be mutated or crossed over.\n",
    "        The fitness of the new individual will be set to None if delete_fitness is True.\n",
    "        This is necessary because the fitness of the new individual will be calculated again after mutation or crossover.\n",
    "        \n",
    "        Args:\n",
    "            delete_fitness (bool): If True, the fitness of the new individual will be set to None.\n",
    "        Returns:\n",
    "            Individual: A deep copy of the individual.\n",
    "        \n",
    "        \"\"\"\n",
    "        new_individual = deepcopy(self)\n",
    "        if delete_fitness:\n",
    "            new_individual._fitness = None\n",
    "        return new_individual\n",
    "    \n",
    "    def __iter__(self):\n",
    "        for _ in range(self.mutation_count):\n",
    "            yield next(self)\n",
    "        \n",
    "    def __next__(self):\n",
    "        return SolutionRD(self.fitness_instance, self.genome_class, self.mutation_functions, self.crossover_functions, self.prob_social_mutation, self.prob_social_crossover)"
   ]
  },
  {
   "cell_type": "markdown",
   "metadata": {},
   "source": [
    "## Create two individuals\n"
   ]
  },
  {
   "cell_type": "code",
   "execution_count": 19,
   "metadata": {},
   "outputs": [],
   "source": [
    "from Genetic_algorithm.fitness import ResourceFitness\n",
    "from Genetic_algorithm.genome import Genome\n",
    "#from Genetic_algorithm.solution_rd import SolutionRD\n",
    "\n",
    "my_fitness = ResourceFitness(data_matrix_np)\n",
    "my_genome = Genome()\n",
    "\n",
    "first_solution = SolutionRD(my_fitness, Genome, [logistic_mutation, social_mutation], [logistic_crossover, social_crossover])\n",
    "secomnd_solution = SolutionRD(my_fitness, Genome, [logistic_mutation, social_mutation], [logistic_crossover, social_crossover])"
   ]
  },
  {
   "cell_type": "markdown",
   "metadata": {},
   "source": [
    "## Crossover\n"
   ]
  },
  {
   "cell_type": "code",
   "execution_count": 20,
   "metadata": {},
   "outputs": [
    {
     "name": "stdout",
     "output_type": "stream",
     "text": [
      "Fitness (child): 2.17423552374756\n",
      "Fitness (child): 2.7859565807327002\n"
     ]
    }
   ],
   "source": [
    "for _ in range(1000):\n",
    "    child1, child2 = first_solution @ secomnd_solution\n",
    "    child1.mutation()\n",
    "print(\"Fitness (child):\", float(child1))\n",
    "print(\"Fitness (child):\", float(child2))"
   ]
  },
  {
   "cell_type": "markdown",
   "metadata": {},
   "source": [
    "## Mutation\n"
   ]
  },
  {
   "cell_type": "code",
   "execution_count": 21,
   "metadata": {},
   "outputs": [
    {
     "data": {
      "text/plain": [
       "array([[0, 0, 0, 0, 0, 0, 0, 0, 0, 0],\n",
       "       [1, 0, 0, 0, 0, 0, 0, 0, 0, 0],\n",
       "       [1, 0, 0, 0, 0, 0, 0, 0, 0, 0],\n",
       "       [0, 0, 1, 0, 0, 0, 0, 0, 0, 0],\n",
       "       [0, 1, 0, 0, 0, 0, 0, 0, 0, 0],\n",
       "       [0, 0, 1, 1, 0, 0, 0, 0, 0, 0],\n",
       "       [1, 0, 0, 0, 0, 0, 0, 0, 0, 0],\n",
       "       [0, 0, 1, 1, 0, 1, 1, 0, 0, 0],\n",
       "       [1, 0, 1, 0, 1, 0, 1, 0, 0, 0],\n",
       "       [0, 1, 0, 0, 1, 0, 1, 1, 0, 0]])"
      ]
     },
     "execution_count": 21,
     "metadata": {},
     "output_type": "execute_result"
    }
   ],
   "source": [
    "my_fitness.partecipation_matrix(genome=child1.genome)"
   ]
  },
  {
   "cell_type": "code",
   "execution_count": 22,
   "metadata": {},
   "outputs": [
    {
     "name": "stdout",
     "output_type": "stream",
     "text": [
      "original Individual: 202101-134579-112-1860-175328-10941653976-11-10824\n",
      "Mutated Individual: 202101-134579-112-1860-175328-10941653976-11-10824\n",
      "Fitness (original): 2.17423552374756\n",
      "Fitness (mutated): 2.17423552374756\n"
     ]
    }
   ],
   "source": [
    "mutant = child1.copy_Individual()\n",
    "mutant.mutation()\n",
    "print(\"original Individual:\", child1.genome)\n",
    "print(\"Mutated Individual:\", mutant.genome)\n",
    "print(\"Fitness (original):\", float(child1))\n",
    "print(\"Fitness (mutated):\", float(mutant))"
   ]
  },
  {
   "cell_type": "markdown",
   "metadata": {},
   "source": [
    "## Iteration (generate mutated versions) (has to be resolved)"
   ]
  },
  {
   "cell_type": "code",
   "execution_count": 23,
   "metadata": {},
   "outputs": [
    {
     "name": "stdout",
     "output_type": "stream",
     "text": [
      "\n",
      "Multiple Mutations:\n"
     ]
    },
    {
     "ename": "TypeError",
     "evalue": "SolutionRD.__init__() missing 2 required positional arguments: 'mutation_functions' and 'crossover_functions'",
     "output_type": "error",
     "traceback": [
      "\u001b[0;31m---------------------------------------------------------------------------\u001b[0m",
      "\u001b[0;31mTypeError\u001b[0m                                 Traceback (most recent call last)",
      "Cell \u001b[0;32mIn[23], line 2\u001b[0m\n\u001b[1;32m      1\u001b[0m \u001b[38;5;28mprint\u001b[39m(\u001b[38;5;124m\"\u001b[39m\u001b[38;5;130;01m\\n\u001b[39;00m\u001b[38;5;124mMultiple Mutations:\u001b[39m\u001b[38;5;124m\"\u001b[39m)\n\u001b[0;32m----> 2\u001b[0m \u001b[38;5;28;43;01mfor\u001b[39;49;00m\u001b[43m \u001b[49m\u001b[43mi\u001b[49m\u001b[43m,\u001b[49m\u001b[43m \u001b[49m\u001b[43mm\u001b[49m\u001b[43m \u001b[49m\u001b[38;5;129;43;01min\u001b[39;49;00m\u001b[43m \u001b[49m\u001b[38;5;28;43menumerate\u001b[39;49m\u001b[43m(\u001b[49m\u001b[43mchild1\u001b[49m\u001b[43m)\u001b[49m\u001b[43m:\u001b[49m\n\u001b[1;32m      3\u001b[0m \u001b[43m    \u001b[49m\u001b[38;5;28;43mprint\u001b[39;49m\u001b[43m(\u001b[49m\u001b[38;5;124;43mf\u001b[39;49m\u001b[38;5;124;43m\"\u001b[39;49m\u001b[38;5;124;43mMutation \u001b[39;49m\u001b[38;5;132;43;01m{\u001b[39;49;00m\u001b[43mi\u001b[49m\u001b[38;5;241;43m+\u001b[39;49m\u001b[38;5;241;43m1\u001b[39;49m\u001b[38;5;132;43;01m}\u001b[39;49;00m\u001b[38;5;124;43m:\u001b[39;49m\u001b[38;5;124;43m\"\u001b[39;49m\u001b[43m,\u001b[49m\u001b[43m \u001b[49m\u001b[43mm\u001b[49m\u001b[43m,\u001b[49m\u001b[43m \u001b[49m\u001b[38;5;124;43m\"\u001b[39;49m\u001b[38;5;124;43mFitness:\u001b[39;49m\u001b[38;5;124;43m\"\u001b[39;49m\u001b[43m,\u001b[49m\u001b[43m \u001b[49m\u001b[43mm\u001b[49m\u001b[43m)\u001b[49m\n",
      "Cell \u001b[0;32mIn[18], line 86\u001b[0m, in \u001b[0;36mSolutionRD.__iter__\u001b[0;34m(self)\u001b[0m\n\u001b[1;32m     84\u001b[0m \u001b[38;5;28;01mdef\u001b[39;00m\u001b[38;5;250m \u001b[39m\u001b[38;5;21m__iter__\u001b[39m(\u001b[38;5;28mself\u001b[39m):\n\u001b[1;32m     85\u001b[0m     \u001b[38;5;28;01mfor\u001b[39;00m _ \u001b[38;5;129;01min\u001b[39;00m \u001b[38;5;28mrange\u001b[39m(\u001b[38;5;28mself\u001b[39m\u001b[38;5;241m.\u001b[39mmutation_count):\n\u001b[0;32m---> 86\u001b[0m         \u001b[38;5;28;01myield\u001b[39;00m \u001b[38;5;28;43mnext\u001b[39;49m\u001b[43m(\u001b[49m\u001b[38;5;28;43mself\u001b[39;49m\u001b[43m)\u001b[49m\n",
      "Cell \u001b[0;32mIn[18], line 89\u001b[0m, in \u001b[0;36mSolutionRD.__next__\u001b[0;34m(self)\u001b[0m\n\u001b[1;32m     88\u001b[0m \u001b[38;5;28;01mdef\u001b[39;00m\u001b[38;5;250m \u001b[39m\u001b[38;5;21m__next__\u001b[39m(\u001b[38;5;28mself\u001b[39m):\n\u001b[0;32m---> 89\u001b[0m     \u001b[38;5;28;01mreturn\u001b[39;00m \u001b[43mSolutionRD\u001b[49m\u001b[43m(\u001b[49m\u001b[38;5;28;43mself\u001b[39;49m\u001b[38;5;241;43m.\u001b[39;49m\u001b[43mfitness_instance\u001b[49m\u001b[43m,\u001b[49m\u001b[43m \u001b[49m\u001b[38;5;28;43mself\u001b[39;49m\u001b[38;5;241;43m.\u001b[39;49m\u001b[43mgenome_class\u001b[49m\u001b[43m)\u001b[49m\n",
      "\u001b[0;31mTypeError\u001b[0m: SolutionRD.__init__() missing 2 required positional arguments: 'mutation_functions' and 'crossover_functions'"
     ]
    }
   ],
   "source": [
    "print(\"\\nMultiple Mutations:\")\n",
    "for i, m in enumerate(child1):\n",
    "    print(f\"Mutation {i+1}:\", m, \"Fitness:\", m)"
   ]
  },
  {
   "cell_type": "markdown",
   "metadata": {},
   "source": [
    "## Operator Overloading"
   ]
  },
  {
   "cell_type": "code",
   "execution_count": null,
   "metadata": {},
   "outputs": [
    {
     "name": "stdout",
     "output_type": "stream",
     "text": [
      "\n",
      "Using ** Operator for Self-Crossover\n",
      "Clone 1: (<__main__.SolutionRD object at 0x10cbe7da0>, <__main__.SolutionRD object at 0x10cc50c50>) Fitness: (<__main__.SolutionRD object at 0x10cbe7da0>, <__main__.SolutionRD object at 0x10cc50c50>)\n",
      "Clone 2: (<__main__.SolutionRD object at 0x10c73d7f0>, <__main__.SolutionRD object at 0x10cbe7050>) Fitness: (<__main__.SolutionRD object at 0x10c73d7f0>, <__main__.SolutionRD object at 0x10cbe7050>)\n",
      "Clone 3: (<__main__.SolutionRD object at 0x10cb57e30>, <__main__.SolutionRD object at 0x10a22b320>) Fitness: (<__main__.SolutionRD object at 0x10cb57e30>, <__main__.SolutionRD object at 0x10a22b320>)\n"
     ]
    }
   ],
   "source": [
    "print(\"\\nUsing ** Operator for Self-Crossover\")\n",
    "clones = child1 ** 3\n",
    "for i, c1, in enumerate(clones):\n",
    "    print(f\"Clone {i+1}:\", c1, \"Fitness:\", c1)\n",
    "   "
   ]
  },
  {
   "cell_type": "markdown",
   "metadata": {},
   "source": [
    "## Comparison\n"
   ]
  },
  {
   "cell_type": "code",
   "execution_count": null,
   "metadata": {},
   "outputs": [
    {
     "name": "stdout",
     "output_type": "stream",
     "text": [
      "\n",
      "Is Individual 1 better than Individual 2? False\n"
     ]
    }
   ],
   "source": [
    "print(\"\\nIs Individual 1 better than Individual 2?\", child1 > child2)"
   ]
  },
  {
   "cell_type": "markdown",
   "metadata": {},
   "source": [
    "## Sorting and Deduplication via Set"
   ]
  },
  {
   "cell_type": "code",
   "execution_count": null,
   "metadata": {},
   "outputs": [
    {
     "name": "stdout",
     "output_type": "stream",
     "text": [
      "\n",
      "=== Sorting Individuals by Fitness ===\n",
      "Ind 1: Genome = 100122-13-124908651-174-1237-11058963-14890-125761, Fitness = 2.308734663980956\n",
      "Ind 2: Genome = 22100-110-15428619-173-131467-180925-1853074296-11, Fitness = 2.5260659694288012\n",
      "Ind 3: Genome = 01-12201409275-18-1316531067-1-142987195384-1-1260, Fitness = 2.3682577565632457\n",
      "Ind 4: Genome = -1021012-1-1143206798556-1724908-131796384210-1-15, Fitness = 3.1683431481776223\n",
      "Ind 5: Genome = 20-111025-12-148370619672190-158-134-1041-18697532, Fitness = 3.0978272390037094\n",
      "\n",
      "Sorted by fitness (ascending):\n",
      "Rank 1: Genome = 100122-13-124908651-174-1237-11058963-14890-125761, Fitness = 2.308734663980956\n",
      "Rank 2: Genome = 01-12201409275-18-1316531067-1-142987195384-1-1260, Fitness = 2.3682577565632457\n",
      "Rank 3: Genome = 22100-110-15428619-173-131467-180925-1853074296-11, Fitness = 2.5260659694288012\n",
      "Rank 4: Genome = 20-111025-12-148370619672190-158-134-1041-18697532, Fitness = 3.0978272390037094\n",
      "Rank 5: Genome = -1021012-1-1143206798556-1724908-131796384210-1-15, Fitness = 3.1683431481776223\n"
     ]
    }
   ],
   "source": [
    "print(\"\\n=== Sorting Individuals by Fitness ===\")\n",
    "individuals = [child for child in child1]\n",
    "\n",
    "for i, ind in enumerate(individuals):\n",
    "    print(f\"Ind {i+1}: Genome = {ind.genome}, Fitness = {float(ind)}\")\n",
    "\n",
    "sorted_individuals = sorted(individuals)\n",
    "print(\"\\nSorted by fitness (ascending):\")\n",
    "for i, ind in enumerate(sorted_individuals):\n",
    "    print(f\"Rank {i+1}: Genome = {ind.genome}, Fitness = {float(ind)}\")"
   ]
  },
  {
   "cell_type": "markdown",
   "metadata": {},
   "source": [
    "## Storing Unique Individuals in a Set"
   ]
  },
  {
   "cell_type": "code",
   "execution_count": null,
   "metadata": {},
   "outputs": [
    {
     "name": "stdout",
     "output_type": "stream",
     "text": [
      "\n",
      "=== Deduplication with Set ===\n",
      "Unique 1: Genome = 210021-143702591-18-16432-169170-18536182497-1-150, Fitness = 2.7\n",
      "\n",
      "Total unique individuals: 1\n"
     ]
    }
   ],
   "source": [
    "print(\"\\n=== Deduplication with Set ===\")\n",
    "ind2 = child1.copy_Individual(delete_fitness=False)  # Exact copy\n",
    "\n",
    "# Mutate a third individual to likely get a different genome\n",
    "ind3 = child1.copy_Individual(delete_fitness=False)\n",
    "ind3.mutation()\n",
    "\n",
    "ind_set = {child1, ind2, ind3}\n",
    "\n",
    "for i, ind in enumerate(ind_set):\n",
    "    print(f\"Unique {i+1}: Genome = {ind.genome}, Fitness = {float(ind)}\")\n",
    "\n",
    "print(f\"\\nTotal unique individuals: {len(ind_set)}\")"
   ]
  },
  {
   "cell_type": "markdown",
   "metadata": {},
   "source": [
    "# accessing the genome (removed)"
   ]
  },
  {
   "cell_type": "code",
   "execution_count": null,
   "metadata": {},
   "outputs": [
    {
     "name": "stdout",
     "output_type": "stream",
     "text": [
      "Before genome swap: [ 4  3  7  0  2  5  9  1 -1  8 -1  6  4  3  2 -1  6  9  1  7  0 -1  8  5\n",
      "  3  6  1  8  2  4  9  7 -1 -1  5  0]\n",
      "After genome swap: [ 4  3  7  0  2  5  9  1 -1  8 -1  6  4  3  2 -1  6  9  1  7  0 -1  8  5\n",
      "  3  6  1  8  2  4  9  7 -1 -1  5  0]\n"
     ]
    }
   ],
   "source": [
    "print(\"Before genome swap:\", child1.genome.course_assignments)\n",
    "child1.genome.swap_course_assignments(0,0, 1)\n",
    "print(\"After genome swap:\", child1.genome.course_assignments)"
   ]
  },
  {
   "cell_type": "code",
   "execution_count": null,
   "metadata": {},
   "outputs": [
    {
     "name": "stdout",
     "output_type": "stream",
     "text": [
      "Error: Index out of range for course assignments.\n"
     ]
    }
   ],
   "source": [
    "try:    \n",
    "    child1.genome.swap_course_assignments(0,0, 10000)\n",
    "except IndexError as e:\n",
    "    print(\"Error:\", e)\n"
   ]
  }
 ],
 "metadata": {
  "kernelspec": {
   "display_name": "CIFO",
   "language": "python",
   "name": "python3"
  },
  "language_info": {
   "codemirror_mode": {
    "name": "ipython",
    "version": 3
   },
   "file_extension": ".py",
   "mimetype": "text/x-python",
   "name": "python",
   "nbconvert_exporter": "python",
   "pygments_lexer": "ipython3",
   "version": "3.12.9"
  }
 },
 "nbformat": 4,
 "nbformat_minor": 2
}
