{
 "cells": [
  {
   "cell_type": "markdown",
   "metadata": {},
   "source": [
    "# 🧬 Solution_RD: Genetic Algorithm Individual for Resource Distribution\n",
    "\n",
    "This notebook documents the `Solution_RD` class, a domain-specific implementation of the `Individual` abstract base class tailored for solving a resource distribution problem involving participants, houses, and courses. The objective balances logistical and social criteria using a flexible and pluggable design.\n",
    "\n",
    "## 🧱 Class Overview\n",
    "\n",
    "- `Solution_RD`: A concrete subclass of `Individual` that represents a candidate solution for assigning participants to houses and courses.\n",
    "  - Representation encodes both **house allocation** and **course enrollment**.\n",
    "  - Fitness balances two components:\n",
    "    - **Social fitness**: Encourages participant mixing across courses.\n",
    "    - **Logistic fitness**: Penalizes long distances between participant houses (based on a distance matrix).\n",
    "  - Customizable fitness trade-off via `alpha` and `beta`.\n",
    "\n",
    "## ⚙️ Parameters\n",
    "\n",
    "- `data_matrix`: A 2D numpy array of distances between participants.\n",
    "- `account_for_previous_fitness`: If `True`, tracks fitness changes over time.\n",
    "- `probability_social_mutation`: Probability of performing a social mutation.\n",
    "- `alpha`, `beta`: Weights controlling the importance of social vs. logistic fitness.\n",
    "\n",
    "## ✅ Features Demonstrated\n",
    "\n",
    "1. **Random Initialization**\n",
    "   - Genome includes both house and course assignments.\n",
    "   - Ensures constraints like house capacity and number of houses are respected.\n",
    "\n",
    "2. **Fitness Evaluation**\n",
    "   - Calculated as a weighted sum of:\n",
    "     - Social interaction score (maximize diversity in house-course assignments).\n",
    "     - Logistic penalty (minimize travel distances).\n",
    "   - Supports lazy evaluation and caching.\n",
    "\n",
    "3. **Mutation**\n",
    "   - Mutation type (social or logistic) chosen probabilistically.\n",
    "   - Mutates in-place.\n",
    "\n",
    "4. **Crossover**\n",
    "   - Combines genome segments from two parents (to be implemented or overridden if necessary).\n",
    "\n",
    "5. **Parameterization**\n",
    "   - Adjust evolutionary pressure via `alpha`, `beta`, and mutation probabilities.\n",
    "\n",
    "6. **Fitness History**\n",
    "   - Tracks `previous_fitness` and `next_fitness` for advanced evolutionary strategies.\n",
    "\n",
    "## 🧠 Design Highlights\n",
    "\n",
    "- Extends `Individual` with problem-specific logic, maintaining modularity.\n",
    "- Balances domain constraints with genetic flexibility.\n",
    "- Supports experimentation with different fitness weights and mutation strategies.\n",
    "\n",
    "This class is suitable for constrained optimization tasks in social or logistical planning domains and can be integrated seamlessly into the larger genetic algorithm framework.\n"
   ]
  },
  {
   "cell_type": "markdown",
   "metadata": {},
   "source": [
    "# Data Ingestion"
   ]
  },
  {
   "cell_type": "code",
   "execution_count": null,
   "metadata": {},
   "outputs": [],
   "source": [
    "import os\n",
    "import pandas as pd\n",
    "os.chdir(os.pardir) # comment if you are running this more than once\n",
    "data_matrix_df = pd.read_csv('data/distance_matrix_official.csv', index_col=0)\n",
    "data_matrix_np = data_matrix_df.to_numpy()\n",
    "data_matrix_np.shape"
   ]
  },
  {
   "cell_type": "markdown",
   "metadata": {},
   "source": [
    "# Testing Features"
   ]
  },
  {
   "cell_type": "markdown",
   "metadata": {},
   "source": [
    "## Create two individuals\n"
   ]
  },
  {
   "cell_type": "code",
   "execution_count": null,
   "metadata": {},
   "outputs": [],
   "source": [
    "from Genetic_algorithm.fitness import ResourceFitness\n",
    "from Genetic_algorithm.genome import Genome\n",
    "from Genetic_algorithm.solution_rd import SolutionRD\n",
    "from Genetic_algorithm.mutations import logistic_mutation, social_mutation, logistic_mutation_2\n",
    "from Genetic_algorithm.crossovers import social_crossover, logistic_crossover_2, full_crossover\n",
    "\n",
    "my_fitness = ResourceFitness(data_matrix_np)\n",
    "my_genome = Genome()\n",
    "\n",
    "first_solution = SolutionRD(my_fitness, Genome, [logistic_mutation, social_mutation], [logistic_crossover_2, social_crossover])\n",
    "secomnd_solution = SolutionRD(my_fitness, Genome, [logistic_mutation, social_mutation], [logistic_crossover_2, social_crossover])"
   ]
  },
  {
   "cell_type": "markdown",
   "metadata": {},
   "source": [
    "## Crossover\n"
   ]
  },
  {
   "cell_type": "code",
   "execution_count": null,
   "metadata": {},
   "outputs": [],
   "source": [
    "for _ in range(1000):\n",
    "    child1, child2 = first_solution @ secomnd_solution\n",
    "    child1.mutation()\n",
    "print(\"Fitness (child):\", float(child1))\n",
    "print(\"Fitness (child):\", float(child2))"
   ]
  },
  {
   "cell_type": "markdown",
   "metadata": {},
   "source": [
    "## Mutation\n"
   ]
  },
  {
   "cell_type": "code",
   "execution_count": null,
   "metadata": {},
   "outputs": [],
   "source": [
    "my_fitness.partecipation_matrix(genome=child1.genome)"
   ]
  },
  {
   "cell_type": "code",
   "execution_count": null,
   "metadata": {},
   "outputs": [],
   "source": [
    "mutant = child1.copy_Individual()\n",
    "mutant.mutation()\n",
    "print(\"original Individual:\", child1.genome)\n",
    "print(\"Mutated Individual:\", mutant.genome)\n",
    "print(\"Fitness (original):\", float(child1))\n",
    "print(\"Fitness (mutated):\", float(mutant))"
   ]
  },
  {
   "cell_type": "markdown",
   "metadata": {},
   "source": [
    "## Iteration (generate mutated versions) (has to be resolved)"
   ]
  },
  {
   "cell_type": "code",
   "execution_count": null,
   "metadata": {},
   "outputs": [],
   "source": [
    "print(\"\\nMultiple Mutations:\")\n",
    "for i, m in enumerate(child1):\n",
    "    print(f\"Mutation {i+1}:\", m, \"Fitness:\", m)"
   ]
  },
  {
   "cell_type": "markdown",
   "metadata": {},
   "source": [
    "## Operator Overloading"
   ]
  },
  {
   "cell_type": "code",
   "execution_count": null,
   "metadata": {},
   "outputs": [],
   "source": [
    "print(\"\\nUsing ** Operator for Self-Crossover\")\n",
    "clones = child1 ** 3\n",
    "for i, c1, in enumerate(clones):\n",
    "    print(f\"Clone {i+1}:\", c1, \"Fitness:\", c1)\n",
    "   "
   ]
  },
  {
   "cell_type": "markdown",
   "metadata": {},
   "source": [
    "## Comparison\n"
   ]
  },
  {
   "cell_type": "code",
   "execution_count": null,
   "metadata": {},
   "outputs": [],
   "source": [
    "print(\"\\nIs Individual 1 better than Individual 2?\", child1 > child2)"
   ]
  },
  {
   "cell_type": "markdown",
   "metadata": {},
   "source": [
    "## Sorting and Deduplication via Set"
   ]
  },
  {
   "cell_type": "code",
   "execution_count": null,
   "metadata": {},
   "outputs": [],
   "source": [
    "print(\"\\n=== Sorting Individuals by Fitness ===\")\n",
    "individuals = [child for child in child1]\n",
    "\n",
    "for i, ind in enumerate(individuals):\n",
    "    print(f\"Ind {i+1}: Genome = {ind.genome}, Fitness = {float(ind)}\")\n",
    "\n",
    "sorted_individuals = sorted(individuals)\n",
    "print(\"\\nSorted by fitness (ascending):\")\n",
    "for i, ind in enumerate(sorted_individuals):\n",
    "    print(f\"Rank {i+1}: Genome = {ind.genome}, Fitness = {float(ind)}\")"
   ]
  },
  {
   "cell_type": "markdown",
   "metadata": {},
   "source": [
    "## Storing Unique Individuals in a Set"
   ]
  },
  {
   "cell_type": "code",
   "execution_count": null,
   "metadata": {},
   "outputs": [],
   "source": [
    "print(\"\\n=== Deduplication with Set ===\")\n",
    "ind2 = child1.copy_Individual(delete_fitness=False)  # Exact copy\n",
    "\n",
    "# Mutate a third individual to likely get a different genome\n",
    "ind3 = child1.copy_Individual(delete_fitness=False)\n",
    "ind3.mutation()\n",
    "\n",
    "ind_set = {child1, ind2, ind3}\n",
    "\n",
    "for i, ind in enumerate(ind_set):\n",
    "    print(f\"Unique {i+1}: Genome = {ind.genome}, Fitness = {float(ind)}\")\n",
    "\n",
    "print(f\"\\nTotal unique individuals: {len(ind_set)}\")"
   ]
  },
  {
   "cell_type": "markdown",
   "metadata": {},
   "source": [
    "# accessing the genome (removed)"
   ]
  },
  {
   "cell_type": "code",
   "execution_count": null,
   "metadata": {},
   "outputs": [],
   "source": [
    "print(\"Before genome swap:\", child1.genome.course_assignments)\n",
    "child1.genome.swap_course_assignments(0,0, 1)\n",
    "print(\"After genome swap:\", child1.genome.course_assignments)"
   ]
  },
  {
   "cell_type": "code",
   "execution_count": null,
   "metadata": {},
   "outputs": [],
   "source": [
    "try:    \n",
    "    child1.genome.swap_course_assignments(0,0, 10000)\n",
    "except IndexError as e:\n",
    "    print(\"Error:\", e)"
   ]
  },
  {
   "cell_type": "markdown",
   "metadata": {},
   "source": [
    "# genetic algorithm"
   ]
  },
  {
   "cell_type": "code",
   "execution_count": null,
   "metadata": {},
   "outputs": [],
   "source": [
    "import random\n",
    "from typing import List\n",
    "\n",
    "def tournament_selection(\n",
    "    population: List[SolutionRD],\n",
    "    maximization: bool = False,\n",
    "    k: int = 3\n",
    ") -> SolutionRD:\n",
    "    \"\"\"\n",
    "    k-way tournament (with replacement), unified for minimization or maximization.\n",
    "\n",
    "    Parameters\n",
    "    ----------\n",
    "    population : List[SolutionRD]\n",
    "        Current population.\n",
    "    maximization : bool, default=False\n",
    "        If False, lower fitness is better (minimize). If True, higher fitness is better.\n",
    "    k : int, default=3\n",
    "        Tournament size (number of contestants).\n",
    "\n",
    "    Returns\n",
    "    -------\n",
    "    SolutionRD\n",
    "        The tournament winner.\n",
    "    \"\"\"\n",
    "    # Randomly select k individuals from the population\n",
    "    contestants = random.choices(population, k=k)\n",
    "    \n",
    "    # Determine the winner based on fitness\n",
    "    if maximization:\n",
    "        winner = max(contestants, key=lambda ind: float(ind))\n",
    "    else:\n",
    "        winner = min(contestants, key=lambda ind: float(ind))\n",
    "    \n",
    "    return winner\n",
    "\n",
    "\n",
    "def rank_selection(\n",
    "    population: List[SolutionRD],\n",
    "    maximization: bool = False\n",
    ") -> SolutionRD:\n",
    "    \"\"\"\n",
    "    Rank-based roulette selection.\n",
    "\n",
    "    1. Sort population by fitness.\n",
    "    2. Assign weights N, N-1, …, 1 (best gets highest weight).\n",
    "    3. Sample one individual proportionally to its weight.\n",
    "\n",
    "    Parameters\n",
    "    ----------\n",
    "    population : List[Individual]\n",
    "        Current population.\n",
    "    maximization : bool, default False\n",
    "        If False, lower fitness is better; if True, higher fitness is better.\n",
    "\n",
    "    Returns\n",
    "    -------\n",
    "    Individual\n",
    "        The selected individual.\n",
    "    \"\"\"\n",
    "    # Sort population by fitness\n",
    "    sorted_population = sorted(population, reverse=maximization)\n",
    "    \n",
    "    # Assign weights\n",
    "    weights = list(range(len(sorted_population), 0, -1))\n",
    "    \n",
    "    # Calculate total weight\n",
    "    total_weight = sum(weights)\n",
    "    \n",
    "    # Calculate selection probabilities\n",
    "    probabilities = [weight / total_weight for weight in weights]\n",
    "    \n",
    "    # Select an individual based on the calculated probabilities\n",
    "    return random.choices(sorted_population, weights=probabilities, k=1)[0]\n",
    "\n",
    "    \n",
    "\n",
    "first_solution = SolutionRD(my_fitness, Genome, [logistic_mutation, social_mutation], [logistic_crossover_2, social_crossover])\n",
    "population = [first_solution.copy_Individual() for _ in range(10)]"
   ]
  },
  {
   "cell_type": "code",
   "execution_count": null,
   "metadata": {},
   "outputs": [],
   "source": [
    "ranked_winner = rank_selection(population)\n",
    "print(\"Ranked Winner:\", ranked_winner.genome, \"Fitness:\", float(ranked_winner))"
   ]
  },
  {
   "cell_type": "code",
   "execution_count": null,
   "metadata": {},
   "outputs": [],
   "source": [
    "tournament_winner = tournament_selection(population)\n",
    "print(\"Ranked Winner:\", ranked_winner.genome, \"Fitness:\", float(ranked_winner))"
   ]
  },
  {
   "cell_type": "code",
   "execution_count": null,
   "metadata": {},
   "outputs": [],
   "source": [
    " \n",
    "def genetic_algorithm(\n",
    "    gen_count: int,\n",
    "    selection_algorithm: list[callable],\n",
    "    mutation_algorithms: list[callable],\n",
    "    crossover_algorithms: list[callable],\n",
    "    fitness_instance: ResourceFitness,\n",
    "    Genome_class: Genome,\n",
    "    maximization: bool = False,\n",
    "    xo_prob: float = 0.9,\n",
    "    mut_prob: float = 0.2,\n",
    "    social_mutation_prob: float = 0.2,\n",
    "    social_crossover_prob: float = 0.2,\n",
    "    population_size: int = 10,\n",
    "    elitism: bool = True,\n",
    "    verbose: bool = False,\n",
    "):\n",
    "    \"\"\"\n",
    "    Genetic Algorithm for solving optimization problems.\n",
    "    This function implements a genetic algorithm that evolves a population of solutions\n",
    "    over a specified number of generations. It uses selection, mutation, and crossover\n",
    "    algorithms to create new solutions and improve the population's fitness.\n",
    "    The algorithm can be configured with various parameters, including the number of\n",
    "    generations, selection method, mutation and crossover probabilities, and whether\n",
    "    to use elitism.\n",
    "\n",
    "    Args:\n",
    "        gen_count (int): number of generations to evolve.\n",
    "        selection_algorithm (list[callable]): selection algorithm to use.\n",
    "        mutation_algorithms (list[callable]): choose from Genetic_algotithm.mutations\n",
    "        crossover_algorithms (list[callable]): choose from Genetic_algorithm.crossovers\n",
    "        fitness_instance (ResourceFitness): instancee of the fitness class (it's important to instanciate it before as it holds the data matrix)\n",
    "        Genome_class (Genome): class of the genome to be used (will be instanciated in the function)\n",
    "        maximization (bool, optional): _description_. Defaults to False.\n",
    "        xo_prob (float, optional): _description_. Defaults to 0.9.\n",
    "        mut_prob (float, optional): _description_. Defaults to 0.2.\n",
    "        social_mutation_prob (float, optional): _description_. Defaults to 0.2.\n",
    "        social_crossover_prob (float, optional): _description_. Defaults to 0.2.\n",
    "        elitism (bool, optional): _description_. Defaults to True.\n",
    "        verbose (bool, optional): _description_. Defaults to False.\n",
    "        \n",
    "    \"\"\"\n",
    "    \n",
    "    \n",
    "    \n",
    "    first_solution = SolutionRD(fitness_instance, Genome_class, mutation_algorithms, crossover_algorithms)\n",
    "    first_solution.prob_social_mutation = social_mutation_prob\n",
    "    first_solution.prob_social_crossover = social_crossover_prob\n",
    "    \n",
    "    GA_population = [first_solution.copy_Individual() for _ in range(population_size)]\n",
    "    \n",
    "    \n",
    "    for generation in range(gen_count):\n",
    "        if verbose:\n",
    "            print(f\"Generation {generation+1}/{gen_count}\")\n",
    "        \n",
    "        # Selection\n",
    "        selected_individuals = [selection_algorithm(GA_population, maximization) for _ in range(population_size)]\n",
    "        \n",
    "        # Crossover\n",
    "        new_population = []\n",
    "        for i in range(0, population_size):\n",
    "            for j in range(i+1, population_size):\n",
    "                if random.random() < xo_prob:\n",
    "                    parent1 = selected_individuals[i]\n",
    "                    parent2 = selected_individuals[j]\n",
    "                    child1, child2 = parent1 @ parent2\n",
    "                    new_population.append(child1)\n",
    "                    new_population.append(child2)\n",
    "                    \n",
    "        \n",
    "        # Mutation\n",
    "        for individual in new_population:\n",
    "            if random.random() < mut_prob:\n",
    "                individual.mutation()\n",
    "        \n",
    "        # Elitism\n",
    "        if elitism:\n",
    "            best_individual = min(GA_population) if not maximization else max(GA_population)\n",
    "            new_population[0] = best_individual\n",
    "        \n",
    "        GA_population = new_population\n",
    "    \n",
    "    # Return the best individual from the final population\n",
    "    best_individual = min(GA_population) if not maximization else max(GA_population)\n",
    "    return best_individual\n",
    "\n",
    "# Example usage\n",
    "best_solution = genetic_algorithm(\n",
    "    gen_count=100,\n",
    "    selection_algorithm=tournament_selection,\n",
    "    mutation_algorithms=[logistic_mutation, social_mutation],\n",
    "    crossover_algorithms=[logistic_crossover_2, social_crossover],\n",
    "    fitness_instance=my_fitness,\n",
    "    Genome_class=Genome,\n",
    "    maximization=False,\n",
    "    xo_prob=0.9,\n",
    "    mut_prob=0.2,\n",
    "    social_mutation_prob=0.2,\n",
    "    social_crossover_prob=0.2,\n",
    "    population_size=10,\n",
    "    elitism=True,\n",
    "    verbose=True\n",
    ")\n",
    "print(\"Best Solution Genome:\", best_solution.genome)\n",
    "print(\"Best Solution Fitness:\", float(best_solution))\n",
    "print(\"Average distance:\", best_solution.fitness_instance._calculate_social_fitness(best_solution.genome))\n",
    "\n"
   ]
  }
 ],
 "metadata": {
  "kernelspec": {
   "display_name": "CIFO",
   "language": "python",
   "name": "python3"
  },
  "language_info": {
   "codemirror_mode": {
    "name": "ipython",
    "version": 3
   },
   "file_extension": ".py",
   "mimetype": "text/x-python",
   "name": "python",
   "nbconvert_exporter": "python",
   "pygments_lexer": "ipython3",
   "version": "3.12.9"
  }
 },
 "nbformat": 4,
 "nbformat_minor": 2
}
