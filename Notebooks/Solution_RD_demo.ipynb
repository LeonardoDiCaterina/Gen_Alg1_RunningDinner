{
 "cells": [
  {
   "cell_type": "markdown",
   "metadata": {},
   "source": [
    "# 🧬 Solution_RD: Genetic Algorithm Individual for Resource Distribution\n",
    "\n",
    "This notebook documents the `Solution_RD` class, a domain-specific implementation of the `Individual` abstract base class tailored for solving a resource distribution problem involving participants, houses, and courses. The objective balances logistical and social criteria using a flexible and pluggable design.\n",
    "\n",
    "## 🧱 Class Overview\n",
    "\n",
    "- `Solution_RD`: A concrete subclass of `Individual` that represents a candidate solution for assigning participants to houses and courses.\n",
    "  - Representation encodes both **house allocation** and **course enrollment**.\n",
    "  - Fitness balances two components:\n",
    "    - **Social fitness**: Encourages participant mixing across courses.\n",
    "    - **Logistic fitness**: Penalizes long distances between participant houses (based on a distance matrix).\n",
    "  - Customizable fitness trade-off via `alpha` and `beta`.\n",
    "\n",
    "## ⚙️ Parameters\n",
    "\n",
    "- `data_matrix`: A 2D numpy array of distances between participants.\n",
    "- `account_for_previous_fitness`: If `True`, tracks fitness changes over time.\n",
    "- `probability_social_mutation`: Probability of performing a social mutation.\n",
    "- `alpha`, `beta`: Weights controlling the importance of social vs. logistic fitness.\n",
    "\n",
    "## ✅ Features Demonstrated\n",
    "\n",
    "1. **Random Initialization**\n",
    "   - Genome includes both house and course assignments.\n",
    "   - Ensures constraints like house capacity and number of houses are respected.\n",
    "\n",
    "2. **Fitness Evaluation**\n",
    "   - Calculated as a weighted sum of:\n",
    "     - Social interaction score (maximize diversity in house-course assignments).\n",
    "     - Logistic penalty (minimize travel distances).\n",
    "   - Supports lazy evaluation and caching.\n",
    "\n",
    "3. **Mutation**\n",
    "   - Mutation type (social or logistic) chosen probabilistically.\n",
    "   - Mutates in-place.\n",
    "\n",
    "4. **Crossover**\n",
    "   - Combines genome segments from two parents (to be implemented or overridden if necessary).\n",
    "\n",
    "5. **Parameterization**\n",
    "   - Adjust evolutionary pressure via `alpha`, `beta`, and mutation probabilities.\n",
    "\n",
    "6. **Fitness History**\n",
    "   - Tracks `previous_fitness` and `next_fitness` for advanced evolutionary strategies.\n",
    "\n",
    "## 🧠 Design Highlights\n",
    "\n",
    "- Extends `Individual` with problem-specific logic, maintaining modularity.\n",
    "- Balances domain constraints with genetic flexibility.\n",
    "- Supports experimentation with different fitness weights and mutation strategies.\n",
    "\n",
    "This class is suitable for constrained optimization tasks in social or logistical planning domains and can be integrated seamlessly into the larger genetic algorithm framework.\n"
   ]
  },
  {
   "cell_type": "markdown",
   "metadata": {},
   "source": [
    "# Data Ingestion"
   ]
  },
  {
   "cell_type": "code",
   "execution_count": 1,
   "metadata": {},
   "outputs": [
    {
     "data": {
      "text/plain": [
       "(68, 68)"
      ]
     },
     "execution_count": 1,
     "metadata": {},
     "output_type": "execute_result"
    }
   ],
   "source": [
    "import os\n",
    "import pandas as pd\n",
    "os.chdir(os.pardir) # comment if you are running this more than once\n",
    "data_matrix_df = pd.read_csv('data/distance_matrix_official.csv', index_col=0)\n",
    "data_matrix_np = data_matrix_df.to_numpy()\n",
    "data_matrix_np.shape"
   ]
  },
  {
   "cell_type": "markdown",
   "metadata": {},
   "source": [
    "# Testing Features"
   ]
  },
  {
   "cell_type": "markdown",
   "metadata": {},
   "source": [
    "## Create two individuals\n"
   ]
  },
  {
   "cell_type": "code",
   "execution_count": 2,
   "metadata": {},
   "outputs": [],
   "source": [
    "from Genetic_algorithm.fitness import ResourceFitness\n",
    "from Genetic_algorithm.genome import Genome\n",
    "from Genetic_algorithm.solution_rd import SolutionRD\n",
    "from Genetic_algorithm.mutations import logistic_mutation, social_mutation, logistic_mutation_2\n",
    "from Genetic_algorithm.crossovers import social_crossover, logistic_crossover_2, full_crossover\n",
    "\n",
    "my_fitness = ResourceFitness(data_matrix_np)\n",
    "my_genome = Genome()\n",
    "\n",
    "first_solution = SolutionRD(my_fitness, Genome, [logistic_mutation, social_mutation], [logistic_crossover_2, social_crossover])\n",
    "secomnd_solution = SolutionRD(my_fitness, Genome, [logistic_mutation, social_mutation], [logistic_crossover_2, social_crossover])"
   ]
  },
  {
   "cell_type": "markdown",
   "metadata": {},
   "source": [
    "## Crossover\n"
   ]
  },
  {
   "cell_type": "code",
   "execution_count": 3,
   "metadata": {},
   "outputs": [
    {
     "name": "stdout",
     "output_type": "stream",
     "text": [
      "Fitness (child): 3.205545487495469\n",
      "Fitness (child): 2.845772594752187\n"
     ]
    }
   ],
   "source": [
    "for _ in range(1000):\n",
    "    child1, child2 = first_solution @ secomnd_solution\n",
    "    child1.mutation()\n",
    "print(\"Fitness (child):\", float(child1))\n",
    "print(\"Fitness (child):\", float(child2))"
   ]
  },
  {
   "cell_type": "markdown",
   "metadata": {},
   "source": [
    "## Mutation\n"
   ]
  },
  {
   "cell_type": "code",
   "execution_count": 4,
   "metadata": {},
   "outputs": [
    {
     "data": {
      "text/plain": [
       "array([[0, 0, 0, 0, 0, 0, 0, 0, 0, 0],\n",
       "       [1, 0, 0, 0, 0, 0, 0, 0, 0, 0],\n",
       "       [0, 0, 0, 0, 0, 0, 0, 0, 0, 0],\n",
       "       [1, 1, 1, 0, 0, 0, 0, 0, 0, 0],\n",
       "       [1, 0, 0, 0, 0, 0, 0, 0, 0, 0],\n",
       "       [1, 1, 1, 1, 1, 0, 0, 0, 0, 0],\n",
       "       [1, 1, 1, 0, 1, 0, 0, 0, 0, 0],\n",
       "       [1, 0, 0, 0, 1, 0, 1, 0, 0, 0],\n",
       "       [1, 0, 1, 1, 1, 0, 1, 1, 0, 0],\n",
       "       [1, 0, 0, 1, 1, 1, 1, 1, 0, 0]])"
      ]
     },
     "execution_count": 4,
     "metadata": {},
     "output_type": "execute_result"
    }
   ],
   "source": [
    "my_fitness.partecipation_matrix(genome=child1.genome)"
   ]
  },
  {
   "cell_type": "code",
   "execution_count": 5,
   "metadata": {},
   "outputs": [
    {
     "name": "stdout",
     "output_type": "stream",
     "text": [
      "original Individual: 0-1110221704-19528-13689760453-1-11293574061-1-182\n",
      "Mutated Individual: 0-1110221704-19528-13689760453-1-11293574061-1-182\n",
      "Fitness (original): 3.205545487495469\n",
      "Fitness (mutated): 3.205545487495469\n"
     ]
    }
   ],
   "source": [
    "mutant = child1.copy_Individual()\n",
    "mutant.mutation()\n",
    "print(\"original Individual:\", child1.genome)\n",
    "print(\"Mutated Individual:\", mutant.genome)\n",
    "print(\"Fitness (original):\", float(child1))\n",
    "print(\"Fitness (mutated):\", float(mutant))"
   ]
  },
  {
   "cell_type": "markdown",
   "metadata": {},
   "source": [
    "## Iteration (generate mutated versions) (has to be resolved)"
   ]
  },
  {
   "cell_type": "code",
   "execution_count": 6,
   "metadata": {},
   "outputs": [
    {
     "name": "stdout",
     "output_type": "stream",
     "text": [
      "\n",
      "Multiple Mutations:\n",
      "Mutation 1: Fitness: 3.290089470061941 Fitness: Fitness: 3.290089470061941\n",
      "Mutation 2: Fitness: 2.003034682080925 Fitness: Fitness: 2.003034682080925\n",
      "Mutation 3: Fitness: 2.610565754964406 Fitness: Fitness: 2.610565754964406\n",
      "Mutation 4: Fitness: 2.7882051282051283 Fitness: Fitness: 2.7882051282051283\n",
      "Mutation 5: Fitness: 2.868257756563246 Fitness: Fitness: 2.868257756563246\n"
     ]
    }
   ],
   "source": [
    "print(\"\\nMultiple Mutations:\")\n",
    "for i, m in enumerate(child1):\n",
    "    print(f\"Mutation {i+1}:\", m, \"Fitness:\", m)"
   ]
  },
  {
   "cell_type": "markdown",
   "metadata": {},
   "source": [
    "## Operator Overloading"
   ]
  },
  {
   "cell_type": "code",
   "execution_count": 7,
   "metadata": {},
   "outputs": [
    {
     "name": "stdout",
     "output_type": "stream",
     "text": [
      "\n",
      "Using ** Operator for Self-Crossover\n",
      "Clone 1: (<Genetic_algorithm.solution_rd.SolutionRD object at 0x10d36a9c0>, <Genetic_algorithm.solution_rd.SolutionRD object at 0x10d366240>) Fitness: (<Genetic_algorithm.solution_rd.SolutionRD object at 0x10d36a9c0>, <Genetic_algorithm.solution_rd.SolutionRD object at 0x10d366240>)\n",
      "Clone 2: (<Genetic_algorithm.solution_rd.SolutionRD object at 0x10d35cce0>, <Genetic_algorithm.solution_rd.SolutionRD object at 0x10d31e390>) Fitness: (<Genetic_algorithm.solution_rd.SolutionRD object at 0x10d35cce0>, <Genetic_algorithm.solution_rd.SolutionRD object at 0x10d31e390>)\n",
      "Clone 3: (<Genetic_algorithm.solution_rd.SolutionRD object at 0x10d35c290>, <Genetic_algorithm.solution_rd.SolutionRD object at 0x10d35c230>) Fitness: (<Genetic_algorithm.solution_rd.SolutionRD object at 0x10d35c290>, <Genetic_algorithm.solution_rd.SolutionRD object at 0x10d35c230>)\n"
     ]
    }
   ],
   "source": [
    "print(\"\\nUsing ** Operator for Self-Crossover\")\n",
    "clones = child1 ** 3\n",
    "for i, c1, in enumerate(clones):\n",
    "    print(f\"Clone {i+1}:\", c1, \"Fitness:\", c1)\n",
    "   "
   ]
  },
  {
   "cell_type": "markdown",
   "metadata": {},
   "source": [
    "## Comparison\n"
   ]
  },
  {
   "cell_type": "code",
   "execution_count": 8,
   "metadata": {},
   "outputs": [
    {
     "name": "stdout",
     "output_type": "stream",
     "text": [
      "\n",
      "Is Individual 1 better than Individual 2? True\n"
     ]
    }
   ],
   "source": [
    "print(\"\\nIs Individual 1 better than Individual 2?\", child1 > child2)"
   ]
  },
  {
   "cell_type": "markdown",
   "metadata": {},
   "source": [
    "## Sorting and Deduplication via Set"
   ]
  },
  {
   "cell_type": "code",
   "execution_count": 9,
   "metadata": {},
   "outputs": [
    {
     "name": "stdout",
     "output_type": "stream",
     "text": [
      "\n",
      "=== Sorting Individuals by Fitness ===\n",
      "Ind 1: Genome = 2-1012109657-128034-1134-185-1791260826-139-140157, Fitness = 2.949334516415262\n",
      "Ind 2: Genome = 10-1212065321084-1-1793409-126715-1897450281-16-13, Fitness = 3.455725769755802\n",
      "Ind 3: Genome = 11-102024521-19780-1363618947-10-152-123780-145196, Fitness = 2.3432198499711485\n",
      "Ind 4: Genome = -12011026370418295-1-181603-14-12579-148597-162013, Fitness = 2.730977620730271\n",
      "Ind 5: Genome = 0-1220110739-184-12561-192603-151748025186-14739-1, Fitness = 2.0472140762463344\n",
      "\n",
      "Sorted by fitness (ascending):\n",
      "Rank 1: Genome = 0-1220110739-184-12561-192603-151748025186-14739-1, Fitness = 2.0472140762463344\n",
      "Rank 2: Genome = 11-102024521-19780-1363618947-10-152-123780-145196, Fitness = 2.3432198499711485\n",
      "Rank 3: Genome = -12011026370418295-1-181603-14-12579-148597-162013, Fitness = 2.730977620730271\n",
      "Rank 4: Genome = 2-1012109657-128034-1134-185-1791260826-139-140157, Fitness = 2.949334516415262\n",
      "Rank 5: Genome = 10-1212065321084-1-1793409-126715-1897450281-16-13, Fitness = 3.455725769755802\n"
     ]
    }
   ],
   "source": [
    "print(\"\\n=== Sorting Individuals by Fitness ===\")\n",
    "individuals = [child for child in child1]\n",
    "\n",
    "for i, ind in enumerate(individuals):\n",
    "    print(f\"Ind {i+1}: Genome = {ind.genome}, Fitness = {float(ind)}\")\n",
    "\n",
    "sorted_individuals = sorted(individuals)\n",
    "print(\"\\nSorted by fitness (ascending):\")\n",
    "for i, ind in enumerate(sorted_individuals):\n",
    "    print(f\"Rank {i+1}: Genome = {ind.genome}, Fitness = {float(ind)}\")"
   ]
  },
  {
   "cell_type": "markdown",
   "metadata": {},
   "source": [
    "## Storing Unique Individuals in a Set"
   ]
  },
  {
   "cell_type": "code",
   "execution_count": 10,
   "metadata": {},
   "outputs": [
    {
     "name": "stdout",
     "output_type": "stream",
     "text": [
      "\n",
      "=== Deduplication with Set ===\n",
      "Unique 1: Genome = 0-1110221704-19528-13689760453-1-11293574061-1-182, Fitness = 3.205545487495469\n",
      "\n",
      "Total unique individuals: 1\n"
     ]
    }
   ],
   "source": [
    "print(\"\\n=== Deduplication with Set ===\")\n",
    "ind2 = child1.copy_Individual(delete_fitness=False)  # Exact copy\n",
    "\n",
    "# Mutate a third individual to likely get a different genome\n",
    "ind3 = child1.copy_Individual(delete_fitness=False)\n",
    "ind3.mutation()\n",
    "\n",
    "ind_set = {child1, ind2, ind3}\n",
    "\n",
    "for i, ind in enumerate(ind_set):\n",
    "    print(f\"Unique {i+1}: Genome = {ind.genome}, Fitness = {float(ind)}\")\n",
    "\n",
    "print(f\"\\nTotal unique individuals: {len(ind_set)}\")"
   ]
  },
  {
   "cell_type": "markdown",
   "metadata": {},
   "source": [
    "# accessing the genome (removed)"
   ]
  },
  {
   "cell_type": "code",
   "execution_count": 11,
   "metadata": {},
   "outputs": [
    {
     "name": "stdout",
     "output_type": "stream",
     "text": [
      "Before genome swap: [ 1  7  0  4 -1  9  5  2  8 -1  3  6  8  9  7  6  0  4  5  3 -1 -1  1  2\n",
      "  9  3  5  7  4  0  6  1 -1 -1  8  2]\n",
      "After genome swap: [ 1  7  0  4 -1  9  5  2  8 -1  3  6  8  9  7  6  0  4  5  3 -1 -1  1  2\n",
      "  9  3  5  7  4  0  6  1 -1 -1  8  2]\n"
     ]
    }
   ],
   "source": [
    "print(\"Before genome swap:\", child1.genome.course_assignments)\n",
    "child1.genome.swap_course_assignments(0,0, 1)\n",
    "print(\"After genome swap:\", child1.genome.course_assignments)"
   ]
  },
  {
   "cell_type": "code",
   "execution_count": 12,
   "metadata": {},
   "outputs": [
    {
     "name": "stdout",
     "output_type": "stream",
     "text": [
      "Error: Index out of range for course assignments.\n"
     ]
    }
   ],
   "source": [
    "try:    \n",
    "    child1.genome.swap_course_assignments(0,0, 10000)\n",
    "except IndexError as e:\n",
    "    print(\"Error:\", e)"
   ]
  },
  {
   "cell_type": "markdown",
   "metadata": {},
   "source": [
    "# genetic algorithm"
   ]
  },
  {
   "cell_type": "code",
   "execution_count": 14,
   "metadata": {},
   "outputs": [],
   "source": [
    "import random\n",
    "from typing import List\n",
    "\n",
    "import random\n",
    "from typing import List\n",
    "\n",
    "def tournament_selection(\n",
    "    population: List[SolutionRD],\n",
    "    maximization: bool = False,\n",
    "    k: int = 3\n",
    ") -> SolutionRD:\n",
    "    \"\"\"\n",
    "    k-way tournament (with replacement), unified for minimization or maximization.\n",
    "\n",
    "    Parameters\n",
    "    ----------\n",
    "    population : List[SolutionRD]\n",
    "        Current population.\n",
    "    maximization : bool, default=False\n",
    "        If False, lower fitness is better (minimize). If True, higher fitness is better.\n",
    "    k : int, default=3\n",
    "        Tournament size (number of contestants).\n",
    "\n",
    "    Returns\n",
    "    -------\n",
    "    SolutionRD\n",
    "        The tournament winner.\n",
    "    \"\"\"\n",
    "    # pick k random contestants (with replacement)\n",
    "    contestants = random.choices(population, k=k)\n",
    "    # choose best according to the mode\n",
    "    if maximization:\n",
    "        # higher fitness wins\n",
    "        return max(contestants)\n",
    "    else:\n",
    "        # lower fitness wins\n",
    "        return min(contestants)\n",
    "\n",
    "\n",
    "def rank_selection(\n",
    "    population: List[SolutionRD],\n",
    "    maximization: bool = False\n",
    ") -> SolutionRD:\n",
    "    \"\"\"\n",
    "    Rank-based roulette selection.\n",
    "\n",
    "    1. Sort population by fitness.\n",
    "    2. Assign weights N, N-1, …, 1 (best gets highest weight).\n",
    "    3. Sample one individual proportionally to its weight.\n",
    "\n",
    "    Parameters\n",
    "    ----------\n",
    "    population : List[Individual]\n",
    "        Current population.\n",
    "    maximization : bool, default False\n",
    "        If False, lower fitness is better; if True, higher fitness is better.\n",
    "\n",
    "    Returns\n",
    "    -------\n",
    "    Individual\n",
    "        The selected individual.\n",
    "    \"\"\"\n",
    "    if maximization:\n",
    "        return max(population)\n",
    "    else:\n",
    "        return min(population)\n",
    "    \n",
    "    \n",
    "\n",
    "first_solution = SolutionRD(my_fitness, Genome, [logistic_mutation, social_mutation], [logistic_crossover_2, social_crossover])\n",
    "population = [first_solution.copy_Individual() for _ in range(10)]"
   ]
  },
  {
   "cell_type": "code",
   "execution_count": 19,
   "metadata": {},
   "outputs": [
    {
     "name": "stdout",
     "output_type": "stream",
     "text": [
      "Ranked Winner: 01-1220184-1-110796253843167-19-15026214-1379-1085 Fitness: 3.4686852589641437\n"
     ]
    }
   ],
   "source": [
    "ranked_winner = rank_selection(population)\n",
    "print(\"Ranked Winner:\", ranked_winner.genome, \"Fitness:\", float(ranked_winner))"
   ]
  },
  {
   "cell_type": "code",
   "execution_count": 20,
   "metadata": {},
   "outputs": [
    {
     "name": "stdout",
     "output_type": "stream",
     "text": [
      "Ranked Winner: 01-1220184-1-110796253843167-19-15026214-1379-1085 Fitness: 3.4686852589641437\n"
     ]
    }
   ],
   "source": [
    "tournament_winner = tournament_selection(population)\n",
    "print(\"Ranked Winner:\", ranked_winner.genome, \"Fitness:\", float(ranked_winner))"
   ]
  },
  {
   "cell_type": "code",
   "execution_count": null,
   "metadata": {},
   "outputs": [],
   "source": [
    " \n",
    "def genetic_algorithm(\n",
    "    initial_population: List[SolutionRD],\n",
    "    gen_count: int,\n",
    "    selection_algorithm: list[callable],\n",
    "    mutation_algorithms: list[callable],\n",
    "    crossover_algorithms: list[callable],\n",
    "    maximization: bool = False,\n",
    "    xo_prob: float = 0.9,\n",
    "    mut_prob: float = 0.2,\n",
    "    social_mutation_prob: float = 0.2,\n",
    "    social_crossover_prob: float = 0.2,\n",
    "    elitism: bool = True,\n",
    "    verbose: bool = False,\n",
    "):\n",
    "    first_solution = SolutionRD(my_fitness, Genome, mutation_algorithms, crossover_algorithms)\n",
    "    first_solution.prob_social_mutation = social_mutation_prob\n",
    "    first_solution.prob_social_crossover = social_crossover_prob"
   ]
  }
 ],
 "metadata": {
  "kernelspec": {
   "display_name": "CIFO",
   "language": "python",
   "name": "python3"
  },
  "language_info": {
   "codemirror_mode": {
    "name": "ipython",
    "version": 3
   },
   "file_extension": ".py",
   "mimetype": "text/x-python",
   "name": "python",
   "nbconvert_exporter": "python",
   "pygments_lexer": "ipython3",
   "version": "3.12.9"
  }
 },
 "nbformat": 4,
 "nbformat_minor": 2
}
