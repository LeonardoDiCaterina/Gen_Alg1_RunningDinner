{
 "cells": [
  {
   "cell_type": "markdown",
   "id": "196e20e2",
   "metadata": {},
   "source": [
    "<h1 align=\"center\">Final Solution</h1>"
   ]
  },
  {
   "cell_type": "code",
   "execution_count": 1,
   "id": "f83f7167",
   "metadata": {},
   "outputs": [],
   "source": [
    "import os\n",
    "import pandas as pd\n",
    "import random\n",
    "from copy import deepcopy\n",
    "data_path = os.path.join(os.getcwd(), 'Data', 'distance_matrix_official.csv')\n",
    "data_matrix_df = pd.read_csv(data_path, index_col=0)\n",
    "data_matrix_np = data_matrix_df.to_numpy()\n",
    "data_matrix_np.shape\n",
    "\n",
    "from Genetic_algorithm.fitness import ResourceFitness\n",
    "from Genetic_algorithm.genome import Genome\n",
    "from Genetic_algorithm.solution_rd import SolutionRD\n",
    "from Genetic_algorithm.mutations import logistic_mutation, social_mutation\n",
    "from Genetic_algorithm.crossovers import full_crossover\n",
    "from Genetic_algorithm.selection_algorithms import tournament_selection\n",
    "random.seed(0)\n",
    "\n",
    "my_fitness = ResourceFitness(data_matrix_np)\n",
    "\n",
    "first_solution = SolutionRD(my_fitness, Genome, [logistic_mutation, social_mutation], [full_crossover, full_crossover])\n",
    "second_solution = SolutionRD(my_fitness, Genome, [logistic_mutation, social_mutation], [full_crossover, full_crossover])"
   ]
  },
  {
   "cell_type": "code",
   "execution_count": 2,
   "id": "798d4c15",
   "metadata": {},
   "outputs": [
    {
     "name": "stderr",
     "output_type": "stream",
     "text": [
      "Runnig genetic alogrithm: 100%|██████████| 100/100 [00:19<00:00,  5.07 generation/s]"
     ]
    },
    {
     "name": "stdout",
     "output_type": "stream",
     "text": [
      "Best Solution Genome: 01122-104-1053198276-189315067-142-1276310589-14-1\n",
      "Best Solution Fitness: 4.46102629110796\n"
     ]
    },
    {
     "name": "stderr",
     "output_type": "stream",
     "text": [
      "\n"
     ]
    }
   ],
   "source": [
    "import tqdm\n",
    "def genetic_algorithm(\n",
    "    gen_count: int,\n",
    "    selection_algorithm: list[callable],\n",
    "    mutation_algorithms: list[callable],\n",
    "    crossover_algorithms: list[callable],\n",
    "    fitness_instance: ResourceFitness,\n",
    "    Genome_class: Genome,\n",
    "    maximization: bool = True,\n",
    "    xo_prob: float = 0.9,\n",
    "    mut_prob: float = 0.2,\n",
    "    social_mutation_prob: float = 0.2,\n",
    "    social_crossover_prob: float = 0.2,\n",
    "    population_size: int = 10,\n",
    "    elitism: bool = True,\n",
    "    save_logs: bool = False,\n",
    "):\n",
    "    \"\"\"\n",
    "    Genetic Algorithm for solving optimization problems.\n",
    "    This function implements a genetic algorithm that evolves a population of solutions\n",
    "    over a specified number of generations. It uses selection, mutation, and crossover\n",
    "    algorithms to create new solutions and improve the population's fitness.\n",
    "    The algorithm can be configured with various parameters, including the number of\n",
    "    generations, selection method, mutation and crossover probabilities, and whether\n",
    "    to use elitism.\n",
    "\n",
    "    Args:\n",
    "        gen_count (int): number of generations to evolve.\n",
    "        selection_algorithm (list[callable]): selection algorithm to use.\n",
    "        mutation_algorithms (list[callable]): choose from Genetic_algotithm.mutations\n",
    "        crossover_algorithms (list[callable]): choose from Genetic_algorithm.crossovers\n",
    "        fitness_instance (ResourceFitness): instancee of the fitness class (it's important to instanciate it before as it holds the data matrix)\n",
    "        Genome_class (Genome): class of the genome to be used (will be instanciated in the function)\n",
    "        maximization (bool, optional): _description_. Defaults to True.\n",
    "        xo_prob (float, optional): _description_. Defaults to 0.9.\n",
    "        mut_prob (float, optional): _description_. Defaults to 0.2.\n",
    "        social_mutation_prob (float, optional): _description_. Defaults to 0.2.\n",
    "        social_crossover_prob (float, optional): _description_. Defaults to 0.2.\n",
    "        elitism (bool, optional): _description_. Defaults to True.\n",
    "        verbose (bool, optional): _description_. Defaults to False.\n",
    "        \n",
    "    \"\"\"\n",
    "    \n",
    "    \n",
    "    \n",
    "    first_solution = SolutionRD(fitness_instance, Genome_class, mutation_algorithms, crossover_algorithms)\n",
    "    \n",
    "    first_solution.prob_social_mutation = social_mutation_prob\n",
    "    first_solution.prob_social_crossover = social_crossover_prob\n",
    "    first_solution.initial_population = population_size\n",
    "    \n",
    "    GA_population = [random_solution for random_solution in first_solution]\n",
    "    \n",
    "    if save_logs:\n",
    "        logs = []\n",
    "    for generation in tqdm.tqdm(range(gen_count), desc=\"Runnig genetic alogrithm\", unit=\" generation\"):\n",
    "        fitness_instance.number_of_calls = 0\n",
    "            \n",
    "        # Selection\n",
    "        selected_individuals = [selection_algorithm(GA_population, maximization) for _ in range(population_size)]\n",
    "        \n",
    "\n",
    "        # Crossover\n",
    "        new_population = []\n",
    "        for i in range(0, population_size):\n",
    "            for j in range(i+1, population_size):\n",
    "                if random.random() < xo_prob:\n",
    "                    parent1 = selected_individuals[i]\n",
    "                    parent2 = selected_individuals[j]\n",
    "                    child1, child2 = parent1 @ parent2\n",
    "                    new_population.append(child1)\n",
    "                    new_population.append(child2)\n",
    "        \n",
    "        if not new_population:\n",
    "            new_population = selected_individuals.copy()\n",
    "                   \n",
    "        \n",
    "        # Mutation\n",
    "        for individual in new_population:\n",
    "            if random.random() < mut_prob:\n",
    "                individual.mutation()\n",
    "        \n",
    "        # Elitism\n",
    "        if elitism:\n",
    "            best_individual = min(new_population) if not maximization else max(new_population)\n",
    "            new_population[0] = best_individual\n",
    "        \n",
    "        \n",
    "        GA_population = new_population\n",
    "        if save_logs:\n",
    "            \n",
    "            n_fitness_calls = fitness_instance.number_of_calls\n",
    "            best_individual_of_generation = min(GA_population) if not maximization else max(GA_population)\n",
    "            best_logistic_fitness = fitness_instance._calculate_logistic_fitness(best_individual_of_generation.genome)\n",
    "            best_social_fitness = fitness_instance._calculate_social_fitness(best_individual_of_generation.genome)\n",
    "            row = [n_fitness_calls, float(best_individual_of_generation), best_logistic_fitness, best_social_fitness]\n",
    "\n",
    "            logs.append(row)\n",
    "\n",
    "            # logs_df = pd.DataFrame(logs, columns=['n_fitness_calls', 'best_individual_fitness', 'best_logistic_fitness', 'best_social_fitness'])\n",
    "            # logs_df['cumulative_calls'] = logs_df['n_fitness_calls'].cumsum()\n",
    "            \n",
    "            # add here the savin of the logs\n",
    "            #logs_df.to_csv('logs.csv', index=False)\n",
    "            \n",
    "       \n",
    "    best_individual = min(GA_population) if not maximization else max(GA_population)\n",
    "    if save_logs:\n",
    "        return best_individual, logs\n",
    "    return best_individual\n",
    "\n",
    "# use\n",
    "best_solution, logs = genetic_algorithm(\n",
    "    gen_count=100,\n",
    "    selection_algorithm=tournament_selection,\n",
    "    mutation_algorithms=[logistic_mutation, social_mutation],\n",
    "    crossover_algorithms=[full_crossover, full_crossover],\n",
    "    fitness_instance=my_fitness,\n",
    "    Genome_class=Genome,\n",
    "    maximization=True,\n",
    "    xo_prob=0.8,\n",
    "    mut_prob=0.2,\n",
    "    social_mutation_prob=0.5,\n",
    "    social_crossover_prob=0.5,\n",
    "    population_size=10,\n",
    "    save_logs= True,\n",
    "    elitism=True\n",
    ")\n",
    "print(\"Best Solution Genome:\", best_solution.genome)\n",
    "print(\"Best Solution Fitness:\", float(best_solution))"
   ]
  },
  {
   "cell_type": "code",
   "execution_count": 3,
   "id": "b44cfc5e",
   "metadata": {},
   "outputs": [
    {
     "name": "stdout",
     "output_type": "stream",
     "text": [
      "Best Solution House Assignments: [ 0  1  1  2  2 -1  0]\n",
      "Best Solution Course Assignments: [ 4 -1  0  5  3  1  9  8  2  7  6 -1  8  9  3  1  5  0  6  7 -1  4  2 -1\n",
      "  2  7  6  3  1  0  5  8  9 -1  4 -1]\n"
     ]
    }
   ],
   "source": [
    "print(\"Best Solution House Assignments:\", best_solution.genome.house_assignments)\n",
    "print(\"Best Solution Course Assignments:\", best_solution.genome.course_assignments)"
   ]
  }
 ],
 "metadata": {
  "kernelspec": {
   "display_name": "Cifo_RunningDinner",
   "language": "python",
   "name": "python3"
  },
  "language_info": {
   "codemirror_mode": {
    "name": "ipython",
    "version": 3
   },
   "file_extension": ".py",
   "mimetype": "text/x-python",
   "name": "python",
   "nbconvert_exporter": "python",
   "pygments_lexer": "ipython3",
   "version": "3.12.10"
  }
 },
 "nbformat": 4,
 "nbformat_minor": 5
}
