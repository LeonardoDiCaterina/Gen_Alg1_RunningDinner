{
 "cells": [
  {
   "cell_type": "markdown",
   "metadata": {},
   "source": [
    "# solution for Running Dinner Party"
   ]
  },
  {
   "cell_type": "code",
   "execution_count": 919,
   "metadata": {},
   "outputs": [],
   "source": [
    "import numpy as np"
   ]
  },
  {
   "cell_type": "markdown",
   "metadata": {},
   "source": [
    "## input definition and mathematical constraints"
   ]
  },
  {
   "cell_type": "code",
   "execution_count": 920,
   "metadata": {},
   "outputs": [],
   "source": [
    "n_partecipants = 10\n",
    "n_courses = 3\n",
    "capacity_of_houses = 6"
   ]
  },
  {
   "cell_type": "markdown",
   "metadata": {},
   "source": [
    "### houses per course"
   ]
  },
  {
   "cell_type": "code",
   "execution_count": 921,
   "metadata": {},
   "outputs": [],
   "source": [
    "houser_per_course = int(np.ceil(n_partecipants/capacity_of_houses))"
   ]
  },
  {
   "cell_type": "markdown",
   "metadata": {},
   "source": [
    "### minimum number of houses"
   ]
  },
  {
   "cell_type": "code",
   "execution_count": 922,
   "metadata": {},
   "outputs": [],
   "source": [
    "min_n_houses = houser_per_course * n_courses\n",
    "n_houses = min_n_houses + 1"
   ]
  },
  {
   "cell_type": "markdown",
   "metadata": {},
   "source": [
    "### empty spots and empty houses"
   ]
  },
  {
   "cell_type": "code",
   "execution_count": 923,
   "metadata": {},
   "outputs": [],
   "source": [
    "empty_spots = houser_per_course * capacity_of_houses - n_partecipants\n",
    "empty_houses = n_houses - min_n_houses"
   ]
  },
  {
   "cell_type": "markdown",
   "metadata": {},
   "source": [
    "### house delimiters"
   ]
  },
  {
   "cell_type": "code",
   "execution_count": 924,
   "metadata": {},
   "outputs": [],
   "source": [
    "delimiters = np.arange(0, (n_houses +1)*(capacity_of_houses), capacity_of_houses)"
   ]
  },
  {
   "cell_type": "markdown",
   "metadata": {},
   "source": [
    "## house occupation representation"
   ]
  },
  {
   "cell_type": "code",
   "execution_count": 925,
   "metadata": {},
   "outputs": [
    {
     "name": "stdout",
     "output_type": "stream",
     "text": [
      "Houses mask:\n",
      "[[False False  True]\n",
      " [ True False False]\n",
      " [False  True False]\n",
      " [False  True False]\n",
      " [ True False False]\n",
      " [False False  True]\n",
      " [False False False]]\n"
     ]
    }
   ],
   "source": [
    "occupation_houses = np.repeat(np.arange(n_courses),np.ceil(min_n_houses/n_courses))\n",
    "empty_houses_array = np.full(n_houses - min_n_houses, np.nan)\n",
    "occupation_houses = np.concatenate((occupation_houses, empty_houses_array))\n",
    "#print(f\"Occupation houses: {occupation_houses}\")\n",
    "np.random.shuffle(occupation_houses)\n",
    "#print(f\"Occupation houses: {occupation_houses}\")\n",
    "\n",
    "houses_mask = np.zeros((n_houses, n_courses), dtype=bool)\n",
    "for i in range(n_houses):\n",
    "    #print(f\"House {i} occupation: {occupation_houses[i]}\")\n",
    "\n",
    "    if not np.isnan(occupation_houses[i]):\n",
    "        houses_mask[i,int(occupation_houses[i])] = True\n",
    "print(f\"Houses mask:\\n{houses_mask}\")"
   ]
  },
  {
   "cell_type": "markdown",
   "metadata": {},
   "source": [
    "## parecipants representation"
   ]
  },
  {
   "cell_type": "code",
   "execution_count": 926,
   "metadata": {},
   "outputs": [
    {
     "name": "stdout",
     "output_type": "stream",
     "text": [
      "Solution participants shape: (42, 3)\n",
      "[ 1.  0.  2.  8.  5.  4. nan  9. nan  3.  7.  6.]\n",
      "[ 8.  7. nan nan  5.  3.  2.  6.  9.  1.  0.  4.]\n",
      "[ 9.  4.  8.  6.  7.  2.  0. nan  5.  1. nan  3.]\n",
      "Solution participants:\n",
      "[[nan nan  9.]\n",
      " [nan nan  4.]\n",
      " [nan nan  8.]\n",
      " [nan nan  6.]\n",
      " [nan nan  7.]\n",
      " [nan nan  2.]\n",
      " [ 1. nan nan]\n",
      " [ 0. nan nan]\n",
      " [ 2. nan nan]\n",
      " [ 8. nan nan]\n",
      " [ 5. nan nan]\n",
      " [ 4. nan nan]\n",
      " [nan  8. nan]\n",
      " [nan  7. nan]\n",
      " [nan nan nan]\n",
      " [nan nan nan]\n",
      " [nan  5. nan]\n",
      " [nan  3. nan]\n",
      " [nan  2. nan]\n",
      " [nan  6. nan]\n",
      " [nan  9. nan]\n",
      " [nan  1. nan]\n",
      " [nan  0. nan]\n",
      " [nan  4. nan]\n",
      " [nan nan nan]\n",
      " [ 9. nan nan]\n",
      " [nan nan nan]\n",
      " [ 3. nan nan]\n",
      " [ 7. nan nan]\n",
      " [ 6. nan nan]\n",
      " [nan nan  0.]\n",
      " [nan nan nan]\n",
      " [nan nan  5.]\n",
      " [nan nan  1.]\n",
      " [nan nan nan]\n",
      " [nan nan  3.]\n",
      " [nan nan nan]\n",
      " [nan nan nan]\n",
      " [nan nan nan]\n",
      " [nan nan nan]\n",
      " [nan nan nan]\n",
      " [nan nan nan]]\n"
     ]
    }
   ],
   "source": [
    "solution_partecipants = np.full((n_houses*capacity_of_houses,n_courses), np.nan)\n",
    "print(f\"Solution participants shape: {solution_partecipants.shape}\")\n",
    "\n",
    "for course_index in range(n_courses):\n",
    "    partecipants = np.arange(n_partecipants)\n",
    "    empty_spots_array = np.full(empty_spots, np.nan)\n",
    "    partecipants =  np.concatenate((partecipants, empty_spots_array))\n",
    "    np.random.shuffle(partecipants)\n",
    "    print(partecipants)\n",
    "    for house_index in range(n_houses):\n",
    "        occupatio_bool = houses_mask[house_index, course_index]\n",
    "        if occupatio_bool:\n",
    "            start = delimiters[house_index]\n",
    "            end = delimiters[house_index + 1]\n",
    "            solution_partecipants[start:end, course_index] = partecipants[:capacity_of_houses]\n",
    "            partecipants = partecipants[capacity_of_houses:]\n",
    "\n",
    "print(f\"Solution participants:\\n{solution_partecipants}\")"
   ]
  },
  {
   "cell_type": "markdown",
   "metadata": {},
   "source": [
    "## representation optimization\n"
   ]
  },
  {
   "cell_type": "code",
   "execution_count": 927,
   "metadata": {},
   "outputs": [
    {
     "name": "stdout",
     "output_type": "stream",
     "text": [
      "Partecipants:\n",
      "[ 5  0  0  0  0  2  5  5  3  7  9  8  1  7 10  8  4  1  2  0  9  6  2  4\n",
      " 10  8  4  1 10  0  6  3  9  7  6  3]\n"
     ]
    },
    {
     "data": {
      "text/plain": [
       "array([ 3,  1,  2,  2,  1,  3,  0,  5,  0,  0,  0,  0,  2,  5,  5,  3,  7,\n",
       "        9,  8,  1,  7, 10,  8,  4,  1,  2,  0,  9,  6,  2,  4, 10,  8,  4,\n",
       "        1, 10,  0,  6,  3,  9,  7,  6,  3])"
      ]
     },
     "execution_count": 927,
     "metadata": {},
     "output_type": "execute_result"
    }
   ],
   "source": [
    "occupation_houses[np.isnan(occupation_houses)] = -1\n",
    "occupation_houses += 1\n",
    "occupation_houses = occupation_houses.astype(int)\n",
    "\n",
    "partecipants = np.arange(n_partecipants)\n",
    "empty_spots_array = np.full(empty_spots, -1)\n",
    "partecipants =  np.concatenate((partecipants, empty_spots_array))\n",
    "partecipants =  np.repeat(partecipants, n_courses)\n",
    "partecipants += 1\n",
    "np.random.shuffle(partecipants)\n",
    "print(f\"Partecipants:\\n{partecipants}\")\n",
    "\n",
    "repstring = np.concatenate((occupation_houses, partecipants))\n",
    "repstring \n"
   ]
  },
  {
   "cell_type": "markdown",
   "metadata": {},
   "source": [
    "# class building"
   ]
  },
  {
   "cell_type": "code",
   "execution_count": 928,
   "metadata": {},
   "outputs": [
    {
     "name": "stdout",
     "output_type": "stream",
     "text": [
      "['/opt/anaconda3/envs/CIFO/lib/python312.zip', '/opt/anaconda3/envs/CIFO/lib/python3.12', '/opt/anaconda3/envs/CIFO/lib/python3.12/lib-dynload', '', '/opt/anaconda3/envs/CIFO/lib/python3.12/site-packages', '../Classes', '../Classes', '../Classes', '../Classes', '../Classes', '../Classes', '../Classes', '../Classes', '../Classes', '../Classes', '../Classes', '../Classes', '../Classes', '../Classes', '../Classes', '../Classes', '../Classes', '../Classes', '../Classes', '../Classes', '../Classes', '../Classes', '../Classes', '../Classes', '../Classes', '../Classes', '../Classes', '../Classes', '../Classes', '../Classes', '../Classes', '../Classes', '../Classes', '../Classes', '../Classes', '../Classes', '../Classes', '../Classes', '../Classes', '../Classes', '../Classes', '../Classes', '../Classes', '../Classes', '../Classes', '../Classes', '../Classes', '../Classes', '../Classes', '../Classes', '../Classes', '../Classes', '../Classes', '../Classes', '../Classes', '../Classes', '../Classes', '../Classes', '../Classes', '../Classes', '../Classes', '../Classes', '../Classes', '../Classes', '../Classes', '../Classes', '../Classes']\n"
     ]
    }
   ],
   "source": [
    "# import a script in another directory\n",
    "import sys\n",
    "import os\n",
    "relative_path = os.path.join(\"..\", \"Classes\")\n",
    "print(sys.path)\n",
    "sys.path.append(relative_path)\n",
    "#sorted(os.listdir(relative_pathhgggggfffddwwddssddbbbbbbeeeeeeeaaaaaaaaaatttttttrrrrrrriiiiiizzzzzzzzzzzzz))\n",
    "sorted(os.listdir(relative_path))\n",
    "from Solution import Solution"
   ]
  },
  {
   "cell_type": "markdown",
   "metadata": {},
   "source": [
    "Solution_RD Class\n",
    "=================\n",
    "\n",
    "The `Solution_RD` class is a subclass of the `Solution` class. It is designed to solve a problem involving the allocation of participants to houses and courses. The class uses a genome-based representation to manage the allocation and provides methods to manipulate and validate the genome.\n",
    "\n",
    "Attributes:\n",
    "-----------\n",
    "- n_courses (int): Number of courses.\n",
    "- n_partecipants (int): Number of participants.\n",
    "- capacity_of_houses (int): Capacity of each house.\n",
    "- houses_per_course (int): Number of houses required per course.\n",
    "- min_n_houses (int): Minimum number of houses required.\n",
    "- n_houses (int): Total number of houses.\n",
    "- empty_spots (int): Number of empty spots in the houses.\n",
    "- empty_houses (int): Number of empty houses.\n",
    "- genome (numpy.ndarray): The genome representing the allocation of houses and participants.\n",
    "\n",
    "Methods:\n",
    "--------\n",
    "1. `generate_genome` (property): Generates a random genome for the solution.\n",
    "2. `get_course_position(course_index)`: Gets the position of a course in the genome.\n",
    "3. `get_house_position(house_index)`: Gets the position of a house in the genome.\n",
    "4. `get_house(house_index)`: Retrieves the participants and course index of a house.\n",
    "5. `get_course(course_index)`: Retrieves the participants and house numbers for a course.\n",
    "6. `get_current_course_owners(course_number)`: Gets the house owners hosting a specific course.\n",
    "7. `genome_swap(index1, index2)`: Swaps two elements in the genome.\n",
    "8. `n_spots_in_course` (property): Calculates the number of spots in a course.\n",
    "9. `get_owner_to_house(house_number)`: Ensures a house has a valid owner.\n",
    "10. `secure_owner_to_houses` (property): Ensures all houses have valid owners.\n",
    "11. `fitness()`: Placeholder for the fitness function.\n",
    "12. `check_validity_of_genome(verbose=False)`: Validates the genome structure.\n",
    "\n",
    "Usage Examples:\n",
    "---------------\n",
    "# Create an instance of the Solution_RD class\n",
    "instance = Solution_RD()\n",
    "\n",
    "# Generate a genome\n",
    "instance.generate_genome\n",
    "\n",
    "# Get the position of a course in the genome\n",
    "course_position = instance.get_course_position(course_index=2)\n",
    "\n",
    "# Get the participants and course index of a house\n",
    "house_info = instance.get_house(house_index=6)\n",
    "\n",
    "# Swap two elements in the genome\n",
    "instance.genome_swap(index1=5, index2=10)\n",
    "\n",
    "# Validate the genome\n",
    "is_valid = instance.check_validity_of_genome(verbose=True)\n",
    "\n",
    "# Calculate the fitness of the solution\n",
    "fitness_value = instance.fitness()\n",
    "\n"
   ]
  },
  {
   "cell_type": "code",
   "execution_count": null,
   "metadata": {},
   "outputs": [
    {
     "name": "stdout",
     "output_type": "stream",
     "text": [
      "[ 1  0  2  0  1  2 -1  7  4  6  0  9  8  1 -1 -1  2  3  5 -1  7  9  1  3\n",
      "  0  4 -1  6  8  2  5 -1  6  5  8  7  4  1  0  3  9  2 -1]\n",
      "House 5 is not in the genome\n"
     ]
    },
    {
     "data": {
      "text/plain": [
       "True"
      ]
     },
     "execution_count": 931,
     "metadata": {},
     "output_type": "execute_result"
    }
   ],
   "source": [
    "class Solution_RD(Solution):\n",
    "    def __init__(self):\n",
    "        super().__init__()\n",
    "        self.n_courses = 3\n",
    "        self.n_partecipants = 10\n",
    "        self.capacity_of_houses = 6\n",
    "        \n",
    "        \n",
    "        self.houses_per_course = int(np.ceil(self.n_partecipants/self.capacity_of_houses))\n",
    "        self.min_n_houses = self.houses_per_course * self.n_courses\n",
    "        self.n_houses = self.min_n_houses + 1\n",
    "        self.empty_spots = self.houses_per_course * self.capacity_of_houses - self.n_partecipants\n",
    "        self.empty_houses = self.n_houses - self.min_n_houses\n",
    "        \n",
    "        self.generate_genome      \n",
    "        \n",
    "        self.version = \"1.0 only genome\"  \n",
    "\n",
    "        \n",
    "    @property    \n",
    "    def generate_genome(self):\n",
    "        \"\"\"\n",
    "        Generate a random genome for the solution.\n",
    "        The genome is a 1D array of integers representing the occupation of houses and the participants in each course.\n",
    "        The first part of the genome represents the occupation of houses, and the second part represents the participants in each course.\n",
    "        The genome is generated by shuffling the occupation of houses and the participants in each course.\n",
    "        The genome is a 1D array of integers representing the occupation of houses and the participants in each course.\n",
    "        \n",
    "        returns: a 1D array of integers representing the genome\n",
    "        \"\"\"\n",
    "        occupation_houses = np.repeat(np.arange(self.n_courses),np.ceil(self.min_n_houses/self.n_courses))\n",
    "        empty_houses_array = np.full(self.n_houses - self.min_n_houses, -1)\n",
    "        occupation_houses = np.concatenate((occupation_houses, empty_houses_array)).astype(int)\n",
    "        np.random.shuffle(occupation_houses)\n",
    "        genome = np.array(occupation_houses)\n",
    "        occupation_houses = np.sort(occupation_houses)\n",
    "\n",
    "        \n",
    "        course_partecipants = np.arange(self.n_partecipants)\n",
    "        empty_spots_array = np.full(self.empty_spots, -1)\n",
    "        course_partecipants =  np.concatenate((course_partecipants, empty_spots_array))\n",
    "        for i in range(self.n_courses):\n",
    "            np.random.shuffle(course_partecipants)\n",
    "            genome = np.concatenate((genome, course_partecipants))\n",
    "        self.genome = genome\n",
    "        #self.secure_owner_to_houses\n",
    "        \n",
    "\n",
    "        \n",
    "    def get_course_position(self, course_index):\n",
    "        \"\"\"\n",
    "        Get the position of a course in the genome.\n",
    "        The position is calculated based on the number of houses and the capacity of houses.\n",
    "        The position is used to access the genome and get the participants in the course.\n",
    "        The position is calculated as follows:\n",
    "        course_position = n_houses + course_index * (capacity_of_houses * houses_per_course)\n",
    "        where n_houses is the number of houses, capacity_of_houses is the capacity of each house,\n",
    "        and houses_per_course is the number of houses per course.\n",
    "\n",
    "        Args:\n",
    "            course_index (int): The index of the course.\n",
    "\n",
    "        Returns:\n",
    "            int: The position of the course in the genome.\n",
    "        \"\"\"\n",
    "        if course_index == n_courses:\n",
    "            return -1\n",
    "        course_position = self.n_houses + course_index * (self.capacity_of_houses * self.houses_per_course)\n",
    "        return course_position\n",
    "    \n",
    "    \n",
    "    \n",
    "        \n",
    "    def get_house_position(self, house_index):\n",
    "        \"\"\"\n",
    "        Get the position of a house in the genome.\n",
    "        The position is calculated based on the number of houses and the capacity of houses.\n",
    "        The position is used to access the genome and get the participants in the house.\n",
    "        The position is calculated as follows:\n",
    "        house_position = course_index * (capacity_of_houses * houses_per_course) + house_index\n",
    "        where course_index is the index of the course, n_houses is the number of houses,\n",
    "        capacity_of_houses is the capacity of each house, and houses_per_course is the number of houses per course.\n",
    "\n",
    "        Args:\n",
    "            house_index (int): The index of the house.\n",
    "\n",
    "        Returns:\n",
    "            int: The position of the house in the genome.\n",
    "        \"\"\"\n",
    "        course_appearance = self.genome[house_index]\n",
    "            \n",
    "        arr = self.genome[:house_index]\n",
    "        # count how many ones are in arr\n",
    "        course_position = np.sum(arr == course_appearance) -1\n",
    "        \n",
    "        \n",
    "        if course_appearance == -1:\n",
    "            return (course_appearance, [])\n",
    "        \n",
    "        start_partecipant_genome = self.n_houses \n",
    "        course_appearance_factor = self.get_course_position(course_appearance)\n",
    "        return (course_appearance, start_partecipant_genome + course_appearance_factor + (course_position * self.capacity_of_houses)-1)    \n",
    "        \n",
    "    def get_house (self, house_index):\n",
    "        \"\"\"\n",
    "        Get the house partecipants in the genome and the course index of teh course hosted by the house\n",
    "\n",
    "        Args:\n",
    "            house_index (int): The index of the house.\n",
    "\n",
    "        Returns:\n",
    "           tuple: A tuple containing the course index and the house partecipants.\n",
    "        \"\"\"\n",
    "        house_position = self.get_house_position(house_index)\n",
    "        if house_position[0] == -1:\n",
    "            return (house_position[0], [])\n",
    "        house_end = house_position[1] + self.capacity_of_houses\n",
    "        house = self.genome[house_position[1]:house_end]\n",
    "        return (house_position[0], house)\n",
    "    \n",
    "\n",
    "    def get_course(self, course_index):\n",
    "        \"\"\"\n",
    "        Get the course partecipants in the genome and the house numbers at wich the course is held\n",
    "        \n",
    "\n",
    "        Args:\n",
    "            course_index (int): The index of the course.\n",
    "\n",
    "        Returns:\n",
    "            tuple: A tuple containing the house numbers and the course partecipants.\n",
    "        \"\"\"\n",
    "        # Get the course index from the genome\n",
    "        houses_numbers = np.where(self.genome[:n_houses] == course_index)[0]\n",
    "        houses_in_course = np.array([]).reshape(0, self.capacity_of_houses)\n",
    "        for h in houses_numbers:\n",
    "            # Get the house index from the genome\n",
    "            house =  self.get_house(h)[1]\n",
    "            #stack the house\n",
    "            houses_in_course = np.vstack((houses_in_course, house))\n",
    "        # Remove empty rows from the houses array\n",
    "        houses_in_course = houses_in_course[~np.all(houses_in_course == -1, axis=1)].astype(int)\n",
    "        houses_in_course = houses_in_course.ravel()\n",
    "        return (houses_numbers,houses_in_course)\n",
    "    \n",
    "    def get_current_course_owners (self, course_number):\n",
    "        \"\"\"\n",
    "        Get the house ownners that are hostng the course\n",
    "\n",
    "        Args:\n",
    "            course_number (int): The index of the course.\n",
    "\n",
    "        Returns:\n",
    "            list: A list of house owners that are hosting the course.\n",
    "        \"\"\"\n",
    "        return self.get_course(course_number)[0]\n",
    "    \n",
    "    \n",
    "    def genome_swap(self, index1, index2):\n",
    "        \"\"\"\n",
    "        Swap two elements in the genome at the given indices.\n",
    "        This method modifies the genome in place by swapping the values at the specified indices.\n",
    "        The indices must be within the bounds of the genome array.\n",
    "        \n",
    "        The swap is performed only if the indices are in the same part of the genome (either both in the houses part or both in the courses part).\n",
    "        If the indices are in different parts, a ValueError is raised.\n",
    "\n",
    "        Args:\n",
    "            index1 (int): index of the first element to swap.\n",
    "            index2 (int): index of the second element to swap.\n",
    "        \"\"\"\n",
    "        if (index1 >= self.n_houses and index2 >= self.n_houses) ^ (index1 < self.n_houses and index2 < self.n_houses):\n",
    "            self.genome[index1], self.genome[index2] = self.genome[index2], self.genome[index1]\n",
    "            return\n",
    "        raise ValueError(f\" Tried to swanp element {index1} with element {index2} in the genome.\\nou can swap only elements in the same part of the genome\")\n",
    "        \n",
    "    @property\n",
    "    def n_spots_in_course(self):\n",
    "        \"\"\"\n",
    "        Calculate the number of spots in a course based on the minimum number of houses and the number of courses.\n",
    "        The number of spots is calculated as the minimum number of houses divided by the number of courses,\n",
    "        multiplied by the capacity of houses.\n",
    "        This property returns the number of spots in a course, which is used to determine the number of participants\n",
    "        that can be accommodated in each course.\n",
    "        The formula used is:\n",
    "        n_spots_in_course = ceil(min_n_houses / n_courses) * capacity_of_houses\n",
    "        \n",
    "        Returns:\n",
    "            int: The number of spots in a course.\n",
    "        \"\"\"\n",
    "        return int(np.ceil(self.min_n_houses/self.n_courses)*self.capacity_of_houses)\n",
    "        \n",
    "\n",
    "\n",
    "#-------------------------------------------------------------------------------------------------\n",
    "    def get_owner_to_house(self, house_number):\n",
    "        \"\"\"\n",
    "        Get the owner of a house in the genome.\n",
    "        The owner is the index of the house in the genome.\n",
    "        The house is represented by the index of the course it is hosting.\n",
    "\n",
    "        Args:\n",
    "            house_number (int): The index of the house.\n",
    "\n",
    "        Raises:\n",
    "            ValueError: if the howse is filled with owners only\n",
    "        \"\"\"\n",
    "        house = self.get_house(house_number)[1]\n",
    "        if len(house) == 0:\n",
    "            return -1\n",
    "        course_index = self.get_house(house_number)[0]\n",
    "        course = self.get_course(course_index)[1]\n",
    "        owners = self.get_current_course_owners(course_index)\n",
    "        house_shuffle = np.array(house)\n",
    "        np.random.shuffle(house_shuffle)\n",
    "        substitute = house_shuffle[0]\n",
    "        while substitute in owners:\n",
    "            house_shuffle= house_shuffle[1:]\n",
    "            substitute = house_shuffle[0]\n",
    "        if len(house_shuffle) == 0:\n",
    "            raise ValueError(\"There is no substitute\")\n",
    "        substitute_index = np.where(course == substitute)[0][0]\n",
    "        substitute_index += self.get_course_position(course_index)\n",
    "        house_owner_index = np.where(course == house_number)[0][0]\n",
    "        house_owner_index += self.get_course_position(course_index)\n",
    "        self.genome_swap(substitute_index, house_owner_index)\n",
    "        if house_number not in self.get_house(house_number)[1]:\n",
    "            print(f\"House {house_number} is not in the genome\")\n",
    "            self.get_owner_to_house(house_number)\n",
    "    \n",
    "\n",
    "\n",
    "\n",
    "    \n",
    "    @property\n",
    "    def secure_owner_to_houses(self):\n",
    "        \"\"\"\n",
    "        Secure the owners to their houses in the genome.\n",
    "        \n",
    "        This method iterates through all the houses in the genome and checks if the owner of each house is present in the house.\n",
    "        If the owner is not present, it calls the get_owner_to_house method to swap the owner with a participant in the course.\n",
    "        The method ensures that each house has its owner present in the genome.\n",
    "        \n",
    "        Args:\n",
    "            int: The number of houses in the genome.\n",
    "        \n",
    "        Returns:\n",
    "            None\n",
    "        \"\"\"\n",
    "        \n",
    "        for owner in range(n_houses):\n",
    "            self.get_owner_to_house(owner)\n",
    "        \n",
    "    \n",
    "    # Implementation of the abstract method 'fitness'\n",
    "    def fitness(self):\n",
    "        # Placeholder implementation for the fitness function\n",
    "        # Replace this with the actual logic for calculating fitness\n",
    "        return 0\n",
    "    @property\n",
    "    def n_spots_in_course(self):\n",
    "        return int(np.ceil(self.min_n_houses/self.n_courses)*self.capacity_of_houses)\n",
    "    \n",
    "    def check_validity_of_genome(self,verbose = False):\n",
    "        houses_part = self.genome[:n_houses]\n",
    "        # check that there is an equal number of 1s and 0s in the genome\n",
    "        \n",
    "        huses_in_course =np.sum(houses_part == 0)\n",
    "        for i in range(1, self.n_courses):\n",
    "            if huses_in_course != np.sum(houses_part == i):\n",
    "                if verbose:\n",
    "                    print(f\"course {i} has {np.sum(houses_part == i)} houses\")\n",
    "                    print(f\"course 0 has {huses_in_course} houses\")\n",
    "                return False\n",
    "        if verbose:\n",
    "            print(f\"houses part of genome are ok\")\n",
    "        \n",
    "        for i in range(self.n_courses):\n",
    "            course = self.get_course(i)[1]\n",
    "            if len(course) != self.n_spots_in_course:\n",
    "                if verbose:\n",
    "                    print(f\"course {i} has {len(course)} partecipants\")\n",
    "                    print(f\"course {i} should have {self.n_spots_in_course} partecipants\")\n",
    "                return False\n",
    "            course = np.sort(course) \n",
    "            if not np.array_equal(course[:self.empty_spots], np.full(self.empty_spots, -1)):\n",
    "                if verbose:\n",
    "                    print(f\"course {i} has {np.sum(course == -1)} empty spots\")\n",
    "                    print(f\"course {i} should have {self.empty_spots} empty spots\")\n",
    "                return False\n",
    "            if not np.array_equal(np.sort(course[self.empty_spots:]), np.arange(self.n_partecipants)):\n",
    "                if verbose:\n",
    "                    print(f\"course {i} has {np.sort(course[self.empty_spots:])} partecipants\")\n",
    "                    print(f\"course {i} should have {np.arange(self.n_partecipants)} partecipants\")\n",
    "                return False\n",
    "            if verbose:\n",
    "                print(f\"course {i} is ok\")\n",
    "        if verbose:\n",
    "            print(f\"all courses are ok\")\n",
    "        \n",
    "        empty_houses_cunter = 0\n",
    "        full_houses_cunter = [0]*self.n_courses\n",
    "        for i in range(self.n_houses):\n",
    "            house = self.get_house(i)[1]\n",
    "            course = self.get_house(i)[0]\n",
    "            if len(house) == 0:\n",
    "                empty_houses_cunter += 1\n",
    "            elif len(house) == self.capacity_of_houses:\n",
    "                full_houses_cunter[course] += 1\n",
    "                if i not in house:\n",
    "                    if verbose:\n",
    "                        print(f\"ther is no owner in house {i}\")\n",
    "                    return False\n",
    "            else:\n",
    "                if verbose:\n",
    "                    print(f\"house {i} has {len(house)} partecipants\")\n",
    "                    print(f\"house {i} should have {self.capacity_of_houses} partecipants\")\n",
    "                return False\n",
    "            \n",
    "        for course in range(self.n_courses):\n",
    "            if empty_houses_cunter != np.sum(houses_part == -1):\n",
    "                if verbose:\n",
    "                    print(f\"course {course} has {empty_houses_cunter[course]} empty houses\")\n",
    "                    print(f\"course {course} should have {np.sum(houses_part == course)} empty houses\")\n",
    "                return False\n",
    "            if full_houses_cunter[course] != np.sum(houses_part == course):\n",
    "                if verbose:\n",
    "                    print(f\"course {course} has {full_houses_cunter[course]} full houses\")\n",
    "                    print(f\"course {course} should have {np.sum(houses_part == course)} full houses\")\n",
    "                return False\n",
    "        if verbose:\n",
    "            print(f\"all houses are ok\")\n",
    "            \n",
    " \n",
    "        return True\n",
    "    \n",
    "instance = Solution_RD()\n",
    "#instance.genome = instance_i_like.genome\n",
    "print(instance.genome)\n",
    "instance.check_validity_of_genome()\n",
    "instance.secure_owner_to_houses\n",
    "instance.check_validity_of_genome()"
   ]
  },
  {
   "cell_type": "code",
   "execution_count": 905,
   "metadata": {},
   "outputs": [],
   "source": [
    "instance.secure_owner_to_houses"
   ]
  },
  {
   "cell_type": "code",
   "execution_count": 906,
   "metadata": {},
   "outputs": [
    {
     "name": "stdout",
     "output_type": "stream",
     "text": [
      "houses part of genome are ok\n",
      "course 0 is ok\n",
      "course 1 is ok\n",
      "course 2 is ok\n",
      "all courses are ok\n",
      "all houses are ok\n"
     ]
    },
    {
     "data": {
      "text/plain": [
       "True"
      ]
     },
     "execution_count": 906,
     "metadata": {},
     "output_type": "execute_result"
    }
   ],
   "source": [
    "instance.check_validity_of_genome(verbose = True)"
   ]
  },
  {
   "cell_type": "code",
   "execution_count": 313,
   "metadata": {},
   "outputs": [
    {
     "name": "stdout",
     "output_type": "stream",
     "text": [
      "Genome before: [ 2  1  2  0  0 -1  1  2  7  3  5  6  1 -1 -1  8  9  0  4 -1  3  7  1  4\n",
      "  5  9  6 -1  2  8  0  5  9  8  0  6  3 -1  2 -1  1  7  4]\n",
      "houses part of genome are ok\n",
      "course 0 is ok\n",
      "course 1 is ok\n",
      "course 2 is ok\n",
      "all courses are ok\n",
      "all houses are ok\n"
     ]
    },
    {
     "data": {
      "text/plain": [
       "True"
      ]
     },
     "execution_count": 313,
     "metadata": {},
     "output_type": "execute_result"
    }
   ],
   "source": [
    "genome_before = np.array(instance.genome)\n",
    "print(f\"Genome before: {genome_before}\")\n",
    "instance.check_validity_of_genome(verbose = True)\n"
   ]
  },
  {
   "cell_type": "code",
   "execution_count": 298,
   "metadata": {},
   "outputs": [
    {
     "name": "stdout",
     "output_type": "stream",
     "text": [
      "course: 2\n",
      "[ 1  0  2  1  2 -1  0  0  8  1  4 -1  3  9  5  6  2 -1  7  0  6  5  2  7\n",
      " -1  4  8  3 -1  9  1  1  4  2  7  3  9  6  5 -1  0 -1  8]\n",
      "substitute: -1---> 39\n",
      "house_owner: 4---> 32\n",
      "houses part of genome are ok\n",
      "course 0 is ok\n",
      "course 1 is ok\n",
      "course 2 is ok\n",
      "all courses are ok\n",
      "all houses are ok\n"
     ]
    },
    {
     "data": {
      "text/plain": [
       "True"
      ]
     },
     "execution_count": 298,
     "metadata": {},
     "output_type": "execute_result"
    }
   ],
   "source": [
    "get_owner_to_house(instance, 4)\n",
    "instance.check_validity_of_genome(verbose = True)\n"
   ]
  },
  {
   "cell_type": "code",
   "execution_count": 293,
   "metadata": {},
   "outputs": [],
   "source": [
    "def get_owner_to_house(self, house_number):\n",
    "    house = self.get_house(house_number)[1]\n",
    "    if len(house) == 0:\n",
    "        return -1\n",
    "    course_index = self.get_house(house_number)[0]\n",
    "    print(f\"course: {course_index}\")\n",
    "    course = self.get_course(course_index)[1]\n",
    "    owners = self.get_current_course_owners(course_index)\n",
    "    house_shuffle = np.array(house)\n",
    "    np.random.shuffle(house_shuffle)\n",
    "    substitute = house_shuffle[0]\n",
    "    while substitute in owners:\n",
    "        house_shuffle= house_shuffle[1:]\n",
    "        substitute = house_shuffle[0]\n",
    "    if len(house_shuffle) == 0:\n",
    "        raise ValueError(\"There is no substitute\")\n",
    "    substitute_index = np.where(course == substitute)[0][0]\n",
    "    substitute_index += self.get_course_position(course_index)\n",
    "    house_owner_index = np.where(course == house_number)[0][0]\n",
    "    house_owner_index += self.get_course_position(course_index)\n",
    "    print(self.genome)\n",
    "    print(f\"substitute: {substitute}---> {substitute_index}\")\n",
    "    print(f\"house_owner: {house_number}---> {house_owner_index}\")\n",
    "    self.genome_swap(substitute_index, house_owner_index)\n",
    "    \n",
    "\n",
    "\n"
   ]
  },
  {
   "cell_type": "code",
   "execution_count": 273,
   "metadata": {},
   "outputs": [
    {
     "data": {
      "text/plain": [
       "(array([0, 3]), array([ 3,  8,  1, -1,  6,  0,  7,  5,  4,  9,  2, -1]))"
      ]
     },
     "execution_count": 273,
     "metadata": {},
     "output_type": "execute_result"
    }
   ],
   "source": [
    "instance.get_house(3)\n",
    "instance.get_course(1)"
   ]
  },
  {
   "cell_type": "code",
   "execution_count": 274,
   "metadata": {},
   "outputs": [
    {
     "name": "stdout",
     "output_type": "stream",
     "text": [
      "course: 1\n",
      "[ 1  2 -1  1  0  0  2  1 -1  8  4 -1  6  9  0  2  7  5  3  3  8  1 -1  6\n",
      "  0  7  5  4  9  2 -1  1  0  5 -1  9  7 -1  2  8  4  3  6]\n",
      "substitute: 8---> 28\n",
      "house_owner: 3---> 30\n"
     ]
    }
   ],
   "source": [
    "get_owner_to_house(instance,3)\n"
   ]
  },
  {
   "cell_type": "code",
   "execution_count": 275,
   "metadata": {},
   "outputs": [
    {
     "name": "stdout",
     "output_type": "stream",
     "text": [
      "houses part of genome are ok\n",
      "course 0 is ok\n",
      "course 1 is ok\n",
      "course 2 is ok\n",
      "all courses are ok\n",
      "ther is no owner in house 3\n",
      "all houses are ok\n"
     ]
    },
    {
     "data": {
      "text/plain": [
       "True"
      ]
     },
     "execution_count": 275,
     "metadata": {},
     "output_type": "execute_result"
    }
   ],
   "source": [
    "instance.check_validity_of_genome(verbose=True)\n"
   ]
  },
  {
   "cell_type": "code",
   "execution_count": 111,
   "metadata": {},
   "outputs": [
    {
     "name": "stdout",
     "output_type": "stream",
     "text": [
      "10\n",
      "2\n",
      "[ 0 -1  2  1  1  0  2]\n",
      "House_get_course: [ 6 -1  9  4  3  8]\n",
      "House_get_course: [ 7  2  1 -1  5  0]\n",
      "len 0: 12 = 12\n",
      "Course 0: [ 6 -1  9  4  3  8  7  2  1 -1  5  0]\n",
      "[ True  True]\n",
      "[ True  True  True  True  True  True  True  True  True  True]\n",
      "12\n",
      "House_get_course: [ 8 -1  7  0  5  3]\n",
      "House_get_course: [-1  2  4  6  1  9]\n",
      "len 1: 12 = 12\n",
      "Course 1: [ 8 -1  7  0  5  3 -1  2  4  6  1  9]\n",
      "[ True  True]\n",
      "[ True  True  True  True  True  True  True  True  True  True]\n",
      "12\n",
      "House_get_course: [ 3  4  6  0 -1  7]\n",
      "House_get_course: [ 9  5  1  2  8 -1]\n",
      "len 2: 12 = 12\n",
      "Course 2: [ 3  4  6  0 -1  7  9  5  1  2  8 -1]\n",
      "[ True  True]\n",
      "[ True  True  True  True  True  True  True  True  True  True]\n",
      "12\n"
     ]
    }
   ],
   "source": [
    "#instance.generate_genome\n",
    "print(instance.n_partecipants)\n",
    "print(instance.empty_spots)\n",
    "\n",
    "print(instance.genome[:instance.n_houses])\n",
    "for i in range(instance.n_courses):\n",
    "    course = instance.get_course(i)[1]\n",
    "    print(f\"len {i}: {len(course) } = {instance.n_spots_in_course}\")\n",
    "    print(f\"Course {i}: {course}\")\n",
    "    course = np.sort(course)\n",
    "    print(np.equal(course[:instance.empty_spots], np.full(instance.empty_spots, -1)))\n",
    "    print(np.equal(np.sort(course[instance.empty_spots:]), np.arange(instance.n_partecipants)))\n",
    "    print(len(course))"
   ]
  },
  {
   "cell_type": "code",
   "execution_count": 224,
   "metadata": {},
   "outputs": [
    {
     "data": {
      "text/plain": [
       "True"
      ]
     },
     "execution_count": 224,
     "metadata": {},
     "output_type": "execute_result"
    }
   ],
   "source": [
    "True ^ False"
   ]
  },
  {
   "cell_type": "raw",
   "metadata": {
    "vscode": {
     "languageId": "raw"
    }
   },
   "source": [
    "self = instance\n",
    "occupation_houses = np.repeat(np.arange(self.n_courses),np.ceil(self.min_n_houses/self.n_courses))\n",
    "empty_houses_array = np.full(self.n_houses - self.min_n_houses, -1)\n",
    "occupation_houses = np.concatenate((occupation_houses, empty_houses_array)).astype(int)\n",
    "np.random.shuffle(occupation_houses)\n",
    "    \n",
    "partecipants = np.arange(self.n_partecipants)\n",
    "empty_spots_array = np.full(self.empty_spots, -1)\n",
    "genome = occupation_houses\n",
    "for i in range(n_courses):\n",
    "    course =  np.concatenate((partecipants, empty_spots_array))\n",
    "    np.random.shuffle(course)\n",
    "    genome = np.concatenate((genome, course))\n",
    "print(f\"Genome: {genome}\")\n",
    "print(np.sort(genome[:self.n_houses]))\n",
    "for i in range(n_courses):\n",
    "    course = genome[self.get_course_position(i):self.get_course_position(i+1)]\n",
    "    print(f\"Course {i}: {np.sort(course)}\")\n",
    "    print(f\"start {self.get_course_position(i)} end: {self.get_course_position(i+1)}\")"
   ]
  },
  {
   "cell_type": "code",
   "execution_count": null,
   "metadata": {},
   "outputs": [],
   "source": [
    "for i in range(n_courses):\n",
    "    print(np.sort(instance.get_course(i)[1]))\n",
    "    "
   ]
  },
  {
   "cell_type": "code",
   "execution_count": null,
   "metadata": {},
   "outputs": [],
   "source": [
    "instance.secure_owner_to_houses()"
   ]
  },
  {
   "cell_type": "code",
   "execution_count": null,
   "metadata": {},
   "outputs": [],
   "source": [
    "print(instance.get_house(0))\n",
    "print(instance.get_house(1))"
   ]
  },
  {
   "cell_type": "code",
   "execution_count": null,
   "metadata": {},
   "outputs": [],
   "source": [
    "instance.get_course(1)"
   ]
  },
  {
   "cell_type": "code",
   "execution_count": null,
   "metadata": {},
   "outputs": [],
   "source": [
    "for house_index in range(n_houses):\n",
    "    print(instance.get_house(house_index)[1])\n",
    "    print(instance.get_current_course_owners(house_index))\n",
    "    print(\"*\"*50)"
   ]
  },
  {
   "cell_type": "code",
   "execution_count": null,
   "metadata": {},
   "outputs": [],
   "source": [
    "print(len(instance.genome))\n",
    "print(instance.get_course_position(2) - instance.get_course_position(1))\n",
    "print(instance.get_course_position(1) - instance.get_course_position(0))\n",
    "print(instance.n_spots_in_course)\n",
    "print(instance.n_spots_in_course*instance.n_courses + instance.n_houses)"
   ]
  },
  {
   "cell_type": "code",
   "execution_count": null,
   "metadata": {},
   "outputs": [],
   "source": [
    "for i in range(instance.n_courses):\n",
    "    print(instance.get_course_position(i))"
   ]
  },
  {
   "cell_type": "code",
   "execution_count": null,
   "metadata": {},
   "outputs": [],
   "source": [
    "for i in range(instance.n_houses):\n",
    "    print(instance.get_house_position(i)[1])"
   ]
  },
  {
   "cell_type": "code",
   "execution_count": null,
   "metadata": {},
   "outputs": [],
   "source": [
    "print(instance.genome)\n",
    "last_house = instance.genome[instance.n_houses -1]\n",
    "print(f\"Last house: {last_house}\")\n",
    "first_house = instance.get_course(0)[1][0]\n",
    "print(f\"First house: {first_house}\")"
   ]
  },
  {
   "cell_type": "code",
   "execution_count": null,
   "metadata": {},
   "outputs": [],
   "source": [
    "instance.genome[instance.get_course_position(0)]"
   ]
  },
  {
   "cell_type": "code",
   "execution_count": null,
   "metadata": {},
   "outputs": [],
   "source": [
    "instance.get_course(0)"
   ]
  },
  {
   "cell_type": "code",
   "execution_count": null,
   "metadata": {},
   "outputs": [],
   "source": [
    "print(instance.genome)\n",
    "print(instance.genome[:instance.n_houses])\n",
    "print(len(instance.genome[instance.n_houses:]))\n",
    "print(instance.genome[instance.n_houses:])\n",
    "for i in range(n_houses):\n",
    "    print(instance.get_house(i))\n",
    "print('-'*50)\n",
    "print('-'*50)\n",
    "for i in range(n_courses):\n",
    "    print(instance.get_course(i))\n",
    "    pass\n",
    "print('-'*50)\n",
    "print('-'*50)\n",
    "for i in range(n_courses):\n",
    "    print(instance.get_current_course_owners(i))"
   ]
  },
  {
   "cell_type": "code",
   "execution_count": null,
   "metadata": {},
   "outputs": [],
   "source": [
    "instance.get_course(2)"
   ]
  },
  {
   "cell_type": "code",
   "execution_count": null,
   "metadata": {},
   "outputs": [],
   "source": [
    "instance.get_current_course_owners(0)"
   ]
  },
  {
   "cell_type": "code",
   "execution_count": null,
   "metadata": {},
   "outputs": [],
   "source": [
    "instance = Solution_RD()\n",
    "#the_genome = np.array([2, 2, 1, 0, 1, 0, -1, 6, 6, -1, 5, 0, 9, 8, 2, -1, -1, 0, 3, 4, 7, -1, 4, 8, 7, 5, 7, 1, 3, 1, -1, 4, 9, 9, 8, 1, 2, 2, 5, 6, 0, -1, 3])\n",
    "the_genome = instance.genome \n",
    "print(the_genome)\n",
    "print(len(the_genome))\n",
    "table_number = 1"
   ]
  },
  {
   "cell_type": "code",
   "execution_count": null,
   "metadata": {},
   "outputs": [],
   "source": [
    "course_appearance = the_genome[table_number]\n",
    "print(course_appearance)\n",
    "if course_appearance != -1:\n",
    "    arr = the_genome[:table_number+1]\n",
    "    print(arr)\n",
    "    print(np.sum(arr == course_appearance))\n",
    "    \n",
    "    print(f\"n_houses: {instance.n_houses}\")\n",
    "    print(f\"course_appearance_factor: {course_appearance * (instance.capacity_of_houses * instance.houses_per_course)}\")\n",
    "    print(f\"course_position: {np.sum(arr == course_appearance)}\")\n",
    "    course_position = np.sum(arr == course_appearance) -1\n",
    "    house_start = instance.n_houses + course_appearance * (instance.capacity_of_houses * instance.houses_per_course) + (course_position * instance.capacity_of_houses)\n",
    "    print(f\"house_start: {house_start}\")\n",
    "    house_end = house_start + instance.capacity_of_houses\n",
    "    print(f\"house_end: {house_end}\")\n",
    "    house = the_genome[house_start:house_end]\n",
    "    print(f\"House: {house}\")\n",
    "    \n"
   ]
  },
  {
   "cell_type": "code",
   "execution_count": null,
   "metadata": {},
   "outputs": [],
   "source": []
  },
  {
   "cell_type": "code",
   "execution_count": null,
   "metadata": {},
   "outputs": [],
   "source": [
    "n_partecipants = 10\n",
    "n_courses = 3\n",
    "capacity_of_houses = 6\n",
    "houser_per_course = int(np.ceil(n_partecipants/capacity_of_houses))\n",
    "min_n_houses = houser_per_course * n_courses\n",
    "n_houses = min_n_houses + 1\n",
    "empty_spots = houser_per_course * capacity_of_houses - n_partecipants\n",
    "#print(f\"Number of participants:{n_partecipants}\")\n",
    "#print(f\"Number of courses: {n_courses}\")\n",
    "#print(f\"Capacity of houses: {capacity_of_houses}\")\n",
    "#print(f\"Minimum number of houses needed: {min_n_houses}\")\n",
    "#print(f\"Number of houses: {n_houses}\")\n",
    "delimiters = np.arange(0, (n_houses +1)*(capacity_of_houses), capacity_of_houses)\n",
    "#print(f\"Delimiters: {delimiters}\")\n",
    "\n",
    "solution_houses = np.zeros((n_houses, n_courses), dtype=bool)\n",
    "\n",
    "occupation_houses = np.repeat(np.arange(n_courses),np.ceil(min_n_houses/n_courses))\n",
    "empty_houses_array = np.full(n_houses - min_n_houses, np.nan)\n",
    "occupation_houses = np.concatenate((occupation_houses, empty_houses_array))\n",
    "#print(f\"Occupation houses: {occupation_houses}\")\n",
    "np.random.shuffle(occupation_houses)\n",
    "#print(f\"Occupation houses: {occupation_houses}\")\n",
    "\n",
    "houses_mask = np.zeros((n_houses, n_courses), dtype=bool)\n",
    "for i in range(n_houses):\n",
    "    #print(f\"House {i} occupation: {occupation_houses[i]}\")\n",
    "\n",
    "    if not np.isnan(occupation_houses[i]):\n",
    "        houses_mask[i,int(occupation_houses[i])] = True\n",
    "print(f\"Houses mask:\\n{houses_mask}\")\n",
    "\n",
    "solution_partecipants = np.full((n_houses*capacity_of_houses,n_courses), np.nan)\n",
    "print(f\"Solution participants shape: {solution_partecipants.shape}\")\n",
    "\n",
    "for course_index in range(n_courses):\n",
    "    partecipants = np.arange(n_partecipants)\n",
    "    empty_spots_array = np.full(empty_spots, np.nan)\n",
    "    partecipants =  np.concatenate((partecipants, empty_spots_array))\n",
    "    np.random.shuffle(partecipants)\n",
    "    print(partecipants)\n",
    "    for house_index in range(n_houses):\n",
    "        print(f\"House {house_index} course {course_index}\")\n",
    "        occupatio_bool = houses_mask[house_index, course_index]\n",
    "        print(f\"Occupation bool: {occupatio_bool}\")\n",
    "        if occupatio_bool:\n",
    "            start = delimiters[house_index]\n",
    "            end = delimiters[house_index + 1]\n",
    "            print(f\"Start: {start}, end: {end}\")\n",
    "            solution_partecipants[start:end, course_index] = partecipants[:capacity_of_houses]\n",
    "            partecipants = partecipants[capacity_of_houses:]\n",
    "\n",
    "print(f\"Solution participants:\\n{solution_partecipants}\")\n"
   ]
  },
  {
   "cell_type": "code",
   "execution_count": null,
   "metadata": {},
   "outputs": [],
   "source": []
  },
  {
   "cell_type": "code",
   "execution_count": null,
   "metadata": {},
   "outputs": [],
   "source": []
  },
  {
   "cell_type": "code",
   "execution_count": null,
   "metadata": {},
   "outputs": [],
   "source": []
  },
  {
   "cell_type": "code",
   "execution_count": null,
   "metadata": {},
   "outputs": [],
   "source": []
  },
  {
   "cell_type": "code",
   "execution_count": null,
   "metadata": {},
   "outputs": [],
   "source": []
  },
  {
   "cell_type": "code",
   "execution_count": null,
   "metadata": {},
   "outputs": [],
   "source": []
  },
  {
   "cell_type": "code",
   "execution_count": null,
   "metadata": {},
   "outputs": [],
   "source": []
  },
  {
   "cell_type": "code",
   "execution_count": null,
   "metadata": {},
   "outputs": [],
   "source": [
    "n_groups = 8\n",
    "n_courses = 3\n",
    "capacity_of_houses = 4\n",
    "n_households =  int(np.ceil((n_groups/capacity_of_houses) * n_courses))\n",
    "\n",
    "delimiters = np.arange(0, n_households*(capacity_of_houses +1), capacity_of_houses)\n",
    "print(delimiters)\n",
    "# the owner of the house has to be present\n",
    "\n",
    "\n",
    "household_solution = np.full((n_households, n_courses),False)\n",
    "occupied = np.repeat(np.arange(n_courses), capacity_of_houses)\n",
    "print(occupied)\n",
    "np.random.shuffle(occupied)\n",
    "for i in range(n_households):\n",
    "    household_solution[i, occupied[i]] = True\n",
    "\n",
    "print(household_solution)\n",
    "\n",
    "# matrix with n_households*capacity_of_houses x n_courses with all nan\n",
    "solution = np.full((n_households*capacity_of_houses, n_courses), np.nan)\n",
    "np.shape(solution)\n",
    "\n",
    "print(\"-\"*50)\n",
    "print(f\"number of groups: {n_groups}\")\n",
    "print(f\"number of courses: {n_courses}\")\n",
    "print(f\"capacity of houses: {capacity_of_houses}\")\n",
    "print(f\"number of households: {n_households}\")\n",
    "print(f\"shape of the solution: {solution.shape}\")\n",
    "print(\"-\"*50)\n",
    "\n",
    "for course in range(n_courses):\n",
    "    partecipants = np.arange(n_groups+1)\n",
    "    print(f'course {course}')\n",
    "    np.random.shuffle(partecipants)\n",
    "    print(partecipants)\n",
    "    n_house = 0\n",
    "    for i in range(household_solution.shape[0]):\n",
    "        if household_solution[i, course]:\n",
    "            \n",
    "            solution [n_house*capacity_of_houses:n_house*capacity_of_houses + capacity_of_houses,course]= partecipants[:capacity_of_houses]\n",
    "            partecipants = partecipants[capacity_of_houses:]\n",
    "        n_house += 1\n",
    "\n",
    "        \n",
    "    \n",
    "\n",
    "print(solution)"
   ]
  },
  {
   "cell_type": "code",
   "execution_count": null,
   "metadata": {},
   "outputs": [],
   "source": [
    "\n",
    "\n",
    "\n"
   ]
  },
  {
   "cell_type": "code",
   "execution_count": null,
   "metadata": {},
   "outputs": [],
   "source": [
    "    @property    \n",
    "    def generate_genome(self):\n",
    "        occupation_houses = np.repeat(np.arange(self.n_courses),np.ceil(self.min_n_houses/self.n_courses))\n",
    "        empty_houses_array = np.full(self.n_houses - self.min_n_houses, -1)\n",
    "        occupation_houses = np.concatenate((occupation_houses, empty_houses_array)).astype(int)\n",
    "        np.random.shuffle(occupation_houses)\n",
    "        genome = occupation_houses\n",
    "        partecipants = np.arange(self.n_partecipants)\n",
    "        empty_spots_array = np.full(self.empty_spots, -1)\n",
    "        partecipants =  np.concatenate((partecipants, empty_spots_array))\n",
    "        for course_index in range(self.n_courses):\n",
    "            np.random.shuffle(partecipants)\n",
    "            genome = np.concatenate((genome, partecipants))\n",
    "        genome = genome.astype(int)\n",
    "        self.genome = genome"
   ]
  }
 ],
 "metadata": {
  "kernelspec": {
   "display_name": "CIFO",
   "language": "python",
   "name": "python3"
  },
  "language_info": {
   "codemirror_mode": {
    "name": "ipython",
    "version": 3
   },
   "file_extension": ".py",
   "mimetype": "text/x-python",
   "name": "python",
   "nbconvert_exporter": "python",
   "pygments_lexer": "ipython3",
   "version": "3.12.9"
  }
 },
 "nbformat": 4,
 "nbformat_minor": 2
}
