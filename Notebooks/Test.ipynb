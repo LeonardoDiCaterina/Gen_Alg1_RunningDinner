{
 "cells": [
  {
   "cell_type": "markdown",
   "metadata": {},
   "source": [
    "# 🧬 Solution_RD: Genetic Algorithm Individual for Resource Distribution\n",
    "\n",
    "This notebook documents the `Solution_RD` class, a domain-specific implementation of the `Individual` abstract base class tailored for solving a resource distribution problem involving participants, houses, and courses. The objective balances logistical and social criteria using a flexible and pluggable design.\n",
    "\n",
    "## 🧱 Class Overview\n",
    "\n",
    "- `Solution_RD`: A concrete subclass of `Individual` that represents a candidate solution for assigning participants to houses and courses.\n",
    "  - Representation encodes both **house allocation** and **course enrollment**.\n",
    "  - Fitness balances two components:\n",
    "    - **Social fitness**: Encourages participant mixing across courses.\n",
    "    - **Logistic fitness**: Penalizes long distances between participant houses (based on a distance matrix).\n",
    "  - Customizable fitness trade-off via `alpha` and `beta`.\n",
    "\n",
    "## ⚙️ Parameters\n",
    "\n",
    "- `data_matrix`: A 2D numpy array of distances between participants.\n",
    "- `account_for_previous_fitness`: If `True`, tracks fitness changes over time.\n",
    "- `probability_social_mutation`: Probability of performing a social mutation.\n",
    "- `alpha`, `beta`: Weights controlling the importance of social vs. logistic fitness.\n",
    "\n",
    "## ✅ Features Demonstrated\n",
    "\n",
    "1. **Random Initialization**\n",
    "   - Genome includes both house and course assignments.\n",
    "   - Ensures constraints like house capacity and number of houses are respected.\n",
    "\n",
    "2. **Fitness Evaluation**\n",
    "   - Calculated as a weighted sum of:\n",
    "     - Social interaction score (maximize diversity in house-course assignments).\n",
    "     - Logistic penalty (minimize travel distances).\n",
    "   - Supports lazy evaluation and caching.\n",
    "\n",
    "3. **Mutation**\n",
    "   - Mutation type (social or logistic) chosen probabilistically.\n",
    "   - Mutates in-place.\n",
    "\n",
    "4. **Crossover**\n",
    "   - Combines genome segments from two parents (to be implemented or overridden if necessary).\n",
    "\n",
    "5. **Parameterization**\n",
    "   - Adjust evolutionary pressure via `alpha`, `beta`, and mutation probabilities.\n",
    "\n",
    "6. **Fitness History**\n",
    "   - Tracks `previous_fitness` and `next_fitness` for advanced evolutionary strategies.\n",
    "\n",
    "## 🧠 Design Highlights\n",
    "\n",
    "- Extends `Individual` with problem-specific logic, maintaining modularity.\n",
    "- Balances domain constraints with genetic flexibility.\n",
    "- Supports experimentation with different fitness weights and mutation strategies.\n",
    "\n",
    "This class is suitable for constrained optimization tasks in social or logistical planning domains and can be integrated seamlessly into the larger genetic algorithm framework.\n"
   ]
  },
  {
   "cell_type": "code",
   "execution_count": 1,
   "metadata": {},
   "outputs": [
    {
     "name": "stdout",
     "output_type": "stream",
     "text": [
      "Data_ingestion.ipynb   Solution_RD_demo.ipynb solution_class.ipynb\n",
      "Individual_demo.ipynb  Test.ipynb\n",
      "SelMechDemo.ipynb      solution_RD.ipynb\n"
     ]
    }
   ],
   "source": [
    "! ls"
   ]
  },
  {
   "cell_type": "markdown",
   "metadata": {},
   "source": [
    "# Data Ingestion"
   ]
  },
  {
   "cell_type": "code",
   "execution_count": 2,
   "metadata": {},
   "outputs": [
    {
     "data": {
      "text/plain": [
       "(68, 68)"
      ]
     },
     "execution_count": 2,
     "metadata": {},
     "output_type": "execute_result"
    }
   ],
   "source": [
    "import os\n",
    "import pandas as pd\n",
    "os.chdir(os.pardir) # comment if you are running this more than once\n",
    "data_matrix_df = pd.read_csv('Data/distance_matrix_official.csv', index_col=0)\n",
    "data_matrix_np = data_matrix_df.to_numpy()\n",
    "data_matrix_np.shape"
   ]
  },
  {
   "cell_type": "markdown",
   "metadata": {},
   "source": [
    "# Testing Features"
   ]
  },
  {
   "cell_type": "markdown",
   "metadata": {},
   "source": [
    "## Create two individuals\n"
   ]
  },
  {
   "cell_type": "code",
   "execution_count": 3,
   "metadata": {},
   "outputs": [],
   "source": [
    "from Genetic_algorithm.fitness import ResourceFitness\n",
    "from Genetic_algorithm.genome import Genome\n",
    "from Genetic_algorithm.solution_rd import SolutionRD\n",
    "\n",
    "my_fitness = ResourceFitness(data_matrix_np)\n",
    "my_genome = Genome()\n",
    "\n",
    "first_solution = SolutionRD(my_fitness, Genome)\n",
    "secomnd_solution = SolutionRD(my_fitness, Genome)"
   ]
  },
  {
   "cell_type": "markdown",
   "metadata": {},
   "source": [
    "## Crossover\n"
   ]
  },
  {
   "cell_type": "code",
   "execution_count": 4,
   "metadata": {},
   "outputs": [
    {
     "name": "stdout",
     "output_type": "stream",
     "text": [
      "Fitness (child): 3.0969878456931474\n",
      "Fitness (child): 3.220288753799392\n"
     ]
    }
   ],
   "source": [
    "child1, child2 = first_solution @ secomnd_solution\n",
    "print(\"Fitness (child):\", float(child1))\n",
    "print(\"Fitness (child):\", float(child2))"
   ]
  },
  {
   "cell_type": "markdown",
   "metadata": {},
   "source": [
    "## Mutation\n"
   ]
  },
  {
   "cell_type": "code",
   "execution_count": 5,
   "metadata": {},
   "outputs": [
    {
     "name": "stdout",
     "output_type": "stream",
     "text": [
      "original Individual: 12-11002-1501247698-1385172-193-1460857431-1026-19\n",
      "Mutated Individual: 12-11002-1501247698-1385172-193-1460857431-1026-19\n",
      "Fitness (original): 3.0969878456931474\n",
      "Fitness (mutated): 3.0969878456931474\n"
     ]
    }
   ],
   "source": [
    "mutant = child1.copy_Individual()\n",
    "mutant.mutation()\n",
    "print(\"original Individual:\", child1.genome)\n",
    "print(\"Mutated Individual:\", mutant.genome)\n",
    "print(\"Fitness (original):\", float(child1))\n",
    "print(\"Fitness (mutated):\", float(mutant))"
   ]
  },
  {
   "cell_type": "markdown",
   "metadata": {},
   "source": [
    "## Iteration (generate mutated versions) (has to be resolved)"
   ]
  },
  {
   "cell_type": "code",
   "execution_count": 6,
   "metadata": {},
   "outputs": [
    {
     "name": "stdout",
     "output_type": "stream",
     "text": [
      "\n",
      "Multiple Mutations:\n",
      "mutating: Fitness: 3.0969878456931474\n",
      "Mutation 1: None Fitness: None\n",
      "mutating: Fitness: 3.0969878456931474\n",
      "Mutation 2: None Fitness: None\n",
      "mutating: Fitness: 3.0969878456931474\n",
      "Mutation 3: None Fitness: None\n",
      "mutating: Fitness: 3.0969878456931474\n",
      "Mutation 4: None Fitness: None\n",
      "mutating: Fitness: 3.0969878456931474\n",
      "Mutation 5: None Fitness: None\n"
     ]
    }
   ],
   "source": [
    "print(\"\\nMultiple Mutations:\")\n",
    "for i, m in enumerate(child1):\n",
    "    print(f\"Mutation {i+1}:\", m, \"Fitness:\", m)"
   ]
  },
  {
   "cell_type": "markdown",
   "metadata": {},
   "source": [
    "## Operator Overloading"
   ]
  },
  {
   "cell_type": "code",
   "execution_count": 7,
   "metadata": {},
   "outputs": [
    {
     "name": "stdout",
     "output_type": "stream",
     "text": [
      "\n",
      "Using ** Operator for Self-Crossover\n",
      "Clone 1: (<Genetic_algorithm.solution_rd.SolutionRD object at 0x117506030>, <Genetic_algorithm.solution_rd.SolutionRD object at 0x117505f10>) Fitness: (<Genetic_algorithm.solution_rd.SolutionRD object at 0x117506030>, <Genetic_algorithm.solution_rd.SolutionRD object at 0x117505f10>)\n",
      "Clone 2: (<Genetic_algorithm.solution_rd.SolutionRD object at 0x1174cff50>, <Genetic_algorithm.solution_rd.SolutionRD object at 0x117518770>) Fitness: (<Genetic_algorithm.solution_rd.SolutionRD object at 0x1174cff50>, <Genetic_algorithm.solution_rd.SolutionRD object at 0x117518770>)\n",
      "Clone 3: (<Genetic_algorithm.solution_rd.SolutionRD object at 0x1175187d0>, <Genetic_algorithm.solution_rd.SolutionRD object at 0x1175189e0>) Fitness: (<Genetic_algorithm.solution_rd.SolutionRD object at 0x1175187d0>, <Genetic_algorithm.solution_rd.SolutionRD object at 0x1175189e0>)\n"
     ]
    }
   ],
   "source": [
    "print(\"\\nUsing ** Operator for Self-Crossover\")\n",
    "clones = child1 ** 3\n",
    "for i, c1, in enumerate(clones):\n",
    "    print(f\"Clone {i+1}:\", c1, \"Fitness:\", c1)\n",
    "   "
   ]
  },
  {
   "cell_type": "markdown",
   "metadata": {},
   "source": [
    "## Comparison\n"
   ]
  },
  {
   "cell_type": "code",
   "execution_count": 8,
   "metadata": {},
   "outputs": [
    {
     "name": "stdout",
     "output_type": "stream",
     "text": [
      "\n",
      "Is Individual 1 better than Individual 2? False\n"
     ]
    }
   ],
   "source": [
    "print(\"\\nIs Individual 1 better than Individual 2?\", child1 > child2)"
   ]
  },
  {
   "cell_type": "markdown",
   "metadata": {},
   "source": [
    "## Sorting and Deduplication via Set"
   ]
  },
  {
   "cell_type": "code",
   "execution_count": null,
   "metadata": {},
   "outputs": [],
   "source": []
  },
  {
   "cell_type": "markdown",
   "metadata": {},
   "source": [
    "## Storing Unique Individuals in a Set"
   ]
  },
  {
   "cell_type": "code",
   "execution_count": 10,
   "metadata": {},
   "outputs": [
    {
     "name": "stdout",
     "output_type": "stream",
     "text": [
      "\n",
      "=== Deduplication with Set ===\n",
      "Unique 1: Genome = 12-11002-1501247698-1385172-193-1460857431-1026-19, Fitness = 3.0969878456931474\n",
      "\n",
      "Total unique individuals: 1\n"
     ]
    }
   ],
   "source": [
    "print(\"\\n=== Deduplication with Set ===\")\n",
    "ind2 = child1.copy_Individual(delete_fitness=False)  # Exact copy\n",
    "\n",
    "# Mutate a third individual to likely get a different genome\n",
    "ind3 = child1.copy_Individual(delete_fitness=False)\n",
    "ind3.mutation()\n",
    "\n",
    "ind_set = {child1, ind2, ind3}\n",
    "\n",
    "for i, ind in enumerate(ind_set):\n",
    "    print(f\"Unique {i+1}: Genome = {ind.genome}, Fitness = {float(ind)}\")\n",
    "\n",
    "print(f\"\\nTotal unique individuals: {len(ind_set)}\")"
   ]
  },
  {
   "cell_type": "markdown",
   "metadata": {},
   "source": [
    "# accessing the genome (removed)"
   ]
  },
  {
   "cell_type": "code",
   "execution_count": 12,
   "metadata": {},
   "outputs": [],
   "source": [
    "#child1[0:4]"
   ]
  },
  {
   "cell_type": "code",
   "execution_count": 13,
   "metadata": {},
   "outputs": [
    {
     "name": "stdout",
     "output_type": "stream",
     "text": [
      "Before genome swap: [-1  5  0  1  2  4  7  6  9  8 -1  3  8  5  1  7  2 -1  9  3 -1  4  6  0\n",
      "  8  5  7  4  3  1 -1  0  2  6 -1  9]\n",
      "After genome swap: [-1  5  0  1  2  4  7  6  9  8 -1  3  8  5  1  7  2 -1  9  3 -1  4  6  0\n",
      "  8  5  7  4  3  1 -1  0  2  6 -1  9]\n"
     ]
    }
   ],
   "source": [
    "print(\"Before genome swap:\", child1.genome.course_assignments)\n",
    "child1.genome.swap_course_assignments(0,0, 1)\n",
    "print(\"After genome swap:\", child1.genome.course_assignments)"
   ]
  },
  {
   "cell_type": "code",
   "execution_count": 14,
   "metadata": {},
   "outputs": [
    {
     "name": "stdout",
     "output_type": "stream",
     "text": [
      "Error: Index out of range for course assignments.\n"
     ]
    }
   ],
   "source": [
    "try:    \n",
    "    child1.genome.swap_course_assignments(0,0, 10000)\n",
    "except IndexError as e:\n",
    "    print(\"Error:\", e)\n"
   ]
  },
  {
   "cell_type": "code",
   "execution_count": 15,
   "metadata": {},
   "outputs": [],
   "source": [
    "import os\n",
    "import random\n",
    "import pandas as pd\n",
    "from copy import deepcopy\n",
    "from typing import Callable, List\n",
    "from Genetic_algorithm.selection import tournament_selection, rank_selection\n",
    "\n",
    "from Genetic_algorithm.fitness import ResourceFitness\n",
    "from Genetic_algorithm.genome import Genome\n",
    "from Genetic_algorithm.solution_rd import SolutionRD\n",
    "\n",
    "my_fitness = ResourceFitness(data_matrix_np)\n",
    "my_genome = Genome()\n",
    "\n",
    "def genetic_algorithm(\n",
    "    initial_population: List[SolutionRD(my_fitness, Genome)],\n",
    "    gen_count: int,\n",
    "    selection_algorithm: tournament_selection,\n",
    "    maximization: bool = False,\n",
    "    xo_prob: float = 0.9,\n",
    "    mut_prob: float = 0.2,\n",
    "    elitism: bool = True,\n",
    "    verbose: bool = False,\n",
    "):\n",
    "    \"\"\"\n",
    "    Evolves a population for `gen_count` generations and returns:\n",
    "      • best_ind: the best individual seen *across all* generations\n",
    "      • best_fitness_over_gens: list of best fitness per generation\n",
    "    \"\"\"\n",
    "    # Initialize population\n",
    "    population = initial_population\n",
    "    best_fitness_over_gens: List[float] = []\n",
    "\n",
    "    # determine best_of function\n",
    "    if maximization:\n",
    "        best_of = lambda pop: max(pop, key=lambda ind: ind.calculate_fitness())\n",
    "    else:\n",
    "        best_of = lambda pop: min(pop, key=lambda ind: ind.calculate_fitness())\n",
    "\n",
    "    # Seed the global best from initial population\n",
    "    global_best = deepcopy(best_of(population))\n",
    "\n",
    "    for gen in range(1, gen_count + 1):\n",
    "        if verbose:\n",
    "            print(f\"--- Generation {gen} ---\")\n",
    "\n",
    "        new_pop: List[SolutionRD(my_fitness, Genome)] = []\n",
    "        # elitism: carry over last generation's best\n",
    "        if elitism:\n",
    "            new_pop.append(deepcopy(best_of(population)))\n",
    "\n",
    "        # create offspring\n",
    "        while len(new_pop) < len(population):\n",
    "            p1 = selection_algorithm(population, maximization)\n",
    "            p2 = selection_algorithm(population, maximization)\n",
    "            if random.random() < xo_prob:\n",
    "                off1, off2 = p1.crossover(p2)\n",
    "            else:\n",
    "                off1, off2 = deepcopy(p1), deepcopy(p2)\n",
    "            if random.random() < mut_prob:\n",
    "                off1 = off1.mutation()\n",
    "            if random.random() < mut_prob:\n",
    "                off2 = off2.mutation()\n",
    "            new_pop.append(off1)\n",
    "            if len(new_pop) < len(population):\n",
    "                new_pop.append(off2)\n",
    "\n",
    "        population = new_pop\n",
    "\n",
    "        # track best of this generation\n",
    "        this_best = best_of(population)\n",
    "        this_fit  = this_best.calculate_fitness()\n",
    "        best_fitness_over_gens.append(this_fit)\n",
    "\n",
    "        # update global best if improved\n",
    "        if maximization:\n",
    "            if this_fit > global_best.calculate_fitness():\n",
    "                global_best = deepcopy(this_best)\n",
    "        else:\n",
    "            if this_fit < global_best.calculate_fitness():\n",
    "                global_best = deepcopy(this_best)\n",
    "\n",
    "        if verbose:\n",
    "            print(f\"Best this gen: {this_fit}, Global best: {global_best.calculate_fitness()}\")\n",
    "\n",
    "    # return the individual with the best fitness across all gens, plus the trace\n",
    "    return global_best, best_fitness_over_gens"
   ]
  },
  {
   "cell_type": "code",
   "execution_count": 22,
   "metadata": {},
   "outputs": [
    {
     "ename": "AttributeError",
     "evalue": "'NoneType' object has no attribute 'calculate_fitness'",
     "output_type": "error",
     "traceback": [
      "\u001b[31m---------------------------------------------------------------------------\u001b[39m",
      "\u001b[31mAttributeError\u001b[39m                            Traceback (most recent call last)",
      "\u001b[36mCell\u001b[39m\u001b[36m \u001b[39m\u001b[32mIn[22]\u001b[39m\u001b[32m, line 4\u001b[39m\n\u001b[32m      1\u001b[39m \u001b[38;5;66;03m# Example: create an initial population of 10 individuals\u001b[39;00m\n\u001b[32m      2\u001b[39m initial_population = [SolutionRD(my_fitness, Genome),SolutionRD(my_fitness, Genome),SolutionRD(my_fitness, Genome)]\n\u001b[32m----> \u001b[39m\u001b[32m4\u001b[39m fg, gv = \u001b[43mgenetic_algorithm\u001b[49m\u001b[43m(\u001b[49m\n\u001b[32m      5\u001b[39m \u001b[43m    \u001b[49m\u001b[43minitial_population\u001b[49m\u001b[43m=\u001b[49m\u001b[43minitial_population\u001b[49m\u001b[43m,\u001b[49m\n\u001b[32m      6\u001b[39m \u001b[43m    \u001b[49m\u001b[43mgen_count\u001b[49m\u001b[43m=\u001b[49m\u001b[32;43m20\u001b[39;49m\u001b[43m,\u001b[49m\n\u001b[32m      7\u001b[39m \u001b[43m    \u001b[49m\u001b[43mselection_algorithm\u001b[49m\u001b[43m=\u001b[49m\u001b[43mtournament_selection\u001b[49m\u001b[43m,\u001b[49m\n\u001b[32m      8\u001b[39m \u001b[43m    \u001b[49m\u001b[43mmaximization\u001b[49m\u001b[43m=\u001b[49m\u001b[38;5;28;43;01mFalse\u001b[39;49;00m\u001b[43m,\u001b[49m\n\u001b[32m      9\u001b[39m \u001b[43m    \u001b[49m\u001b[43mxo_prob\u001b[49m\u001b[43m=\u001b[49m\u001b[32;43m0.9\u001b[39;49m\u001b[43m,\u001b[49m\n\u001b[32m     10\u001b[39m \u001b[43m    \u001b[49m\u001b[43mmut_prob\u001b[49m\u001b[43m=\u001b[49m\u001b[32;43m0.2\u001b[39;49m\u001b[43m,\u001b[49m\n\u001b[32m     11\u001b[39m \u001b[43m    \u001b[49m\u001b[43melitism\u001b[49m\u001b[43m=\u001b[49m\u001b[38;5;28;43;01mTrue\u001b[39;49;00m\u001b[43m,\u001b[49m\n\u001b[32m     12\u001b[39m \u001b[43m    \u001b[49m\u001b[43mverbose\u001b[49m\u001b[43m=\u001b[49m\u001b[38;5;28;43;01mFalse\u001b[39;49;00m\u001b[43m,\u001b[49m\n\u001b[32m     13\u001b[39m \u001b[43m)\u001b[49m\n",
      "\u001b[36mCell\u001b[39m\u001b[36m \u001b[39m\u001b[32mIn[15]\u001b[39m\u001b[32m, line 71\u001b[39m, in \u001b[36mgenetic_algorithm\u001b[39m\u001b[34m(initial_population, gen_count, selection_algorithm, maximization, xo_prob, mut_prob, elitism, verbose)\u001b[39m\n\u001b[32m     68\u001b[39m population = new_pop\n\u001b[32m     70\u001b[39m \u001b[38;5;66;03m# track best of this generation\u001b[39;00m\n\u001b[32m---> \u001b[39m\u001b[32m71\u001b[39m this_best = \u001b[43mbest_of\u001b[49m\u001b[43m(\u001b[49m\u001b[43mpopulation\u001b[49m\u001b[43m)\u001b[49m\n\u001b[32m     72\u001b[39m this_fit  = this_best.calculate_fitness()\n\u001b[32m     73\u001b[39m best_fitness_over_gens.append(this_fit)\n",
      "\u001b[36mCell\u001b[39m\u001b[36m \u001b[39m\u001b[32mIn[15]\u001b[39m\u001b[32m, line 38\u001b[39m, in \u001b[36mgenetic_algorithm.<locals>.<lambda>\u001b[39m\u001b[34m(pop)\u001b[39m\n\u001b[32m     36\u001b[39m     best_of = \u001b[38;5;28;01mlambda\u001b[39;00m pop: \u001b[38;5;28mmax\u001b[39m(pop, key=\u001b[38;5;28;01mlambda\u001b[39;00m ind: ind.calculate_fitness())\n\u001b[32m     37\u001b[39m \u001b[38;5;28;01melse\u001b[39;00m:\n\u001b[32m---> \u001b[39m\u001b[32m38\u001b[39m     best_of = \u001b[38;5;28;01mlambda\u001b[39;00m pop: \u001b[38;5;28;43mmin\u001b[39;49m\u001b[43m(\u001b[49m\u001b[43mpop\u001b[49m\u001b[43m,\u001b[49m\u001b[43m \u001b[49m\u001b[43mkey\u001b[49m\u001b[43m=\u001b[49m\u001b[38;5;28;43;01mlambda\u001b[39;49;00m\u001b[43m \u001b[49m\u001b[43mind\u001b[49m\u001b[43m:\u001b[49m\u001b[43m \u001b[49m\u001b[43mind\u001b[49m\u001b[43m.\u001b[49m\u001b[43mcalculate_fitness\u001b[49m\u001b[43m(\u001b[49m\u001b[43m)\u001b[49m\u001b[43m)\u001b[49m\n\u001b[32m     40\u001b[39m \u001b[38;5;66;03m# Seed the global best from initial population\u001b[39;00m\n\u001b[32m     41\u001b[39m global_best = deepcopy(best_of(population))\n",
      "\u001b[36mCell\u001b[39m\u001b[36m \u001b[39m\u001b[32mIn[15]\u001b[39m\u001b[32m, line 38\u001b[39m, in \u001b[36mgenetic_algorithm.<locals>.<lambda>\u001b[39m\u001b[34m(ind)\u001b[39m\n\u001b[32m     36\u001b[39m     best_of = \u001b[38;5;28;01mlambda\u001b[39;00m pop: \u001b[38;5;28mmax\u001b[39m(pop, key=\u001b[38;5;28;01mlambda\u001b[39;00m ind: ind.calculate_fitness())\n\u001b[32m     37\u001b[39m \u001b[38;5;28;01melse\u001b[39;00m:\n\u001b[32m---> \u001b[39m\u001b[32m38\u001b[39m     best_of = \u001b[38;5;28;01mlambda\u001b[39;00m pop: \u001b[38;5;28mmin\u001b[39m(pop, key=\u001b[38;5;28;01mlambda\u001b[39;00m ind: \u001b[43mind\u001b[49m\u001b[43m.\u001b[49m\u001b[43mcalculate_fitness\u001b[49m())\n\u001b[32m     40\u001b[39m \u001b[38;5;66;03m# Seed the global best from initial population\u001b[39;00m\n\u001b[32m     41\u001b[39m global_best = deepcopy(best_of(population))\n",
      "\u001b[31mAttributeError\u001b[39m: 'NoneType' object has no attribute 'calculate_fitness'"
     ]
    }
   ],
   "source": [
    "# Example: create an initial population of 10 individuals\n",
    "initial_population = [SolutionRD(my_fitness, Genome),SolutionRD(my_fitness, Genome),SolutionRD(my_fitness, Genome)]\n",
    "\n",
    "fg, gv = genetic_algorithm(\n",
    "    initial_population=initial_population,\n",
    "    gen_count=20,\n",
    "    selection_algorithm=tournament_selection,\n",
    "    maximization=False,\n",
    "    xo_prob=0.9,\n",
    "    mut_prob=0.2,\n",
    "    elitism=True,\n",
    "    verbose=False,\n",
    ")"
   ]
  }
 ],
 "metadata": {
  "kernelspec": {
   "display_name": "Cifo_RunningDinner",
   "language": "python",
   "name": "python3"
  },
  "language_info": {
   "codemirror_mode": {
    "name": "ipython",
    "version": 3
   },
   "file_extension": ".py",
   "mimetype": "text/x-python",
   "name": "python",
   "nbconvert_exporter": "python",
   "pygments_lexer": "ipython3",
   "version": "3.12.10"
  }
 },
 "nbformat": 4,
 "nbformat_minor": 2
}
