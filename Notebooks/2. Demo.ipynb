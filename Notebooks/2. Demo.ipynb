{
 "cells": [
  {
   "cell_type": "markdown",
   "id": "bb4a2339",
   "metadata": {},
   "source": [
    "<h1 align=\"center\">GA for the Running-Dinner problem DEMO</h1> "
   ]
  },
  {
   "cell_type": "markdown",
   "id": "affdc4d0",
   "metadata": {},
   "source": [
    "# Table of Contents\n",
    "- [1. Introduction](#intro)\n",
    "- [2. Setup & Imports](#setup)\n",
    "- [3. Running Dinner Problem Configs](#configs)\n",
    "- [4. Fitness](#fitness)\n",
    "   - [4.1. Effect of alpha and beta on fitness](#fitnessalpha)\n",
    "- [5. Genome](#genome)\n",
    "- [6. Mutation Demonstrations](#mutations)\n",
    "   - [6.1. Logistic Mutation](#logisticm)\n",
    "   - [6.2. Logistic Mutation 2 (Pacman Mutation)](#pacman)\n",
    "   - [6.3. Social Mutation](#socialm)\n",
    "- [7. Crossover Demonstratins](#crossovers)\n",
    "   - [7.1. Full Crossover](#full)\n",
    "   - [7.2. Logistic Crossover](#logistic)\n",
    "- [8. Selection Demonstratins](#selections)\n",
    "   - [8.1. Selection Pressure vs. Average Winner Fitness](#selectionpressure)"
   ]
  },
  {
   "cell_type": "markdown",
   "id": "0ac13dd1",
   "metadata": {},
   "source": [
    "----\n",
    "\n",
    "# 1. Introduction <a class=\"anchor\" id=\"intro\"></a>\n",
    "\n",
    "----"
   ]
  },
  {
   "cell_type": "markdown",
   "id": "1e5326b6",
   "metadata": {},
   "source": [
    "This notebook showcases the key classes and functions that power our GA:\n",
    "\n",
    "- **Genome**: Defines how a candidate solution looks like at the genome level. It encodes host assignments (house_assignments) and rotation of guests (course_assignments).  \n",
    "- **ResourceFitness(data_matrix)**: defines how good any given Genome is, given the distance matrix and weights ($\\alpha$ and $\\beta$). It computes social score and logistic score and fitness function is defined as: $\\alpha s_s + \\beta s_l$.\n",
    "- **Mutation Functions**: \n",
    "  - logistic_mutation  \n",
    "  - logistic_mutation_2\n",
    "  - social_mutation    \n",
    "- **Crossover Functions**:  \n",
    "  - full_crossover  \n",
    "  - logistic_crossover    \n",
    "- **Selection Algorithms**:  \n",
    "  - tournament_selection  \n",
    "  - rank_selection  \n",
    "- **SolutionRD**: Wraps a Genome, a ResourceFitness instance, and then offers .mutation(), .crossover(), and a .fitness property to drive the evolutionary loop.\n",
    "- **config.py** defines the problem's hard parameters"
   ]
  },
  {
   "cell_type": "markdown",
   "id": "3414a1df",
   "metadata": {},
   "source": [
    "----\n",
    "\n",
    "# 2. Setup & Imports <a class=\"anchor\" id=\"setup\"></a>\n",
    "Import packages & data\n",
    "\n",
    "----"
   ]
  },
  {
   "cell_type": "code",
   "execution_count": 1,
   "id": "8d76062c",
   "metadata": {},
   "outputs": [],
   "source": [
    "import os, sys, random, numpy as np\n",
    "import pandas as pd\n",
    "import copy\n",
    "import matplotlib.pyplot as plt\n",
    "from pathlib import Path\n",
    "sys.path.append(os.path.abspath(\".\"))\n",
    "\n",
    "# Genetic Algorithm \n",
    "import Genetic_algorithm.config as config\n",
    "from Genetic_algorithm.genome import Genome\n",
    "from Genetic_algorithm.fitness import ResourceFitness\n",
    "from Genetic_algorithm.mutations import social_mutation, logistic_mutation, logistic_mutation_2\n",
    "from Genetic_algorithm.crossovers import social_crossover, logistic_crossover_2, full_crossover\n",
    "from Genetic_algorithm.selection_algorithms import tournament_selection, rank_selection\n",
    "from Genetic_algorithm.solution_rd import SolutionRD\n",
    "\n",
    "random.seed(0)\n",
    "np.random.seed(0)"
   ]
  },
  {
   "cell_type": "markdown",
   "id": "e1dc4a8f",
   "metadata": {},
   "source": [
    "Now, let's import the **official** travel-time matrix:\n",
    "\n",
    "```text\n",
    "data/distance_matrix_official.csv   →   pandas DataFrame   →   NumPy array"
   ]
  },
  {
   "cell_type": "code",
   "execution_count": 2,
   "id": "bca0f7bc",
   "metadata": {},
   "outputs": [
    {
     "name": "stdout",
     "output_type": "stream",
     "text": [
      "Loaded distance matrix shape: (10, 10)\n"
     ]
    }
   ],
   "source": [
    "# Path to the CSV\n",
    "csv_path = Path(\"data/distance_matrix_official.csv\")\n",
    "assert csv_path.exists(), f\"CSV not found: {csv_path}\"\n",
    "\n",
    "# Number of participants\n",
    "n = config.N_PARTICIPANTS\n",
    "\n",
    "# We assume the CSV has a leading index‐column plus N data columns, and at least N+1 rows total.\n",
    "usecols = [0] + list(range(1, n+1))  # keep the index-col plus the first n data cols\n",
    "df = pd.read_csv(\n",
    "    csv_path,\n",
    "    index_col=0,\n",
    "    usecols=usecols,\n",
    "    nrows=n\n",
    ")\n",
    "\n",
    "# Convert to NumPy array\n",
    "distance_matrix = df.to_numpy()\n",
    "assert distance_matrix.shape == (n, n), (\n",
    "    f\"Expected ({n},{n}), got {distance_matrix.shape}\"\n",
    ")\n",
    "\n",
    "print(\"Loaded distance matrix shape:\", distance_matrix.shape)"
   ]
  },
  {
   "cell_type": "markdown",
   "id": "197fe0b0",
   "metadata": {},
   "source": [
    "----\n",
    "\n",
    "# 3. Running Dinner Problem Configs <a class=\"anchor\" id=\"configs\"></a>\n",
    "`config.py` keeps all hard-coded parameters\n",
    "\n",
    "----"
   ]
  },
  {
   "cell_type": "code",
   "execution_count": 3,
   "id": "8c7047f0",
   "metadata": {},
   "outputs": [
    {
     "name": "stdout",
     "output_type": "stream",
     "text": [
      "N_PARTICIPANTS   → 10\n",
      "N_COURSES        → 3\n",
      "N_HOUSES         → 7\n",
      "HOUSE_CAPACITY   → 6\n",
      "LEN_COURSE       → 12\n"
     ]
    }
   ],
   "source": [
    "attrs = [\"N_PARTICIPANTS\", \"N_COURSES\", \"N_HOUSES\",\n",
    "         \"HOUSE_CAPACITY\", \"LEN_COURSE\"]\n",
    "for a in attrs:\n",
    "    print(f\"{a:16} → {getattr(config, a)}\")"
   ]
  },
  {
   "cell_type": "markdown",
   "id": "4151e7ec",
   "metadata": {},
   "source": [
    "----\n",
    "\n",
    "# 4. Fitness <a class=\"anchor\" id=\"fitness\"></a>\n",
    "fitness.py defines a class that implements the fitness function for a Running Dinner solution.\n",
    "\n",
    "----"
   ]
  },
  {
   "cell_type": "markdown",
   "id": "ae29d958",
   "metadata": {},
   "source": [
    "## Class: ResourceFitness\n",
    "\n",
    "- **Role & Responsibility:**  \n",
    "  - Stores the **distance matrix** (participant-to-participant travel times) plus two weights, **α** (social) and **β** (logistic).  \n",
    "  - Defines an .evaluate(genome) → float method that:  \n",
    "    1. Computes a **social score**: number of unique meetings/N_PARTICIPANTS. We want to maximize the average number of unique people met per participant.  \n",
    "    2. Computes a **logistic score**: max distance/actual distance. We want to maximize the logistic score by minimizing the actual distance traveled by participants.  \n",
    "    3. Combines them as:  \n",
    "       $\n",
    "         \\text{fitness} = \\alpha s_s \\;+\\; \\beta s_l\n",
    "       $\n",
    "\n",
    "- **Instances of ResourceFitness:**  \n",
    "  - Are passed to each SolutionRD so that an individual can lazily compute and cache its .fitness by calling into this evaluator."
   ]
  },
  {
   "cell_type": "markdown",
   "id": "e2566d5b",
   "metadata": {},
   "source": [
    "Let's check if we can generate a population of SolutionRD, print their fitness, and their genome:"
   ]
  },
  {
   "cell_type": "code",
   "execution_count": 4,
   "id": "1c7231c0",
   "metadata": {},
   "outputs": [
    {
     "name": "stdout",
     "output_type": "stream",
     "text": [
      "Individual 0: Fitness = 1.8783934432473954, Genome = [ 0 -1  0  2  2  1  1  0  3  9  8  4  6  2  1  5  7 -1 -1  5  0  1  2  7\n",
      "  9  6  3  8  4 -1 -1  3  2  8  5  9  7  4  0  1  6 -1 -1]\n",
      "Individual 1: Fitness = 2.091590473658014, Genome = [-1  0  2  2  0  1  1  1  6  8  2  0  9  4  5  3  7 -1 -1  5  1  8  3  2\n",
      "  7  6  4  0  9 -1 -1  2  6  4  1  8  0  3  7  5  9 -1 -1]\n",
      "Individual 2: Fitness = 2.2880223307185665, Genome = [ 2  1  0  0  1 -1  2  2  6  8  0  9  1  3  7  5  4 -1 -1  1  0  7  2  6\n",
      "  8  4  9  5  3 -1 -1  0  5  1  3  7  9  6  2  8  4 -1 -1]\n",
      "Individual 3: Fitness = 2.369498000406152, Genome = [ 1  2  2  0 -1  0  1  3  2  4  7  6  9  5  8  0  1 -1 -1  0  8  7  2  3\n",
      "  5  6  4  9  1 -1 -1  1  6  7  8  3  4  2  0  9  5 -1 -1]\n",
      "Individual 4: Fitness = 2.4081476342033725, Genome = [ 1  2  0 -1  2  1  0  7  2  0  5  8  3  1  9 -1  4  6 -1  1  9  6  4  0\n",
      " -1  8  5 -1  2  7  3  3  0  1  5  8  2 -1 -1  6  7  4  9]\n",
      "Individual 5: Fitness = 2.5006660303117583, Genome = [-1  2  2  0  1  0  1  7  8  3  6  4  1 -1  0  2 -1  9  5  8  0  1 -1  4\n",
      "  2  6 -1  5  3  7  9  4 -1  5  7  0  1  2  3  6  8 -1  9]\n",
      "Individual 6: Fitness = 2.564680279976011, Genome = [ 0  2  1 -1  0  2  1  0  2  8  6  3  5  4  9  1  7 -1 -1  2  7  0  8  9\n",
      "  3  6  4  5  1 -1 -1  1  4  6  3  0  9  5  8  7  2 -1 -1]\n",
      "Individual 7: Fitness = 2.695432490013933, Genome = [ 2  1 -1  2  0  0  1  4  3  2  6  0  9  5  7  8  1 -1 -1  1  9  4  3  5\n",
      "  8  6  2  0  7 -1 -1  0  9  8  7  4  2  3  6  1  5 -1 -1]\n",
      "Individual 8: Fitness = 2.799361004230805, Genome = [ 2  1 -1  1  0  2  0  9  0 -1  4  5  3  8  1  6  7 -1  2  1  0  9 -1  2\n",
      "  7  8  4  6  3  5 -1  7  1  4  0 -1 -1  2  5  3  9  6  8]\n",
      "Individual 9: Fitness = 2.8944183708063407, Genome = [ 1  2  1  0 -1  2  0  3  9  7  1  5  2  6  0  4  8 -1 -1  0  7  9  5  6\n",
      "  4  2  8  1  3 -1 -1  1  4  3  8  0  7  5  9  6  2 -1 -1]\n"
     ]
    }
   ],
   "source": [
    "my_fitness = ResourceFitness(distance_matrix, alpha=1.0, beta=1.0)\n",
    "first_solution = SolutionRD(my_fitness, Genome, [logistic_mutation, social_mutation], [logistic_crossover_2, social_crossover])\n",
    "\n",
    "# Generate population of size n individuals\n",
    "population = []\n",
    "for _ in range(10):\n",
    "    ind = SolutionRD(\n",
    "        fitness_instance = my_fitness,\n",
    "        genome_class     = Genome,\n",
    "        mutation_functions   = [social_mutation, logistic_mutation],\n",
    "        crossover_functions  = [social_crossover, logistic_crossover_2],\n",
    "    )\n",
    "    population.append(ind)\n",
    "# Calculate fitness for each individual\n",
    "fitness_values = [ind.fitness for ind in population]\n",
    "# Sort individuals by fitness\n",
    "sorted_population = sorted(population, key=lambda x: x.fitness)\n",
    "\n",
    "# display sorted individuals fitness and genome\n",
    "for i, ind in enumerate(sorted_population):\n",
    "    print(f\"Individual {i}: Fitness = {ind.fitness}, Genome = {ind.genome.encode()}\")"
   ]
  },
  {
   "cell_type": "markdown",
   "id": "79b8c12d",
   "metadata": {},
   "source": [
    "Now let's plot the social score, logistic score, and fitness of our individuals:"
   ]
  },
  {
   "cell_type": "code",
   "execution_count": 5,
   "id": "60f1faf8",
   "metadata": {},
   "outputs": [
    {
     "data": {
      "image/png": "[encoded data removed]",
      "text/plain": [
       "<Figure size 1000x600 with 1 Axes>"
      ]
     },
     "metadata": {},
     "output_type": "display_data"
    }
   ],
   "source": [
    "# Plot fitness score, logistic score and social score\n",
    "def plot_fitness_scores(individuals):\n",
    "    fitness_scores = [ind.fitness for ind in individuals]\n",
    "    logistic_scores = [ind.fitness_instance._calculate_logistic_fitness(ind.genome) for ind in individuals]\n",
    "    social_scores = [ind.fitness_instance._calculate_social_fitness(ind.genome) for ind in individuals]\n",
    "\n",
    "    plt.figure(figsize=(10, 6))\n",
    "    plt.plot(fitness_scores, label='Fitness Score', marker='o')\n",
    "    plt.plot(logistic_scores, label='Logistic Score', marker='o')\n",
    "    plt.plot(social_scores, label='Social Score', marker='o')\n",
    "    plt.xlabel('Individual Index')\n",
    "    plt.ylabel('Score')\n",
    "    plt.title('Fitness Scores of Individuals')\n",
    "    plt.legend()\n",
    "    plt.grid()\n",
    "    plt.show()\n",
    "# Plot the fitness scores of the sorted population\n",
    "plot_fitness_scores(sorted_population)"
   ]
  },
  {
   "cell_type": "markdown",
   "id": "c40afadb",
   "metadata": {},
   "source": [
    "----\n",
    "\n",
    "### 4.1. Effect of alpha and beta on fitness: <a class=\"anchor\" id=\"fitnessalpha\"></a>\n",
    "How does decreasing $\\alpha$ value affect the fitness score.\n",
    "\n",
    "---"
   ]
  },
  {
   "cell_type": "code",
   "execution_count": 6,
   "id": "88a12e1d",
   "metadata": {},
   "outputs": [
    {
     "data": {
      "image/png": "[encoded data removed]",
      "text/plain": [
       "<Figure size 1000x600 with 1 Axes>"
      ]
     },
     "metadata": {},
     "output_type": "display_data"
    }
   ],
   "source": [
    "my_fitness1 = ResourceFitness(distance_matrix, alpha=0.1, beta=1.0)\n",
    "# Generate population of size n individuals\n",
    "population = []\n",
    "for _ in range(10):\n",
    "    ind = SolutionRD(\n",
    "        fitness_instance = my_fitness1,\n",
    "        genome_class     = Genome,\n",
    "        mutation_functions   = [social_mutation, logistic_mutation],\n",
    "        crossover_functions  = [social_crossover, logistic_crossover_2],\n",
    "    )\n",
    "    population.append(ind)\n",
    "# Calculate fitness for each individual\n",
    "fitness_values = [ind.fitness for ind in population]\n",
    "# Sort individuals by fitness\n",
    "sorted_population = sorted(population, key=lambda x: x.fitness)\n",
    "\n",
    "plot_fitness_scores(sorted_population)"
   ]
  },
  {
   "cell_type": "markdown",
   "id": "bbae945e",
   "metadata": {},
   "source": [
    "----\n",
    "\n",
    "# 5. Genome <a class=\"anchor\" id=\"genome\"></a>\n",
    "genome.py defines a class that models the genotype of a Running Dinner solution.\n",
    "\n",
    "----"
   ]
  },
  {
   "cell_type": "markdown",
   "id": "b475733b",
   "metadata": {},
   "source": [
    "## Class: Genome\n",
    "\n",
    "- **Role & Responsibility:**  \n",
    "  - Holds two core arrays:  \n",
    "    1. **house_assignments** (int[N_HOUSES]): which course each house hosts (or -1 if unused).  \n",
    "    2. **course_assignments** (int[N_COURSES × LEN_COURSE]): which participants sit at each “seat” in each course.  \n",
    "  - Provides methods to **encode** these arrays into a 1-D chromosome, **decode** back, and query slices (e.g. “which seats belong to course _𝑐_”).  \n",
    "  - Encapsulates all low-level bit twiddling needed to shuffle, swap, or fix the subblocks when applying genetic operators.  \n",
    "\n",
    "- **Instances of Genome:**  \n",
    "  - Are concrete **genotypes** (i.e. a specific assignment of hosts & guests).  \n",
    "  - Get passed into SolutionRD objects and get mutated, crossed over, and ultimately evaluated."
   ]
  },
  {
   "cell_type": "markdown",
   "id": "ca6c6a25",
   "metadata": {},
   "source": [
    "SolutionRD's genome is composed of two blocks: house_assignments and course_assignments.\n",
    "\n",
    "* **house assignments**: An array of length N_HOUSES in which the entry at index i denotes the course (0=starter, 1=main, 2=dessert, or –1 for an unused house) served at house i. \n",
    "\n",
    "* **course assignments**: An array of length N_COURSES × LEN_COURSE, i.e., N_COURSES consecutive blocks each of size LEN_COURSE. Each entry in that block is a participant index (0 to N_PARTICIPANTS–1), or -1 if that “seat” in the course is unused. The array is in the following order: Participants at the houses hosting appetizers, participant list at the houses hosting main course, and finally participants of the houses hosting desserts."
   ]
  },
  {
   "cell_type": "code",
   "execution_count": 7,
   "id": "594c896b",
   "metadata": {},
   "outputs": [
    {
     "name": "stdout",
     "output_type": "stream",
     "text": [
      "Encoded genome sample:\n",
      " [ 2  0  0 -1  1  2  1  8  7  6  0  9  1  5  4 -1  3 -1  2  0  4  5  8  9\n",
      "  3 -1  6 -1  2  7  1  7  0  2  4  8  3  1  5  6 -1  9 -1]\n",
      "Decoded genome sample:\n",
      " (array([ 2,  0,  0, -1,  1,  2,  1]), array([ 8,  7,  6,  0,  9,  1,  5,  4, -1,  3, -1,  2,  0,  4,  5,  8,  9,\n",
      "        3, -1,  6, -1,  2,  7,  1,  7,  0,  2,  4,  8,  3,  1,  5,  6, -1,\n",
      "        9, -1]))\n",
      "Individual's house assignments:\n",
      " [ 2  0  0 -1  1  2  1]\n",
      "Individual's course assignments:\n",
      " [ 8  7  6  0  9  1  5  4 -1  3 -1  2  0  4  5  8  9  3 -1  6 -1  2  7  1\n",
      "  7  0  2  4  8  3  1  5  6 -1  9 -1]\n",
      "Individual's fitness: 2.539046536093758\n"
     ]
    }
   ],
   "source": [
    "fitness = ResourceFitness(distance_matrix, alpha=1.0, beta=1.0)\n",
    "\n",
    "ind = SolutionRD(\n",
    "    fitness_instance = fitness,\n",
    "    genome_class     = Genome,\n",
    "    mutation_functions   = [social_mutation, logistic_mutation],\n",
    "    crossover_functions  = [social_crossover, logistic_crossover_2],\n",
    ")\n",
    "# Access the individual's fitness (lazy evaluation is triggered by the property)\n",
    "print(\"Encoded genome sample:\\n\", ind.genome.encode())\n",
    "print(\"Decoded genome sample:\\n\", ind.genome.decode())\n",
    "print(\"Individual's house assignments:\\n\", ind.genome.house_assignments)\n",
    "print(\"Individual's course assignments:\\n\", ind.genome.course_assignments)\n",
    "print(\"Individual's fitness:\", ind.fitness)"
   ]
  },
  {
   "cell_type": "markdown",
   "id": "c5543c39",
   "metadata": {},
   "source": [
    "The distance matrix below represents the distances between running dinner participants and their homes (if they are hosts). It is used in ResourceFitness to calculate logistic score."
   ]
  },
  {
   "cell_type": "code",
   "execution_count": 8,
   "id": "0fa2d784",
   "metadata": {},
   "outputs": [
    {
     "name": "stdout",
     "output_type": "stream",
     "text": [
      "Loaded distance matrix shape: (10, 10)\n",
      "Distance matrix:\n",
      "        0      1       2       3       4       5       6       7       8  \\\n",
      "0  0.001  9.700  50.900  22.800  15.800  56.200  54.000   7.800  18.100   \n",
      "1    NaN  0.001  43.900  15.800  10.500  49.200  47.100   3.500  11.000   \n",
      "2    NaN    NaN   0.001  13.900  17.000   5.300   3.100  19.900   7.600   \n",
      "3    NaN    NaN     NaN   0.001  45.000  33.300  31.200  47.900  35.600   \n",
      "4    NaN    NaN     NaN     NaN   0.001  51.500  49.400  14.800  16.500   \n",
      "5    NaN    NaN     NaN     NaN     NaN   0.001  44.400  14.600  11.500   \n",
      "6    NaN    NaN     NaN     NaN     NaN     NaN   0.001  16.800   4.400   \n",
      "7    NaN    NaN     NaN     NaN     NaN     NaN     NaN   0.001  13.100   \n",
      "8    NaN    NaN     NaN     NaN     NaN     NaN     NaN     NaN   0.001   \n",
      "9    NaN    NaN     NaN     NaN     NaN     NaN     NaN     NaN     NaN   \n",
      "\n",
      "        9  \n",
      "0  18.300  \n",
      "1   7.900  \n",
      "2  10.500  \n",
      "3  38.600  \n",
      "4  18.800  \n",
      "5  13.800  \n",
      "6   7.400  \n",
      "7  10.200  \n",
      "8   6.300  \n",
      "9   0.001  \n"
     ]
    }
   ],
   "source": [
    "print(\"Loaded distance matrix shape:\", distance_matrix.shape)\n",
    "print(\"Distance matrix:\\n\", pd.DataFrame(distance_matrix))\n",
    "# Set the display format for floats\n",
    "# Display float with 1 decimal place\n",
    "pd.options.display.float_format = '{:0.1f}'.format"
   ]
  },
  {
   "cell_type": "markdown",
   "id": "8b950224",
   "metadata": {},
   "source": [
    "----\n",
    "\n",
    "# 6. Mutation Demonstrations <a class=\"anchor\" id=\"mutations\"></a>\n",
    "Below we show each mutation in isolation. We apply each operator to an individual to see “before → after.”\n",
    "\n",
    "---"
   ]
  },
  {
   "cell_type": "markdown",
   "id": "2e887184",
   "metadata": {},
   "source": [
    "----\n",
    "\n",
    "### 6.1. Logistic Mutation <a class=\"anchor\" id=\"logisticm\"></a>\n",
    "How does it work:\n",
    "1) Pick two house ids at random, where id_i!=id_2\n",
    "2) Swap courses assigned to house with id_1 and id_2\n",
    "3) Fix course assignments (make sure hosts are back in their houses)\n",
    "\n",
    "---"
   ]
  },
  {
   "cell_type": "code",
   "execution_count": 9,
   "id": "eaa900a0",
   "metadata": {},
   "outputs": [],
   "source": [
    "np.random.seed(0)\n",
    "# build demo individual \n",
    "fitness  = ResourceFitness(distance_matrix, alpha=1.0, beta=1.0)\n",
    "base_ind = SolutionRD(fitness, Genome,\n",
    "                      mutation_functions=[logistic_mutation, logistic_mutation],\n",
    "                      crossover_functions=[])\n",
    "\n",
    "# deep copy the base individual\n",
    "mutant1 = copy.deepcopy(base_ind)"
   ]
  },
  {
   "cell_type": "code",
   "execution_count": 10,
   "id": "d2a08e2b",
   "metadata": {},
   "outputs": [
    {
     "name": "stdout",
     "output_type": "stream",
     "text": [
      "Base individual genome:\n",
      " [-1  1  0  1  0  2  2  3  2  1 -1  9  8  0  6  7  4 -1  5  1  9 -1  0 -1\n",
      "  2  4  8  3  7  5  6  7  8  3  4  5 -1 -1  9  6  2  0  1]\n",
      "Mutant individual genome:\n",
      " [ 0  1  0  1 -1  2  2  3 -1  1  0  9  8  2  6  7  4 -1  5  1  9 -1  0 -1\n",
      "  2  4  8  3  7  5  6  7  8  3  4  5 -1 -1  9  6  2  0  1]\n",
      "Base individual house assignments:\n",
      " [-1  1  0  1  0  2  2]\n",
      "Mutant individual house assignments:\n",
      " [ 0  1  0  1 -1  2  2]\n",
      "Base individual course assignments:\n",
      " [ 3  2  1 -1  9  8  0  6  7  4 -1  5  1  9 -1  0 -1  2  4  8  3  7  5  6\n",
      "  7  8  3  4  5 -1 -1  9  6  2  0  1]\n",
      "Mutant individual course assignments:\n",
      " [ 3 -1  1  0  9  8  2  6  7  4 -1  5  1  9 -1  0 -1  2  4  8  3  7  5  6\n",
      "  7  8  3  4  5 -1 -1  9  6  2  0  1]\n",
      "Base individual fitness: 2.678695964608448\n",
      "Mutant individual fitness: 2.749962194330039\n"
     ]
    }
   ],
   "source": [
    "# apply logistic_mutation_2\n",
    "mutant1.mutation()\n",
    "\n",
    "# display base_ind genome\n",
    "print(\"Base individual genome:\\n\", base_ind.genome.encode())\n",
    "print(\"Mutant individual genome:\\n\", mutant1.genome.encode())\n",
    "\n",
    "print(\"Base individual house assignments:\\n\", base_ind.genome.house_assignments)\n",
    "print(\"Mutant individual house assignments:\\n\", mutant1.genome.house_assignments)\n",
    " \n",
    "print(\"Base individual course assignments:\\n\", base_ind.genome.course_assignments) \n",
    "print(\"Mutant individual course assignments:\\n\", mutant1.genome.course_assignments)\n",
    "\n",
    "print(\"Base individual fitness:\", base_ind.fitness)\n",
    "print(\"Mutant individual fitness:\", mutant1.fitness)"
   ]
  },
  {
   "cell_type": "markdown",
   "id": "17b6e36f",
   "metadata": {},
   "source": [
    "----\n",
    "\n",
    "### 6.2 Logistic Mutation 2 (pacman mutation) <a class=\"anchor\" id=\"pacman\"></a>\n",
    "How does it work:\n",
    "1) Pick a window size at random from range len(house_assignments)\n",
    "2) Concatenate house assignments array accoridng to window size drawed in 1)\n",
    "3) Fix course assignments (because some hosts might have been moved out of their houses)\n",
    "\n",
    "---"
   ]
  },
  {
   "cell_type": "code",
   "execution_count": 11,
   "id": "51ab4f24",
   "metadata": {},
   "outputs": [],
   "source": [
    "np.random.seed(0)\n",
    "# build demo individual \n",
    "fitness  = ResourceFitness(distance_matrix, alpha=1.0, beta=1.0)\n",
    "base_ind = SolutionRD(fitness, Genome,\n",
    "                      mutation_functions=[logistic_mutation_2, logistic_mutation_2],\n",
    "                      crossover_functions=[])\n",
    "\n",
    "# deep copy the base individual\n",
    "mutant2 = copy.deepcopy(base_ind)"
   ]
  },
  {
   "cell_type": "code",
   "execution_count": 12,
   "id": "a8ed1ae5",
   "metadata": {},
   "outputs": [
    {
     "name": "stdout",
     "output_type": "stream",
     "text": [
      "Base individual genome:\n",
      " [-1  1  0  1  0  2  2  3  2  1 -1  9  8  0  6  7  4 -1  5  1  8  9  0 -1\n",
      "  2  4  5  3  7 -1  6  7  8  3  4  5 -1 -1  9  6  2  0  1]\n",
      "Mutant individual genome:\n",
      " [ 2 -1  1  0  1  0  2  3  2  1 -1  9  8  0  6  7  4 -1  5  1  8  9  0 -1\n",
      "  2  4  5  3  7 -1  6  7  8  3  4  5  0 -1  9  6  2 -1  1]\n",
      "Base individual house assignments:\n",
      " [-1  1  0  1  0  2  2]\n",
      "Mutant individual house assignments:\n",
      " [ 2 -1  1  0  1  0  2]\n",
      "Base individual course assignments:\n",
      " [ 3  2  1 -1  9  8  0  6  7  4 -1  5  1  8  9  0 -1  2  4  5  3  7 -1  6\n",
      "  7  8  3  4  5 -1 -1  9  6  2  0  1]\n",
      "Mutant individual course assignments:\n",
      " [ 3  2  1 -1  9  8  0  6  7  4 -1  5  1  8  9  0 -1  2  4  5  3  7 -1  6\n",
      "  7  8  3  4  5  0 -1  9  6  2 -1  1]\n",
      "Base individual fitness: 2.770405962389403\n",
      "Mutant individual fitness: 3.0091287295243623\n"
     ]
    }
   ],
   "source": [
    "# apply logistic_mutation\n",
    "mutant2.mutation()\n",
    "\n",
    "# display base_ind genome\n",
    "print(\"Base individual genome:\\n\", base_ind.genome.encode())\n",
    "print(\"Mutant individual genome:\\n\", mutant2.genome.encode())\n",
    "\n",
    "print(\"Base individual house assignments:\\n\", base_ind.genome.house_assignments)\n",
    "print(\"Mutant individual house assignments:\\n\", mutant2.genome.house_assignments)\n",
    "\n",
    "print(\"Base individual course assignments:\\n\", base_ind.genome.course_assignments)\n",
    "print(\"Mutant individual course assignments:\\n\", mutant2.genome.course_assignments)\n",
    "\n",
    "print(\"Base individual fitness:\", base_ind.fitness)\n",
    "print(\"Mutant individual fitness:\", mutant2.fitness)"
   ]
  },
  {
   "cell_type": "markdown",
   "id": "6993f0d4",
   "metadata": {},
   "source": [
    "----\n",
    "\n",
    "### 6.3 Social Mutation <a class=\"anchor\" id=\"socialm\"></a>\n",
    "How does it work:\n",
    "1) Pick a participant's \"seat\" at random\n",
    "2) Pick another seat at random in a different house hosting the same course\n",
    "3) Pick course at random\n",
    "4) Swap the two seats between two houses (hosting the same meal)\n",
    "5) Fix course assignments in case the hosts have been displaced\n",
    "\n",
    "---"
   ]
  },
  {
   "cell_type": "code",
   "execution_count": 13,
   "id": "25ce8fe4",
   "metadata": {},
   "outputs": [],
   "source": [
    "# build demo individual \n",
    "fitness  = ResourceFitness(distance_matrix, alpha=1.0, beta=1.0)\n",
    "base_ind = SolutionRD(fitness, Genome,\n",
    "                      mutation_functions=[social_mutation, social_mutation],\n",
    "                      crossover_functions=[])\n",
    "\n",
    "# deep copy the base individual\n",
    "mutant3 = copy.deepcopy(base_ind)"
   ]
  },
  {
   "cell_type": "code",
   "execution_count": 14,
   "id": "9145bdcd",
   "metadata": {},
   "outputs": [
    {
     "name": "stdout",
     "output_type": "stream",
     "text": [
      "Base individual genome:\n",
      " [ 2  1 -1  2  0  0  1  4  0  8  1  3  6  5  9  2  7 -1 -1  1  3  0  4  8\n",
      "  2  6  9  7  5 -1 -1  0  1  5  4  7  8  3  2  9  6 -1 -1]\n",
      "Mutant individual genome:\n",
      " [ 2  1 -1  2  0  0  1  4  0  8  1  3  6  5  9  2  7 -1 -1  1  3  5  4  8\n",
      "  2  6  9  7  0 -1 -1  0  1  5  4  7  8  3  2  9  6 -1 -1]\n",
      "Base individual house assignments:\n",
      " [ 2  1 -1  2  0  0  1]\n",
      "Mutant individual house assignments:\n",
      " [ 2  1 -1  2  0  0  1]\n",
      "Base individual course assignments:\n",
      " [ 4  0  8  1  3  6  5  9  2  7 -1 -1  1  3  0  4  8  2  6  9  7  5 -1 -1\n",
      "  0  1  5  4  7  8  3  2  9  6 -1 -1]\n",
      "Mutant individual course assignments:\n",
      " [ 4  0  8  1  3  6  5  9  2  7 -1 -1  1  3  5  4  8  2  6  9  7  0 -1 -1\n",
      "  0  1  5  4  7  8  3  2  9  6 -1 -1]\n",
      "Base individual fitness: 2.1422406832164276\n",
      "Mutant individual fitness: 1.927929625714139\n"
     ]
    }
   ],
   "source": [
    "# apply social_mutation\n",
    "mutant3.mutation()\n",
    "\n",
    "# display base_ind genome\n",
    "print(\"Base individual genome:\\n\", base_ind.genome.encode())\n",
    "print(\"Mutant individual genome:\\n\", mutant3.genome.encode())\n",
    "\n",
    "print(\"Base individual house assignments:\\n\", base_ind.genome.house_assignments)\n",
    "print(\"Mutant individual house assignments:\\n\", mutant3.genome.house_assignments)\n",
    "\n",
    "print(\"Base individual course assignments:\\n\", base_ind.genome.course_assignments)\n",
    "print(\"Mutant individual course assignments:\\n\", mutant3.genome.course_assignments)\n",
    "\n",
    "print(\"Base individual fitness:\", base_ind.fitness)\n",
    "print(\"Mutant individual fitness:\", mutant3.fitness)"
   ]
  },
  {
   "cell_type": "markdown",
   "id": "527d4651",
   "metadata": {},
   "source": [
    "----\n",
    "\n",
    "# 7. Crossover Demonstratins <a class=\"anchor\" id=\"crossovers\"></a>\n",
    "Below we show each crossover in isolation. We apply each operator to an individual to see “before → after.”\n",
    "\n",
    "---"
   ]
  },
  {
   "cell_type": "markdown",
   "id": "0f32456a",
   "metadata": {},
   "source": [
    "----\n",
    "\n",
    "### 7.1. Full Crossover <a class=\"anchor\" id=\"full\"></a>\n",
    "1) Child1 takes on course assignment from Parent1 and house assignmnet from Parent 2, then fix_course_assignment to have valid genome\n",
    "2) Child2 takes on course assignment from Parent2 and house assignmnet from Parent 1, then fix_course_assignment to have valid genome\n",
    "\n",
    "---"
   ]
  },
  {
   "cell_type": "code",
   "execution_count": 15,
   "id": "49a3b333",
   "metadata": {},
   "outputs": [
    {
     "name": "stdout",
     "output_type": "stream",
     "text": [
      "Parent1 house assignments:\n",
      " [-1  1  0  1  0  2  2]\n",
      "Parent2 house assignments:\n",
      " [ 2  1 -1  2  0  0  1]\n",
      "Parent1 course assignments:\n",
      " [ 2  6  3  7  5  9  4  1  8  0 -1 -1  1  5  6  8  9  2  3  7  4  0 -1 -1\n",
      "  5  2  7  4  8  9  6  1  0  3 -1 -1]\n",
      "Parent2 course assignments:\n",
      " [ 1  9  4 -1  2  8  6  3  7  5 -1  0  1  5  3  9  4 -1  6  7  8  2  0 -1\n",
      "  0  6  4 -1  9  7  3  2  5  8  1 -1]\n",
      "Parent1 fitness: 1.9031565172755338\n",
      "Parent2 fitness: 2.695048137324995\n"
     ]
    }
   ],
   "source": [
    "np.random.seed(0)\n",
    "# build demo individual \n",
    "fitness  = ResourceFitness(distance_matrix, alpha=1.0, beta=1.0)\n",
    "parent1 = SolutionRD(fitness, Genome, [], [full_crossover, full_crossover])\n",
    "parent2 = SolutionRD(fitness, Genome, [], [full_crossover, full_crossover])\n",
    "\n",
    "print(\"Parent1 house assignments:\\n\", parent1.genome.house_assignments)\n",
    "print(\"Parent2 house assignments:\\n\", parent2.genome.house_assignments)\n",
    "print(\"Parent1 course assignments:\\n\", parent1.genome.course_assignments)\n",
    "print(\"Parent2 course assignments:\\n\", parent2.genome.course_assignments)\n",
    "print(\"Parent1 fitness:\", parent1.fitness)\n",
    "print(\"Parent2 fitness:\", parent2.fitness)"
   ]
  },
  {
   "cell_type": "code",
   "execution_count": 16,
   "id": "6d78f1cc",
   "metadata": {},
   "outputs": [
    {
     "name": "stdout",
     "output_type": "stream",
     "text": [
      "Child1 house assignments:\n",
      " [ 2  1 -1  2  0  0  1]\n",
      "Child2 house assignments:\n",
      " [-1  1  0  1  0  2  2]\n",
      "Child1 course assignments:\n",
      " [ 2  6  3  7  4  9 -1  1  8  0  5 -1  1  5 -1  8  9  2  3  7  4  0  6 -1\n",
      "  5  2  7  0  8  9  6  1  4  3 -1 -1]\n",
      "Child2 course assignments:\n",
      " [ 2  7  3  9  6  1  4  0  8  5 -1 -1  1  0  8  9  5  7  3  4  6  2 -1 -1\n",
      "  5  9  7  8  2  3  6  0  4  1 -1 -1]\n",
      "Child1 fitness: 1.8815437029316184\n",
      "Child2 fitness: 2.9995261549676804\n"
     ]
    }
   ],
   "source": [
    "# apply crossover\n",
    "child1, child2 = parent1.crossover(parent2)\n",
    "\n",
    "# Display the child1 and child2 genomes after full crossover\n",
    "print(\"Child1 house assignments:\\n\", child1.genome.house_assignments)\n",
    "print(\"Child2 house assignments:\\n\", child2.genome.house_assignments)\n",
    "print(\"Child1 course assignments:\\n\", child1.genome.course_assignments)\n",
    "print(\"Child2 course assignments:\\n\", child2.genome.course_assignments)\n",
    "print(\"Child1 fitness:\", child1.fitness)\n",
    "print(\"Child2 fitness:\", child2.fitness)"
   ]
  },
  {
   "cell_type": "markdown",
   "id": "975c1e10",
   "metadata": {},
   "source": [
    "----\n",
    "\n",
    "### 7.2. Logistic Crossover <a class=\"anchor\" id=\"logistic\"></a>\n",
    "How does it work:\n",
    "1) Take house assignments arrays of two parents\n",
    "2) Apply pillar crossover: Go by house id in house asignments arrays. Mask the houses which serve the same course in both parents' house assignments\n",
    "3) Shuffle the house assignment where courses served were different between two parents\n",
    "4) Fix course assignments\n",
    "\n",
    "---"
   ]
  },
  {
   "cell_type": "code",
   "execution_count": 17,
   "id": "5d0b6e2e",
   "metadata": {},
   "outputs": [
    {
     "name": "stdout",
     "output_type": "stream",
     "text": [
      "Parent1 house assignments:\n",
      " [-1  1  0  1  0  2  2]\n",
      "Parent2 house assignments:\n",
      " [ 2  1 -1  2  0  0  1]\n",
      "Parent1 course assignments:\n",
      " [ 3  2  1 -1  9  8  0  6  7  4 -1  5  1 -1  9  0 -1  2  4  8  3  7  5  6\n",
      "  7  8  3  4  5 -1 -1  9  6  2  0  1]\n",
      "Parent2 course assignments:\n",
      " [ 4  7  2  0  8  3  5  1  9  6 -1 -1  1  5  8  4  7  2  6  3  9  0 -1 -1\n",
      "  0  2  7  5  4  9  3  8  1  6 -1 -1]\n",
      "Parent1 fitness: 2.678695964608448\n",
      "Parent2 fitness: 2.614694474227749\n"
     ]
    }
   ],
   "source": [
    "np.random.seed(0)\n",
    "# build demo individual \n",
    "fitness  = ResourceFitness(distance_matrix, alpha=1.0, beta=1.0)\n",
    "parent1 = SolutionRD(fitness, Genome, [], [logistic_crossover_2, logistic_crossover_2])\n",
    "parent2 = SolutionRD(fitness, Genome, [], [logistic_crossover_2, logistic_crossover_2])\n",
    "\n",
    "print(\"Parent1 house assignments:\\n\", parent1.genome.house_assignments)\n",
    "print(\"Parent2 house assignments:\\n\", parent2.genome.house_assignments)\n",
    "print(\"Parent1 course assignments:\\n\", parent1.genome.course_assignments)\n",
    "print(\"Parent2 course assignments:\\n\", parent2.genome.course_assignments)\n",
    "print(\"Parent1 fitness:\", parent1.fitness)\n",
    "print(\"Parent2 fitness:\", parent2.fitness)"
   ]
  },
  {
   "cell_type": "code",
   "execution_count": 18,
   "id": "aa901ee9",
   "metadata": {},
   "outputs": [
    {
     "name": "stdout",
     "output_type": "stream",
     "text": [
      "Child5 house assignments:\n",
      " [ 2  1  0  1  0 -1  2]\n",
      "Child6 house assignments:\n",
      " [ 0  1  2  2  0 -1  1]\n",
      "Child5 course assignments:\n",
      " [ 3  2  1 -1  9  8  0  6  7  4 -1  5  1 -1  9  0 -1  2  4  8  3  7  5  6\n",
      "  7  8  3  4  5  0 -1  9  6  2 -1  1]\n",
      "Child6 course assignments:\n",
      " [-1  7  2  0  8  3  5  1  9  6  4 -1  1  5  8  4  7  2  6  3  9  0 -1 -1\n",
      "  0  2  7  5  4  9  3  8  1  6 -1 -1]\n",
      "Child5 fitness: 2.9975159383412877\n",
      "Child6 fitness: 2.6181106905286144\n"
     ]
    }
   ],
   "source": [
    "# Apply logistcic crossover\n",
    "child5, child6 = parent1.crossover(parent2)\n",
    "\n",
    "# display child5 and child 6 genomes after logistic crossover\n",
    "print(\"Child5 house assignments:\\n\", child5.genome.house_assignments)\n",
    "print(\"Child6 house assignments:\\n\", child6.genome.house_assignments)\n",
    "print(\"Child5 course assignments:\\n\", child5.genome.course_assignments)\n",
    "print(\"Child6 course assignments:\\n\", child6.genome.course_assignments)\n",
    "print(\"Child5 fitness:\", child5.fitness)\n",
    "print(\"Child6 fitness:\", child6.fitness)"
   ]
  },
  {
   "cell_type": "markdown",
   "id": "b0fc3f89",
   "metadata": {},
   "source": [
    "----\n",
    "\n",
    "# 8. Selection Demonstration  <a class=\"anchor\" id=\"selections\"></a>\n",
    "We create a population of `SolutionRD` individuals and then pick the survivors using:\n",
    "\n",
    "- **Tournament Selection** (k‐way): randomly sample \\(k\\) individuals and choose the one with the best fitness.  \n",
    "- **Rank Selection**: sort individuals by fitness (highest→lowest), assign selection probabilities proportionally to rank, and draw one.\n",
    "\n",
    "Both return the `SolutionRD` instance.\n",
    "\n",
    "----"
   ]
  },
  {
   "cell_type": "code",
   "execution_count": 21,
   "id": "24f11b5b",
   "metadata": {},
   "outputs": [
    {
     "name": "stdout",
     "output_type": "stream",
     "text": [
      "Starting population fitnesses:\n",
      "   0: 1.95\n",
      "   1: 2.01\n",
      "   2: 2.13\n",
      "   3: 2.31\n",
      "   4: 2.34\n",
      "   5: 2.41\n",
      "   6: 2.49\n",
      "   7: 2.51\n",
      "   8: 2.65\n",
      "   9: 2.82\n",
      "Tournament winner fitness: 2.6504820963241826\n",
      "Rank-selection winner fitness: 2.8195306783055254\n"
     ]
    }
   ],
   "source": [
    "random.seed(0)\n",
    "# Generate a population of 10 individuals\n",
    "pop = [\n",
    "    SolutionRD(\n",
    "        fitness_instance   = fitness,\n",
    "        genome_class       = Genome,\n",
    "        mutation_functions = [social_mutation, logistic_mutation],\n",
    "        crossover_functions= [social_crossover, logistic_crossover_2]\n",
    "    )\n",
    "    for _ in range(10)\n",
    "]\n",
    "\n",
    "# sort the population by fitness\n",
    "pop.sort(key=lambda x: x.fitness)\n",
    "# Tournament selection (k=3), picks the individual with highest fitness among 3 random draws\n",
    "winner_tournament = tournament_selection(pop, k=3)\n",
    "\n",
    "# Rank selection, assigns probabilities by descending fitness rank and selects one\n",
    "winner_rank  = rank_selection(pop)\n",
    "\n",
    "# Report\n",
    "print(\"Starting population fitnesses:\")\n",
    "for i, ind in enumerate(pop):\n",
    "    print(f\"  {i:2}: {ind.fitness:.2f}\")\n",
    "print(\"Tournament winner fitness:\", winner_tournament.fitness)\n",
    "print(\"Rank-selection winner fitness:\", winner_rank.fitness)"
   ]
  },
  {
   "cell_type": "markdown",
   "id": "9de9a5fd",
   "metadata": {},
   "source": [
    "----\n",
    "\n",
    "### 8.1. Selection Pressure vs. Average Winner Fitness <a class=\"anchor\" id=\"selectionpressure\"></a>\n",
    "We will visualize:\n",
    "\n",
    "**Tournament Selection**: influence of tournament size `k` (with fixed population size). \n",
    "\n",
    "---"
   ]
  },
  {
   "cell_type": "code",
   "execution_count": 22,
   "id": "806a95b5",
   "metadata": {},
   "outputs": [],
   "source": [
    "data_matrix_df = pd.read_csv('data/distance_matrix_official.csv', index_col=0)\n",
    "data_matrix_np = data_matrix_df.to_numpy()\n",
    "\n",
    "# a helper function to generate population of different sizes\n",
    "def gen_pop(pop_size, genome_class, fitness_instance, mutation_functions, crossover_functions):\n",
    "    return [\n",
    "        SolutionRD(\n",
    "            fitness_instance   = fitness_instance,\n",
    "            genome_class       = genome_class,\n",
    "            mutation_functions = mutation_functions,\n",
    "            crossover_functions= crossover_functions\n",
    "        )\n",
    "        for _ in range(pop_size)\n",
    "    ]"
   ]
  },
  {
   "cell_type": "code",
   "execution_count": 23,
   "id": "d94ab1d6",
   "metadata": {},
   "outputs": [
    {
     "data": {
      "image/png": "[encoded data removed]",
      "text/plain": [
       "<Figure size 640x480 with 1 Axes>"
      ]
     },
     "metadata": {},
     "output_type": "display_data"
    }
   ],
   "source": [
    "# Tournament-selection: vary k, fix pop_size\n",
    "pop_size = 20\n",
    "k_values = [2, 4, 6, 8, 10, 12, 16, 20]\n",
    "avg_fitness_tourn = []\n",
    "for k in k_values:\n",
    "    favgs = []\n",
    "    for _ in range(100):\n",
    "        pop = gen_pop(pop_size, Genome, fitness, [social_mutation, logistic_mutation], [social_crossover, logistic_crossover_2])\n",
    "        winner = tournament_selection(pop, k=k)\n",
    "        favgs.append(winner.fitness)\n",
    "    avg_fitness_tourn.append(np.mean(favgs))\n",
    "\n",
    "# Plot tournament results\n",
    "plt.figure()\n",
    "plt.plot(k_values, avg_fitness_tourn, marker='o')\n",
    "plt.xlabel(\"Tournament size (k)\")\n",
    "plt.ylabel(\"Average winner fitness\")\n",
    "plt.title(\"Tournament Selection: Effect of k\")\n",
    "plt.grid(True)\n",
    "plt.show()"
   ]
  },
  {
   "cell_type": "markdown",
   "id": "fbec61f2",
   "metadata": {},
   "source": [
    "In the next notebooks we will:\n",
    "\n",
    "* wrap the above in an evolutionary loop,\n",
    "* grid-search parameters (see *3. Grid_search.ipynb*)\n",
    "* perform an analysis of the best performing parameter configurations (see *4. Statistical_analysis.ipynb*)\n",
    "* generate a final solution (see *5. Final_solution.ipynb*)"
   ]
  }
 ],
 "metadata": {
  "kernelspec": {
   "display_name": "Cifo_RunningDinner",
   "language": "python",
   "name": "python3"
  },
  "language_info": {
   "codemirror_mode": {
    "name": "ipython",
    "version": 3
   },
   "file_extension": ".py",
   "mimetype": "text/x-python",
   "name": "python",
   "nbconvert_exporter": "python",
   "pygments_lexer": "ipython3",
   "version": "3.12.10"
  }
 },
 "nbformat": 4,
 "nbformat_minor": 5
}
