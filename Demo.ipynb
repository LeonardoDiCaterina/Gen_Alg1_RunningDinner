{
 "cells": [
  {
   "cell_type": "markdown",
   "id": "bb4a2339",
   "metadata": {},
   "source": [
    "# Genetic-Algorithm operators for the **Running-Dinner** problem DEMO"
   ]
  },
  {
   "cell_type": "markdown",
   "id": "affdc4d0",
   "metadata": {},
   "source": [
    "# Table of Contents\n",
    "- [1. Introduction](#intro)\n",
    "- [2. Setup & Imports](#setup)\n",
    "- [3. Running Dinner Problem Configs](#configs)\n",
    "- [4. Dinner Problem Configs](#configs)\n",
    "  - [3.1 Other Load](#customload)\n",
    "\n",
    "--- "
   ]
  },
  {
   "cell_type": "markdown",
   "id": "0ac13dd1",
   "metadata": {},
   "source": [
    "----\n",
    "\n",
    "# 1. Introduction <a class=\"anchor\" id=\"intro\"></a>\n",
    "\n",
    "----"
   ]
  },
  {
   "cell_type": "markdown",
   "id": "1e5326b6",
   "metadata": {},
   "source": [
    "This notebook showcases every custom component in the `Genetic_algorithm` folder:\n",
    "* config.py\n",
    "* genome.py\n",
    "* fitness.py\n",
    "* mutations.py\n",
    "* crossovers.py\n",
    "* selection_algorithms.py\n",
    "\n",
    "### How They Work Together\n",
    "\n",
    "1. **`Genome`** defines how a candidate solution looks like at the array level.  \n",
    "2. **`ResourceFitness`** defines how good any given `Genome` is, given the distance matrix and weights ($\\alpha$ and $\\beta$)\n",
    "3. A **`SolutionRD`** object wraps `Genome` and `ResourceFitness`, and then offers `.mutation()`, `.crossover()`, and a `.fitness` property to drive the evolutionary loop.\n",
    "4. While **`config.py`** defines the problem's hard parameters"
   ]
  },
  {
   "cell_type": "markdown",
   "id": "3414a1df",
   "metadata": {},
   "source": [
    "----\n",
    "\n",
    "# 2. Setup & Imports <a class=\"anchor\" id=\"setup\"></a>\n",
    "Import packages & data\n",
    "\n",
    "----"
   ]
  },
  {
   "cell_type": "code",
   "execution_count": null,
   "id": "8d76062c",
   "metadata": {},
   "outputs": [],
   "source": [
    "import os, sys, random, numpy as np\n",
    "import pandas as pd\n",
    "import copy\n",
    "import matplotlib.pyplot as plt\n",
    "from pathlib import Path\n",
    "sys.path.append(os.path.abspath(\".\"))\n",
    "\n",
    "# Genetic Algorithm \n",
    "import Genetic_algorithm.config as config\n",
    "from Genetic_algorithm.genome import Genome\n",
    "from Genetic_algorithm.fitness import ResourceFitness\n",
    "from Genetic_algorithm.mutations import social_mutation, logistic_mutation, logistic_mutation_2\n",
    "from Genetic_algorithm.crossovers import social_crossover, logistic_crossover_2, full_crossover\n",
    "from Genetic_algorithm.selection_algorithms import tournament_selection, rank_selection\n",
    "from Genetic_algorithm.solution_rd import SolutionRD\n",
    "\n",
    "random.seed(0)\n",
    "np.random.seed(0)"
   ]
  },
  {
   "cell_type": "markdown",
   "id": "e1dc4a8f",
   "metadata": {},
   "source": [
    "Now, let's import the **official** travel-time matrix:\n",
    "\n",
    "```text\n",
    "data/distance_matrix_official.csv   →   pandas DataFrame   →   NumPy array"
   ]
  },
  {
   "cell_type": "code",
   "execution_count": 2,
   "id": "bca0f7bc",
   "metadata": {},
   "outputs": [
    {
     "name": "stdout",
     "output_type": "stream",
     "text": [
      "Loaded distance matrix shape: (10, 10)\n"
     ]
    }
   ],
   "source": [
    "# Path to the CSV\n",
    "csv_path = Path(\"data/distance_matrix_official.csv\")\n",
    "assert csv_path.exists(), f\"CSV not found: {csv_path}\"\n",
    "\n",
    "# Number of participants\n",
    "n = config.N_PARTICIPANTS\n",
    "\n",
    "# We assume the CSV has a leading index‐column plus N data columns, and at least N+1 rows total.\n",
    "usecols = [0] + list(range(1, n+1))  # keep the index-col plus the first n data cols\n",
    "df = pd.read_csv(\n",
    "    csv_path,\n",
    "    index_col=0,\n",
    "    usecols=usecols,\n",
    "    nrows=n\n",
    ")\n",
    "\n",
    "# Convert to NumPy array\n",
    "distance_matrix = df.to_numpy()\n",
    "assert distance_matrix.shape == (n, n), (\n",
    "    f\"Expected ({n},{n}), got {distance_matrix.shape}\"\n",
    ")\n",
    "\n",
    "print(\"Loaded distance matrix shape:\", distance_matrix.shape)"
   ]
  },
  {
   "cell_type": "markdown",
   "id": "3d17f498",
   "metadata": {},
   "source": [
    "----\n",
    "\n",
    "# 3. Running Dinner Problem Configs <a class=\"anchor\" id=\"configs\"></a>\n",
    "`config.py` keeps all hard-coded parameters\n",
    "\n",
    "----"
   ]
  },
  {
   "cell_type": "code",
   "execution_count": 3,
   "id": "4cfb88a8",
   "metadata": {},
   "outputs": [
    {
     "name": "stdout",
     "output_type": "stream",
     "text": [
      "N_PARTICIPANTS   → 10\n",
      "N_COURSES        → 3\n",
      "N_HOUSES         → 7\n",
      "HOUSE_CAPACITY   → 6\n",
      "LEN_COURSE       → 12\n"
     ]
    }
   ],
   "source": [
    "attrs = [\"N_PARTICIPANTS\", \"N_COURSES\", \"N_HOUSES\",\n",
    "         \"HOUSE_CAPACITY\", \"LEN_COURSE\"]\n",
    "for a in attrs:\n",
    "    print(f\"{a:16} → {getattr(config, a)}\")"
   ]
  },
  {
   "cell_type": "markdown",
   "id": "bbae945e",
   "metadata": {},
   "source": [
    "----\n",
    "\n",
    "# 4. Fitness & Genome <a class=\"anchor\" id=\"fitness\"></a>\n",
    "* `genome.py` defines a class that models the genotype of a Running Dinner solution.\n",
    "* `fitness.py` defines a class that implements the fitness function for a Running Dinner solution.\n",
    "\n",
    "----"
   ]
  },
  {
   "cell_type": "markdown",
   "id": "b475733b",
   "metadata": {},
   "source": [
    "## Class: `Genome`\n",
    "\n",
    "- **Role & Responsibility:**  \n",
    "  - Holds two core arrays:  \n",
    "    1. **`house_assignments`** (`int[N_HOUSES]`): which course each house hosts (or `-1` if unused).  \n",
    "    2. **`course_assignments`** (`int[N_COURSES × LEN_COURSE]`): which participants sit at each “seat” in each course.  \n",
    "  - Provides methods to **encode** these arrays into a 1-D chromosome, **decode** back, and query slices (e.g. “which seats belong to course _𝑐_”).  \n",
    "  - Encapsulates all low-level bit twiddling needed to shuffle, swap, or extract subblocks when applying genetic operators.  \n",
    "\n",
    "- **Instances of `Genome`:**  \n",
    "  - Are concrete **genotypes** (i.e. a specific assignment of hosts & guests).  \n",
    "  - Get passed into `SolutionRD` objects and get mutated, crossed over, and ultimately evaluated."
   ]
  },
  {
   "cell_type": "markdown",
   "id": "5cce3c38",
   "metadata": {},
   "source": [
    "## Class: `ResourceFitness`\n",
    "\n",
    "- **Role & Responsibility:**  \n",
    "  - Stores the **distance matrix** (participant-to-participant travel times) plus two weights, **α** (social) and **β** (logistic).  \n",
    "  - Defines an `.evaluate(genome: Genome) → float` method that:  \n",
    "    1. Computes a **social score**: number of unique meetings/N_PARTICIPANTS. We want to maximize the average number of unique people met per participant.  \n",
    "    2. Computes a **logistic score**: max distance/actual distance. We want to maximize the logistic score by minimizing the actual distance traveled by participants.  \n",
    "    3. Combines them as:  \n",
    "       $\n",
    "         \\text{fitness} = \\alpha \\times s_s \\;+\\; \\beta \\times s_l\n",
    "       $\n",
    "\n",
    "- **Instances of `ResourceFitness`:**  \n",
    "  - Are passed to each `SolutionRD` so that an individual can lazily compute and cache its `.fitness` by calling into this evaluator.\n",
    "\n",
    "---"
   ]
  },
  {
   "cell_type": "markdown",
   "id": "ca6c6a25",
   "metadata": {},
   "source": [
    "`SolutionRD` wraps a `Genome`, the fitness instance and the operator lists.  \n",
    "It evaluates lazily: `individual.fitness` triggers `ResourceFitness.evaluate`.\n",
    "\n",
    "Let's create an instance of SolutionRD:"
   ]
  },
  {
   "cell_type": "code",
   "execution_count": 4,
   "id": "594c896b",
   "metadata": {},
   "outputs": [
    {
     "name": "stdout",
     "output_type": "stream",
     "text": [
      "Encoded genome sample:\n",
      " [-1  1  0  1  0  2  2  7 -1  1  2  9  8  0  6  7  4 -1  7  1 -1  9  0  3\n",
      "  2  4  8 -1  3  5  6  5  8  3  4 -1 -1  5  9  6  2  0  1]\n",
      "Decoded genome sample:\n",
      " (array([-1,  1,  0,  1,  0,  2,  2]), array([ 7, -1,  1,  2,  9,  8,  0,  6,  7,  4, -1,  7,  1, -1,  9,  0,  3,\n",
      "        2,  4,  8, -1,  3,  5,  6,  5,  8,  3,  4, -1, -1,  5,  9,  6,  2,\n",
      "        0,  1]))\n",
      "Individual's house assignments:\n",
      " [-1  1  0  1  0  2  2]\n",
      "Individual's course assignments:\n",
      " [ 7 -1  1  2  9  8  0  6  7  4 -1  7  1 -1  9  0  3  2  4  8 -1  3  5  6\n",
      "  5  8  3  4 -1 -1  5  9  6  2  0  1]\n",
      "Individual's fitness: 2.9078909793070795\n"
     ]
    }
   ],
   "source": [
    "fitness = ResourceFitness(distance_matrix, alpha=1.0, beta=1.0)\n",
    "\n",
    "ind = SolutionRD(\n",
    "    fitness_instance = fitness,\n",
    "    genome_class     = Genome,\n",
    "    mutation_functions   = [social_mutation, logistic_mutation],\n",
    "    crossover_functions  = [social_crossover, logistic_crossover_2],\n",
    ")\n",
    "# Access the individual's fitness (lazy evaluation is triggered by the property)\n",
    "print(\"Encoded genome sample:\\n\", ind.genome.encode())\n",
    "print(\"Decoded genome sample:\\n\", ind.genome.decode())\n",
    "print(\"Individual's house assignments:\\n\", ind.genome.house_assignments)\n",
    "print(\"Individual's course assignments:\\n\", ind.genome.course_assignments)\n",
    "print(\"Individual's fitness:\", ind.fitness)"
   ]
  },
  {
   "cell_type": "code",
   "execution_count": 5,
   "id": "d654af06",
   "metadata": {},
   "outputs": [
    {
     "name": "stdout",
     "output_type": "stream",
     "text": [
      "✅ All hosts are correctly seated in their own course blocks!\n"
     ]
    }
   ],
   "source": [
    "# 1) Your encoded array:\n",
    "encoded = np.array([\n",
    "    -1,  1,  0,  1,  0,  2,  2,\n",
    "     3, -1,  1, -1,  9,  8,  0,  6,  7,  4,  2,  5,  1, -1,  9,  0,  3,\n",
    "     2,  4,  8, -1,  7,  5,  6,  7,  8,  3,  4, -1, -1,  5,  9,  6,  2,  0,  1\n",
    "])\n",
    "\n",
    "# 2) Split into house & course arrays\n",
    "n_houses = config.N_HOUSES\n",
    "houses = encoded[:n_houses]\n",
    "courses = encoded[n_houses:]\n",
    "\n",
    "# 3) Create a dummy Genome and override\n",
    "gen = Genome.__new__(Genome)\n",
    "gen._house_assignments  = houses.copy()\n",
    "gen._course_assignments = courses.copy()\n",
    "\n",
    "# 4) Secure owners into their blocks (in-place)\n",
    "gen.secure_all_owner_to_houses()\n",
    "\n",
    "# 5) Validate: each hosting house has its owner seated\n",
    "for h in range(n_houses):\n",
    "    course = gen.house_assignments[h]\n",
    "    if course == -1:\n",
    "        continue  # unused house\n",
    "    start, end = gen.get_house_position(h)\n",
    "    block = gen.course_assignments[start:end]\n",
    "    assert h in block, (\n",
    "        f\"❌ Owner {h} missing from house {h}'s course block \"\n",
    "        f\"(course {course} seats {start}:{end})\"\n",
    "    )\n",
    "\n",
    "print(\"✅ All hosts are correctly seated in their own course blocks!\")\n"
   ]
  },
  {
   "cell_type": "markdown",
   "id": "fac3ff97",
   "metadata": {},
   "source": [
    "SolutionRD's genome is composed of two blocks: house_assignments and course_assignments.\n",
    "\n",
    "* **house assignments**: An array of length N_HOUSES in which the entry at index i denotes the course (0=starter, 1=main, 2=dessert, or –1 for an unused house) served at house i. \n",
    "\n",
    "    In the example above:\n",
    "        * house with index 0 will not host any meals\n",
    "        * house with index 1 will host main course\n",
    "        * house with index 2 will host appetizer\n",
    "        * house with index 3 will host main course\n",
    "        * house with index 4 will host appetizer\n",
    "        * house with index 5 will host dessert\n",
    "        * house with index 6 will host dessert\n",
    "\n",
    "\n",
    "* **course assignments**: An array of length N_COURSES × LEN_COURSE, i.e., N_COURSES consecutive blocks each of size LEN_COURSE. Each entry in that block is a participant index (0 to N_PARTICIPANTS–1), or -1 if that “seat” in the course is unused.\n",
    "\n",
    "    In the example above:\n",
    "        * the first 12 integers decode participants of the house hosting dessert one and two:\n",
    "        "
   ]
  },
  {
   "cell_type": "code",
   "execution_count": 6,
   "id": "0fa2d784",
   "metadata": {},
   "outputs": [
    {
     "name": "stdout",
     "output_type": "stream",
     "text": [
      "Loaded distance matrix shape: (10, 10)\n",
      "Distance matrix:\n",
      "        0      1       2       3       4       5       6       7       8  \\\n",
      "0  0.001  9.700  50.900  22.800  15.800  56.200  54.000   7.800  18.100   \n",
      "1    NaN  0.001  43.900  15.800  10.500  49.200  47.100   3.500  11.000   \n",
      "2    NaN    NaN   0.001  13.900  17.000   5.300   3.100  19.900   7.600   \n",
      "3    NaN    NaN     NaN   0.001  45.000  33.300  31.200  47.900  35.600   \n",
      "4    NaN    NaN     NaN     NaN   0.001  51.500  49.400  14.800  16.500   \n",
      "5    NaN    NaN     NaN     NaN     NaN   0.001  44.400  14.600  11.500   \n",
      "6    NaN    NaN     NaN     NaN     NaN     NaN   0.001  16.800   4.400   \n",
      "7    NaN    NaN     NaN     NaN     NaN     NaN     NaN   0.001  13.100   \n",
      "8    NaN    NaN     NaN     NaN     NaN     NaN     NaN     NaN   0.001   \n",
      "9    NaN    NaN     NaN     NaN     NaN     NaN     NaN     NaN     NaN   \n",
      "\n",
      "        9  \n",
      "0  18.300  \n",
      "1   7.900  \n",
      "2  10.500  \n",
      "3  38.600  \n",
      "4  18.800  \n",
      "5  13.800  \n",
      "6   7.400  \n",
      "7  10.200  \n",
      "8   6.300  \n",
      "9   0.001  \n"
     ]
    }
   ],
   "source": [
    "print(\"Loaded distance matrix shape:\", distance_matrix.shape)\n",
    "print(\"Distance matrix:\\n\", pd.DataFrame(distance_matrix))\n",
    "# Set the display format for floats\n",
    "# Display float with 1 decimal place\n",
    "pd.options.display.float_format = '{:0.1f}'.format"
   ]
  },
  {
   "cell_type": "markdown",
   "id": "e9dabcdc",
   "metadata": {},
   "source": [
    "The distance matrix above represents the distances between running dinner participants and their homes (if they are hosts). It is used in `ResourceFitness` to calculate logistic score."
   ]
  },
  {
   "cell_type": "markdown",
   "id": "8b950224",
   "metadata": {},
   "source": [
    "## Mutation Demonstrations\n",
    "\n",
    "Below we show each mutation in isolation. We start from the same seed-fixed individual, then apply each operator to see “before → after.”\n",
    "\n",
    "---"
   ]
  },
  {
   "cell_type": "markdown",
   "id": "2e887184",
   "metadata": {},
   "source": [
    "#### 1. Logistic Mutation 2 (pacman mutation)\n",
    "\n",
    "Explain this mutation here"
   ]
  },
  {
   "cell_type": "code",
   "execution_count": 7,
   "id": "eaa900a0",
   "metadata": {},
   "outputs": [],
   "source": [
    "np.random.seed(0)\n",
    "# build demo individual \n",
    "fitness  = ResourceFitness(distance_matrix, alpha=1.0, beta=1.0)\n",
    "base_ind = SolutionRD(fitness, Genome,\n",
    "                      mutation_functions=[logistic_mutation_2, logistic_mutation_2],\n",
    "                      crossover_functions=[])\n",
    "\n",
    "# deep copy the base individual\n",
    "mutant1 = copy.deepcopy(base_ind)"
   ]
  },
  {
   "cell_type": "code",
   "execution_count": 8,
   "id": "d2a08e2b",
   "metadata": {},
   "outputs": [
    {
     "name": "stdout",
     "output_type": "stream",
     "text": [
      "Base individual genome:\n",
      " [-1  1  0  1  0  2  2 -1 -1  1  2  9  8  0  6  7  4 -1  4  1 -1  9  0  3\n",
      "  2  4  8  3  7  5  6  7  8  3  5 -1 -1  5  9  6  2  0  1]\n",
      "Mutant individual genome:\n",
      " [ 1  0  1  0  2  2 -1 -1 -1  1  5  9  8  0  3  7  3 -1  4  1 -1  9  0  6\n",
      "  2  4  8  3  7  2  6  7  8  4  5 -1 -1  5  9  6  2  0  1]\n",
      "Base individual house assignments:\n",
      " [-1  1  0  1  0  2  2]\n",
      "Mutant individual house assignments:\n",
      " [ 1  0  1  0  2  2 -1]\n",
      "Base individual course assignments:\n",
      " [-1 -1  1  2  9  8  0  6  7  4 -1  4  1 -1  9  0  3  2  4  8  3  7  5  6\n",
      "  7  8  3  5 -1 -1  5  9  6  2  0  1]\n",
      "Mutant individual course assignments:\n",
      " [-1 -1  1  5  9  8  0  3  7  3 -1  4  1 -1  9  0  6  2  4  8  3  7  2  6\n",
      "  7  8  4  5 -1 -1  5  9  6  2  0  1]\n",
      "Base individual fitness: 2.7981426768299995\n",
      "Mutant individual fitness: 3.022133802018967\n"
     ]
    }
   ],
   "source": [
    "# apply logistic_mutation_2\n",
    "mutant1.mutation()\n",
    "\n",
    "# display base_ind genome\n",
    "print(\"Base individual genome:\\n\", base_ind.genome.encode())\n",
    "print(\"Mutant individual genome:\\n\", mutant1.genome.encode())\n",
    "\n",
    "print(\"Base individual house assignments:\\n\", base_ind.genome.house_assignments)\n",
    "print(\"Mutant individual house assignments:\\n\", mutant1.genome.house_assignments)\n",
    " \n",
    "print(\"Base individual course assignments:\\n\", base_ind.genome.course_assignments) \n",
    "print(\"Mutant individual course assignments:\\n\", mutant1.genome.course_assignments)\n",
    "\n",
    "print(\"Base individual fitness:\", base_ind.fitness)\n",
    "print(\"Mutant individual fitness:\", mutant1.fitness)"
   ]
  },
  {
   "cell_type": "markdown",
   "id": "17b6e36f",
   "metadata": {},
   "source": [
    "#### 2. Logistic Mutation \n",
    "\n",
    "Explain this mutation here"
   ]
  },
  {
   "cell_type": "code",
   "execution_count": 9,
   "id": "51ab4f24",
   "metadata": {},
   "outputs": [],
   "source": [
    "# build demo individual \n",
    "fitness  = ResourceFitness(distance_matrix, alpha=1.0, beta=1.0)\n",
    "base_ind = SolutionRD(fitness, Genome,\n",
    "                      mutation_functions=[logistic_mutation, logistic_mutation],\n",
    "                      crossover_functions=[])\n",
    "\n",
    "# deep copy the base individual\n",
    "mutant2 = copy.deepcopy(base_ind)"
   ]
  },
  {
   "cell_type": "code",
   "execution_count": 10,
   "id": "a8ed1ae5",
   "metadata": {},
   "outputs": [
    {
     "name": "stdout",
     "output_type": "stream",
     "text": [
      "Base individual genome:\n",
      " [ 2  1 -1  2  0  0  1 -1  9  4 -1  2  8  6  1  7 -1  5 -1  1  5  3  9  4\n",
      " -1  6  7  8  2  0  1 -1  0  4  3  9  6  7  2  5  8  3  0]\n",
      "Mutant individual genome:\n",
      " [ 2  1 -1  2  0  0  1 -1  9  4 -1  2  8  6  1  7 -1  5 -1  1  5  3  9  4\n",
      " -1  6  7  8  2  0  1 -1  0  4  3  9  6  7  2  5  8  3  0]\n",
      "Base individual house assignments:\n",
      " [ 2  1 -1  2  0  0  1]\n",
      "Mutant individual house assignments:\n",
      " [ 2  1 -1  2  0  0  1]\n",
      "Base individual course assignments:\n",
      " [-1  9  4 -1  2  8  6  1  7 -1  5 -1  1  5  3  9  4 -1  6  7  8  2  0  1\n",
      " -1  0  4  3  9  6  7  2  5  8  3  0]\n",
      "Mutant individual course assignments:\n",
      " [-1  9  4 -1  2  8  6  1  7 -1  5 -1  1  5  3  9  4 -1  6  7  8  2  0  1\n",
      " -1  0  4  3  9  6  7  2  5  8  3  0]\n",
      "Base individual fitness: 2.71510534548266\n",
      "Mutant individual fitness: 2.71510534548266\n"
     ]
    }
   ],
   "source": [
    "# apply logistic_mutation\n",
    "mutant2.mutation()\n",
    "\n",
    "# display base_ind genome\n",
    "print(\"Base individual genome:\\n\", base_ind.genome.encode())\n",
    "print(\"Mutant individual genome:\\n\", mutant2.genome.encode())\n",
    "\n",
    "print(\"Base individual house assignments:\\n\", base_ind.genome.house_assignments)\n",
    "print(\"Mutant individual house assignments:\\n\", mutant2.genome.house_assignments)\n",
    "\n",
    "print(\"Base individual course assignments:\\n\", base_ind.genome.course_assignments)\n",
    "print(\"Mutant individual course assignments:\\n\", mutant2.genome.course_assignments)\n",
    "\n",
    "print(\"Base individual fitness:\", base_ind.fitness)\n",
    "print(\"Mutant individual fitness:\", mutant2.fitness)"
   ]
  },
  {
   "cell_type": "markdown",
   "id": "6993f0d4",
   "metadata": {},
   "source": [
    "#### 3. Social Mutation \n",
    "\n",
    "Explain this mutation here"
   ]
  },
  {
   "cell_type": "code",
   "execution_count": 11,
   "id": "25ce8fe4",
   "metadata": {},
   "outputs": [],
   "source": [
    "# build demo individual \n",
    "fitness  = ResourceFitness(distance_matrix, alpha=1.0, beta=1.0)\n",
    "base_ind = SolutionRD(fitness, Genome,\n",
    "                      mutation_functions=[social_mutation, social_mutation],\n",
    "                      crossover_functions=[])\n",
    "\n",
    "# deep copy the base individual\n",
    "mutant3 = copy.deepcopy(base_ind)"
   ]
  },
  {
   "cell_type": "code",
   "execution_count": 12,
   "id": "9145bdcd",
   "metadata": {},
   "outputs": [
    {
     "name": "stdout",
     "output_type": "stream",
     "text": [
      "Base individual genome:\n",
      " [ 1  2  2  0 -1  0  1  1  2  6 -1  8  3  7  9  5 -1  4 -1  5  0  7  4 -1\n",
      "  2  1  6  3  9  0  8  8  9  6  1  4  0  3 -1  7 -1  5  2]\n",
      "Mutant individual genome:\n",
      " [ 1  2  2  0 -1  0  1  1  2  6 -1  8  3  7  9  5 -1  4 -1  5  0  7  4 -1\n",
      "  2  1  6  3  9  0  8  8  9  6  1  4  0  3 -1  7 -1  5  2]\n",
      "Base individual house assignments:\n",
      " [ 1  2  2  0 -1  0  1]\n",
      "Mutant individual house assignments:\n",
      " [ 1  2  2  0 -1  0  1]\n",
      "Base individual course assignments:\n",
      " [ 1  2  6 -1  8  3  7  9  5 -1  4 -1  5  0  7  4 -1  2  1  6  3  9  0  8\n",
      "  8  9  6  1  4  0  3 -1  7 -1  5  2]\n",
      "Mutant individual course assignments:\n",
      " [ 1  2  6 -1  8  3  7  9  5 -1  4 -1  5  0  7  4 -1  2  1  6  3  9  0  8\n",
      "  8  9  6  1  4  0  3 -1  7 -1  5  2]\n",
      "Base individual fitness: 2.7872079040376283\n",
      "Mutant individual fitness: 2.7872079040376283\n"
     ]
    }
   ],
   "source": [
    "# apply social_mutation\n",
    "mutant3.mutation()\n",
    "\n",
    "# display base_ind genome\n",
    "print(\"Base individual genome:\\n\", base_ind.genome.encode())\n",
    "print(\"Mutant individual genome:\\n\", mutant3.genome.encode())\n",
    "\n",
    "print(\"Base individual house assignments:\\n\", base_ind.genome.house_assignments)\n",
    "print(\"Mutant individual house assignments:\\n\", mutant3.genome.house_assignments)\n",
    "\n",
    "print(\"Base individual course assignments:\\n\", base_ind.genome.course_assignments)\n",
    "print(\"Mutant individual course assignments:\\n\", mutant3.genome.course_assignments)\n",
    "\n",
    "print(\"Base individual fitness:\", base_ind.fitness)\n",
    "print(\"Mutant individual fitness:\", mutant3.fitness)"
   ]
  },
  {
   "cell_type": "markdown",
   "id": "527d4651",
   "metadata": {},
   "source": [
    "## Crossover Demonstrations\n",
    "\n",
    "Below we show each crossover in isolation. We start from the same seed-fixed individual, then apply each operator to see “before → after.”\n",
    "\n",
    "---"
   ]
  },
  {
   "cell_type": "markdown",
   "id": "0f32456a",
   "metadata": {},
   "source": [
    "#### 1. Full Crossover \n",
    "\n",
    "Explain this mutation here"
   ]
  },
  {
   "cell_type": "code",
   "execution_count": 13,
   "id": "49a3b333",
   "metadata": {},
   "outputs": [
    {
     "name": "stdout",
     "output_type": "stream",
     "text": [
      "Parent1 house assignments:\n",
      " [-1  1  0  1  0  2  2]\n",
      "Parent2 house assignments:\n",
      " [ 2  1 -1  2  0  0  1]\n",
      "Parent1 course assignments:\n",
      " [ 7 -1  1  2  9  8  0  6  7  4 -1  5  1 -1  9  0  3  2  4  8 -1  7  3  6\n",
      "  5  8  3  4 -1 -1  5  9  6  2  0  1]\n",
      "Parent2 course assignments:\n",
      " [ 9  9 -1  5  4  8  6  5  7  2 -1  4 -1  5  3  1  4 -1  6  7  8  2  0  1\n",
      " -1 -1  0  3  9  6  7  2  3  8  1  0]\n",
      "Parent1 fitness: 3.2957501549978985\n",
      "Parent2 fitness: 2.852621358641419\n"
     ]
    }
   ],
   "source": [
    "np.random.seed(0)\n",
    "# build demo individual \n",
    "fitness  = ResourceFitness(distance_matrix, alpha=1.0, beta=1.0)\n",
    "parent1 = SolutionRD(fitness, Genome, [], [full_crossover, full_crossover])\n",
    "parent2 = SolutionRD(fitness, Genome, [], [full_crossover, full_crossover])\n",
    "\n",
    "print(\"Parent1 house assignments:\\n\", parent1.genome.house_assignments)\n",
    "print(\"Parent2 house assignments:\\n\", parent2.genome.house_assignments)\n",
    "print(\"Parent1 course assignments:\\n\", parent1.genome.course_assignments)\n",
    "print(\"Parent2 course assignments:\\n\", parent2.genome.course_assignments)\n",
    "print(\"Parent1 fitness:\", parent1.fitness)\n",
    "print(\"Parent2 fitness:\", parent2.fitness)"
   ]
  },
  {
   "cell_type": "code",
   "execution_count": 14,
   "id": "6d78f1cc",
   "metadata": {},
   "outputs": [
    {
     "name": "stdout",
     "output_type": "stream",
     "text": [
      "Child1 house assignments:\n",
      " [ 2  1 -1  2  0  0  1]\n",
      "Child2 house assignments:\n",
      " [-1  1  0  1  0  2  2]\n",
      "Child1 course assignments:\n",
      " [ 7 -1  1  4  9  8  8  6  7  2 -1  5  1 -1  9  0  0  2  4  8 -1  7  3  6\n",
      "  5  0  3  4 -1 -1  5  9  6  2  3  1]\n",
      "Child2 course assignments:\n",
      " [ 9  9 -1  2  4  8  7  0  7  5 -1  4 -1  5  0  1  4 -1  6  7  8  2  3  1\n",
      " -1 -1  5  3  9  6  6  2  3  8  1  0]\n",
      "Child1 fitness: 3.2529624817329883\n",
      "Child2 fitness: 2.999040622345039\n"
     ]
    }
   ],
   "source": [
    "# apply crossover\n",
    "child1, child2 = parent1.crossover(parent2)\n",
    "\n",
    "# Display the child1 and child2 genomes after full crossover\n",
    "print(\"Child1 house assignments:\\n\", child1.genome.house_assignments)\n",
    "print(\"Child2 house assignments:\\n\", child2.genome.house_assignments)\n",
    "print(\"Child1 course assignments:\\n\", child1.genome.course_assignments)\n",
    "print(\"Child2 course assignments:\\n\", child2.genome.course_assignments)\n",
    "print(\"Child1 fitness:\", child1.fitness)\n",
    "print(\"Child2 fitness:\", child2.fitness)"
   ]
  },
  {
   "cell_type": "markdown",
   "id": "2a9c6f16",
   "metadata": {},
   "source": [
    "#### 2. Social Crossover \n",
    "\n",
    "Explain this mutation here"
   ]
  },
  {
   "cell_type": "code",
   "execution_count": 15,
   "id": "cbbdd46e",
   "metadata": {},
   "outputs": [
    {
     "name": "stdout",
     "output_type": "stream",
     "text": [
      "Parent1 house assignments:\n",
      " [-1  1  0  1  0  2  2]\n",
      "Parent2 house assignments:\n",
      " [ 2  1 -1  2  0  0  1]\n",
      "Parent1 course assignments:\n",
      " [ 4 -1  1 -1  2  8  0  6  7  4  9  7  1 -1  9  0  3  2  3  8 -1  7  5  6\n",
      "  5  8  3  4 -1 -1  5  9  6  2  0  1]\n",
      "Parent2 course assignments:\n",
      " [ 9  9 -1  6  2  4  6  0  7  8 -1  5 -1  5  3  1  4 -1  6  7  8  2  0  1\n",
      " -1 -1  4  3  9  0  7  2  5  8  1  3]\n",
      "Parent1 fitness: 3.119017642221821\n",
      "Parent2 fitness: 3.0445594231530757\n"
     ]
    }
   ],
   "source": [
    "np.random.seed(0)\n",
    "# build demo individual \n",
    "fitness  = ResourceFitness(distance_matrix, alpha=1.0, beta=1.0)\n",
    "parent1 = SolutionRD(fitness, Genome, [], [social_crossover, social_crossover])\n",
    "parent2 = SolutionRD(fitness, Genome, [], [social_crossover, social_crossover])\n",
    "\n",
    "print(\"Parent1 house assignments:\\n\", parent1.genome.house_assignments)\n",
    "print(\"Parent2 house assignments:\\n\", parent2.genome.house_assignments)\n",
    "print(\"Parent1 course assignments:\\n\", parent1.genome.course_assignments)\n",
    "print(\"Parent2 course assignments:\\n\", parent2.genome.course_assignments)\n",
    "print(\"Parent1 fitness:\", parent1.fitness)\n",
    "print(\"Parent2 fitness:\", parent2.fitness)"
   ]
  },
  {
   "cell_type": "code",
   "execution_count": 16,
   "id": "ec560351",
   "metadata": {},
   "outputs": [
    {
     "name": "stdout",
     "output_type": "stream",
     "text": [
      "Child3 house assignments:\n",
      " [-1  1  0  1  0  2  2]\n",
      "Child4 house assignments:\n",
      " [ 2  1 -1  2  0  0  1]\n",
      "Child3 course assignments:\n",
      " [ 4  6  9  7  2  1 -1  8  7  0 -1  4  9  6  3  5  7 -1  1 -1  2  8  0  3\n",
      "  6  8 -1  2  5  4  0  3  1 -1  9  5]\n",
      "Child4 course assignments:\n",
      " [ 8  9 -1  9  2  6  0 -1  7  6  5  4  1  2  7  6  1  0  8  4  3  5 -1 -1\n",
      " -1  0  2  5 -1  9  8  7  3  1  3  4]\n",
      "Child3 fitness: 3.0195023831501326\n",
      "Child4 fitness: 2.7318475471739627\n"
     ]
    }
   ],
   "source": [
    "# apply social crossover\n",
    "child3, child4 = parent1.crossover(parent2)\n",
    "\n",
    "# display child3 and child4 genome after social crossover\n",
    "print(\"Child3 house assignments:\\n\", child3.genome.house_assignments)\n",
    "print(\"Child4 house assignments:\\n\", child4.genome.house_assignments)\n",
    "print(\"Child3 course assignments:\\n\", child3.genome.course_assignments)\n",
    "print(\"Child4 course assignments:\\n\", child4.genome.course_assignments)\n",
    "print(\"Child3 fitness:\", child3.fitness)\n",
    "print(\"Child4 fitness:\", child4.fitness)"
   ]
  },
  {
   "cell_type": "markdown",
   "id": "975c1e10",
   "metadata": {},
   "source": [
    "#### 3. Logistic Crossover \n",
    "\n",
    "Explain this mutation here"
   ]
  },
  {
   "cell_type": "code",
   "execution_count": 17,
   "id": "5d0b6e2e",
   "metadata": {},
   "outputs": [
    {
     "name": "stdout",
     "output_type": "stream",
     "text": [
      "Parent1 house assignments:\n",
      " [-1  1  0  1  0  2  2]\n",
      "Parent2 house assignments:\n",
      " [ 2  1 -1  2  0  0  1]\n",
      "Parent1 course assignments:\n",
      " [-1 -1  1  2  9  8  0  6  7  4 -1  8  1 -1  9  0  3  2  4  8  3  7  5  6\n",
      "  7  5  3  4 -1 -1  5  9  6  2  0  1]\n",
      "Parent2 course assignments:\n",
      " [ 4  9 -1  3  2  8  6  5  7  0 -1  6 -1  5  1  9  4 -1  6  7  8  2  0  1\n",
      " -1 -1  4  3  9  0  7  2  5  8  1  3]\n",
      "Parent1 fitness: 2.9981426768299992\n",
      "Parent2 fitness: 3.2312430479644165\n"
     ]
    }
   ],
   "source": [
    "np.random.seed(0)\n",
    "# build demo individual \n",
    "fitness  = ResourceFitness(distance_matrix, alpha=1.0, beta=1.0)\n",
    "parent1 = SolutionRD(fitness, Genome, [], [logistic_crossover_2, logistic_crossover_2])\n",
    "parent2 = SolutionRD(fitness, Genome, [], [logistic_crossover_2, logistic_crossover_2])\n",
    "\n",
    "print(\"Parent1 house assignments:\\n\", parent1.genome.house_assignments)\n",
    "print(\"Parent2 house assignments:\\n\", parent2.genome.house_assignments)\n",
    "print(\"Parent1 course assignments:\\n\", parent1.genome.course_assignments)\n",
    "print(\"Parent2 course assignments:\\n\", parent2.genome.course_assignments)\n",
    "print(\"Parent1 fitness:\", parent1.fitness)\n",
    "print(\"Parent2 fitness:\", parent2.fitness)"
   ]
  },
  {
   "cell_type": "code",
   "execution_count": 18,
   "id": "aa901ee9",
   "metadata": {},
   "outputs": [
    {
     "name": "stdout",
     "output_type": "stream",
     "text": [
      "Child5 house assignments:\n",
      " [ 2  1  0  1  0 -1  2]\n",
      "Child6 house assignments:\n",
      " [ 0  1  2  2  0 -1  1]\n",
      "Child5 course assignments:\n",
      " [-1 -1  1  2  9  8  5  6  7  4 -1  8  1 -1  9  0  3  2  4  8  3  7  5  6\n",
      "  7  0  3  4 -1 -1  5  9  6  2  0  1]\n",
      "Child6 course assignments:\n",
      " [-1  0 -1  3 -1  8  6  5  7  9  4  6 -1  5  1  9  4 -1  6  7  8  2  0  1\n",
      " -1  2  4  3  9  0  7  2  5  8  1  3]\n",
      "Child5 fitness: 3.0114101281250703\n",
      "Child6 fitness: 2.957128608531607\n"
     ]
    }
   ],
   "source": [
    "# Apply logistcic crossover\n",
    "child5, child6 = parent1.crossover(parent2)\n",
    "\n",
    "# display child5 and child 6 genomes after logistic crossover\n",
    "print(\"Child5 house assignments:\\n\", child5.genome.house_assignments)\n",
    "print(\"Child6 house assignments:\\n\", child6.genome.house_assignments)\n",
    "print(\"Child5 course assignments:\\n\", child5.genome.course_assignments)\n",
    "print(\"Child6 course assignments:\\n\", child6.genome.course_assignments)\n",
    "print(\"Child5 fitness:\", child5.fitness)\n",
    "print(\"Child6 fitness:\", child6.fitness)"
   ]
  },
  {
   "cell_type": "markdown",
   "id": "b0fc3f89",
   "metadata": {},
   "source": [
    "## Selection Demonstration (Maximization)\n",
    "\n",
    "We create a population of 10 `SolutionRD` individuals (with random distance matrix) and then pick the **highest-fitness** survivors using:\n",
    "\n",
    "- **Tournament Selection** (k‐way): randomly sample \\(k\\) individuals and choose the one with the best fitness.  \n",
    "- **Rank Selection**: sort individuals by fitness (highest→lowest), assign selection probabilities proportionally to rank, and draw one.\n",
    "\n",
    "Both return the `SolutionRD` instance with the **maximum** `.fitness` value."
   ]
  },
  {
   "cell_type": "code",
   "execution_count": 19,
   "id": "24f11b5b",
   "metadata": {},
   "outputs": [
    {
     "name": "stdout",
     "output_type": "stream",
     "text": [
      "Starting population fitnesses:\n",
      "   0: 3.28\n",
      "   1: 2.56\n",
      "   2: 2.98\n",
      "   3: 2.31\n",
      "   4: 2.27\n",
      "   5: 2.60\n",
      "   6: 2.69\n",
      "   7: 2.83\n",
      "   8: 2.64\n",
      "   9: 2.20\n",
      "Tournament winner fitness: 2.5577170503731046\n",
      "Rank-selection winner fitness: 2.6943420338231467\n"
     ]
    }
   ],
   "source": [
    "random.seed(0)\n",
    "# Generate a population of 10 individuals\n",
    "pop = [\n",
    "    SolutionRD(\n",
    "        fitness_instance   = fitness,\n",
    "        genome_class       = Genome,\n",
    "        mutation_functions = [social_mutation, logistic_mutation],\n",
    "        crossover_functions= [social_crossover, logistic_crossover_2]\n",
    "    )\n",
    "    for _ in range(10)\n",
    "]\n",
    "\n",
    "# Tournament selection (k=3), picks the individual with highest fitness among 3 random draws\n",
    "winner_tournament = tournament_selection(pop, k=3)\n",
    "\n",
    "# Rank selection, assigns probabilities by descending fitness rank and selects one\n",
    "winner_rank  = rank_selection(pop)\n",
    "\n",
    "# 5) report\n",
    "print(\"Starting population fitnesses:\")\n",
    "for i, ind in enumerate(pop):\n",
    "    print(f\"  {i:2}: {ind.fitness:.2f}\")\n",
    "print(\"Tournament winner fitness:\", winner_tournament.fitness)\n",
    "print(\"Rank-selection winner fitness:\", winner_rank.fitness)"
   ]
  },
  {
   "cell_type": "markdown",
   "id": "9de9a5fd",
   "metadata": {},
   "source": [
    "## Experiment: Selection Pressure vs. Average Winner Fitness\n",
    "\n",
    "We will run 100 independent trials and plot:\n",
    "\n",
    "**Tournament Selection**: influence of tournament size `k` (with fixed population size).  \n",
    "\n"
   ]
  },
  {
   "cell_type": "code",
   "execution_count": 20,
   "id": "806a95b5",
   "metadata": {},
   "outputs": [],
   "source": [
    "data_matrix_df = pd.read_csv('data/distance_matrix_official.csv', index_col=0)\n",
    "data_matrix_np = data_matrix_df.to_numpy()\n",
    "\n",
    "# a helper function to generate population of different sizes\n",
    "def gen_pop(pop_size, genome_class, fitness_instance, mutation_functions, crossover_functions):\n",
    "    return [\n",
    "        SolutionRD(\n",
    "            fitness_instance   = fitness_instance,\n",
    "            genome_class       = genome_class,\n",
    "            mutation_functions = mutation_functions,\n",
    "            crossover_functions= crossover_functions\n",
    "        )\n",
    "        for _ in range(pop_size)\n",
    "    ]"
   ]
  },
  {
   "cell_type": "code",
   "execution_count": 21,
   "id": "d94ab1d6",
   "metadata": {},
   "outputs": [
    {
     "data": {
      "image/png": "[encoded data removed]",
      "text/plain": [
       "<Figure size 640x480 with 1 Axes>"
      ]
     },
     "metadata": {},
     "output_type": "display_data"
    }
   ],
   "source": [
    "# 1) Tournament-selection: vary k, fix pop_size\n",
    "pop_size = 20\n",
    "k_values = [2, 4, 6, 8, 10, 12, 16, 20]\n",
    "avg_fitness_tourn = []\n",
    "for k in k_values:\n",
    "    favgs = []\n",
    "    for _ in range(100):\n",
    "        pop = gen_pop(pop_size, Genome, fitness, [social_mutation, logistic_mutation], [social_crossover, logistic_crossover_2])\n",
    "        winner = tournament_selection(pop, k=k)\n",
    "        favgs.append(winner.fitness)\n",
    "    avg_fitness_tourn.append(np.mean(favgs))\n",
    "\n",
    "# Plot tournament results\n",
    "plt.figure()\n",
    "plt.plot(k_values, avg_fitness_tourn, marker='o')\n",
    "plt.xlabel(\"Tournament size (k)\")\n",
    "plt.ylabel(\"Average winner fitness\")\n",
    "plt.title(\"Tournament Selection: Effect of k\")\n",
    "plt.grid(True)\n",
    "plt.show()"
   ]
  },
  {
   "cell_type": "markdown",
   "id": "fbec61f2",
   "metadata": {},
   "source": [
    "In the next notebooks we will:\n",
    "\n",
    "* wrap the above in an evolutionary loop,\n",
    "* grid-search parameters (see *Grid_search.ipynb*)."
   ]
  }
 ],
 "metadata": {
  "kernelspec": {
   "display_name": "Cifo_RunningDinner",
   "language": "python",
   "name": "python3"
  },
  "language_info": {
   "codemirror_mode": {
    "name": "ipython",
    "version": 3
   },
   "file_extension": ".py",
   "mimetype": "text/x-python",
   "name": "python",
   "nbconvert_exporter": "python",
   "pygments_lexer": "ipython3",
   "version": "3.12.10"
  }
 },
 "nbformat": 4,
 "nbformat_minor": 5
}
