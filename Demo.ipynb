{
 "cells": [
  {
   "cell_type": "markdown",
   "id": "bb4a2339",
   "metadata": {},
   "source": [
    "# Genetic-Algorithm operators for the **Running-Dinner** problem DEMO"
   ]
  },
  {
   "cell_type": "markdown",
   "id": "affdc4d0",
   "metadata": {},
   "source": [
    "# Table of Contents\n",
    "- [1. Introduction](#intro)\n",
    "- [2. Setup & Imports](#setup)\n",
    "- [3. Running Dinner Problem Configs](#configs)\n",
    "- [4. Dinner Problem Configs](#configs)\n",
    "  - [3.1 Other Load](#customload)\n",
    "\n",
    "--- "
   ]
  },
  {
   "cell_type": "markdown",
   "id": "0ac13dd1",
   "metadata": {},
   "source": [
    "----\n",
    "\n",
    "# 1. Introduction <a class=\"anchor\" id=\"intro\"></a>\n",
    "\n",
    "----"
   ]
  },
  {
   "cell_type": "markdown",
   "id": "1e5326b6",
   "metadata": {},
   "source": [
    "This notebook showcases every custom component in the `Genetic_algorithm` folder:\n",
    "* config.py\n",
    "* genome.py\n",
    "* fitness.py\n",
    "* mutations.py\n",
    "* crossovers.py\n",
    "* selection_algorithms.py\n",
    "* solution_rd.py\n",
    "\n",
    "### How They Work Together\n",
    "\n",
    "1. **`Genome`** defines how a candidate solution looks like at the genome level.  \n",
    "2. **`ResourceFitness`** defines how good any given `Genome` is, given the distance matrix and weights ($\\alpha$ and $\\beta$)\n",
    "3. A **`SolutionRD`** object wraps `Genome` and `ResourceFitness`, and then offers `.mutation()`, `.crossover()`, and a `.fitness` property to drive the evolutionary loop.\n",
    "4. While **`config.py`** defines the problem's hard parameters"
   ]
  },
  {
   "cell_type": "markdown",
   "id": "3414a1df",
   "metadata": {},
   "source": [
    "----\n",
    "\n",
    "# 2. Setup & Imports <a class=\"anchor\" id=\"setup\"></a>\n",
    "Import packages & data\n",
    "\n",
    "----"
   ]
  },
  {
   "cell_type": "code",
   "execution_count": 1,
   "id": "8d76062c",
   "metadata": {},
   "outputs": [],
   "source": [
    "import os, sys, random, numpy as np\n",
    "import pandas as pd\n",
    "import copy\n",
    "import matplotlib.pyplot as plt\n",
    "from pathlib import Path\n",
    "sys.path.append(os.path.abspath(\".\"))\n",
    "\n",
    "# Genetic Algorithm \n",
    "import Genetic_algorithm.config as config\n",
    "from Genetic_algorithm.genome import Genome\n",
    "from Genetic_algorithm.fitness import ResourceFitness\n",
    "from Genetic_algorithm.mutations import social_mutation, logistic_mutation, logistic_mutation_2\n",
    "from Genetic_algorithm.crossovers import social_crossover, logistic_crossover_2, full_crossover\n",
    "from Genetic_algorithm.selection_algorithms import tournament_selection, rank_selection\n",
    "from Genetic_algorithm.solution_rd import SolutionRD\n",
    "\n",
    "random.seed(0)\n",
    "np.random.seed(0)"
   ]
  },
  {
   "cell_type": "markdown",
   "id": "e1dc4a8f",
   "metadata": {},
   "source": [
    "Now, let's import the **official** travel-time matrix:\n",
    "\n",
    "```text\n",
    "data/distance_matrix_official.csv   →   pandas DataFrame   →   NumPy array"
   ]
  },
  {
   "cell_type": "code",
   "execution_count": 2,
   "id": "bca0f7bc",
   "metadata": {},
   "outputs": [
    {
     "name": "stdout",
     "output_type": "stream",
     "text": [
      "Loaded distance matrix shape: (10, 10)\n"
     ]
    }
   ],
   "source": [
    "# Path to the CSV\n",
    "csv_path = Path(\"data/distance_matrix_official.csv\")\n",
    "assert csv_path.exists(), f\"CSV not found: {csv_path}\"\n",
    "\n",
    "# Number of participants\n",
    "n = config.N_PARTICIPANTS\n",
    "\n",
    "# We assume the CSV has a leading index‐column plus N data columns, and at least N+1 rows total.\n",
    "usecols = [0] + list(range(1, n+1))  # keep the index-col plus the first n data cols\n",
    "df = pd.read_csv(\n",
    "    csv_path,\n",
    "    index_col=0,\n",
    "    usecols=usecols,\n",
    "    nrows=n\n",
    ")\n",
    "\n",
    "# Convert to NumPy array\n",
    "distance_matrix = df.to_numpy()\n",
    "assert distance_matrix.shape == (n, n), (\n",
    "    f\"Expected ({n},{n}), got {distance_matrix.shape}\"\n",
    ")\n",
    "\n",
    "print(\"Loaded distance matrix shape:\", distance_matrix.shape)"
   ]
  },
  {
   "cell_type": "markdown",
   "id": "e2566d5b",
   "metadata": {},
   "source": [
    "Let's check if we can generate a population of SolutionRD"
   ]
  },
  {
   "cell_type": "code",
   "execution_count": 3,
   "id": "1c7231c0",
   "metadata": {},
   "outputs": [
    {
     "name": "stdout",
     "output_type": "stream",
     "text": [
      "Individual 0: Fitness = 1.8666498632996673, Genome = [ 2  0 -1  1  0  1  2  0  9  1  2  8 -1  3  7  6  5  4 -1  9  2  3 -1  7\n",
      "  1  0  4  5  6  8 -1  0  1  5  7  3  8  6 -1  2 -1  4  9]\n",
      "Individual 1: Fitness = 1.8783934432473954, Genome = [ 0 -1  0  2  2  1  1  0  3  9  8  4  6  2  1  5  7 -1 -1  5  0  1  2  7\n",
      "  9  6  3  8  4 -1 -1  3  2  8  5  9  7  4  0  1  6 -1 -1]\n",
      "Individual 2: Fitness = 1.8895229552091835, Genome = [ 1  0  2 -1  2  1  0  1  0  3  2  5  4  6  9  7  8 -1 -1  0  1  4  6  8\n",
      "  7  5  9  2  3 -1 -1  2  7  1  0  5  6  4  9  3  8 -1 -1]\n",
      "Individual 3: Fitness = 1.899219663902484, Genome = [ 0  1 -1  2  1  0  2  0  1  2  4  7  8  5  3  9  6 -1 -1  1  5  3  9  6\n",
      "  7  4  8  2  0 -1 -1  3  4  9  2  8  7  6  5  0  1 -1 -1]\n",
      "Individual 4: Fitness = 1.98865348852302, Genome = [ 1  2  2  0  1 -1  0  3  4  5  2  9  1  6  8  0  7 -1 -1  0  6  2  7  5\n",
      "  8  4  9  3  1 -1 -1  1  0  4  5  9  6  2  3  7  8 -1 -1]\n",
      "Individual 5: Fitness = 2.0177726226488697, Genome = [-1  2  2  1  1  0  0  4  7 -1  9  5  0  3  2  6  8  1 -1  0  5  2  3  9\n",
      " -1  1  6  4  8 -1  7  0  3 -1  6  7  1  4  5  8  2 -1  9]\n",
      "Individual 6: Fitness = 2.077866488307863, Genome = [ 1  1  2 -1  0  2  0  4  1  7  0  2  3  6  5  8  9 -1 -1  0  3  6  7  2\n",
      "  5  1  9  4  8 -1 -1  2  7  3  8  6  9  5  4  1  0 -1 -1]\n",
      "Individual 7: Fitness = 2.091590473658014, Genome = [-1  0  2  2  0  1  1  1  6  8  2  0  9  4  5  3  7 -1 -1  5  1  8  3  2\n",
      "  7  6  4  0  9 -1 -1  2  6  4  1  8  0  3  7  5  9 -1 -1]\n",
      "Individual 8: Fitness = 2.098820285801213, Genome = [ 1  0 -1  2  0  2  1  1  6  3  7  9  2  4  0  8  5 -1 -1  0  5  1  8  4\n",
      "  2  6  7  3  9 -1 -1  3  4  1  6  2  7  5  9  0  8 -1 -1]\n",
      "Individual 9: Fitness = 2.120449214306448, Genome = [-1  1  0  1  0  2  2  2  8  5  6  7  3  4  0  9  1 -1 -1  1  2  0  8  4\n",
      "  6  3  5  9  7 -1 -1  5  2  7  8  3  4  6  1  0  9 -1 -1]\n",
      "Individual 10: Fitness = 2.127376325350437, Genome = [-1  2  1  0  1  2  0  3  5 -1  7  4  9  0  2  1  6 -1  8 -1  8  5  2  0\n",
      "  9  3  6  4 -1  1  7  1  6  8  9  3  7  5  2  4  0 -1 -1]\n",
      "Individual 11: Fitness = 2.1928174912683183, Genome = [ 0 -1  2  1  2  1  0  4  0  1 -1  2  3  6  5  7 -1  9  8 -1  3  6  8 -1\n",
      "  7  0  9  5  1  2  4  3  6  1  8  2  7  9  0  5  4 -1 -1]\n",
      "Individual 12: Fitness = 2.201891505468793, Genome = [-1  2  0  1  0  2  1  2  7  3  1  9  0  4  8  6  5 -1 -1  3  7  0  2  1\n",
      "  4  6  8  5  9 -1 -1  1  4  3  2  8  9  5  7  6  0 -1 -1]\n",
      "Individual 13: Fitness = 2.210512646990518, Genome = [ 2 -1  2  1  1  0  0  5  1  0  8  4  3  6  2  9  7 -1 -1  3  6  9  0  1\n",
      "  2  4  7  5  8 -1 -1  0  1  4  3  7  8  2  5  9  6 -1 -1]\n",
      "Individual 14: Fitness = 2.2129589163599435, Genome = [ 2  0  1  1  0 -1  2  1  3  7  9  2  8  4  5  6  0 -1 -1  2  8  6  0  5\n",
      "  9  3  1  7  4 -1 -1  0  5  7  8  1  9  6  2  3  4 -1 -1]\n",
      "Individual 15: Fitness = 2.2169599357613285, Genome = [-1  2  0  1  2  1  0  0  3  2  4  9 -1  1  5  7  8  6 -1  7  6  9  1  3\n",
      "  8 -1  0  2 -1  4  5  3 -1  7 -1  1  6  9  8  0  2  5  4]\n",
      "Individual 16: Fitness = 2.2205068780882082, Genome = [ 2  0  0  1 -1  2  1  1  4  8  6  5  7  2  9  3  0 -1 -1  3  8  7  0  1\n",
      "  9  6  2  5  4 -1 -1  0  6  7  3  8  1  5  2  4  9 -1 -1]\n",
      "Individual 17: Fitness = 2.249481356965502, Genome = [ 0  1  1  0 -1  2  2  0  4  1  8  5  9  3  2  6  7 -1 -1  1  5  3  4  8\n",
      "  0  2  7  9  6 -1 -1  5  1  9  3  0  2  6  7  8  4 -1 -1]\n",
      "Individual 18: Fitness = 2.2589456029930792, Genome = [ 2  1  1  0  2 -1  0  3  2  4  0  7  9  6  1  8  5 -1 -1  1  4  0  7  5\n",
      "  3  2  6  8  9 -1 -1  0  9  3  5  8  1  4  2  6  7 -1 -1]\n",
      "Individual 19: Fitness = 2.261540363053822, Genome = [ 2  0  1  2  0 -1  1  1  0  9  5  2  7  4  6  8  3 -1 -1  2  4  9  0  7\n",
      "  8  6  5  1  3 -1 -1  0  9  8  1  7  2  3  4  5  6 -1 -1]\n",
      "Individual 20: Fitness = 2.2880223307185665, Genome = [ 2  1  0  0  1 -1  2  2  6  8  0  9  1  3  7  5  4 -1 -1  1  0  7  2  6\n",
      "  8  4  9  5  3 -1 -1  0  5  1  3  7  9  6  2  8  4 -1 -1]\n",
      "Individual 21: Fitness = 2.2925752311245438, Genome = [ 0  2  1 -1  1  0  2  7  9  0  8  3 -1  4  1  2  5  6 -1  0  3 -1  7  2\n",
      "  8  9  5  6  1  4 -1  2  0  4  1 -1  5  7  3  6  8  9 -1]\n",
      "Individual 22: Fitness = 2.29466529346428, Genome = [ 1  2  2 -1  0  1  0  4  3  0  1  5  2  6  9  7  8 -1 -1  0  1  7  2  4\n",
      "  8  5  6  9  3 -1 -1  1  9  4  6  3  0  2  5  8  7 -1 -1]\n",
      "Individual 23: Fitness = 2.296893152182291, Genome = [ 1  2  2  0  1  0 -1  3  1  2  4  9  8  5  0  7  6 -1 -1  0  8  2  1  5\n",
      "  9  4  6  3  7 -1 -1  1  7  9  5  3  0  2  6  4  8 -1 -1]\n",
      "Individual 24: Fitness = 2.299786231102664, Genome = [ 2  1  0  2  1 -1  0 -1  2  0  1  9  8  4  5  3  6  7 -1  1  3  0  6  8\n",
      " -1  9  5  4 -1  2  7  5  2 -1  0  4  9  8  3  1 -1  7  6]\n",
      "Individual 25: Fitness = 2.3051089900024575, Genome = [ 1  2 -1  2  0  1  0  4  2  1  3  8  7  6  9  0  5 -1 -1  0  7  1  9  3\n",
      "  4  5  6  2  8 -1 -1  1  9  6  5  0  7  3  2  4  8 -1 -1]\n",
      "Individual 26: Fitness = 2.3179978846705853, Genome = [ 2  1  0 -1  0  1  2  2  8  6  1  7  5  4  3  0  9 -1 -1  1  6  2  9  0\n",
      "  3  5  4  8  7 -1 -1  0  4  5  8  9  3  6  1  2  7 -1 -1]\n",
      "Individual 27: Fitness = 2.3553770981898476, Genome = [ 1 -1  2  2  1  0  0  5  0  9  8  2  4  6  3  7  1 -1 -1  0  3  2  5  6\n",
      "  9  4  7  1  8 -1 -1  2  9  1  4  7  6  3  8  0  5 -1 -1]\n",
      "Individual 28: Fitness = 2.369498000406152, Genome = [ 1  2  2  0 -1  0  1  3  2  4  7  6  9  5  8  0  1 -1 -1  0  8  7  2  3\n",
      "  5  6  4  9  1 -1 -1  1  6  7  8  3  4  2  0  9  5 -1 -1]\n",
      "Individual 29: Fitness = 2.3847482359458336, Genome = [ 0  1  1  2  0  2 -1  0  3  6  9 -1  7  1  8  4 -1  2  5  7  4  6 -1  1\n",
      "  8  9  0 -1  5  2  3  6  3  4  7  2  8  0 -1  1  9 -1  5]\n",
      "Individual 30: Fitness = 2.3848274833863554, Genome = [ 1  1  2  0  0 -1  2  3  8  2  7  9  5  4  0  6  1 -1 -1  0  7  4  5  6\n",
      "  3  1  8  9  2 -1 -1  2  4  8  1  0  5  6  3  9  7 -1 -1]\n",
      "Individual 31: Fitness = 2.4005944066760105, Genome = [ 1  2  0  0  2  1 -1  2  8  5  6  0  1  3  4  9  7 -1 -1  0  9  2  4  1\n",
      "  6  5  3  8  7 -1 -1  1  2  8  6  0  7  4  9  5  3 -1 -1]\n",
      "Individual 32: Fitness = 2.401168831478746, Genome = [ 1  2  0  0 -1  2  1  2  4  0  6  8  1  3  7  5  9 -1 -1  0  7  8  5  2\n",
      "  9  6  1  4  3 -1 -1  1  9  2  0  4  7  5  8  6  3 -1 -1]\n",
      "Individual 33: Fitness = 2.4059608943051694, Genome = [ 2  1 -1  1  2  0  0  5  4  3  7  8  1  2  0  6 -1  9 -1  8  2  1  0  4\n",
      "  6  3 -1  9  7  5 -1  0  9  2  5  7  1  6  3  4  8 -1 -1]\n",
      "Individual 34: Fitness = 2.4081476342033725, Genome = [ 1  2  0 -1  2  1  0  7  2  0  5  8  3  1  9 -1  4  6 -1  1  9  6  4  0\n",
      " -1  8  5 -1  2  7  3  3  0  1  5  8  2 -1 -1  6  7  4  9]\n",
      "Individual 35: Fitness = 2.4086886775871332, Genome = [ 1  0  2 -1  2  1  0  1  4  8  2  9  7  6  5  0  3 -1 -1  0  7  1  4  6\n",
      "  9  5  3  2  8 -1 -1  2  3  9  5  0  1  4  7  6  8 -1 -1]\n",
      "Individual 36: Fitness = 2.4105915298737703, Genome = [ 0  0  1 -1  1  2  2  8  2  0  4 -1  7  5  6  1  3  9 -1 -1  0  2 -1  5\n",
      "  1  8  7  6  9  4  3  2 -1  4  3  5  9  8  7  0  1  6 -1]\n",
      "Individual 37: Fitness = 2.4308950126129485, Genome = [ 0 -1  1  0  1  2  2  0  8  7  9  2  1  3  6  5  4 -1 -1  2  3  6  5  0\n",
      "  9  4  1  7  8 -1 -1  5  2  3  4  1  7  6  8  9  0 -1 -1]\n",
      "Individual 38: Fitness = 2.438438018843109, Genome = [-1  2  1  1  2  0  0  0  1  7  4  3  5  8 -1 -1  9  6  2  2  5  8 -1  7\n",
      "  9  1  3 -1  0  6  4  3  1  6  8  2  5  9 -1  7  4  0 -1]\n",
      "Individual 39: Fitness = 2.4662718613967227, Genome = [ 0  0 -1  1  2  1  2  8 -1  2  9  3  0  6  4  5  7 -1  1  6  2  3  7  9\n",
      " -1  0  4  1  5  8 -1  4  2 -1  9  3  0  7  8  5  6  1 -1]\n",
      "Individual 40: Fitness = 2.467405971749495, Genome = [-1  0  1  1  2  2  0  1  7  0  5  9  4  6  2  3  8 -1 -1  2  1  6  5  4\n",
      "  0  3  7  9  8 -1 -1  4  0  1  8  6  3  5  7  2  9 -1 -1]\n",
      "Individual 41: Fitness = 2.488169222836556, Genome = [ 1  2  0  2 -1  1  0  5  0  2  1  7 -1 -1  8  4  6  9  3  4  0  7  2  8\n",
      "  1 -1  3 -1  9  5  6  8  1  2  4 -1  9  6  3  0  7 -1  5]\n",
      "Individual 42: Fitness = 2.4891826993206925, Genome = [-1  0  2  0  2  1  1  1  0  5  8  2  4  3  7  9  6 -1 -1  5  1  2  9  3\n",
      "  0  6  8  7  4 -1 -1  2  0  8  9  6  3  4  7  5  1 -1 -1]\n",
      "Individual 43: Fitness = 2.494127359522488, Genome = [ 2  1  2 -1  0  0  1  4  9  1  0  6  2  5  7  8  3 -1 -1  1  9  2  7  5\n",
      "  8  6  0  4  3 -1 -1  0  9  4  1  3  7  2  6  5  8 -1 -1]\n",
      "Individual 44: Fitness = 2.494328735987238, Genome = [ 1  1  0  2  0  2 -1  2  1  0  6  9  5  4  7  3  8 -1 -1  0  8  9  5  2\n",
      "  7  1  3  6  4 -1 -1  3  6  7  0  2  8  5  4  1  9 -1 -1]\n",
      "Individual 45: Fitness = 2.4994317496291703, Genome = [-1  0  2  1  2  1  0 -1  1  0  3 -1  2  5  4  9  8  7  6  8  1  7  3  6\n",
      " -1  5  9 -1  0  4  2  1  3  5 -1  2  6 -1  9  7  8  4  0]\n",
      "Individual 46: Fitness = 2.5006660303117583, Genome = [-1  2  2  0  1  0  1  7  8  3  6  4  1 -1  0  2 -1  9  5  8  0  1 -1  4\n",
      "  2  6 -1  5  3  7  9  4 -1  5  7  0  1  2  3  6  8 -1  9]\n",
      "Individual 47: Fitness = 2.5065159076043417, Genome = [-1  0  2  0  1  2  1  6  9  7  1  2  4  8  0 -1  3 -1  5 -1  4  5  9  8\n",
      "  2  3  0  6 -1  7  1  2  3  8  0  6 -1  4  1  9  5  7 -1]\n",
      "Individual 48: Fitness = 2.506667794391286, Genome = [ 2 -1  1  0  0  2  1  3  5  1  6  0  9  4  2  8  7 -1 -1  2  8  5  9  3\n",
      "  1  6  4  0  7 -1 -1  0  4  1  9  7  8  5  6  2  3 -1 -1]\n",
      "Individual 49: Fitness = 2.5069349829419885, Genome = [ 1  0  1 -1  2  2  0  1  8  9  4  7  0  6  2  3  5 -1 -1  0  1  4  6  8\n",
      "  9  2  5  3  7 -1 -1  4  2  7  1  3  6  5  0  9  8 -1 -1]\n",
      "Individual 50: Fitness = 2.516486346979078, Genome = [ 0  2  1  1  0 -1  2  2  6 -1  0  1  9  5  4 -1  3  7  8  5  2  1  6  7\n",
      "  4  3 -1  0  9  8 -1  9  3  8 -1  5  1  0  7  4  6  2 -1]\n",
      "Individual 51: Fitness = 2.538370597000998, Genome = [ 0 -1  1  1  2  2  0  0  7  3  2  1  8  6  5  4  9 -1 -1  2  6  7  9  1\n",
      "  4  3  0  8  5 -1 -1  4  3  9  8  6  1  5  0  7  2 -1 -1]\n",
      "Individual 52: Fitness = 2.539046536093758, Genome = [ 2  0  0 -1  1  2  1  8  7  6  0  9  1  5  4 -1  3 -1  2  0  4  5  8  9\n",
      "  3 -1  6 -1  2  7  1  7  0  2  4  8  3  1  5  6 -1  9 -1]\n",
      "Individual 53: Fitness = 2.5417543970335617, Genome = [ 1  0  2  1  2 -1  0  1  7  5  3  0  4  6  2  8  9 -1 -1  0  1  7  4  6\n",
      "  2  3  8  5  9 -1 -1  2  6  9  0  3  1  4  7  5  8 -1 -1]\n",
      "Individual 54: Fitness = 2.5449862104440264, Genome = [ 0  2  2  0  1  1 -1  8  1 -1  4  0  6  7  2  5  9  3 -1  4  0  7  6  8\n",
      "  3  2  9  1 -1  5 -1  8  3  1 -1  6 -1  2  7  4  9  0  5]\n",
      "Individual 55: Fitness = 2.564680279976011, Genome = [ 0  2  1 -1  0  2  1  0  2  8  6  3  5  4  9  1  7 -1 -1  2  7  0  8  9\n",
      "  3  6  4  5  1 -1 -1  1  4  6  3  0  9  5  8  7  2 -1 -1]\n",
      "Individual 56: Fitness = 2.5679279523347565, Genome = [ 0  2  1  2  0  1 -1  0  7  3  5  9  1  4  6  2  8 -1 -1  2  6  4  0  7\n",
      "  1  5  9  8  3 -1 -1  1  2  6  7  9  0  3  8  4  5 -1 -1]\n",
      "Individual 57: Fitness = 2.5789072658154977, Genome = [ 1  0  1 -1  2  0  2  0  1  7  3 -1  6  2  8  9  4  5 -1  7  0 -1 -1  8\n",
      "  6  5  1  4  9  2  3  1  4 -1  5  3  0  7  8  6  9  2 -1]\n",
      "Individual 58: Fitness = 2.591612247727588, Genome = [ 0  2  2  0  1 -1  1  1  2  0 -1  6 -1  3  7  8  5  9  4  4  8  2  9  3\n",
      "  0 -1 -1  1  6  7  5  0  8  3  6  1 -1  5  2 -1  4  9  7]\n",
      "Individual 59: Fitness = 2.594710255895009, Genome = [ 1  2  2  0  1  0 -1  3  6  7  2  0  8  5  4  1  9 -1 -1  0  6  1  2  7\n",
      "  3  4  8  5  9 -1 -1  1  8  9  3  5  0  2  7  6  4 -1 -1]\n",
      "Individual 60: Fitness = 2.5959776915548263, Genome = [ 1  1  2  2  0 -1  0  1  7 -1  8  9  4  6  0 -1  5  3  2 -1  5  7 -1  8\n",
      "  0  1  2  9  3  4  6  5  6  8  7  2  1 -1  3  0  9  4 -1]\n",
      "Individual 61: Fitness = 2.596388593154122, Genome = [ 1  2  2  0  0  1 -1  6  1  8  3  5  7  9 -1 -1  0  2  4  0  2  7  6  9\n",
      "  3 -1  4 -1  5  1  8  8 -1  7  9  1  4  6 -1  2  3  5  0]\n",
      "Individual 62: Fitness = 2.6111718157018644, Genome = [ 2  0  0  1 -1  1  2  8  3  0  1  5  6  9 -1  7  4 -1  2  7  3  8 -1  9\n",
      "  0  2  4  5 -1  1  6 -1 -1  4  9  0  5  3  7  2  1  8  6]\n",
      "Individual 63: Fitness = 2.6168483167888956, Genome = [-1  1  2  1  0  0  2  4  2  1  8  9  0  5  7  3  6 -1 -1  1  9  2  5  8\n",
      "  4  3  6  0  7 -1 -1  2  3  8  5  9  7  6  4  0  1 -1 -1]\n",
      "Individual 64: Fitness = 2.662882498536376, Genome = [ 2  0  2 -1  0  1  1  1  7  9  5  8  0  4  3  6  2 -1 -1  5  3  2  9  8\n",
      "  1  6  0  7  4 -1 -1  0  9  1  4  8  7  2  5  3  6 -1 -1]\n",
      "Individual 65: Fitness = 2.6651157279096505, Genome = [ 1  1  0  2 -1  2  0 -1  8  5  7  2  3 -1  9  0  4  1  6 -1  3  2  7  8\n",
      "  0  1 -1  4  9  5  6  2  3  9  6  1  7 -1  4  5  8  0 -1]\n",
      "Individual 66: Fitness = 2.667861075545449, Genome = [ 2 -1  2  0  1  1  0  3  9  5  7  4  8  6  1  0  2 -1 -1  4  8  2  6  1\n",
      "  3  5  9  0  7 -1 -1  0  6  4  9  3  7  2  8  5  1 -1 -1]\n",
      "Individual 67: Fitness = 2.670474882760601, Genome = [ 0  1 -1  0  1  2  2 -1  8  4  5  6  0  9  1  2  7  3 -1 -1  0  7  8  1\n",
      " -1  3  4  5  9  2  6  7  4  0 -1  5  8  6  3 -1  9  1  2]\n",
      "Individual 68: Fitness = 2.6739754948395524, Genome = [ 0  0  1  2  2  1 -1  0  6  9  7  4  2  1  8  5  3 -1 -1  2  9  7  6  4\n",
      "  1  5  8  0  3 -1 -1  3  1  0  9  5  6  4  2  8  7 -1 -1]\n",
      "Individual 69: Fitness = 2.6913947294931786, Genome = [ 0  1 -1  2  0  1  2  1 -1  2  0  9  5  3 -1  4  6  8  7  6  2  4  9  3\n",
      "  1  7  8  5 -1  0 -1  3  8  0 -1  1  4  2  7  9 -1  6  5]\n",
      "Individual 70: Fitness = 2.695432490013933, Genome = [ 2  1 -1  2  0  0  1  4  3  2  6  0  9  5  7  8  1 -1 -1  1  9  4  3  5\n",
      "  8  6  2  0  7 -1 -1  0  9  8  7  4  2  3  6  1  5 -1 -1]\n",
      "Individual 71: Fitness = 2.727837222061562, Genome = [ 0 -1  2  1  1  0  2  0  6  4  7  2  1  5  3  9  8 -1 -1  3  2  0  7  9\n",
      "  1  4  8  5  6 -1 -1  2  7  8  4  9  0  6  1  5  3 -1 -1]\n",
      "Individual 72: Fitness = 2.7408636630233723, Genome = [ 0  2 -1  2  0  1  1  2  5  1  8 -1  0  6  9  7  4  3 -1  0  4  7  3  5\n",
      "  2  1  8 -1  9  6 -1 -1  2  9  0  7  1  4  3  6  8 -1  5]\n",
      "Individual 73: Fitness = 2.755434395806406, Genome = [ 2  2 -1  0  1  1  0 -1  7  4  3  9  8  2  6  5 -1  0  1 -1  4  0  1  7\n",
      "  3  2  8  9 -1  5  6  6  3  4  8  0  5 -1  9  7  1  2 -1]\n",
      "Individual 74: Fitness = 2.7826450381431305, Genome = [ 0  0  2  2 -1  1  1  9  5  3  0 -1  2  6  8  4  1 -1  7  8  5  0  4  9\n",
      "  7  3  1  2 -1 -1  6  0 -1  5  9  1  2  8  4  3  7  6 -1]\n",
      "Individual 75: Fitness = 2.7891826993206927, Genome = [ 1  0  2 -1  2  0  1  6  9  1  8  7 -1  4  5 -1  3  0  2 -1  4  9  3  1\n",
      "  0  5  7  6  2 -1  8  0  2  8  9  6 -1  5  1  3  7  4 -1]\n",
      "Individual 76: Fitness = 2.7925312492149157, Genome = [ 2  0 -1  1  2  1  0  1  0  8  9  5  4  6  3  7  2 -1 -1  3  7  9  4  8\n",
      "  1  5  2  6  0 -1 -1  0  2  6  7  9  1  4  5  8  3 -1 -1]\n",
      "Individual 77: Fitness = 2.7925532376582054, Genome = [ 1  2  2  0  1 -1  0  3  8  7  2  1  5  6  0  4  9 -1 -1  0  2  3  9  7\n",
      "  5  4  8  1  6 -1 -1  1  5  9  4  8  3  2  7  0  6 -1 -1]\n",
      "Individual 78: Fitness = 2.7927072975030347, Genome = [ 0 -1  2  0  1  2  1  7  2  0  1 -1  9  8  6  5  4  3 -1  1  4 -1  9  3\n",
      "  8  2  6  5  7  0 -1  0  4  2  9  6  1  8 -1 -1  5  7  3]\n",
      "Individual 79: Fitness = 2.7934369127193377, Genome = [ 2  1  2  0 -1  0  1  8  2  3 -1  9  0  5 -1  6  7  4  1  3  7  2  1  9\n",
      "  0  5 -1  6  4  8 -1  9 -1  8  3  5  0  4  6  2  1  7 -1]\n",
      "Individual 80: Fitness = 2.799361004230805, Genome = [ 2  1 -1  1  0  2  0  9  0 -1  4  5  3  8  1  6  7 -1  2  1  0  9 -1  2\n",
      "  7  8  4  6  3  5 -1  7  1  4  0 -1 -1  2  5  3  9  6  8]\n",
      "Individual 81: Fitness = 2.7994789411288665, Genome = [ 1  0  2  2 -1  0  1  6  0  9 -1 -1  1  8  5  3  7  2  4  9  0 -1  7  1\n",
      "  2  8  3  6  5 -1  4  8 -1  2  6  7  0  1  5  9  3 -1  4]\n",
      "Individual 82: Fitness = 2.8127439426020375, Genome = [ 0  0  2  2  1  1 -1  2  8 -1  4  7  0  3  5  9  6  1 -1  8  4  3  9 -1\n",
      "  7 -1  2  0  6  1  5  4  7 -1  1  8  2  6  0  9  5  3 -1]\n",
      "Individual 83: Fitness = 2.8162087299083614, Genome = [ 2  2  0 -1  1  0  1  8  0  2  6  7  3  5  1  4 -1  9 -1  4  8  9 -1  5\n",
      "  3  6  0 -1  7  1  2  8  4  2  3  6  0  9  5  7 -1  1 -1]\n",
      "Individual 84: Fitness = 2.8486718328264518, Genome = [ 0  1  0  2  2  1 -1  0  5  3  9  8  4  2  7  1  6 -1 -1  1  4  0  9  2\n",
      "  3  5  6  8  7 -1 -1  3  7  8  5  2  1  4  9  0  6 -1 -1]\n",
      "Individual 85: Fitness = 2.8521679564225058, Genome = [-1  2  0  1  1  2  0  5  7  8  2  4  3 -1  0  9  6 -1  1  3  0 -1  9  8\n",
      "  7  2 -1  5  6  4  1  6  8  4  1  2 -1  0  9  5  3 -1  7]\n",
      "Individual 86: Fitness = 2.8536495878071855, Genome = [ 1  1  0 -1  2  2  0 -1  3 -1  7  1  2  6  4  9  8  5  0  4  3 -1  0  9\n",
      "  2  1  7 -1  8  5  6  0  1 -1  3 -1  4  5  8  9  6  7  2]\n",
      "Individual 87: Fitness = 2.8709069013544832, Genome = [ 0  2  0 -1  2  1  1  0  9  6  7  8  1  2  3  5  4 -1 -1  5  3  4  2  1\n",
      "  7  6  8  0  9 -1 -1  1  9  3  5  8  0  4  7  6  2 -1 -1]\n",
      "Individual 88: Fitness = 2.883759817417292, Genome = [ 2  1 -1  0  1  0  2  3  8  7  4  0  2  5  1  9  6 -1 -1  1  9  8  3  7\n",
      "  5  4  0  2  6 -1 -1  0  9  5  4  1  3  6  2  8  7 -1 -1]\n",
      "Individual 89: Fitness = 2.886958999869151, Genome = [ 2 -1  2  0  1  0  1  4 -1  2  7  0  3 -1  5  8  9  6  1  4  5  9  8  0\n",
      "  7 -1 -1  3  2  1  6  4  0  9  1 -1  3  5  7  6  2 -1  8]\n",
      "Individual 90: Fitness = 2.8944183708063407, Genome = [ 1  2  1  0 -1  2  0  3  9  7  1  5  2  6  0  4  8 -1 -1  0  7  9  5  6\n",
      "  4  2  8  1  3 -1 -1  1  4  3  8  0  7  5  9  6  2 -1 -1]\n",
      "Individual 91: Fitness = 2.9146944742277494, Genome = [-1  2  2  1  1  0  0  7  8  5  9  1  2  0  6 -1 -1  4  3  2 -1  0  7  6\n",
      "  3  8  9  5  4  1 -1  7  1  9  6  8  3  4 -1 -1  2  0  5]\n",
      "Individual 92: Fitness = 2.9161532919146365, Genome = [ 0  1  0  2  1 -1  2  7  0  6 -1  4  3  2  5 -1  9  8  1 -1  1  9  6  3\n",
      "  8  7  5  4 -1  2  0  4  9  8  3 -1  2  1  0  5  6  7 -1]\n",
      "Individual 93: Fitness = 2.930201446746459, Genome = [ 0  0  2  2  1 -1  1  0  7 -1  6 -1  8  4  9  1  5  2  3  4  9  0  1  8\n",
      " -1  3  7  6  5 -1  2  8  9  7  2  4  0  1  3  5  6 -1 -1]\n",
      "Individual 94: Fitness = 2.93485099637555, Genome = [ 2  1  0  2  0  1 -1  2  1  5  6  3  0  9  7  8 -1  4 -1  9  4  0 -1  2\n",
      "  1  6  5  8  3 -1  7 -1  6  0 -1  2  8  3  7  9  1  4  5]\n",
      "Individual 95: Fitness = 2.9396581672831066, Genome = [ 2  0  0  2  1  1 -1  0  1 -1  4  9  6  7  5  8  3  2 -1 -1  0  4  3  7\n",
      "  1  8  2  5  6 -1  9  2  9  8  1  0 -1  3  7  6 -1  4  5]\n",
      "Individual 96: Fitness = 2.982506641033468, Genome = [ 0 -1  2  1  0  2  1  2  6 -1  8  0  7  9  1  4 -1  5  3  9 -1  1  8  3\n",
      "  0  6  5  4  2 -1  7  2  9  6 -1  4  8  7  3  0  5  1 -1]\n",
      "Individual 97: Fitness = 3.032904453917795, Genome = [ 1  2  1 -1  2  0  0  5  2  3  0 -1 -1  6  7  4  9  8  1  0  1 -1  9  8\n",
      " -1  6  3  2  4  5  7  8  7  5  3  1  6  4  2  0 -1  9 -1]\n",
      "Individual 98: Fitness = 3.171917667140477, Genome = [ 0 -1  1  2  1  2  0  3  8 -1  2  0  9  6  4  7  1 -1  5  2  8 -1  9 -1\n",
      "  7  5  6  1  0  4  3  6  4  3  7  2 -1  9  8  1 -1  5  0]\n",
      "Individual 99: Fitness = 3.2003084226959184, Genome = [ 0  0  2 -1  1  1  2  6  3  2  7  0  4 -1  1  8  5  9 -1  8  4 -1  0  6\n",
      "  1  9  7  3  2  5 -1  5  2  4  9  1 -1  0  3  8  6  7 -1]\n"
     ]
    }
   ],
   "source": [
    "my_fitness = ResourceFitness(distance_matrix)\n",
    "\n",
    "first_solution = SolutionRD(my_fitness, Genome, [logistic_mutation, social_mutation], [logistic_crossover_2, social_crossover])\n",
    "\n",
    "# Generate population of size n individuals\n",
    "population = []\n",
    "for _ in range(100):\n",
    "    ind = SolutionRD(\n",
    "        fitness_instance = my_fitness,\n",
    "        genome_class     = Genome,\n",
    "        mutation_functions   = [social_mutation, logistic_mutation],\n",
    "        crossover_functions  = [social_crossover, logistic_crossover_2],\n",
    "    )\n",
    "    population.append(ind)\n",
    "# Calculate fitness for each individual\n",
    "fitness_values = [ind.fitness for ind in population]\n",
    "# Sort individuals by fitness\n",
    "sorted_population = sorted(population, key=lambda x: x.fitness)\n",
    "\n",
    "# display sorted individuals fitness and genome\n",
    "for i, ind in enumerate(sorted_population):\n",
    "    print(f\"Individual {i}: Fitness = {ind.fitness}, Genome = {ind.genome.encode()}\")"
   ]
  },
  {
   "cell_type": "markdown",
   "id": "3d17f498",
   "metadata": {},
   "source": [
    "----\n",
    "\n",
    "# 3. Running Dinner Problem Configs <a class=\"anchor\" id=\"configs\"></a>\n",
    "`config.py` keeps all hard-coded parameters\n",
    "\n",
    "----"
   ]
  },
  {
   "cell_type": "code",
   "execution_count": 4,
   "id": "4cfb88a8",
   "metadata": {},
   "outputs": [
    {
     "name": "stdout",
     "output_type": "stream",
     "text": [
      "N_PARTICIPANTS   → 10\n",
      "N_COURSES        → 3\n",
      "N_HOUSES         → 7\n",
      "HOUSE_CAPACITY   → 6\n",
      "LEN_COURSE       → 12\n"
     ]
    }
   ],
   "source": [
    "attrs = [\"N_PARTICIPANTS\", \"N_COURSES\", \"N_HOUSES\",\n",
    "         \"HOUSE_CAPACITY\", \"LEN_COURSE\"]\n",
    "for a in attrs:\n",
    "    print(f\"{a:16} → {getattr(config, a)}\")"
   ]
  },
  {
   "cell_type": "markdown",
   "id": "bbae945e",
   "metadata": {},
   "source": [
    "----\n",
    "\n",
    "# 4. Fitness & Genome <a class=\"anchor\" id=\"fitness\"></a>\n",
    "* `genome.py` defines a class that models the genotype of a Running Dinner solution.\n",
    "* `fitness.py` defines a class that implements the fitness function for a Running Dinner solution.\n",
    "\n",
    "----"
   ]
  },
  {
   "cell_type": "markdown",
   "id": "b475733b",
   "metadata": {},
   "source": [
    "## Class: `Genome`\n",
    "\n",
    "- **Role & Responsibility:**  \n",
    "  - Holds two core arrays:  \n",
    "    1. **`house_assignments`** (`int[N_HOUSES]`): which course each house hosts (or `-1` if unused).  \n",
    "    2. **`course_assignments`** (`int[N_COURSES × LEN_COURSE]`): which participants sit at each “seat” in each course.  \n",
    "  - Provides methods to **encode** these arrays into a 1-D chromosome, **decode** back, and query slices (e.g. “which seats belong to course _𝑐_”).  \n",
    "  - Encapsulates all low-level bit twiddling needed to shuffle, swap, or extract subblocks when applying genetic operators.  \n",
    "\n",
    "- **Instances of `Genome`:**  \n",
    "  - Are concrete **genotypes** (i.e. a specific assignment of hosts & guests).  \n",
    "  - Get passed into `SolutionRD` objects and get mutated, crossed over, and ultimately evaluated."
   ]
  },
  {
   "cell_type": "markdown",
   "id": "5cce3c38",
   "metadata": {},
   "source": [
    "## Class: `ResourceFitness`\n",
    "\n",
    "- **Role & Responsibility:**  \n",
    "  - Stores the **distance matrix** (participant-to-participant travel times) plus two weights, **α** (social) and **β** (logistic).  \n",
    "  - Defines an `.evaluate(genome: Genome) → float` method that:  \n",
    "    1. Computes a **social score**: number of unique meetings/N_PARTICIPANTS. We want to maximize the average number of unique people met per participant.  \n",
    "    2. Computes a **logistic score**: max distance/actual distance. We want to maximize the logistic score by minimizing the actual distance traveled by participants.  \n",
    "    3. Combines them as:  \n",
    "       $\n",
    "         \\text{fitness} = \\alpha \\times s_s \\;+\\; \\beta \\times s_l\n",
    "       $\n",
    "\n",
    "- **Instances of `ResourceFitness`:**  \n",
    "  - Are passed to each `SolutionRD` so that an individual can lazily compute and cache its `.fitness` by calling into this evaluator.\n",
    "\n",
    "---"
   ]
  },
  {
   "cell_type": "markdown",
   "id": "ca6c6a25",
   "metadata": {},
   "source": [
    "`SolutionRD` wraps a `Genome`, the fitness instance and the operator lists.  \n",
    "It evaluates lazily: `individual.fitness` triggers `ResourceFitness.evaluate`.\n",
    "\n",
    "Let's create an instance of SolutionRD:"
   ]
  },
  {
   "cell_type": "code",
   "execution_count": 5,
   "id": "594c896b",
   "metadata": {},
   "outputs": [
    {
     "name": "stdout",
     "output_type": "stream",
     "text": [
      "Encoded genome sample:\n",
      " [ 1  2  1  0  0 -1  2  3  1  8  6  9  7  4  5  2  0 -1 -1  0  8  6  4  1\n",
      "  5  2  3  9  7 -1 -1  1  2  7  8  0  4  6  3  5  9 -1 -1]\n",
      "Decoded genome sample:\n",
      " (array([ 1,  2,  1,  0,  0, -1,  2]), array([ 3,  1,  8,  6,  9,  7,  4,  5,  2,  0, -1, -1,  0,  8,  6,  4,  1,\n",
      "        5,  2,  3,  9,  7, -1, -1,  1,  2,  7,  8,  0,  4,  6,  3,  5,  9,\n",
      "       -1, -1]))\n",
      "Individual's house assignments:\n",
      " [ 1  2  1  0  0 -1  2]\n",
      "Individual's course assignments:\n",
      " [ 3  1  8  6  9  7  4  5  2  0 -1 -1  0  8  6  4  1  5  2  3  9  7 -1 -1\n",
      "  1  2  7  8  0  4  6  3  5  9 -1 -1]\n",
      "Individual's fitness: 2.3521302463578695\n"
     ]
    }
   ],
   "source": [
    "fitness = ResourceFitness(distance_matrix, alpha=1.0, beta=1.0)\n",
    "\n",
    "ind = SolutionRD(\n",
    "    fitness_instance = fitness,\n",
    "    genome_class     = Genome,\n",
    "    mutation_functions   = [social_mutation, logistic_mutation],\n",
    "    crossover_functions  = [social_crossover, logistic_crossover_2],\n",
    ")\n",
    "# Access the individual's fitness (lazy evaluation is triggered by the property)\n",
    "print(\"Encoded genome sample:\\n\", ind.genome.encode())\n",
    "print(\"Decoded genome sample:\\n\", ind.genome.decode())\n",
    "print(\"Individual's house assignments:\\n\", ind.genome.house_assignments)\n",
    "print(\"Individual's course assignments:\\n\", ind.genome.course_assignments)\n",
    "print(\"Individual's fitness:\", ind.fitness)"
   ]
  },
  {
   "cell_type": "markdown",
   "id": "fac3ff97",
   "metadata": {},
   "source": [
    "SolutionRD's genome is composed of two blocks: house_assignments and course_assignments.\n",
    "\n",
    "* **house assignments**: An array of length N_HOUSES in which the entry at index i denotes the course (0=starter, 1=main, 2=dessert, or –1 for an unused house) served at house i. \n",
    "\n",
    "    In the example above:\n",
    "        * house with index 0 will not host any meals\n",
    "        * house with index 1 will host main course\n",
    "        * house with index 2 will host appetizer\n",
    "        * house with index 3 will host main course\n",
    "        * house with index 4 will host appetizer\n",
    "        * house with index 5 will host dessert\n",
    "        * house with index 6 will host dessert\n",
    "\n",
    "\n",
    "* **course assignments**: An array of length N_COURSES × LEN_COURSE, i.e., N_COURSES consecutive blocks each of size LEN_COURSE. Each entry in that block is a participant index (0 to N_PARTICIPANTS–1), or -1 if that “seat” in the course is unused.\n",
    "\n",
    "    In the example above:\n",
    "        * the first 12 integers decode participants of the house hosting dessert one and two:\n",
    "        "
   ]
  },
  {
   "cell_type": "code",
   "execution_count": 6,
   "id": "0fa2d784",
   "metadata": {},
   "outputs": [
    {
     "name": "stdout",
     "output_type": "stream",
     "text": [
      "Loaded distance matrix shape: (10, 10)\n",
      "Distance matrix:\n",
      "        0      1       2       3       4       5       6       7       8  \\\n",
      "0  0.001  9.700  50.900  22.800  15.800  56.200  54.000   7.800  18.100   \n",
      "1    NaN  0.001  43.900  15.800  10.500  49.200  47.100   3.500  11.000   \n",
      "2    NaN    NaN   0.001  13.900  17.000   5.300   3.100  19.900   7.600   \n",
      "3    NaN    NaN     NaN   0.001  45.000  33.300  31.200  47.900  35.600   \n",
      "4    NaN    NaN     NaN     NaN   0.001  51.500  49.400  14.800  16.500   \n",
      "5    NaN    NaN     NaN     NaN     NaN   0.001  44.400  14.600  11.500   \n",
      "6    NaN    NaN     NaN     NaN     NaN     NaN   0.001  16.800   4.400   \n",
      "7    NaN    NaN     NaN     NaN     NaN     NaN     NaN   0.001  13.100   \n",
      "8    NaN    NaN     NaN     NaN     NaN     NaN     NaN     NaN   0.001   \n",
      "9    NaN    NaN     NaN     NaN     NaN     NaN     NaN     NaN     NaN   \n",
      "\n",
      "        9  \n",
      "0  18.300  \n",
      "1   7.900  \n",
      "2  10.500  \n",
      "3  38.600  \n",
      "4  18.800  \n",
      "5  13.800  \n",
      "6   7.400  \n",
      "7  10.200  \n",
      "8   6.300  \n",
      "9   0.001  \n"
     ]
    }
   ],
   "source": [
    "print(\"Loaded distance matrix shape:\", distance_matrix.shape)\n",
    "print(\"Distance matrix:\\n\", pd.DataFrame(distance_matrix))\n",
    "# Set the display format for floats\n",
    "# Display float with 1 decimal place\n",
    "pd.options.display.float_format = '{:0.1f}'.format"
   ]
  },
  {
   "cell_type": "markdown",
   "id": "e9dabcdc",
   "metadata": {},
   "source": [
    "The distance matrix above represents the distances between running dinner participants and their homes (if they are hosts). It is used in `ResourceFitness` to calculate logistic score."
   ]
  },
  {
   "cell_type": "markdown",
   "id": "8b950224",
   "metadata": {},
   "source": [
    "## Mutation Demonstrations\n",
    "\n",
    "Below we show each mutation in isolation. We start from the same seed-fixed individual, then apply each operator to see “before → after.”\n",
    "\n",
    "---"
   ]
  },
  {
   "cell_type": "markdown",
   "id": "2e887184",
   "metadata": {},
   "source": [
    "#### 1. Logistic Mutation 2 (pacman mutation)\n",
    "\n",
    "Explain this mutation here"
   ]
  },
  {
   "cell_type": "code",
   "execution_count": 7,
   "id": "eaa900a0",
   "metadata": {},
   "outputs": [],
   "source": [
    "np.random.seed(0)\n",
    "# build demo individual \n",
    "fitness  = ResourceFitness(distance_matrix, alpha=1.0, beta=1.0)\n",
    "base_ind = SolutionRD(fitness, Genome,\n",
    "                      mutation_functions=[logistic_mutation_2, logistic_mutation_2],\n",
    "                      crossover_functions=[])\n",
    "\n",
    "# deep copy the base individual\n",
    "mutant1 = copy.deepcopy(base_ind)"
   ]
  },
  {
   "cell_type": "code",
   "execution_count": 8,
   "id": "d2a08e2b",
   "metadata": {},
   "outputs": [
    {
     "name": "stdout",
     "output_type": "stream",
     "text": [
      "Base individual genome:\n",
      " [-1  1  0  1  0  2  2  3  2  1 -1  9  8  0  6  7  4 -1  5  1  7  9  0 -1\n",
      "  2  4  8  3 -1  5  6  7  8  3  4  5 -1 -1  9  6  2  0  1]\n",
      "Mutant individual genome:\n",
      " [-1  1  0  1  0  2  2  3  2  1 -1  9  8  0  6  7  4 -1  5  1  7  9  0 -1\n",
      "  2  4  8  3 -1  5  6  7  8  3  4  5 -1 -1  9  6  2  0  1]\n",
      "Base individual house assignments:\n",
      " [-1  1  0  1  0  2  2]\n",
      "Mutant individual house assignments:\n",
      " [-1  1  0  1  0  2  2]\n",
      "Base individual course assignments:\n",
      " [ 3  2  1 -1  9  8  0  6  7  4 -1  5  1  7  9  0 -1  2  4  8  3 -1  5  6\n",
      "  7  8  3  4  5 -1 -1  9  6  2  0  1]\n",
      "Mutant individual course assignments:\n",
      " [ 3  2  1 -1  9  8  0  6  7  4 -1  5  1  7  9  0 -1  2  4  8  3 -1  5  6\n",
      "  7  8  3  4  5 -1 -1  9  6  2  0  1]\n",
      "Base individual fitness: 2.6822895831125892\n",
      "Mutant individual fitness: 2.6822895831125892\n"
     ]
    }
   ],
   "source": [
    "# apply logistic_mutation_2\n",
    "mutant1.mutation()\n",
    "\n",
    "# display base_ind genome\n",
    "print(\"Base individual genome:\\n\", base_ind.genome.encode())\n",
    "print(\"Mutant individual genome:\\n\", mutant1.genome.encode())\n",
    "\n",
    "print(\"Base individual house assignments:\\n\", base_ind.genome.house_assignments)\n",
    "print(\"Mutant individual house assignments:\\n\", mutant1.genome.house_assignments)\n",
    " \n",
    "print(\"Base individual course assignments:\\n\", base_ind.genome.course_assignments) \n",
    "print(\"Mutant individual course assignments:\\n\", mutant1.genome.course_assignments)\n",
    "\n",
    "print(\"Base individual fitness:\", base_ind.fitness)\n",
    "print(\"Mutant individual fitness:\", mutant1.fitness)"
   ]
  },
  {
   "cell_type": "markdown",
   "id": "282a2819",
   "metadata": {},
   "source": [
    "Need fix. Doesnt change anything. "
   ]
  },
  {
   "cell_type": "markdown",
   "id": "17b6e36f",
   "metadata": {},
   "source": [
    "#### 2. Logistic Mutation \n",
    "\n",
    "Explain this mutation here"
   ]
  },
  {
   "cell_type": "code",
   "execution_count": 9,
   "id": "51ab4f24",
   "metadata": {},
   "outputs": [],
   "source": [
    "# build demo individual \n",
    "fitness  = ResourceFitness(distance_matrix, alpha=1.0, beta=1.0)\n",
    "base_ind = SolutionRD(fitness, Genome,\n",
    "                      mutation_functions=[logistic_mutation, logistic_mutation],\n",
    "                      crossover_functions=[])\n",
    "\n",
    "# deep copy the base individual\n",
    "mutant2 = copy.deepcopy(base_ind)"
   ]
  },
  {
   "cell_type": "code",
   "execution_count": 10,
   "id": "a8ed1ae5",
   "metadata": {},
   "outputs": [
    {
     "name": "stdout",
     "output_type": "stream",
     "text": [
      "Base individual genome:\n",
      " [ 2  1 -1  2  0  0  1  4  7  9  1  3  0  5  6  8  2 -1 -1  1  0  2  3  7\n",
      "  4  6  8  9  5 -1 -1  0  4  8  2  6  1  3  9  5  7 -1 -1]\n",
      "Mutant individual genome:\n",
      " [-1  1  2  2  0  0  1  4  7  9  1  3  0  5  6  8  2 -1 -1  1  0  2  3  7\n",
      "  4  6  8  9  5 -1 -1  0  4  8  2  6  1  3  9  5  7 -1 -1]\n",
      "Base individual house assignments:\n",
      " [ 2  1 -1  2  0  0  1]\n",
      "Mutant individual house assignments:\n",
      " [-1  1  2  2  0  0  1]\n",
      "Base individual course assignments:\n",
      " [ 4  7  9  1  3  0  5  6  8  2 -1 -1  1  0  2  3  7  4  6  8  9  5 -1 -1\n",
      "  0  4  8  2  6  1  3  9  5  7 -1 -1]\n",
      "Mutant individual course assignments:\n",
      " [ 4  7  9  1  3  0  5  6  8  2 -1 -1  1  0  2  3  7  4  6  8  9  5 -1 -1\n",
      "  0  4  8  2  6  1  3  9  5  7 -1 -1]\n",
      "Base individual fitness: 2.6439229053156676\n",
      "Mutant individual fitness: 2.6321668075824634\n"
     ]
    }
   ],
   "source": [
    "# apply logistic_mutation\n",
    "mutant2.mutation()\n",
    "\n",
    "# display base_ind genome\n",
    "print(\"Base individual genome:\\n\", base_ind.genome.encode())\n",
    "print(\"Mutant individual genome:\\n\", mutant2.genome.encode())\n",
    "\n",
    "print(\"Base individual house assignments:\\n\", base_ind.genome.house_assignments)\n",
    "print(\"Mutant individual house assignments:\\n\", mutant2.genome.house_assignments)\n",
    "\n",
    "print(\"Base individual course assignments:\\n\", base_ind.genome.course_assignments)\n",
    "print(\"Mutant individual course assignments:\\n\", mutant2.genome.course_assignments)\n",
    "\n",
    "print(\"Base individual fitness:\", base_ind.fitness)\n",
    "print(\"Mutant individual fitness:\", mutant2.fitness)"
   ]
  },
  {
   "cell_type": "markdown",
   "id": "c480b324",
   "metadata": {},
   "source": [
    "Works. In house assignment segment houses with indices 0 and 2 swapped course assignment."
   ]
  },
  {
   "cell_type": "markdown",
   "id": "6993f0d4",
   "metadata": {},
   "source": [
    "#### 3. Social Mutation \n",
    "\n",
    "Explain this mutation here"
   ]
  },
  {
   "cell_type": "code",
   "execution_count": 11,
   "id": "25ce8fe4",
   "metadata": {},
   "outputs": [],
   "source": [
    "# build demo individual \n",
    "fitness  = ResourceFitness(distance_matrix, alpha=1.0, beta=1.0)\n",
    "base_ind = SolutionRD(fitness, Genome,\n",
    "                      mutation_functions=[social_mutation, social_mutation],\n",
    "                      crossover_functions=[])\n",
    "\n",
    "# deep copy the base individual\n",
    "mutant3 = copy.deepcopy(base_ind)"
   ]
  },
  {
   "cell_type": "code",
   "execution_count": 12,
   "id": "9145bdcd",
   "metadata": {},
   "outputs": [
    {
     "name": "stdout",
     "output_type": "stream",
     "text": [
      "Base individual genome:\n",
      " [ 1  2  2  0 -1  0  1  3  7  9  1  6  2  5  4  8  0 -1 -1  0  8  2  3  1\n",
      "  9  6  5  4  7 -1 -1  1  9  6  5  3  0  2  8  4  7 -1 -1]\n",
      "Mutant individual genome:\n",
      " [ 1  2  2  0 -1  0  1  3  7  9  1  6  2  5 -1  8  0 -1  4  0  8  2  3  1\n",
      "  9  6  5  4  7 -1 -1  1  9  6  5  3  0  2  8  4  7 -1 -1]\n",
      "Base individual house assignments:\n",
      " [ 1  2  2  0 -1  0  1]\n",
      "Mutant individual house assignments:\n",
      " [ 1  2  2  0 -1  0  1]\n",
      "Base individual course assignments:\n",
      " [ 3  7  9  1  6  2  5  4  8  0 -1 -1  0  8  2  3  1  9  6  5  4  7 -1 -1\n",
      "  1  9  6  5  3  0  2  8  4  7 -1 -1]\n",
      "Mutant individual course assignments:\n",
      " [ 3  7  9  1  6  2  5 -1  8  0 -1  4  0  8  2  3  1  9  6  5  4  7 -1 -1\n",
      "  1  9  6  5  3  0  2  8  4  7 -1 -1]\n",
      "Base individual fitness: 3.095500474256785\n",
      "Mutant individual fitness: 2.995500474256785\n"
     ]
    }
   ],
   "source": [
    "# apply social_mutation\n",
    "mutant3.mutation()\n",
    "\n",
    "# display base_ind genome\n",
    "print(\"Base individual genome:\\n\", base_ind.genome.encode())\n",
    "print(\"Mutant individual genome:\\n\", mutant3.genome.encode())\n",
    "\n",
    "print(\"Base individual house assignments:\\n\", base_ind.genome.house_assignments)\n",
    "print(\"Mutant individual house assignments:\\n\", mutant3.genome.house_assignments)\n",
    "\n",
    "print(\"Base individual course assignments:\\n\", base_ind.genome.course_assignments)\n",
    "print(\"Mutant individual course assignments:\\n\", mutant3.genome.course_assignments)\n",
    "\n",
    "print(\"Base individual fitness:\", base_ind.fitness)\n",
    "print(\"Mutant individual fitness:\", mutant3.fitness)"
   ]
  },
  {
   "cell_type": "markdown",
   "id": "746ce491",
   "metadata": {},
   "source": [
    "Need fix. The only swap was within course 0, swapping seat 7 with 11 so within the same house."
   ]
  },
  {
   "cell_type": "markdown",
   "id": "527d4651",
   "metadata": {},
   "source": [
    "## Crossover Demonstrations\n",
    "\n",
    "Below we show each crossover in isolation. We start from the same seed-fixed individual, then apply each operator to see “before → after.”\n",
    "\n",
    "---"
   ]
  },
  {
   "cell_type": "markdown",
   "id": "0f32456a",
   "metadata": {},
   "source": [
    "#### 1. Full Crossover \n",
    "\n",
    "Explain this mutation here"
   ]
  },
  {
   "cell_type": "code",
   "execution_count": 13,
   "id": "49a3b333",
   "metadata": {},
   "outputs": [
    {
     "name": "stdout",
     "output_type": "stream",
     "text": [
      "Parent1 house assignments:\n",
      " [-1  1  0  1  0  2  2]\n",
      "Parent2 house assignments:\n",
      " [ 2  1 -1  2  0  0  1]\n",
      "Parent1 course assignments:\n",
      " [ 3  2  1 -1  9  8  0  6  7  4 -1  5  1  0  9  7 -1  2  4  8  5  6  3 -1\n",
      "  7  8  3  4  5 -1 -1  9  6  2  0  1]\n",
      "Parent2 course assignments:\n",
      " [ 1  9  4 -1  2  8  6  3  7  5 -1  0  1  5  3  9  4 -1  6  7  8  2  0 -1\n",
      "  0 -1  4 -1  9  6  7  2  5  8  1  3]\n",
      "Parent1 fitness: 2.8822895831125894\n",
      "Parent2 fitness: 2.700332223545096\n"
     ]
    }
   ],
   "source": [
    "np.random.seed(0)\n",
    "# build demo individual \n",
    "fitness  = ResourceFitness(distance_matrix, alpha=1.0, beta=1.0)\n",
    "parent1 = SolutionRD(fitness, Genome, [], [full_crossover, full_crossover])\n",
    "parent2 = SolutionRD(fitness, Genome, [], [full_crossover, full_crossover])\n",
    "\n",
    "print(\"Parent1 house assignments:\\n\", parent1.genome.house_assignments)\n",
    "print(\"Parent2 house assignments:\\n\", parent2.genome.house_assignments)\n",
    "print(\"Parent1 course assignments:\\n\", parent1.genome.course_assignments)\n",
    "print(\"Parent2 course assignments:\\n\", parent2.genome.course_assignments)\n",
    "print(\"Parent1 fitness:\", parent1.fitness)\n",
    "print(\"Parent2 fitness:\", parent2.fitness)"
   ]
  },
  {
   "cell_type": "code",
   "execution_count": 14,
   "id": "6d78f1cc",
   "metadata": {},
   "outputs": [
    {
     "name": "stdout",
     "output_type": "stream",
     "text": [
      "Child1 house assignments:\n",
      " [ 2  1 -1  2  0  0  1]\n",
      "Child2 house assignments:\n",
      " [-1  1  0  1  0  2  2]\n",
      "Child1 course assignments:\n",
      " [ 3  2  1  4  9  8  0  6  7  4 -1  5  1  0  9  7 -1  2  4  8  5  6  3 -1\n",
      "  7  8  3  4  5  0  3  9  6  2  0  1]\n",
      "Child2 course assignments:\n",
      " [ 1  9  4 -1  2  8  6  3  7  5  4  0  1  5  3  9  4 -1  6  7  8  2  0  3\n",
      "  0  5  4 -1  9  6  7  2  6  8  1  3]\n",
      "Child1 fitness: 3.386524645370848\n",
      "Child2 fitness: 3.0732783419544276\n"
     ]
    }
   ],
   "source": [
    "# apply crossover\n",
    "child1, child2 = parent1.crossover(parent2)\n",
    "\n",
    "# Display the child1 and child2 genomes after full crossover\n",
    "print(\"Child1 house assignments:\\n\", child1.genome.house_assignments)\n",
    "print(\"Child2 house assignments:\\n\", child2.genome.house_assignments)\n",
    "print(\"Child1 course assignments:\\n\", child1.genome.course_assignments)\n",
    "print(\"Child2 course assignments:\\n\", child2.genome.course_assignments)\n",
    "print(\"Child1 fitness:\", child1.fitness)\n",
    "print(\"Child2 fitness:\", child2.fitness)"
   ]
  },
  {
   "cell_type": "markdown",
   "id": "eb86f02e",
   "metadata": {},
   "source": [
    "Crossover applied but need to use fix_course_assignments() inside full_crossover"
   ]
  },
  {
   "cell_type": "markdown",
   "id": "2a9c6f16",
   "metadata": {},
   "source": [
    "#### 2. Social Crossover \n",
    "\n",
    "Explain this mutation here"
   ]
  },
  {
   "cell_type": "code",
   "execution_count": 15,
   "id": "cbbdd46e",
   "metadata": {},
   "outputs": [
    {
     "name": "stdout",
     "output_type": "stream",
     "text": [
      "Parent1 house assignments:\n",
      " [-1  1  0  1  0  2  2]\n",
      "Parent2 house assignments:\n",
      " [ 2  1 -1  2  0  0  1]\n",
      "Parent1 course assignments:\n",
      " [ 3  2  1 -1  9  8  0  6  7  4 -1  5  1  0  9  4 -1  2  6  8  3  7  5 -1\n",
      "  7  8  3  4  5 -1 -1  9  6  2  0  1]\n",
      "Parent2 course assignments:\n",
      " [ 1  9  4 -1  2  8  6  3  7  5 -1  0  1  5  3  9  4 -1  6  7  8  2  0 -1\n",
      "  0  6  4 -1  9  7  1  2  5  8  3 -1]\n",
      "Parent1 fitness: 2.6822895831125892\n",
      "Parent2 fitness: 2.295048137324995\n"
     ]
    }
   ],
   "source": [
    "np.random.seed(0)\n",
    "# build demo individual \n",
    "fitness  = ResourceFitness(distance_matrix, alpha=1.0, beta=1.0)\n",
    "parent1 = SolutionRD(fitness, Genome, [], [social_crossover, social_crossover])\n",
    "parent2 = SolutionRD(fitness, Genome, [], [social_crossover, social_crossover])\n",
    "\n",
    "print(\"Parent1 house assignments:\\n\", parent1.genome.house_assignments)\n",
    "print(\"Parent2 house assignments:\\n\", parent2.genome.house_assignments)\n",
    "print(\"Parent1 course assignments:\\n\", parent1.genome.course_assignments)\n",
    "print(\"Parent2 course assignments:\\n\", parent2.genome.course_assignments)\n",
    "print(\"Parent1 fitness:\", parent1.fitness)\n",
    "print(\"Parent2 fitness:\", parent2.fitness)"
   ]
  },
  {
   "cell_type": "code",
   "execution_count": 16,
   "id": "ec560351",
   "metadata": {},
   "outputs": [
    {
     "name": "stdout",
     "output_type": "stream",
     "text": [
      "Child3 house assignments:\n",
      " [-1  1  0  1  0  2  2]\n",
      "Child4 house assignments:\n",
      " [ 2  1 -1  2  0  0  1]\n",
      "Child3 course assignments:\n",
      " [6 4 1 2 8 0 5 7 3 9 1 7 3 9 4 6 2 5 0 8 4 1 2 0 6 5 3 8 7 9]\n",
      "Child4 course assignments:\n",
      " [9 4 1 0 8 3 5 7 6 2 1 9 7 2 4 6 0 3 5 8 7 2 9 3 8 6 1 5 0 4]\n"
     ]
    },
    {
     "ename": "IndexError",
     "evalue": "only integers, slices (`:`), ellipsis (`...`), numpy.newaxis (`None`) and integer or boolean arrays are valid indices",
     "output_type": "error",
     "traceback": [
      "\u001b[31m---------------------------------------------------------------------------\u001b[39m",
      "\u001b[31mIndexError\u001b[39m                                Traceback (most recent call last)",
      "\u001b[36mCell\u001b[39m\u001b[36m \u001b[39m\u001b[32mIn[16]\u001b[39m\u001b[32m, line 9\u001b[39m\n\u001b[32m      7\u001b[39m \u001b[38;5;28mprint\u001b[39m(\u001b[33m\"\u001b[39m\u001b[33mChild3 course assignments:\u001b[39m\u001b[38;5;130;01m\\n\u001b[39;00m\u001b[33m\"\u001b[39m, child3.genome.course_assignments)\n\u001b[32m      8\u001b[39m \u001b[38;5;28mprint\u001b[39m(\u001b[33m\"\u001b[39m\u001b[33mChild4 course assignments:\u001b[39m\u001b[38;5;130;01m\\n\u001b[39;00m\u001b[33m\"\u001b[39m, child4.genome.course_assignments)\n\u001b[32m----> \u001b[39m\u001b[32m9\u001b[39m \u001b[38;5;28mprint\u001b[39m(\u001b[33m\"\u001b[39m\u001b[33mChild3 fitness:\u001b[39m\u001b[33m\"\u001b[39m, \u001b[43mchild3\u001b[49m\u001b[43m.\u001b[49m\u001b[43mfitness\u001b[49m)\n\u001b[32m     10\u001b[39m \u001b[38;5;28mprint\u001b[39m(\u001b[33m\"\u001b[39m\u001b[33mChild4 fitness:\u001b[39m\u001b[33m\"\u001b[39m, child4.fitness)\n",
      "\u001b[36mFile \u001b[39m\u001b[32m~/Gen_Alg1_RunningDinner/Genetic_algorithm/base_individual.py:50\u001b[39m, in \u001b[36mIndividual.fitness\u001b[39m\u001b[34m(self)\u001b[39m\n\u001b[32m     47\u001b[39m \u001b[38;5;129m@property\u001b[39m\n\u001b[32m     48\u001b[39m \u001b[38;5;28;01mdef\u001b[39;00m\u001b[38;5;250m \u001b[39m\u001b[34mfitness\u001b[39m(\u001b[38;5;28mself\u001b[39m):\n\u001b[32m     49\u001b[39m     \u001b[38;5;28;01mif\u001b[39;00m \u001b[38;5;28mself\u001b[39m._fitness \u001b[38;5;129;01mis\u001b[39;00m \u001b[38;5;28;01mNone\u001b[39;00m:\n\u001b[32m---> \u001b[39m\u001b[32m50\u001b[39m         \u001b[38;5;28mself\u001b[39m._fitness = \u001b[38;5;28;43mself\u001b[39;49m\u001b[43m.\u001b[49m\u001b[43mcalculate_fitness\u001b[49m\u001b[43m(\u001b[49m\u001b[43m)\u001b[49m  \u001b[38;5;66;03m# Only calculate when needed but once it is calculated it is stored\u001b[39;00m\n\u001b[32m     51\u001b[39m     \u001b[38;5;28;01mreturn\u001b[39;00m \u001b[38;5;28mself\u001b[39m._fitness\n",
      "\u001b[36mFile \u001b[39m\u001b[32m~/Gen_Alg1_RunningDinner/Genetic_algorithm/solution_rd.py:58\u001b[39m, in \u001b[36mSolutionRD.calculate_fitness\u001b[39m\u001b[34m(self)\u001b[39m\n\u001b[32m     57\u001b[39m \u001b[38;5;28;01mdef\u001b[39;00m\u001b[38;5;250m \u001b[39m\u001b[34mcalculate_fitness\u001b[39m(\u001b[38;5;28mself\u001b[39m):\n\u001b[32m---> \u001b[39m\u001b[32m58\u001b[39m     result = \u001b[38;5;28;43mself\u001b[39;49m\u001b[43m.\u001b[49m\u001b[43mfitness_instance\u001b[49m\u001b[43m.\u001b[49m\u001b[43mevaluate\u001b[49m\u001b[43m(\u001b[49m\u001b[38;5;28;43mself\u001b[39;49m\u001b[43m.\u001b[49m\u001b[43mgenome\u001b[49m\u001b[43m)\u001b[49m\n\u001b[32m     59\u001b[39m     \u001b[38;5;28;01mreturn\u001b[39;00m result\n",
      "\u001b[36mFile \u001b[39m\u001b[32m~/Gen_Alg1_RunningDinner/Genetic_algorithm/fitness.py:32\u001b[39m, in \u001b[36mResourceFitness.evaluate\u001b[39m\u001b[34m(self, genome)\u001b[39m\n\u001b[32m     30\u001b[39m \u001b[38;5;28;01mdef\u001b[39;00m\u001b[38;5;250m \u001b[39m\u001b[34mevaluate\u001b[39m(\u001b[38;5;28mself\u001b[39m, genome):\n\u001b[32m---> \u001b[39m\u001b[32m32\u001b[39m     social_score = \u001b[38;5;28;43mself\u001b[39;49m\u001b[43m.\u001b[49m\u001b[43m_calculate_social_fitness\u001b[49m\u001b[43m(\u001b[49m\u001b[43mgenome\u001b[49m\u001b[43m)\u001b[49m\n\u001b[32m     33\u001b[39m     logistic_score = \u001b[38;5;28mself\u001b[39m._calculate_logistic_fitness(genome)\n\u001b[32m     34\u001b[39m     \u001b[38;5;28mself\u001b[39m.number_of_calls += \u001b[32m1\u001b[39m\n",
      "\u001b[36mFile \u001b[39m\u001b[32m~/Gen_Alg1_RunningDinner/Genetic_algorithm/fitness.py:84\u001b[39m, in \u001b[36mResourceFitness._calculate_social_fitness\u001b[39m\u001b[34m(self, genome)\u001b[39m\n\u001b[32m     67\u001b[39m \u001b[38;5;28;01mdef\u001b[39;00m\u001b[38;5;250m \u001b[39m\u001b[34m_calculate_social_fitness\u001b[39m(\u001b[38;5;28mself\u001b[39m,genome):\n\u001b[32m     68\u001b[39m \u001b[38;5;250m    \u001b[39m\u001b[33;03m\"\"\"\u001b[39;00m\n\u001b[32m     69\u001b[39m \u001b[33;03m    Calculate the social fitness of the genome.\u001b[39;00m\n\u001b[32m     70\u001b[39m \u001b[33;03m    The social fitness is calculated as the total number of meetings between participants,\u001b[39;00m\n\u001b[32m   (...)\u001b[39m\u001b[32m     82\u001b[39m \u001b[33;03m        float: The average number of meetings per participant.\u001b[39;00m\n\u001b[32m     83\u001b[39m \u001b[33;03m    \"\"\"\u001b[39;00m\n\u001b[32m---> \u001b[39m\u001b[32m84\u001b[39m     total_meetings = np.nansum(\u001b[38;5;28;43mself\u001b[39;49m\u001b[43m.\u001b[49m\u001b[43mpartecipation_matrix\u001b[49m\u001b[43m(\u001b[49m\u001b[43mgenome\u001b[49m\u001b[43m)\u001b[49m)\n\u001b[32m     85\u001b[39m     \u001b[38;5;28;01mreturn\u001b[39;00m total_meetings/config.N_PARTICIPANTS\n",
      "\u001b[36mFile \u001b[39m\u001b[32m~/Gen_Alg1_RunningDinner/Genetic_algorithm/fitness.py:62\u001b[39m, in \u001b[36mResourceFitness.partecipation_matrix\u001b[39m\u001b[34m(self, genome)\u001b[39m\n\u001b[32m     60\u001b[39m             \u001b[38;5;28;01mfor\u001b[39;00m k \u001b[38;5;129;01min\u001b[39;00m \u001b[38;5;28mrange\u001b[39m(j+\u001b[32m1\u001b[39m, \u001b[38;5;28mlen\u001b[39m(house)):\n\u001b[32m     61\u001b[39m                 \u001b[38;5;28;01mif\u001b[39;00m house[k] != -\u001b[32m1\u001b[39m \u001b[38;5;129;01mand\u001b[39;00m house[j] > house[k]:\n\u001b[32m---> \u001b[39m\u001b[32m62\u001b[39m                     \u001b[43mpart_mat\u001b[49m\u001b[43m[\u001b[49m\u001b[43mhouse\u001b[49m\u001b[43m[\u001b[49m\u001b[43mj\u001b[49m\u001b[43m]\u001b[49m\u001b[43m]\u001b[49m[house[k]] = \u001b[32m1\u001b[39m\n\u001b[32m     65\u001b[39m \u001b[38;5;28;01mreturn\u001b[39;00m part_mat\n",
      "\u001b[31mIndexError\u001b[39m: only integers, slices (`:`), ellipsis (`...`), numpy.newaxis (`None`) and integer or boolean arrays are valid indices"
     ]
    }
   ],
   "source": [
    "# apply social crossover\n",
    "child3, child4 = parent1.crossover(parent2)\n",
    "\n",
    "# display child3 and child4 genome after social crossover\n",
    "print(\"Child3 house assignments:\\n\", child3.genome.house_assignments)\n",
    "print(\"Child4 house assignments:\\n\", child4.genome.house_assignments)\n",
    "print(\"Child3 course assignments:\\n\", child3.genome.course_assignments)\n",
    "print(\"Child4 course assignments:\\n\", child4.genome.course_assignments)\n",
    "print(\"Child3 fitness:\", child3.fitness)\n",
    "print(\"Child4 fitness:\", child4.fitness)"
   ]
  },
  {
   "cell_type": "markdown",
   "id": "975c1e10",
   "metadata": {},
   "source": [
    "#### 3. Logistic Crossover \n",
    "\n",
    "Explain this mutation here"
   ]
  },
  {
   "cell_type": "code",
   "execution_count": 17,
   "id": "5d0b6e2e",
   "metadata": {},
   "outputs": [
    {
     "name": "stdout",
     "output_type": "stream",
     "text": [
      "Parent1 house assignments:\n",
      " [-1  1  0  1  0  2  2]\n",
      "Parent2 house assignments:\n",
      " [ 2  1 -1  2  0  0  1]\n",
      "Parent1 course assignments:\n",
      " [ 3  2  1 -1  9  8  0  6  7  4 -1  5  1  8  9  0 -1  2  4  6  3  7  5 -1\n",
      "  7  8  3  4  5 -1 -1  9  6  2  0  1]\n",
      "Parent2 course assignments:\n",
      " [ 4  7  1  9  6  2  5  0  3  8 -1 -1  1  3  0  9  4  5  6  8  7  2 -1 -1\n",
      "  0  6  1  5  8  4  3  7  9  2 -1 -1]\n",
      "Parent1 fitness: 2.670405962389403\n",
      "Parent2 fitness: 2.4046111538564228\n"
     ]
    }
   ],
   "source": [
    "np.random.seed(0)\n",
    "# build demo individual \n",
    "fitness  = ResourceFitness(distance_matrix, alpha=1.0, beta=1.0)\n",
    "parent1 = SolutionRD(fitness, Genome, [], [logistic_crossover_2, logistic_crossover_2])\n",
    "parent2 = SolutionRD(fitness, Genome, [], [logistic_crossover_2, logistic_crossover_2])\n",
    "\n",
    "print(\"Parent1 house assignments:\\n\", parent1.genome.house_assignments)\n",
    "print(\"Parent2 house assignments:\\n\", parent2.genome.house_assignments)\n",
    "print(\"Parent1 course assignments:\\n\", parent1.genome.course_assignments)\n",
    "print(\"Parent2 course assignments:\\n\", parent2.genome.course_assignments)\n",
    "print(\"Parent1 fitness:\", parent1.fitness)\n",
    "print(\"Parent2 fitness:\", parent2.fitness)"
   ]
  },
  {
   "cell_type": "code",
   "execution_count": 18,
   "id": "aa901ee9",
   "metadata": {},
   "outputs": [
    {
     "name": "stdout",
     "output_type": "stream",
     "text": [
      "Child5 house assignments:\n",
      " [ 2  1  0  1  0 -1  2]\n",
      "Child6 house assignments:\n",
      " [ 0  1  2  2  0 -1  1]\n",
      "Child5 course assignments:\n",
      " [ 3  2  1 -1  9  8  0  6  7  4 -1  5  1  8  9  0 -1  2  4  6  3  7  5 -1\n",
      "  7  8  3  4  5  0 -1  9  6  2  0  1]\n",
      "Child6 course assignments:\n",
      " [ 4  0  1  9  6  2  5  0  3  8  4 -1  1  3  0  9  4  5  6  8  7  2 -1 -1\n",
      "  0  6  1  5  2  4  3  7  9  2 -1 -1]\n",
      "Child5 fitness: 3.0936813470847855\n",
      "Child6 fitness: 2.427745200938537\n"
     ]
    }
   ],
   "source": [
    "# Apply logistcic crossover\n",
    "child5, child6 = parent1.crossover(parent2)\n",
    "\n",
    "# display child5 and child 6 genomes after logistic crossover\n",
    "print(\"Child5 house assignments:\\n\", child5.genome.house_assignments)\n",
    "print(\"Child6 house assignments:\\n\", child6.genome.house_assignments)\n",
    "print(\"Child5 course assignments:\\n\", child5.genome.course_assignments)\n",
    "print(\"Child6 course assignments:\\n\", child6.genome.course_assignments)\n",
    "print(\"Child5 fitness:\", child5.fitness)\n",
    "print(\"Child6 fitness:\", child6.fitness)"
   ]
  },
  {
   "cell_type": "markdown",
   "id": "b0fc3f89",
   "metadata": {},
   "source": [
    "## Selection Demonstration (Maximization)\n",
    "\n",
    "We create a population of 10 `SolutionRD` individuals (with random distance matrix) and then pick the **highest-fitness** survivors using:\n",
    "\n",
    "- **Tournament Selection** (k‐way): randomly sample \\(k\\) individuals and choose the one with the best fitness.  \n",
    "- **Rank Selection**: sort individuals by fitness (highest→lowest), assign selection probabilities proportionally to rank, and draw one.\n",
    "\n",
    "Both return the `SolutionRD` instance with the **maximum** `.fitness` value."
   ]
  },
  {
   "cell_type": "code",
   "execution_count": 19,
   "id": "24f11b5b",
   "metadata": {},
   "outputs": [
    {
     "name": "stdout",
     "output_type": "stream",
     "text": [
      "Starting population fitnesses:\n",
      "   0: 3.36\n",
      "   1: 2.64\n",
      "   2: 2.42\n",
      "   3: 2.51\n",
      "   4: 2.26\n",
      "   5: 2.25\n",
      "   6: 2.34\n",
      "   7: 2.44\n",
      "   8: 2.49\n",
      "   9: 2.38\n",
      "Tournament winner fitness: 2.642711794969028\n",
      "Rank-selection winner fitness: 2.376766247082728\n"
     ]
    }
   ],
   "source": [
    "random.seed(0)\n",
    "# Generate a population of 10 individuals\n",
    "pop = [\n",
    "    SolutionRD(\n",
    "        fitness_instance   = fitness,\n",
    "        genome_class       = Genome,\n",
    "        mutation_functions = [social_mutation, logistic_mutation],\n",
    "        crossover_functions= [social_crossover, logistic_crossover_2]\n",
    "    )\n",
    "    for _ in range(10)\n",
    "]\n",
    "\n",
    "# Tournament selection (k=3), picks the individual with highest fitness among 3 random draws\n",
    "winner_tournament = tournament_selection(pop, k=3)\n",
    "\n",
    "# Rank selection, assigns probabilities by descending fitness rank and selects one\n",
    "winner_rank  = rank_selection(pop)\n",
    "\n",
    "# 5) report\n",
    "print(\"Starting population fitnesses:\")\n",
    "for i, ind in enumerate(pop):\n",
    "    print(f\"  {i:2}: {ind.fitness:.2f}\")\n",
    "print(\"Tournament winner fitness:\", winner_tournament.fitness)\n",
    "print(\"Rank-selection winner fitness:\", winner_rank.fitness)"
   ]
  },
  {
   "cell_type": "markdown",
   "id": "9de9a5fd",
   "metadata": {},
   "source": [
    "## Experiment: Selection Pressure vs. Average Winner Fitness\n",
    "\n",
    "We will run 100 independent trials and plot:\n",
    "\n",
    "**Tournament Selection**: influence of tournament size `k` (with fixed population size).  \n",
    "\n"
   ]
  },
  {
   "cell_type": "code",
   "execution_count": 20,
   "id": "806a95b5",
   "metadata": {},
   "outputs": [],
   "source": [
    "data_matrix_df = pd.read_csv('data/distance_matrix_official.csv', index_col=0)\n",
    "data_matrix_np = data_matrix_df.to_numpy()\n",
    "\n",
    "# a helper function to generate population of different sizes\n",
    "def gen_pop(pop_size, genome_class, fitness_instance, mutation_functions, crossover_functions):\n",
    "    return [\n",
    "        SolutionRD(\n",
    "            fitness_instance   = fitness_instance,\n",
    "            genome_class       = genome_class,\n",
    "            mutation_functions = mutation_functions,\n",
    "            crossover_functions= crossover_functions\n",
    "        )\n",
    "        for _ in range(pop_size)\n",
    "    ]"
   ]
  },
  {
   "cell_type": "code",
   "execution_count": null,
   "id": "d94ab1d6",
   "metadata": {},
   "outputs": [],
   "source": [
    "# 1) Tournament-selection: vary k, fix pop_size\n",
    "pop_size = 20\n",
    "k_values = [2, 4, 6, 8, 10, 12, 16, 20]\n",
    "avg_fitness_tourn = []\n",
    "for k in k_values:\n",
    "    favgs = []\n",
    "    for _ in range(100):\n",
    "        pop = gen_pop(pop_size, Genome, fitness, [social_mutation, logistic_mutation], [social_crossover, logistic_crossover_2])\n",
    "        winner = tournament_selection(pop, k=k)\n",
    "        favgs.append(winner.fitness)\n",
    "    avg_fitness_tourn.append(np.mean(favgs))\n",
    "\n",
    "# Plot tournament results\n",
    "plt.figure()\n",
    "plt.plot(k_values, avg_fitness_tourn, marker='o')\n",
    "plt.xlabel(\"Tournament size (k)\")\n",
    "plt.ylabel(\"Average winner fitness\")\n",
    "plt.title(\"Tournament Selection: Effect of k\")\n",
    "plt.grid(True)\n",
    "plt.show()"
   ]
  },
  {
   "cell_type": "markdown",
   "id": "fbec61f2",
   "metadata": {},
   "source": [
    "In the next notebooks we will:\n",
    "\n",
    "* wrap the above in an evolutionary loop,\n",
    "* grid-search parameters (see *Grid_search.ipynb*)."
   ]
  }
 ],
 "metadata": {
  "kernelspec": {
   "display_name": "Cifo_RunningDinner",
   "language": "python",
   "name": "python3"
  },
  "language_info": {
   "codemirror_mode": {
    "name": "ipython",
    "version": 3
   },
   "file_extension": ".py",
   "mimetype": "text/x-python",
   "name": "python",
   "nbconvert_exporter": "python",
   "pygments_lexer": "ipython3",
   "version": "3.12.10"
  }
 },
 "nbformat": 4,
 "nbformat_minor": 5
}
